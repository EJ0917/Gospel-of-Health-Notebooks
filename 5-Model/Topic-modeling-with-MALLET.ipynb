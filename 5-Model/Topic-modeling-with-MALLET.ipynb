{
 "cells": [
  {
   "cell_type": "markdown",
   "metadata": {},
   "source": [
    "Operating details:\n",
    "\n",
    "+ Mallet loads entire corpus into memory, requiring a larger machine. These were run on a Digital Ocean server\n",
    "+ Run via the commandline using a bash script. Copied here for ease of sharing.\n"
   ]
  },
  {
   "cell_type": "markdown",
   "metadata": {},
   "source": [
    "## Create corpus files for MALLET\n",
    "\n",
    "+ Main corpus and holdout corpus (docs with low token count and high error rates)"
   ]
  },
  {
   "cell_type": "code",
   "execution_count": null,
   "metadata": {},
   "outputs": [],
   "source": [
    "%%bash\n",
    "#!/bin/bash\n",
    "\n",
    "# https://stackoverflow.com/questions/41218622/mallet-topic-inference\n",
    "# http://mallet.cs.umass.edu/topics.php\n",
    "\n",
    "corpus=\"test_300_noMax\"\n",
    "sample=\"test_300_noMax_Sample\"\n",
    "holdout=\"test_300_noMax_Holdout\"\n",
    "seed=$RANDOM\n",
    "\n",
    "# Import sample corpus\n",
    "~/lib/mallet/bin/mallet import-file --input data/$sample.txt  --output data/output/$corpus.Sample.$seed.mallet --keep-sequence --stoplist-file data/finalCorpus_filterList.txt\n",
    "\n",
    "echo \"Sample corpus imported\"\n",
    "\n",
    "# Import holdout corpus\n",
    "~/lib/mallet/bin/mallet import-file --input data/$holdout.txt --output data/output/$corpus.Holdout.$seed.mallet --use-pipe-from data/output/$corpus.Sample.$seed.mallet --keep-sequence --stoplist-file data/finalCorpus_filterList.txt\n"
   ]
  },
  {
   "cell_type": "markdown",
   "metadata": {},
   "source": [
    "## Create and apply topic model\n",
    "\n",
    "+ Train model on main corpus\n",
    "+ Use model to infer topics on holdout documents"
   ]
  },
  {
   "cell_type": "code",
   "execution_count": null,
   "metadata": {},
   "outputs": [],
   "source": [
    "%%bash\n",
    "#!/bin/bash\n",
    "\n",
    "# https://stackoverflow.com/questions/41218622/mallet-topic-inference\n",
    "# http://mallet.cs.umass.edu/topics.php\n",
    "\n",
    "corpus=\"test_300_noMax\"\n",
    "trainingSeed=18040\n",
    "seed=$RANDOM\n",
    "topics=250\n",
    "\n",
    "\n",
    "# Train model on Sample\n",
    "~/lib/mallet/bin/mallet train-topics --input data/output/$corpus.Sample.$trainingSeed.mallet --num-topics $topics --optimize-interval 20 --optimize-burn-in 50 --random-seed $seed --num-threads 8 --output-state data/output/$corpus.$seed.t.$topics.state.gz --output-model data/output/$corpus.$seed.t.$topics.model --output-doc-topics data/output/$corpus.$seed.t.$topics.docTopics.txt --output-topic-keys data/output/$corpus.$seed.t.$topics.topicKeys.txt --diagnostics-file data/output/$corpus.$seed.t.$topics.diagnostics.xml --inferencer-filename data/output/$corpus.Sample.$seed.t.$topics.inferencer\n",
    "\n",
    "echo \"Model trained\"\n",
    "\n",
    "# Infer topics on holdout documents\n",
    "~/lib/mallet/bin/mallet infer-topics --inferencer data/output/$corpus.Sample.$seed.t.$topics.inferencer --input data/output/$corpus.Holdout.$trainingSeed.mallet --output-doc-topics data/output/$corpus.Holdout.$seed.t.$topics.docTopics.txt --random-seed $seed \n",
    "\n",
    "echo \"Holdouts classified\" \n"
   ]
  }
 ],
 "metadata": {
  "kernelspec": {
   "display_name": "Python [conda env:dissertation2]",
   "language": "python",
   "name": "conda-env-dissertation2-py"
  },
  "language_info": {
   "codemirror_mode": {
    "name": "ipython",
    "version": 3
   },
   "file_extension": ".py",
   "mimetype": "text/x-python",
   "name": "python",
   "nbconvert_exporter": "python",
   "pygments_lexer": "ipython3",
   "version": "3.5.2"
  }
 },
 "nbformat": 4,
 "nbformat_minor": 2
}
