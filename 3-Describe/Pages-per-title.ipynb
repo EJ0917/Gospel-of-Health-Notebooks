{
 "cells": [
  {
   "cell_type": "code",
   "execution_count": 17,
   "metadata": {
    "ExecuteTime": {
     "end_time": "2017-03-24T15:20:11.559822",
     "start_time": "2017-03-24T15:20:11.555158"
    },
    "collapsed": true
   },
   "outputs": [],
   "source": [
    "import os\n",
    "import pandas as pd"
   ]
  },
  {
   "cell_type": "code",
   "execution_count": 2,
   "metadata": {
    "ExecuteTime": {
     "end_time": "2017-03-24T15:09:50.978504",
     "start_time": "2017-03-24T15:09:50.972587"
    },
    "collapsed": true
   },
   "outputs": [],
   "source": [
    "final_dirs = \"/Users/jeriwieringa/Dissertation/drafts/data/2017-03-24-final-correction-files.txt\""
   ]
  },
  {
   "cell_type": "code",
   "execution_count": 3,
   "metadata": {
    "ExecuteTime": {
     "end_time": "2017-03-24T15:09:51.736770",
     "start_time": "2017-03-24T15:09:51.730879"
    },
    "collapsed": true
   },
   "outputs": [],
   "source": [
    "with open(final_dirs) as f:\n",
    "    content = f.readlines()"
   ]
  },
  {
   "cell_type": "code",
   "execution_count": 4,
   "metadata": {
    "ExecuteTime": {
     "end_time": "2017-03-24T15:09:55.191763",
     "start_time": "2017-03-24T15:09:55.186662"
    },
    "collapsed": true
   },
   "outputs": [],
   "source": [
    "content = [x.strip() for x in content] "
   ]
  },
  {
   "cell_type": "code",
   "execution_count": 5,
   "metadata": {
    "ExecuteTime": {
     "end_time": "2017-03-24T15:09:56.816334",
     "start_time": "2017-03-24T15:09:56.799969"
    },
    "collapsed": false
   },
   "outputs": [
    {
     "data": {
      "text/plain": [
       "['ADV/correction15',\n",
       " 'AmSn/correction9',\n",
       " 'ARAI/correction7',\n",
       " 'CE/correction9',\n",
       " 'CUV/correction9',\n",
       " 'EDU/correction9',\n",
       " 'GCB/correction9',\n",
       " 'GH/correction8',\n",
       " 'GoH/correction9',\n",
       " 'GS/correction7',\n",
       " 'HM/correction9',\n",
       " 'HR/correction9',\n",
       " 'IR/correction9',\n",
       " 'LB/correction9',\n",
       " 'LH/correction9',\n",
       " 'LibM/correction10',\n",
       " 'LUH/correction7',\n",
       " 'NMN/correction8',\n",
       " 'PHJ/correction9',\n",
       " 'PTAR/correction7',\n",
       " 'PUR/correction8',\n",
       " 'RH1850-1889/correction8',\n",
       " 'RH1890-1920/correction9',\n",
       " 'Sligo/correction8',\n",
       " 'SOL/correction6',\n",
       " 'ST/correction9',\n",
       " 'SUW/correction8',\n",
       " 'TCOG/correction6',\n",
       " 'TMM/correction6',\n",
       " 'WMH/correction8',\n",
       " 'YI/correction10']"
      ]
     },
     "execution_count": 5,
     "metadata": {},
     "output_type": "execute_result"
    }
   ],
   "source": [
    "content"
   ]
  },
  {
   "cell_type": "code",
   "execution_count": 6,
   "metadata": {
    "ExecuteTime": {
     "end_time": "2017-03-24T15:10:28.756830",
     "start_time": "2017-03-24T15:10:28.751713"
    },
    "collapsed": true
   },
   "outputs": [],
   "source": [
    "text_dir = \"/Users/jeriwieringa/Dissertation/text/text/2017-01-31-corpus-with-utf8-split-into-titles-cleaning/\""
   ]
  },
  {
   "cell_type": "code",
   "execution_count": 36,
   "metadata": {
    "ExecuteTime": {
     "end_time": "2017-03-24T15:36:07.330979",
     "start_time": "2017-03-24T15:36:06.193925"
    },
    "collapsed": false
   },
   "outputs": [],
   "source": [
    "counts = {}\n",
    "for each in content:\n",
    "    dir_name = os.path.join(text_dir, each)\n",
    "    pref = each.split('/')[0]\n",
    "    pages = [name for name in os.listdir(dir_name)]\n",
    "    counts[pref] = len(pages)"
   ]
  },
  {
   "cell_type": "code",
   "execution_count": 37,
   "metadata": {
    "ExecuteTime": {
     "end_time": "2017-03-24T15:36:07.346097",
     "start_time": "2017-03-24T15:36:07.332197"
    },
    "collapsed": false
   },
   "outputs": [
    {
     "data": {
      "text/plain": [
       "{'ADV': 2642,\n",
       " 'ARAI': 96,\n",
       " 'AmSn': 6702,\n",
       " 'CE': 3896,\n",
       " 'CUV': 6250,\n",
       " 'EDU': 474,\n",
       " 'GCB': 4524,\n",
       " 'GH': 2023,\n",
       " 'GS': 560,\n",
       " 'GoH': 670,\n",
       " 'HM': 2698,\n",
       " 'HR': 22316,\n",
       " 'IR': 1186,\n",
       " 'LB': 8385,\n",
       " 'LH': 9635,\n",
       " 'LUH': 5930,\n",
       " 'LibM': 2726,\n",
       " 'NMN': 347,\n",
       " 'PHJ': 4501,\n",
       " 'PTAR': 230,\n",
       " 'PUR': 6778,\n",
       " 'RH1850-1889': 19786,\n",
       " 'RH1890-1920': 35066,\n",
       " 'SOL': 2044,\n",
       " 'ST': 20624,\n",
       " 'SUW': 4974,\n",
       " 'Sligo': 1020,\n",
       " 'TCOG': 1344,\n",
       " 'TMM': 1925,\n",
       " 'WMH': 1043,\n",
       " 'YI': 17548}"
      ]
     },
     "execution_count": 37,
     "metadata": {},
     "output_type": "execute_result"
    }
   ],
   "source": [
    "counts"
   ]
  },
  {
   "cell_type": "code",
   "execution_count": 38,
   "metadata": {
    "ExecuteTime": {
     "end_time": "2017-03-24T15:36:08.136245",
     "start_time": "2017-03-24T15:36:08.131956"
    },
    "collapsed": false
   },
   "outputs": [],
   "source": [
    "df = pd.DataFrame.from_dict(counts, orient='index')"
   ]
  },
  {
   "cell_type": "code",
   "execution_count": 39,
   "metadata": {
    "ExecuteTime": {
     "end_time": "2017-03-24T15:36:09.157079",
     "start_time": "2017-03-24T15:36:09.145727"
    },
    "collapsed": false,
    "scrolled": true
   },
   "outputs": [
    {
     "data": {
      "text/html": [
       "<div>\n",
       "<table border=\"1\" class=\"dataframe\">\n",
       "  <thead>\n",
       "    <tr style=\"text-align: right;\">\n",
       "      <th></th>\n",
       "      <th>0</th>\n",
       "    </tr>\n",
       "  </thead>\n",
       "  <tbody>\n",
       "    <tr>\n",
       "      <th>EDU</th>\n",
       "      <td>474</td>\n",
       "    </tr>\n",
       "    <tr>\n",
       "      <th>Sligo</th>\n",
       "      <td>1020</td>\n",
       "    </tr>\n",
       "    <tr>\n",
       "      <th>SOL</th>\n",
       "      <td>2044</td>\n",
       "    </tr>\n",
       "    <tr>\n",
       "      <th>CUV</th>\n",
       "      <td>6250</td>\n",
       "    </tr>\n",
       "    <tr>\n",
       "      <th>RH1850-1889</th>\n",
       "      <td>19786</td>\n",
       "    </tr>\n",
       "    <tr>\n",
       "      <th>LH</th>\n",
       "      <td>9635</td>\n",
       "    </tr>\n",
       "    <tr>\n",
       "      <th>GS</th>\n",
       "      <td>560</td>\n",
       "    </tr>\n",
       "    <tr>\n",
       "      <th>RH1890-1920</th>\n",
       "      <td>35066</td>\n",
       "    </tr>\n",
       "    <tr>\n",
       "      <th>PTAR</th>\n",
       "      <td>230</td>\n",
       "    </tr>\n",
       "    <tr>\n",
       "      <th>ADV</th>\n",
       "      <td>2642</td>\n",
       "    </tr>\n",
       "    <tr>\n",
       "      <th>LUH</th>\n",
       "      <td>5930</td>\n",
       "    </tr>\n",
       "    <tr>\n",
       "      <th>PHJ</th>\n",
       "      <td>4501</td>\n",
       "    </tr>\n",
       "    <tr>\n",
       "      <th>YI</th>\n",
       "      <td>17548</td>\n",
       "    </tr>\n",
       "    <tr>\n",
       "      <th>SUW</th>\n",
       "      <td>4974</td>\n",
       "    </tr>\n",
       "    <tr>\n",
       "      <th>ST</th>\n",
       "      <td>20624</td>\n",
       "    </tr>\n",
       "    <tr>\n",
       "      <th>HR</th>\n",
       "      <td>22316</td>\n",
       "    </tr>\n",
       "    <tr>\n",
       "      <th>GH</th>\n",
       "      <td>2023</td>\n",
       "    </tr>\n",
       "    <tr>\n",
       "      <th>GCB</th>\n",
       "      <td>4524</td>\n",
       "    </tr>\n",
       "    <tr>\n",
       "      <th>GoH</th>\n",
       "      <td>670</td>\n",
       "    </tr>\n",
       "    <tr>\n",
       "      <th>TCOG</th>\n",
       "      <td>1344</td>\n",
       "    </tr>\n",
       "    <tr>\n",
       "      <th>TMM</th>\n",
       "      <td>1925</td>\n",
       "    </tr>\n",
       "    <tr>\n",
       "      <th>NMN</th>\n",
       "      <td>347</td>\n",
       "    </tr>\n",
       "    <tr>\n",
       "      <th>PUR</th>\n",
       "      <td>6778</td>\n",
       "    </tr>\n",
       "    <tr>\n",
       "      <th>ARAI</th>\n",
       "      <td>96</td>\n",
       "    </tr>\n",
       "    <tr>\n",
       "      <th>LB</th>\n",
       "      <td>8385</td>\n",
       "    </tr>\n",
       "    <tr>\n",
       "      <th>WMH</th>\n",
       "      <td>1043</td>\n",
       "    </tr>\n",
       "    <tr>\n",
       "      <th>LibM</th>\n",
       "      <td>2726</td>\n",
       "    </tr>\n",
       "    <tr>\n",
       "      <th>IR</th>\n",
       "      <td>1186</td>\n",
       "    </tr>\n",
       "    <tr>\n",
       "      <th>HM</th>\n",
       "      <td>2698</td>\n",
       "    </tr>\n",
       "    <tr>\n",
       "      <th>AmSn</th>\n",
       "      <td>6702</td>\n",
       "    </tr>\n",
       "    <tr>\n",
       "      <th>CE</th>\n",
       "      <td>3896</td>\n",
       "    </tr>\n",
       "  </tbody>\n",
       "</table>\n",
       "</div>"
      ],
      "text/plain": [
       "                 0\n",
       "EDU            474\n",
       "Sligo         1020\n",
       "SOL           2044\n",
       "CUV           6250\n",
       "RH1850-1889  19786\n",
       "LH            9635\n",
       "GS             560\n",
       "RH1890-1920  35066\n",
       "PTAR           230\n",
       "ADV           2642\n",
       "LUH           5930\n",
       "PHJ           4501\n",
       "YI           17548\n",
       "SUW           4974\n",
       "ST           20624\n",
       "HR           22316\n",
       "GH            2023\n",
       "GCB           4524\n",
       "GoH            670\n",
       "TCOG          1344\n",
       "TMM           1925\n",
       "NMN            347\n",
       "PUR           6778\n",
       "ARAI            96\n",
       "LB            8385\n",
       "WMH           1043\n",
       "LibM          2726\n",
       "IR            1186\n",
       "HM            2698\n",
       "AmSn          6702\n",
       "CE            3896"
      ]
     },
     "execution_count": 39,
     "metadata": {},
     "output_type": "execute_result"
    }
   ],
   "source": [
    "df"
   ]
  },
  {
   "cell_type": "code",
   "execution_count": 40,
   "metadata": {
    "ExecuteTime": {
     "end_time": "2017-03-24T15:36:21.420297",
     "start_time": "2017-03-24T15:36:21.410837"
    },
    "collapsed": true
   },
   "outputs": [],
   "source": [
    "df['index_col'] = df.index"
   ]
  },
  {
   "cell_type": "code",
   "execution_count": 41,
   "metadata": {
    "ExecuteTime": {
     "end_time": "2017-03-24T15:36:25.219550",
     "start_time": "2017-03-24T15:36:25.215117"
    },
    "collapsed": false
   },
   "outputs": [],
   "source": [
    "df = df.rename({'RH1850-1889': 'RH', 'RH1890-1920': 'RH'})"
   ]
  },
  {
   "cell_type": "code",
   "execution_count": 42,
   "metadata": {
    "ExecuteTime": {
     "end_time": "2017-03-24T15:36:26.681103",
     "start_time": "2017-03-24T15:36:26.674455"
    },
    "collapsed": false
   },
   "outputs": [],
   "source": [
    "df = df.groupby(df.index).sum()"
   ]
  },
  {
   "cell_type": "code",
   "execution_count": 43,
   "metadata": {
    "ExecuteTime": {
     "end_time": "2017-03-24T15:36:27.823049",
     "start_time": "2017-03-24T15:36:27.812663"
    },
    "collapsed": false
   },
   "outputs": [
    {
     "data": {
      "text/html": [
       "<div>\n",
       "<table border=\"1\" class=\"dataframe\">\n",
       "  <thead>\n",
       "    <tr style=\"text-align: right;\">\n",
       "      <th></th>\n",
       "      <th>0</th>\n",
       "    </tr>\n",
       "  </thead>\n",
       "  <tbody>\n",
       "    <tr>\n",
       "      <th>ADV</th>\n",
       "      <td>2642</td>\n",
       "    </tr>\n",
       "    <tr>\n",
       "      <th>ARAI</th>\n",
       "      <td>96</td>\n",
       "    </tr>\n",
       "    <tr>\n",
       "      <th>AmSn</th>\n",
       "      <td>6702</td>\n",
       "    </tr>\n",
       "    <tr>\n",
       "      <th>CE</th>\n",
       "      <td>3896</td>\n",
       "    </tr>\n",
       "    <tr>\n",
       "      <th>CUV</th>\n",
       "      <td>6250</td>\n",
       "    </tr>\n",
       "    <tr>\n",
       "      <th>EDU</th>\n",
       "      <td>474</td>\n",
       "    </tr>\n",
       "    <tr>\n",
       "      <th>GCB</th>\n",
       "      <td>4524</td>\n",
       "    </tr>\n",
       "    <tr>\n",
       "      <th>GH</th>\n",
       "      <td>2023</td>\n",
       "    </tr>\n",
       "    <tr>\n",
       "      <th>GS</th>\n",
       "      <td>560</td>\n",
       "    </tr>\n",
       "    <tr>\n",
       "      <th>GoH</th>\n",
       "      <td>670</td>\n",
       "    </tr>\n",
       "    <tr>\n",
       "      <th>HM</th>\n",
       "      <td>2698</td>\n",
       "    </tr>\n",
       "    <tr>\n",
       "      <th>HR</th>\n",
       "      <td>22316</td>\n",
       "    </tr>\n",
       "    <tr>\n",
       "      <th>IR</th>\n",
       "      <td>1186</td>\n",
       "    </tr>\n",
       "    <tr>\n",
       "      <th>LB</th>\n",
       "      <td>8385</td>\n",
       "    </tr>\n",
       "    <tr>\n",
       "      <th>LH</th>\n",
       "      <td>9635</td>\n",
       "    </tr>\n",
       "    <tr>\n",
       "      <th>LUH</th>\n",
       "      <td>5930</td>\n",
       "    </tr>\n",
       "    <tr>\n",
       "      <th>LibM</th>\n",
       "      <td>2726</td>\n",
       "    </tr>\n",
       "    <tr>\n",
       "      <th>NMN</th>\n",
       "      <td>347</td>\n",
       "    </tr>\n",
       "    <tr>\n",
       "      <th>PHJ</th>\n",
       "      <td>4501</td>\n",
       "    </tr>\n",
       "    <tr>\n",
       "      <th>PTAR</th>\n",
       "      <td>230</td>\n",
       "    </tr>\n",
       "    <tr>\n",
       "      <th>PUR</th>\n",
       "      <td>6778</td>\n",
       "    </tr>\n",
       "    <tr>\n",
       "      <th>RH</th>\n",
       "      <td>54852</td>\n",
       "    </tr>\n",
       "    <tr>\n",
       "      <th>SOL</th>\n",
       "      <td>2044</td>\n",
       "    </tr>\n",
       "    <tr>\n",
       "      <th>ST</th>\n",
       "      <td>20624</td>\n",
       "    </tr>\n",
       "    <tr>\n",
       "      <th>SUW</th>\n",
       "      <td>4974</td>\n",
       "    </tr>\n",
       "    <tr>\n",
       "      <th>Sligo</th>\n",
       "      <td>1020</td>\n",
       "    </tr>\n",
       "    <tr>\n",
       "      <th>TCOG</th>\n",
       "      <td>1344</td>\n",
       "    </tr>\n",
       "    <tr>\n",
       "      <th>TMM</th>\n",
       "      <td>1925</td>\n",
       "    </tr>\n",
       "    <tr>\n",
       "      <th>WMH</th>\n",
       "      <td>1043</td>\n",
       "    </tr>\n",
       "    <tr>\n",
       "      <th>YI</th>\n",
       "      <td>17548</td>\n",
       "    </tr>\n",
       "  </tbody>\n",
       "</table>\n",
       "</div>"
      ],
      "text/plain": [
       "           0\n",
       "ADV     2642\n",
       "ARAI      96\n",
       "AmSn    6702\n",
       "CE      3896\n",
       "CUV     6250\n",
       "EDU      474\n",
       "GCB     4524\n",
       "GH      2023\n",
       "GS       560\n",
       "GoH      670\n",
       "HM      2698\n",
       "HR     22316\n",
       "IR      1186\n",
       "LB      8385\n",
       "LH      9635\n",
       "LUH     5930\n",
       "LibM    2726\n",
       "NMN      347\n",
       "PHJ     4501\n",
       "PTAR     230\n",
       "PUR     6778\n",
       "RH     54852\n",
       "SOL     2044\n",
       "ST     20624\n",
       "SUW     4974\n",
       "Sligo   1020\n",
       "TCOG    1344\n",
       "TMM     1925\n",
       "WMH     1043\n",
       "YI     17548"
      ]
     },
     "execution_count": 43,
     "metadata": {},
     "output_type": "execute_result"
    }
   ],
   "source": [
    "df"
   ]
  },
  {
   "cell_type": "code",
   "execution_count": 44,
   "metadata": {
    "ExecuteTime": {
     "end_time": "2017-03-24T15:39:40.415796",
     "start_time": "2017-03-24T15:39:40.412307"
    },
    "collapsed": false
   },
   "outputs": [],
   "source": [
    "df.columns = ['pages']"
   ]
  },
  {
   "cell_type": "code",
   "execution_count": 45,
   "metadata": {
    "ExecuteTime": {
     "end_time": "2017-03-24T15:39:41.270148",
     "start_time": "2017-03-24T15:39:41.266963"
    },
    "collapsed": false
   },
   "outputs": [],
   "source": [
    "df.index.name = 'title'"
   ]
  },
  {
   "cell_type": "code",
   "execution_count": 46,
   "metadata": {
    "ExecuteTime": {
     "end_time": "2017-03-24T15:39:42.419586",
     "start_time": "2017-03-24T15:39:42.408890"
    },
    "collapsed": false
   },
   "outputs": [
    {
     "data": {
      "text/html": [
       "<div>\n",
       "<table border=\"1\" class=\"dataframe\">\n",
       "  <thead>\n",
       "    <tr style=\"text-align: right;\">\n",
       "      <th></th>\n",
       "      <th>pages</th>\n",
       "    </tr>\n",
       "    <tr>\n",
       "      <th>title</th>\n",
       "      <th></th>\n",
       "    </tr>\n",
       "  </thead>\n",
       "  <tbody>\n",
       "    <tr>\n",
       "      <th>ADV</th>\n",
       "      <td>2642</td>\n",
       "    </tr>\n",
       "    <tr>\n",
       "      <th>ARAI</th>\n",
       "      <td>96</td>\n",
       "    </tr>\n",
       "    <tr>\n",
       "      <th>AmSn</th>\n",
       "      <td>6702</td>\n",
       "    </tr>\n",
       "    <tr>\n",
       "      <th>CE</th>\n",
       "      <td>3896</td>\n",
       "    </tr>\n",
       "    <tr>\n",
       "      <th>CUV</th>\n",
       "      <td>6250</td>\n",
       "    </tr>\n",
       "    <tr>\n",
       "      <th>EDU</th>\n",
       "      <td>474</td>\n",
       "    </tr>\n",
       "    <tr>\n",
       "      <th>GCB</th>\n",
       "      <td>4524</td>\n",
       "    </tr>\n",
       "    <tr>\n",
       "      <th>GH</th>\n",
       "      <td>2023</td>\n",
       "    </tr>\n",
       "    <tr>\n",
       "      <th>GS</th>\n",
       "      <td>560</td>\n",
       "    </tr>\n",
       "    <tr>\n",
       "      <th>GoH</th>\n",
       "      <td>670</td>\n",
       "    </tr>\n",
       "    <tr>\n",
       "      <th>HM</th>\n",
       "      <td>2698</td>\n",
       "    </tr>\n",
       "    <tr>\n",
       "      <th>HR</th>\n",
       "      <td>22316</td>\n",
       "    </tr>\n",
       "    <tr>\n",
       "      <th>IR</th>\n",
       "      <td>1186</td>\n",
       "    </tr>\n",
       "    <tr>\n",
       "      <th>LB</th>\n",
       "      <td>8385</td>\n",
       "    </tr>\n",
       "    <tr>\n",
       "      <th>LH</th>\n",
       "      <td>9635</td>\n",
       "    </tr>\n",
       "    <tr>\n",
       "      <th>LUH</th>\n",
       "      <td>5930</td>\n",
       "    </tr>\n",
       "    <tr>\n",
       "      <th>LibM</th>\n",
       "      <td>2726</td>\n",
       "    </tr>\n",
       "    <tr>\n",
       "      <th>NMN</th>\n",
       "      <td>347</td>\n",
       "    </tr>\n",
       "    <tr>\n",
       "      <th>PHJ</th>\n",
       "      <td>4501</td>\n",
       "    </tr>\n",
       "    <tr>\n",
       "      <th>PTAR</th>\n",
       "      <td>230</td>\n",
       "    </tr>\n",
       "    <tr>\n",
       "      <th>PUR</th>\n",
       "      <td>6778</td>\n",
       "    </tr>\n",
       "    <tr>\n",
       "      <th>RH</th>\n",
       "      <td>54852</td>\n",
       "    </tr>\n",
       "    <tr>\n",
       "      <th>SOL</th>\n",
       "      <td>2044</td>\n",
       "    </tr>\n",
       "    <tr>\n",
       "      <th>ST</th>\n",
       "      <td>20624</td>\n",
       "    </tr>\n",
       "    <tr>\n",
       "      <th>SUW</th>\n",
       "      <td>4974</td>\n",
       "    </tr>\n",
       "    <tr>\n",
       "      <th>Sligo</th>\n",
       "      <td>1020</td>\n",
       "    </tr>\n",
       "    <tr>\n",
       "      <th>TCOG</th>\n",
       "      <td>1344</td>\n",
       "    </tr>\n",
       "    <tr>\n",
       "      <th>TMM</th>\n",
       "      <td>1925</td>\n",
       "    </tr>\n",
       "    <tr>\n",
       "      <th>WMH</th>\n",
       "      <td>1043</td>\n",
       "    </tr>\n",
       "    <tr>\n",
       "      <th>YI</th>\n",
       "      <td>17548</td>\n",
       "    </tr>\n",
       "  </tbody>\n",
       "</table>\n",
       "</div>"
      ],
      "text/plain": [
       "       pages\n",
       "title       \n",
       "ADV     2642\n",
       "ARAI      96\n",
       "AmSn    6702\n",
       "CE      3896\n",
       "CUV     6250\n",
       "EDU      474\n",
       "GCB     4524\n",
       "GH      2023\n",
       "GS       560\n",
       "GoH      670\n",
       "HM      2698\n",
       "HR     22316\n",
       "IR      1186\n",
       "LB      8385\n",
       "LH      9635\n",
       "LUH     5930\n",
       "LibM    2726\n",
       "NMN      347\n",
       "PHJ     4501\n",
       "PTAR     230\n",
       "PUR     6778\n",
       "RH     54852\n",
       "SOL     2044\n",
       "ST     20624\n",
       "SUW     4974\n",
       "Sligo   1020\n",
       "TCOG    1344\n",
       "TMM     1925\n",
       "WMH     1043\n",
       "YI     17548"
      ]
     },
     "execution_count": 46,
     "metadata": {},
     "output_type": "execute_result"
    }
   ],
   "source": [
    "df"
   ]
  },
  {
   "cell_type": "code",
   "execution_count": 50,
   "metadata": {
    "ExecuteTime": {
     "end_time": "2017-03-24T15:40:18.984205",
     "start_time": "2017-03-24T15:40:18.977907"
    },
    "collapsed": false
   },
   "outputs": [],
   "source": [
    "df = df.reset_index()"
   ]
  },
  {
   "cell_type": "code",
   "execution_count": 77,
   "metadata": {
    "ExecuteTime": {
     "end_time": "2017-03-24T15:53:08.196129",
     "start_time": "2017-03-24T15:53:08.188424"
    },
    "collapsed": true
   },
   "outputs": [],
   "source": [
    "from bokeh.charts import Bar, show\n",
    "from bokeh.charts import defaults\n",
    "from bokeh.palettes import viridis\n",
    "from bokeh.io import output_notebook"
   ]
  },
  {
   "cell_type": "code",
   "execution_count": 65,
   "metadata": {
    "ExecuteTime": {
     "end_time": "2017-03-24T15:46:31.998400",
     "start_time": "2017-03-24T15:46:31.985240"
    },
    "collapsed": false
   },
   "outputs": [
    {
     "data": {
      "text/html": [
       "\n",
       "    <div class=\"bk-root\">\n",
       "        <a href=\"http://bokeh.pydata.org\" target=\"_blank\" class=\"bk-logo bk-logo-small bk-logo-notebook\"></a>\n",
       "        <span id=\"8aebda92-f85d-4a18-9aec-89882ba0a8ec\">Loading BokehJS ...</span>\n",
       "    </div>"
      ]
     },
     "metadata": {},
     "output_type": "display_data"
    },
    {
     "data": {
      "application/javascript": [
       "\n",
       "(function(global) {\n",
       "  function now() {\n",
       "    return new Date();\n",
       "  }\n",
       "\n",
       "  var force = true;\n",
       "\n",
       "  if (typeof (window._bokeh_onload_callbacks) === \"undefined\" || force === true) {\n",
       "    window._bokeh_onload_callbacks = [];\n",
       "    window._bokeh_is_loading = undefined;\n",
       "  }\n",
       "\n",
       "\n",
       "  \n",
       "  if (typeof (window._bokeh_timeout) === \"undefined\" || force === true) {\n",
       "    window._bokeh_timeout = Date.now() + 5000;\n",
       "    window._bokeh_failed_load = false;\n",
       "  }\n",
       "\n",
       "  var NB_LOAD_WARNING = {'data': {'text/html':\n",
       "     \"<div style='background-color: #fdd'>\\n\"+\n",
       "     \"<p>\\n\"+\n",
       "     \"BokehJS does not appear to have successfully loaded. If loading BokehJS from CDN, this \\n\"+\n",
       "     \"may be due to a slow or bad network connection. Possible fixes:\\n\"+\n",
       "     \"</p>\\n\"+\n",
       "     \"<ul>\\n\"+\n",
       "     \"<li>re-rerun `output_notebook()` to attempt to load from CDN again, or</li>\\n\"+\n",
       "     \"<li>use INLINE resources instead, as so:</li>\\n\"+\n",
       "     \"</ul>\\n\"+\n",
       "     \"<code>\\n\"+\n",
       "     \"from bokeh.resources import INLINE\\n\"+\n",
       "     \"output_notebook(resources=INLINE)\\n\"+\n",
       "     \"</code>\\n\"+\n",
       "     \"</div>\"}};\n",
       "\n",
       "  function display_loaded() {\n",
       "    if (window.Bokeh !== undefined) {\n",
       "      document.getElementById(\"8aebda92-f85d-4a18-9aec-89882ba0a8ec\").textContent = \"BokehJS successfully loaded.\";\n",
       "    } else if (Date.now() < window._bokeh_timeout) {\n",
       "      setTimeout(display_loaded, 100)\n",
       "    }\n",
       "  }\n",
       "\n",
       "  function run_callbacks() {\n",
       "    window._bokeh_onload_callbacks.forEach(function(callback) { callback() });\n",
       "    delete window._bokeh_onload_callbacks\n",
       "    console.info(\"Bokeh: all callbacks have finished\");\n",
       "  }\n",
       "\n",
       "  function load_libs(js_urls, callback) {\n",
       "    window._bokeh_onload_callbacks.push(callback);\n",
       "    if (window._bokeh_is_loading > 0) {\n",
       "      console.log(\"Bokeh: BokehJS is being loaded, scheduling callback at\", now());\n",
       "      return null;\n",
       "    }\n",
       "    if (js_urls == null || js_urls.length === 0) {\n",
       "      run_callbacks();\n",
       "      return null;\n",
       "    }\n",
       "    console.log(\"Bokeh: BokehJS not loaded, scheduling load and callback at\", now());\n",
       "    window._bokeh_is_loading = js_urls.length;\n",
       "    for (var i = 0; i < js_urls.length; i++) {\n",
       "      var url = js_urls[i];\n",
       "      var s = document.createElement('script');\n",
       "      s.src = url;\n",
       "      s.async = false;\n",
       "      s.onreadystatechange = s.onload = function() {\n",
       "        window._bokeh_is_loading--;\n",
       "        if (window._bokeh_is_loading === 0) {\n",
       "          console.log(\"Bokeh: all BokehJS libraries loaded\");\n",
       "          run_callbacks()\n",
       "        }\n",
       "      };\n",
       "      s.onerror = function() {\n",
       "        console.warn(\"failed to load library \" + url);\n",
       "      };\n",
       "      console.log(\"Bokeh: injecting script tag for BokehJS library: \", url);\n",
       "      document.getElementsByTagName(\"head\")[0].appendChild(s);\n",
       "    }\n",
       "  };var element = document.getElementById(\"8aebda92-f85d-4a18-9aec-89882ba0a8ec\");\n",
       "  if (element == null) {\n",
       "    console.log(\"Bokeh: ERROR: autoload.js configured with elementid '8aebda92-f85d-4a18-9aec-89882ba0a8ec' but no matching script tag was found. \")\n",
       "    return false;\n",
       "  }\n",
       "\n",
       "  var js_urls = [\"https://cdn.pydata.org/bokeh/release/bokeh-0.12.4.min.js\", \"https://cdn.pydata.org/bokeh/release/bokeh-widgets-0.12.4.min.js\"];\n",
       "\n",
       "  var inline_js = [\n",
       "    function(Bokeh) {\n",
       "      Bokeh.set_log_level(\"info\");\n",
       "    },\n",
       "    \n",
       "    function(Bokeh) {\n",
       "      \n",
       "      document.getElementById(\"8aebda92-f85d-4a18-9aec-89882ba0a8ec\").textContent = \"BokehJS is loading...\";\n",
       "    },\n",
       "    function(Bokeh) {\n",
       "      console.log(\"Bokeh: injecting CSS: https://cdn.pydata.org/bokeh/release/bokeh-0.12.4.min.css\");\n",
       "      Bokeh.embed.inject_css(\"https://cdn.pydata.org/bokeh/release/bokeh-0.12.4.min.css\");\n",
       "      console.log(\"Bokeh: injecting CSS: https://cdn.pydata.org/bokeh/release/bokeh-widgets-0.12.4.min.css\");\n",
       "      Bokeh.embed.inject_css(\"https://cdn.pydata.org/bokeh/release/bokeh-widgets-0.12.4.min.css\");\n",
       "    }\n",
       "  ];\n",
       "\n",
       "  function run_inline_js() {\n",
       "    \n",
       "    if ((window.Bokeh !== undefined) || (force === true)) {\n",
       "      for (var i = 0; i < inline_js.length; i++) {\n",
       "        inline_js[i](window.Bokeh);\n",
       "      }if (force === true) {\n",
       "        display_loaded();\n",
       "      }} else if (Date.now() < window._bokeh_timeout) {\n",
       "      setTimeout(run_inline_js, 100);\n",
       "    } else if (!window._bokeh_failed_load) {\n",
       "      console.log(\"Bokeh: BokehJS failed to load within specified timeout.\");\n",
       "      window._bokeh_failed_load = true;\n",
       "    } else if (force !== true) {\n",
       "      var cell = $(document.getElementById(\"8aebda92-f85d-4a18-9aec-89882ba0a8ec\")).parents('.cell').data().cell;\n",
       "      cell.output_area.append_execute_result(NB_LOAD_WARNING)\n",
       "    }\n",
       "\n",
       "  }\n",
       "\n",
       "  if (window._bokeh_is_loading === 0) {\n",
       "    console.log(\"Bokeh: BokehJS loaded, going straight to plotting\");\n",
       "    run_inline_js();\n",
       "  } else {\n",
       "    load_libs(js_urls, function() {\n",
       "      console.log(\"Bokeh: BokehJS plotting callback run at\", now());\n",
       "      run_inline_js();\n",
       "    });\n",
       "  }\n",
       "}(this));"
      ]
     },
     "metadata": {},
     "output_type": "display_data"
    }
   ],
   "source": [
    "output_notebook()"
   ]
  },
  {
   "cell_type": "code",
   "execution_count": 70,
   "metadata": {
    "ExecuteTime": {
     "end_time": "2017-03-24T15:47:33.389711",
     "start_time": "2017-03-24T15:47:33.384130"
    },
    "collapsed": true
   },
   "outputs": [],
   "source": [
    "defaults.width = 850\n",
    "defaults.height = 1050"
   ]
  },
  {
   "cell_type": "code",
   "execution_count": 82,
   "metadata": {
    "ExecuteTime": {
     "end_time": "2017-03-24T15:55:22.430847",
     "start_time": "2017-03-24T15:55:22.071274"
    },
    "collapsed": false
   },
   "outputs": [],
   "source": [
    "p = Bar(df, 'title', values='pages', color='title', palette=viridis(30), title=\"Total Pages by Title\")"
   ]
  },
  {
   "cell_type": "code",
   "execution_count": 83,
   "metadata": {
    "ExecuteTime": {
     "end_time": "2017-03-24T15:55:25.476427",
     "start_time": "2017-03-24T15:55:24.774608"
    },
    "collapsed": false
   },
   "outputs": [
    {
     "data": {
      "text/html": [
       "\n",
       "\n",
       "    <div class=\"bk-root\">\n",
       "        <div class=\"bk-plotdiv\" id=\"7339504b-d6b9-4703-ac6e-fb8b923765e0\"></div>\n",
       "    </div>\n",
       "<script type=\"text/javascript\">\n",
       "  \n",
       "  (function(global) {\n",
       "    function now() {\n",
       "      return new Date();\n",
       "    }\n",
       "  \n",
       "    var force = false;\n",
       "  \n",
       "    if (typeof (window._bokeh_onload_callbacks) === \"undefined\" || force === true) {\n",
       "      window._bokeh_onload_callbacks = [];\n",
       "      window._bokeh_is_loading = undefined;\n",
       "    }\n",
       "  \n",
       "  \n",
       "    \n",
       "    if (typeof (window._bokeh_timeout) === \"undefined\" || force === true) {\n",
       "      window._bokeh_timeout = Date.now() + 0;\n",
       "      window._bokeh_failed_load = false;\n",
       "    }\n",
       "  \n",
       "    var NB_LOAD_WARNING = {'data': {'text/html':\n",
       "       \"<div style='background-color: #fdd'>\\n\"+\n",
       "       \"<p>\\n\"+\n",
       "       \"BokehJS does not appear to have successfully loaded. If loading BokehJS from CDN, this \\n\"+\n",
       "       \"may be due to a slow or bad network connection. Possible fixes:\\n\"+\n",
       "       \"</p>\\n\"+\n",
       "       \"<ul>\\n\"+\n",
       "       \"<li>re-rerun `output_notebook()` to attempt to load from CDN again, or</li>\\n\"+\n",
       "       \"<li>use INLINE resources instead, as so:</li>\\n\"+\n",
       "       \"</ul>\\n\"+\n",
       "       \"<code>\\n\"+\n",
       "       \"from bokeh.resources import INLINE\\n\"+\n",
       "       \"output_notebook(resources=INLINE)\\n\"+\n",
       "       \"</code>\\n\"+\n",
       "       \"</div>\"}};\n",
       "  \n",
       "    function display_loaded() {\n",
       "      if (window.Bokeh !== undefined) {\n",
       "        document.getElementById(\"7339504b-d6b9-4703-ac6e-fb8b923765e0\").textContent = \"BokehJS successfully loaded.\";\n",
       "      } else if (Date.now() < window._bokeh_timeout) {\n",
       "        setTimeout(display_loaded, 100)\n",
       "      }\n",
       "    }\n",
       "  \n",
       "    function run_callbacks() {\n",
       "      window._bokeh_onload_callbacks.forEach(function(callback) { callback() });\n",
       "      delete window._bokeh_onload_callbacks\n",
       "      console.info(\"Bokeh: all callbacks have finished\");\n",
       "    }\n",
       "  \n",
       "    function load_libs(js_urls, callback) {\n",
       "      window._bokeh_onload_callbacks.push(callback);\n",
       "      if (window._bokeh_is_loading > 0) {\n",
       "        console.log(\"Bokeh: BokehJS is being loaded, scheduling callback at\", now());\n",
       "        return null;\n",
       "      }\n",
       "      if (js_urls == null || js_urls.length === 0) {\n",
       "        run_callbacks();\n",
       "        return null;\n",
       "      }\n",
       "      console.log(\"Bokeh: BokehJS not loaded, scheduling load and callback at\", now());\n",
       "      window._bokeh_is_loading = js_urls.length;\n",
       "      for (var i = 0; i < js_urls.length; i++) {\n",
       "        var url = js_urls[i];\n",
       "        var s = document.createElement('script');\n",
       "        s.src = url;\n",
       "        s.async = false;\n",
       "        s.onreadystatechange = s.onload = function() {\n",
       "          window._bokeh_is_loading--;\n",
       "          if (window._bokeh_is_loading === 0) {\n",
       "            console.log(\"Bokeh: all BokehJS libraries loaded\");\n",
       "            run_callbacks()\n",
       "          }\n",
       "        };\n",
       "        s.onerror = function() {\n",
       "          console.warn(\"failed to load library \" + url);\n",
       "        };\n",
       "        console.log(\"Bokeh: injecting script tag for BokehJS library: \", url);\n",
       "        document.getElementsByTagName(\"head\")[0].appendChild(s);\n",
       "      }\n",
       "    };var element = document.getElementById(\"7339504b-d6b9-4703-ac6e-fb8b923765e0\");\n",
       "    if (element == null) {\n",
       "      console.log(\"Bokeh: ERROR: autoload.js configured with elementid '7339504b-d6b9-4703-ac6e-fb8b923765e0' but no matching script tag was found. \")\n",
       "      return false;\n",
       "    }\n",
       "  \n",
       "    var js_urls = [];\n",
       "  \n",
       "    var inline_js = [\n",
       "      function(Bokeh) {\n",
       "        (function() {\n",
       "          var fn = function() {\n",
       "            var docs_json = {\"9a787781-2a09-454b-9215-97a3e1944b38\":{\"roots\":{\"references\":[{\"attributes\":{},\"id\":\"fa455699-8802-4f61-92f1-31b0241b6743\",\"type\":\"CategoricalTicker\"},{\"attributes\":{\"fill_alpha\":{\"field\":\"fill_alpha\"},\"fill_color\":{\"field\":\"color\"},\"height\":{\"field\":\"height\",\"units\":\"data\"},\"line_color\":{\"field\":\"line_color\"},\"width\":{\"field\":\"width\",\"units\":\"data\"},\"x\":{\"field\":\"x\"},\"y\":{\"field\":\"y\"}},\"id\":\"0cf509c5-dad0-4c0c-b545-ea13a341a3e5\",\"type\":\"Rect\"},{\"attributes\":{\"label\":{\"value\":\"IR\"},\"renderers\":[{\"id\":\"0c970a98-fcf8-4686-a6c9-9c5893351509\",\"type\":\"GlyphRenderer\"}]},\"id\":\"e2e70d1f-1190-44fe-9506-468b47f6ebad\",\"type\":\"LegendItem\"},{\"attributes\":{\"label\":{\"value\":\"HR\"},\"renderers\":[{\"id\":\"02943d98-f986-45a7-ab8e-2a5dd8b26680\",\"type\":\"GlyphRenderer\"}]},\"id\":\"70c90abd-f7c5-4b57-81d5-0e3dd82a4d6a\",\"type\":\"LegendItem\"},{\"attributes\":{\"callback\":null,\"end\":57594.6},\"id\":\"c948b0f7-bdc3-4d9b-88d6-c4eb4dd6879e\",\"type\":\"Range1d\"},{\"attributes\":{\"data_source\":{\"id\":\"e342ed2d-6a0f-4f55-bb79-c65254ecb22e\",\"type\":\"ColumnDataSource\"},\"glyph\":{\"id\":\"f92e10e2-46be-4fd3-8407-81af6a46271b\",\"type\":\"Rect\"},\"hover_glyph\":null,\"nonselection_glyph\":null,\"selection_glyph\":null},\"id\":\"02943d98-f986-45a7-ab8e-2a5dd8b26680\",\"type\":\"GlyphRenderer\"},{\"attributes\":{\"fill_alpha\":{\"field\":\"fill_alpha\"},\"fill_color\":{\"field\":\"color\"},\"height\":{\"field\":\"height\",\"units\":\"data\"},\"line_color\":{\"field\":\"line_color\"},\"width\":{\"field\":\"width\",\"units\":\"data\"},\"x\":{\"field\":\"x\"},\"y\":{\"field\":\"y\"}},\"id\":\"249d22b6-28d2-46b7-9b5c-6d0b81141d76\",\"type\":\"Rect\"},{\"attributes\":{\"label\":{\"value\":\"PTAR\"},\"renderers\":[{\"id\":\"5d3c510b-e894-4e68-aa25-1e2d4df7858a\",\"type\":\"GlyphRenderer\"}]},\"id\":\"a0be82e8-8124-4f3c-982b-01acf504801e\",\"type\":\"LegendItem\"},{\"attributes\":{\"callback\":null,\"column_names\":[\"x\",\"line_color\",\"y\",\"height\",\"label\",\"width\",\"color\",\"line_alpha\",\"fill_alpha\"],\"data\":{\"chart_index\":[{\"title\":\"TCOG\"}],\"color\":[\"#B7DD29\"],\"fill_alpha\":[0.8],\"height\":[1344.0],\"label\":[{\"title\":\"TCOG\"}],\"line_alpha\":[1.0],\"line_color\":[\"white\"],\"title\":[\"TCOG\"],\"width\":[0.8],\"x\":[\"TCOG\"],\"y\":[672.0]}},\"id\":\"9ae7325d-3646-4333-98b8-85b66aadc078\",\"type\":\"ColumnDataSource\"},{\"attributes\":{\"data_source\":{\"id\":\"bbe3c8ef-f3d9-4f04-bf4e-32ebf6792f8e\",\"type\":\"ColumnDataSource\"},\"glyph\":{\"id\":\"ebc5d561-22fb-480c-b50c-777650659c0d\",\"type\":\"Rect\"},\"hover_glyph\":null,\"nonselection_glyph\":null,\"selection_glyph\":null},\"id\":\"dfbb3432-afb1-4abb-a50f-9b32c6996470\",\"type\":\"GlyphRenderer\"},{\"attributes\":{\"fill_alpha\":{\"field\":\"fill_alpha\"},\"fill_color\":{\"field\":\"color\"},\"height\":{\"field\":\"height\",\"units\":\"data\"},\"line_color\":{\"field\":\"line_color\"},\"width\":{\"field\":\"width\",\"units\":\"data\"},\"x\":{\"field\":\"x\"},\"y\":{\"field\":\"y\"}},\"id\":\"bee886a6-ddd0-47f5-886a-a9fea56d4681\",\"type\":\"Rect\"},{\"attributes\":{\"fill_alpha\":{\"field\":\"fill_alpha\"},\"fill_color\":{\"field\":\"color\"},\"height\":{\"field\":\"height\",\"units\":\"data\"},\"line_color\":{\"field\":\"line_color\"},\"width\":{\"field\":\"width\",\"units\":\"data\"},\"x\":{\"field\":\"x\"},\"y\":{\"field\":\"y\"}},\"id\":\"3a59a6dd-5c04-4e3a-8db7-e8a63b4f0c3f\",\"type\":\"Rect\"},{\"attributes\":{},\"id\":\"2f6b292a-1c2d-478f-a779-35aef2a55164\",\"type\":\"CategoricalTickFormatter\"},{\"attributes\":{\"data_source\":{\"id\":\"80d1e082-a3c1-4876-ab73-3a70f17b2f2a\",\"type\":\"ColumnDataSource\"},\"glyph\":{\"id\":\"00e20192-ba77-459a-90a3-2f02e3a2f8ff\",\"type\":\"Rect\"},\"hover_glyph\":null,\"nonselection_glyph\":null,\"selection_glyph\":null},\"id\":\"0747ed92-5c7c-4120-b658-edc1016b91c4\",\"type\":\"GlyphRenderer\"},{\"attributes\":{\"data_source\":{\"id\":\"e687719d-e654-4b85-aa96-d970946d9bdc\",\"type\":\"ColumnDataSource\"},\"glyph\":{\"id\":\"6640ed9e-5b78-4b37-b302-1c0614b480f2\",\"type\":\"Rect\"},\"hover_glyph\":null,\"nonselection_glyph\":null,\"selection_glyph\":null},\"id\":\"76391f93-0d04-4f50-b35c-8e88b1975475\",\"type\":\"GlyphRenderer\"},{\"attributes\":{\"fill_alpha\":{\"field\":\"fill_alpha\"},\"fill_color\":{\"field\":\"color\"},\"height\":{\"field\":\"height\",\"units\":\"data\"},\"line_color\":{\"field\":\"line_color\"},\"width\":{\"field\":\"width\",\"units\":\"data\"},\"x\":{\"field\":\"x\"},\"y\":{\"field\":\"y\"}},\"id\":\"9feb4670-1161-4054-8c7b-175e1cb275d3\",\"type\":\"Rect\"},{\"attributes\":{\"fill_alpha\":{\"field\":\"fill_alpha\"},\"fill_color\":{\"field\":\"color\"},\"height\":{\"field\":\"height\",\"units\":\"data\"},\"line_color\":{\"field\":\"line_color\"},\"width\":{\"field\":\"width\",\"units\":\"data\"},\"x\":{\"field\":\"x\"},\"y\":{\"field\":\"y\"}},\"id\":\"aa06762d-8ae6-438d-b365-c9625bc7365b\",\"type\":\"Rect\"},{\"attributes\":{\"callback\":null,\"column_names\":[\"x\",\"line_color\",\"y\",\"height\",\"label\",\"width\",\"color\",\"line_alpha\",\"fill_alpha\"],\"data\":{\"chart_index\":[{\"title\":\"LB\"}],\"color\":[\"#25838D\"],\"fill_alpha\":[0.8],\"height\":[8385.0],\"label\":[{\"title\":\"LB\"}],\"line_alpha\":[1.0],\"line_color\":[\"white\"],\"title\":[\"LB\"],\"width\":[0.8],\"x\":[\"LB\"],\"y\":[4192.5]}},\"id\":\"a4ed4fa7-f93f-4ea1-ac79-7a03bd18f018\",\"type\":\"ColumnDataSource\"},{\"attributes\":{\"data_source\":{\"id\":\"3280792d-508b-4a7f-8829-a0467335625c\",\"type\":\"ColumnDataSource\"},\"glyph\":{\"id\":\"969820be-5613-4cf3-b96f-bc56263f6db5\",\"type\":\"Rect\"},\"hover_glyph\":null,\"nonselection_glyph\":null,\"selection_glyph\":null},\"id\":\"b99ab013-4baa-4b75-8e64-56b719cdc0cc\",\"type\":\"GlyphRenderer\"},{\"attributes\":{\"label\":{\"value\":\"ARAI\"},\"renderers\":[{\"id\":\"cf980310-1887-4e4d-a2a1-8eebed26eb44\",\"type\":\"GlyphRenderer\"}]},\"id\":\"46f0edee-f47c-4953-a406-163a7d42aac0\",\"type\":\"LegendItem\"},{\"attributes\":{\"callback\":null,\"column_names\":[\"x\",\"line_color\",\"y\",\"height\",\"label\",\"width\",\"color\",\"line_alpha\",\"fill_alpha\"],\"data\":{\"chart_index\":[{\"title\":\"PUR\"}],\"color\":[\"#3DBB74\"],\"fill_alpha\":[0.8],\"height\":[6778.0],\"label\":[{\"title\":\"PUR\"}],\"line_alpha\":[1.0],\"line_color\":[\"white\"],\"title\":[\"PUR\"],\"width\":[0.8],\"x\":[\"PUR\"],\"y\":[3389.0]}},\"id\":\"9f3a6ec8-4a35-4c73-b362-299e87cb8c60\",\"type\":\"ColumnDataSource\"},{\"attributes\":{\"label\":{\"value\":\"GCB\"},\"renderers\":[{\"id\":\"e674b62d-4fda-4fe3-9cad-8cf185770eb2\",\"type\":\"GlyphRenderer\"}]},\"id\":\"e94f64cf-1ef3-4753-8963-a1a0b863a348\",\"type\":\"LegendItem\"},{\"attributes\":{\"callback\":null,\"column_names\":[\"x\",\"line_color\",\"y\",\"height\",\"label\",\"width\",\"color\",\"line_alpha\",\"fill_alpha\"],\"data\":{\"chart_index\":[{\"title\":\"ADV\"}],\"color\":[\"#440154\"],\"fill_alpha\":[0.8],\"height\":[2642.0],\"label\":[{\"title\":\"ADV\"}],\"line_alpha\":[1.0],\"line_color\":[\"white\"],\"title\":[\"ADV\"],\"width\":[0.8],\"x\":[\"ADV\"],\"y\":[1321.0]}},\"id\":\"bef10d0d-5ad4-481a-80c7-9a5efd43542a\",\"type\":\"ColumnDataSource\"},{\"attributes\":{\"fill_alpha\":{\"field\":\"fill_alpha\"},\"fill_color\":{\"field\":\"color\"},\"height\":{\"field\":\"height\",\"units\":\"data\"},\"line_color\":{\"field\":\"line_color\"},\"width\":{\"field\":\"width\",\"units\":\"data\"},\"x\":{\"field\":\"x\"},\"y\":{\"field\":\"y\"}},\"id\":\"908b44eb-48a5-4dfd-8eb2-8a4274ce8710\",\"type\":\"Rect\"},{\"attributes\":{\"fill_alpha\":{\"field\":\"fill_alpha\"},\"fill_color\":{\"field\":\"color\"},\"height\":{\"field\":\"height\",\"units\":\"data\"},\"line_color\":{\"field\":\"line_color\"},\"width\":{\"field\":\"width\",\"units\":\"data\"},\"x\":{\"field\":\"x\"},\"y\":{\"field\":\"y\"}},\"id\":\"d95fb81d-e276-4f8b-ac1f-1d7cc46afe8e\",\"type\":\"Rect\"},{\"attributes\":{\"data_source\":{\"id\":\"e70a51ce-eeb0-4f7a-93d7-feba4b969c1c\",\"type\":\"ColumnDataSource\"},\"glyph\":{\"id\":\"249d22b6-28d2-46b7-9b5c-6d0b81141d76\",\"type\":\"Rect\"},\"hover_glyph\":null,\"nonselection_glyph\":null,\"selection_glyph\":null},\"id\":\"e47181be-e86c-49e3-969b-d9fcd24a41e9\",\"type\":\"GlyphRenderer\"},{\"attributes\":{\"plot\":null,\"text\":\"Total Pages by Title\"},\"id\":\"23b559d2-bd51-4a1b-ab0c-2b3dd626942c\",\"type\":\"Title\"},{\"attributes\":{\"callback\":null,\"column_names\":[\"x\",\"line_color\",\"y\",\"height\",\"label\",\"width\",\"color\",\"line_alpha\",\"fill_alpha\"],\"data\":{\"chart_index\":[{\"title\":\"SUW\"}],\"color\":[\"#8BD546\"],\"fill_alpha\":[0.8],\"height\":[4974.0],\"label\":[{\"title\":\"SUW\"}],\"line_alpha\":[1.0],\"line_color\":[\"white\"],\"title\":[\"SUW\"],\"width\":[0.8],\"x\":[\"SUW\"],\"y\":[2487.0]}},\"id\":\"99907755-9c8f-4647-b308-bf667a288bd8\",\"type\":\"ColumnDataSource\"},{\"attributes\":{\"data_source\":{\"id\":\"c4f02cbb-f0f1-460d-bd84-7f86efb130ac\",\"type\":\"ColumnDataSource\"},\"glyph\":{\"id\":\"e4ab749f-7fce-4158-bfc7-031ce840130e\",\"type\":\"Rect\"},\"hover_glyph\":null,\"nonselection_glyph\":null,\"selection_glyph\":null},\"id\":\"7481c9e3-f8e3-4cc3-8b2a-274026191157\",\"type\":\"GlyphRenderer\"},{\"attributes\":{\"data_source\":{\"id\":\"a4ed4fa7-f93f-4ea1-ac79-7a03bd18f018\",\"type\":\"ColumnDataSource\"},\"glyph\":{\"id\":\"016170f6-ef81-4ce2-a7ff-c8e2564a84ca\",\"type\":\"Rect\"},\"hover_glyph\":null,\"nonselection_glyph\":null,\"selection_glyph\":null},\"id\":\"9f3b554a-7274-4d8e-82ff-a61a8d50e1ba\",\"type\":\"GlyphRenderer\"},{\"attributes\":{\"callback\":null,\"column_names\":[\"x\",\"line_color\",\"y\",\"height\",\"label\",\"width\",\"color\",\"line_alpha\",\"fill_alpha\"],\"data\":{\"chart_index\":[{\"title\":\"LH\"}],\"color\":[\"#228B8D\"],\"fill_alpha\":[0.8],\"height\":[9635.0],\"label\":[{\"title\":\"LH\"}],\"line_alpha\":[1.0],\"line_color\":[\"white\"],\"title\":[\"LH\"],\"width\":[0.8],\"x\":[\"LH\"],\"y\":[4817.5]}},\"id\":\"032955fd-f538-461b-9abf-b160f87950a4\",\"type\":\"ColumnDataSource\"},{\"attributes\":{\"label\":{\"value\":\"CE\"},\"renderers\":[{\"id\":\"98544cd0-d66b-4673-8804-6fee3f4e6acd\",\"type\":\"GlyphRenderer\"}]},\"id\":\"7baabadb-90e6-4cbe-b7e8-0d7c8835b949\",\"type\":\"LegendItem\"},{\"attributes\":{\"label\":{\"value\":\"GH\"},\"renderers\":[{\"id\":\"8848ef84-e69d-41d6-ba3b-571bfdfe6184\",\"type\":\"GlyphRenderer\"}]},\"id\":\"412d1660-8ad6-47e3-aeb9-5ca8af037907\",\"type\":\"LegendItem\"},{\"attributes\":{\"fill_alpha\":{\"field\":\"fill_alpha\"},\"fill_color\":{\"field\":\"color\"},\"height\":{\"field\":\"height\",\"units\":\"data\"},\"line_color\":{\"field\":\"line_color\"},\"width\":{\"field\":\"width\",\"units\":\"data\"},\"x\":{\"field\":\"x\"},\"y\":{\"field\":\"y\"}},\"id\":\"be1a5cdc-d85a-4db8-92bb-eb8cb0458018\",\"type\":\"Rect\"},{\"attributes\":{},\"id\":\"2391750d-266b-41aa-a00f-3bf6cf09af7f\",\"type\":\"BasicTicker\"},{\"attributes\":{\"label\":{\"value\":\"NMN\"},\"renderers\":[{\"id\":\"dfbb3432-afb1-4abb-a50f-9b32c6996470\",\"type\":\"GlyphRenderer\"}]},\"id\":\"7771d5d4-d7d4-4cd3-922c-523c50e8ff2a\",\"type\":\"LegendItem\"},{\"attributes\":{\"fill_alpha\":{\"field\":\"fill_alpha\"},\"fill_color\":{\"field\":\"color\"},\"height\":{\"field\":\"height\",\"units\":\"data\"},\"line_color\":{\"field\":\"line_color\"},\"width\":{\"field\":\"width\",\"units\":\"data\"},\"x\":{\"field\":\"x\"},\"y\":{\"field\":\"y\"}},\"id\":\"e4ab749f-7fce-4158-bfc7-031ce840130e\",\"type\":\"Rect\"},{\"attributes\":{\"fill_alpha\":{\"field\":\"fill_alpha\"},\"fill_color\":{\"field\":\"color\"},\"height\":{\"field\":\"height\",\"units\":\"data\"},\"line_color\":{\"field\":\"line_color\"},\"width\":{\"field\":\"width\",\"units\":\"data\"},\"x\":{\"field\":\"x\"},\"y\":{\"field\":\"y\"}},\"id\":\"00623bc6-c478-41fc-ae86-47858561bcb5\",\"type\":\"Rect\"},{\"attributes\":{\"fill_alpha\":{\"field\":\"fill_alpha\"},\"fill_color\":{\"field\":\"color\"},\"height\":{\"field\":\"height\",\"units\":\"data\"},\"line_color\":{\"field\":\"line_color\"},\"width\":{\"field\":\"width\",\"units\":\"data\"},\"x\":{\"field\":\"x\"},\"y\":{\"field\":\"y\"}},\"id\":\"839ece8f-2365-4ae8-a5c1-003052bfd225\",\"type\":\"Rect\"},{\"attributes\":{\"label\":{\"value\":\"PUR\"},\"renderers\":[{\"id\":\"daeb97b7-805e-4bf0-a7b5-624ec499f3c3\",\"type\":\"GlyphRenderer\"}]},\"id\":\"1273ef11-1bde-4413-89bc-3cd09e57a850\",\"type\":\"LegendItem\"},{\"attributes\":{\"data_source\":{\"id\":\"a287c656-74f9-4cf5-b3ba-2618d50d798f\",\"type\":\"ColumnDataSource\"},\"glyph\":{\"id\":\"0cf509c5-dad0-4c0c-b545-ea13a341a3e5\",\"type\":\"Rect\"},\"hover_glyph\":null,\"nonselection_glyph\":null,\"selection_glyph\":null},\"id\":\"e7f79086-652e-4e13-ae76-4662b712c598\",\"type\":\"GlyphRenderer\"},{\"attributes\":{\"dimension\":1,\"plot\":{\"id\":\"68947a40-cc5e-405b-81d7-21e51666e34e\",\"subtype\":\"Chart\",\"type\":\"Plot\"},\"ticker\":{\"id\":\"2391750d-266b-41aa-a00f-3bf6cf09af7f\",\"type\":\"BasicTicker\"}},\"id\":\"9360a608-9111-4533-8864-be6396a5eb16\",\"type\":\"Grid\"},{\"attributes\":{\"label\":{\"value\":\"WMH\"},\"renderers\":[{\"id\":\"f3a8108b-25c0-477e-956d-6649531e88e2\",\"type\":\"GlyphRenderer\"}]},\"id\":\"604a25c0-915a-48fd-8373-fcb0ee63ca5f\",\"type\":\"LegendItem\"},{\"attributes\":{\"fill_alpha\":{\"field\":\"fill_alpha\"},\"fill_color\":{\"field\":\"color\"},\"height\":{\"field\":\"height\",\"units\":\"data\"},\"line_color\":{\"field\":\"line_color\"},\"width\":{\"field\":\"width\",\"units\":\"data\"},\"x\":{\"field\":\"x\"},\"y\":{\"field\":\"y\"}},\"id\":\"a9689897-491f-479d-8a4d-0c1d4911b2a6\",\"type\":\"Rect\"},{\"attributes\":{\"data_source\":{\"id\":\"1e53ddf6-c1c1-4663-857e-c5135680011a\",\"type\":\"ColumnDataSource\"},\"glyph\":{\"id\":\"3f3a3eb6-876e-4c37-9050-c600c06887f3\",\"type\":\"Rect\"},\"hover_glyph\":null,\"nonselection_glyph\":null,\"selection_glyph\":null},\"id\":\"a7751eb8-01c1-417c-84c1-9a73d5ab3f5e\",\"type\":\"GlyphRenderer\"},{\"attributes\":{\"data_source\":{\"id\":\"86c96d4e-0498-4ac8-82c1-688ea2d9e977\",\"type\":\"ColumnDataSource\"},\"glyph\":{\"id\":\"bee886a6-ddd0-47f5-886a-a9fea56d4681\",\"type\":\"Rect\"},\"hover_glyph\":null,\"nonselection_glyph\":null,\"selection_glyph\":null},\"id\":\"249c7799-56a7-4ef6-a9cf-aba8241b8c8d\",\"type\":\"GlyphRenderer\"},{\"attributes\":{\"fill_alpha\":{\"field\":\"fill_alpha\"},\"fill_color\":{\"field\":\"color\"},\"height\":{\"field\":\"height\",\"units\":\"data\"},\"line_color\":{\"field\":\"line_color\"},\"width\":{\"field\":\"width\",\"units\":\"data\"},\"x\":{\"field\":\"x\"},\"y\":{\"field\":\"y\"}},\"id\":\"491fc939-fc5a-4670-91cd-b8185fe595d7\",\"type\":\"Rect\"},{\"attributes\":{\"plot\":{\"id\":\"68947a40-cc5e-405b-81d7-21e51666e34e\",\"subtype\":\"Chart\",\"type\":\"Plot\"}},\"id\":\"c24d899c-8da0-4269-81e9-51507120223e\",\"type\":\"HelpTool\"},{\"attributes\":{\"label\":{\"value\":\"GoH\"},\"renderers\":[{\"id\":\"0747ed92-5c7c-4120-b658-edc1016b91c4\",\"type\":\"GlyphRenderer\"}]},\"id\":\"6345da87-8b87-43cb-8769-e3c443afe163\",\"type\":\"LegendItem\"},{\"attributes\":{\"callback\":null,\"column_names\":[\"x\",\"line_color\",\"y\",\"height\",\"label\",\"width\",\"color\",\"line_alpha\",\"fill_alpha\"],\"data\":{\"chart_index\":[{\"title\":\"PHJ\"}],\"color\":[\"#26AC81\"],\"fill_alpha\":[0.8],\"height\":[4501.0],\"label\":[{\"title\":\"PHJ\"}],\"line_alpha\":[1.0],\"line_color\":[\"white\"],\"title\":[\"PHJ\"],\"width\":[0.8],\"x\":[\"PHJ\"],\"y\":[2250.5]}},\"id\":\"e70a51ce-eeb0-4f7a-93d7-feba4b969c1c\",\"type\":\"ColumnDataSource\"},{\"attributes\":{\"data_source\":{\"id\":\"b8f25192-aea0-40bd-824e-141fcef1243d\",\"type\":\"ColumnDataSource\"},\"glyph\":{\"id\":\"4c4edcd8-eca2-4de2-bf22-2e79e7f74a72\",\"type\":\"Rect\"},\"hover_glyph\":null,\"nonselection_glyph\":null,\"selection_glyph\":null},\"id\":\"5d3c510b-e894-4e68-aa25-1e2d4df7858a\",\"type\":\"GlyphRenderer\"},{\"attributes\":{\"data_source\":{\"id\":\"2e46d87b-8d46-4fac-bbe9-518d51f54f44\",\"type\":\"ColumnDataSource\"},\"glyph\":{\"id\":\"19faf31b-63a4-4308-a6bb-a4ee7d023a48\",\"type\":\"Rect\"},\"hover_glyph\":null,\"nonselection_glyph\":null,\"selection_glyph\":null},\"id\":\"98544cd0-d66b-4673-8804-6fee3f4e6acd\",\"type\":\"GlyphRenderer\"},{\"attributes\":{\"fill_alpha\":{\"field\":\"fill_alpha\"},\"fill_color\":{\"field\":\"color\"},\"height\":{\"field\":\"height\",\"units\":\"data\"},\"line_color\":{\"field\":\"line_color\"},\"width\":{\"field\":\"width\",\"units\":\"data\"},\"x\":{\"field\":\"x\"},\"y\":{\"field\":\"y\"}},\"id\":\"866acb20-8763-4fd8-8071-95e7b7b2ea77\",\"type\":\"Rect\"},{\"attributes\":{\"callback\":null,\"column_names\":[\"x\",\"line_color\",\"y\",\"height\",\"label\",\"width\",\"color\",\"line_alpha\",\"fill_alpha\"],\"data\":{\"chart_index\":[{\"title\":\"HM\"}],\"color\":[\"#2F698D\"],\"fill_alpha\":[0.8],\"height\":[2698.0],\"label\":[{\"title\":\"HM\"}],\"line_alpha\":[1.0],\"line_color\":[\"white\"],\"title\":[\"HM\"],\"width\":[0.8],\"x\":[\"HM\"],\"y\":[1349.0]}},\"id\":\"e687719d-e654-4b85-aa96-d970946d9bdc\",\"type\":\"ColumnDataSource\"},{\"attributes\":{\"items\":[{\"id\":\"46ca2721-7580-4470-adeb-5061896bd6f9\",\"type\":\"LegendItem\"},{\"id\":\"46f0edee-f47c-4953-a406-163a7d42aac0\",\"type\":\"LegendItem\"},{\"id\":\"c136729c-992d-4ea0-87ef-d45b923dfee7\",\"type\":\"LegendItem\"},{\"id\":\"7baabadb-90e6-4cbe-b7e8-0d7c8835b949\",\"type\":\"LegendItem\"},{\"id\":\"cb0439d4-029c-4506-a3c3-ebb352484ba9\",\"type\":\"LegendItem\"},{\"id\":\"22bf0d17-1fe6-4b46-9283-763ab9c3c435\",\"type\":\"LegendItem\"},{\"id\":\"e94f64cf-1ef3-4753-8963-a1a0b863a348\",\"type\":\"LegendItem\"},{\"id\":\"412d1660-8ad6-47e3-aeb9-5ca8af037907\",\"type\":\"LegendItem\"},{\"id\":\"387b8a2a-35f4-4108-9746-63263fd37960\",\"type\":\"LegendItem\"},{\"id\":\"6345da87-8b87-43cb-8769-e3c443afe163\",\"type\":\"LegendItem\"},{\"id\":\"abd70b43-b162-4902-9346-cdb6b5f51fe0\",\"type\":\"LegendItem\"},{\"id\":\"70c90abd-f7c5-4b57-81d5-0e3dd82a4d6a\",\"type\":\"LegendItem\"},{\"id\":\"e2e70d1f-1190-44fe-9506-468b47f6ebad\",\"type\":\"LegendItem\"},{\"id\":\"60b28dff-e489-44d2-8dac-da0f83b38179\",\"type\":\"LegendItem\"},{\"id\":\"e46d7461-f730-4139-802c-c11c56a2e440\",\"type\":\"LegendItem\"},{\"id\":\"d72df596-a12c-437a-bed9-b8ed6e24c714\",\"type\":\"LegendItem\"},{\"id\":\"da7d217c-bd85-4949-9ef6-121527556a0e\",\"type\":\"LegendItem\"},{\"id\":\"7771d5d4-d7d4-4cd3-922c-523c50e8ff2a\",\"type\":\"LegendItem\"},{\"id\":\"3eb460d1-9ef1-4329-b0a2-8357e2c0bcd4\",\"type\":\"LegendItem\"},{\"id\":\"a0be82e8-8124-4f3c-982b-01acf504801e\",\"type\":\"LegendItem\"},{\"id\":\"1273ef11-1bde-4413-89bc-3cd09e57a850\",\"type\":\"LegendItem\"},{\"id\":\"53a5038e-f774-42e5-8439-f7f26b49190a\",\"type\":\"LegendItem\"},{\"id\":\"b0599b74-e637-48c7-81cf-1218e476bebe\",\"type\":\"LegendItem\"},{\"id\":\"ec0526ff-8f8c-45d5-9de7-ffd879f0c499\",\"type\":\"LegendItem\"},{\"id\":\"4a336031-989f-4345-8a04-a8037e4de667\",\"type\":\"LegendItem\"},{\"id\":\"244aaf3f-0859-4cae-a1bd-90cb5a8dc471\",\"type\":\"LegendItem\"},{\"id\":\"270683a3-8938-4bb9-8ee6-000fed88d3b1\",\"type\":\"LegendItem\"},{\"id\":\"0187d408-4e10-4b69-a3a6-c48438692059\",\"type\":\"LegendItem\"},{\"id\":\"604a25c0-915a-48fd-8373-fcb0ee63ca5f\",\"type\":\"LegendItem\"},{\"id\":\"aa762ce0-8fff-4854-b7a7-d95396136588\",\"type\":\"LegendItem\"}],\"location\":\"top_left\",\"plot\":{\"id\":\"68947a40-cc5e-405b-81d7-21e51666e34e\",\"subtype\":\"Chart\",\"type\":\"Plot\"}},\"id\":\"e7946541-8f7e-45f0-9210-3f7ff88513e4\",\"type\":\"Legend\"},{\"attributes\":{\"data_source\":{\"id\":\"1cc1fa46-3a86-4f76-bdc2-f6d4b31b2d2d\",\"type\":\"ColumnDataSource\"},\"glyph\":{\"id\":\"9feb4670-1161-4054-8c7b-175e1cb275d3\",\"type\":\"Rect\"},\"hover_glyph\":null,\"nonselection_glyph\":null,\"selection_glyph\":null},\"id\":\"5cedebf7-c813-4dec-a9ef-352e8c263fad\",\"type\":\"GlyphRenderer\"},{\"attributes\":{\"label\":{\"value\":\"LUH\"},\"renderers\":[{\"id\":\"5cedebf7-c813-4dec-a9ef-352e8c263fad\",\"type\":\"GlyphRenderer\"}]},\"id\":\"d72df596-a12c-437a-bed9-b8ed6e24c714\",\"type\":\"LegendItem\"},{\"attributes\":{\"fill_alpha\":{\"field\":\"fill_alpha\"},\"fill_color\":{\"field\":\"color\"},\"height\":{\"field\":\"height\",\"units\":\"data\"},\"line_color\":{\"field\":\"line_color\"},\"width\":{\"field\":\"width\",\"units\":\"data\"},\"x\":{\"field\":\"x\"},\"y\":{\"field\":\"y\"}},\"id\":\"969820be-5613-4cf3-b96f-bc56263f6db5\",\"type\":\"Rect\"},{\"attributes\":{\"label\":{\"value\":\"Sligo\"},\"renderers\":[{\"id\":\"317c84db-f183-4029-a476-c7f675f34b62\",\"type\":\"GlyphRenderer\"}]},\"id\":\"244aaf3f-0859-4cae-a1bd-90cb5a8dc471\",\"type\":\"LegendItem\"},{\"attributes\":{\"callback\":null,\"column_names\":[\"x\",\"line_color\",\"y\",\"height\",\"label\",\"width\",\"color\",\"line_alpha\",\"fill_alpha\"],\"data\":{\"chart_index\":[{\"title\":\"GH\"}],\"color\":[\"#3C4E8A\"],\"fill_alpha\":[0.8],\"height\":[2023.0],\"label\":[{\"title\":\"GH\"}],\"line_alpha\":[1.0],\"line_color\":[\"white\"],\"title\":[\"GH\"],\"width\":[0.8],\"x\":[\"GH\"],\"y\":[1011.5]}},\"id\":\"788ef011-2018-4f4c-bc2e-658115c5be16\",\"type\":\"ColumnDataSource\"},{\"attributes\":{\"data_source\":{\"id\":\"944b0360-c3e6-4f2b-8e59-0b85fab5ffa6\",\"type\":\"ColumnDataSource\"},\"glyph\":{\"id\":\"4e4ed0c4-c437-4e5e-bf2b-fd22f43834f7\",\"type\":\"Rect\"},\"hover_glyph\":null,\"nonselection_glyph\":null,\"selection_glyph\":null},\"id\":\"0c970a98-fcf8-4686-a6c9-9c5893351509\",\"type\":\"GlyphRenderer\"},{\"attributes\":{\"callback\":null,\"column_names\":[\"x\",\"line_color\",\"y\",\"height\",\"label\",\"width\",\"color\",\"line_alpha\",\"fill_alpha\"],\"data\":{\"chart_index\":[{\"title\":\"PTAR\"}],\"color\":[\"#30B47A\"],\"fill_alpha\":[0.8],\"height\":[230.0],\"label\":[{\"title\":\"PTAR\"}],\"line_alpha\":[1.0],\"line_color\":[\"white\"],\"title\":[\"PTAR\"],\"width\":[0.8],\"x\":[\"PTAR\"],\"y\":[115.0]}},\"id\":\"b8f25192-aea0-40bd-824e-141fcef1243d\",\"type\":\"ColumnDataSource\"},{\"attributes\":{\"callback\":null,\"column_names\":[\"x\",\"line_color\",\"y\",\"height\",\"label\",\"width\",\"color\",\"line_alpha\",\"fill_alpha\"],\"data\":{\"chart_index\":[{\"title\":\"CE\"}],\"color\":[\"#472575\"],\"fill_alpha\":[0.8],\"height\":[3896.0],\"label\":[{\"title\":\"CE\"}],\"line_alpha\":[1.0],\"line_color\":[\"white\"],\"title\":[\"CE\"],\"width\":[0.8],\"x\":[\"CE\"],\"y\":[1948.0]}},\"id\":\"2e46d87b-8d46-4fac-bbe9-518d51f54f44\",\"type\":\"ColumnDataSource\"},{\"attributes\":{\"fill_alpha\":{\"field\":\"fill_alpha\"},\"fill_color\":{\"field\":\"color\"},\"height\":{\"field\":\"height\",\"units\":\"data\"},\"line_color\":{\"field\":\"line_color\"},\"width\":{\"field\":\"width\",\"units\":\"data\"},\"x\":{\"field\":\"x\"},\"y\":{\"field\":\"y\"}},\"id\":\"ebc5d561-22fb-480c-b50c-777650659c0d\",\"type\":\"Rect\"},{\"attributes\":{\"fill_alpha\":{\"field\":\"fill_alpha\"},\"fill_color\":{\"field\":\"color\"},\"height\":{\"field\":\"height\",\"units\":\"data\"},\"line_color\":{\"field\":\"line_color\"},\"width\":{\"field\":\"width\",\"units\":\"data\"},\"x\":{\"field\":\"x\"},\"y\":{\"field\":\"y\"}},\"id\":\"f92e10e2-46be-4fd3-8407-81af6a46271b\",\"type\":\"Rect\"},{\"attributes\":{},\"id\":\"58bbac75-c09d-4591-bc96-cae64ec7eaf1\",\"type\":\"BasicTickFormatter\"},{\"attributes\":{\"plot\":{\"id\":\"68947a40-cc5e-405b-81d7-21e51666e34e\",\"subtype\":\"Chart\",\"type\":\"Plot\"}},\"id\":\"cac06088-dac0-42cf-8c07-1396ab07cf6b\",\"type\":\"WheelZoomTool\"},{\"attributes\":{\"label\":{\"value\":\"LibM\"},\"renderers\":[{\"id\":\"6fe45ac2-5519-4d6f-913e-a046be648470\",\"type\":\"GlyphRenderer\"}]},\"id\":\"da7d217c-bd85-4949-9ef6-121527556a0e\",\"type\":\"LegendItem\"},{\"attributes\":{\"callback\":null,\"column_names\":[\"x\",\"line_color\",\"y\",\"height\",\"label\",\"width\",\"color\",\"line_alpha\",\"fill_alpha\"],\"data\":{\"chart_index\":[{\"title\":\"AmSn\"}],\"color\":[\"#48196B\"],\"fill_alpha\":[0.8],\"height\":[6702.0],\"label\":[{\"title\":\"AmSn\"}],\"line_alpha\":[1.0],\"line_color\":[\"white\"],\"title\":[\"AmSn\"],\"width\":[0.8],\"x\":[\"AmSn\"],\"y\":[3351.0]}},\"id\":\"c4f02cbb-f0f1-460d-bd84-7f86efb130ac\",\"type\":\"ColumnDataSource\"},{\"attributes\":{\"label\":{\"value\":\"RH\"},\"renderers\":[{\"id\":\"e7f79086-652e-4e13-ae76-4662b712c598\",\"type\":\"GlyphRenderer\"}]},\"id\":\"53a5038e-f774-42e5-8439-f7f26b49190a\",\"type\":\"LegendItem\"},{\"attributes\":{\"axis_label\":\"Title\",\"formatter\":{\"id\":\"2f6b292a-1c2d-478f-a779-35aef2a55164\",\"type\":\"CategoricalTickFormatter\"},\"major_label_orientation\":0.7853981633974483,\"plot\":{\"id\":\"68947a40-cc5e-405b-81d7-21e51666e34e\",\"subtype\":\"Chart\",\"type\":\"Plot\"},\"ticker\":{\"id\":\"fa455699-8802-4f61-92f1-31b0241b6743\",\"type\":\"CategoricalTicker\"}},\"id\":\"4220b255-8604-499b-9309-1e78c6f04ff6\",\"type\":\"CategoricalAxis\"},{\"attributes\":{\"below\":[{\"id\":\"4220b255-8604-499b-9309-1e78c6f04ff6\",\"type\":\"CategoricalAxis\"}],\"css_classes\":null,\"height\":950,\"left\":[{\"id\":\"efc0808d-b4e1-4711-9ba0-823209281b43\",\"type\":\"LinearAxis\"}],\"renderers\":[{\"id\":\"69c6cbd8-914f-4973-8544-d14a0b6e3477\",\"type\":\"BoxAnnotation\"},{\"id\":\"7796c21a-2b63-4fe5-80a2-d0e432bdf32e\",\"type\":\"GlyphRenderer\"},{\"id\":\"cf980310-1887-4e4d-a2a1-8eebed26eb44\",\"type\":\"GlyphRenderer\"},{\"id\":\"7481c9e3-f8e3-4cc3-8b2a-274026191157\",\"type\":\"GlyphRenderer\"},{\"id\":\"98544cd0-d66b-4673-8804-6fee3f4e6acd\",\"type\":\"GlyphRenderer\"},{\"id\":\"f5b8c263-4fe7-4fce-ab61-43ac31713fcd\",\"type\":\"GlyphRenderer\"},{\"id\":\"a7751eb8-01c1-417c-84c1-9a73d5ab3f5e\",\"type\":\"GlyphRenderer\"},{\"id\":\"e674b62d-4fda-4fe3-9cad-8cf185770eb2\",\"type\":\"GlyphRenderer\"},{\"id\":\"8848ef84-e69d-41d6-ba3b-571bfdfe6184\",\"type\":\"GlyphRenderer\"},{\"id\":\"b99ab013-4baa-4b75-8e64-56b719cdc0cc\",\"type\":\"GlyphRenderer\"},{\"id\":\"0747ed92-5c7c-4120-b658-edc1016b91c4\",\"type\":\"GlyphRenderer\"},{\"id\":\"76391f93-0d04-4f50-b35c-8e88b1975475\",\"type\":\"GlyphRenderer\"},{\"id\":\"02943d98-f986-45a7-ab8e-2a5dd8b26680\",\"type\":\"GlyphRenderer\"},{\"id\":\"0c970a98-fcf8-4686-a6c9-9c5893351509\",\"type\":\"GlyphRenderer\"},{\"id\":\"9f3b554a-7274-4d8e-82ff-a61a8d50e1ba\",\"type\":\"GlyphRenderer\"},{\"id\":\"11651049-381f-4cbd-a2fe-5c5f7bedc739\",\"type\":\"GlyphRenderer\"},{\"id\":\"5cedebf7-c813-4dec-a9ef-352e8c263fad\",\"type\":\"GlyphRenderer\"},{\"id\":\"6fe45ac2-5519-4d6f-913e-a046be648470\",\"type\":\"GlyphRenderer\"},{\"id\":\"dfbb3432-afb1-4abb-a50f-9b32c6996470\",\"type\":\"GlyphRenderer\"},{\"id\":\"e47181be-e86c-49e3-969b-d9fcd24a41e9\",\"type\":\"GlyphRenderer\"},{\"id\":\"5d3c510b-e894-4e68-aa25-1e2d4df7858a\",\"type\":\"GlyphRenderer\"},{\"id\":\"daeb97b7-805e-4bf0-a7b5-624ec499f3c3\",\"type\":\"GlyphRenderer\"},{\"id\":\"e7f79086-652e-4e13-ae76-4662b712c598\",\"type\":\"GlyphRenderer\"},{\"id\":\"0cd32c1a-acfc-47cf-bac9-0c39dad1da87\",\"type\":\"GlyphRenderer\"},{\"id\":\"054a8bf8-bece-4294-8497-7367f91d87fa\",\"type\":\"GlyphRenderer\"},{\"id\":\"98b19634-beea-4737-a17b-3a89d39752f3\",\"type\":\"GlyphRenderer\"},{\"id\":\"317c84db-f183-4029-a476-c7f675f34b62\",\"type\":\"GlyphRenderer\"},{\"id\":\"2dd7238c-a4d8-4ee9-ae56-d3d1abb77ee2\",\"type\":\"GlyphRenderer\"},{\"id\":\"6928f4ba-a9ed-4a14-b806-99a595c8fd91\",\"type\":\"GlyphRenderer\"},{\"id\":\"f3a8108b-25c0-477e-956d-6649531e88e2\",\"type\":\"GlyphRenderer\"},{\"id\":\"249c7799-56a7-4ef6-a9cf-aba8241b8c8d\",\"type\":\"GlyphRenderer\"},{\"id\":\"e7946541-8f7e-45f0-9210-3f7ff88513e4\",\"type\":\"Legend\"},{\"id\":\"4220b255-8604-499b-9309-1e78c6f04ff6\",\"type\":\"CategoricalAxis\"},{\"id\":\"efc0808d-b4e1-4711-9ba0-823209281b43\",\"type\":\"LinearAxis\"},{\"id\":\"9360a608-9111-4533-8864-be6396a5eb16\",\"type\":\"Grid\"}],\"title\":{\"id\":\"23b559d2-bd51-4a1b-ab0c-2b3dd626942c\",\"type\":\"Title\"},\"tool_events\":{\"id\":\"bc842c03-00de-47e5-8029-18715883db25\",\"type\":\"ToolEvents\"},\"toolbar\":{\"id\":\"e2501177-404a-4aa7-b893-0f8fa55eb223\",\"type\":\"Toolbar\"},\"width\":850,\"x_mapper_type\":\"auto\",\"x_range\":{\"id\":\"3c92b106-4c7b-4771-8c25-708c06069fcd\",\"type\":\"FactorRange\"},\"y_mapper_type\":\"auto\",\"y_range\":{\"id\":\"c948b0f7-bdc3-4d9b-88d6-c4eb4dd6879e\",\"type\":\"Range1d\"}},\"id\":\"68947a40-cc5e-405b-81d7-21e51666e34e\",\"subtype\":\"Chart\",\"type\":\"Plot\"},{\"attributes\":{\"label\":{\"value\":\"TMM\"},\"renderers\":[{\"id\":\"6928f4ba-a9ed-4a14-b806-99a595c8fd91\",\"type\":\"GlyphRenderer\"}]},\"id\":\"0187d408-4e10-4b69-a3a6-c48438692059\",\"type\":\"LegendItem\"},{\"attributes\":{\"label\":{\"value\":\"LB\"},\"renderers\":[{\"id\":\"9f3b554a-7274-4d8e-82ff-a61a8d50e1ba\",\"type\":\"GlyphRenderer\"}]},\"id\":\"60b28dff-e489-44d2-8dac-da0f83b38179\",\"type\":\"LegendItem\"},{\"attributes\":{\"data_source\":{\"id\":\"02a0b84e-cda2-4b0f-a8b3-e41cc16aa669\",\"type\":\"ColumnDataSource\"},\"glyph\":{\"id\":\"aa06762d-8ae6-438d-b365-c9625bc7365b\",\"type\":\"Rect\"},\"hover_glyph\":null,\"nonselection_glyph\":null,\"selection_glyph\":null},\"id\":\"cf980310-1887-4e4d-a2a1-8eebed26eb44\",\"type\":\"GlyphRenderer\"},{\"attributes\":{\"callback\":null,\"column_names\":[\"x\",\"line_color\",\"y\",\"height\",\"label\",\"width\",\"color\",\"line_alpha\",\"fill_alpha\"],\"data\":{\"chart_index\":[{\"title\":\"CUV\"}],\"color\":[\"#46307D\"],\"fill_alpha\":[0.8],\"height\":[6250.0],\"label\":[{\"title\":\"CUV\"}],\"line_alpha\":[1.0],\"line_color\":[\"white\"],\"title\":[\"CUV\"],\"width\":[0.8],\"x\":[\"CUV\"],\"y\":[3125.0]}},\"id\":\"c2f514ee-4457-4658-8d57-9a177b8324ff\",\"type\":\"ColumnDataSource\"},{\"attributes\":{\"data_source\":{\"id\":\"b257a15a-af2d-4cb6-bbcf-d042d7326cb7\",\"type\":\"ColumnDataSource\"},\"glyph\":{\"id\":\"ffe214dd-894c-4857-940b-592410bd09d3\",\"type\":\"Rect\"},\"hover_glyph\":null,\"nonselection_glyph\":null,\"selection_glyph\":null},\"id\":\"0cd32c1a-acfc-47cf-bac9-0c39dad1da87\",\"type\":\"GlyphRenderer\"},{\"attributes\":{\"callback\":null,\"column_names\":[\"x\",\"line_color\",\"y\",\"height\",\"label\",\"width\",\"color\",\"line_alpha\",\"fill_alpha\"],\"data\":{\"chart_index\":[{\"title\":\"Sligo\"}],\"color\":[\"#9FD938\"],\"fill_alpha\":[0.8],\"height\":[1020.0],\"label\":[{\"title\":\"Sligo\"}],\"line_alpha\":[1.0],\"line_color\":[\"white\"],\"title\":[\"Sligo\"],\"width\":[0.8],\"x\":[\"Sligo\"],\"y\":[510.0]}},\"id\":\"f97641cf-7dba-4a39-9ccc-7e04aa13b40f\",\"type\":\"ColumnDataSource\"},{\"attributes\":{\"callback\":null,\"column_names\":[\"x\",\"line_color\",\"y\",\"height\",\"label\",\"width\",\"color\",\"line_alpha\",\"fill_alpha\"],\"data\":{\"chart_index\":[{\"title\":\"GS\"}],\"color\":[\"#37588C\"],\"fill_alpha\":[0.8],\"height\":[560.0],\"label\":[{\"title\":\"GS\"}],\"line_alpha\":[1.0],\"line_color\":[\"white\"],\"title\":[\"GS\"],\"width\":[0.8],\"x\":[\"GS\"],\"y\":[280.0]}},\"id\":\"3280792d-508b-4a7f-8829-a0467335625c\",\"type\":\"ColumnDataSource\"},{\"attributes\":{\"fill_alpha\":{\"field\":\"fill_alpha\"},\"fill_color\":{\"field\":\"color\"},\"height\":{\"field\":\"height\",\"units\":\"data\"},\"line_color\":{\"field\":\"line_color\"},\"width\":{\"field\":\"width\",\"units\":\"data\"},\"x\":{\"field\":\"x\"},\"y\":{\"field\":\"y\"}},\"id\":\"4e7bb159-0393-4b6e-bee1-856d7ebcffc7\",\"type\":\"Rect\"},{\"attributes\":{\"callback\":null,\"column_names\":[\"x\",\"line_color\",\"y\",\"height\",\"label\",\"width\",\"color\",\"line_alpha\",\"fill_alpha\"],\"data\":{\"chart_index\":[{\"title\":\"GoH\"}],\"color\":[\"#33618D\"],\"fill_alpha\":[0.8],\"height\":[670.0],\"label\":[{\"title\":\"GoH\"}],\"line_alpha\":[1.0],\"line_color\":[\"white\"],\"title\":[\"GoH\"],\"width\":[0.8],\"x\":[\"GoH\"],\"y\":[335.0]}},\"id\":\"80d1e082-a3c1-4876-ab73-3a70f17b2f2a\",\"type\":\"ColumnDataSource\"},{\"attributes\":{\"callback\":null,\"column_names\":[\"x\",\"line_color\",\"y\",\"height\",\"label\",\"width\",\"color\",\"line_alpha\",\"fill_alpha\"],\"data\":{\"chart_index\":[{\"title\":\"IR\"}],\"color\":[\"#287A8E\"],\"fill_alpha\":[0.8],\"height\":[1186.0],\"label\":[{\"title\":\"IR\"}],\"line_alpha\":[1.0],\"line_color\":[\"white\"],\"title\":[\"IR\"],\"width\":[0.8],\"x\":[\"IR\"],\"y\":[593.0]}},\"id\":\"944b0360-c3e6-4f2b-8e59-0b85fab5ffa6\",\"type\":\"ColumnDataSource\"},{\"attributes\":{\"fill_alpha\":{\"field\":\"fill_alpha\"},\"fill_color\":{\"field\":\"color\"},\"height\":{\"field\":\"height\",\"units\":\"data\"},\"line_color\":{\"field\":\"line_color\"},\"width\":{\"field\":\"width\",\"units\":\"data\"},\"x\":{\"field\":\"x\"},\"y\":{\"field\":\"y\"}},\"id\":\"d04c2e09-b144-42ac-bfb9-502ee3231084\",\"type\":\"Rect\"},{\"attributes\":{\"data_source\":{\"id\":\"bef10d0d-5ad4-481a-80c7-9a5efd43542a\",\"type\":\"ColumnDataSource\"},\"glyph\":{\"id\":\"3a59a6dd-5c04-4e3a-8db7-e8a63b4f0c3f\",\"type\":\"Rect\"},\"hover_glyph\":null,\"nonselection_glyph\":null,\"selection_glyph\":null},\"id\":\"7796c21a-2b63-4fe5-80a2-d0e432bdf32e\",\"type\":\"GlyphRenderer\"},{\"attributes\":{\"label\":{\"value\":\"EDU\"},\"renderers\":[{\"id\":\"a7751eb8-01c1-417c-84c1-9a73d5ab3f5e\",\"type\":\"GlyphRenderer\"}]},\"id\":\"22bf0d17-1fe6-4b46-9283-763ab9c3c435\",\"type\":\"LegendItem\"},{\"attributes\":{\"plot\":{\"id\":\"68947a40-cc5e-405b-81d7-21e51666e34e\",\"subtype\":\"Chart\",\"type\":\"Plot\"}},\"id\":\"e14f20db-a493-4a9d-bc85-0f93963ee622\",\"type\":\"PanTool\"},{\"attributes\":{\"data_source\":{\"id\":\"788ef011-2018-4f4c-bc2e-658115c5be16\",\"type\":\"ColumnDataSource\"},\"glyph\":{\"id\":\"a9689897-491f-479d-8a4d-0c1d4911b2a6\",\"type\":\"Rect\"},\"hover_glyph\":null,\"nonselection_glyph\":null,\"selection_glyph\":null},\"id\":\"8848ef84-e69d-41d6-ba3b-571bfdfe6184\",\"type\":\"GlyphRenderer\"},{\"attributes\":{\"fill_alpha\":{\"field\":\"fill_alpha\"},\"fill_color\":{\"field\":\"color\"},\"height\":{\"field\":\"height\",\"units\":\"data\"},\"line_color\":{\"field\":\"line_color\"},\"width\":{\"field\":\"width\",\"units\":\"data\"},\"x\":{\"field\":\"x\"},\"y\":{\"field\":\"y\"}},\"id\":\"d416c28c-3b31-4eaa-84f4-bdf9c7d7cfc0\",\"type\":\"Rect\"},{\"attributes\":{\"callback\":null,\"column_names\":[\"x\",\"line_color\",\"y\",\"height\",\"label\",\"width\",\"color\",\"line_alpha\",\"fill_alpha\"],\"data\":{\"chart_index\":[{\"title\":\"NMN\"}],\"color\":[\"#20A485\"],\"fill_alpha\":[0.8],\"height\":[347.0],\"label\":[{\"title\":\"NMN\"}],\"line_alpha\":[1.0],\"line_color\":[\"white\"],\"title\":[\"NMN\"],\"width\":[0.8],\"x\":[\"NMN\"],\"y\":[173.5]}},\"id\":\"bbe3c8ef-f3d9-4f04-bf4e-32ebf6792f8e\",\"type\":\"ColumnDataSource\"},{\"attributes\":{\"fill_alpha\":{\"field\":\"fill_alpha\"},\"fill_color\":{\"field\":\"color\"},\"height\":{\"field\":\"height\",\"units\":\"data\"},\"line_color\":{\"field\":\"line_color\"},\"width\":{\"field\":\"width\",\"units\":\"data\"},\"x\":{\"field\":\"x\"},\"y\":{\"field\":\"y\"}},\"id\":\"00e20192-ba77-459a-90a3-2f02e3a2f8ff\",\"type\":\"Rect\"},{\"attributes\":{\"label\":{\"value\":\"AmSn\"},\"renderers\":[{\"id\":\"7481c9e3-f8e3-4cc3-8b2a-274026191157\",\"type\":\"GlyphRenderer\"}]},\"id\":\"c136729c-992d-4ea0-87ef-d45b923dfee7\",\"type\":\"LegendItem\"},{\"attributes\":{\"data_source\":{\"id\":\"1354aae6-9d67-473f-b196-87f07e8f88eb\",\"type\":\"ColumnDataSource\"},\"glyph\":{\"id\":\"00623bc6-c478-41fc-ae86-47858561bcb5\",\"type\":\"Rect\"},\"hover_glyph\":null,\"nonselection_glyph\":null,\"selection_glyph\":null},\"id\":\"6928f4ba-a9ed-4a14-b806-99a595c8fd91\",\"type\":\"GlyphRenderer\"},{\"attributes\":{\"callback\":null,\"column_names\":[\"x\",\"line_color\",\"y\",\"height\",\"label\",\"width\",\"color\",\"line_alpha\",\"fill_alpha\"],\"data\":{\"chart_index\":[{\"title\":\"YI\"}],\"color\":[\"#FDE724\"],\"fill_alpha\":[0.8],\"height\":[17548.0],\"label\":[{\"title\":\"YI\"}],\"line_alpha\":[1.0],\"line_color\":[\"white\"],\"title\":[\"YI\"],\"width\":[0.8],\"x\":[\"YI\"],\"y\":[8774.0]}},\"id\":\"86c96d4e-0498-4ac8-82c1-688ea2d9e977\",\"type\":\"ColumnDataSource\"},{\"attributes\":{\"callback\":null,\"column_names\":[\"x\",\"line_color\",\"y\",\"height\",\"label\",\"width\",\"color\",\"line_alpha\",\"fill_alpha\"],\"data\":{\"chart_index\":[{\"title\":\"WMH\"}],\"color\":[\"#E7E419\"],\"fill_alpha\":[0.8],\"height\":[1043.0],\"label\":[{\"title\":\"WMH\"}],\"line_alpha\":[1.0],\"line_color\":[\"white\"],\"title\":[\"WMH\"],\"width\":[0.8],\"x\":[\"WMH\"],\"y\":[521.5]}},\"id\":\"b9c9695c-ccdf-46e1-bee2-4b1f99ebca48\",\"type\":\"ColumnDataSource\"},{\"attributes\":{\"fill_alpha\":{\"field\":\"fill_alpha\"},\"fill_color\":{\"field\":\"color\"},\"height\":{\"field\":\"height\",\"units\":\"data\"},\"line_color\":{\"field\":\"line_color\"},\"width\":{\"field\":\"width\",\"units\":\"data\"},\"x\":{\"field\":\"x\"},\"y\":{\"field\":\"y\"}},\"id\":\"19faf31b-63a4-4308-a6bb-a4ee7d023a48\",\"type\":\"Rect\"},{\"attributes\":{\"label\":{\"value\":\"SOL\"},\"renderers\":[{\"id\":\"0cd32c1a-acfc-47cf-bac9-0c39dad1da87\",\"type\":\"GlyphRenderer\"}]},\"id\":\"b0599b74-e637-48c7-81cf-1218e476bebe\",\"type\":\"LegendItem\"},{\"attributes\":{\"callback\":null,\"column_names\":[\"x\",\"line_color\",\"y\",\"height\",\"label\",\"width\",\"color\",\"line_alpha\",\"fill_alpha\"],\"data\":{\"chart_index\":[{\"title\":\"HR\"}],\"color\":[\"#2C728E\"],\"fill_alpha\":[0.8],\"height\":[22316.0],\"label\":[{\"title\":\"HR\"}],\"line_alpha\":[1.0],\"line_color\":[\"white\"],\"title\":[\"HR\"],\"width\":[0.8],\"x\":[\"HR\"],\"y\":[11158.0]}},\"id\":\"e342ed2d-6a0f-4f55-bb79-c65254ecb22e\",\"type\":\"ColumnDataSource\"},{\"attributes\":{\"label\":{\"value\":\"CUV\"},\"renderers\":[{\"id\":\"f5b8c263-4fe7-4fce-ab61-43ac31713fcd\",\"type\":\"GlyphRenderer\"}]},\"id\":\"cb0439d4-029c-4506-a3c3-ebb352484ba9\",\"type\":\"LegendItem\"},{\"attributes\":{\"callback\":null,\"column_names\":[\"x\",\"line_color\",\"y\",\"height\",\"label\",\"width\",\"color\",\"line_alpha\",\"fill_alpha\"],\"data\":{\"chart_index\":[{\"title\":\"SOL\"}],\"color\":[\"#60C960\"],\"fill_alpha\":[0.8],\"height\":[2044.0],\"label\":[{\"title\":\"SOL\"}],\"line_alpha\":[1.0],\"line_color\":[\"white\"],\"title\":[\"SOL\"],\"width\":[0.8],\"x\":[\"SOL\"],\"y\":[1022.0]}},\"id\":\"b257a15a-af2d-4cb6-bbcf-d042d7326cb7\",\"type\":\"ColumnDataSource\"},{\"attributes\":{\"fill_alpha\":{\"field\":\"fill_alpha\"},\"fill_color\":{\"field\":\"color\"},\"height\":{\"field\":\"height\",\"units\":\"data\"},\"line_color\":{\"field\":\"line_color\"},\"width\":{\"field\":\"width\",\"units\":\"data\"},\"x\":{\"field\":\"x\"},\"y\":{\"field\":\"y\"}},\"id\":\"4c4edcd8-eca2-4de2-bf22-2e79e7f74a72\",\"type\":\"Rect\"},{\"attributes\":{\"label\":{\"value\":\"LH\"},\"renderers\":[{\"id\":\"11651049-381f-4cbd-a2fe-5c5f7bedc739\",\"type\":\"GlyphRenderer\"}]},\"id\":\"e46d7461-f730-4139-802c-c11c56a2e440\",\"type\":\"LegendItem\"},{\"attributes\":{\"callback\":null,\"column_names\":[\"x\",\"line_color\",\"y\",\"height\",\"label\",\"width\",\"color\",\"line_alpha\",\"fill_alpha\"],\"data\":{\"chart_index\":[{\"title\":\"LUH\"}],\"color\":[\"#1F938B\"],\"fill_alpha\":[0.8],\"height\":[5930.0],\"label\":[{\"title\":\"LUH\"}],\"line_alpha\":[1.0],\"line_color\":[\"white\"],\"title\":[\"LUH\"],\"width\":[0.8],\"x\":[\"LUH\"],\"y\":[2965.0]}},\"id\":\"1cc1fa46-3a86-4f76-bdc2-f6d4b31b2d2d\",\"type\":\"ColumnDataSource\"},{\"attributes\":{\"active_drag\":\"auto\",\"active_scroll\":\"auto\",\"active_tap\":\"auto\",\"tools\":[{\"id\":\"e14f20db-a493-4a9d-bc85-0f93963ee622\",\"type\":\"PanTool\"},{\"id\":\"cac06088-dac0-42cf-8c07-1396ab07cf6b\",\"type\":\"WheelZoomTool\"},{\"id\":\"8b745de7-bff5-4bcf-bf72-80561ff98a12\",\"type\":\"BoxZoomTool\"},{\"id\":\"fcb81bca-b188-434f-884f-92007580ae6a\",\"type\":\"SaveTool\"},{\"id\":\"3e1b15f9-c602-4aa0-af2f-1bcbf1baecb7\",\"type\":\"ResetTool\"},{\"id\":\"c24d899c-8da0-4269-81e9-51507120223e\",\"type\":\"HelpTool\"}]},\"id\":\"e2501177-404a-4aa7-b893-0f8fa55eb223\",\"type\":\"Toolbar\"},{\"attributes\":{\"fill_alpha\":{\"field\":\"fill_alpha\"},\"fill_color\":{\"field\":\"color\"},\"height\":{\"field\":\"height\",\"units\":\"data\"},\"line_color\":{\"field\":\"line_color\"},\"width\":{\"field\":\"width\",\"units\":\"data\"},\"x\":{\"field\":\"x\"},\"y\":{\"field\":\"y\"}},\"id\":\"4e4ed0c4-c437-4e5e-bf2b-fd22f43834f7\",\"type\":\"Rect\"},{\"attributes\":{\"callback\":null,\"column_names\":[\"x\",\"line_color\",\"y\",\"height\",\"label\",\"width\",\"color\",\"line_alpha\",\"fill_alpha\"],\"data\":{\"chart_index\":[{\"title\":\"EDU\"}],\"color\":[\"#433A83\"],\"fill_alpha\":[0.8],\"height\":[474.0],\"label\":[{\"title\":\"EDU\"}],\"line_alpha\":[1.0],\"line_color\":[\"white\"],\"title\":[\"EDU\"],\"width\":[0.8],\"x\":[\"EDU\"],\"y\":[237.0]}},\"id\":\"1e53ddf6-c1c1-4663-857e-c5135680011a\",\"type\":\"ColumnDataSource\"},{\"attributes\":{\"data_source\":{\"id\":\"99907755-9c8f-4647-b308-bf667a288bd8\",\"type\":\"ColumnDataSource\"},\"glyph\":{\"id\":\"908b44eb-48a5-4dfd-8eb2-8a4274ce8710\",\"type\":\"Rect\"},\"hover_glyph\":null,\"nonselection_glyph\":null,\"selection_glyph\":null},\"id\":\"98b19634-beea-4737-a17b-3a89d39752f3\",\"type\":\"GlyphRenderer\"},{\"attributes\":{\"bottom_units\":\"screen\",\"fill_alpha\":{\"value\":0.5},\"fill_color\":{\"value\":\"lightgrey\"},\"left_units\":\"screen\",\"level\":\"overlay\",\"line_alpha\":{\"value\":1.0},\"line_color\":{\"value\":\"black\"},\"line_dash\":[4,4],\"line_width\":{\"value\":2},\"plot\":null,\"render_mode\":\"css\",\"right_units\":\"screen\",\"top_units\":\"screen\"},\"id\":\"69c6cbd8-914f-4973-8544-d14a0b6e3477\",\"type\":\"BoxAnnotation\"},{\"attributes\":{\"axis_label\":\"Sum( Pages )\",\"formatter\":{\"id\":\"58bbac75-c09d-4591-bc96-cae64ec7eaf1\",\"type\":\"BasicTickFormatter\"},\"plot\":{\"id\":\"68947a40-cc5e-405b-81d7-21e51666e34e\",\"subtype\":\"Chart\",\"type\":\"Plot\"},\"ticker\":{\"id\":\"2391750d-266b-41aa-a00f-3bf6cf09af7f\",\"type\":\"BasicTicker\"}},\"id\":\"efc0808d-b4e1-4711-9ba0-823209281b43\",\"type\":\"LinearAxis\"},{\"attributes\":{\"label\":{\"value\":\"SUW\"},\"renderers\":[{\"id\":\"98b19634-beea-4737-a17b-3a89d39752f3\",\"type\":\"GlyphRenderer\"}]},\"id\":\"4a336031-989f-4345-8a04-a8037e4de667\",\"type\":\"LegendItem\"},{\"attributes\":{\"label\":{\"value\":\"PHJ\"},\"renderers\":[{\"id\":\"e47181be-e86c-49e3-969b-d9fcd24a41e9\",\"type\":\"GlyphRenderer\"}]},\"id\":\"3eb460d1-9ef1-4329-b0a2-8357e2c0bcd4\",\"type\":\"LegendItem\"},{\"attributes\":{\"label\":{\"value\":\"GS\"},\"renderers\":[{\"id\":\"b99ab013-4baa-4b75-8e64-56b719cdc0cc\",\"type\":\"GlyphRenderer\"}]},\"id\":\"387b8a2a-35f4-4108-9746-63263fd37960\",\"type\":\"LegendItem\"},{\"attributes\":{\"fill_alpha\":{\"field\":\"fill_alpha\"},\"fill_color\":{\"field\":\"color\"},\"height\":{\"field\":\"height\",\"units\":\"data\"},\"line_color\":{\"field\":\"line_color\"},\"width\":{\"field\":\"width\",\"units\":\"data\"},\"x\":{\"field\":\"x\"},\"y\":{\"field\":\"y\"}},\"id\":\"6640ed9e-5b78-4b37-b302-1c0614b480f2\",\"type\":\"Rect\"},{\"attributes\":{\"label\":{\"value\":\"ADV\"},\"renderers\":[{\"id\":\"7796c21a-2b63-4fe5-80a2-d0e432bdf32e\",\"type\":\"GlyphRenderer\"}]},\"id\":\"46ca2721-7580-4470-adeb-5061896bd6f9\",\"type\":\"LegendItem\"},{\"attributes\":{\"callback\":null,\"column_names\":[\"x\",\"line_color\",\"y\",\"height\",\"label\",\"width\",\"color\",\"line_alpha\",\"fill_alpha\"],\"data\":{\"chart_index\":[{\"title\":\"GCB\"}],\"color\":[\"#404487\"],\"fill_alpha\":[0.8],\"height\":[4524.0],\"label\":[{\"title\":\"GCB\"}],\"line_alpha\":[1.0],\"line_color\":[\"white\"],\"title\":[\"GCB\"],\"width\":[0.8],\"x\":[\"GCB\"],\"y\":[2262.0]}},\"id\":\"611a48a4-c82c-4b25-b4b0-b3be42c4e919\",\"type\":\"ColumnDataSource\"},{\"attributes\":{\"data_source\":{\"id\":\"9ae7325d-3646-4333-98b8-85b66aadc078\",\"type\":\"ColumnDataSource\"},\"glyph\":{\"id\":\"884b88c0-55d4-4f65-a008-2611b729a786\",\"type\":\"Rect\"},\"hover_glyph\":null,\"nonselection_glyph\":null,\"selection_glyph\":null},\"id\":\"2dd7238c-a4d8-4ee9-ae56-d3d1abb77ee2\",\"type\":\"GlyphRenderer\"},{\"attributes\":{},\"id\":\"bc842c03-00de-47e5-8029-18715883db25\",\"type\":\"ToolEvents\"},{\"attributes\":{\"label\":{\"value\":\"ST\"},\"renderers\":[{\"id\":\"054a8bf8-bece-4294-8497-7367f91d87fa\",\"type\":\"GlyphRenderer\"}]},\"id\":\"ec0526ff-8f8c-45d5-9de7-ffd879f0c499\",\"type\":\"LegendItem\"},{\"attributes\":{\"data_source\":{\"id\":\"032955fd-f538-461b-9abf-b160f87950a4\",\"type\":\"ColumnDataSource\"},\"glyph\":{\"id\":\"d04c2e09-b144-42ac-bfb9-502ee3231084\",\"type\":\"Rect\"},\"hover_glyph\":null,\"nonselection_glyph\":null,\"selection_glyph\":null},\"id\":\"11651049-381f-4cbd-a2fe-5c5f7bedc739\",\"type\":\"GlyphRenderer\"},{\"attributes\":{\"label\":{\"value\":\"TCOG\"},\"renderers\":[{\"id\":\"2dd7238c-a4d8-4ee9-ae56-d3d1abb77ee2\",\"type\":\"GlyphRenderer\"}]},\"id\":\"270683a3-8938-4bb9-8ee6-000fed88d3b1\",\"type\":\"LegendItem\"},{\"attributes\":{\"data_source\":{\"id\":\"c2f514ee-4457-4658-8d57-9a177b8324ff\",\"type\":\"ColumnDataSource\"},\"glyph\":{\"id\":\"866acb20-8763-4fd8-8071-95e7b7b2ea77\",\"type\":\"Rect\"},\"hover_glyph\":null,\"nonselection_glyph\":null,\"selection_glyph\":null},\"id\":\"f5b8c263-4fe7-4fce-ab61-43ac31713fcd\",\"type\":\"GlyphRenderer\"},{\"attributes\":{\"data_source\":{\"id\":\"8fd412e9-0fba-4e19-8219-bc932a32c3bd\",\"type\":\"ColumnDataSource\"},\"glyph\":{\"id\":\"d95fb81d-e276-4f8b-ac1f-1d7cc46afe8e\",\"type\":\"Rect\"},\"hover_glyph\":null,\"nonselection_glyph\":null,\"selection_glyph\":null},\"id\":\"6fe45ac2-5519-4d6f-913e-a046be648470\",\"type\":\"GlyphRenderer\"},{\"attributes\":{\"fill_alpha\":{\"field\":\"fill_alpha\"},\"fill_color\":{\"field\":\"color\"},\"height\":{\"field\":\"height\",\"units\":\"data\"},\"line_color\":{\"field\":\"line_color\"},\"width\":{\"field\":\"width\",\"units\":\"data\"},\"x\":{\"field\":\"x\"},\"y\":{\"field\":\"y\"}},\"id\":\"884b88c0-55d4-4f65-a008-2611b729a786\",\"type\":\"Rect\"},{\"attributes\":{\"callback\":null,\"column_names\":[\"x\",\"line_color\",\"y\",\"height\",\"label\",\"width\",\"color\",\"line_alpha\",\"fill_alpha\"],\"data\":{\"chart_index\":[{\"title\":\"LibM\"}],\"color\":[\"#1E9B89\"],\"fill_alpha\":[0.8],\"height\":[2726.0],\"label\":[{\"title\":\"LibM\"}],\"line_alpha\":[1.0],\"line_color\":[\"white\"],\"title\":[\"LibM\"],\"width\":[0.8],\"x\":[\"LibM\"],\"y\":[1363.0]}},\"id\":\"8fd412e9-0fba-4e19-8219-bc932a32c3bd\",\"type\":\"ColumnDataSource\"},{\"attributes\":{\"callback\":null,\"factors\":[\"ADV\",\"ARAI\",\"AmSn\",\"CE\",\"CUV\",\"EDU\",\"GCB\",\"GH\",\"GS\",\"GoH\",\"HM\",\"HR\",\"IR\",\"LB\",\"LH\",\"LUH\",\"LibM\",\"NMN\",\"PHJ\",\"PTAR\",\"PUR\",\"RH\",\"SOL\",\"ST\",\"SUW\",\"Sligo\",\"TCOG\",\"TMM\",\"WMH\",\"YI\"]},\"id\":\"3c92b106-4c7b-4771-8c25-708c06069fcd\",\"type\":\"FactorRange\"},{\"attributes\":{\"fill_alpha\":{\"field\":\"fill_alpha\"},\"fill_color\":{\"field\":\"color\"},\"height\":{\"field\":\"height\",\"units\":\"data\"},\"line_color\":{\"field\":\"line_color\"},\"width\":{\"field\":\"width\",\"units\":\"data\"},\"x\":{\"field\":\"x\"},\"y\":{\"field\":\"y\"}},\"id\":\"016170f6-ef81-4ce2-a7ff-c8e2564a84ca\",\"type\":\"Rect\"},{\"attributes\":{\"data_source\":{\"id\":\"b9c9695c-ccdf-46e1-bee2-4b1f99ebca48\",\"type\":\"ColumnDataSource\"},\"glyph\":{\"id\":\"839ece8f-2365-4ae8-a5c1-003052bfd225\",\"type\":\"Rect\"},\"hover_glyph\":null,\"nonselection_glyph\":null,\"selection_glyph\":null},\"id\":\"f3a8108b-25c0-477e-956d-6649531e88e2\",\"type\":\"GlyphRenderer\"},{\"attributes\":{\"fill_alpha\":{\"field\":\"fill_alpha\"},\"fill_color\":{\"field\":\"color\"},\"height\":{\"field\":\"height\",\"units\":\"data\"},\"line_color\":{\"field\":\"line_color\"},\"width\":{\"field\":\"width\",\"units\":\"data\"},\"x\":{\"field\":\"x\"},\"y\":{\"field\":\"y\"}},\"id\":\"3f3a3eb6-876e-4c37-9050-c600c06887f3\",\"type\":\"Rect\"},{\"attributes\":{\"data_source\":{\"id\":\"f97641cf-7dba-4a39-9ccc-7e04aa13b40f\",\"type\":\"ColumnDataSource\"},\"glyph\":{\"id\":\"4e7bb159-0393-4b6e-bee1-856d7ebcffc7\",\"type\":\"Rect\"},\"hover_glyph\":null,\"nonselection_glyph\":null,\"selection_glyph\":null},\"id\":\"317c84db-f183-4029-a476-c7f675f34b62\",\"type\":\"GlyphRenderer\"},{\"attributes\":{\"label\":{\"value\":\"HM\"},\"renderers\":[{\"id\":\"76391f93-0d04-4f50-b35c-8e88b1975475\",\"type\":\"GlyphRenderer\"}]},\"id\":\"abd70b43-b162-4902-9346-cdb6b5f51fe0\",\"type\":\"LegendItem\"},{\"attributes\":{\"callback\":null,\"column_names\":[\"x\",\"line_color\",\"y\",\"height\",\"label\",\"width\",\"color\",\"line_alpha\",\"fill_alpha\"],\"data\":{\"chart_index\":[{\"title\":\"TMM\"}],\"color\":[\"#CFE11C\"],\"fill_alpha\":[0.8],\"height\":[1925.0],\"label\":[{\"title\":\"TMM\"}],\"line_alpha\":[1.0],\"line_color\":[\"white\"],\"title\":[\"TMM\"],\"width\":[0.8],\"x\":[\"TMM\"],\"y\":[962.5]}},\"id\":\"1354aae6-9d67-473f-b196-87f07e8f88eb\",\"type\":\"ColumnDataSource\"},{\"attributes\":{\"label\":{\"value\":\"YI\"},\"renderers\":[{\"id\":\"249c7799-56a7-4ef6-a9cf-aba8241b8c8d\",\"type\":\"GlyphRenderer\"}]},\"id\":\"aa762ce0-8fff-4854-b7a7-d95396136588\",\"type\":\"LegendItem\"},{\"attributes\":{\"data_source\":{\"id\":\"9f3a6ec8-4a35-4c73-b362-299e87cb8c60\",\"type\":\"ColumnDataSource\"},\"glyph\":{\"id\":\"491fc939-fc5a-4670-91cd-b8185fe595d7\",\"type\":\"Rect\"},\"hover_glyph\":null,\"nonselection_glyph\":null,\"selection_glyph\":null},\"id\":\"daeb97b7-805e-4bf0-a7b5-624ec499f3c3\",\"type\":\"GlyphRenderer\"},{\"attributes\":{\"plot\":{\"id\":\"68947a40-cc5e-405b-81d7-21e51666e34e\",\"subtype\":\"Chart\",\"type\":\"Plot\"}},\"id\":\"fcb81bca-b188-434f-884f-92007580ae6a\",\"type\":\"SaveTool\"},{\"attributes\":{\"data_source\":{\"id\":\"611a48a4-c82c-4b25-b4b0-b3be42c4e919\",\"type\":\"ColumnDataSource\"},\"glyph\":{\"id\":\"d416c28c-3b31-4eaa-84f4-bdf9c7d7cfc0\",\"type\":\"Rect\"},\"hover_glyph\":null,\"nonselection_glyph\":null,\"selection_glyph\":null},\"id\":\"e674b62d-4fda-4fe3-9cad-8cf185770eb2\",\"type\":\"GlyphRenderer\"},{\"attributes\":{\"plot\":{\"id\":\"68947a40-cc5e-405b-81d7-21e51666e34e\",\"subtype\":\"Chart\",\"type\":\"Plot\"}},\"id\":\"3e1b15f9-c602-4aa0-af2f-1bcbf1baecb7\",\"type\":\"ResetTool\"},{\"attributes\":{\"callback\":null,\"column_names\":[\"x\",\"line_color\",\"y\",\"height\",\"label\",\"width\",\"color\",\"line_alpha\",\"fill_alpha\"],\"data\":{\"chart_index\":[{\"title\":\"RH\"}],\"color\":[\"#4DC26B\"],\"fill_alpha\":[0.8],\"height\":[54852.0],\"label\":[{\"title\":\"RH\"}],\"line_alpha\":[1.0],\"line_color\":[\"white\"],\"title\":[\"RH\"],\"width\":[0.8],\"x\":[\"RH\"],\"y\":[27426.0]}},\"id\":\"a287c656-74f9-4cf5-b3ba-2618d50d798f\",\"type\":\"ColumnDataSource\"},{\"attributes\":{\"overlay\":{\"id\":\"69c6cbd8-914f-4973-8544-d14a0b6e3477\",\"type\":\"BoxAnnotation\"},\"plot\":{\"id\":\"68947a40-cc5e-405b-81d7-21e51666e34e\",\"subtype\":\"Chart\",\"type\":\"Plot\"}},\"id\":\"8b745de7-bff5-4bcf-bf72-80561ff98a12\",\"type\":\"BoxZoomTool\"},{\"attributes\":{\"fill_alpha\":{\"field\":\"fill_alpha\"},\"fill_color\":{\"field\":\"color\"},\"height\":{\"field\":\"height\",\"units\":\"data\"},\"line_color\":{\"field\":\"line_color\"},\"width\":{\"field\":\"width\",\"units\":\"data\"},\"x\":{\"field\":\"x\"},\"y\":{\"field\":\"y\"}},\"id\":\"ffe214dd-894c-4857-940b-592410bd09d3\",\"type\":\"Rect\"},{\"attributes\":{\"data_source\":{\"id\":\"07113b9a-520c-4071-9f3f-25b142b32e4e\",\"type\":\"ColumnDataSource\"},\"glyph\":{\"id\":\"be1a5cdc-d85a-4db8-92bb-eb8cb0458018\",\"type\":\"Rect\"},\"hover_glyph\":null,\"nonselection_glyph\":null,\"selection_glyph\":null},\"id\":\"054a8bf8-bece-4294-8497-7367f91d87fa\",\"type\":\"GlyphRenderer\"},{\"attributes\":{\"callback\":null,\"column_names\":[\"x\",\"line_color\",\"y\",\"height\",\"label\",\"width\",\"color\",\"line_alpha\",\"fill_alpha\"],\"data\":{\"chart_index\":[{\"title\":\"ARAI\"}],\"color\":[\"#460C5F\"],\"fill_alpha\":[0.8],\"height\":[96.0],\"label\":[{\"title\":\"ARAI\"}],\"line_alpha\":[1.0],\"line_color\":[\"white\"],\"title\":[\"ARAI\"],\"width\":[0.8],\"x\":[\"ARAI\"],\"y\":[48.0]}},\"id\":\"02a0b84e-cda2-4b0f-a8b3-e41cc16aa669\",\"type\":\"ColumnDataSource\"},{\"attributes\":{\"callback\":null,\"column_names\":[\"x\",\"line_color\",\"y\",\"height\",\"label\",\"width\",\"color\",\"line_alpha\",\"fill_alpha\"],\"data\":{\"chart_index\":[{\"title\":\"ST\"}],\"color\":[\"#74D054\"],\"fill_alpha\":[0.8],\"height\":[20624.0],\"label\":[{\"title\":\"ST\"}],\"line_alpha\":[1.0],\"line_color\":[\"white\"],\"title\":[\"ST\"],\"width\":[0.8],\"x\":[\"ST\"],\"y\":[10312.0]}},\"id\":\"07113b9a-520c-4071-9f3f-25b142b32e4e\",\"type\":\"ColumnDataSource\"}],\"root_ids\":[\"68947a40-cc5e-405b-81d7-21e51666e34e\"]},\"title\":\"Bokeh Application\",\"version\":\"0.12.4\"}};\n",
       "            var render_items = [{\"docid\":\"9a787781-2a09-454b-9215-97a3e1944b38\",\"elementid\":\"7339504b-d6b9-4703-ac6e-fb8b923765e0\",\"modelid\":\"68947a40-cc5e-405b-81d7-21e51666e34e\"}];\n",
       "            \n",
       "            Bokeh.embed.embed_items(docs_json, render_items);\n",
       "          };\n",
       "          if (document.readyState != \"loading\") fn();\n",
       "          else document.addEventListener(\"DOMContentLoaded\", fn);\n",
       "        })();\n",
       "      },\n",
       "      function(Bokeh) {\n",
       "      }\n",
       "    ];\n",
       "  \n",
       "    function run_inline_js() {\n",
       "      \n",
       "      if ((window.Bokeh !== undefined) || (force === true)) {\n",
       "        for (var i = 0; i < inline_js.length; i++) {\n",
       "          inline_js[i](window.Bokeh);\n",
       "        }if (force === true) {\n",
       "          display_loaded();\n",
       "        }} else if (Date.now() < window._bokeh_timeout) {\n",
       "        setTimeout(run_inline_js, 100);\n",
       "      } else if (!window._bokeh_failed_load) {\n",
       "        console.log(\"Bokeh: BokehJS failed to load within specified timeout.\");\n",
       "        window._bokeh_failed_load = true;\n",
       "      } else if (force !== true) {\n",
       "        var cell = $(document.getElementById(\"7339504b-d6b9-4703-ac6e-fb8b923765e0\")).parents('.cell').data().cell;\n",
       "        cell.output_area.append_execute_result(NB_LOAD_WARNING)\n",
       "      }\n",
       "  \n",
       "    }\n",
       "  \n",
       "    if (window._bokeh_is_loading === 0) {\n",
       "      console.log(\"Bokeh: BokehJS loaded, going straight to plotting\");\n",
       "      run_inline_js();\n",
       "    } else {\n",
       "      load_libs(js_urls, function() {\n",
       "        console.log(\"Bokeh: BokehJS plotting callback run at\", now());\n",
       "        run_inline_js();\n",
       "      });\n",
       "    }\n",
       "  }(this));\n",
       "</script>"
      ]
     },
     "metadata": {},
     "output_type": "display_data"
    }
   ],
   "source": [
    "show(p)"
   ]
  },
  {
   "cell_type": "code",
   "execution_count": null,
   "metadata": {
    "collapsed": true
   },
   "outputs": [],
   "source": []
  }
 ],
 "metadata": {
  "anaconda-cloud": {},
  "kernelspec": {
   "display_name": "Python [conda env:dissertation2]",
   "language": "python",
   "name": "conda-env-dissertation2-py"
  },
  "language_info": {
   "codemirror_mode": {
    "name": "ipython",
    "version": 3
   },
   "file_extension": ".py",
   "mimetype": "text/x-python",
   "name": "python",
   "nbconvert_exporter": "python",
   "pygments_lexer": "ipython3",
   "version": "3.5.2"
  }
 },
 "nbformat": 4,
 "nbformat_minor": 2
}
