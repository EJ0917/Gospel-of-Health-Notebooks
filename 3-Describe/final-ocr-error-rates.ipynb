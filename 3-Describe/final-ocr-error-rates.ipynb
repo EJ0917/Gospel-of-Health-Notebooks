{
 "cells": [
  {
   "cell_type": "code",
   "execution_count": 1,
   "metadata": {
    "ExecuteTime": {
     "end_time": "2017-10-16T19:25:53.588601Z",
     "start_time": "2017-10-16T19:25:53.560987Z"
    },
    "collapsed": true
   },
   "outputs": [],
   "source": [
    "%load_ext autoreload\n",
    "%autoreload 2"
   ]
  },
  {
   "cell_type": "code",
   "execution_count": 2,
   "metadata": {
    "ExecuteTime": {
     "end_time": "2017-10-16T19:25:56.072241Z",
     "start_time": "2017-10-16T19:25:53.596007Z"
    },
    "collapsed": true
   },
   "outputs": [],
   "source": [
    "import csv\n",
    "from text2topics import reports\n",
    "from text2topics import utilities\n",
    "import os\n",
    "from os import listdir\n",
    "from os.path import isfile, join"
   ]
  },
  {
   "cell_type": "code",
   "execution_count": 3,
   "metadata": {
    "ExecuteTime": {
     "end_time": "2017-10-16T19:25:56.125338Z",
     "start_time": "2017-10-16T19:25:56.074421Z"
    },
    "collapsed": true
   },
   "outputs": [],
   "source": [
    "wordlist_dir = \"/Users/jeriwieringa/Dissertation/drafts/data/word-lists\"\n",
    "wordlists = [\"2016-12-07-SDA-last-names.txt\", \n",
    "             \"2016-12-07-SDA-place-names.txt\", \n",
    "             \"2016-12-08-SDA-Vocabulary.txt\", \n",
    "             \"2017-01-03-place-names.txt\", \n",
    "             \"2017-02-14-Base-Word-List-SCOWL&KJV.txt\",\n",
    "             \"2017-03-01-Additional-Approved-Words.txt\",\n",
    "             \"2017-02-14-Roman-Numerals.txt\"]"
   ]
  },
  {
   "cell_type": "code",
   "execution_count": 4,
   "metadata": {
    "ExecuteTime": {
     "end_time": "2017-10-16T19:25:56.174829Z",
     "start_time": "2017-10-16T19:25:56.127379Z"
    },
    "collapsed": true
   },
   "outputs": [],
   "source": [
    "out_dir = \"/Users/jeriwieringa/Dissertation/drafts/data/module-2/\""
   ]
  },
  {
   "cell_type": "code",
   "execution_count": 5,
   "metadata": {
    "ExecuteTime": {
     "end_time": "2017-10-16T19:25:56.421113Z",
     "start_time": "2017-10-16T19:25:56.176657Z"
    },
    "collapsed": true
   },
   "outputs": [],
   "source": [
    "spelling_dictionary = utilities.create_spelling_dictionary(wordlist_dir, wordlists)"
   ]
  },
  {
   "cell_type": "code",
   "execution_count": 6,
   "metadata": {
    "ExecuteTime": {
     "end_time": "2017-10-16T19:25:56.469098Z",
     "start_time": "2017-10-16T19:25:56.423263Z"
    },
    "collapsed": true
   },
   "outputs": [],
   "source": [
    "titles = [\"ADV\", \"AmSn\", \"ARAI\", \"CE\", \n",
    "          \"CUV\", \"EDU\", \"GCB\", \"GH\", \n",
    "          \"GOH\", \"GS\", \"HM\", \"HR\", \n",
    "          \"IR\", \"LB\", \"LH\", \"LibM\", \n",
    "          \"LUH\", \"NMN\",\"PHJ\",\"PTAR\",\n",
    "          \"PUR\",\"RH1850-1889\", \"RH1890-1920\",\"Sligo\",\"SOL\",\n",
    "          \"ST\",\"SUW\",\"TCOG\",\"TMM\",\n",
    "          \"WMH\",\"YI\"]"
   ]
  },
  {
   "cell_type": "code",
   "execution_count": 7,
   "metadata": {
    "ExecuteTime": {
     "end_time": "2017-10-16T19:25:56.510032Z",
     "start_time": "2017-10-16T19:25:56.472196Z"
    },
    "collapsed": true
   },
   "outputs": [],
   "source": [
    "with open('/Users/jeriwieringa/Dissertation/drafts/data/2017-03-24-final-correction-files.txt', 'r') as f:\n",
    "    final_dirs = f.read().splitlines()"
   ]
  },
  {
   "cell_type": "code",
   "execution_count": 8,
   "metadata": {
    "ExecuteTime": {
     "end_time": "2017-10-16T19:25:56.564012Z",
     "start_time": "2017-10-16T19:25:56.512792Z"
    },
    "collapsed": true
   },
   "outputs": [],
   "source": [
    "pairs = list(zip(titles, final_dirs))"
   ]
  },
  {
   "cell_type": "code",
   "execution_count": 9,
   "metadata": {
    "ExecuteTime": {
     "end_time": "2017-10-16T19:31:17.526818Z",
     "start_time": "2017-10-16T19:25:56.565999Z"
    }
   },
   "outputs": [
    {
     "name": "stdout",
     "output_type": "stream",
     "text": [
      "ADV/correction15\n",
      "AmSn/correction9\n",
      "ARAI/correction7\n",
      "CE/correction9\n",
      "CUV/correction9\n",
      "EDU/correction9\n",
      "GCB/correction9\n",
      "GH/correction8\n",
      "GoH/correction9\n",
      "GS/correction7\n",
      "HM/correction9\n",
      "HR/correction9\n",
      "IR/correction9\n",
      "LB/correction9\n",
      "LH/correction9\n",
      "LibM/correction10\n",
      "LUH/correction7\n",
      "NMN/correction8\n",
      "PHJ/correction9\n",
      "PTAR/correction7\n",
      "PUR/correction8\n",
      "RH1850-1889/correction8\n",
      "RH1890-1920/correction9\n",
      "Sligo/correction8\n",
      "SOL/correction6\n",
      "ST/correction9\n",
      "SUW/correction8\n",
      "TCOG/correction6\n",
      "TMM/correction6\n",
      "WMH/correction8\n",
      "YI/correction10\n"
     ]
    }
   ],
   "source": [
    "with open(os.path.join(out_dir, 'final_verified_rates.csv'), 'w') as out:\n",
    "    csv_writer = csv.writer(out, delimiter=',')\n",
    "    csv_writer.writerow(['Title', 'Initial Average Verified Rate'])\n",
    "    for title, final_dir in pairs:\n",
    "        print(final_dir)\n",
    "        base_dir = \"/Users/jeriwieringa/Dissertation/text/text/2017-01-31-corpus-with-utf8-split-into-titles-cleaning\"\n",
    "        stats = reports.overview_statistics(join(base_dir, final_dir), spelling_dictionary, title)\n",
    "        verified_rate = reports.average_verified_rate(stats)\n",
    "        csv_writer.writerow([title, verified_rate])"
   ]
  },
  {
   "cell_type": "code",
   "execution_count": null,
   "metadata": {
    "collapsed": true
   },
   "outputs": [],
   "source": []
  }
 ],
 "metadata": {
  "anaconda-cloud": {},
  "kernelspec": {
   "display_name": "Python [conda env:dissertation2]",
   "language": "python",
   "name": "conda-env-dissertation2-py"
  },
  "language_info": {
   "codemirror_mode": {
    "name": "ipython",
    "version": 3
   },
   "file_extension": ".py",
   "mimetype": "text/x-python",
   "name": "python",
   "nbconvert_exporter": "python",
   "pygments_lexer": "ipython3",
   "version": "3.5.2"
  }
 },
 "nbformat": 4,
 "nbformat_minor": 2
}
