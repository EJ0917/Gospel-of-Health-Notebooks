{
 "cells": [
  {
   "cell_type": "markdown",
   "metadata": {},
   "source": [
    "Metadata for browser:\n",
    "- doi: url\n",
    "- title: Expanded Name (i.e., Review and Herald (1.1) Dec. 12, 1870)\n",
    "- authors: blank\n",
    "- journal: expand name\n",
    "- volume: number\n",
    "- issue: number\n",
    "- date: yyyy-mm-dd\n",
    "- page: page"
   ]
  },
  {
   "cell_type": "code",
   "execution_count": 1,
   "metadata": {
    "ExecuteTime": {
     "end_time": "2018-02-28T18:14:29.884946Z",
     "start_time": "2018-02-28T18:14:27.899684Z"
    },
    "collapsed": true
   },
   "outputs": [],
   "source": [
    "import csv\n",
    "import datetime\n",
    "import GoH.utilities\n",
    "import pandas as pd\n",
    "import re\n",
    "import urllib"
   ]
  },
  {
   "cell_type": "code",
   "execution_count": 2,
   "metadata": {
    "ExecuteTime": {
     "end_time": "2018-02-28T18:14:29.895953Z",
     "start_time": "2018-02-28T18:14:29.889195Z"
    },
    "collapsed": true
   },
   "outputs": [],
   "source": [
    "base_url = \"http://documents.adventistarchives.org/Periodicals/\""
   ]
  },
  {
   "cell_type": "code",
   "execution_count": 3,
   "metadata": {
    "ExecuteTime": {
     "end_time": "2018-02-28T18:14:29.921462Z",
     "start_time": "2018-02-28T18:14:29.898552Z"
    },
    "collapsed": true
   },
   "outputs": [],
   "source": [
    "title_keys = {\"ADV\": \"Training School Advocate\",\n",
    "\"AmSn\": \"American Sentinel\",\n",
    "\"ARAI\": \"Advent Review and Sabbath Herald Anniversary Issue\",\n",
    "\"CE\": \"Christian Education\",\n",
    "\"CUV\": \"Welcome Visitor (Columbia Union Visitor)\",\n",
    "\"EDU\": \"Christian Educator\",\n",
    "\"GCB\": \"General Conference Bulletin\",\n",
    "\"GH\": \"Gospel Herald\",\n",
    "\"GOH\": \"Gospel of Health\",\n",
    "\"GS\": \"Gospel Sickle\",\n",
    "\"HM\": \"Home Missionary\",\n",
    "\"HR\": \"Health Reformer\",\n",
    "\"IR\": \"Indiana Reporter\",\n",
    "\"LB\": \"Life Boat\",\n",
    "\"LH\": \"Life and Health\",\n",
    "\"LibM\": \"Liberty\",\n",
    "\"LUH\": \"Lake Union Herald\",\n",
    "\"NMN\": \"North Michigan News Sheet\",\n",
    "\"PHJ\": \"Pacific Health Journal and Temperance Advocate\",\n",
    "\"PTAR\": \"Present Truth (Advent Review)\",\n",
    "\"PUR\": \"Pacific Union Recorder\",\n",
    "\"RH\": \"Review and Herald\",\n",
    "\"Sligo\": \"Sligonian\",\n",
    "\"SOL\": \"Sentinel of Liberty\",\n",
    "\"ST\": \"Signs of the Times\",\n",
    "\"SUW\": \"Report of Progress, Southern Union Conference\",\n",
    "\"TCOG\": \"The Church Officer's Gazette\",\n",
    "\"TMM\": \"The Missionary Magazine\",\n",
    "\"WMH\": \"West Michigan Herald\",\n",
    "\"YI\": \"Youth's Instructor\"}"
   ]
  },
  {
   "cell_type": "code",
   "execution_count": 4,
   "metadata": {
    "ExecuteTime": {
     "end_time": "2018-02-28T18:14:40.859434Z",
     "start_time": "2018-02-28T18:14:29.925596Z"
    },
    "collapsed": true
   },
   "outputs": [],
   "source": [
    "df = pd.read_table('../../data/target_300_10_Sample.txt',\n",
    "                  header=None,\n",
    "                  names=['doc_id', 'label', 'content'])"
   ]
  },
  {
   "cell_type": "code",
   "execution_count": 5,
   "metadata": {
    "ExecuteTime": {
     "end_time": "2018-02-28T18:14:40.892001Z",
     "start_time": "2018-02-28T18:14:40.862320Z"
    },
    "scrolled": true
   },
   "outputs": [
    {
     "data": {
      "text/html": [
       "<div>\n",
       "<table border=\"1\" class=\"dataframe\">\n",
       "  <thead>\n",
       "    <tr style=\"text-align: right;\">\n",
       "      <th></th>\n",
       "      <th>doc_id</th>\n",
       "      <th>label</th>\n",
       "      <th>content</th>\n",
       "    </tr>\n",
       "  </thead>\n",
       "  <tbody>\n",
       "    <tr>\n",
       "      <th>0</th>\n",
       "      <td>ADV18981201-V02-01-page12.txt</td>\n",
       "      <td>en</td>\n",
       "      <td>uncommon thing member boarding school form cl...</td>\n",
       "    </tr>\n",
       "    <tr>\n",
       "      <th>1</th>\n",
       "      <td>ADV18981201-V02-01-page13.txt</td>\n",
       "      <td>en</td>\n",
       "      <td>lex truly lord able save uttermost bound long...</td>\n",
       "    </tr>\n",
       "    <tr>\n",
       "      <th>2</th>\n",
       "      <td>ADV18981201-V02-01-page15.txt</td>\n",
       "      <td>en</td>\n",
       "      <td>personal experience lord impressed written te...</td>\n",
       "    </tr>\n",
       "    <tr>\n",
       "      <th>3</th>\n",
       "      <td>ADV18981201-V02-01-page16.txt</td>\n",
       "      <td>en</td>\n",
       "      <td>pride heart thought foolish think thing isa p...</td>\n",
       "    </tr>\n",
       "    <tr>\n",
       "      <th>4</th>\n",
       "      <td>ADV18981201-V02-01-page20.txt</td>\n",
       "      <td>en</td>\n",
       "      <td>anew important department college college con...</td>\n",
       "    </tr>\n",
       "    <tr>\n",
       "      <th>5</th>\n",
       "      <td>ADV18990101-V01-01-page34.txt</td>\n",
       "      <td>en</td>\n",
       "      <td>advocate church school miss writes school jun...</td>\n",
       "    </tr>\n",
       "    <tr>\n",
       "      <th>6</th>\n",
       "      <td>ADV18990101-V01-01-page35.txt</td>\n",
       "      <td>en</td>\n",
       "      <td>the_advocate younger year old frightened thre...</td>\n",
       "    </tr>\n",
       "    <tr>\n",
       "      <th>7</th>\n",
       "      <td>ADV18990101-V01-01-page44.txt</td>\n",
       "      <td>en</td>\n",
       "      <td>the_advocate library reading_room furnished m...</td>\n",
       "    </tr>\n",
       "    <tr>\n",
       "      <th>8</th>\n",
       "      <td>ADV18990101-V01-01-page45.txt</td>\n",
       "      <td>en</td>\n",
       "      <td>the_advocate student desire work order reduce...</td>\n",
       "    </tr>\n",
       "    <tr>\n",
       "      <th>9</th>\n",
       "      <td>ADV18990201-V01-02-page54.txt</td>\n",
       "      <td>en</td>\n",
       "      <td>advocate weight pound ounce silver charger cu...</td>\n",
       "    </tr>\n",
       "  </tbody>\n",
       "</table>\n",
       "</div>"
      ],
      "text/plain": [
       "                           doc_id label  \\\n",
       "0  ADV18981201-V02-01-page12.txt    en    \n",
       "1  ADV18981201-V02-01-page13.txt    en    \n",
       "2  ADV18981201-V02-01-page15.txt    en    \n",
       "3  ADV18981201-V02-01-page16.txt    en    \n",
       "4  ADV18981201-V02-01-page20.txt    en    \n",
       "5  ADV18990101-V01-01-page34.txt    en    \n",
       "6  ADV18990101-V01-01-page35.txt    en    \n",
       "7  ADV18990101-V01-01-page44.txt    en    \n",
       "8  ADV18990101-V01-01-page45.txt    en    \n",
       "9  ADV18990201-V01-02-page54.txt    en    \n",
       "\n",
       "                                             content  \n",
       "0   uncommon thing member boarding school form cl...  \n",
       "1   lex truly lord able save uttermost bound long...  \n",
       "2   personal experience lord impressed written te...  \n",
       "3   pride heart thought foolish think thing isa p...  \n",
       "4   anew important department college college con...  \n",
       "5   advocate church school miss writes school jun...  \n",
       "6   the_advocate younger year old frightened thre...  \n",
       "7   the_advocate library reading_room furnished m...  \n",
       "8   the_advocate student desire work order reduce...  \n",
       "9   advocate weight pound ounce silver charger cu...  "
      ]
     },
     "execution_count": 5,
     "metadata": {},
     "output_type": "execute_result"
    }
   ],
   "source": [
    "df[:10]"
   ]
  },
  {
   "cell_type": "code",
   "execution_count": 6,
   "metadata": {
    "ExecuteTime": {
     "end_time": "2018-02-28T18:14:40.921735Z",
     "start_time": "2018-02-28T18:14:40.894954Z"
    },
    "collapsed": true
   },
   "outputs": [],
   "source": [
    "def get_split_id(doc_id):\n",
    "    return doc_id.split('-')\n",
    "\n",
    "def construct_url(base_url, abrev, split_id):\n",
    "    return urllib.parse.urljoin(base_url, \"{}/{}.pdf\".format(abrev, \"-\".join(split_id[:-1])) )\n",
    "\n",
    "def get_date(split_id):  \n",
    "    return re.search(r'[0-9]+', split_id[0]).group()\n",
    "\n",
    "def get_volume(split_id):   \n",
    "    return re.search(r'[0-9]+', split_id[1]).group()\n",
    "    \n",
    "def get_issue(split_id):\n",
    "    return split_id[2]\n",
    "\n",
    "def get_page(split_id):\n",
    "    return re.search(r'[0-9]+', split_id[3]).group()   "
   ]
  },
  {
   "cell_type": "code",
   "execution_count": 19,
   "metadata": {
    "ExecuteTime": {
     "end_time": "2018-02-28T18:58:09.137047Z",
     "start_time": "2018-02-28T18:57:33.814502Z"
    }
   },
   "outputs": [],
   "source": [
    "with open('../../browser/data/meta.csv', 'w', newline='') as csvfile:\n",
    "    writer = csv.writer(csvfile, delimiter=',', quotechar='\"', quoting=csv.QUOTE_ALL)\n",
    "    for index, row in df.iterrows():\n",
    "        _id = row['doc_id'].strip()\n",
    "#         print(row['doc_id'])\n",
    "        abrev = GoH.utilities.get_title(_id)\n",
    "        split_id = get_split_id(_id)\n",
    "        date_data = get_date(split_id)\n",
    "        url = construct_url(base_url, abrev, split_id)\n",
    "        \n",
    "        try:\n",
    "            if len(date_data) == 4:\n",
    "                date = datetime.datetime.strptime(get_date(split_id), \"%Y\")           \n",
    "            elif len(date_data) < 7:\n",
    "                date = datetime.datetime.strptime(get_date(split_id), \"%Y%m\")\n",
    "            else:\n",
    "                date = datetime.datetime.strptime(get_date(split_id), \"%Y%m%d\")\n",
    "        except:\n",
    "            date = datetime.datetime.strptime(get_date(split_id)[:6], \"%Y%m\")\n",
    "\n",
    "        try:\n",
    "            volume = get_volume(split_id)\n",
    "        except:\n",
    "            volume = \"XX\"\n",
    "            \n",
    "        try:\n",
    "            issue = get_issue(split_id)\n",
    "        except:\n",
    "            issue = \"XX\"\n",
    "            \n",
    "        page = get_page(split_id)\n",
    "        journal = title_keys[abrev]\n",
    "        title = \"{} (Vol. {}.{}) {}, page {}\".format(journal, volume, issue, date.strftime('%b %d, %Y'), page)\n",
    "        writer.writerow([_id, title, \"NA\", journal, volume, issue, date.isoformat(), page])"
   ]
  },
  {
   "cell_type": "code",
   "execution_count": null,
   "metadata": {
    "collapsed": true
   },
   "outputs": [],
   "source": []
  }
 ],
 "metadata": {
  "anaconda-cloud": {},
  "kernelspec": {
   "display_name": "Python [conda env:dissertation2]",
   "language": "python",
   "name": "conda-env-dissertation2-py"
  },
  "language_info": {
   "codemirror_mode": {
    "name": "ipython",
    "version": 3
   },
   "file_extension": ".py",
   "mimetype": "text/x-python",
   "name": "python",
   "nbconvert_exporter": "python",
   "pygments_lexer": "ipython3",
   "version": "3.5.2"
  }
 },
 "nbformat": 4,
 "nbformat_minor": 2
}
