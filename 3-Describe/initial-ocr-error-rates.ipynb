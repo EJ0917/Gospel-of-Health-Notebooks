{
 "cells": [
  {
   "cell_type": "code",
   "execution_count": 1,
   "metadata": {
    "ExecuteTime": {
     "end_time": "2017-10-16T19:25:42.959802Z",
     "start_time": "2017-10-16T19:25:42.929340Z"
    },
    "collapsed": true
   },
   "outputs": [],
   "source": [
    "%load_ext autoreload\n",
    "%autoreload 2"
   ]
  },
  {
   "cell_type": "code",
   "execution_count": 2,
   "metadata": {
    "ExecuteTime": {
     "end_time": "2017-10-16T19:25:45.783999Z",
     "start_time": "2017-10-16T19:25:42.962629Z"
    },
    "collapsed": true
   },
   "outputs": [],
   "source": [
    "import csv\n",
    "from text2topics import reports\n",
    "from text2topics import utilities\n",
    "import os\n",
    "from os import listdir\n",
    "from os.path import isfile, join"
   ]
  },
  {
   "cell_type": "code",
   "execution_count": 3,
   "metadata": {
    "ExecuteTime": {
     "end_time": "2017-10-16T19:25:45.830888Z",
     "start_time": "2017-10-16T19:25:45.786340Z"
    },
    "collapsed": true
   },
   "outputs": [],
   "source": [
    "wordlist_dir = \"/Users/jeriwieringa/Dissertation/drafts/data/word-lists\"\n",
    "wordlists = [\"2016-12-07-SDA-last-names.txt\", \n",
    "             \"2016-12-07-SDA-place-names.txt\", \n",
    "             \"2016-12-08-SDA-Vocabulary.txt\", \n",
    "             \"2017-01-03-place-names.txt\", \n",
    "             \"2017-02-14-Base-Word-List-SCOWL&KJV.txt\",\n",
    "             \"2017-03-01-Additional-Approved-Words.txt\",\n",
    "             \"2017-02-14-Roman-Numerals.txt\"]"
   ]
  },
  {
   "cell_type": "code",
   "execution_count": 4,
   "metadata": {
    "ExecuteTime": {
     "end_time": "2017-10-16T19:25:45.893305Z",
     "start_time": "2017-10-16T19:25:45.832763Z"
    },
    "collapsed": true
   },
   "outputs": [],
   "source": [
    "out_dir = \"/Users/jeriwieringa/Dissertation/drafts/data/module-2/\""
   ]
  },
  {
   "cell_type": "code",
   "execution_count": 5,
   "metadata": {
    "ExecuteTime": {
     "end_time": "2017-10-16T19:25:46.123230Z",
     "start_time": "2017-10-16T19:25:45.896397Z"
    }
   },
   "outputs": [],
   "source": [
    "spelling_dictionary = utilities.create_spelling_dictionary(wordlist_dir, wordlists)"
   ]
  },
  {
   "cell_type": "code",
   "execution_count": 6,
   "metadata": {
    "ExecuteTime": {
     "end_time": "2017-10-16T19:25:46.173815Z",
     "start_time": "2017-10-16T19:25:46.125497Z"
    },
    "collapsed": true
   },
   "outputs": [],
   "source": [
    "titles = [\"ADV\", \"AmSn\", \"ARAI\", \"CE\", \n",
    "          \"CUV\", \"EDU\", \"GCB\", \"GH\", \n",
    "          \"GOH\", \"GS\", \"HM\", \"HR\", \n",
    "          \"IR\", \"LB\", \"LH\", \"LibM\", \n",
    "          \"LUH\", \"NMN\",\"PHJ\",\"PTAR\",\n",
    "          \"PUR\",\"RH1850-1889\", \"RH1890-1920\",\"Sligo\",\"SOL\",\n",
    "          \"ST\",\"SUW\",\"TCOG\",\"TMM\",\n",
    "          \"WMH\",\"YI\"]"
   ]
  },
  {
   "cell_type": "code",
   "execution_count": 7,
   "metadata": {
    "ExecuteTime": {
     "end_time": "2017-10-16T19:31:22.327975Z",
     "start_time": "2017-10-16T19:25:46.176565Z"
    }
   },
   "outputs": [],
   "source": [
    "with open(os.path.join(out_dir, 'initial_verified_rates.csv'), 'w') as out:\n",
    "    csv_writer = csv.writer(out, delimiter=',')\n",
    "    csv_writer.writerow(['Title', 'Initial Average Verified Rate'])\n",
    "    for title in titles:\n",
    "        base_dir = \"/Users/jeriwieringa/Dissertation/text/text/2017-01-31-corpus-with-utf8-split-into-titles-cleaning/{}/\".format(title)\n",
    "        stats = reports.overview_statistics(join(base_dir, 'baseline'), spelling_dictionary, title)\n",
    "        verified_rate = reports.average_verified_rate(stats)\n",
    "        csv_writer.writerow([title, verified_rate])"
   ]
  },
  {
   "cell_type": "code",
   "execution_count": null,
   "metadata": {
    "collapsed": true
   },
   "outputs": [],
   "source": []
  }
 ],
 "metadata": {
  "anaconda-cloud": {},
  "kernelspec": {
   "display_name": "Python [conda env:dissertation2]",
   "language": "python",
   "name": "conda-env-dissertation2-py"
  },
  "language_info": {
   "codemirror_mode": {
    "name": "ipython",
    "version": 3
   },
   "file_extension": ".py",
   "mimetype": "text/x-python",
   "name": "python",
   "nbconvert_exporter": "python",
   "pygments_lexer": "ipython3",
   "version": "3.5.2"
  }
 },
 "nbformat": 4,
 "nbformat_minor": 2
}
