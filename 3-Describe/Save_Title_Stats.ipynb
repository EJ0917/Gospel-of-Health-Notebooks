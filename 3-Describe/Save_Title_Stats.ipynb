{
 "cells": [
  {
   "cell_type": "code",
   "execution_count": 1,
   "metadata": {
    "ExecuteTime": {
     "end_time": "2018-07-14T23:15:02.321461Z",
     "start_time": "2018-07-14T23:15:01.744846Z"
    },
    "collapsed": true
   },
   "outputs": [],
   "source": [
    "import os\n",
    "import pandas as pd"
   ]
  },
  {
   "cell_type": "code",
   "execution_count": 2,
   "metadata": {
    "ExecuteTime": {
     "end_time": "2018-07-14T23:15:02.329261Z",
     "start_time": "2018-07-14T23:15:02.323908Z"
    },
    "collapsed": true
   },
   "outputs": [],
   "source": [
    "text_dir = \"/Users/jeriwieringa/Dissertation/sources/text/2017-04-Final-Corpus/\""
   ]
  },
  {
   "cell_type": "code",
   "execution_count": 3,
   "metadata": {
    "ExecuteTime": {
     "end_time": "2018-07-14T23:15:04.009526Z",
     "start_time": "2018-07-14T23:15:02.332229Z"
    }
   },
   "outputs": [],
   "source": [
    "from collections import Counter\n",
    "import csv\n",
    "import glob\n",
    "from text2topics import utilities\n",
    "import string\n",
    "\n",
    "def gather_stats(dir, out_dir):\n",
    "    \"\"\"Return a list of tuples with the filename, title_abbrev, total_tokens, total_unique_tokens, and token: count\"\"\"\n",
    "    transl = str.maketrans('', '', string.punctuation)\n",
    "\n",
    "    file_list = glob.iglob(os.path.join(dir, '*'))\n",
    "    with open(out_dir, 'w') as out:\n",
    "        writer = csv.writer(out)\n",
    "        writer.writerow(['filename', 'title_abbrev', 'year', 'issue', 'total_tokens', 'total_unique_tokens', 'counts'])\n",
    "        for each in file_list:\n",
    "#             print(each)\n",
    "            abbrev = utilities.get_title(os.path.basename(each))\n",
    "            year = utilities.get_year(os.path.basename(each))\n",
    "            issue = '-'.join(os.path.basename(each).split('-')[:3])\n",
    "            with open(each) as f:\n",
    "                content = f.read()\n",
    "            tokens = utilities.to_lower(utilities.tokenize_text((content.translate(transl))))\n",
    "            counts = Counter(tokens)\n",
    "            writer.writerow([os.path.basename(each), abbrev, year, issue, len(tokens), len(set(tokens)), counts])    "
   ]
  },
  {
   "cell_type": "code",
   "execution_count": 5,
   "metadata": {
    "ExecuteTime": {
     "end_time": "2018-07-14T23:22:05.148473Z",
     "start_time": "2018-07-14T23:15:04.011922Z"
    }
   },
   "outputs": [],
   "source": [
    "gather_stats(text_dir, os.path.join('/Users/jeriwieringa/Dissertation/', 'data', 'corpus_metadata', 'yearlyStats.csv'))"
   ]
  },
  {
   "cell_type": "code",
   "execution_count": null,
   "metadata": {
    "collapsed": true
   },
   "outputs": [],
   "source": []
  }
 ],
 "metadata": {
  "anaconda-cloud": {},
  "kernelspec": {
   "display_name": "Python [conda env:dissertation2]",
   "language": "python",
   "name": "conda-env-dissertation2-py"
  },
  "language_info": {
   "codemirror_mode": {
    "name": "ipython",
    "version": 3
   },
   "file_extension": ".py",
   "mimetype": "text/x-python",
   "name": "python",
   "nbconvert_exporter": "python",
   "pygments_lexer": "ipython3",
   "version": "3.5.2"
  }
 },
 "nbformat": 4,
 "nbformat_minor": 2
}
