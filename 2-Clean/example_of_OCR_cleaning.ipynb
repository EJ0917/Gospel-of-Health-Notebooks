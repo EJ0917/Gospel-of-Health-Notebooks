{
 "cells": [
  {
   "cell_type": "markdown",
   "metadata": {},
   "source": [
    "To illustrate the changes I made to the ..."
   ]
  },
  {
   "cell_type": "code",
   "execution_count": 1,
   "metadata": {
    "ExecuteTime": {
     "end_time": "2018-01-22T21:51:57.036972Z",
     "start_time": "2018-01-22T21:51:56.796849Z"
    },
    "collapsed": true
   },
   "outputs": [],
   "source": [
    "%load_ext autoreload\n",
    "%autoreload 2"
   ]
  },
  {
   "cell_type": "code",
   "execution_count": 2,
   "metadata": {
    "ExecuteTime": {
     "end_time": "2018-01-22T21:52:00.116023Z",
     "start_time": "2018-01-22T21:51:57.500651Z"
    },
    "collapsed": true
   },
   "outputs": [],
   "source": [
    "# Load libraries\n",
    "import GoH.corrections as correct\n",
    "import GoH.reports as reports\n",
    "import GoH.utilities as utilities\n",
    "\n",
    "import GoH.clean\n",
    "import GoH.normalize\n",
    "import re\n",
    "import os\n",
    "from os import listdir\n",
    "from os.path import isfile, join\n",
    "import collections"
   ]
  },
  {
   "cell_type": "code",
   "execution_count": 3,
   "metadata": {
    "ExecuteTime": {
     "end_time": "2018-01-22T21:52:00.743574Z",
     "start_time": "2018-01-22T21:52:00.698591Z"
    },
    "collapsed": true
   },
   "outputs": [],
   "source": [
    "wordlist_dir = \"../data/word-lists/\"\n",
    "wordlists = [\"2016-12-07-SDA-last-names.txt\", \n",
    "             \"2016-12-07-SDA-place-names.txt\", \n",
    "             \"2016-12-08-SDA-Vocabulary.txt\", \n",
    "             \"2017-01-03-place-names.txt\", \n",
    "             \"2017-02-14-Roman-Numerals.txt\",\n",
    "             \"2017-03-01-Additional-Approved-Words.txt\",\n",
    "             \"2017-05-05-base-scowl-list.txt\",\n",
    "             \"2017-05-24-kjv-wordlist.txt\"\n",
    "            ]"
   ]
  },
  {
   "cell_type": "code",
   "execution_count": 4,
   "metadata": {
    "ExecuteTime": {
     "end_time": "2018-01-20T01:30:41.552752Z",
     "start_time": "2018-01-20T01:30:41.341030Z"
    },
    "collapsed": true
   },
   "outputs": [],
   "source": [
    "spelling_dictionary = utilities.create_spelling_dictionary(wordlist_dir, wordlists)"
   ]
  },
  {
   "cell_type": "code",
   "execution_count": 29,
   "metadata": {
    "ExecuteTime": {
     "end_time": "2018-01-20T02:19:41.989794Z",
     "start_time": "2018-01-20T02:19:41.944498Z"
    }
   },
   "outputs": [
    {
     "name": "stdout",
     "output_type": "stream",
     "text": [
      " DUTY TO KNOW OURSELVES.\n",
      "preserve it in a healthy condition. The in their physical organism, will not be present generation have trusted their bod less slow to violate the law of God ies with the doctors, and their souls with spoken from Sinai. Those who will not, the ministers. Do they not pay the min after the light has come to them, eat and ister well for studying the Bible for them, drink from principle, instead of being that they need not be to the trouble ? and controlled by appetite, will not be tena is it not his business to tell them what cious in regard to being governed by they must believe, and to settle all doubt principle in other things. The agitation ful questions o f theology without special\n",
      "investigation on their part? If they are\n",
      "sick, they send for the doctorÑbelieve\n",
      "whatever he may tell, and swallow any a Ò god of their bellies.Ó\n",
      "thing he may prescribe ; for do they not Parents should arouse, and in the fear pay him a liberal fee, and is it not his of God inquire, what is truth ? A tre business to understand their physical ail mendous responsibility rests upon them. ments, and what to prescribe to make\n",
      "them well, without their being troubled\n",
      "with the matter ?\n",
      "Children are sent to school to be taught\n",
      "the sciences; butthe science of human life\n",
      "is wholly neglected. That which is of the\n",
      "most vital importance, a true knowledge\n",
      "of themselves, without which all other\n",
      "science can be of but little advantage, is\n",
      "not brought to their notice. A cruel\n",
      "and wicked ignorance is tolerated in re laws that govern physical life. She gard to this important question. So should teach her children that the indul closely is health related to our happiness, gence of animal appetites, produces a that we cannot have the latter without\n",
      "the former. A practical knowledge of\n",
      "the science of human life, is necessary in\n",
      "order to glorify God in our bodies. It is\n",
      "therefore o f the highest importance, that\n",
      "among the studies selected for childhood,\n",
      "Physiology should occupy the first place. be to their children, both teacher and How few know anything about the struc physician. They should understand na ture and functions o f their own bodies, tureÕ s wants ancl natureÕ s laws. A care and of NatureÕs laws. Many are drifting ful conformity to the laws God has im about without knowledge, like a ship planted in our being, will insure health, at sea without compass or anchor; and and there will not be a breaking down what is more, they are not interested to o f the constitution, which will tempt the learn how to keep their bodies in a healthy afflicted to call for a physician to patch condition, and prevent disease. .them up again.\n",
      "The indulgence of animal appetites has > Many seem to think they have a right degraded and enslaved many. Self-deni to treat their own bodies as they please; al, and a restraint upon the animal appe but they forget that their bodies are not tites, is necessary to elevate and establish their own. Their Creator who formed an improved condition of health and mor them, has claims upon them that they als, and purify corrupted society. Every cannot rightly throw off. Every need violation of principle in eating and drink\n",
      "ing, blunts the perceptive faculties, mak ing it impossible for them to appreciate or place the right value upon eternal things. It is of the greatest importance that mankind should not be ignorant in regard to the consequences of excess. Temperance in all things is necessary to health, and the development and growth of a good Christian character.\n",
      "Those who transgress the laws of God\n",
      "less transgression of the laws which God has established in our being, is virtually a violation of the law of God, and is as great a sin in the sight of Heaven as to break the ten commandments. Igno rance upon this important subject, is sin ; the light is now beaming upon us, and we are without excuse if we do not cherish the light, and become intelligent in regard to these things, which it is our highest earthly interest to understand.\n",
      "o f the subject o f reform in eating and drinking, will develop character, and will unerringly bring to light those who make\n",
      "They should be practical physiologists, that they may know what are and what are not, correct physical habits, and be enabled thereby to instruct their children. The great mass are as ignorant and indif ferent in regard to the physical and mor al education o f their children as the ani mal creation. And yet they dare assume the responsibilities of parents. Every mother should acquaint herself with the\n",
      "|morbid action in the system, and weakens their moral sensibilities. Parents should seek for light and truth, as for hid treas ures. To parents is committed the sa cred charge of forming the characters of their children in childhood. They should\n",
      "\n"
     ]
    }
   ],
   "source": [
    "content = utilities.readfile(\"../data/\", \"HR18660801-V01-01-page3.txt\")\n",
    "print(content)"
   ]
  },
  {
   "cell_type": "markdown",
   "metadata": {},
   "source": [
    "The first step is to get an overview of the errors"
   ]
  },
  {
   "cell_type": "code",
   "execution_count": 23,
   "metadata": {
    "ExecuteTime": {
     "end_time": "2018-01-20T02:18:34.751244Z",
     "start_time": "2018-01-20T02:18:34.676271Z"
    }
   },
   "outputs": [
    {
     "data": {
      "text/plain": [
       "{'>',\n",
       " 'al',\n",
       " 'als',\n",
       " 'ancl',\n",
       " 'ani',\n",
       " 'appe',\n",
       " 'butthe',\n",
       " 'cious',\n",
       " 'doctorñbelieve',\n",
       " 'f',\n",
       " 'ferent',\n",
       " 'ful',\n",
       " 'gence',\n",
       " 'ies',\n",
       " 'igno',\n",
       " 'indif',\n",
       " 'indul',\n",
       " 'ister',\n",
       " 'mak',\n",
       " 'mal',\n",
       " 'mendous',\n",
       " 'ments',\n",
       " 'mor',\n",
       " 'na',\n",
       " 'natureõ',\n",
       " 'natureõs',\n",
       " 're',\n",
       " 'sa',\n",
       " 'self-deni',\n",
       " 'struc',\n",
       " 'tena',\n",
       " 'tites',\n",
       " 'tre',\n",
       " 'ture',\n",
       " 'tureõ',\n",
       " 'ures',\n",
       " '|morbid',\n",
       " 'ò',\n",
       " 'ó'}"
      ]
     },
     "execution_count": 23,
     "metadata": {},
     "output_type": "execute_result"
    }
   ],
   "source": [
    "reports.identify_errors(utilities.to_lower(utilities.tokenize_text(utilities.strip_punct(test_file))), spelling_dictionary)"
   ]
  },
  {
   "cell_type": "markdown",
   "metadata": {},
   "source": [
    "Correct apostrophy "
   ]
  },
  {
   "cell_type": "code",
   "execution_count": 28,
   "metadata": {
    "ExecuteTime": {
     "end_time": "2018-01-20T02:19:29.551817Z",
     "start_time": "2018-01-20T02:19:29.513649Z"
    }
   },
   "outputs": [
    {
     "name": "stdout",
     "output_type": "stream",
     "text": [
      " DUTY TO KNOW OURSELVES.\n",
      "preserve it in a healthy condition. The in their physical organism, will not be present generation have trusted their bod less slow to violate the law of God ies with the doctors, and their souls with spoken from Sinai. Those who will not, the ministers. Do they not pay the min after the light has come to them, eat and ister well for studying the Bible for them, drink from principle, instead of being that they need not be to the trouble ? and controlled by appetite, will not be tena is it not his business to tell them what cious in regard to being governed by they must believe, and to settle all doubt principle in other things. The agitation ful questions o f theology without special\n",
      "investigation on their part? If they are\n",
      "sick, they send for the doctorÑbelieve\n",
      "whatever he may tell, and swallow any a Ò god of their bellies.Ó\n",
      "thing he may prescribe ; for do they not Parents should arouse, and in the fear pay him a liberal fee, and is it not his of God inquire, what is truth ? A tre business to understand their physical ail mendous responsibility rests upon them. ments, and what to prescribe to make\n",
      "them well, without their being troubled\n",
      "with the matter ?\n",
      "Children are sent to school to be taught\n",
      "the sciences; butthe science of human life\n",
      "is wholly neglected. That which is of the\n",
      "most vital importance, a true knowledge\n",
      "of themselves, without which all other\n",
      "science can be of but little advantage, is\n",
      "not brought to their notice. A cruel\n",
      "and wicked ignorance is tolerated in re laws that govern physical life. She gard to this important question. So should teach her children that the indul closely is health related to our happiness, gence of animal appetites, produces a that we cannot have the latter without\n",
      "the former. A practical knowledge of\n",
      "the science of human life, is necessary in\n",
      "order to glorify God in our bodies. It is\n",
      "therefore o f the highest importance, that\n",
      "among the studies selected for childhood,\n",
      "Physiology should occupy the first place. be to their children, both teacher and How few know anything about the struc physician. They should understand na ture and functions o f their own bodies, ture' s wants ancl nature' s laws. A care and of Nature's laws. Many are drifting ful conformity to the laws God has im about without knowledge, like a ship planted in our being, will insure health, at sea without compass or anchor; and and there will not be a breaking down what is more, they are not interested to o f the constitution, which will tempt the learn how to keep their bodies in a healthy afflicted to call for a physician to patch condition, and prevent disease. .them up again.\n",
      "The indulgence of animal appetites has > Many seem to think they have a right degraded and enslaved many. Self-deni to treat their own bodies as they please; al, and a restraint upon the animal appe but they forget that their bodies are not tites, is necessary to elevate and establish their own. Their Creator who formed an improved condition of health and mor them, has claims upon them that they als, and purify corrupted society. Every cannot rightly throw off. Every need violation of principle in eating and drink\n",
      "ing, blunts the perceptive faculties, mak ing it impossible for them to appreciate or place the right value upon eternal things. It is of the greatest importance that mankind should not be ignorant in regard to the consequences of excess. Temperance in all things is necessary to health, and the development and growth of a good Christian character.\n",
      "Those who transgress the laws of God\n",
      "less transgression of the laws which God has established in our being, is virtually a violation of the law of God, and is as great a sin in the sight of Heaven as to break the ten commandments. Igno rance upon this important subject, is sin ; the light is now beaming upon us, and we are without excuse if we do not cherish the light, and become intelligent in regard to these things, which it is our highest earthly interest to understand.\n",
      "o f the subject o f reform in eating and drinking, will develop character, and will unerringly bring to light those who make\n",
      "They should be practical physiologists, that they may know what are and what are not, correct physical habits, and be enabled thereby to instruct their children. The great mass are as ignorant and indif ferent in regard to the physical and mor al education o f their children as the ani mal creation. And yet they dare assume the responsibilities of parents. Every mother should acquaint herself with the\n",
      "|morbid action in the system, and weakens their moral sensibilities. Parents should seek for light and truth, as for hid treas ures. To parents is committed the sa cred charge of forming the characters of their children in childhood. They should\n",
      "\n"
     ]
    }
   ],
   "source": [
    "content = correct.replace_apostrophe_error(content)\n",
    "print(content)"
   ]
  },
  {
   "cell_type": "markdown",
   "metadata": {},
   "source": [
    "Next step is to standardize and remove special characters"
   ]
  },
  {
   "cell_type": "code",
   "execution_count": 30,
   "metadata": {
    "ExecuteTime": {
     "end_time": "2018-01-20T02:25:59.482136Z",
     "start_time": "2018-01-20T02:25:59.433748Z"
    }
   },
   "outputs": [
    {
     "name": "stdout",
     "output_type": "stream",
     "text": [
      " DUTY TO KNOW OURSELVES.\n",
      "preserve it in a healthy condition. The in their physical organism, will not be present generation have trusted their bod less slow to violate the law of God ies with the doctors, and their souls with spoken from Sinai. Those who will not, the ministers. Do they not pay the min after the light has come to them, eat and ister well for studying the Bible for them, drink from principle, instead of being that they need not be to the trouble ? and controlled by appetite, will not be tena is it not his business to tell them what cious in regard to being governed by they must believe, and to settle all doubt principle in other things. The agitation ful questions o f theology without special\n",
      "investigation on their part? If they are\n",
      "sick, they send for the doctor believe\n",
      "whatever he may tell, and swallow any a   god of their bellies. \n",
      "thing he may prescribe ; for do they not Parents should arouse, and in the fear pay him a liberal fee, and is it not his of God inquire, what is truth ? A tre business to understand their physical ail mendous responsibility rests upon them. ments, and what to prescribe to make\n",
      "them well, without their being troubled\n",
      "with the matter ?\n",
      "Children are sent to school to be taught\n",
      "the sciences; butthe science of human life\n",
      "is wholly neglected. That which is of the\n",
      "most vital importance, a true knowledge\n",
      "of themselves, without which all other\n",
      "science can be of but little advantage, is\n",
      "not brought to their notice. A cruel\n",
      "and wicked ignorance is tolerated in re laws that govern physical life. She gard to this important question. So should teach her children that the indul closely is health related to our happiness, gence of animal appetites, produces a that we cannot have the latter without\n",
      "the former. A practical knowledge of\n",
      "the science of human life, is necessary in\n",
      "order to glorify God in our bodies. It is\n",
      "therefore o f the highest importance, that\n",
      "among the studies selected for childhood,\n",
      "Physiology should occupy the first place. be to their children, both teacher and How few know anything about the struc physician. They should understand na ture and functions o f their own bodies, ture  s wants ancl nature  s laws. A care and of Nature s laws. Many are drifting ful conformity to the laws God has im about without knowledge, like a ship planted in our being, will insure health, at sea without compass or anchor; and and there will not be a breaking down what is more, they are not interested to o f the constitution, which will tempt the learn how to keep their bodies in a healthy afflicted to call for a physician to patch condition, and prevent disease. .them up again.\n",
      "The indulgence of animal appetites has   Many seem to think they have a right degraded and enslaved many. Self-deni to treat their own bodies as they please; al, and a restraint upon the animal appe but they forget that their bodies are not tites, is necessary to elevate and establish their own. Their Creator who formed an improved condition of health and mor them, has claims upon them that they als, and purify corrupted society. Every cannot rightly throw off. Every need violation of principle in eating and drink\n",
      "ing, blunts the perceptive faculties, mak ing it impossible for them to appreciate or place the right value upon eternal things. It is of the greatest importance that mankind should not be ignorant in regard to the consequences of excess. Temperance in all things is necessary to health, and the development and growth of a good Christian character.\n",
      "Those who transgress the laws of God\n",
      "less transgression of the laws which God has established in our being, is virtually a violation of the law of God, and is as great a sin in the sight of Heaven as to break the ten commandments. Igno rance upon this important subject, is sin ; the light is now beaming upon us, and we are without excuse if we do not cherish the light, and become intelligent in regard to these things, which it is our highest earthly interest to understand.\n",
      "o f the subject o f reform in eating and drinking, will develop character, and will unerringly bring to light those who make\n",
      "They should be practical physiologists, that they may know what are and what are not, correct physical habits, and be enabled thereby to instruct their children. The great mass are as ignorant and indif ferent in regard to the physical and mor al education o f their children as the ani mal creation. And yet they dare assume the responsibilities of parents. Every mother should acquaint herself with the\n",
      " morbid action in the system, and weakens their moral sensibilities. Parents should seek for light and truth, as for hid treas ures. To parents is committed the sa cred charge of forming the characters of their children in childhood. They should\n",
      "\n"
     ]
    }
   ],
   "source": [
    "content = correct.remove_special_chars(correct.normalize_chars(test_file))\n",
    "print(content)"
   ]
  },
  {
   "cell_type": "code",
   "execution_count": 31,
   "metadata": {
    "ExecuteTime": {
     "end_time": "2018-01-20T02:30:39.938755Z",
     "start_time": "2018-01-20T02:30:39.846903Z"
    }
   },
   "outputs": [
    {
     "data": {
      "text/plain": [
       "{'al',\n",
       " 'als',\n",
       " 'ancl',\n",
       " 'ani',\n",
       " 'appe',\n",
       " 'butthe',\n",
       " 'cious',\n",
       " 'f',\n",
       " 'ferent',\n",
       " 'ful',\n",
       " 'gence',\n",
       " 'ies',\n",
       " 'igno',\n",
       " 'indif',\n",
       " 'indul',\n",
       " 'ister',\n",
       " 'mak',\n",
       " 'mal',\n",
       " 'mendous',\n",
       " 'ments',\n",
       " 'mor',\n",
       " 'na',\n",
       " 're',\n",
       " 'sa',\n",
       " 'self-deni',\n",
       " 'struc',\n",
       " 'tena',\n",
       " 'tites',\n",
       " 'tre',\n",
       " 'ture',\n",
       " 'ures'}"
      ]
     },
     "execution_count": 31,
     "metadata": {},
     "output_type": "execute_result"
    }
   ],
   "source": [
    "reports.identify_errors(utilities.to_lower(utilities.tokenize_text(utilities.strip_punct(content))), spelling_dictionary)"
   ]
  },
  {
   "cell_type": "markdown",
   "metadata": {},
   "source": [
    "Next is to reconnect words where the line-ending was incorrectly interpreted."
   ]
  },
  {
   "cell_type": "code",
   "execution_count": 39,
   "metadata": {
    "ExecuteTime": {
     "end_time": "2018-01-20T02:51:21.141583Z",
     "start_time": "2018-01-20T02:51:21.105342Z"
    }
   },
   "outputs": [
    {
     "name": "stdout",
     "output_type": "stream",
     "text": [
      " DUTY TO KNOW OURSELVES.\n",
      "preserve it in a healthy condition. The in their physical organism, will not be present generation have trusted their bod less slow to violate the law of God ies with the doctors, and their souls with spoken from Sinai. Those who will not, the ministers. Do they not pay the min after the light has come to them, eat and ister well for studying the Bible for them, drink from principle, instead of being that they need not be to the trouble ? and controlled by appetite, will not be tena is it not his business to tell them what cious in regard to being governed by they must believe, and to settle all doubt principle in other things. The agitation ful questions o f theology without special\n",
      "investigation on their part? If they are\n",
      "sick, they send for the doctor believe\n",
      "whatever he may tell, and swallow any a   god of their bellies. \n",
      "thing he may prescribe ; for do they not Parents should arouse, and in the fear pay him a liberal fee, and is it not his of God inquire, what is truth ? A tre business to understand their physical ail mendous responsibility rests upon them. ments, and what to prescribe to make\n",
      "them well, without their being troubled\n",
      "with the matter ?\n",
      "Children are sent to school to be taught\n",
      "the sciences; butthe science of human life\n",
      "is wholly neglected. That which is of the\n",
      "most vital importance, a true knowledge\n",
      "of themselves, without which all other\n",
      "science can be of but little advantage, is\n",
      "not brought to their notice. A cruel\n",
      "and wicked ignorance is tolerated in re laws that govern physical life. She gard to this important question. So should teach her children that the indul closely is health related to our happiness, gence of animal appetites, produces a that we cannot have the latter without\n",
      "the former. A practical knowledge of\n",
      "the science of human life, is necessary in\n",
      "order to glorify God in our bodies. It is\n",
      "therefore o f the highest importance, that\n",
      "among the studies selected for childhood,\n",
      "Physiology should occupy the first place. be to their children, both teacher and How few know anything about the struc physician. They should understand na ture and functions o f their own bodies, ture  s wants ancl nature  s laws. A care and of Nature s laws. Many are drifting ful conformity to the laws God has im about without knowledge, like a ship planted in our being, will insure health, at sea without compass or anchor; and and there will not be a breaking down what is more, they are not interested to o f the constitution, which will tempt the learn how to keep their bodies in a healthy afflicted to call for a physician to patch condition, and prevent disease. .them up again.\n",
      "The indulgence of animal appetites has   Many seem to think they have a right degraded and enslaved many. Self-deni to treat their own bodies as they please; al, and a restraint upon the animal appe but they forget that their bodies are not tites, is necessary to elevate and establish their own. Their Creator who formed an improved condition of health and mor them, has claims upon them that they als, and purify corrupted society. Every cannot rightly throw off. Every need violation of principle in eating and drink\n",
      "ing, blunts the perceptive faculties, mak ing it impossible for them to appreciate or place the right value upon eternal things. It is of the greatest importance that mankind should not be ignorant in regard to the consequences of excess. Temperance in all things is necessary to health, and the development and growth of a good Christian character.\n",
      "Those who transgress the laws of God\n",
      "less transgression of the laws which God has established in our being, is virtually a violation of the law of God, and is as great a sin in the sight of Heaven as to break the ten commandments. Igno rance upon this important subject, is sin ; the light is now beaming upon us, and we are without excuse if we do not cherish the light, and become intelligent in regard to these things, which it is our highest earthly interest to understand.\n",
      "o f the subject o f reform in eating and drinking, will develop character, and will unerringly bring to light those who make\n",
      "They should be practical physiologists, that they may know what are and what are not, correct physical habits, and be enabled thereby to instruct their children. The great mass are as ignorant and indif ferent in regard to the physical and mor al education o f their children as the ani mal creation. And yet they dare assume the responsibilities of parents. Every mother should acquaint herself with the\n",
      " morbid action in the system, and weakens their moral sensibilities. Parents should seek for light and truth, as for hid treas ures. To parents is committed the sa cred charge of forming the characters of their children in childhood. They should\n",
      "\n"
     ]
    }
   ],
   "source": [
    "content = correct.connect_line_endings(content)\n",
    "print(content)"
   ]
  },
  {
   "cell_type": "code",
   "execution_count": 40,
   "metadata": {
    "ExecuteTime": {
     "end_time": "2018-01-20T02:51:25.279879Z",
     "start_time": "2018-01-20T02:51:25.199761Z"
    }
   },
   "outputs": [
    {
     "data": {
      "text/plain": [
       "{'al',\n",
       " 'als',\n",
       " 'ancl',\n",
       " 'ani',\n",
       " 'appe',\n",
       " 'butthe',\n",
       " 'cious',\n",
       " 'f',\n",
       " 'ferent',\n",
       " 'ful',\n",
       " 'gence',\n",
       " 'ies',\n",
       " 'igno',\n",
       " 'indif',\n",
       " 'indul',\n",
       " 'ister',\n",
       " 'mak',\n",
       " 'mal',\n",
       " 'mendous',\n",
       " 'ments',\n",
       " 'mor',\n",
       " 'na',\n",
       " 're',\n",
       " 'sa',\n",
       " 'self-deni',\n",
       " 'struc',\n",
       " 'tena',\n",
       " 'tites',\n",
       " 'tre',\n",
       " 'ture',\n",
       " 'ures'}"
      ]
     },
     "execution_count": 40,
     "metadata": {},
     "output_type": "execute_result"
    }
   ],
   "source": [
    "reports.identify_errors(utilities.to_lower(utilities.tokenize_text(utilities.strip_punct(content))), spelling_dictionary)"
   ]
  },
  {
   "cell_type": "code",
   "execution_count": 45,
   "metadata": {
    "ExecuteTime": {
     "end_time": "2018-01-20T02:55:34.041269Z",
     "start_time": "2018-01-20T02:55:33.999608Z"
    }
   },
   "outputs": [
    {
     "name": "stdout",
     "output_type": "stream",
     "text": [
      "('indif', 'ferent')\n",
      "('Igno', 'rance')\n",
      "('mak', 'ing')\n",
      "('sa', 'cred')\n",
      "('ani', 'mal')\n",
      "('mor', 'al')\n",
      "('na', 'ture')\n",
      " DUTY TO KNOW OURSELVES.\n",
      "preserve it in a healthy condition. The in their physical organism, will not be present generation have trusted their bod less slow to violate the law of God ies with the doctors, and their souls with spoken from Sinai. Those who will not, the ministers. Do they not pay the min after the light has come to them, eat and ister well for studying the Bible for them, drink from principle, instead of being that they need not be to the trouble ? and controlled by appetite, will not be tena is it not his business to tell them what cious in regard to being governed by they must believe, and to settle all doubt principle in other things. The agitation ful questions o f theology without special\n",
      "investigation on their part? If they are\n",
      "sick, they send for the doctor believe\n",
      "whatever he may tell, and swallow any a   god of their bellies. \n",
      "thing he may prescribe ; for do they not Parents should arouse, and in the fear pay him a liberal fee, and is it not his of God inquire, what is truth ? A tre business to understand their physical ail mendous responsibility rests upon them. ments, and what to prescribe to make\n",
      "them well, without their being troubled\n",
      "with the matter ?\n",
      "Children are sent to school to be taught\n",
      "the sciences; butthe science of human life\n",
      "is wholly neglected. That which is of the\n",
      "most vital importance, a true knowledge\n",
      "of themselves, without which all other\n",
      "science can be of but little advantage, is\n",
      "not brought to their notice. A cruel\n",
      "and wicked ignorance is tolerated in re laws that govern physical life. She gard to this important question. So should teach her children that the indul closely is health related to our happiness, gence of animal appetites, produces a that we cannot have the latter without\n",
      "the former. A practical knowledge of\n",
      "the science of human life, is necessary in\n",
      "order to glorify God in our bodies. It is\n",
      "therefore o f the highest importance, that\n",
      "among the studies selected for childhood,\n",
      "Physiology should occupy the first place. be to their children, both teacher and How few know anything about the struc physician. They should understand nature and functions o f their own bodies, ture  s wants ancl nature  s laws. A care and of Nature s laws. Many are drifting ful conformity to the laws God has im about without knowledge, like a ship planted in our being, will insure health, at sea without compass or anchor; and and there will not be a breaking down what is more, they are not interested to o f the constitution, which will tempt the learn how to keep their bodies in a healthy afflicted to call for a physician to patch condition, and prevent disease. .them up again.\n",
      "The indulgence of animal appetites has   Many seem to think they have a right degraded and enslaved many. Self-deni to treat their own bodies as they please; al, and a restraint upon the animal appe but they forget that their bodies are not tites, is necessary to elevate and establish their own. Their Creator who formed an improved condition of health and mor them, has claims upon them that they als, and purify corrupted society. Every cannot rightly throw off. Every need violation of principle in eating and drink\n",
      "ing, blunts the perceptive faculties, making it impossible for them to appreciate or place the right value upon eternal things. It is of the greatest importance that mankind should not be ignorant in regard to the consequences of excess. Temperance in all things is necessary to health, and the development and growth of a good Christian character.\n",
      "Those who transgress the laws of God\n",
      "less transgression of the laws which God has established in our being, is virtually a violation of the law of God, and is as great a sin in the sight of Heaven as to break the ten commandments. Ignorance upon this important subject, is sin ; the light is now beaming upon us, and we are without excuse if we do not cherish the light, and become intelligent in regard to these things, which it is our highest earthly interest to understand.\n",
      "o f the subject o f reform in eating and drinking, will develop character, and will unerringly bring to light those who make\n",
      "They should be practical physiologists, that they may know what are and what are not, correct physical habits, and be enabled thereby to instruct their children. The great mass are as ignorant and indifferent in regard to the physical and moral education o f their children as the animal creation. And yet they dare assume the responsibilities of parents. Every mother should acquaint herself with the\n",
      " morbid action in the system, and weakens their moral sensibilities. Parents should seek for light and truth, as for hid treas ures. To parents is committed the sacred charge of forming the characters of their children in childhood. They should\n",
      "\n"
     ]
    }
   ],
   "source": [
    "content = correct.rejoin_split_words(content, spelling_dictionary)\n",
    "print(content)"
   ]
  },
  {
   "cell_type": "code",
   "execution_count": 46,
   "metadata": {
    "ExecuteTime": {
     "end_time": "2018-01-20T02:56:03.353983Z",
     "start_time": "2018-01-20T02:56:03.316800Z"
    }
   },
   "outputs": [
    {
     "data": {
      "text/plain": [
       "{'al',\n",
       " 'als',\n",
       " 'ancl',\n",
       " 'appe',\n",
       " 'butthe',\n",
       " 'cious',\n",
       " 'f',\n",
       " 'ful',\n",
       " 'gence',\n",
       " 'ies',\n",
       " 'indul',\n",
       " 'ister',\n",
       " 'mendous',\n",
       " 'ments',\n",
       " 'mor',\n",
       " 're',\n",
       " 'self-deni',\n",
       " 'struc',\n",
       " 'tena',\n",
       " 'tites',\n",
       " 'tre',\n",
       " 'ture',\n",
       " 'ures'}"
      ]
     },
     "execution_count": 46,
     "metadata": {},
     "output_type": "execute_result"
    }
   ],
   "source": [
    "reports.identify_errors(utilities.to_lower(utilities.tokenize_text(utilities.strip_punct(content))), spelling_dictionary)"
   ]
  },
  {
   "cell_type": "code",
   "execution_count": null,
   "metadata": {
    "collapsed": true
   },
   "outputs": [],
   "source": []
  }
 ],
 "metadata": {
  "anaconda-cloud": {},
  "kernelspec": {
   "display_name": "Python [conda env:dissertation2]",
   "language": "python",
   "name": "conda-env-dissertation2-py"
  },
  "language_info": {
   "codemirror_mode": {
    "name": "ipython",
    "version": 3
   },
   "file_extension": ".py",
   "mimetype": "text/x-python",
   "name": "python",
   "nbconvert_exporter": "python",
   "pygments_lexer": "ipython3",
   "version": "3.5.2"
  },
  "nikola": {
   "date": "2018-01-19",
   "slug": "example_OCR_cleaning",
   "tags": "Cleaning, OCR",
   "title": "Example of OCR Cleaning"
  }
 },
 "nbformat": 4,
 "nbformat_minor": 2
}
