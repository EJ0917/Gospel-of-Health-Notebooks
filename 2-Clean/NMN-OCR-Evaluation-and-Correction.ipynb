{
 "cells": [
  {
   "cell_type": "code",
   "execution_count": 1,
   "metadata": {
    "ExecuteTime": {
     "end_time": "2017-03-02T19:06:42.166189",
     "start_time": "2017-03-02T19:06:42.142895"
    },
    "collapsed": false
   },
   "outputs": [],
   "source": [
    "%load_ext autoreload"
   ]
  },
  {
   "cell_type": "code",
   "execution_count": 2,
   "metadata": {
    "ExecuteTime": {
     "end_time": "2017-03-02T19:06:42.171260",
     "start_time": "2017-03-02T19:06:42.168221"
    },
    "collapsed": true
   },
   "outputs": [],
   "source": [
    "%autoreload 2"
   ]
  },
  {
   "cell_type": "code",
   "execution_count": 3,
   "metadata": {
    "ExecuteTime": {
     "end_time": "2017-03-02T19:06:44.191479",
     "start_time": "2017-03-02T19:06:42.173262"
    },
    "collapsed": false
   },
   "outputs": [],
   "source": [
    "import GoH.reports\n",
    "import GoH.utilities\n",
    "import GoH.clean\n",
    "import GoH.normalize\n",
    "import re\n",
    "import os\n",
    "from os import listdir\n",
    "from os.path import isfile, join\n",
    "import collections"
   ]
  },
  {
   "cell_type": "code",
   "execution_count": 4,
   "metadata": {
    "ExecuteTime": {
     "end_time": "2017-03-02T19:06:44.231800",
     "start_time": "2017-03-02T19:06:44.193213"
    },
    "collapsed": true
   },
   "outputs": [],
   "source": [
    "%matplotlib inline"
   ]
  },
  {
   "cell_type": "code",
   "execution_count": 5,
   "metadata": {
    "ExecuteTime": {
     "end_time": "2017-03-02T19:06:44.271406",
     "start_time": "2017-03-02T19:06:44.233869"
    },
    "collapsed": true
   },
   "outputs": [],
   "source": [
    "wordlist_dir = \"/Users/jeriwieringa/Dissertation/drafts/data/word-lists\"\n",
    "wordlists = [\"2016-12-07-SDA-last-names.txt\", \n",
    "             \"2016-12-07-SDA-place-names.txt\", \n",
    "             \"2016-12-08-SDA-Vocabulary.txt\", \n",
    "             \"2017-01-03-place-names.txt\", \n",
    "             \"2017-02-14-Base-Word-List-SCOWL&KJV.txt\",\n",
    "             \"2017-02-14-Roman-Numerals.txt\",\n",
    "             \"2017-03-01-Additional-Approved-Words.txt\"\n",
    "            ]"
   ]
  },
  {
   "cell_type": "code",
   "execution_count": 6,
   "metadata": {
    "ExecuteTime": {
     "end_time": "2017-03-02T19:06:44.462801",
     "start_time": "2017-03-02T19:06:44.275269"
    },
    "collapsed": true
   },
   "outputs": [],
   "source": [
    "spelling_dictionary = GoH.utilities.create_spelling_dictionary(wordlists, wordlist_dir)"
   ]
  },
  {
   "cell_type": "code",
   "execution_count": 7,
   "metadata": {
    "ExecuteTime": {
     "end_time": "2017-03-02T19:06:44.501573",
     "start_time": "2017-03-02T19:06:44.464817"
    },
    "collapsed": true
   },
   "outputs": [],
   "source": [
    "title = \"NMN\""
   ]
  },
  {
   "cell_type": "code",
   "execution_count": 8,
   "metadata": {
    "ExecuteTime": {
     "end_time": "2017-03-02T19:06:44.547711",
     "start_time": "2017-03-02T19:06:44.503809"
    },
    "collapsed": true
   },
   "outputs": [],
   "source": [
    "base_dir = \"/Users/jeriwieringa/Dissertation/text/text/2017-01-31-corpus-with-utf8-split-into-titles-cleaning/{}/\".format(title)"
   ]
  },
  {
   "cell_type": "markdown",
   "metadata": {},
   "source": [
    "## Baseline"
   ]
  },
  {
   "cell_type": "code",
   "execution_count": 9,
   "metadata": {
    "ExecuteTime": {
     "end_time": "2017-03-02T19:06:44.595474",
     "start_time": "2017-03-02T19:06:44.549671"
    },
    "collapsed": true
   },
   "outputs": [],
   "source": [
    "cycle = 'baseline'"
   ]
  },
  {
   "cell_type": "code",
   "execution_count": 10,
   "metadata": {
    "ExecuteTime": {
     "end_time": "2017-03-02T19:06:45.334147",
     "start_time": "2017-03-02T19:06:44.597138"
    },
    "collapsed": false
   },
   "outputs": [
    {
     "name": "stdout",
     "output_type": "stream",
     "text": [
      "Directory: /Users/jeriwieringa/Dissertation/text/text/2017-01-31-corpus-with-utf8-split-into-titles-cleaning/NMN/baseline\n",
      "\n",
      "Average verified rate: 0.8992190982814151\n",
      "\n",
      "Average of error rates: 0.10566570605187318\n",
      "\n",
      "Total token count: 199641\n",
      "\n"
     ]
    },
    {
     "data": {
      "image/png": "[encoded data removed]",
      "text/plain": [
       "<matplotlib.figure.Figure at 0x10335a978>"
      ]
     },
     "metadata": {},
     "output_type": "display_data"
    }
   ],
   "source": [
    "stats = GoH.reports.overview_report(join(base_dir, cycle), spelling_dictionary, title)"
   ]
  },
  {
   "cell_type": "code",
   "execution_count": 11,
   "metadata": {
    "ExecuteTime": {
     "end_time": "2017-03-02T19:06:45.387842",
     "start_time": "2017-03-02T19:06:45.336136"
    },
    "collapsed": false
   },
   "outputs": [
    {
     "data": {
      "text/plain": [
       "[('-', 916),\n",
       " ('e', 500),\n",
       " ('¥', 337),\n",
       " ('t', 323),\n",
       " (\"'\", 250),\n",
       " ('th', 244),\n",
       " ('r', 207),\n",
       " ('n', 204),\n",
       " ('w', 198),\n",
       " ('--', 191),\n",
       " (')', 158),\n",
       " ('m', 153),\n",
       " ('d', 140),\n",
       " ('f', 140),\n",
       " ('/', 130),\n",
       " ('g', 108),\n",
       " ('aro', 89),\n",
       " ('(', 82),\n",
       " ('u', 78),\n",
       " ('bo', 72),\n",
       " ('wo', 64),\n",
       " ('k', 63),\n",
       " ('co', 53),\n",
       " ('re', 51)]"
      ]
     },
     "execution_count": 11,
     "metadata": {},
     "output_type": "execute_result"
    }
   ],
   "source": [
    "errors_summary = GoH.reports.get_errors_summary( stats )\n",
    "GoH.reports.top_errors( errors_summary, 50 )"
   ]
  },
  {
   "cell_type": "markdown",
   "metadata": {
    "collapsed": true
   },
   "source": [
    "## Review Special Character Use"
   ]
  },
  {
   "cell_type": "code",
   "execution_count": 12,
   "metadata": {
    "ExecuteTime": {
     "end_time": "2017-03-02T19:06:45.438832",
     "start_time": "2017-03-02T19:06:45.389295"
    },
    "collapsed": false,
    "scrolled": true
   },
   "outputs": [
    {
     "data": {
      "text/plain": [
       "[('¥', 337),\n",
       " (')', 158),\n",
       " ('/', 130),\n",
       " ('(', 82),\n",
       " ('*', 47),\n",
       " ('_', 44),\n",
       " ('ñ', 35),\n",
       " ('%', 34),\n",
       " ('+', 34),\n",
       " ('¥¥¥¥', 32),\n",
       " ('¥¥¥¥¥', 23),\n",
       " ('¥¥', 21),\n",
       " ('¥¥¥', 19),\n",
       " ('•', 15),\n",
       " ('#', 9),\n",
       " ('()', 8),\n",
       " ('(a)', 8),\n",
       " ('¥¥¥¥¥¥', 7),\n",
       " ('(the', 7),\n",
       " ('`', 7),\n",
       " ('/per', 7),\n",
       " ('(to', 7),\n",
       " ('__', 6),\n",
       " ('(b)', 6),\n",
       " ('\\ufeff', 6),\n",
       " (\"')\", 6),\n",
       " ('¡', 6),\n",
       " ('(c)', 5),\n",
       " (']', 5),\n",
       " ('=', 5),\n",
       " ('(for', 5),\n",
       " ('/t', 4),\n",
       " ('-¥', 4),\n",
       " ('(i', 4),\n",
       " ('continued)', 4),\n",
       " ('ò', 4),\n",
       " ('¥¥¥¥¥¥¥¥¥', 4),\n",
       " ('^', 3),\n",
       " (')-', 3),\n",
       " ('e)', 3),\n",
       " ('~~', 3),\n",
       " ('(continued', 3),\n",
       " ('-_', 3),\n",
       " ('work*', 3),\n",
       " ('(f)', 3),\n",
       " ('t¥', 3),\n",
       " ('♦', 3),\n",
       " ('f_', 3),\n",
       " ('r)', 3),\n",
       " ('ã', 3),\n",
       " ('al]', 3),\n",
       " (\"%'\", 2),\n",
       " ('-)f', 2),\n",
       " ('(col', 2),\n",
       " ('(appointed)', 2),\n",
       " ('re/', 2),\n",
       " ('wil_', 2),\n",
       " ('s¥', 2),\n",
       " ('of_', 2),\n",
       " ('/each', 2),\n",
       " ('fir/', 2),\n",
       " ('_-', 2),\n",
       " ('*me', 2),\n",
       " ('the)', 2),\n",
       " (\"'¥\", 2),\n",
       " ('student)', 2),\n",
       " ('¥¥¥¥¥¥¥¥¥¥¥', 2),\n",
       " (')er', 2),\n",
       " ('_s', 2),\n",
       " ('(acts', 2),\n",
       " ('(new', 2),\n",
       " ('_of', 2),\n",
       " ('in(', 2),\n",
       " ('bank)', 2),\n",
       " ('(d)', 2),\n",
       " ('¥t', 2),\n",
       " ('°', 2),\n",
       " ('(r', 2),\n",
       " ('it¥', 2),\n",
       " ('¥¥¥¥¥¥¥', 2),\n",
       " ('=n', 2),\n",
       " ('))', 2),\n",
       " ('/a', 2),\n",
       " ('~', 2),\n",
       " ('price)', 2),\n",
       " ('{', 2),\n",
       " ('c/', 2),\n",
       " ('<', 2),\n",
       " ('teacher)', 2),\n",
       " ('£', 2),\n",
       " ('_we', 2),\n",
       " ('_ng', 2),\n",
       " ('/z', 2),\n",
       " (\"('\", 2),\n",
       " ('/i', 2),\n",
       " ('/e', 2),\n",
       " ('hem¡', 2),\n",
       " ('*his', 1),\n",
       " ('sebscriptions)', 1),\n",
       " ('can¥', 1)]"
      ]
     },
     "execution_count": 12,
     "metadata": {},
     "output_type": "execute_result"
    }
   ],
   "source": [
    "GoH.reports.tokens_with_special_characters(errors_summary)[:100]"
   ]
  },
  {
   "cell_type": "markdown",
   "metadata": {},
   "source": [
    "## Correction 1 -- Normalize Character Use"
   ]
  },
  {
   "cell_type": "code",
   "execution_count": 13,
   "metadata": {
    "ExecuteTime": {
     "end_time": "2017-03-02T19:06:45.910046",
     "start_time": "2017-03-02T19:06:45.443440"
    },
    "collapsed": true
   },
   "outputs": [],
   "source": [
    "# %load shared_elements/normalize_characters.py\n",
    "prev = \"baseline\"\n",
    "cycle = \"correction1\"\n",
    "\n",
    "directories = GoH.utilities.define_directories(prev, cycle, base_dir)\n",
    "if not os.path.exists(directories['cycle']):\n",
    "    os.makedirs(directories['cycle'])\n",
    "\n",
    "corpus = (f for f in listdir(directories['prev']) if not f.startswith('.') and isfile(join(directories['prev'], f)))\n",
    "\n",
    "for filename in corpus:\n",
    "    content = GoH.utilities.readfile(directories['prev'], filename)\n",
    "\n",
    "    # Substitute for all other dashes\n",
    "    content = re.sub(r\"—-—–‑\", r\"-\", content)\n",
    "\n",
    "    # Substitute formatted apostrophe\n",
    "    content = re.sub(r\"\\’\\’\\‘\\'\\‛\\´\", r\"'\", content)\n",
    "    \n",
    "    # Replace all special characters with a space (as these tend to occur at the end of lines)\n",
    "    content = re.sub(r\"[^a-zA-Z0-9\\s,.!?$:;\\-&\\'\\\"]\", r\" \", content)\n",
    "    \n",
    "    with open(join(directories['cycle'], filename), mode=\"w\") as o:\n",
    "        o.write(content)\n",
    "        o.close()"
   ]
  },
  {
   "cell_type": "markdown",
   "metadata": {},
   "source": [
    "## Check Correction 1"
   ]
  },
  {
   "cell_type": "code",
   "execution_count": 14,
   "metadata": {
    "ExecuteTime": {
     "end_time": "2017-03-02T19:06:46.442923",
     "start_time": "2017-03-02T19:06:45.912187"
    },
    "collapsed": false
   },
   "outputs": [
    {
     "name": "stdout",
     "output_type": "stream",
     "text": [
      "Directory: /Users/jeriwieringa/Dissertation/text/text/2017-01-31-corpus-with-utf8-split-into-titles-cleaning/NMN/correction1\n",
      "\n",
      "Average verified rate: 0.9070753720305472\n",
      "\n",
      "Average of error rates: 0.09680691642651297\n",
      "\n",
      "Total token count: 198774\n",
      "\n"
     ]
    },
    {
     "data": {
      "image/png": "[encoded data removed]",
      "text/plain": [
       "<matplotlib.figure.Figure at 0x11061e0b8>"
      ]
     },
     "metadata": {},
     "output_type": "display_data"
    }
   ],
   "source": [
    "# %load shared_elements/summary.py\n",
    "summary = GoH.reports.overview_report(directories['cycle'], spelling_dictionary, title)"
   ]
  },
  {
   "cell_type": "code",
   "execution_count": 15,
   "metadata": {
    "ExecuteTime": {
     "end_time": "2017-03-02T19:06:46.512732",
     "start_time": "2017-03-02T19:06:46.445012"
    },
    "collapsed": false
   },
   "outputs": [
    {
     "data": {
      "text/plain": [
       "[('-', 959),\n",
       " ('e', 529),\n",
       " ('t', 342),\n",
       " (\"'\", 274),\n",
       " ('th', 246),\n",
       " ('r', 224),\n",
       " ('n', 212),\n",
       " ('w', 204),\n",
       " ('--', 199),\n",
       " ('f', 156),\n",
       " ('m', 155),\n",
       " ('d', 150),\n",
       " ('g', 110),\n",
       " ('aro', 89),\n",
       " ('u', 82),\n",
       " ('bo', 72),\n",
       " ('k', 66),\n",
       " ('wo', 64),\n",
       " ('re', 57),\n",
       " ('co', 54),\n",
       " ('x', 36),\n",
       " ('tc', 36),\n",
       " ('se', 33),\n",
       " ('---', 30),\n",
       " ('te', 29),\n",
       " ('al', 28),\n",
       " ('leetsville', 28),\n",
       " ('li', 28),\n",
       " ('es', 28),\n",
       " ('ie', 28),\n",
       " (\"canvassers'\", 27),\n",
       " ('mt', 27),\n",
       " ('nd', 27),\n",
       " ('z', 26),\n",
       " ('willaman', 26),\n",
       " ('tt', 25),\n",
       " ('con-', 25),\n",
       " ('ti', 24),\n",
       " ('--o--', 22),\n",
       " ('ft', 21),\n",
       " ('--selected', 20),\n",
       " ('ne', 20),\n",
       " ('soo', 20),\n",
       " ('ce', 19),\n",
       " (\"elders'\", 19),\n",
       " ('q', 19),\n",
       " ('myrta', 18),\n",
       " ('rs', 18),\n",
       " ('altho', 18),\n",
       " ('ly', 17)]"
      ]
     },
     "execution_count": 15,
     "metadata": {},
     "output_type": "execute_result"
    }
   ],
   "source": [
    "# %load shared_elements/top_errors.py\n",
    "errors_summary = GoH.reports.get_errors_summary( summary )\n",
    "GoH.reports.top_errors( errors_summary, 10 )[:50]"
   ]
  },
  {
   "cell_type": "markdown",
   "metadata": {},
   "source": [
    "## Correction 2 -- Fix Line Endings"
   ]
  },
  {
   "cell_type": "code",
   "execution_count": 16,
   "metadata": {
    "ExecuteTime": {
     "end_time": "2017-03-02T19:06:47.164903",
     "start_time": "2017-03-02T19:06:46.515862"
    },
    "collapsed": true
   },
   "outputs": [],
   "source": [
    "# %load shared_elements/correct_line_endings.py\n",
    "prev = cycle\n",
    "cycle = \"correction2\"\n",
    "\n",
    "directories = GoH.utilities.define_directories(prev, cycle, base_dir)\n",
    "if not os.path.exists(directories['cycle']):\n",
    "    os.makedirs(directories['cycle'])\n",
    "\n",
    "corpus = (f for f in listdir(directories['prev']) if not f.startswith('.') and isfile(join(directories['prev'], f)))\n",
    "\n",
    "for filename in corpus:\n",
    "    content = GoH.utilities.readfile(directories['prev'], filename)\n",
    "\n",
    "    content = re.sub(r\"(\\w+)(\\-\\s{1,})([a-z]+)\", r\"\\1\\3\", content)\n",
    "\n",
    "    with open(join(directories['cycle'], filename), mode=\"w\") as o:\n",
    "        o.write(content)\n",
    "        o.close()"
   ]
  },
  {
   "cell_type": "markdown",
   "metadata": {},
   "source": [
    "## Check Correction 2"
   ]
  },
  {
   "cell_type": "code",
   "execution_count": 17,
   "metadata": {
    "ExecuteTime": {
     "end_time": "2017-03-02T19:06:47.761541",
     "start_time": "2017-03-02T19:06:47.166765"
    },
    "collapsed": false
   },
   "outputs": [
    {
     "name": "stdout",
     "output_type": "stream",
     "text": [
      "Directory: /Users/jeriwieringa/Dissertation/text/text/2017-01-31-corpus-with-utf8-split-into-titles-cleaning/NMN/correction2\n",
      "\n",
      "Average verified rate: 0.9108103059158542\n",
      "\n",
      "Average of error rates: 0.09321037463976946\n",
      "\n",
      "Total token count: 198061\n",
      "\n"
     ]
    },
    {
     "data": {
      "image/png": "[encoded data removed]",
      "text/plain": [
       "<matplotlib.figure.Figure at 0x111206fd0>"
      ]
     },
     "metadata": {},
     "output_type": "display_data"
    }
   ],
   "source": [
    "# %load shared_elements/summary.py\n",
    "summary = GoH.reports.overview_report(directories['cycle'], spelling_dictionary, title)"
   ]
  },
  {
   "cell_type": "code",
   "execution_count": 18,
   "metadata": {
    "ExecuteTime": {
     "end_time": "2017-03-02T19:06:47.815236",
     "start_time": "2017-03-02T19:06:47.763605"
    },
    "collapsed": false
   },
   "outputs": [
    {
     "data": {
      "text/plain": [
       "[('-', 946),\n",
       " ('e', 528),\n",
       " ('t', 341),\n",
       " (\"'\", 274),\n",
       " ('th', 246),\n",
       " ('r', 223),\n",
       " ('n', 212),\n",
       " ('w', 203),\n",
       " ('--', 199),\n",
       " ('f', 155),\n",
       " ('m', 154),\n",
       " ('d', 149),\n",
       " ('g', 110),\n",
       " ('aro', 89),\n",
       " ('u', 81),\n",
       " ('bo', 71),\n",
       " ('k', 66),\n",
       " ('wo', 64),\n",
       " ('re', 57),\n",
       " ('co', 54),\n",
       " ('tc', 36),\n",
       " ('x', 36),\n",
       " ('se', 33),\n",
       " ('---', 30),\n",
       " ('te', 29),\n",
       " ('es', 28),\n",
       " ('li', 28),\n",
       " ('ie', 28),\n",
       " ('leetsville', 28),\n",
       " (\"canvassers'\", 27),\n",
       " ('mt', 27),\n",
       " ('nd', 27),\n",
       " ('z', 26),\n",
       " ('willaman', 26),\n",
       " ('tt', 25),\n",
       " ('ti', 24),\n",
       " ('al', 23),\n",
       " ('--o--', 22),\n",
       " ('ft', 21),\n",
       " ('ne', 20),\n",
       " ('--selected', 20),\n",
       " ('soo', 20),\n",
       " ('ce', 19),\n",
       " (\"elders'\", 19),\n",
       " ('q', 19),\n",
       " ('myrta', 18),\n",
       " ('altho', 18),\n",
       " ('rs', 18),\n",
       " ('ca', 17),\n",
       " ('il', 16)]"
      ]
     },
     "execution_count": 18,
     "metadata": {},
     "output_type": "execute_result"
    }
   ],
   "source": [
    "# %load shared_elements/top_errors.py\n",
    "errors_summary = GoH.reports.get_errors_summary( summary )\n",
    "GoH.reports.top_errors( errors_summary, 10 )[:50]"
   ]
  },
  {
   "cell_type": "markdown",
   "metadata": {},
   "source": [
    "## Correction 3 -- Remove Extra Dashes"
   ]
  },
  {
   "cell_type": "code",
   "execution_count": 19,
   "metadata": {
    "ExecuteTime": {
     "end_time": "2017-03-02T19:06:48.607307",
     "start_time": "2017-03-02T19:06:47.816807"
    },
    "collapsed": false
   },
   "outputs": [
    {
     "name": "stdout",
     "output_type": "stream",
     "text": [
      "NMN19070108-V03-01-page1.txt: [('--Selected.', '-Selected.'), ('-', ''), ('-', ''), ('-', ''), ('-', ''), ('-', ''), ('-', ''), ('-', ''), ('-', ''), ('-', ''), ('-', ''), ('-', ''), ('-', '')]\n",
      "NMN19070108-V03-01-page2.txt: [('neighbor-', 'neighbor'), ('no-', 'no'), ('-.', '.'), ('Zn-', 'Zn')]\n",
      "NMN19070108-V03-01-page3.txt: [('-', ''), ('-', ''), ('-', ''), ('-', ''), ('-', ''), ('-', ''), ('-', ''), ('-', ''), ('-.', '.'), ('-', ''), ('-', ''), ('-', ''), ('-', ''), ('-', ''), ('-', ''), ('-', ''), ('-', ''), ('-', ''), ('-', ''), ('-', ''), ('-', ''), ('-', ''), ('-', ''), ('-', ''), ('-', ''), ('--', '-'), ('-', ''), ('-', '')]\n",
      "NMN19070108-V03-01-page4.txt: [('t-', 't')]\n",
      "NMN19070129-V03-02-page1.txt: [('e-ooCOOoo--', 'e-ooCOOoo-'), ('-', ''), ('hone-', 'hone'), ('-', ''), ('p.-', 'p.'), ('-heir', 'heir')]\n",
      "NMN19070129-V03-02-page2.txt: [('--', '-'), ('-e', 'e'), ('--o--', '-o--')]\n",
      "NMN19070129-V03-02-page3.txt: [('--', '-'), ('--', '-'), ('--', '-'), ('-the', 'the')]\n",
      "NMN19070129-V03-02-page6.txt: [('-', '')]\n",
      "NMN19070219-V03-03-page1.txt: [('C-', 'C')]\n",
      "NMN19070219-V03-03-page2.txt: [('seal--', 'seal-')]\n",
      "NMN19070219-V03-03-page3.txt: [('--', '-'), ('--', '-'), ('Feb-', 'Feb'), ('-', ''), ('-', ''), ('-', '')]\n",
      "NMN19070219-V03-03-page4.txt: [('-', ''), ('-', ''), ('-', ''), ('-', ''), ('---', '--'), ('-', ''), ('-', ''), ('-', ''), ('-', ''), ('-', ''), ('-', ''), ('-', ''), ('-', ''), ('-', ''), ('-', ''), ('-', ''), ('-', ''), ('-', ''), ('-', ''), ('-', ''), ('-', ''), ('-.', '.'), ('-', ''), ('-', ''), ('-', ''), ('-', ''), ('-', ''), ('-', ''), ('-', ''), ('-', ''), ('-', '')]\n",
      "NMN19070219-V03-03-page5.txt: [('-will', 'will')]\n",
      "NMN19070312-V03-04-page1.txt: [('--a', '-a'), ('-', ''), ('-titles', 'titles')]\n",
      "NMN19070312-V03-04-page2.txt: [('-', ''), ('-', ''), ('-', ''), ('-', '')]\n",
      "NMN19070312-V03-04-page3.txt: [('--', '-'), ('--', '-'), ('\"--', '\"-'), ('-', '')]\n",
      "NMN19070312-V03-04-page4.txt: [('-id', 'id')]\n",
      "NMN19070312-V03-04-page5.txt: [('--o--', '-o--'), ('fractions.--', 'fractions.-'), ('hesitancy--', 'hesitancy-')]\n",
      "NMN19070401-V03-05-page1.txt: [('-o', 'o'), ('--', '-'), ('for-', 'for'), ('--', '-'), ('--', '-'), ('-', ''), ('-', ''), ('-', ''), ('--', '-'), ('--Chrty', '-Chrty')]\n",
      "NMN19070401-V03-05-page2.txt: [('--', '-'), ('-', ''), ('-this', 'this'), ('-', ''), ('-', '')]\n",
      "NMN19070401-V03-05-page3.txt: [('talkie-', 'talkie')]\n",
      "NMN19070401-V03-05-page4.txt: [('-', '')]\n",
      "NMN19070401-V03-05-page5.txt: [('-', ''), ('-ataer', 'ataer'), ('-', '')]\n",
      "NMN19070401-V03-05-page6.txt: [('..-', '..')]\n",
      "NMN19070401-V03-05-page7.txt: [('-', ''), ('--', '-'), ('-', ''), ('-', ''), ('-', ''), ('-', ''), ('-', ''), ('-', ''), ('-', ''), ('-', ''), ('-', ''), ('-', ''), ('--', '-'), ('-', ''), ('-', ''), ('Teevorte-', 'Teevorte'), ('-', ''), ('-nommen', 'nommen'), ('-', ''), ('-', '')]\n",
      "NMN19070423-V03-06-page1.txt: [('mine-', 'mine'), ('--Selected.', '-Selected.'), ('tas-', 'tas')]\n",
      "NMN19070423-V03-06-page3.txt: [('-', ''), ('saving-', 'saving'), ('-', ''), ('-', ''), ('--', '-')]\n",
      "NMN19070423-V03-06-page4.txt: [('-', ''), ('-', ''), ('-', ''), ('ex-', 'ex')]\n",
      "NMN19070423-V03-06-page5.txt: [('Member-', 'Member'), ('Member-', 'Member')]\n",
      "NMN19070423-V03-06-page7.txt: [('to-', 'to')]\n",
      "NMN19070514-V03-07-page1.txt: [('-', ''), ('-', ''), ('--W.', '-W.')]\n",
      "NMN19070514-V03-07-page2.txt: [('-', ''), ('--', '-'), ('-', ''), ('-by', 'by')]\n",
      "NMN19070514-V03-07-page3.txt: [('--', '-'), ('--', '-'), ('-', ''), ('purity--', 'purity-'), ('mind--', 'mind-')]\n",
      "NMN19070514-V03-07-page4.txt: [('Mich.--', 'Mich.-'), ('--o--', '-o--'), ('--Eugene', '-Eugene')]\n",
      "NMN19070514-V03-07-page5.txt: [('--', '-'), ('-', ''), ('--', '-'), ('-', '')]\n",
      "NMN19070514-V03-07-page7.txt: [('-TEACHERS', 'TEACHERS'), ('con.-', 'con.'), ('--', '-'), ('--', '-')]\n",
      "NMN19070604-V03-08-page1.txt: [('-', ''), ('-', ''), ('-', ''), ('--', '-'), ('pain-', 'pain'), ('-', '')]\n",
      "NMN19070604-V03-08-page2.txt: [('-', ''), ('com-', 'com')]\n",
      "NMN19070604-V03-08-page3.txt: [('-', '')]\n",
      "NMN19070604-V03-08-page4.txt: [('-Iool', 'Iool')]\n",
      "NMN19070604-V03-08-page5.txt: [('-', ''), ('-', '')]\n",
      "NMN19070625-V03-09-page1.txt: [('--n--', '-n--'), ('--H.', '-H.'), ('offer--', 'offer-'), ('-', ''), ('-iath', 'iath'), ('--T.', '-T.')]\n",
      "NMN19070625-V03-09-page2.txt: [('-', ''), ('-', ''), ('---', '--'), ('SABBATH-', 'SABBATH'), ('--all', '-all')]\n",
      "NMN19070625-V03-09-page3.txt: [('-', ''), ('-', ''), ('-', ''), ('-dog', 'dog'), ('something--', 'something-'), ('-ner', 'ner'), ('bark--', 'bark-'), ('--bark', '-bark'), ('--Selected.', '-Selected.'), ('-', '')]\n",
      "NMN19070625-V03-09-page4.txt: [('Confer-', 'Confer'), ('--', '-'), ('--', '-')]\n",
      "NMN19070625-V03-09-page5.txt: [('-th', 'th'), ('wan-', 'wan')]\n",
      "NMN19070625-V03-09-page6.txt: [('-', ''), ('-', '')]\n",
      "NMN19070716-V03-10-page1.txt: [('-', ''), ('-eparate', 'eparate'), ('-They', 'They'), ('-are', 'are')]\n",
      "NMN19070716-V03-10-page3.txt: [('--Selected.', '-Selected.'), ('shining--', 'shining-')]\n",
      "NMN19070716-V03-10-page4.txt: [('CAleT-', 'CAleT'), ('-rut', 'rut'), ('camp--', 'camp-'), ('-to', 'to')]\n",
      "NMN19070716-V03-10-page5.txt: [('C-', 'C'), ('-.', '.'), ('-', ''), ('-', ''), ('-', ''), ('-', ''), ('-', ''), ('-', ''), ('-', ''), ('-', ''), ('-', ''), ('-', ''), ('-', ''), ('-', ''), ('-', ''), ('-', ''), ('-', ''), ('-', ''), ('-', ''), ('-', ''), ('-', ''), ('-crie', 'crie'), ('-', ''), ('-', ''), ('-', ''), ('-', ''), ('-', ''), ('-', ''), ('-', ''), ('-', ''), ('-', ''), ('-', ''), ('-', ''), ('-', ''), ('-', ''), ('-', ''), ('-', ''), ('-', '')]\n",
      "NMN19070813-V03-11-page1.txt: [('-', ''), ('-', ''), ('--Helen', '-Helen'), ('box-', 'box')]\n",
      "NMN19070813-V03-11-page2.txt: [('be-', 'be')]\n",
      "NMN19070813-V03-11-page3.txt: [('--', '-'), ('--', '-'), (\"-'gachera.\", \"'gachera.\"), ('-people', 'people'), ('-hear', 'hear')]\n",
      "NMN19070813-V03-11-page5.txt: [('--', '-')]\n",
      "NMN19070813-V03-11-page6.txt: [('-', ''), ('-', '')]\n",
      "NMN19070813-V03-11-page7.txt: [('-', ''), ('--', '-'), ('-page', 'page')]\n",
      "NMN19070917-V03-12-page1.txt: [('--', '-')]\n",
      "NMN19070917-V03-12-page2.txt: [('-', ''), ('-', ''), ('--', '-'), ('-Lake', 'Lake')]\n",
      "NMN19070917-V03-12-page3.txt: [('-', ''), ('-', ''), ('--', '-'), ('J-', 'J'), ('A-', 'A')]\n",
      "NMN19070917-V03-12-page5.txt: [('-ft', 'ft'), ('ralred-', 'ralred'), ('-', ''), ('-', ''), ('-', '')]\n",
      "NMN19070917-V03-12-page6.txt: [('-', ''), ('Hansen-', 'Hansen')]\n",
      "NMN19071008-V03-13-page1.txt: [('-yield', 'yield'), ('-ark', 'ark'), ('-', '')]\n",
      "NMN19071008-V03-13-page2.txt: [('-', ''), ('-', ''), ('-le', 'le'), ('-', ''), ('-', ''), ('-', ''), ('---', '--'), ('-the', 'the'), ('-Field', 'Field'), ('-come', 'come'), ('\"-', '\"')]\n",
      "NMN19071008-V03-13-page3.txt: [('SEItaS---', 'SEItaS--'), ('-', ''), ('CLUBS.-', 'CLUBS.')]\n",
      "NMN19071008-V03-13-page4.txt: [('build-', 'build'), ('-Ince', 'Ince'), ('-..apeisur', '..apeisur'), ('-', ''), ('O.-', 'O.')]\n",
      "NMN19071008-V03-13-page5.txt: [('-', ''), ('-i', 'i'), ('-hath.', 'hath.'), ('-wo', 'wo'), ('-', ''), ('--', '-'), ('-', ''), ('-', ''), ('-', ''), ('-', ''), ('-', ''), ('-', ''), ('-', ''), ('-', ''), ('-', ''), ('-', ''), ('-', ''), ('-', ''), ('-', ''), ('-', ''), ('-', ''), ('-', ''), ('-', ''), ('-', ''), ('-', ''), ('-', ''), ('-', ''), ('-', ''), ('-', '')]\n",
      "NMN19071008-V03-13-page6.txt: [('-ants.', 'ants.')]\n",
      "NMN19071008-V03-13-page7.txt: [('NA-', 'NA')]\n",
      "NMN19071008-V03-13-page8.txt: [('-', ''), ('-', ''), ('-', ''), ('-', ''), ('-', ''), ('-', ''), ('subscrip-', 'subscrip')]\n",
      "NMN19071008-V03-13-page9.txt: [('fur-', 'fur')]\n",
      "NMN19071029-V03-14-page1.txt: [('-angels', 'angels'), ('-visitants', 'visitants'), ('.-', '.'), ('--So', '-So'), ('y-', 'y'), ('-et', 'et')]\n",
      "NMN19071029-V03-14-page2.txt: [('-', ''), ('--', '-'), ('--Floyd', '-Floyd'), ('-ing', 'ing')]\n",
      "NMN19071029-V03-14-page3.txt: [('--', '-'), ('--', '-'), ('School.\"-', 'School.\"'), ('-There', 'There'), ('--UA', '-UA'), ('cheer-', 'cheer')]\n",
      "NMN19071029-V03-14-page4.txt: [('-', ''), ('-', ''), ('-.', '.')]\n",
      "NMN19071029-V03-14-page5.txt: [('lca-', 'lca'), ('-ietrskeyl', 'ietrskeyl'), ('-', ''), ('-', ''), ('-circulatioL', 'circulatioL'), ('-f', 'f'), ('-th', 'th')]\n",
      "NMN19071029-V03-14-page6.txt: [('-', ''), ('-', ''), ('--', '-')]\n",
      "NMN19071029-V03-14-page7.txt: [('--', '-'), ('--', '-'), ('-TIPPER', 'TIPPER'), ('--Presbyterian', '-Presbyterian')]\n",
      "NMN19071119-V03-15-page1.txt: [('--coPoo--', '-coPoo--'), ('-such', 'such')]\n",
      "NMN19071119-V03-15-page2.txt: [('-', ''), ('-', ''), ('eke-', 'eke'), ('wIthdrawal-', 'wIthdrawal'), ('-.general', '.general')]\n",
      "NMN19071119-V03-15-page3.txt: [('-best', 'best')]\n",
      "NMN19071119-V03-15-page4.txt: [('-', ''), ('Seventh-', 'Seventh'), ('half-', 'half')]\n",
      "NMN19071119-V03-15-page5.txt: [('--', '-'), ('--', '-'), ('-coma.', 'coma.')]\n",
      "NMN19071119-V03-15-page6.txt: [('-', ''), ('-', ''), ('--', '-'), ('-', ''), ('--', '-')]\n",
      "NMN19071119-V03-15-page7.txt: [('--', '-'), ('---', '--'), ('-', ''), ('neigh-', 'neigh'), ('-', ''), ('-', ''), ('-winter', 'winter'), ('--', '-'), ('---....', '--....'), ('-', ''), ('-', ''), ('-', '')]\n",
      "NMN19071119-V03-15-page8.txt: [('--roportud', '-roportud')]\n",
      "NMN19071210-V03-16-page1.txt: [('.-', '.'), ('shine--', 'shine-'), ('flame--', 'flame-'), ('--Missionary', '-Missionary'), ('feel-', 'feel')]\n",
      "NMN19071210-V03-16-page2.txt: [('Christ-', 'Christ'), ('--', '-'), ('--', '-')]\n",
      "NMN19071210-V03-16-page3.txt: [('-', ''), ('--', '-'), ('--', '-'), ('--ready', '-ready'), (\"wood'-\", \"wood'\")]\n",
      "NMN19071210-V03-16-page4.txt: [('-.ruth', '.ruth')]\n",
      "NMN19071210-V03-16-page5.txt: [('--', '-'), ('--', '-'), ('-flers', 'flers'), ('-', ''), ('-', ''), ('MoIrrn--', 'MoIrrn-'), ('-st', 'st')]\n",
      "NMN19071210-V03-16-page6.txt: [('--', '-'), ('--', '-'), ('-', ''), ('meeting.-', 'meeting.')]\n",
      "NMN19071210-V03-16-page7.txt: [('home-', 'home'), ('God-', 'God'), ('--', '-')]\n",
      "NMN19071210-V03-16-page8.txt: [('-', ''), ('-', ''), ('-', ''), ('--', '-'), ('-', ''), ('-', ''), ('-', ''), ('-', ''), ('-', ''), ('-', ''), ('-', ''), ('-', ''), ('-', ''), ('-', ''), ('-', ''), ('-', ''), ('-', ''), ('-', '')]\n",
      "NMN19080107-V04-01-page1.txt: [('-ient', 'ient'), ('-', ''), ('-.unjust', '.unjust'), ('-', ''), ('-', ''), ('-', ''), ('-', ''), ('--L.', '-L.'), ('-ono', 'ono')]\n",
      "NMN19080107-V04-01-page2.txt: [('-rho', 'rho')]\n",
      "NMN19080107-V04-01-page3.txt: [('-.', '.')]\n",
      "NMN19080107-V04-01-page4.txt: [('-ran', 'ran'), ('--powor', '-powor'), ('-oOo-', 'oOo-')]\n",
      "NMN19080107-V04-01-page5.txt: [('-', ''), ('-', ''), ('-', ''), ('-', ''), ('-', ''), ('-', ''), ('-', ''), ('Total-', 'Total'), ('-', ''), ('-', ''), ('-', ''), ('-', ''), ('-', '')]\n",
      "NMN19080107-V04-01-page6.txt: [('--', '-'), ('--', '-'), ('-', '')]\n",
      "NMN19080128-V04-02-page1.txt: [('--', '-'), ('-LOCOLLTIVE', 'LOCOLLTIVE')]\n",
      "NMN19080128-V04-02-page2.txt: [('-eelonged.', 'eelonged.'), ('Nun.-', 'Nun.'), ('var-', 'var')]\n",
      "NMN19080128-V04-02-page3.txt: [('-a', 'a'), ('--', '-'), ('-net', 'net'), ('T-', 'T')]\n",
      "NMN19080128-V04-02-page4.txt: [('K.-', 'K.'), ('-', ''), ('-', '')]\n",
      "NMN19080128-V04-02-page5.txt: [('--', '-'), ('-', '')]\n",
      "NMN19080128-V04-02-page6.txt: [('-', ''), ('.-', '.'), ('AN-', 'AN'), ('-roar.', 'roar.'), ('TI-', 'TI'), ('-', '')]\n",
      "NMN19080128-V04-02-page7.txt: [('-', ''), ('--', '-'), ('--', '-'), ('angel---', 'angel--')]\n",
      "NMN19080218-V04-03-page1.txt: [('--eocO', '-eocO'), ('--', '-'), ('faithful-', 'faithful')]\n",
      "NMN19080218-V04-03-page2.txt: [('-', '')]\n",
      "NMN19080218-V04-03-page3.txt: [('-', '')]\n",
      "NMN19080218-V04-03-page4.txt: [('-Lain', 'Lain'), ('-', ''), ('tS-', 'tS'), ('themr-', 'themr')]\n",
      "NMN19080218-V04-03-page5.txt: [('--', '-'), ('--', '-'), ('attend-', 'attend'), ('-', '')]\n",
      "NMN19080218-V04-03-page6.txt: [('sto-', 'sto'), ('-', ''), ('-', ''), ('-', ''), ('-', ''), ('.r.-', '.r.')]\n",
      "NMN19080218-V04-03-page7.txt: [('-to', 'to'), ('-sent', 'sent'), ('--', '-'), ('-', ''), ('Mich-', 'Mich')]\n",
      "NMN19080310-V04-04-page1.txt: [('-', ''), ('-', ''), ('k-', 'k'), ('-', ''), ('-en', 'en')]\n",
      "NMN19080310-V04-04-page2.txt: [('sanctuary--', 'sanctuary-')]\n",
      "NMN19080310-V04-04-page3.txt: [('-live', 'live')]\n",
      "NMN19080310-V04-04-page4.txt: [('ex.-', 'ex.'), ('-', ''), ('-', ''), ('-', ''), ('-', ''), ('-', ''), ('--', '-'), ('W-', 'W'), ('-', ''), ('-', ''), ('-', ''), ('-', ''), ('-', ''), ('-', ''), ('-', '')]\n",
      "NMN19080310-V04-04-page5.txt: [('-rho', 'rho'), ('-many', 'many'), ('-oom', 'oom')]\n",
      "NMN19080310-V04-04-page6.txt: [('monotonous--', 'monotonous-'), ('-', ''), ('--e', '-e'), ('-', ''), ('peeiod.-', 'peeiod.')]\n",
      "NMN19080310-V04-04-page7.txt: [('s-', 's')]\n",
      "NMN19080310-V04-04-page8.txt: [('-.', '.'), ('-', '')]\n",
      "NMN19080310-V04-04-page9.txt: [('-', ''), ('-', ''), ('-', ''), ('--', '-'), ('-', '')]\n",
      "NMN19080331-V04-05-page1.txt: [('--Selected.', '-Selected.')]\n",
      "NMN19080331-V04-05-page2.txt: [('t-', 't'), ('--', '-'), ('--', '-'), ('-', '')]\n",
      "NMN19080331-V04-05-page3.txt: [('pos-', 'pos')]\n",
      "NMN19080331-V04-05-page4.txt: [('-', ''), ('-e', 'e')]\n",
      "NMN19080331-V04-05-page5.txt: [('-Aave', 'Aave')]\n",
      "NMN19080331-V04-05-page6.txt: [('-', ''), ('--', '-')]\n",
      "NMN19080331-V04-05-page7.txt: [('-lour', 'lour')]\n",
      "NMN19080331-V04-05-page8.txt: [('-', ''), ('--Selected.', '-Selected.')]\n",
      "NMN19080421-V04-06-page1.txt: [('-', ''), ('-', '')]\n",
      "NMN19080421-V04-06-page2.txt: [('-espect', 'espect'), ('-heir', 'heir'), ('-bout', 'bout'), (\"-'o\", \"'o\"), ('-', '')]\n",
      "NMN19080421-V04-06-page3.txt: [('-', ''), ('-', ''), (\"-.'il\", \".'il\"), ('-dens', 'dens'), ('-my', 'my')]\n",
      "NMN19080421-V04-06-page4.txt: [('-rot', 'rot'), ('-', ''), ('-nu', 'nu'), ('-nd', 'nd'), ('-', ''), ('-', ''), ('--', '-'), ('-', '')]\n",
      "NMN19080421-V04-06-page5.txt: [('pre-', 'pre'), ('-twenty', 'twenty'), ('uis-', 'uis'), ('-nd', 'nd'), ('-', '')]\n",
      "NMN19080421-V04-06-page6.txt: [('--', '-'), ('--', '-'), ('-eeuested', 'eeuested'), ('-follows', 'follows'), ('Insti-', 'Insti')]\n",
      "NMN19080421-V04-06-page7.txt: [('-', ''), ('report-', 'report'), ('or-', 'or')]\n",
      "NMN19080421-V04-06-page8.txt: [('-', ''), ('-', ''), ('-', ''), ('-', ''), ('-', ''), ('-', ''), ('-', ''), ('Gay-', 'Gay'), ('-', ''), ('-', ''), ('Fetos-', 'Fetos')]\n",
      "NMN19080512-V04-07-page1.txt: [('---somewhere.\"', '--somewhere.\"'), ('-', ''), ('-', ''), ('-to', 'to'), ('after-', 'after'), ('-mu-a', 'mu-a')]\n",
      "NMN19080512-V04-07-page2.txt: [('.-', '.'), ('-', ''), ('-', ''), ('-', '')]\n",
      "NMN19080512-V04-07-page3.txt: [('-y', 'y'), ('-our', 'our'), ('Sabbath-', 'Sabbath')]\n",
      "NMN19080512-V04-07-page4.txt: [('--Selected.', '-Selected.'), ('--', '-'), ('-..', '..'), ('-', ''), ('ffor-', 'ffor'), ('-', '')]\n",
      "NMN19080512-V04-07-page5.txt: [('-', '')]\n",
      "NMN19080512-V04-07-page6.txt: [('-a', 'a'), ('-.', '.')]\n",
      "NMN19080512-V04-07-page7.txt: [('-', ''), ('-', ''), ('-', ''), ('-', ''), ('-atod', 'atod'), ('essen-', 'essen'), ('--o--', '-o--'), ('-', ''), ('-', ''), ('emper-', 'emper'), ('-', ''), ('ow-', 'ow'), ('--o--', '-o--'), ('-', ''), ('-', ''), ('-', ''), ('-', ''), ('-', ''), ('-e-', 'e-'), ('frau-', 'frau'), ('--o--', '-o--'), ('-', ''), ('-', ''), ('-t.', 't.'), ('-T', 'T')]\n",
      "NMN19080512-V04-07-page8.txt: [('--Selected.', '-Selected.'), ('--o--', '-o--'), ('-', ''), ('-', ''), ('-', ''), ('Blosse.-', 'Blosse.'), ('EXHIB-', 'EXHIB')]\n",
      "NMN19080512-V04-07-page9.txt: [('--', '-'), ('--', '-'), ('c-', 'c'), ('-ent', 'ent'), ('Pro-', 'Pro')]\n",
      "NMN19080623-V04-08-page3.txt: [('-', ''), ('--', '-'), ('-', ''), ('-Caine', 'Caine'), ('-', ''), ('-', ''), ('--the', '-the')]\n",
      "NMN19080623-V04-08-page4.txt: [('-', '')]\n",
      "NMN19080623-V04-08-page5.txt: [('.-', '.'), ('--', '-')]\n",
      "NMN19080623-V04-08-page6.txt: [('a-', 'a'), ('-', ''), ('-cheer', 'cheer')]\n",
      "NMN19080623-V04-08-page7.txt: [('-', ''), ('-', ''), ('-', ''), ('-', ''), ('-', ''), ('-', ''), ('-', ''), ('-', '')]\n",
      "NMN19080623-V04-08-page8.txt: [('-', '')]\n",
      "NMN19080623-V04-08-page9.txt: [('--', '-')]\n",
      "NMN19080714-V04-09-page1.txt: [('e-', 'e'), ('Lord.\"---', 'Lord.\"--')]\n",
      "NMN19080714-V04-09-page2.txt: [('-dar', 'dar'), ('--o--', '-o--'), ('-', ''), ('-', ''), ('-', ''), ('-', ''), ('-', ''), ('-', ''), ('-', ''), ('-', ''), ('-', ''), ('-', ''), ('WATCH-', 'WATCH'), ('-', ''), ('-.', '.'), ('-', '')]\n",
      "NMN19080714-V04-09-page4.txt: [('tencent-', 'tencent'), ('---', '--'), ('-', ''), ('in-', 'in')]\n",
      "NMN19080714-V04-09-page5.txt: [('INSTRUCT-', 'INSTRUCT')]\n",
      "NMN19080714-V04-09-page6.txt: [('--', '-'), ('--', '-'), ('--e....', '-e....'), ('-', '')]\n",
      "NMN19080714-V04-09-page7.txt: [('-', ''), ('--', '-'), ('-', ''), ('step-', 'step')]\n",
      "NMN19080714-V04-09-page8.txt: [('--a--', '-a--'), ('Exhib-', 'Exhib'), ('-', ''), ('-', ''), ('-', ''), ('Sabbath-', 'Sabbath')]\n",
      "NMN19080714-V04-09-page9.txt: [('-', ''), ('--gathered', '-gathered')]\n",
      "NMN19080804-V04-10-page1.txt: [('necess-', 'necess'), ('--Selected.', '-Selected.')]\n",
      "NMN19080804-V04-10-page3.txt: [('-', ''), ('-', '')]\n",
      "NMN19080804-V04-10-page4.txt: [('-eeligious', 'eeligious'), ('-', ''), ('--', '-')]\n",
      "NMN19080804-V04-10-page6.txt: [('-.', '.'), ('.-', '.'), ('-or', 'or'), ('-', '')]\n",
      "NMN19080804-V04-10-page7.txt: [('-', ''), ('-', ''), ('-', ''), ('-nd', 'nd')]\n",
      "NMN19080804-V04-10-page8.txt: [('-', ''), ('Wilson---', 'Wilson--'), ('--', '-'), ('-', ''), ('-', ''), ('-', ''), ('-', ''), ('-lave', 'lave'), ('-', '')]\n",
      "NMN19080818-V04-11-page1.txt: [('-', ''), ('-M', 'M'), ('View.-', 'View.'), ('-', ''), ('in-', 'in')]\n",
      "NMN19080818-V04-11-page2.txt: [('-nal', 'nal'), ('-ance', 'ance'), ('-', '')]\n",
      "NMN19080915-V04-12-page1.txt: [('-are', 'are'), ('-', '')]\n",
      "NMN19080915-V04-12-page2.txt: [('-', '')]\n",
      "NMN19080915-V04-12-page3.txt: [('-', ''), ('-eis', 'eis'), ('-frequent', 'frequent')]\n",
      "NMN19080915-V04-12-page4.txt: [('Mr-', 'Mr')]\n",
      "NMN19080915-V04-12-page5.txt: [('--.', '-.'), ('--', '-'), ('-quite', 'quite')]\n",
      "NMN19080915-V04-12-page6.txt: [('--', '-'), ('--', '-'), ('-', ''), ('---', '--')]\n",
      "NMN19080915-V04-12-page7.txt: [('Ilissionary-', 'Ilissionary'), ('also.--', 'also.-')]\n",
      "NMN19080915-V04-12-page8.txt: [('car-', 'car'), ('sw-', 'sw')]\n",
      "NMN19080915-V04-12-page9.txt: [('-', ''), ('-', ''), ('Fenne-', 'Fenne')]\n",
      "NMN19080922-V04-13-page1.txt: [('-', '')]\n",
      "NMN19080922-V04-13-page2.txt: [('-i', 'i')]\n",
      "NMN19081006-V04-14-page1.txt: [('--Selected.', '-Selected.'), ('-', ''), ('--rulpit', '-rulpit')]\n",
      "NMN19081006-V04-14-page2.txt: [('--', '-'), ('-Joreted', 'Joreted'), ('Board-', 'Board'), ('--', '-')]\n",
      "NMN19081006-V04-14-page3.txt: [('alass-', 'alass'), ('charge.-', 'charge.'), ('re-', 're'), ('-leading', 'leading')]\n",
      "NMN19081006-V04-14-page4.txt: [('--', '-'), ('--', '-'), ('-', ''), ('-Allan', 'Allan'), ('-egioas', 'egioas')]\n",
      "NMN19081006-V04-14-page5.txt: [('--', '-'), ('--', '-'), ('govern-', 'govern'), ('--', '-'), ('--', '-'), ('-', '')]\n",
      "NMN19081006-V04-14-page6.txt: [('-a', 'a'), ('-', ''), ('-', ''), ('-', ''), ('-', ''), ('-', ''), ('-', ''), ('-', ''), ('-', ''), ('-', ''), ('-', ''), ('-', ''), ('-', ''), ('-', ''), ('-', '')]\n",
      "NMN19081006-V04-14-page7.txt: [('---........', '--........')]\n",
      "NMN19081027-V04-15-page1.txt: [('dead-', 'dead'), ('-.', '.'), ('--', '-'), ('--Selected.', '-Selected.')]\n",
      "NMN19081027-V04-15-page2.txt: [('-', ''), ('-', ''), ('-', ''), ('little-', 'little'), ('week--', 'week-'), ('work.--', 'work.-'), ('future.--', 'future.-'), ('be-', 'be')]\n",
      "NMN19081027-V04-15-page3.txt: [('ha-', 'ha')]\n",
      "NMN19081027-V04-15-page4.txt: [('-', ''), ('---', '--'), ('--', '-'), ('---', '--'), ('---', '--'), ('---', '--'), ('---', '--'), ('--', '-'), ('Ha-', 'Ha'), ('---', '--'), ('---', '--'), ('---', '--'), ('---', '--'), ('--', '-'), ('--', '-')]\n",
      "NMN19081027-V04-15-page5.txt: [('-y', 'y'), ('-', ''), ('---', '--')]\n",
      "NMN19081027-V04-15-page6.txt: [('-time', 'time'), ('--Dr.', '-Dr.')]\n",
      "NMN19081027-V04-15-page7.txt: [('the-', 'the'), ('-', '')]\n",
      "NMN19081027-V04-15-page8.txt: [('-', ''), ('--', '-'), ('met-', 'met')]\n",
      "NMN19081124-V04-16-page1.txt: [('-', ''), ('it.--', 'it.-'), ('all.\"--', 'all.\"-')]\n",
      "NMN19081124-V04-16-page2.txt: [('--', '-'), ('..-', '..'), ('-', ''), ('-', ''), ('-', ''), ('-', ''), ('-', ''), ('-.', '.'), ('-', ''), ('-', ''), ('-', ''), ('-', ''), ('-', '')]\n",
      "NMN19081124-V04-16-page3.txt: [('-', '')]\n",
      "NMN19081124-V04-16-page4.txt: [('--', '-'), ('--', '-'), ('-', ''), ('Lake-', 'Lake'), ('near-', 'near')]\n",
      "NMN19081124-V04-16-page5.txt: [('-', ''), ('-', ''), ('-o', 'o'), ('-the', 'the')]\n",
      "NMN19081124-V04-16-page6.txt: [('-', ''), ('-', ''), ('-', ''), ('--', '-'), ('-', ''), ('-', ''), ('-', ''), ('-', '')]\n",
      "NMN19081124-V04-16-page7.txt: [('--', '-'), ('-feee-a', 'feee-a'), ('C-', 'C')]\n",
      "NMN19081215-V04-17-page1.txt: [('--It', '-It'), ('-', ''), ('-', ''), ('-', ''), ('-a', 'a'), ('-', ''), ('-', '')]\n",
      "NMN19081215-V04-17-page2.txt: [('-Course', 'Course'), ('deter-', 'deter'), ('-IAT', 'IAT'), ('--', '-'), ('--', '-'), ('O--', 'O-'), ('In-', 'In')]\n",
      "NMN19081215-V04-17-page3.txt: [('\"Thereto-', '\"Thereto'), ('-', '')]\n",
      "NMN19081215-V04-17-page4.txt: [('-', ''), ('---', '--'), (\"-cd's\", \"cd's\"), ('--Irene', '-Irene'), ('Year...-', 'Year...'), ('-', '')]\n",
      "NMN19081215-V04-17-page5.txt: [('-ust', 'ust'), ('God.--', 'God.-'), ('--Elmo', '-Elmo'), ('-Iurely', 'Iurely'), ('message.--', 'message.-'), ('-', ''), ('received.--', 'received.-'), ('amino.-', 'amino.'), ('Saviour.--', 'Saviour.-')]\n",
      "NMN19081215-V04-17-page6.txt: [('money-', 'money')]\n",
      "NMN19081215-V04-17-page7.txt: [('-', ''), ('-', ''), ('-', ''), ('-', ''), ('-', ''), ('-', ''), ('-', ''), ('-', ''), ('-', ''), ('-', ''), ('-', ''), ('-', ''), ('-', ''), ('-', ''), ('-', ''), ('-', ''), ('-', ''), ('-.', '.'), ('--', '-'), ('-', ''), ('-', ''), ('-', ''), ('-', ''), ('-', ''), ('-', ''), ('-', ''), ('-', ''), ('-', ''), ('-', ''), ('-', ''), ('-', ''), ('-', ''), ('-', ''), ('-', ''), ('-', '')]\n",
      "NMN19090115-V05-01-page1.txt: [('--Selected.', '-Selected.')]\n",
      "NMN19090115-V05-01-page2.txt: [('--o--', '-o--'), ('--o--', '-o--'), ('--oo--', '-oo--'), ('McDonald.--', 'McDonald.-'), ('Marks.--', 'Marks.-'), ('-', ''), ('--o--', '-o--')]\n",
      "NMN19090115-V05-01-page3.txt: [('--these', '-these'), ('s-', 's')]\n",
      "NMN19090115-V05-01-page4.txt: [('-c', 'c'), ('-', ''), ('-', '')]\n",
      "NMN19090115-V05-01-page5.txt: [('--', '-'), ('--', '-'), ('-his', 'his'), ('-emainder', 'emainder')]\n",
      "NMN19090115-V05-01-page7.txt: [('-emellber', 'emellber')]\n",
      "NMN19090115-V05-01-page8.txt: [('-', ''), ('-', ''), ('-T', 'T'), ('-s.', 's.'), ('-', ''), ('-', ''), ('-COT', 'COT'), ('-i', 'i'), ('-', '')]\n",
      "NMN19090115-V05-01-page9.txt: [('-yers', 'yers'), ('there-', 'there'), ('--', '-'), ('--', '-')]\n",
      "NMN19090215-V05-02-page1.txt: [('multitude--', 'multitude-'), ('roam--', 'roam-'), ('-', ''), ('-Allen', 'Allen')]\n",
      "NMN19090215-V05-02-page2.txt: [('-twenty-five.', 'twenty-five.')]\n",
      "NMN19090215-V05-02-page3.txt: [('-myself', 'myself'), ('-ebeing', 'ebeing'), ('--', '-'), ('--', '-'), ('-', ''), ('-', ''), ('-', '')]\n",
      "NMN19090215-V05-02-page4.txt: [('--', '-'), ('.-', '.'), ('go.-', 'go.'), ('-', '')]\n",
      "NMN19090215-V05-02-page5.txt: [('-i', 'i'), ('-', '')]\n",
      "NMN19090215-V05-02-page6.txt: [('-J\"\"', 'J\"\"'), ('--ow-', '-ow-'), ('-', ''), ('Secretary-', 'Secretary'), ('H.-', 'H.')]\n",
      "NMN19090215-V05-02-page7.txt: [('Morocco--', 'Morocco-'), ('-', ''), ('-', ''), ('Onaway-', 'Onaway'), ('--', '-'), ('-', ''), ('-', ''), ('-', ''), ('-', ''), ('-', ''), ('-', ''), ('-', ''), ('-', ''), ('-.', '.'), ('-', ''), ('-', ''), ('-', ''), ('-', ''), ('-', ''), ('-', ''), ('Hancock-', 'Hancock'), ('-', ''), ('-', ''), ('-', ''), ('-yirease', 'yirease'), ('-', ''), ('-', ''), ('-', ''), ('-', '')]\n",
      "NMN19090318-V05-03-page1.txt: [('debt--', 'debt-'), ('-rou', 'rou'), ('aside--', 'aside-'), ('-', ''), ('debt--', 'debt-'), ('--Selected.', '-Selected.'), ('--Selected.', '-Selected.'), ('--o--', '-o--'), ('-', '')]\n",
      "NMN19090318-V05-03-page2.txt: [('not-', 'not'), ('-', ''), ('--A.', '-A.'), ('-do', 'do')]\n",
      "NMN19090318-V05-03-page3.txt: [('-', '')]\n",
      "NMN19090318-V05-03-page4.txt: [('-', '')]\n",
      "NMN19090318-V05-03-page5.txt: [('there-', 'there')]\n",
      "NMN19090318-V05-03-page6.txt: [('-planning', 'planning'), ('-', ''), ('-', '')]\n",
      "NMN19090318-V05-03-page7.txt: [('-found', 'found')]\n",
      "NMN19090318-V05-03-page8.txt: [('--e-..', '-e-..')]\n",
      "NMN19090318-V05-03-page9.txt: [('dila-c-', 'dila-c'), ('-', ''), ('-', ''), (\"-'-\", \"'-\"), ('-', ''), ('-', ''), ('-', ''), ('-', ''), ('-', ''), ('-', ''), ('-', ''), ('-', ''), ('Eastport-', 'Eastport'), ('-', ''), ('Total-', 'Total'), ('-', ''), ('-', ''), ('-..-', '..-'), ('-', ''), ('-', ''), ('-', ''), ('-', ''), ('-', ''), ('-', '')]\n",
      "NMN19090415-V05-04-page1.txt: [('-', ''), ('--Selected.', '-Selected.'), ('-ichigan', 'ichigan'), ('indebted-', 'indebted'), ('-north', 'north'), ('-', '')]\n",
      "NMN19090415-V05-04-page2.txt: [('-', ''), ('-', ''), ('---', '--'), ('-', ''), ('-he', 'he'), ('ba-', 'ba'), ('-', ''), ('-', ''), ('-', '')]\n",
      "NMN19090415-V05-04-page3.txt: [('-ea', 'ea')]\n",
      "NMN19090415-V05-04-page4.txt: [('-', ''), ('-', ''), ('-', ''), ('Johnson-', 'Johnson')]\n",
      "NMN19090415-V05-04-page5.txt: [('-', ''), ('-', ''), ('--Hubert', '-Hubert'), ('-olth', 'olth')]\n",
      "NMN19090415-V05-04-page6.txt: [('--', '-'), ('--', '-'), ('-t-e', 't-e'), ('-', ''), ('--s.', '-s.'), ('dab-', 'dab'), ('.-', '.')]\n",
      "NMN19090415-V05-04-page7.txt: [('-', ''), ('-', ''), ('-', ''), ('-', ''), ('-', ''), ('-', ''), ('-', ''), ('-', ''), ('-', ''), ('-', ''), ('-', ''), ('-', ''), ('-', ''), ('-', ''), ('-', ''), ('gradua-', 'gradua')]\n",
      "NMN19090514-V05-05-page1.txt: [('-', ''), ('-elan', 'elan'), ('tp-', 'tp'), ('-', ''), ('-', ''), ('-', ''), ('-', ''), ('-', '')]\n",
      "NMN19090514-V05-05-page2.txt: [('-', ''), ('-', '')]\n",
      "NMN19090514-V05-05-page3.txt: [('-iaa', 'iaa'), ('-', '')]\n",
      "NMN19090514-V05-05-page4.txt: [('-', ''), ('-.', '.'), ('member.-', 'member.'), ('-we', 'we'), ('Sabbath-keeper-', 'Sabbath-keeper')]\n",
      "NMN19090514-V05-05-page6.txt: [('-T.', 'T.'), ('--', '-'), ('--', '-'), ('-', ''), ('-', ''), ('-', '')]\n",
      "NMN19090514-V05-05-page7.txt: [('-', ''), ('-', ''), ('--o--', '-o--')]\n",
      "NMN19090514-V05-05-page8.txt: [('-', ''), ('-', ''), ('-', ''), ('-', '')]\n",
      "NMN19090514-V05-05-page9.txt: [('-', ''), ('-', ''), ('--o--', '-o--'), ('--', '-'), ('--', '-')]\n",
      "NMN19090615-V05-06-page2.txt: [('-Ho', 'Ho'), ('society-', 'society')]\n",
      "NMN19090615-V05-06-page3.txt: [('I-', 'I'), ('-pear', 'pear'), ('-', ''), ('.--thr-', '.--thr')]\n",
      "NMN19090615-V05-06-page5.txt: [('re--', 're-')]\n",
      "NMN19090615-V05-06-page6.txt: [('-f-Vie', 'f-Vie')]\n",
      "NMN19090615-V05-06-page7.txt: [('-', '')]\n",
      "NMN19090615-V05-06-page8.txt: [('-', ''), ('-', ''), ('-ankfort', 'ankfort'), ('-', ''), ('-', ''), ('-', ''), ('-', ''), ('-', '')]\n",
      "NMN19090615-V05-06-page9.txt: [('-meeting', 'meeting')]\n",
      "NMN19090715-V05-07-page1.txt: [('-', ''), ('--Selected.', '-Selected.')]\n",
      "NMN19090715-V05-07-page2.txt: [('--Selected.', '-Selected.'), ('.-', '.'), ('earth--', 'earth-'), ('-leaders', 'leaders')]\n",
      "NMN19090715-V05-07-page3.txt: [('--o', '-o'), ('--', '-'), ('-', ''), ('--o--', '-o--'), ('-guide', 'guide')]\n",
      "NMN19090715-V05-07-page4.txt: [('-', ''), ('-', ''), ('-', ''), ('-', ''), ('--', '-'), ('--', '-'), ('--', '-'), ('--Eugene', '-Eugene')]\n",
      "NMN19090715-V05-07-page5.txt: [('N-', 'N'), ('-', ''), ('-', ''), ('-', ''), ('-spy', 'spy'), ('-', '')]\n",
      "NMN19090715-V05-07-page6.txt: [(\"'lbs.-ch.-\", \"'lbs.-ch.\"), ('-', ''), ('-', ''), ('-t', 't'), ('n-', 'n'), ('-', ''), ('-..d', '..d'), ('-th', 'th'), ('campiinxe-', 'campiinxe'), (\"-cn'ennee.\", \"cn'ennee.\"), ('-c', 'c'), ('Mag-', 'Mag'), ('-nnif', 'nnif'), ('s-', 's'), ('-inn-', 'inn-'), ('-nnAnn...', 'nnAnn...'), ('-', ''), ('-ook', 'ook'), ('ter-', 'ter'), ('n-rt.-', 'n-rt.'), ('-businenr', 'businenr'), ('t-tol-', 't-tol'), ('-.', '.'), ('-.', '.'), ('-tt', 'tt'), ('pubjnIshcnr-.-', 'pubjnIshcnr-.'), ('-uhre', 'uhre'), ('faecira.-', 'faecira.'), (\"cit'cu-\", \"cit'cu\"), ('YUKON-', 'YUKON'), ('-', ''), ('-early.', 'early.')]\n",
      "NMN19090715-V05-07-page7.txt: [('-Sept', 'Sept'), ('-', ''), ('-', '')]\n",
      "NMN19090715-V05-07-page8.txt: [('--', '-'), ('-', ''), ('us--', 'us-'), ('-made', 'made'), ('Cadillac-', 'Cadillac'), ('-', ''), ('River-', 'River'), ('---', '--'), ('---', '--'), ('------', '-----'), ('---', '--'), ('Omer-', 'Omer'), ('-', ''), ('rotoskey-----------', 'rotoskey----------'), ('-', ''), ('Soottvalo--', 'Soottvalo-'), ('-----.-', '----.-'), ('-.', '.'), ('--', '-'), ('-', ''), ('Fraukfnrt-', 'Fraukfnrt'), ('-----', '----'), ('TOTAL----', 'TOTAL---'), ('Mesiok-', 'Mesiok'), ('Ensign---', 'Ensign--')]\n",
      "NMN19090715-V05-07-page9.txt: [('-', ''), ('-fel', 'fel')]\n",
      "NMN19090812-V05-08-page1.txt: [('-t.', 't.'), ('camp-', 'camp'), ('Pas-', 'Pas'), ('-', ''), ('ay-', 'ay'), ('-ook', 'ook'), ('-neeitrrgs', 'neeitrrgs'), ('-', ''), ('J.-', 'J.')]\n",
      "NMN19090812-V05-08-page2.txt: [('-rimes', 'rimes'), ('-loot', 'loot'), ('--', '-'), ('History.--', 'History.-')]\n",
      "NMN19090812-V05-08-page3.txt: [('speech-', 'speech'), ('Greek.-', 'Greek.'), ('ljatheJatics--', 'ljatheJatics-'), ('Science..-', 'Science..'), ('-', ''), ('-', '')]\n",
      "NMN19090812-V05-08-page4.txt: [('-', ''), ('iJtephen.-', 'iJtephen.'), ('Gra-', 'Gra'), ('Re-', 'Re'), ('-', ''), ('-', ''), ('bless-', 'bless')]\n",
      "NMN19090812-V05-08-page5.txt: [('-ea.', 'ea.'), ('-cemed', 'cemed'), ('-.', '.'), ('-', ''), ('--\"Oh', '-\"Oh'), ('-L.', 'L.'), ('-.', '.'), ('-o', 'o'), ('-', '')]\n",
      "NMN19090812-V05-08-page6.txt: [('-', ''), ('-jeople', 'jeople'), ('-', ''), ('-Acple', 'Acple'), ('lase-', 'lase'), ('Colfax-', 'Colfax'), ('-', ''), ('--', '-'), ('-', ''), ('-', ''), ('-', ''), ('-', ''), ('-', ''), ('-', ''), ('-', ''), ('-', ''), ('-', ''), ('-', ''), ('-', ''), ('--', '-'), ('-', ''), ('-ICHIUN', 'ICHIUN'), ('-', ''), ('-', ''), ('-', ''), ('assoc.-', 'assoc.'), ('-t.', 't.'), ('TraverseCity---', 'TraverseCity--')]\n",
      "NMN19090812-V05-08-page7.txt: [('-hat', 'hat'), ('-', ''), ('-', ''), (\"-ca'actical\", \"ca'actical\"), ('-', '')]\n",
      "NMN19090812-V05-08-page8.txt: [('-for', 'for'), ('--ake', '-ake'), ('-', ''), ('-.', '.'), ('-Present', 'Present'), ('--', '-'), ('cerep--', 'cerep-'), ('-meeting', 'meeting'), ('-q-', 'q-'), ('-t', 't'), ('-e', 'e'), ('-ed', 'ed'), ('a--', 'a-'), ('-', ''), ('-', ''), ('-', ''), ('-ting', 'ting'), ('-otheii.', 'otheii.'), ('heelth-', 'heelth'), ('-.', '.'), ('-d', 'd')]\n",
      "NMN19090915-V05-09-page1.txt: [('--Selected.', '-Selected.'), ('bell--', 'bell-'), ('dwell--', 'dwell-'), ('--Driftwood.', '-Driftwood.')]\n",
      "NMN19090915-V05-09-page2.txt: [('-', ''), ('-.he', '.he'), ('-con', 'con'), ('tem-', 'tem'), ('-.', '.'), ('r.oee-', 'r.oee'), ('TrEk.-', 'TrEk.'), ('-', ''), ('-', ''), ('-', ''), ('-IL', 'IL'), (\"--'\", \"-'\"), ('-.', '.'), ('-p', 'p'), ('Ni-', 'Ni'), ('-', ''), ('-i-..hese', 'i-..hese'), ('E-', 'E'), ('-', ''), ('th-', 'th'), ('-a-ch', 'a-ch'), ('-..', '..'), ('pcssi-', 'pcssi'), ('-EL', 'EL'), ('a-', 'a')]\n",
      "NMN19090915-V05-09-page4.txt: [('Mc-', 'Mc'), ('Peter-', 'Peter'), ('Goffai-', 'Goffai'), ('Received-', 'Received'), ('C-', 'C')]\n",
      "NMN19090915-V05-09-page5.txt: [('-LM', 'LM'), ('-', ''), ('-', ''), ('Cali-', 'Cali'), ('-', ''), ('-', ''), ('move-', 'move'), ('-r-a', 'r-a')]\n",
      "NMN19090915-V05-09-page6.txt: [('-Ielps', 'Ielps'), ('-', ''), ('-', ''), ('-t', 't')]\n",
      "NMN19090915-V05-09-page7.txt: [('-JAITY', 'JAITY'), ('-ee', 'ee'), ('erit--', 'erit-'), ('-a', 'a'), ('-olanteee', 'olanteee'), ('secretary-', 'secretary'), ('.-', '.'), ('--', '-'), ('-ee', 'ee')]\n",
      "NMN19090915-V05-09-page8.txt: [('-is', 'is'), ('anistee---', 'anistee--'), ('--', '-'), ('dscellaneous-------', 'dscellaneous------'), ('---', '--'), ('..-', '..'), ('.-', '.'), ('.-------', '.------'), (\"L'estport--\", \"L'estport-\"), ('----', '---'), ('Yrankfort------', 'Yrankfort-----'), ('.......\"-------', '.......\"------'), ('.side-', '.side'), ('Scottville------', 'Scottville-----'), ('-', ''), ('..ctalcock-----', '..ctalcock----'), ('resick--------------', 'resick-------------'), ('Wilson-----..--', 'Wilson-----..-')]\n",
      "NMN19090915-V05-09-page9.txt: [('R-', 'R'), ('-', ''), (\"'-\", \"'\"), ('Br-', 'Br'), ('w-', 'w'), ('rele-e-', 'rele-e'), ('-LF', 'LF'), ('---', '--'), ('-', ''), ('-', ''), ('-', ''), ('-laJmusson', 'laJmusson'), ('ICI-', 'ICI'), ('-.nt', '.nt'), ('-Jee.', 'Jee.'), ('aioint-', 'aioint'), (\"-'e\", \"'e\")]\n",
      "NMN19091015-V05-10-page1.txt: [('lad--', 'lad-'), ('-Page', 'Page'), ('ITD.RTHMICMACANCO.N.-', 'ITD.RTHMICMACANCO.N.'), ('-hing', 'hing')]\n",
      "NMN19091015-V05-10-page2.txt: [('cAR--', 'cAR-'), ('-', ''), ('-ill', 'ill'), ('-', ''), ('-', '')]\n",
      "NMN19091015-V05-10-page3.txt: [('-', ''), ('-', ''), ('a-.-', 'a-.'), ('-nce', 'nce'), ('rocei-', 'rocei'), ('-she', 'she'), ('-he', 'he')]\n",
      "NMN19091015-V05-10-page4.txt: [('-re', 're'), ('-', ''), ('--that', '-that'), ('--will', '-will'), ('--', '-'), ('--', '-')]\n",
      "NMN19091015-V05-10-page5.txt: [('-', ''), ('MOM-', 'MOM'), ('-', ''), ('-Jorth', 'Jorth')]\n",
      "NMN19091015-V05-10-page6.txt: [('couin-', 'couin'), ('ou--', 'ou-'), ('-.', '.'), ('-.', '.'), ('-', ''), ('-', ''), ('-', ''), ('-', ''), ('.-', '.'), ('.------.------', '.------.-----'), ('-\"', '\"'), ('-.', '.')]\n",
      "NMN19091015-V05-10-page7.txt: [('-ake', 'ake'), ('-belona', 'belona'), ('yen--', 'yen-'), ('estimon-', 'estimon')]\n",
      "NMN19091015-V05-10-page8.txt: [('.-', '.'), ('-.', '.'), ('.-', '.'), ('.-', '.'), ('-', ''), ('--', '-'), ('--BIBLE', '-BIBLE'), ('--', '-'), (\"'-'-\", \"'-'\"), ('--', '-'), ('.-', '.')]\n",
      "NMN19091015-V05-10-page9.txt: [('-', ''), ('-.', '.'), ('--o--', '-o--'), ('--o--', '-o--'), ('--o', '-o'), ('--', '-')]\n",
      "NMN19091115-V05-11-page1.txt: [('IC-', 'IC'), ('-', ''), ('-', ''), ('ow-', 'ow'), ('-fe', 'fe'), ('-', ''), ('--', '-'), ('--', '-'), ('-pernie', 'pernie'), ('-', '')]\n",
      "NMN19091115-V05-11-page2.txt: [('-', ''), ('-', ''), ('livin-', 'livin'), ('.-', '.')]\n",
      "NMN19091115-V05-11-page3.txt: [('-S.', 'S.'), ('Brothel-', 'Brothel'), ('-in', 'in')]\n",
      "NMN19091115-V05-11-page4.txt: [('-', ''), ('-', ''), ('-rke', 'rke'), ('prayin-', 'prayin'), ('-call', 'call')]\n",
      "NMN19091115-V05-11-page5.txt: [('--', '-'), ('--', '-'), ('-', ''), ('taus-', 'taus'), ('-', ''), ('-', ''), ('-.', '.'), ('-', ''), ('-', ''), ('-', ''), ('-', ''), ('-..', '..')]\n",
      "NMN19091115-V05-11-page6.txt: [('canvassersllea.-', 'canvassersllea.'), ('--', '-'), ('--', '-'), ('--o--', '-o--'), ('Baldwin-', 'Baldwin'), ('Cadillac--', 'Cadillac-'), ('Colfax--', 'Colfax-'), ('Dighton--', 'Dighton-'), ('..-', '..'), ('Evart---', 'Evart--'), ('Frankfort-', 'Frankfort'), ('Hancock-', 'Hancock'), ('River-', 'River'), ('---------', '--------'), ('-------', '------'), ('---', '--'), ('--', '-'), ('--', '-'), ('----', '---'), ('--', '-'), ('-----', '----'), ('--', '-'), ('Ordway-', 'Ordway'), ('City--', 'City-'), ('Wildwood--------', 'Wildwood-------'), ('wilsom---------', 'wilsom--------'), ('--', '-'), ('---', '--'), ('.----', '.---'), ('------', '-----'), ('------', '-----')]\n",
      "NMN19091115-V05-11-page7.txt: [('wh-', 'wh')]\n",
      "NMN19091115-V05-11-page8.txt: [('fellow-men-', 'fellow-men'), ('rocuismonts-', 'rocuismonts'), ('-ako', 'ako'), ('-', ''), ('-would', 'would'), ('-i', 'i'), ('-vor-', 'vor-'), ('-se', 'se')]\n",
      "NMN19091115-V05-11-page9.txt: [('-.', '.'), ('-', ''), ('TZ....-', 'TZ....'), ('-', ''), ('-', '')]\n",
      "NMN19091209-V05-12-page1.txt: [('ro-', 'ro'), ('-', ''), ('litI-', 'litI'), ('-Cy', 'Cy'), ('-von', 'von'), ('---Stes', '--Stes'), ('-', ''), ('-', ''), ('.-', '.'), ('-', ''), ('l.-', 'l.'), ('-', ''), ('-', ''), ('-throne', 'throne'), ('.-', '.'), ('-', ''), (\"-'''.'\", \"'''.'\"), ('arid-', 'arid'), ('-', ''), ('--the', '-the'), ('-suop', 'suop'), ('-', ''), (\"--Ea'i.l.y\", \"-Ea'i.l.y\"), ('-', ''), ('---Stop', '--Stop')]\n",
      "NMN19091209-V05-12-page2.txt: [('-', ''), ('-', ''), ('sendin-', 'sendin'), ('-', ''), ('-', ''), ('---J.', '--J.'), ('ez.-', 'ez.'), ('-heir', 'heir')]\n",
      "NMN19091209-V05-12-page3.txt: [('months--', 'months-'), ('-', ''), ('-', ''), ('-ro', 'ro'), ('-chose', 'chose'), ('---', '--'), ('-', ''), ('-faeir', 'faeir'), ('months-', 'months'), ('----', '---')]\n",
      "NMN19091209-V05-12-page4.txt: [('-\"I', '\"I'), ('-the', 'the'), ('u-', 'u'), ('-', ''), ('Coon.-', 'Coon.'), ('bor-', 'bor'), ('-the', 'the'), ('-', ''), ('Tlicken--', 'Tlicken-'), ('-', ''), ('-der', 'der'), ('-this', 'this'), ('-.', '.'), ('-today.', 'today.')]\n",
      "NMN19091209-V05-12-page5.txt: [('-', ''), ('-sal', 'sal'), ('-', ''), ('.-', '.'), ('.-', '.'), ('-', ''), ('-uilding.', 'uilding.'), ('-', ''), ('-', ''), ('-', ''), ('Tan-', 'Tan')]\n",
      "NMN19091209-V05-12-page6.txt: [('-', ''), ('--', '-'), ('-Admoro', 'Admoro'), ('-ier', 'ier'), ('b-', 'b'), ('-', ''), ('-', ''), ('--', '-'), ('-r', 'r')]\n",
      "NMN19091209-V05-12-page7.txt: [('-', ''), ('-', ''), ('-.', '.'), ('-y', 'y'), ('C-', 'C'), ('apona----', 'apona---'), ('---', '--'), ('--', '-'), ('-----', '----'), ('-', ''), ('-------------', '------------'), ('--', '-'), ('Hancock--', 'Hancock-'), ('River----------', 'River---------'), ('----...', '---...'), ('-..', '..'), ('-\"', '\"'), ('--', '-'), ('-', ''), ('Onaway---', 'Onaway--'), ('Omer-', 'Omer'), ('Petoskey-', 'Petoskey'), ('City---', 'City--'), ('-..-----------', '..-----------'), ('thittemore.--', 'thittemore.-'), ('----', '---'), ('----', '---'), ('--', '-'), ('--', '-'), ('--', '-'), ('Lvi-', 'Lvi'), ('.....--', '.....-'), ('--', '-'), ('-', ''), ('-', ''), ('-', ''), ('-', ''), ('-', ''), ('-', ''), ('--------', '-------'), ('n.......-----', 'n.......----')]\n",
      "NMN19091209-V05-12-page8.txt: [('Mrer-', 'Mrer'), ('.-', '.'), ('-', ''), ('-day', 'day'), ('-', ''), ('-w', 'w'), ('--', '-'), ('--o--', '-o--'), ('-Joen', 'Joen')]\n",
      "NMN19100120-V06-01-page1.txt: [('-', ''), ('-', '')]\n",
      "NMN19100120-V06-01-page2.txt: [('--', '-'), ('-', ''), ('-', ''), ('-to', 'to'), ('--', '-'), ('-', ''), ('S-', 'S'), ('iir-tcP-', 'iir-tcP')]\n",
      "NMN19100120-V06-01-page3.txt: [('-', ''), ('camT-', 'camT'), ('-', '')]\n",
      "NMN19100120-V06-01-page4.txt: [('s-', 's'), ('-.', '.'), ('--', '-'), ('--o--', '-o--')]\n",
      "NMN19100120-V06-01-page5.txt: [('IT-', 'IT'), ('--r', '-r'), (\".-'-\", \".-'\"), ('-', ''), ('-', ''), ('--', '-'), ('-..W.', '..W.'), ('-.', '.'), ('-', ''), ('L-', 'L'), ('-', ''), ('-', ''), ('.ot-', '.ot'), ('-', ''), ('-', ''), ('-', ''), ('--', '-'), ('-', ''), ('-', ''), ('-r', 'r')]\n",
      "NMN19100120-V06-01-page6.txt: [('-', ''), ('-Adam', 'Adam'), ('-each.', 'each.'), ('-be', 'be'), ('-Died', 'Died')]\n",
      "NMN19100120-V06-01-page7.txt: [('-', ''), ('--', '-'), ('r-', 'r'), ('-the', 'the'), ('-.', '.'), ('.-', '.'), ('-that', 'that'), ('-ess', 'ess'), ('v-', 'v'), ('-en.Lssl', 'en.Lssl'), ('Jar..-', 'Jar..')]\n",
      "NMN19100120-V06-01-page8.txt: [('Pm-', 'Pm')]\n",
      "NMN19100120-V06-01-page9.txt: [('-it-wised.', 'it-wised.'), ('-', '')]\n",
      "NMN19100224-V06-02-page1.txt: [('-', ''), ('-', ''), ('-', ''), ('-n', 'n')]\n",
      "NMN19100224-V06-02-page2.txt: [('-', ''), ('--', '-')]\n",
      "NMN19100224-V06-02-page3.txt: [('-', ''), ('--', '-'), ('--Alya', '-Alya'), ('--Mrs.', '-Mrs.'), ('-', ''), ('-', ''), ('--o--', '-o--'), ('service--', 'service-')]\n",
      "NMN19100224-V06-02-page4.txt: [('-', ''), ('-', ''), ('-', '')]\n",
      "NMN19100224-V06-02-page5.txt: [('-', ''), ('-', ''), ('--', '-'), ('-', ''), ('-.', '.')]\n",
      "NMN19100224-V06-02-page6.txt: [('--', '-'), ('--', '-')]\n",
      "NMN19100224-V06-02-page7.txt: [('-WANTED.', 'WANTED.'), ('papers-', 'papers'), ('--o--', '-o--'), ('-', ''), ('-', ''), ('-her', 'her'), ('--', '-')]\n"
     ]
    }
   ],
   "source": [
    "# %load shared_elements/remove_extra_dashes.py\n",
    "prev = cycle\n",
    "cycle = \"correction3\"\n",
    "\n",
    "directories = GoH.utilities.define_directories(prev, cycle, base_dir)\n",
    "if not os.path.exists(directories['cycle']):\n",
    "    os.makedirs(directories['cycle'])\n",
    "\n",
    "corpus = (f for f in listdir(directories['prev']) if not f.startswith('.') and isfile(join(directories['prev'], f)))\n",
    "\n",
    "for filename in corpus:\n",
    "    content = GoH.utilities.readfile(directories['prev'], filename)\n",
    "    \n",
    "    text = re.sub(r\"[0-9,!?$:;&]\", \" \", content)\n",
    "    tokens = GoH.utilities.tokenize_text(text)\n",
    "    \n",
    "    replacements = []\n",
    "    for token in tokens:\n",
    "        if token[0] is \"-\":\n",
    "            replacements.append((token, token[1:]))\n",
    "            \n",
    "        elif token[-1] is \"-\":\n",
    "            replacements.append((token, token[:-1]))\n",
    "        else:\n",
    "            pass\n",
    "        \n",
    "    if len(replacements) > 0:\n",
    "        print(\"{}: {}\".format(filename, replacements))\n",
    "        \n",
    "        for replacement in replacements:\n",
    "            content = GoH.clean.replace_pair(replacement, content)\n",
    "    else:\n",
    "        pass\n",
    "\n",
    "    with open(join(directories['cycle'], filename), mode=\"w\") as o:\n",
    "        o.write(content)\n",
    "        o.close()"
   ]
  },
  {
   "cell_type": "markdown",
   "metadata": {},
   "source": [
    "## Check Correction 3"
   ]
  },
  {
   "cell_type": "code",
   "execution_count": 20,
   "metadata": {
    "ExecuteTime": {
     "end_time": "2017-03-02T19:06:49.144012",
     "start_time": "2017-03-02T19:06:48.609421"
    },
    "collapsed": false
   },
   "outputs": [
    {
     "name": "stdout",
     "output_type": "stream",
     "text": [
      "Directory: /Users/jeriwieringa/Dissertation/text/text/2017-01-31-corpus-with-utf8-split-into-titles-cleaning/NMN/correction3\n",
      "\n",
      "Average verified rate: 0.9186944190255666\n",
      "\n",
      "Average of error rates: 0.08445244956772334\n",
      "\n",
      "Total token count: 197797\n",
      "\n"
     ]
    },
    {
     "data": {
      "image/png": "[encoded data removed]",
      "text/plain": [
       "<matplotlib.figure.Figure at 0x111015be0>"
      ]
     },
     "metadata": {},
     "output_type": "display_data"
    }
   ],
   "source": [
    "# %load shared_elements/summary.py\n",
    "summary = GoH.reports.overview_report(directories['cycle'], spelling_dictionary, title)"
   ]
  },
  {
   "cell_type": "code",
   "execution_count": 21,
   "metadata": {
    "ExecuteTime": {
     "end_time": "2017-03-02T19:06:49.209307",
     "start_time": "2017-03-02T19:06:49.145874"
    },
    "collapsed": false
   },
   "outputs": [
    {
     "data": {
      "text/plain": [
       "[('e', 557),\n",
       " ('t', 371),\n",
       " (\"'\", 289),\n",
       " ('th', 256),\n",
       " ('r', 236),\n",
       " ('n', 224),\n",
       " ('w', 208),\n",
       " ('f', 159),\n",
       " ('m', 157),\n",
       " ('d', 154),\n",
       " ('g', 111),\n",
       " ('aro', 89),\n",
       " ('u', 83),\n",
       " ('co', 73),\n",
       " ('bo', 73),\n",
       " ('re', 69),\n",
       " ('-', 69),\n",
       " ('k', 68),\n",
       " ('wo', 66),\n",
       " ('se', 38),\n",
       " ('x', 38),\n",
       " ('tc', 36),\n",
       " ('te', 33),\n",
       " ('nd', 31),\n",
       " ('es', 29),\n",
       " ('ti', 29),\n",
       " ('z', 28),\n",
       " ('li', 28),\n",
       " ('ie', 28),\n",
       " ('leetsville', 28),\n",
       " (\"canvassers'\", 27),\n",
       " ('mt', 27),\n",
       " ('al', 27),\n",
       " ('tt', 26),\n",
       " ('willaman', 26),\n",
       " ('ft', 23),\n",
       " ('ay', 23),\n",
       " ('ne', 20),\n",
       " ('ce', 20),\n",
       " ('soo', 20),\n",
       " ('q', 20),\n",
       " ('il', 19),\n",
       " (\"elders'\", 19),\n",
       " ('myrta', 18),\n",
       " ('ee', 18),\n",
       " ('altho', 18),\n",
       " ('rs', 18),\n",
       " ('ca', 17),\n",
       " ('ro', 17),\n",
       " ('tr', 16)]"
      ]
     },
     "execution_count": 21,
     "metadata": {},
     "output_type": "execute_result"
    }
   ],
   "source": [
    "# %load shared_elements/top_errors.py\n",
    "errors_summary = GoH.reports.get_errors_summary( summary )\n",
    "GoH.reports.top_errors( errors_summary, 10 )[:50]"
   ]
  },
  {
   "cell_type": "markdown",
   "metadata": {},
   "source": [
    "## Correction 4 -- Remove Extra Quotation Marks"
   ]
  },
  {
   "cell_type": "code",
   "execution_count": 22,
   "metadata": {
    "ExecuteTime": {
     "end_time": "2017-03-02T19:06:50.077394",
     "start_time": "2017-03-02T19:06:49.211049"
    },
    "collapsed": false
   },
   "outputs": [
    {
     "name": "stdout",
     "output_type": "stream",
     "text": [
      "NMN19070108-V03-01-page1.txt: [(\"'calling\", 'calling'), (\"'ICH.\", 'ICH.')]\n",
      "NMN19070108-V03-01-page2.txt: [(\"'interesting.\", 'interesting.'), (\"'I\", 'I')]\n",
      "NMN19070129-V03-02-page1.txt: [(\"'What\", 'What'), (\"'work\", 'work'), (\"'There\", 'There')]\n",
      "NMN19070129-V03-02-page4.txt: [(\"'bay\", 'bay')]\n",
      "NMN19070129-V03-02-page6.txt: [(\"'Society\", 'Society'), (\"'Menominee\", 'Menominee')]\n",
      "NMN19070219-V03-03-page1.txt: [(\"'E\", 'E')]\n",
      "NMN19070219-V03-03-page5.txt: [(\"'rith\", 'rith')]\n",
      "NMN19070312-V03-04-page1.txt: [(\"'LICH.\", 'LICH.')]\n",
      "NMN19070401-V03-05-page3.txt: [(\"'.hat\", '.hat'), (\"'io\", 'io')]\n",
      "NMN19070401-V03-05-page7.txt: [(\"'NOTIC\", 'NOTIC')]\n",
      "NMN19070401-V03-05-page8.txt: [(\"'sets.\", 'sets.')]\n",
      "NMN19070423-V03-06-page1.txt: [(\"'with\", 'with'), (\"'you\", 'you')]\n",
      "NMN19070423-V03-06-page6.txt: [(\"'t\", 't'), (\"'wing\", 'wing')]\n",
      "NMN19070514-V03-07-page1.txt: [(\"'The\", 'The')]\n",
      "NMN19070514-V03-07-page2.txt: [(\"'soreheads'.\", 'soreheads.')]\n",
      "NMN19070514-V03-07-page6.txt: [(\"'We\", 'We'), (\"'I\", 'I'), (\"'The\", 'The')]\n",
      "NMN19070604-V03-08-page1.txt: [(\"'The\", 'The')]\n",
      "NMN19070604-V03-08-page2.txt: [(\"'From\", 'From')]\n",
      "NMN19070604-V03-08-page3.txt: [(\"'were\", 'were')]\n",
      "NMN19070625-V03-09-page2.txt: [(\"'We\", 'We')]\n",
      "NMN19070625-V03-09-page5.txt: [(\"'could\", 'could')]\n",
      "NMN19070625-V03-09-page6.txt: [(\"'Christian\", 'Christian')]\n",
      "NMN19070716-V03-10-page1.txt: [(\"'ne\", 'ne')]\n",
      "NMN19070716-V03-10-page3.txt: [(\"'Twas\", 'Twas')]\n",
      "NMN19070716-V03-10-page4.txt: [(\"'heirs\", 'heirs')]\n",
      "NMN19070716-V03-10-page5.txt: [(\"'Brother\", 'Brother')]\n",
      "NMN19070813-V03-11-page2.txt: [(\"'cause\", 'cause'), (\"'There\", 'There')]\n",
      "NMN19070813-V03-11-page3.txt: [(\"'reople's\", 'reoples'), (\"'gachera.\", 'gachera.')]\n",
      "NMN19070917-V03-12-page1.txt: [(\"'Church\", 'Church')]\n",
      "NMN19070917-V03-12-page5.txt: [(\"'seen\", 'seen')]\n",
      "NMN19070917-V03-12-page6.txt: [(\"'ave\", 'ave')]\n",
      "NMN19071008-V03-13-page1.txt: [(\"'i.\", 'i.'), (\"'act\", 'act'), (\"'.\", '.')]\n",
      "NMN19071008-V03-13-page2.txt: [(\"'UTE\", 'UTE'), (\"'eeen\", 'eeen'), (\"'eleasures.\", 'eleasures.')]\n",
      "NMN19071008-V03-13-page3.txt: [(\"'kl\", 'kl')]\n",
      "NMN19071008-V03-13-page4.txt: [(\"'fr.\", 'fr.'), (\"'...\", '...')]\n",
      "NMN19071008-V03-13-page6.txt: [(\"'Takes\", 'Takes')]\n",
      "NMN19071029-V03-14-page4.txt: [(\"'two\", 'two')]\n",
      "NMN19071029-V03-14-page5.txt: [(\"'c\", 'c')]\n",
      "NMN19071119-V03-15-page1.txt: [(\"'WHERE\", 'WHERE')]\n",
      "NMN19071119-V03-15-page2.txt: [(\"'continue.\", 'continue.'), (\"'Ur\", 'Ur')]\n",
      "NMN19071119-V03-15-page4.txt: [(\"'Mrs.\", 'Mrs.')]\n",
      "NMN19071119-V03-15-page5.txt: [(\"'Standard\", 'Standard')]\n",
      "NMN19071119-V03-15-page6.txt: [(\"'cannot\", 'cannot')]\n",
      "NMN19071119-V03-15-page7.txt: [(\"'married\", 'married')]\n",
      "NMN19071119-V03-15-page8.txt: [(\"'.or\", '.or')]\n",
      "NMN19071119-V03-15-page9.txt: [(\"'ell\", 'ell')]\n",
      "NMN19071210-V03-16-page1.txt: [(\"'JICHIi\", 'JICHIi')]\n",
      "NMN19071210-V03-16-page2.txt: [(\"'rod\", 'rod'), (\"'Oreee\", 'Oreee'), (\"'Iced\", 'Iced'), (\"'an\", 'an'), (\"'Rand\", 'Rand')]\n",
      "NMN19071210-V03-16-page3.txt: [(\"'ATE\", 'ATE'), (\"'jerk's\", 'jerks')]\n",
      "NMN19071210-V03-16-page4.txt: [(\"'with\", 'with'), (\"'.Copper\", '.Copper')]\n",
      "NMN19071210-V03-16-page6.txt: [(\"'Report\", 'Report'), ('\\'e.\"', 'e.\"')]\n",
      "NMN19071210-V03-16-page7.txt: [(\"'s\", 's'), (\"'rho\", 'rho'), (\"'Timbers\", 'Timbers')]\n",
      "NMN19080107-V04-01-page1.txt: [(\"'military\", 'military')]\n",
      "NMN19080107-V04-01-page2.txt: [(\"'leo.\", 'leo.')]\n",
      "NMN19080107-V04-01-page5.txt: [(\"'Cno.t\", 'Cno.t')]\n",
      "NMN19080107-V04-01-page6.txt: [(\"'Auong\", 'Auong')]\n",
      "NMN19080128-V04-02-page1.txt: [(\"'noath\", 'noath'), ('\\'\"', '\"'), ('\\'\"', '\"')]\n",
      "NMN19080128-V04-02-page3.txt: [(\"'.re\", '.re')]\n",
      "NMN19080128-V04-02-page4.txt: [(\"'That\", 'That'), (\"'or\", 'or')]\n",
      "NMN19080128-V04-02-page5.txt: [(\"'to\", 'to'), (\"'that\", 'that'), (\"'Aril\", 'Aril')]\n",
      "NMN19080128-V04-02-page6.txt: [(\"'To\", 'To')]\n",
      "NMN19080128-V04-02-page8.txt: [(\"'I\", 'I'), (\"'that\", 'that')]\n",
      "NMN19080218-V04-03-page2.txt: [(\"'The\", 'The')]\n",
      "NMN19080218-V04-03-page4.txt: [(\"'i.\", 'i.')]\n",
      "NMN19080218-V04-03-page5.txt: [(\"'the\", 'the')]\n",
      "NMN19080218-V04-03-page6.txt: [(\"'v\", 'v'), (\"'Noe\", 'Noe'), (\"'before\", 'before')]\n",
      "NMN19080310-V04-04-page3.txt: [(\"'eT\", 'eT'), (\"'WS\", 'WS')]\n",
      "NMN19080310-V04-04-page4.txt: [(\"'s\", 's')]\n",
      "NMN19080310-V04-04-page6.txt: [(\"'TLUNTEra\", 'TLUNTEra')]\n",
      "NMN19080310-V04-04-page9.txt: [(\"'better\", 'better')]\n",
      "NMN19080331-V04-05-page1.txt: [(\"'VOL.\", 'VOL.'), (\"'For\", 'For')]\n",
      "NMN19080331-V04-05-page2.txt: [(\"'net\", 'net'), (\"'to\", 'to')]\n",
      "NMN19080331-V04-05-page3.txt: [(\"'nfluonce\", 'nfluonce'), (\"'Tod\", 'Tod')]\n",
      "NMN19080331-V04-05-page8.txt: [(\"'our\", 'our'), ('\\'sick.\"', 'sick.\"')]\n",
      "NMN19080421-V04-06-page1.txt: [(\"'TOL.\", 'TOL.'), (\"'us\", 'us')]\n",
      "NMN19080421-V04-06-page2.txt: [(\"'W\", 'W'), (\"'.re\", '.re'), (\"'o\", 'o'), (\"'thereof\", 'thereof')]\n",
      "NMN19080421-V04-06-page3.txt: [(\"'pie\", 'pie')]\n",
      "NMN19080421-V04-06-page4.txt: [(\"'.\", '.')]\n",
      "NMN19080421-V04-06-page5.txt: [(\"'Tin\", 'Tin'), (\"'.\", '.')]\n",
      "NMN19080421-V04-06-page6.txt: [(\"'iOhK.\", 'iOhK.')]\n",
      "NMN19080421-V04-06-page8.txt: [(\"'iatt.\", 'iatt.'), (\"'inciples\", 'inciples')]\n",
      "NMN19080512-V04-07-page1.txt: [(\"'Publish\", 'Publish'), (\"'ten\", 'ten')]\n",
      "NMN19080512-V04-07-page3.txt: [(\"'ecoive\", 'ecoive'), (\"''neighborhooe\", 'neighborhooe'), (\"'e\", 'e'), (\"'Sons\", 'Sons')]\n",
      "NMN19080512-V04-07-page4.txt: [(\"'Dom\", 'Dom'), (\"'Now\", 'Now'), (\"'growing\", 'growing')]\n",
      "NMN19080512-V04-07-page7.txt: [(\"'it.\", 'it.')]\n",
      "NMN19080623-V04-08-page1.txt: [(\"'Lamb\", 'Lamb')]\n",
      "NMN19080623-V04-08-page2.txt: [(\"'blessed\", 'blessed')]\n",
      "NMN19080623-V04-08-page3.txt: [(\"'eody\", 'eody')]\n",
      "NMN19080623-V04-08-page5.txt: [(\"'A\", 'A'), (\"'What\", 'What')]\n",
      "NMN19080714-V04-09-page1.txt: [(\"'in\", 'in'), (\"'and\", 'and'), (\"'..ee\", '..ee'), (\"'diligent\", 'diligent')]\n",
      "NMN19080714-V04-09-page3.txt: [(\"'and\", 'and')]\n",
      "NMN19080714-V04-09-page6.txt: [(\"'fifty\", 'fifty')]\n",
      "NMN19080714-V04-09-page7.txt: [(\"'e\", 'e')]\n",
      "NMN19080714-V04-09-page9.txt: [(\"'t\", 't')]\n",
      "NMN19080804-V04-10-page2.txt: [(\"''or\", 'or')]\n",
      "NMN19080804-V04-10-page3.txt: [(\"'aefore\", 'aefore'), (\"'sited\", 'sited')]\n",
      "NMN19080804-V04-10-page4.txt: [(\"'God's\", 'Gods')]\n",
      "NMN19080804-V04-10-page5.txt: [(\"'field\", 'field')]\n",
      "NMN19080804-V04-10-page6.txt: [(\"'I\", 'I'), (\"'Sound\", 'Sound')]\n",
      "NMN19080804-V04-10-page8.txt: [(\"'vve\", 'vve')]\n",
      "NMN19080818-V04-11-page1.txt: [(\"'re\", 're')]\n",
      "NMN19080818-V04-11-page2.txt: [(\"'Your\", 'Your')]\n",
      "NMN19080915-V04-12-page1.txt: [(\"'L\", 'L'), (\"'Tight\", 'Tight'), (\"'Tony\", 'Tony')]\n",
      "NMN19080915-V04-12-page5.txt: [(\"'resented\", 'resented')]\n",
      "NMN19080915-V04-12-page6.txt: [(\"'eto\", 'eto'), (\"'Janie\", 'Janie')]\n",
      "NMN19080922-V04-13-page1.txt: [('\\'\"What', '\"What'), (\"'filled\", 'filled')]\n",
      "NMN19081006-V04-14-page1.txt: [(\"'e\", 'e'), (\"'bemuse\", 'bemuse')]\n",
      "NMN19081006-V04-14-page3.txt: [(\"'move\", 'move'), (\"'la\", 'la')]\n",
      "NMN19081006-V04-14-page4.txt: [(\"'iwy\", 'iwy')]\n",
      "NMN19081006-V04-14-page5.txt: [(\"'We\", 'We')]\n",
      "NMN19081006-V04-14-page6.txt: [(\"'The\", 'The')]\n",
      "NMN19081027-V04-15-page1.txt: [(\"'Twas\", 'Twas')]\n",
      "NMN19081027-V04-15-page4.txt: [(\"'Comer\", 'Comer')]\n",
      "NMN19081027-V04-15-page5.txt: [(\"'Abstain\", 'Abstain')]\n",
      "NMN19081027-V04-15-page7.txt: [(\"'PPER\", 'PPER')]\n",
      "NMN19081124-V04-16-page1.txt: [(\"'.\", '.'), (\"'Behold\", 'Behold'), (\"'If\", 'If'), (\"'I\", 'I'), (\"'I\", 'I')]\n",
      "NMN19081124-V04-16-page2.txt: [(\"'Nv\", 'Nv')]\n",
      "NMN19081124-V04-16-page3.txt: [(\"'acmes\", 'acmes')]\n",
      "NMN19081124-V04-16-page5.txt: [(\"'running\", 'running'), (\"'rowing\", 'rowing')]\n",
      "NMN19081124-V04-16-page7.txt: [(\"'etoskey\", 'etoskey')]\n",
      "NMN19081215-V04-17-page1.txt: [(\"'Your\", 'Your')]\n",
      "NMN19081215-V04-17-page3.txt: [(\"'.\", '.')]\n",
      "NMN19081215-V04-17-page7.txt: [(\"'Tao\", 'Tao')]\n",
      "NMN19090115-V05-01-page3.txt: [(\"''MISSIONARY\", 'MISSIONARY')]\n",
      "NMN19090115-V05-01-page4.txt: [(\"'ehe\", 'ehe')]\n",
      "NMN19090115-V05-01-page5.txt: [(\"'workmen\", 'workmen'), (\"'pause\", 'pause')]\n",
      "NMN19090115-V05-01-page7.txt: [(\"'ust\", 'ust')]\n",
      "NMN19090115-V05-01-page8.txt: [(\"'f.\", 'f.'), (\"''.\", '.')]\n",
      "NMN19090115-V05-01-page9.txt: [(\"'retheen\", 'retheen')]\n",
      "NMN19090215-V05-02-page1.txt: [(\"'Tis\", 'Tis')]\n",
      "NMN19090215-V05-02-page2.txt: [(\"'of\", 'of'), (\"'are\", 'are')]\n",
      "NMN19090215-V05-02-page4.txt: [(\"'Ake\", 'Ake'), (\"'Adch.\", 'Adch.')]\n",
      "NMN19090215-V05-02-page6.txt: [(\"'thorough\", 'thorough'), (\"'Medical\", 'Medical')]\n",
      "NMN19090215-V05-02-page7.txt: [(\"'Let\", 'Let'), (\"'at\", 'at'), (\"'hole\", 'hole')]\n",
      "NMN19090318-V05-03-page1.txt: [(\"'Tis\", 'Tis')]\n",
      "NMN19090318-V05-03-page4.txt: [(\"'held\", 'held'), (\"'long\", 'long'), (\"'YE\", 'YE')]\n",
      "NMN19090318-V05-03-page5.txt: [(\"'arch\", 'arch')]\n",
      "NMN19090318-V05-03-page6.txt: [(\"'Coming\", 'Coming')]\n",
      "NMN19090318-V05-03-page8.txt: [(\"'sirs.\", 'sirs.')]\n",
      "NMN19090318-V05-03-page9.txt: [(\"'mavay\", 'mavay')]\n",
      "NMN19090415-V05-04-page1.txt: [(\"'ut\", 'ut')]\n",
      "NMN19090415-V05-04-page2.txt: [(\"'.\", '.'), (\"'he\", 'he'), (\"'There\", 'There')]\n",
      "NMN19090415-V05-04-page3.txt: [(\"'work\", 'work'), (\"'eeve\", 'eeve')]\n",
      "NMN19090415-V05-04-page4.txt: [(\"'ceased\", 'ceased')]\n",
      "NMN19090415-V05-04-page5.txt: [(\"'uman\", 'uman'), (\"'.ro.\", '.ro.'), (\"'SISSIONARYj'O\", 'SISSIONARYjO'), (\"'egae\", 'egae')]\n",
      "NMN19090514-V05-05-page2.txt: [(\"'e\", 'e'), (\"'How\", 'How'), (\"'No\", 'No')]\n",
      "NMN19090514-V05-05-page3.txt: [(\"'e\", 'e'), (\"'Y\", 'Y'), (\"'Necessity\", 'Necessity'), (\"'Let\", 'Let'), (\"'which\", 'which')]\n",
      "NMN19090514-V05-05-page5.txt: [(\"'liner\", 'liner')]\n",
      "NMN19090514-V05-05-page7.txt: [(\"'third\", 'third')]\n",
      "NMN19090514-V05-05-page9.txt: [(\"'.s\", '.s'), (\"'NI\", 'NI')]\n",
      "NMN19090615-V05-06-page1.txt: [(\"'.\", '.'), (\"'What\", 'What'), (\"'You\", 'You'), (\"'Len\", 'Len')]\n",
      "NMN19090615-V05-06-page3.txt: [(\"'Nerd\", 'Nerd')]\n",
      "NMN19090615-V05-06-page4.txt: [(\"'lace\", 'lace'), (\"'stumps\", 'stumps'), (\"'IRON\", 'IRON')]\n",
      "NMN19090615-V05-06-page6.txt: [(\"'ors.\", 'ors.'), (\"'Business\", 'Business')]\n",
      "NMN19090615-V05-06-page7.txt: [(\"'Raw\", 'Raw'), (\"'having\", 'having')]\n",
      "NMN19090615-V05-06-page8.txt: [(\"'This\", 'This')]\n",
      "NMN19090715-V05-07-page1.txt: [(\"'NORT\", 'NORT'), (\"'recrma\", 'recrma')]\n",
      "NMN19090715-V05-07-page2.txt: [(\"'.\", '.')]\n",
      "NMN19090715-V05-07-page3.txt: [(\"'.nciple\", '.nciple')]\n",
      "NMN19090715-V05-07-page5.txt: [(\"'Mara\", 'Mara')]\n",
      "NMN19090715-V05-07-page6.txt: [(\"'lbs.\", 'lbs.'), (\"'ich\", 'ich'), (\"'o\", 'o'), (\"'Any\", 'Any'), (\"'ature\", 'ature'), (\"'Lie\", 'Lie'), (\"'but\", 'but'), (\"'T\", 'T'), (\"'aitnessed\", 'aitnessed'), (\"'ACIFT\", 'ACIFT')]\n",
      "NMN19090812-V05-08-page1.txt: [(\"'PrIN\", 'PrIN'), (\"'Te\", 'Te'), (\"'yelp\", 'yelp'), (\"'radar\", 'radar')]\n",
      "NMN19090812-V05-08-page2.txt: [(\"'LiM\", 'LiM'), (\"'-ill\", '-ill'), (\"'se\", 'se')]\n",
      "NMN19090812-V05-08-page4.txt: [(\"'Go\", 'Go'), (\"'hem\", 'hem')]\n",
      "NMN19090812-V05-08-page5.txt: [(\"'eve.\", 'eve.'), (\"'nfi\", 'nfi'), (\"'nook\", 'nook'), (\"'as\", 'as'), (\"'Visit\", 'Visit')]\n",
      "NMN19090812-V05-08-page6.txt: [(\"'MTH\", 'MTH')]\n",
      "NMN19090812-V05-08-page8.txt: [(\"'tether\", 'tether'), (\"'Tract\", 'Tract')]\n",
      "NMN19090915-V05-09-page2.txt: [(\"'..ance\", '..ance'), (\"'END\", 'END'), (\"'.\", '.'), (\"'.cork\", '.cork'), (\"'CLT\", 'CLT')]\n",
      "NMN19090915-V05-09-page3.txt: [(\"'Conference\", 'Conference'), (\"'When\", 'When'), (\"'Jill\", 'Jill'), (\"'Our\", 'Our')]\n",
      "NMN19090915-V05-09-page4.txt: [(\"'weextend\", 'weextend'), (\"'On\", 'On'), (\"'F.\", 'F.'), (\"'D.\", 'D.'), (\"'On\", 'On'), (\"'Rernast\", 'Rernast')]\n",
      "NMN19090915-V05-09-page5.txt: [(\"'Ee\", 'Ee'), (\"'Iome\", 'Iome')]\n",
      "NMN19090915-V05-09-page6.txt: [(\"'j\", 'j')]\n",
      "NMN19090915-V05-09-page7.txt: [(\"'he\", 'he')]\n",
      "NMN19090915-V05-09-page8.txt: [(\"'Volunteer\", 'Volunteer'), (\"'blase\", 'blase'), (\"'TOR\", 'TOR')]\n",
      "NMN19090915-V05-09-page9.txt: [(\"'Tao\", 'Tao'), (\"'.ess\", '.ess'), (\"'t\", 't'), (\"'e\", 'e')]\n",
      "NMN19091015-V05-10-page1.txt: [(\"'put\", 'put'), (\"'We.\", 'We.')]\n",
      "NMN19091015-V05-10-page2.txt: [(\"'at\", 'at'), (\"'in\", 'in'), (\"'Mine\", 'Mine'), (\"'We.\", 'We.')]\n",
      "NMN19091015-V05-10-page3.txt: [(\"'co.\", 'co.'), (\"'Icarts.\", 'Icarts.'), (\"'he\", 'he'), (\"'e\", 'e')]\n",
      "NMN19091015-V05-10-page5.txt: [(\"'reading\", 'reading'), (\"'Mess\", 'Mess')]\n",
      "NMN19091015-V05-10-page6.txt: [(\"'chat\", 'chat'), (\"'i\", 'i')]\n",
      "NMN19091015-V05-10-page7.txt: [(\"'olunteer\", 'olunteer'), (\"'All\", 'All'), (\"'moaning\", 'moaning'), (\"'aive\", 'aive'), (\"'a\", 'a')]\n",
      "NMN19091015-V05-10-page8.txt: [(\"'..f\", '..f')]\n",
      "NMN19091015-V05-10-page9.txt: [(\"''very\", 'very')]\n",
      "NMN19091115-V05-11-page1.txt: [(\"''after\", 'after'), (\"'.oyalty\", '.oyalty'), (\"'.\", '.'), (\"'or\", 'or')]\n",
      "NMN19091115-V05-11-page2.txt: [(\"'S\", 'S'), ('\\'Cations\".', 'Cations\".'), (\"'Pe\", 'Pe')]\n",
      "NMN19091115-V05-11-page3.txt: [(\"'elp\", 'elp')]\n",
      "NMN19091115-V05-11-page4.txt: [(\"'Jou\", 'Jou'), (\"'ave\", 'ave')]\n",
      "NMN19091115-V05-11-page5.txt: [(\"'e\", 'e')]\n",
      "NMN19091115-V05-11-page6.txt: [(\"'ee\", 'ee')]\n",
      "NMN19091115-V05-11-page7.txt: [(\"'osier's\", 'osiers'), (\"'Outline\", 'Outline')]\n",
      "NMN19091115-V05-11-page8.txt: [(\"'.fares\", '.fares'), (\"'Yo\", 'Yo'), (\"'too\", 'too')]\n",
      "NMN19091209-V05-12-page1.txt: [(\"'TOL.\", 'TOL.'), (\"'Qum\", 'Qum'), ('\\'\"', '\"'), (\"'should\", 'should'), (\"'b\", 'b'), (\"'Are\", 'Are'), (\"'sh\", 'sh'), (\"'.ors\", '.ors')]\n",
      "NMN19091209-V05-12-page2.txt: [(\"'THE\", 'THE'), (\"'.nest\", '.nest')]\n",
      "NMN19091209-V05-12-page5.txt: [(\"'wiolo\", 'wiolo'), (\"'''roo.\", 'roo.'), (\"'.\", '.'), (\"'irothror.\", 'irothror.')]\n",
      "NMN19091209-V05-12-page6.txt: [(\"'..tore\", '..tore'), (\"'tic\", 'tic'), (\"'loll.\", 'loll.'), (\"'orGuilford\", 'orGuilford')]\n",
      "NMN19091209-V05-12-page7.txt: [(\"'se\", 'se'), (\"'roe\", 'roe')]\n",
      "NMN19100120-V06-01-page2.txt: [(\"'WE\", 'WE')]\n",
      "NMN19100120-V06-01-page5.txt: [(\"'Do\", 'Do'), (\"'ZL.\", 'ZL.'), (\"'P.\", 'P.'), (\"'Zip\", 'Zip')]\n",
      "NMN19100120-V06-01-page7.txt: [(\"'Lash.\", 'Lash.'), (\"'to\", 'to'), (\"'looting\", 'looting'), (\"'The\", 'The')]\n",
      "NMN19100120-V06-01-page8.txt: [(\"'sere\", 'sere'), (\"'the\", 'the'), (\"'save\", 'save'), (\"'mica\", 'mica')]\n",
      "NMN19100120-V06-01-page9.txt: [(\"'nefore\", 'nefore'), (\"'Y.\", 'Y.')]\n",
      "NMN19100224-V06-02-page2.txt: [(\"'They\", 'They'), (\"'The\", 'The')]\n",
      "NMN19100224-V06-02-page4.txt: [(\"'The\", 'The')]\n",
      "NMN19100224-V06-02-page7.txt: [(\"'the\", 'the'), (\"'We\", 'We')]\n"
     ]
    }
   ],
   "source": [
    "# %load shared_elements/replace_extra_quotation_marks.py\n",
    "prev = cycle\n",
    "cycle = \"correction4\"\n",
    "\n",
    "directories = GoH.utilities.define_directories(prev, cycle, base_dir)\n",
    "if not os.path.exists(directories['cycle']):\n",
    "    os.makedirs(directories['cycle'])\n",
    "\n",
    "corpus = (f for f in listdir(directories['prev']) if not f.startswith('.') and isfile(join(directories['prev'], f)))\n",
    "\n",
    "for filename in corpus:\n",
    "    content = GoH.utilities.readfile(directories['prev'], filename)\n",
    "    \n",
    "    text = re.sub(r\"[0-9,!?$:;&]\", \" \", content)\n",
    "    tokens = GoH.utilities.tokenize_text(text)\n",
    "    \n",
    "    corrections = []\n",
    "    for token in tokens:\n",
    "        token_list = list(token)\n",
    "        last_char = token_list[-1]\n",
    "\n",
    "        if last_char is \"'\":\n",
    "            if len(token) > 1:\n",
    "                if token_list[-2] is 's' or 'S':\n",
    "                    pass\n",
    "                else:\n",
    "                    corrections.append((token, re.sub(r\"'\", r\"\", token)))\n",
    "            else:\n",
    "                pass\n",
    "        elif token[0] is \"'\":\n",
    "            corrections.append((token, re.sub(r\"'\", r\"\", token)))   \n",
    "        else:\n",
    "            pass\n",
    "    \n",
    "    if len(corrections) > 0:\n",
    "        print('{}: {}'.format(filename, corrections))\n",
    "\n",
    "        for correction in corrections:\n",
    "            content = GoH.clean.replace_pair(correction, content)\n",
    "    else:\n",
    "        pass\n",
    "\n",
    "    with open(join(directories['cycle'], filename), mode=\"w\") as o:\n",
    "        o.write(content)\n",
    "        o.close()"
   ]
  },
  {
   "cell_type": "markdown",
   "metadata": {},
   "source": [
    "## Check Correction 4"
   ]
  },
  {
   "cell_type": "code",
   "execution_count": 23,
   "metadata": {
    "ExecuteTime": {
     "end_time": "2017-03-02T19:06:50.596374",
     "start_time": "2017-03-02T19:06:50.079059"
    },
    "collapsed": false
   },
   "outputs": [
    {
     "name": "stdout",
     "output_type": "stream",
     "text": [
      "Directory: /Users/jeriwieringa/Dissertation/text/text/2017-01-31-corpus-with-utf8-split-into-titles-cleaning/NMN/correction4\n",
      "\n",
      "Average verified rate: 0.9202623368611607\n",
      "\n",
      "Average of error rates: 0.08289913544668587\n",
      "\n",
      "Total token count: 197761\n",
      "\n"
     ]
    },
    {
     "data": {
      "image/png": "[encoded data removed]",
      "text/plain": [
       "<matplotlib.figure.Figure at 0x10336f128>"
      ]
     },
     "metadata": {},
     "output_type": "display_data"
    }
   ],
   "source": [
    "# %load shared_elements/summary.py\n",
    "summary = GoH.reports.overview_report(directories['cycle'], spelling_dictionary, title)"
   ]
  },
  {
   "cell_type": "code",
   "execution_count": 24,
   "metadata": {
    "ExecuteTime": {
     "end_time": "2017-03-02T19:06:50.651557",
     "start_time": "2017-03-02T19:06:50.598318"
    },
    "collapsed": false
   },
   "outputs": [
    {
     "data": {
      "text/plain": [
       "[('e', 571),\n",
       " ('t', 379),\n",
       " ('th', 256),\n",
       " ('r', 237),\n",
       " (\"'\", 236),\n",
       " ('n', 224),\n",
       " ('w', 210),\n",
       " ('f', 163),\n",
       " ('m', 157),\n",
       " ('d', 155),\n",
       " ('g', 111),\n",
       " ('aro', 89),\n",
       " ('u', 83),\n",
       " ('co', 74),\n",
       " ('bo', 73),\n",
       " ('re', 70),\n",
       " ('-', 69),\n",
       " ('k', 68),\n",
       " ('wo', 67),\n",
       " ('se', 40),\n",
       " ('x', 38),\n",
       " ('tc', 36),\n",
       " ('te', 34),\n",
       " ('nd', 31),\n",
       " ('es', 29),\n",
       " ('ti', 29),\n",
       " ('z', 28),\n",
       " ('li', 28),\n",
       " ('ie', 28),\n",
       " ('leetsville', 28),\n",
       " (\"canvassers'\", 27),\n",
       " ('al', 27),\n",
       " ('mt', 27),\n",
       " ('tt', 26),\n",
       " ('willaman', 26),\n",
       " ('ft', 23),\n",
       " ('ay', 23),\n",
       " ('ne', 21),\n",
       " ('ce', 20),\n",
       " ('ee', 20),\n",
       " ('soo', 20),\n",
       " ('q', 20),\n",
       " ('il', 19),\n",
       " ('myrta', 18),\n",
       " (\"elders'\", 18),\n",
       " ('altho', 18),\n",
       " ('rs', 18),\n",
       " ('ca', 17),\n",
       " ('ro', 17),\n",
       " ('tr', 16)]"
      ]
     },
     "execution_count": 24,
     "metadata": {},
     "output_type": "execute_result"
    }
   ],
   "source": [
    "# %load shared_elements/top_errors.py\n",
    "errors_summary = GoH.reports.get_errors_summary( summary )\n",
    "GoH.reports.top_errors( errors_summary, 10 )[:50]"
   ]
  },
  {
   "cell_type": "markdown",
   "metadata": {},
   "source": [
    "## Correction 5 -- Rejoin Burst Words"
   ]
  },
  {
   "cell_type": "code",
   "execution_count": 25,
   "metadata": {
    "ExecuteTime": {
     "end_time": "2017-03-02T19:06:51.176836",
     "start_time": "2017-03-02T19:06:50.653121"
    },
    "collapsed": false
   },
   "outputs": [
    {
     "name": "stdout",
     "output_type": "stream",
     "text": [
      "NMN19070312-V03-04-page1.txt: [(' C O N F E R E N C E ', 'CONFERENCE')]\n",
      "NMN19080512-V04-07-page7.txt: [('Ii', 'Ii')]\n",
      "NMN19081027-V04-15-page1.txt: [(' S H E E T\\n', 'SHEET')]\n",
      "NMN19090215-V05-02-page1.txt: [(' S H E E T\\n', 'SHEET')]\n",
      "NMN19090215-V05-02-page7.txt: [('In', 'In')]\n",
      "NMN19090715-V05-07-page1.txt: [('\\nh E N C E\\n', 'hENCE')]\n",
      "NMN19090812-V05-08-page6.txt: [('No', 'No')]\n",
      "NMN19090915-V05-09-page1.txt: [('Be', 'Be')]\n",
      "NMN19100120-V06-01-page5.txt: [('It', 'It'), ('It', 'It')]\n",
      "NMN19100224-V06-02-page5.txt: [('As', 'As')]\n"
     ]
    }
   ],
   "source": [
    "# %load shared_elements/rejoin_burst_words.py\n",
    "prev = cycle\n",
    "cycle = \"correction5\"\n",
    "\n",
    "directories = GoH.utilities.define_directories(prev, cycle, base_dir)\n",
    "if not os.path.exists(directories['cycle']):\n",
    "    os.makedirs(directories['cycle'])\n",
    "\n",
    "corpus = (f for f in listdir(directories['prev']) if not f.startswith('.') and isfile(join(directories['prev'], f)))\n",
    "\n",
    "for filename in corpus:\n",
    "    content = GoH.utilities.readfile(directories['prev'], filename)\n",
    "\n",
    "    pattern = re.compile(\"(\\s(\\w{1,2}\\s){5,})\")\n",
    "    \n",
    "    replacements = []\n",
    "    GoH.clean.check_splits(pattern, spelling_dictionary, content, replacements)\n",
    "    \n",
    "    if len(replacements) > 0:\n",
    "        print('{}: {}'.format(filename, replacements))\n",
    "\n",
    "        for replacement in replacements:\n",
    "            content = GoH.clean.replace_pair(replacement, content)\n",
    "    else:\n",
    "        pass\n",
    "\n",
    "    with open(join(directories['cycle'], filename), mode=\"w\") as o:\n",
    "        o.write(content)\n",
    "        o.close()"
   ]
  },
  {
   "cell_type": "markdown",
   "metadata": {},
   "source": [
    "## Check Correction 5"
   ]
  },
  {
   "cell_type": "code",
   "execution_count": 26,
   "metadata": {
    "ExecuteTime": {
     "end_time": "2017-03-02T19:06:51.698599",
     "start_time": "2017-03-02T19:06:51.178856"
    },
    "collapsed": false
   },
   "outputs": [
    {
     "name": "stdout",
     "output_type": "stream",
     "text": [
      "Directory: /Users/jeriwieringa/Dissertation/text/text/2017-01-31-corpus-with-utf8-split-into-titles-cleaning/NMN/correction5\n",
      "\n",
      "Average verified rate: 0.9203216263369491\n",
      "\n",
      "Average of error rates: 0.08282997118155619\n",
      "\n",
      "Total token count: 197745\n",
      "\n"
     ]
    },
    {
     "data": {
      "image/png": "[encoded data removed]",
      "text/plain": [
       "<matplotlib.figure.Figure at 0x11060de80>"
      ]
     },
     "metadata": {},
     "output_type": "display_data"
    }
   ],
   "source": [
    "# %load shared_elements/summary.py\n",
    "summary = GoH.reports.overview_report(directories['cycle'], spelling_dictionary, title)"
   ]
  },
  {
   "cell_type": "code",
   "execution_count": 27,
   "metadata": {
    "ExecuteTime": {
     "end_time": "2017-03-02T19:06:51.758398",
     "start_time": "2017-03-02T19:06:51.700649"
    },
    "collapsed": false
   },
   "outputs": [
    {
     "data": {
      "text/plain": [
       "[('e', 562),\n",
       " ('t', 377),\n",
       " ('th', 256),\n",
       " (\"'\", 236),\n",
       " ('r', 236),\n",
       " ('n', 221),\n",
       " ('w', 210),\n",
       " ('f', 162),\n",
       " ('m', 157),\n",
       " ('d', 155),\n",
       " ('g', 111),\n",
       " ('aro', 89),\n",
       " ('u', 83),\n",
       " ('co', 74),\n",
       " ('bo', 73),\n",
       " ('re', 70),\n",
       " ('-', 69),\n",
       " ('k', 68),\n",
       " ('wo', 67),\n",
       " ('se', 40),\n",
       " ('x', 38),\n",
       " ('tc', 36),\n",
       " ('te', 34),\n",
       " ('nd', 31),\n",
       " ('es', 29),\n",
       " ('ti', 29),\n",
       " ('z', 28),\n",
       " ('li', 28),\n",
       " ('ie', 28),\n",
       " ('leetsville', 28),\n",
       " (\"canvassers'\", 27),\n",
       " ('al', 27),\n",
       " ('mt', 27),\n",
       " ('tt', 26),\n",
       " ('willaman', 26),\n",
       " ('ft', 23),\n",
       " ('ay', 23),\n",
       " ('ne', 21),\n",
       " ('ce', 20),\n",
       " ('ee', 20),\n",
       " ('soo', 20),\n",
       " ('q', 20),\n",
       " ('il', 19),\n",
       " ('myrta', 18),\n",
       " (\"elders'\", 18),\n",
       " ('altho', 18),\n",
       " ('rs', 18),\n",
       " ('ca', 17),\n",
       " ('ro', 17),\n",
       " ('tr', 16)]"
      ]
     },
     "execution_count": 27,
     "metadata": {},
     "output_type": "execute_result"
    }
   ],
   "source": [
    "# %load shared_elements/top_errors.py\n",
    "errors_summary = GoH.reports.get_errors_summary( summary )\n",
    "GoH.reports.top_errors( errors_summary, 10 )[:50]"
   ]
  },
  {
   "cell_type": "markdown",
   "metadata": {},
   "source": [
    "## Correction 6 -- Rejoin Split Words"
   ]
  },
  {
   "cell_type": "code",
   "execution_count": 28,
   "metadata": {
    "ExecuteTime": {
     "end_time": "2017-03-02T19:06:53.286833",
     "start_time": "2017-03-02T19:06:51.760242"
    },
    "collapsed": false,
    "scrolled": true
   },
   "outputs": [
    {
     "name": "stdout",
     "output_type": "stream",
     "text": [
      "NMN19070108-V03-01-page2.txt: [('te', 'r')]\n",
      "NMN19070108-V03-01-page4.txt: [('th', 'at'), ('bo', 'A')]\n",
      "NMN19070129-V03-02-page6.txt: [('co', 'well'), ('Soci', 'ety')]\n",
      "NMN19070219-V03-03-page1.txt: [('SI', 'C')]\n",
      "NMN19070219-V03-03-page3.txt: [('OBITUAR', 'Y')]\n",
      "NMN19070312-V03-04-page1.txt: [('wo', 'ld')]\n",
      "NMN19070401-V03-05-page1.txt: [('MICHIG', 'AN')]\n",
      "NMN19070401-V03-05-page4.txt: [('th', 'at')]\n",
      "NMN19070401-V03-05-page5.txt: [('co', 'operate')]\n",
      "NMN19070401-V03-05-page7.txt: [('IC', 'Ed')]\n",
      "NMN19070423-V03-06-page3.txt: [('responsibl', 'e')]\n",
      "NMN19070514-V03-07-page3.txt: [('distrib', 'uted')]\n",
      "NMN19070514-V03-07-page5.txt: [('Ra', 'ds')]\n",
      "NMN19070604-V03-08-page3.txt: [('co', 'operation')]\n",
      "NMN19070716-V03-10-page2.txt: [('th', 'a'), ('grat', 'ifying')]\n",
      "NMN19070716-V03-10-page4.txt: [('camp-', 'meeting'), ('ne', 'cessary')]\n",
      "NMN19070716-V03-10-page5.txt: [('ca', 'en')]\n",
      "NMN19070813-V03-11-page1.txt: [('SHEE', 'T')]\n",
      "NMN19070813-V03-11-page6.txt: [('Peo', 'ple')]\n",
      "NMN19070813-V03-11-page7.txt: [('CA', 'T')]\n",
      "NMN19070917-V03-12-page1.txt: [('SHEE', 'T')]\n",
      "NMN19071008-V03-13-page1.txt: [('co', 'operate'), ('fa', 't')]\n",
      "NMN19071008-V03-13-page2.txt: [('ta', 'le'), ('CU', 'E')]\n",
      "NMN19071008-V03-13-page7.txt: [('NA', 'TIONS'), ('CREA', 'TURE')]\n",
      "NMN19071029-V03-14-page1.txt: [('cura', 'te'), ('Al', 'to')]\n",
      "NMN19071029-V03-14-page7.txt: [('th', 'at')]\n",
      "NMN19071119-V03-15-page2.txt: [('co', 'operate'), ('re', 'te')]\n",
      "NMN19071119-V03-15-page4.txt: [('cer', 'tainly'), ('ne', 'man')]\n",
      "NMN19071210-V03-16-page1.txt: [('bo', 'n')]\n",
      "NMN19071210-V03-16-page5.txt: [('co', 'operation'), ('re', 'organize')]\n",
      "NMN19080107-V04-01-page2.txt: [('ascer', 'tained')]\n",
      "NMN19080107-V04-01-page3.txt: [('contribut', 'ions')]\n",
      "NMN19080107-V04-01-page4.txt: [('bo', 'a')]\n",
      "NMN19080107-V04-01-page5.txt: [('bo', 'a')]\n",
      "NMN19080128-V04-02-page6.txt: [('TI', 'C')]\n",
      "NMN19080128-V04-02-page7.txt: [('oppor', 'tunities')]\n",
      "NMN19080218-V04-03-page1.txt: [('th', 'at')]\n",
      "NMN19080218-V04-03-page2.txt: [('bo', 'a')]\n",
      "NMN19080218-V04-03-page4.txt: [('TAS', 'S')]\n",
      "NMN19080218-V04-03-page5.txt: [('accom', 'plishing')]\n",
      "NMN19080218-V04-03-page6.txt: [('sto', 'at')]\n",
      "NMN19080310-V04-04-page5.txt: [('se', 'a')]\n",
      "NMN19080331-V04-05-page4.txt: [('th', 'in'), ('co', 'operate')]\n",
      "NMN19080421-V04-06-page2.txt: [('peo', 'ple')]\n",
      "NMN19080421-V04-06-page4.txt: [('RE', 'E'), ('fi', 'st')]\n",
      "NMN19080421-V04-06-page6.txt: [('es', 'to')]\n",
      "NMN19080512-V04-07-page3.txt: [('sh', 'ould')]\n",
      "NMN19080512-V04-07-page5.txt: [('ca', 'ro')]\n",
      "NMN19080623-V04-08-page4.txt: [('th', 'in')]\n",
      "NMN19080714-V04-09-page7.txt: [('ay', 'in'), ('Soo', 'the')]\n",
      "NMN19080714-V04-09-page9.txt: [('Cheboy', 'gan')]\n",
      "NMN19080804-V04-10-page1.txt: [('th', 'at')]\n",
      "NMN19080804-V04-10-page3.txt: [('ves', 't')]\n",
      "NMN19080804-V04-10-page5.txt: [('ch', 'at')]\n",
      "NMN19080818-V04-11-page1.txt: [('th', 'or')]\n",
      "NMN19080818-V04-11-page2.txt: [('th', 'in')]\n",
      "NMN19080915-V04-12-page1.txt: [('AB', 'a')]\n",
      "NMN19080915-V04-12-page2.txt: [('co', 'operation')]\n",
      "NMN19080915-V04-12-page7.txt: [('OD', 'UM')]\n",
      "NMN19080915-V04-12-page8.txt: [('DEPARTMEN', 'T')]\n",
      "NMN19080915-V04-12-page9.txt: [('Esca', 'naba')]\n",
      "NMN19081006-V04-14-page6.txt: [('Wo', 't')]\n",
      "NMN19081027-V04-15-page1.txt: [('WIR', 'E')]\n",
      "NMN19081027-V04-15-page2.txt: [('TI', 'M')]\n",
      "NMN19081027-V04-15-page4.txt: [('SCHOO', 'L')]\n",
      "NMN19081027-V04-15-page7.txt: [('CO', 'PPER')]\n",
      "NMN19081027-V04-15-page8.txt: [('ca', 'ry'), ('ti', 'e')]\n",
      "NMN19081124-V04-16-page4.txt: [('re', 'a')]\n",
      "NMN19081124-V04-16-page7.txt: [('treasur', 'e')]\n",
      "NMN19081215-V04-17-page5.txt: [('educat', 'ion')]\n",
      "NMN19090115-V05-01-page8.txt: [('Co', 'rd')]\n",
      "NMN19090215-V05-02-page3.txt: [('al', 'lays')]\n",
      "NMN19090215-V05-02-page7.txt: [('se', 'at')]\n",
      "NMN19090318-V05-03-page7.txt: [('al', 'ready')]\n",
      "NMN19090415-V05-04-page2.txt: [('wh', 'e')]\n",
      "NMN19090415-V05-04-page5.txt: [('Hr', 's')]\n",
      "NMN19090415-V05-04-page6.txt: [('re', 'used'), ('bo', 'ne')]\n",
      "NMN19090514-V05-05-page8.txt: [('Tra', 'verse')]\n",
      "NMN19090615-V05-06-page2.txt: [('bo', 'used')]\n",
      "NMN19090615-V05-06-page7.txt: [('cho', 'sen')]\n",
      "NMN19090615-V05-06-page9.txt: [('daug', 'hter')]\n",
      "NMN19090715-V05-07-page6.txt: [('ve', 'to'), ('LI', 'n'), ('ay', 'in'), ('re', 'e'), ('ne', 'd'), ('bo', 'n')]\n",
      "NMN19090715-V05-07-page7.txt: [('NOTIC', 'E')]\n",
      "NMN19090715-V05-07-page9.txt: [('re', 'sent')]\n",
      "NMN19090812-V05-08-page1.txt: [('condi', 't'), ('co', 'me')]\n",
      "NMN19090812-V05-08-page2.txt: [('wa', 'h')]\n",
      "NMN19090812-V05-08-page3.txt: [('Appli', 'ed')]\n",
      "NMN19090812-V05-08-page4.txt: [('M.', ''), ('canva', 'sed')]\n",
      "NMN19090812-V05-08-page5.txt: [('ta', 'ke')]\n",
      "NMN19090812-V05-08-page6.txt: [('PO', 'S'), ('se', 'e'), ('fi', 'st')]\n",
      "NMN19090812-V05-08-page7.txt: [('ta', 'Co'), ('co', 'at')]\n",
      "NMN19090812-V05-08-page8.txt: [('ti', 'e')]\n",
      "NMN19090915-V05-09-page1.txt: [('SH', 'E'), ('Oppo', 'rtunity')]\n",
      "NMN19090915-V05-09-page2.txt: [('th', 'a'), ('tem', 'PE')]\n",
      "NMN19090915-V05-09-page4.txt: [('Mc', 'Clellan'), ('credentia', 'ls'), ('Publi', 'cation')]\n",
      "NMN19090915-V05-09-page6.txt: [('attentio', 'n')]\n",
      "NMN19090915-V05-09-page8.txt: [('re', 'order')]\n",
      "NMN19091015-V05-10-page3.txt: [('wo', 'k')]\n",
      "NMN19091015-V05-10-page4.txt: [('re', 'called')]\n",
      "NMN19091015-V05-10-page5.txt: [('op', 'es'), ('ti', 'ed')]\n",
      "NMN19091015-V05-10-page7.txt: [('mo', 'I'), ('unt', 'o')]\n",
      "NMN19091015-V05-10-page8.txt: [('Tw', 'o')]\n",
      "NMN19091015-V05-10-page9.txt: [('re', 'ship')]\n",
      "NMN19091115-V05-11-page1.txt: [('ro', 'sin')]\n",
      "NMN19091115-V05-11-page2.txt: [('re', 'baptized')]\n",
      "NMN19091115-V05-11-page5.txt: [('co', 'operation'), ('organi', 'zed')]\n",
      "NMN19091115-V05-11-page6.txt: [('th', 'o')]\n",
      "NMN19091115-V05-11-page7.txt: [('vit', 'A')]\n",
      "NMN19091115-V05-11-page8.txt: [('ou', 'se')]\n",
      "NMN19091115-V05-11-page9.txt: [('ch', 'in')]\n",
      "NMN19091209-V05-12-page2.txt: [('unt', 'il')]\n",
      "NMN19091209-V05-12-page3.txt: [('rato', 'on')]\n",
      "NMN19091209-V05-12-page4.txt: [('ri', 'o')]\n",
      "NMN19091209-V05-12-page6.txt: [('Br', 'other')]\n",
      "NMN19091209-V05-12-page8.txt: [('sHa', 'T')]\n",
      "NMN19100120-V06-01-page1.txt: [('Mo', 'A'), ('oppo', 'rtunity')]\n",
      "NMN19100120-V06-01-page2.txt: [('da', 'y'), ('co', 'operate')]\n",
      "NMN19100120-V06-01-page5.txt: [('re', 'C'), ('nu', 'n'), ('ti', 'a'), ('ie', 'r')]\n",
      "NMN19100120-V06-01-page7.txt: [('appr', 'oaching')]\n",
      "NMN19100120-V06-01-page9.txt: [('re', 'lation')]\n",
      "NMN19100224-V06-02-page4.txt: [('AC', 'E')]\n",
      "NMN19100224-V06-02-page7.txt: [('Pa', 'T')]\n"
     ]
    }
   ],
   "source": [
    "# %load shared_elements/rejoin_split_words.py\n",
    "prev = cycle\n",
    "cycle = \"correction6\"\n",
    "\n",
    "directories = GoH.utilities.define_directories(prev, cycle, base_dir)\n",
    "if not os.path.exists(directories['cycle']):\n",
    "    os.makedirs(directories['cycle'])\n",
    "\n",
    "corpus = (f for f in listdir(directories['prev']) if not f.startswith('.') and isfile(join(directories['prev'], f)))\n",
    "\n",
    "for filename in corpus:\n",
    "    content = GoH.utilities.readfile(directories['prev'], filename)\n",
    "    \n",
    "    text = re.sub(r\"[0-9,!?$:;&]\", \" \", content)\n",
    "    tokens = GoH.utilities.tokenize_text(text)\n",
    "    errors = GoH.reports.identify_errors(tokens, spelling_dictionary)\n",
    "\n",
    "    replacements = GoH.clean.check_if_stem(errors, spelling_dictionary, tokens, get_prior=False)\n",
    "    \n",
    "    if len(replacements) > 0:\n",
    "        print('{}: {}'.format(filename, replacements))\n",
    "\n",
    "        for replacement in replacements:\n",
    "            content = GoH.clean.replace_split_words(replacement, content)\n",
    "    else:\n",
    "        pass\n",
    "\n",
    "    with open(join(directories['cycle'], filename), mode=\"w\") as o:\n",
    "        o.write(content)\n",
    "        o.close()"
   ]
  },
  {
   "cell_type": "markdown",
   "metadata": {},
   "source": [
    "## Check Correction 6"
   ]
  },
  {
   "cell_type": "code",
   "execution_count": 29,
   "metadata": {
    "ExecuteTime": {
     "end_time": "2017-03-02T19:06:53.776373",
     "start_time": "2017-03-02T19:06:53.288657"
    },
    "collapsed": false
   },
   "outputs": [
    {
     "name": "stdout",
     "output_type": "stream",
     "text": [
      "Directory: /Users/jeriwieringa/Dissertation/text/text/2017-01-31-corpus-with-utf8-split-into-titles-cleaning/NMN/correction6\n",
      "\n",
      "Average verified rate: 0.9211084291013243\n",
      "\n",
      "Average of error rates: 0.08189625360230549\n",
      "\n",
      "Total token count: 197613\n",
      "\n"
     ]
    },
    {
     "data": {
      "image/png": "[encoded data removed]",
      "text/plain": [
       "<matplotlib.figure.Figure at 0x111a635c0>"
      ]
     },
     "metadata": {},
     "output_type": "display_data"
    }
   ],
   "source": [
    "# %load shared_elements/summary.py\n",
    "summary = GoH.reports.overview_report(directories['cycle'], spelling_dictionary, title)"
   ]
  },
  {
   "cell_type": "code",
   "execution_count": 30,
   "metadata": {
    "ExecuteTime": {
     "end_time": "2017-03-02T19:06:53.831944",
     "start_time": "2017-03-02T19:06:53.778018"
    },
    "collapsed": false
   },
   "outputs": [
    {
     "data": {
      "text/plain": [
       "[('e', 554),\n",
       " ('t', 372),\n",
       " ('th', 248),\n",
       " (\"'\", 236),\n",
       " ('r', 234),\n",
       " ('n', 218),\n",
       " ('w', 210),\n",
       " ('f', 162),\n",
       " ('m', 156),\n",
       " ('d', 155),\n",
       " ('g', 111),\n",
       " ('aro', 89),\n",
       " ('u', 83),\n",
       " ('-', 69),\n",
       " ('k', 68),\n",
       " ('bo', 67),\n",
       " ('wo', 66),\n",
       " ('co', 62),\n",
       " ('re', 59),\n",
       " ('se', 38),\n",
       " ('x', 38),\n",
       " ('tc', 36),\n",
       " ('nd', 31),\n",
       " ('te', 31),\n",
       " ('z', 28),\n",
       " ('li', 28),\n",
       " ('leetsville', 28),\n",
       " (\"canvassers'\", 27),\n",
       " ('es', 27),\n",
       " ('mt', 27),\n",
       " ('ie', 27),\n",
       " ('al', 26),\n",
       " ('tt', 26),\n",
       " ('willaman', 26),\n",
       " ('ft', 23),\n",
       " ('ti', 23),\n",
       " ('ay', 21),\n",
       " ('ce', 20),\n",
       " ('ee', 20),\n",
       " ('q', 20),\n",
       " ('soo', 19),\n",
       " ('il', 18),\n",
       " ('myrta', 18),\n",
       " (\"elders'\", 18),\n",
       " ('altho', 18),\n",
       " ('rs', 18),\n",
       " ('ne', 18),\n",
       " ('tr', 16),\n",
       " ('id', 16),\n",
       " ('ea', 16)]"
      ]
     },
     "execution_count": 30,
     "metadata": {},
     "output_type": "execute_result"
    }
   ],
   "source": [
    "# %load shared_elements/top_errors.py\n",
    "errors_summary = GoH.reports.get_errors_summary( summary )\n",
    "GoH.reports.top_errors( errors_summary, 10 )[:50]"
   ]
  },
  {
   "cell_type": "markdown",
   "metadata": {},
   "source": [
    "## Correction 7 -- Rejoin Split Words II"
   ]
  },
  {
   "cell_type": "code",
   "execution_count": 31,
   "metadata": {
    "ExecuteTime": {
     "end_time": "2017-03-02T19:06:55.297516",
     "start_time": "2017-03-02T19:06:53.834203"
    },
    "collapsed": false,
    "scrolled": true
   },
   "outputs": [
    {
     "name": "stdout",
     "output_type": "stream",
     "text": [
      "NMN19070108-V03-01-page4.txt: [('A', 'Tt')]\n",
      "NMN19070129-V03-02-page6.txt: [('the', 're')]\n",
      "NMN19070312-V03-04-page1.txt: [('h', \"aven's\"), ('for', 'th'), ('wo', 'ld')]\n",
      "NMN19070312-V03-04-page4.txt: [('a', 'id')]\n",
      "NMN19070401-V03-05-page1.txt: [('Confer', 'ence')]\n",
      "NMN19070401-V03-05-page3.txt: [('Ho', 'rt')]\n",
      "NMN19070401-V03-05-page7.txt: [('a', 'id')]\n",
      "NMN19070514-V03-07-page1.txt: [('C', 'ONFERENCE'), ('mission', 'ary'), ('plain', 'ly')]\n",
      "NMN19070514-V03-07-page5.txt: [('Ra', 'ds')]\n",
      "NMN19070625-V03-09-page5.txt: [('wonder', 'ful'), ('be', 'rm'), ('car', 'ded')]\n",
      "NMN19070716-V03-10-page2.txt: [('tho', 'th')]\n",
      "NMN19070716-V03-10-page4.txt: [('can', 'ey')]\n",
      "NMN19070813-V03-11-page1.txt: [('box', 'es')]\n",
      "NMN19070813-V03-11-page7.txt: [('THE', 'CA')]\n",
      "NMN19071008-V03-13-page2.txt: [('C', 'AL')]\n",
      "NMN19071029-V03-14-page1.txt: [('for', 'ay'), ('k', 'ep')]\n",
      "NMN19071029-V03-14-page4.txt: [('dona', 'tions')]\n",
      "NMN19071029-V03-14-page5.txt: [('N', 'th')]\n",
      "NMN19071119-V03-15-page1.txt: [('N', 'EWS')]\n",
      "NMN19071119-V03-15-page8.txt: [('W', 'ite')]\n",
      "NMN19071210-V03-16-page7.txt: [('N', 'OTICE')]\n",
      "NMN19071210-V03-16-page8.txt: [('J', 'OS')]\n",
      "NMN19080107-V04-01-page2.txt: [('P', 'ea')]\n",
      "NMN19080128-V04-02-page2.txt: [('var', 'ious')]\n",
      "NMN19080128-V04-02-page3.txt: [('Depart', 'ment')]\n",
      "NMN19080128-V04-02-page4.txt: [('in', 'Ch')]\n",
      "NMN19080128-V04-02-page6.txt: [('can', 'vassers')]\n",
      "NMN19080218-V04-03-page5.txt: [('attend', 'ance')]\n",
      "NMN19080310-V04-04-page6.txt: [('m', 'eeting')]\n",
      "NMN19080310-V04-04-page8.txt: [('S', 'ubscribe')]\n",
      "NMN19080331-V04-05-page2.txt: [('wild', 'erness')]\n",
      "NMN19080331-V04-05-page3.txt: [('a', 'gr')]\n",
      "NMN19080331-V04-05-page5.txt: [('and', 'RE')]\n",
      "NMN19080331-V04-05-page7.txt: [('Gene', 'al'), ('T', 'ACH')]\n",
      "NMN19080421-V04-06-page1.txt: [('C', 'ONFERENCE')]\n",
      "NMN19080421-V04-06-page4.txt: [('fin', 'ish'), ('b', 'es'), ('the', 'RE')]\n",
      "NMN19080512-V04-07-page4.txt: [('to', 'co')]\n",
      "NMN19080512-V04-07-page5.txt: [('p', 'ay')]\n",
      "NMN19080714-V04-09-page4.txt: [('He', 'ft')]\n",
      "NMN19080714-V04-09-page7.txt: [('b', 'aptismal')]\n",
      "NMN19080804-V04-10-page1.txt: [('Confer', 'ence')]\n",
      "NMN19080804-V04-10-page3.txt: [('a', 'ves')]\n",
      "NMN19080804-V04-10-page5.txt: [('s', 'Ixth'), ('Me', 'ch')]\n",
      "NMN19080804-V04-10-page8.txt: [('spec', 'Ial')]\n",
      "NMN19080818-V04-11-page2.txt: [('a', 'nal')]\n",
      "NMN19080915-V04-12-page1.txt: [('C', 'ONFERENCE')]\n",
      "NMN19080915-V04-12-page3.txt: [('a', 'pr')]\n",
      "NMN19080915-V04-12-page4.txt: [('the', 'RE')]\n",
      "NMN19080922-V04-13-page1.txt: [('S', 'ri')]\n",
      "NMN19081006-V04-14-page3.txt: [('fur', 'nished')]\n",
      "NMN19081006-V04-14-page5.txt: [('miss', 'ionary')]\n",
      "NMN19081006-V04-14-page6.txt: [('C', 'TS')]\n",
      "NMN19081027-V04-15-page2.txt: [('ha', 're')]\n",
      "NMN19081027-V04-15-page8.txt: [('adv', 'Anced')]\n",
      "NMN19081124-V04-16-page1.txt: [('C', 'ONFERENCE')]\n",
      "NMN19081215-V04-17-page1.txt: [('C', 'IG')]\n",
      "NMN19081215-V04-17-page7.txt: [('A', 'lian')]\n",
      "NMN19090115-V05-01-page4.txt: [('confer', 'ence'), ('r', 'esponsibility')]\n",
      "NMN19090115-V05-01-page8.txt: [('Co', 'rd')]\n",
      "NMN19090215-V05-02-page2.txt: [('s', 'unshine')]\n",
      "NMN19090215-V05-02-page5.txt: [('can', 'vassing')]\n",
      "NMN19090215-V05-02-page6.txt: [('le', 'ft')]\n",
      "NMN19090215-V05-02-page7.txt: [('w', 'Op'), ('In', 'dia')]\n",
      "NMN19090318-V05-03-page1.txt: [('perse', 'cution'), ('N', 'TH')]\n",
      "NMN19090318-V05-03-page5.txt: [('G', 'reat')]\n",
      "NMN19090318-V05-03-page6.txt: [('be', 'sai')]\n",
      "NMN19090415-V05-04-page1.txt: [(\"'\", 're')]\n",
      "NMN19090415-V05-04-page2.txt: [('n', 'eed')]\n",
      "NMN19090415-V05-04-page4.txt: [('FOR', 'TH')]\n",
      "NMN19090415-V05-04-page6.txt: [('A', 'IL')]\n",
      "NMN19090514-V05-05-page1.txt: [('b', 'AY')]\n",
      "NMN19090514-V05-05-page9.txt: [('the', 'ol')]\n",
      "NMN19090615-V05-06-page1.txt: [('evi', 'dence')]\n",
      "NMN19090615-V05-06-page4.txt: [('a', 'LI')]\n",
      "NMN19090615-V05-06-page7.txt: [('a', 'tt')]\n",
      "NMN19090715-V05-07-page2.txt: [('A', 'nu')]\n",
      "NMN19090715-V05-07-page6.txt: [('to', 'il'), ('o', 're'), ('m', 'Ight'), ('t', 'ic')]\n",
      "NMN19090715-V05-07-page7.txt: [('A', 'IL')]\n",
      "NMN19090812-V05-08-page1.txt: [('can', 'al')]\n",
      "NMN19090812-V05-08-page5.txt: [('the', 'cae')]\n",
      "NMN19090812-V05-08-page6.txt: [('the', 'ca'), ('N', 'TH'), ('No', 'rth'), ('the', 're')]\n",
      "NMN19090915-V05-09-page3.txt: [('a', 'ny')]\n",
      "NMN19090915-V05-09-page4.txt: [('encourage', 'ment')]\n",
      "NMN19090915-V05-09-page5.txt: [('T', 'IE'), ('mar', 'ts')]\n",
      "NMN19090915-V05-09-page8.txt: [('to', 'Co'), ('p', 'ay')]\n",
      "NMN19090915-V05-09-page9.txt: [('e', 'ri'), ('the', 'RE')]\n",
      "NMN19091015-V05-10-page1.txt: [('hoo', 'doos')]\n",
      "NMN19091015-V05-10-page6.txt: [('e', 'co')]\n",
      "NMN19091015-V05-10-page7.txt: [('down', 'Ey')]\n",
      "NMN19091015-V05-10-page9.txt: [('Jo', 'nson')]\n",
      "NMN19091115-V05-11-page1.txt: [('L', 'ive'), ('a', 'li')]\n",
      "NMN19091115-V05-11-page8.txt: [('v', 'arious'), ('ou', 'se'), ('p', 'Lainly')]\n",
      "NMN19091209-V05-12-page1.txt: [('i', 'tS'), ('to', 'ro')]\n",
      "NMN19091209-V05-12-page2.txt: [('P', 'OM')]\n",
      "NMN19091209-V05-12-page3.txt: [('ho', 'pper'), ('he', 'RE')]\n",
      "NMN19091209-V05-12-page4.txt: [('the', 'Es'), ('and', 're')]\n",
      "NMN19091209-V05-12-page5.txt: [('T', 'oo')]\n",
      "NMN19091209-V05-12-page6.txt: [('R', 'ums')]\n",
      "NMN19091209-V05-12-page7.txt: [('for', 'th')]\n",
      "NMN19100120-V06-01-page1.txt: [('A', 'IL')]\n",
      "NMN19100120-V06-01-page5.txt: [('e', 'rk'), ('L', 'eas')]\n",
      "NMN19100120-V06-01-page7.txt: [('A', 'nd'), ('N', 'ow'), ('E', 'arnestly')]\n",
      "NMN19100224-V06-02-page1.txt: [('S', 'HEET'), ('PET', 'OSKEY'), ('t', 'ie')]\n",
      "NMN19100224-V06-02-page3.txt: [('A', 'shtabula')]\n",
      "NMN19100224-V06-02-page7.txt: [('d', 'ay')]\n"
     ]
    }
   ],
   "source": [
    "# %load shared_elements/rejoin_split_words.py\n",
    "prev = cycle\n",
    "cycle = \"correction7\"\n",
    "\n",
    "directories = GoH.utilities.define_directories(prev, cycle, base_dir)\n",
    "if not os.path.exists(directories['cycle']):\n",
    "    os.makedirs(directories['cycle'])\n",
    "\n",
    "corpus = (f for f in listdir(directories['prev']) if not f.startswith('.') and isfile(join(directories['prev'], f)))\n",
    "\n",
    "for filename in corpus:\n",
    "    content = GoH.utilities.readfile(directories['prev'], filename)\n",
    "    \n",
    "    text = re.sub(r\"[0-9,!?$:;&]\", \" \", content)\n",
    "    tokens = GoH.utilities.tokenize_text(text)\n",
    "    errors = GoH.reports.identify_errors(tokens, spelling_dictionary)\n",
    "\n",
    "    replacements = GoH.clean.check_if_stem(errors, spelling_dictionary, tokens, get_prior=True)\n",
    "    \n",
    "    if len(replacements) > 0:\n",
    "        print('{}: {}'.format(filename, replacements))\n",
    "\n",
    "        for replacement in replacements:\n",
    "            content = GoH.clean.replace_split_words(replacement, content)\n",
    "    else:\n",
    "        pass\n",
    "\n",
    "    with open(join(directories['cycle'], filename), mode=\"w\") as o:\n",
    "        o.write(content)\n",
    "        o.close()"
   ]
  },
  {
   "cell_type": "markdown",
   "metadata": {},
   "source": [
    "## Review Remaining Errors"
   ]
  },
  {
   "cell_type": "code",
   "execution_count": 32,
   "metadata": {
    "ExecuteTime": {
     "end_time": "2017-03-02T19:06:55.338367",
     "start_time": "2017-03-02T19:06:55.299197"
    },
    "collapsed": false
   },
   "outputs": [
    {
     "data": {
      "text/plain": [
       "[('NMN19100120-V06-01-page5.txt', 0.495),\n",
       " ('NMN19090715-V05-07-page6.txt', 0.34),\n",
       " ('NMN19090915-V05-09-page2.txt', 0.297),\n",
       " ('NMN19090915-V05-09-page9.txt', 0.285),\n",
       " ('NMN19091209-V05-12-page5.txt', 0.281),\n",
       " ('NMN19090812-V05-08-page8.txt', 0.269),\n",
       " ('NMN19091015-V05-10-page3.txt', 0.26),\n",
       " ('NMN19091209-V05-12-page6.txt', 0.243),\n",
       " ('NMN19090915-V05-09-page8.txt', 0.24),\n",
       " ('NMN19091209-V05-12-page8.txt', 0.234),\n",
       " ('NMN19071029-V03-14-page1.txt', 0.232),\n",
       " ('NMN19091209-V05-12-page7.txt', 0.225),\n",
       " ('NMN19090812-V05-08-page6.txt', 0.223),\n",
       " ('NMN19091209-V05-12-page1.txt', 0.217),\n",
       " ('NMN19091015-V05-10-page6.txt', 0.211),\n",
       " ('NMN19090812-V05-08-page1.txt', 0.211),\n",
       " ('NMN19071008-V03-13-page5.txt', 0.21)]"
      ]
     },
     "execution_count": 32,
     "metadata": {},
     "output_type": "execute_result"
    }
   ],
   "source": [
    "GoH.reports.docs_with_high_error_rate(summary)"
   ]
  },
  {
   "cell_type": "code",
   "execution_count": 33,
   "metadata": {
    "ExecuteTime": {
     "end_time": "2017-03-02T19:06:55.384692",
     "start_time": "2017-03-02T19:06:55.340514"
    },
    "collapsed": false
   },
   "outputs": [],
   "source": [
    "# %load shared_elements/high_error_rates.py\n",
    "doc_keys = [x[0] for x in GoH.reports.docs_with_high_error_rate(summary) if x[1] > 0.3]\n",
    "\n",
    "# GoH.utilities.open_original_docs(doc_keys, directories['cycle'])"
   ]
  },
  {
   "cell_type": "markdown",
   "metadata": {},
   "source": [
    "Two documents with high errors are tables and very faint typeface."
   ]
  },
  {
   "cell_type": "code",
   "execution_count": 34,
   "metadata": {
    "ExecuteTime": {
     "end_time": "2017-03-02T19:06:55.429779",
     "start_time": "2017-03-02T19:06:55.386680"
    },
    "collapsed": false
   },
   "outputs": [
    {
     "data": {
      "text/plain": [
       "(['superintendentswritos',\n",
       "  \"sabbatheschool''was\",\n",
       "  'supplementinwhat',\n",
       "  'mieeinaaryelrerikeelth',\n",
       "  'wavarorinarngwommannlp',\n",
       "  \"the'thirtyaeight\",\n",
       "  'miscellamiousoil',\n",
       "  'sleeeliameeelenql',\n",
       "  'amongthealationa',\n",
       "  'gasfeemalielfteesebefile',\n",
       "  'notwhithstanding',\n",
       "  'publisherevdonreby-awnh',\n",
       "  'temperliterature',\n",
       "  'logibtrationwilli',\n",
       "  'of-the-lecuvantixinwe',\n",
       "  'buthishandisuper',\n",
       "  'importanceofthis',\n",
       "  'volunteerreading',\n",
       "  'illastrertedieracring',\n",
       "  \"beautifully'illustrated\",\n",
       "  'theeopportemities',\n",
       "  'vluatletestimony',\n",
       "  'teetureetiatee-all',\n",
       "  'hidingthomsolvus',\n",
       "  'spirit--meekness',\n",
       "  'countor-campaign',\n",
       "  'faithfulconference',\n",
       "  'reccmuiendations',\n",
       "  \"committees'appointed\",\n",
       "  'spiritually-minded',\n",
       "  'hichigaagernference',\n",
       "  'individvalwastos',\n",
       "  'wmgeleftremodimarm',\n",
       "  'whisperedtemptationsoftheenemyenticethemtosin',\n",
       "  'mierepreeentations',\n",
       "  \"cannot'sympathize\",\n",
       "  'edacationalaeork',\n",
       "  'iialispeakingsevisoofe',\n",
       "  'petoskey-october',\n",
       "  'gemerarconserance',\n",
       "  'nothwithstanding',\n",
       "  \"oursabbath-schools'\",\n",
       "  'aabbethelreereer',\n",
       "  'writtenespecially'],\n",
       " 15)"
      ]
     },
     "execution_count": 34,
     "metadata": {},
     "output_type": "execute_result"
    }
   ],
   "source": [
    "GoH.reports.long_errors(errors_summary, min_length=15)"
   ]
  },
  {
   "cell_type": "markdown",
   "metadata": {},
   "source": [
    "## Correction 8 -- Separate Squashed Errors"
   ]
  },
  {
   "cell_type": "code",
   "execution_count": 35,
   "metadata": {
    "ExecuteTime": {
     "end_time": "2017-03-02T19:06:56.395796",
     "start_time": "2017-03-02T19:06:55.434254"
    },
    "collapsed": false
   },
   "outputs": [
    {
     "name": "stdout",
     "output_type": "stream",
     "text": [
      "NMN19071008-V03-13-page6.txt: [('faithfulConference', 'faithful Conference')]\n",
      "NMN19100120-V06-01-page2.txt: [('IIALIspeakingSevisoofe', 'II A L I speaking S e v i s o o f e')]\n"
     ]
    }
   ],
   "source": [
    "# %load shared_elements/separate_squashed_words.py\n",
    "import pandas as pd\n",
    "from math import log\n",
    "\n",
    "prev = cycle\n",
    "cycle = \"correction8\"\n",
    "\n",
    "directories = GoH.utilities.define_directories(prev, cycle, base_dir)\n",
    "if not os.path.exists(directories['cycle']):\n",
    "    os.makedirs(directories['cycle'])\n",
    "\n",
    "corpus = (f for f in listdir(directories['prev']) if not f.startswith('.') and isfile(join(directories['prev'], f)))\n",
    "\n",
    "verified_tokens = []\n",
    "\n",
    "for filename in corpus:  \n",
    "    content = GoH.utilities.readfile(directories['prev'], filename)\n",
    "    GoH.normalize.get_approved_tokens(content, spelling_dictionary, verified_tokens)\n",
    "\n",
    "tokens_with_freq = dict(collections.Counter(verified_tokens))\n",
    "words = pd.DataFrame(list(tokens_with_freq.items()), columns=['token','freq'])\n",
    "words_sorted = words.sort_values('freq', ascending=False)\n",
    "words_sorted_short = words_sorted[words_sorted.freq > 2]\n",
    "\n",
    "sorted_list_of_words = list(words_sorted_short['token'])\n",
    "\n",
    "wordcost = dict((k, log((i+1)*log(len(sorted_list_of_words)))) for i,k in enumerate(sorted_list_of_words))\n",
    "maxword = max(len(x) for x in sorted_list_of_words)\n",
    "\n",
    "corpus = (f for f in listdir(directories['prev']) if not f.startswith('.') and isfile(join(directories['prev'], f)))\n",
    "\n",
    "for filename in corpus:\n",
    "    content = GoH.utilities.readfile(directories['prev'], filename)\n",
    "\n",
    "    text = GoH.utilities.strip_punct(content)\n",
    "    tokens = GoH.utilities.tokenize_text(text)\n",
    "    \n",
    "    replacements = []\n",
    "    \n",
    "    for token in tokens:\n",
    "        if not token.lower() in spelling_dictionary:\n",
    "            if len(token) > 17:\n",
    "                if re.search(r\"[\\-\\-\\'\\\"]\", token):\n",
    "                    pass\n",
    "                else:\n",
    "                    split_string = GoH.normalize.infer_spaces(token, wordcost, maxword)\n",
    "                    list_split_string = split_string.split()\n",
    "                    \n",
    "                    if GoH.normalize.verify_split_string(list_split_string, spelling_dictionary):\n",
    "                        replacements.append((token, split_string))\n",
    "                    else:\n",
    "                        pass\n",
    "            else:\n",
    "                pass\n",
    "        else:\n",
    "            pass\n",
    "        \n",
    "    if len(replacements) > 0:\n",
    "        print(\"{}: {}\".format(filename, replacements))\n",
    "        \n",
    "        for replacement in replacements:\n",
    "            content = GoH.clean.replace_pair(replacement, content)\n",
    "    \n",
    "    else:\n",
    "        pass\n",
    "\n",
    "    with open(join(directories['cycle'], filename), mode=\"w\") as o:\n",
    "        o.write(content)\n",
    "        o.close()"
   ]
  },
  {
   "cell_type": "markdown",
   "metadata": {},
   "source": [
    "## Review Correction 8"
   ]
  },
  {
   "cell_type": "code",
   "execution_count": 36,
   "metadata": {
    "ExecuteTime": {
     "end_time": "2017-03-02T19:06:57.024573",
     "start_time": "2017-03-02T19:06:56.397620"
    },
    "collapsed": false
   },
   "outputs": [
    {
     "name": "stdout",
     "output_type": "stream",
     "text": [
      "Directory: /Users/jeriwieringa/Dissertation/text/text/2017-01-31-corpus-with-utf8-split-into-titles-cleaning/NMN/correction8\n",
      "\n",
      "Average verified rate: 0.9216250151889506\n",
      "\n",
      "Average of error rates: 0.08140345821325648\n",
      "\n",
      "Total token count: 197512\n",
      "\n"
     ]
    },
    {
     "data": {
      "image/png": "[encoded data removed]",
      "text/plain": [
       "<matplotlib.figure.Figure at 0x116224b00>"
      ]
     },
     "metadata": {},
     "output_type": "display_data"
    }
   ],
   "source": [
    "# %load shared_elements/summary.py\n",
    "summary = GoH.reports.overview_report(directories['cycle'], spelling_dictionary, title)"
   ]
  },
  {
   "cell_type": "code",
   "execution_count": 37,
   "metadata": {
    "ExecuteTime": {
     "end_time": "2017-03-02T19:06:57.073874",
     "start_time": "2017-03-02T19:06:57.026555"
    },
    "collapsed": false
   },
   "outputs": [
    {
     "data": {
      "text/plain": [
       "[('e', 552),\n",
       " ('t', 370),\n",
       " ('th', 245),\n",
       " (\"'\", 236),\n",
       " ('r', 232),\n",
       " ('n', 214),\n",
       " ('w', 209),\n",
       " ('f', 163),\n",
       " ('m', 156),\n",
       " ('d', 154),\n",
       " ('g', 110),\n",
       " ('aro', 89),\n",
       " ('u', 83),\n",
       " ('-', 69),\n",
       " ('k', 67),\n",
       " ('bo', 67),\n",
       " ('wo', 66),\n",
       " ('co', 59),\n",
       " ('re', 48),\n",
       " ('se', 38),\n",
       " ('x', 38),\n",
       " ('tc', 36),\n",
       " ('te', 31),\n",
       " ('nd', 30),\n",
       " ('z', 28),\n",
       " ('leetsville', 28),\n",
       " (\"canvassers'\", 27),\n",
       " ('mt', 27),\n",
       " ('li', 27),\n",
       " ('es', 26),\n",
       " ('ie', 26),\n",
       " ('willaman', 26),\n",
       " ('tt', 25),\n",
       " ('al', 24),\n",
       " ('ti', 23),\n",
       " ('ft', 22),\n",
       " ('ce', 20),\n",
       " ('ee', 20),\n",
       " ('q', 20),\n",
       " ('soo', 19),\n",
       " ('myrta', 18),\n",
       " (\"elders'\", 18),\n",
       " ('altho', 18),\n",
       " ('rs', 18),\n",
       " ('ne', 18),\n",
       " ('ay', 17),\n",
       " ('tr', 16),\n",
       " ('ea', 16),\n",
       " ('il', 15),\n",
       " ('wi', 15)]"
      ]
     },
     "execution_count": 37,
     "metadata": {},
     "output_type": "execute_result"
    }
   ],
   "source": [
    "# %load shared_elements/top_errors.py\n",
    "errors_summary = GoH.reports.get_errors_summary( summary )\n",
    "GoH.reports.top_errors( errors_summary, 10 )[:50]"
   ]
  },
  {
   "cell_type": "code",
   "execution_count": null,
   "metadata": {
    "collapsed": true
   },
   "outputs": [],
   "source": []
  }
 ],
 "metadata": {
  "anaconda-cloud": {},
  "kernelspec": {
   "display_name": "Python [conda env:dissertation2]",
   "language": "python",
   "name": "conda-env-dissertation2-py"
  },
  "language_info": {
   "codemirror_mode": {
    "name": "ipython",
    "version": 3
   },
   "file_extension": ".py",
   "mimetype": "text/x-python",
   "name": "python",
   "nbconvert_exporter": "python",
   "pygments_lexer": "ipython3",
   "version": "3.5.2"
  }
 },
 "nbformat": 4,
 "nbformat_minor": 2
}
