{
 "cells": [
  {
   "cell_type": "code",
   "execution_count": 1,
   "metadata": {
    "ExecuteTime": {
     "end_time": "2017-03-02T23:15:51.097391",
     "start_time": "2017-03-02T23:15:51.066115"
    },
    "collapsed": true
   },
   "outputs": [],
   "source": [
    "%load_ext autoreload"
   ]
  },
  {
   "cell_type": "code",
   "execution_count": 2,
   "metadata": {
    "ExecuteTime": {
     "end_time": "2017-03-02T23:15:51.103404",
     "start_time": "2017-03-02T23:15:51.099696"
    },
    "collapsed": true
   },
   "outputs": [],
   "source": [
    "%autoreload 2"
   ]
  },
  {
   "cell_type": "code",
   "execution_count": 3,
   "metadata": {
    "ExecuteTime": {
     "end_time": "2017-03-02T23:15:53.140278",
     "start_time": "2017-03-02T23:15:51.105646"
    },
    "collapsed": true
   },
   "outputs": [],
   "source": [
    "import GoH.reports\n",
    "import GoH.utilities\n",
    "import GoH.clean\n",
    "import GoH.normalize\n",
    "import re\n",
    "import os\n",
    "from os import listdir\n",
    "from os.path import isfile, join\n",
    "import collections"
   ]
  },
  {
   "cell_type": "code",
   "execution_count": 4,
   "metadata": {
    "ExecuteTime": {
     "end_time": "2017-03-02T23:15:53.183985",
     "start_time": "2017-03-02T23:15:53.142048"
    },
    "collapsed": true
   },
   "outputs": [],
   "source": [
    "%matplotlib inline"
   ]
  },
  {
   "cell_type": "code",
   "execution_count": 5,
   "metadata": {
    "ExecuteTime": {
     "end_time": "2017-03-02T23:15:53.225587",
     "start_time": "2017-03-02T23:15:53.185823"
    },
    "collapsed": true
   },
   "outputs": [],
   "source": [
    "wordlist_dir = \"/Users/jeriwieringa/Dissertation/drafts/data/word-lists\"\n",
    "wordlists = [\"2016-12-07-SDA-last-names.txt\", \n",
    "             \"2016-12-07-SDA-place-names.txt\", \n",
    "             \"2016-12-08-SDA-Vocabulary.txt\", \n",
    "             \"2017-01-03-place-names.txt\", \n",
    "             \"2017-02-14-Base-Word-List-SCOWL&KJV.txt\",\n",
    "             \"2017-02-14-Roman-Numerals.txt\",\n",
    "             \"2017-03-01-Additional-Approved-Words.txt\"\n",
    "            ]"
   ]
  },
  {
   "cell_type": "code",
   "execution_count": 6,
   "metadata": {
    "ExecuteTime": {
     "end_time": "2017-03-02T23:15:53.411136",
     "start_time": "2017-03-02T23:15:53.227983"
    },
    "collapsed": true
   },
   "outputs": [],
   "source": [
    "spelling_dictionary = GoH.utilities.create_spelling_dictionary(wordlists, wordlist_dir)"
   ]
  },
  {
   "cell_type": "code",
   "execution_count": 7,
   "metadata": {
    "ExecuteTime": {
     "end_time": "2017-03-02T23:15:53.446717",
     "start_time": "2017-03-02T23:15:53.413182"
    },
    "collapsed": true
   },
   "outputs": [],
   "source": [
    "title = \"ARAI\""
   ]
  },
  {
   "cell_type": "code",
   "execution_count": 8,
   "metadata": {
    "ExecuteTime": {
     "end_time": "2017-03-02T23:15:53.488235",
     "start_time": "2017-03-02T23:15:53.448452"
    },
    "collapsed": true
   },
   "outputs": [],
   "source": [
    "base_dir = \"/Users/jeriwieringa/Dissertation/text/text/2017-01-31-corpus-with-utf8-split-into-titles-cleaning/{}/\".format(title)"
   ]
  },
  {
   "cell_type": "markdown",
   "metadata": {},
   "source": [
    "## Baseline"
   ]
  },
  {
   "cell_type": "code",
   "execution_count": 9,
   "metadata": {
    "ExecuteTime": {
     "end_time": "2017-03-02T23:15:53.531300",
     "start_time": "2017-03-02T23:15:53.491940"
    },
    "collapsed": true
   },
   "outputs": [],
   "source": [
    "cycle = 'baseline'"
   ]
  },
  {
   "cell_type": "code",
   "execution_count": 10,
   "metadata": {
    "ExecuteTime": {
     "end_time": "2017-03-02T23:15:53.993910",
     "start_time": "2017-03-02T23:15:53.533162"
    },
    "collapsed": false
   },
   "outputs": [
    {
     "name": "stdout",
     "output_type": "stream",
     "text": [
      "Directory: /Users/jeriwieringa/Dissertation/text/text/2017-01-31-corpus-with-utf8-split-into-titles-cleaning/ARAI/baseline\n",
      "\n",
      "Average verified rate: 0.9345928081685\n",
      "\n",
      "Average of error rates: 0.07307291666666667\n",
      "\n",
      "Total token count: 60819\n",
      "\n"
     ]
    },
    {
     "data": {
      "image/png": "[encoded data removed]",
      "text/plain": [
       "<matplotlib.figure.Figure at 0x11077d5f8>"
      ]
     },
     "metadata": {},
     "output_type": "display_data"
    }
   ],
   "source": [
    "stats = GoH.reports.overview_report(join(base_dir, cycle), spelling_dictionary, title)"
   ]
  },
  {
   "cell_type": "code",
   "execution_count": 11,
   "metadata": {
    "ExecuteTime": {
     "end_time": "2017-03-02T23:15:54.040966",
     "start_time": "2017-03-02T23:15:53.995749"
    },
    "collapsed": false
   },
   "outputs": [
    {
     "data": {
      "text/plain": [
       "[('ñ', 179),\n",
       " ('-', 116),\n",
       " ('w', 80),\n",
       " ('e', 62),\n",
       " ('d', 53),\n",
       " ('con-', 51),\n",
       " ('n', 51),\n",
       " ('re-', 49),\n",
       " ('(', 46),\n",
       " (')', 45),\n",
       " ('g', 39),\n",
       " ('r', 35),\n",
       " ('f', 34),\n",
       " ('tion', 33),\n",
       " ('in-', 32),\n",
       " ('be-', 29),\n",
       " ('m', 29),\n",
       " ('mis-', 27),\n",
       " ('t', 25),\n",
       " ('ex-', 20),\n",
       " ('com-', 19),\n",
       " ('ers', 18),\n",
       " ('de-', 18),\n",
       " ('ference', 17),\n",
       " ('ence', 16),\n",
       " ('pub-', 15),\n",
       " ('¥', 15),\n",
       " (\"'\", 14),\n",
       " ('mes-', 13),\n",
       " ('sev-', 13),\n",
       " ('sab-', 12),\n",
       " ('ment', 11),\n",
       " ('confer-', 11),\n",
       " ('tions', 11),\n",
       " ('ac-', 11),\n",
       " ('lan-', 11),\n",
       " ('ad-', 11)]"
      ]
     },
     "execution_count": 11,
     "metadata": {},
     "output_type": "execute_result"
    }
   ],
   "source": [
    "errors_summary = GoH.reports.get_errors_summary( stats )\n",
    "GoH.reports.top_errors( errors_summary, 10 )"
   ]
  },
  {
   "cell_type": "markdown",
   "metadata": {
    "collapsed": true
   },
   "source": [
    "## Review Special Character Use"
   ]
  },
  {
   "cell_type": "code",
   "execution_count": 12,
   "metadata": {
    "ExecuteTime": {
     "end_time": "2017-03-02T23:15:54.088203",
     "start_time": "2017-03-02T23:15:54.044447"
    },
    "collapsed": false
   },
   "outputs": [
    {
     "data": {
      "text/plain": [
       "[('ñ', 179),\n",
       " ('(', 46),\n",
       " (')', 45),\n",
       " ('¥', 15),\n",
       " ('years)', 10),\n",
       " ('/', 8),\n",
       " ('(the', 7),\n",
       " ('\\\\', 5),\n",
       " ('times)', 4),\n",
       " ('(local)', 4),\n",
       " ('*', 3),\n",
       " ('(population', 3),\n",
       " ('miles)', 3),\n",
       " ('(signs', 3),\n",
       " ('(not', 2),\n",
       " ('(in', 2),\n",
       " ('(a', 2),\n",
       " ('(conference', 2),\n",
       " ('only)', 2),\n",
       " ('days)', 2),\n",
       " ('(at', 2),\n",
       " ('(good', 2),\n",
       " ('_', 2),\n",
       " (']', 2),\n",
       " ('station)', 2),\n",
       " ('(illustrated)', 2),\n",
       " ('life)', 2),\n",
       " ('(general)', 2),\n",
       " ('¥we', 2),\n",
       " ('p¥a', 1),\n",
       " ('_aug', 1),\n",
       " ('(now', 1),\n",
       " ('dollars)', 1),\n",
       " ('jefferson____july', 1),\n",
       " ('company)', 1),\n",
       " ('hô', 1),\n",
       " ('¥some', 1),\n",
       " ('(including', 1),\n",
       " ('protestant)', 1),\n",
       " ('publications_', 1),\n",
       " ('(see', 1),\n",
       " ('ha_', 1),\n",
       " ('¥the', 1),\n",
       " ('¥to', 1),\n",
       " ('(gospel', 1),\n",
       " ('hongkong)', 1),\n",
       " ('poles)', 1),\n",
       " ('[as', 1),\n",
       " ('(honan', 1),\n",
       " ('grain)', 1)]"
      ]
     },
     "execution_count": 12,
     "metadata": {},
     "output_type": "execute_result"
    }
   ],
   "source": [
    "GoH.reports.tokens_with_special_characters(errors_summary)[:50]"
   ]
  },
  {
   "cell_type": "markdown",
   "metadata": {},
   "source": [
    "## Correction 1 -- Normalize Characters"
   ]
  },
  {
   "cell_type": "code",
   "execution_count": 13,
   "metadata": {
    "ExecuteTime": {
     "end_time": "2017-03-02T23:15:54.290698",
     "start_time": "2017-03-02T23:15:54.091839"
    },
    "collapsed": false
   },
   "outputs": [],
   "source": [
    "# %load shared_elements/normalize_characters.py\n",
    "prev = \"baseline\"\n",
    "cycle = \"correction1\"\n",
    "\n",
    "directories = GoH.utilities.define_directories(prev, cycle, base_dir)\n",
    "if not os.path.exists(directories['cycle']):\n",
    "    os.makedirs(directories['cycle'])\n",
    "\n",
    "corpus = (f for f in listdir(directories['prev']) if not f.startswith('.') and isfile(join(directories['prev'], f)))\n",
    "\n",
    "for filename in corpus:\n",
    "    content = GoH.utilities.readfile(directories['prev'], filename)\n",
    "\n",
    "    # Substitute for all other dashes\n",
    "    content = re.sub(r\"—-—–‑\", r\"-\", content)\n",
    "\n",
    "    # Substitute formatted apostrophe\n",
    "    content = re.sub(r\"\\’\\’\\‘\\'\\‛\\´\", r\"'\", content)\n",
    "    \n",
    "    # Replace all special characters with a space (as these tend to occur at the end of lines)\n",
    "    content = re.sub(r\"[^a-zA-Z0-9\\s,.!?$:;\\-&\\'\\\"]\", r\" \", content)\n",
    "    \n",
    "    with open(join(directories['cycle'], filename), mode=\"w\") as o:\n",
    "        o.write(content)\n",
    "        o.close()"
   ]
  },
  {
   "cell_type": "code",
   "execution_count": 14,
   "metadata": {
    "ExecuteTime": {
     "end_time": "2017-03-02T23:15:54.622609",
     "start_time": "2017-03-02T23:15:54.292434"
    },
    "collapsed": false
   },
   "outputs": [
    {
     "name": "stdout",
     "output_type": "stream",
     "text": [
      "Directory: /Users/jeriwieringa/Dissertation/text/text/2017-01-31-corpus-with-utf8-split-into-titles-cleaning/ARAI/correction1\n",
      "\n",
      "Average verified rate: 0.9423321601480527\n",
      "\n",
      "Average of error rates: 0.06458333333333334\n",
      "\n",
      "Total token count: 60519\n",
      "\n"
     ]
    },
    {
     "data": {
      "image/png": "[encoded data removed]",
      "text/plain": [
       "<matplotlib.figure.Figure at 0x1107db588>"
      ]
     },
     "metadata": {},
     "output_type": "display_data"
    }
   ],
   "source": [
    "# %load shared_elements/summary.py\n",
    "summary = GoH.reports.overview_report(directories['cycle'], spelling_dictionary, title)"
   ]
  },
  {
   "cell_type": "code",
   "execution_count": 15,
   "metadata": {
    "ExecuteTime": {
     "end_time": "2017-03-02T23:15:54.668097",
     "start_time": "2017-03-02T23:15:54.624794"
    },
    "collapsed": false
   },
   "outputs": [
    {
     "data": {
      "text/plain": [
       "[('-', 116),\n",
       " ('w', 81),\n",
       " ('e', 62),\n",
       " ('d', 53),\n",
       " ('con-', 51),\n",
       " ('n', 51),\n",
       " ('re-', 49),\n",
       " ('g', 39),\n",
       " ('r', 36),\n",
       " ('f', 34),\n",
       " ('tion', 34),\n",
       " ('in-', 32),\n",
       " ('be-', 29),\n",
       " ('m', 29),\n",
       " ('mis-', 27),\n",
       " ('t', 26),\n",
       " ('ex-', 20),\n",
       " ('com-', 19),\n",
       " ('ers', 18),\n",
       " ('de-', 18),\n",
       " ('ference', 17),\n",
       " ('ence', 16),\n",
       " ('pub-', 15),\n",
       " (\"'\", 14),\n",
       " ('mes-', 13),\n",
       " ('sev-', 13),\n",
       " ('sab-', 12),\n",
       " ('ment', 11),\n",
       " ('confer-', 11),\n",
       " ('tions', 11),\n",
       " ('ac-', 11),\n",
       " ('lan-', 11),\n",
       " ('ad-', 11)]"
      ]
     },
     "execution_count": 15,
     "metadata": {},
     "output_type": "execute_result"
    }
   ],
   "source": [
    "# %load shared_elements/top_errors.py\n",
    "errors_summary = GoH.reports.get_errors_summary( summary )\n",
    "GoH.reports.top_errors( errors_summary, 10 )[:50]"
   ]
  },
  {
   "cell_type": "markdown",
   "metadata": {},
   "source": [
    "## Correction 2 -- Correct line endings"
   ]
  },
  {
   "cell_type": "code",
   "execution_count": 16,
   "metadata": {
    "ExecuteTime": {
     "end_time": "2017-03-02T23:15:54.917945",
     "start_time": "2017-03-02T23:15:54.670460"
    },
    "collapsed": false
   },
   "outputs": [],
   "source": [
    "# %load shared_elements/correct_line_endings.py\n",
    "prev = cycle\n",
    "cycle = \"correction2\"\n",
    "\n",
    "directories = GoH.utilities.define_directories(prev, cycle, base_dir)\n",
    "if not os.path.exists(directories['cycle']):\n",
    "    os.makedirs(directories['cycle'])\n",
    "\n",
    "corpus = (f for f in listdir(directories['prev']) if not f.startswith('.') and isfile(join(directories['prev'], f)))\n",
    "\n",
    "for filename in corpus:\n",
    "    content = GoH.utilities.readfile(directories['prev'], filename)\n",
    "\n",
    "    content = re.sub(r\"(\\w+)(\\-\\s{1,})([a-z]+)\", r\"\\1\\3\", content)\n",
    "\n",
    "    with open(join(directories['cycle'], filename), mode=\"w\") as o:\n",
    "        o.write(content)\n",
    "        o.close()"
   ]
  },
  {
   "cell_type": "code",
   "execution_count": 17,
   "metadata": {
    "ExecuteTime": {
     "end_time": "2017-03-02T23:15:55.376289",
     "start_time": "2017-03-02T23:15:54.919272"
    },
    "collapsed": false
   },
   "outputs": [
    {
     "name": "stdout",
     "output_type": "stream",
     "text": [
      "Directory: /Users/jeriwieringa/Dissertation/text/text/2017-01-31-corpus-with-utf8-split-into-titles-cleaning/ARAI/correction2\n",
      "\n",
      "Average verified rate: 0.9768275768749366\n",
      "\n",
      "Average of error rates: 0.029375000000000002\n",
      "\n",
      "Total token count: 59122\n",
      "\n"
     ]
    },
    {
     "data": {
      "image/png": "[encoded data removed]",
      "text/plain": [
       "<matplotlib.figure.Figure at 0x110301eb8>"
      ]
     },
     "metadata": {},
     "output_type": "display_data"
    }
   ],
   "source": [
    "# %load shared_elements/summary.py\n",
    "summary = GoH.reports.overview_report(directories['cycle'], spelling_dictionary, title)"
   ]
  },
  {
   "cell_type": "code",
   "execution_count": 18,
   "metadata": {
    "ExecuteTime": {
     "end_time": "2017-03-02T23:15:55.422993",
     "start_time": "2017-03-02T23:15:55.377969"
    },
    "collapsed": false
   },
   "outputs": [
    {
     "data": {
      "text/plain": [
       "[('-', 115),\n",
       " ('w', 81),\n",
       " ('e', 60),\n",
       " ('d', 53),\n",
       " ('n', 51),\n",
       " ('g', 39),\n",
       " ('r', 36),\n",
       " ('f', 34),\n",
       " ('m', 29),\n",
       " ('t', 26),\n",
       " (\"'\", 14)]"
      ]
     },
     "execution_count": 18,
     "metadata": {},
     "output_type": "execute_result"
    }
   ],
   "source": [
    "# %load shared_elements/top_errors.py\n",
    "errors_summary = GoH.reports.get_errors_summary( summary )\n",
    "GoH.reports.top_errors( errors_summary, 10 )[:50]"
   ]
  },
  {
   "cell_type": "markdown",
   "metadata": {
    "collapsed": true
   },
   "source": [
    "## Correction 3 -- Remove extra dashes"
   ]
  },
  {
   "cell_type": "code",
   "execution_count": 19,
   "metadata": {
    "ExecuteTime": {
     "end_time": "2017-03-02T23:15:55.566284",
     "start_time": "2017-03-02T23:15:55.427134"
    },
    "collapsed": true
   },
   "outputs": [],
   "source": [
    "# %load shared_elements/remove_extra_dashes.py\n",
    "prev = cycle\n",
    "cycle = \"correction3\"\n",
    "\n",
    "directories = GoH.utilities.define_directories(prev, cycle, base_dir)\n",
    "if not os.path.exists(directories['cycle']):\n",
    "    os.makedirs(directories['cycle'])\n",
    "\n",
    "corpus = (f for f in listdir(directories['prev']) if not f.startswith('.') and isfile(join(directories['prev'], f)))\n",
    "\n",
    "for filename in corpus:\n",
    "    content = GoH.utilities.readfile(directories['prev'], filename)\n",
    "    \n",
    "    text = re.sub(r\"[0-9,!?$:;&]\", \" \", content)\n",
    "    tokens = GoH.utilities.tokenize_text(text)\n",
    "    \n",
    "    replacements = []\n",
    "    for token in tokens:\n",
    "        if token[0] is \"-\":\n",
    "            replacements.append((token, token[1:]))\n",
    "            \n",
    "        elif token[-1] is \"-\":\n",
    "            replacements.append((token, token[:-1]))\n",
    "        else:\n",
    "            pass\n",
    "        \n",
    "    if len(replacements) > 0:\n",
    "#         print(\"{}: {}\".format(filename, replacements))\n",
    "        \n",
    "        for replacement in replacements:\n",
    "            content = GoH.clean.replace_pair(replacement, content)\n",
    "    else:\n",
    "        pass\n",
    "\n",
    "    with open(join(directories['cycle'], filename), mode=\"w\") as o:\n",
    "        o.write(content)\n",
    "        o.close()"
   ]
  },
  {
   "cell_type": "code",
   "execution_count": 20,
   "metadata": {
    "ExecuteTime": {
     "end_time": "2017-03-02T23:15:55.897786",
     "start_time": "2017-03-02T23:15:55.568868"
    },
    "collapsed": false
   },
   "outputs": [
    {
     "name": "stdout",
     "output_type": "stream",
     "text": [
      "Directory: /Users/jeriwieringa/Dissertation/text/text/2017-01-31-corpus-with-utf8-split-into-titles-cleaning/ARAI/correction3\n",
      "\n",
      "Average verified rate: 0.9799668369936719\n",
      "\n",
      "Average of error rates: 0.026000000000000006\n",
      "\n",
      "Total token count: 59102\n",
      "\n"
     ]
    },
    {
     "data": {
      "image/png": "[encoded data removed]",
      "text/plain": [
       "<matplotlib.figure.Figure at 0x1107c7780>"
      ]
     },
     "metadata": {},
     "output_type": "display_data"
    }
   ],
   "source": [
    "# %load shared_elements/summary.py\n",
    "summary = GoH.reports.overview_report(directories['cycle'], spelling_dictionary, title)"
   ]
  },
  {
   "cell_type": "code",
   "execution_count": 21,
   "metadata": {
    "ExecuteTime": {
     "end_time": "2017-03-02T23:15:55.951577",
     "start_time": "2017-03-02T23:15:55.899328"
    },
    "collapsed": false
   },
   "outputs": [
    {
     "data": {
      "text/plain": [
       "[('w', 81),\n",
       " ('e', 60),\n",
       " ('d', 53),\n",
       " ('n', 51),\n",
       " ('g', 39),\n",
       " ('r', 36),\n",
       " ('f', 34),\n",
       " ('m', 29),\n",
       " ('t', 26),\n",
       " (\"'\", 14)]"
      ]
     },
     "execution_count": 21,
     "metadata": {},
     "output_type": "execute_result"
    }
   ],
   "source": [
    "# %load shared_elements/top_errors.py\n",
    "errors_summary = GoH.reports.get_errors_summary( summary )\n",
    "GoH.reports.top_errors( errors_summary, 10 )[:50]"
   ]
  },
  {
   "cell_type": "markdown",
   "metadata": {},
   "source": [
    "## Correction 4 -- Remove extra quotation marks"
   ]
  },
  {
   "cell_type": "code",
   "execution_count": 22,
   "metadata": {
    "ExecuteTime": {
     "end_time": "2017-03-02T23:15:56.190409",
     "start_time": "2017-03-02T23:15:55.953798"
    },
    "collapsed": true
   },
   "outputs": [],
   "source": [
    "# %load shared_elements/remove_extra_quotation_marks.py\n",
    "prev = cycle\n",
    "cycle = \"correction4\"\n",
    "\n",
    "directories = GoH.utilities.define_directories(prev, cycle, base_dir)\n",
    "if not os.path.exists(directories['cycle']):\n",
    "    os.makedirs(directories['cycle'])\n",
    "\n",
    "corpus = (f for f in listdir(directories['prev']) if not f.startswith('.') and isfile(join(directories['prev'], f)))\n",
    "\n",
    "for filename in corpus:\n",
    "    content = GoH.utilities.readfile(directories['prev'], filename)\n",
    "    \n",
    "    text = re.sub(r\"[0-9,!?$:;&]\", \" \", content)\n",
    "    tokens = GoH.utilities.tokenize_text(text)\n",
    "    \n",
    "    corrections = []\n",
    "    for token in tokens:\n",
    "        token_list = list(token)\n",
    "        last_char = token_list[-1]\n",
    "\n",
    "        if last_char is \"'\":\n",
    "            if len(token) > 1:\n",
    "                if token_list[-2] is 's' or 'S':\n",
    "                    pass\n",
    "                else:\n",
    "                    corrections.append((token, re.sub(r\"'\", r\"\", token)))\n",
    "            else:\n",
    "                pass\n",
    "        elif token[0] is \"'\":\n",
    "            corrections.append((token, re.sub(r\"'\", r\"\", token)))   \n",
    "        else:\n",
    "            pass\n",
    "    \n",
    "    if len(corrections) > 0:\n",
    "#         print('{}: {}'.format(filename, corrections))\n",
    "\n",
    "        for correction in corrections:\n",
    "            content = GoH.clean.replace_pair(correction, content)\n",
    "    else:\n",
    "        pass\n",
    "\n",
    "    with open(join(directories['cycle'], filename), mode=\"w\") as o:\n",
    "        o.write(content)\n",
    "        o.close()"
   ]
  },
  {
   "cell_type": "code",
   "execution_count": 23,
   "metadata": {
    "ExecuteTime": {
     "end_time": "2017-03-02T23:15:56.584557",
     "start_time": "2017-03-02T23:15:56.193981"
    },
    "collapsed": false
   },
   "outputs": [
    {
     "name": "stdout",
     "output_type": "stream",
     "text": [
      "Directory: /Users/jeriwieringa/Dissertation/text/text/2017-01-31-corpus-with-utf8-split-into-titles-cleaning/ARAI/correction4\n",
      "\n",
      "Average verified rate: 0.9803390748198031\n",
      "\n",
      "Average of error rates: 0.025541666666666667\n",
      "\n",
      "Total token count: 59102\n",
      "\n"
     ]
    },
    {
     "data": {
      "image/png": "[encoded data removed]",
      "text/plain": [
       "<matplotlib.figure.Figure at 0x110771d68>"
      ]
     },
     "metadata": {},
     "output_type": "display_data"
    }
   ],
   "source": [
    "# %load shared_elements/summary.py\n",
    "summary = GoH.reports.overview_report(directories['cycle'], spelling_dictionary, title)"
   ]
  },
  {
   "cell_type": "code",
   "execution_count": 24,
   "metadata": {
    "ExecuteTime": {
     "end_time": "2017-03-02T23:15:56.625646",
     "start_time": "2017-03-02T23:15:56.586495"
    },
    "collapsed": false
   },
   "outputs": [
    {
     "data": {
      "text/plain": [
       "[('w', 81),\n",
       " ('e', 60),\n",
       " ('d', 53),\n",
       " ('n', 51),\n",
       " ('g', 39),\n",
       " ('r', 36),\n",
       " ('f', 34),\n",
       " ('m', 29),\n",
       " ('t', 26),\n",
       " (\"'\", 14)]"
      ]
     },
     "execution_count": 24,
     "metadata": {},
     "output_type": "execute_result"
    }
   ],
   "source": [
    "# %load shared_elements/top_errors.py\n",
    "errors_summary = GoH.reports.get_errors_summary( summary )\n",
    "GoH.reports.top_errors( errors_summary, 10 )[:50]"
   ]
  },
  {
   "cell_type": "markdown",
   "metadata": {},
   "source": [
    "## Correction 5 -- Rejoin Burst Words"
   ]
  },
  {
   "cell_type": "code",
   "execution_count": 25,
   "metadata": {
    "ExecuteTime": {
     "end_time": "2017-03-02T23:15:56.739344",
     "start_time": "2017-03-02T23:15:56.630136"
    },
    "collapsed": true
   },
   "outputs": [],
   "source": [
    "# %load shared_elements/rejoin_burst_words.py\n",
    "prev = cycle\n",
    "cycle = \"correction5\"\n",
    "\n",
    "directories = GoH.utilities.define_directories(prev, cycle, base_dir)\n",
    "if not os.path.exists(directories['cycle']):\n",
    "    os.makedirs(directories['cycle'])\n",
    "\n",
    "corpus = (f for f in listdir(directories['prev']) if not f.startswith('.') and isfile(join(directories['prev'], f)))\n",
    "\n",
    "for filename in corpus:\n",
    "    content = GoH.utilities.readfile(directories['prev'], filename)\n",
    "\n",
    "    pattern = re.compile(\"(\\s(\\w{1,2}\\s){5,})\")\n",
    "    \n",
    "    replacements = []\n",
    "    GoH.clean.check_splits(pattern, spelling_dictionary, content, replacements)\n",
    "    \n",
    "    if len(replacements) > 0:\n",
    "#         print('{}: {}'.format(filename, replacements))\n",
    "\n",
    "        for replacement in replacements:\n",
    "            content = GoH.clean.replace_pair(replacement, content)\n",
    "    else:\n",
    "        pass\n",
    "\n",
    "    with open(join(directories['cycle'], filename), mode=\"w\") as o:\n",
    "        o.write(content)\n",
    "        o.close()"
   ]
  },
  {
   "cell_type": "code",
   "execution_count": 26,
   "metadata": {
    "ExecuteTime": {
     "end_time": "2017-03-02T23:15:57.084873",
     "start_time": "2017-03-02T23:15:56.741121"
    },
    "collapsed": false
   },
   "outputs": [
    {
     "name": "stdout",
     "output_type": "stream",
     "text": [
      "Directory: /Users/jeriwieringa/Dissertation/text/text/2017-01-31-corpus-with-utf8-split-into-titles-cleaning/ARAI/correction5\n",
      "\n",
      "Average verified rate: 0.9803397401191121\n",
      "\n",
      "Average of error rates: 0.025541666666666667\n",
      "\n",
      "Total token count: 59104\n",
      "\n"
     ]
    },
    {
     "data": {
      "image/png": "[encoded data removed]",
      "text/plain": [
       "<matplotlib.figure.Figure at 0x11088acc0>"
      ]
     },
     "metadata": {},
     "output_type": "display_data"
    }
   ],
   "source": [
    "# %load shared_elements/summary.py\n",
    "summary = GoH.reports.overview_report(directories['cycle'], spelling_dictionary, title)"
   ]
  },
  {
   "cell_type": "code",
   "execution_count": 27,
   "metadata": {
    "ExecuteTime": {
     "end_time": "2017-03-02T23:15:57.125323",
     "start_time": "2017-03-02T23:15:57.086562"
    },
    "collapsed": false
   },
   "outputs": [
    {
     "data": {
      "text/plain": [
       "[('w', 81),\n",
       " ('e', 60),\n",
       " ('d', 53),\n",
       " ('n', 51),\n",
       " ('g', 39),\n",
       " ('r', 36),\n",
       " ('f', 34),\n",
       " ('m', 29),\n",
       " ('t', 26),\n",
       " (\"'\", 14)]"
      ]
     },
     "execution_count": 27,
     "metadata": {},
     "output_type": "execute_result"
    }
   ],
   "source": [
    "# %load shared_elements/top_errors.py\n",
    "errors_summary = GoH.reports.get_errors_summary( summary )\n",
    "GoH.reports.top_errors( errors_summary, 10 )[:50]"
   ]
  },
  {
   "cell_type": "markdown",
   "metadata": {},
   "source": [
    "## Correction 6 -- Rejoin Split Words"
   ]
  },
  {
   "cell_type": "code",
   "execution_count": 28,
   "metadata": {
    "ExecuteTime": {
     "end_time": "2017-03-02T23:15:57.349613",
     "start_time": "2017-03-02T23:15:57.129303"
    },
    "collapsed": true
   },
   "outputs": [],
   "source": [
    "# %load shared_elements/rejoin_split_words.py\n",
    "prev = cycle\n",
    "cycle = \"correction6\"\n",
    "\n",
    "directories = GoH.utilities.define_directories(prev, cycle, base_dir)\n",
    "if not os.path.exists(directories['cycle']):\n",
    "    os.makedirs(directories['cycle'])\n",
    "\n",
    "corpus = (f for f in listdir(directories['prev']) if not f.startswith('.') and isfile(join(directories['prev'], f)))\n",
    "\n",
    "for filename in corpus:\n",
    "    content = GoH.utilities.readfile(directories['prev'], filename)\n",
    "    \n",
    "    text = re.sub(r\"[0-9,!?$:;&]\", \" \", content)\n",
    "    tokens = GoH.utilities.tokenize_text(text)\n",
    "    errors = GoH.reports.identify_errors(tokens, spelling_dictionary)\n",
    "\n",
    "    replacements = GoH.clean.check_if_stem(errors, spelling_dictionary, tokens, get_prior=False)\n",
    "    \n",
    "    if len(replacements) > 0:\n",
    "#         print('{}: {}'.format(filename, replacements))\n",
    "\n",
    "        for replacement in replacements:\n",
    "            content = GoH.clean.replace_split_words(replacement, content)\n",
    "    else:\n",
    "        pass\n",
    "\n",
    "    with open(join(directories['cycle'], filename), mode=\"w\") as o:\n",
    "        o.write(content)\n",
    "        o.close()"
   ]
  },
  {
   "cell_type": "code",
   "execution_count": 29,
   "metadata": {
    "ExecuteTime": {
     "end_time": "2017-03-02T23:15:57.758116",
     "start_time": "2017-03-02T23:15:57.351016"
    },
    "collapsed": false
   },
   "outputs": [
    {
     "name": "stdout",
     "output_type": "stream",
     "text": [
      "Directory: /Users/jeriwieringa/Dissertation/text/text/2017-01-31-corpus-with-utf8-split-into-titles-cleaning/ARAI/correction6\n",
      "\n",
      "Average verified rate: 0.980455860703589\n",
      "\n",
      "Average of error rates: 0.025458333333333333\n",
      "\n",
      "Total token count: 59097\n",
      "\n"
     ]
    },
    {
     "data": {
      "image/png": "[encoded data removed]",
      "text/plain": [
       "<matplotlib.figure.Figure at 0x110636588>"
      ]
     },
     "metadata": {},
     "output_type": "display_data"
    }
   ],
   "source": [
    "# %load shared_elements/summary.py\n",
    "summary = GoH.reports.overview_report(directories['cycle'], spelling_dictionary, title)"
   ]
  },
  {
   "cell_type": "code",
   "execution_count": 30,
   "metadata": {
    "ExecuteTime": {
     "end_time": "2017-03-02T23:15:57.810923",
     "start_time": "2017-03-02T23:15:57.759885"
    },
    "collapsed": false
   },
   "outputs": [
    {
     "data": {
      "text/plain": [
       "[('w', 81),\n",
       " ('e', 60),\n",
       " ('d', 53),\n",
       " ('n', 51),\n",
       " ('g', 39),\n",
       " ('r', 36),\n",
       " ('f', 34),\n",
       " ('m', 29),\n",
       " ('t', 26),\n",
       " (\"'\", 14)]"
      ]
     },
     "execution_count": 30,
     "metadata": {},
     "output_type": "execute_result"
    }
   ],
   "source": [
    "# %load shared_elements/top_errors.py\n",
    "errors_summary = GoH.reports.get_errors_summary( summary )\n",
    "GoH.reports.top_errors( errors_summary, 10 )[:50]"
   ]
  },
  {
   "cell_type": "markdown",
   "metadata": {},
   "source": [
    "## Correction 7 -- Rejoin Split Words II"
   ]
  },
  {
   "cell_type": "code",
   "execution_count": 31,
   "metadata": {
    "ExecuteTime": {
     "end_time": "2017-03-02T23:15:58.030371",
     "start_time": "2017-03-02T23:15:57.814511"
    },
    "collapsed": true
   },
   "outputs": [],
   "source": [
    "# %load shared_elements/rejoin_split_words.py\n",
    "prev = cycle\n",
    "cycle = \"correction7\"\n",
    "\n",
    "directories = GoH.utilities.define_directories(prev, cycle, base_dir)\n",
    "if not os.path.exists(directories['cycle']):\n",
    "    os.makedirs(directories['cycle'])\n",
    "\n",
    "corpus = (f for f in listdir(directories['prev']) if not f.startswith('.') and isfile(join(directories['prev'], f)))\n",
    "\n",
    "for filename in corpus:\n",
    "    content = GoH.utilities.readfile(directories['prev'], filename)\n",
    "    \n",
    "    text = re.sub(r\"[0-9,!?$:;&]\", \" \", content)\n",
    "    tokens = GoH.utilities.tokenize_text(text)\n",
    "    errors = GoH.reports.identify_errors(tokens, spelling_dictionary)\n",
    "\n",
    "    replacements = GoH.clean.check_if_stem(errors, spelling_dictionary, tokens, get_prior=True)\n",
    "    \n",
    "    if len(replacements) > 0:\n",
    "#         print('{}: {}'.format(filename, replacements))\n",
    "\n",
    "        for replacement in replacements:\n",
    "            content = GoH.clean.replace_split_words(replacement, content)\n",
    "    else:\n",
    "        pass\n",
    "\n",
    "    with open(join(directories['cycle'], filename), mode=\"w\") as o:\n",
    "        o.write(content)\n",
    "        o.close()"
   ]
  },
  {
   "cell_type": "code",
   "execution_count": 32,
   "metadata": {
    "ExecuteTime": {
     "end_time": "2017-03-02T23:15:58.381315",
     "start_time": "2017-03-02T23:15:58.032190"
    },
    "collapsed": false
   },
   "outputs": [
    {
     "name": "stdout",
     "output_type": "stream",
     "text": [
      "Directory: /Users/jeriwieringa/Dissertation/text/text/2017-01-31-corpus-with-utf8-split-into-titles-cleaning/ARAI/correction7\n",
      "\n",
      "Average verified rate: 0.9805720088001354\n",
      "\n",
      "Average of error rates: 0.025322916666666667\n",
      "\n",
      "Total token count: 59090\n",
      "\n"
     ]
    },
    {
     "data": {
      "image/png": "[encoded data removed]",
      "text/plain": [
       "<matplotlib.figure.Figure at 0x11037c9b0>"
      ]
     },
     "metadata": {},
     "output_type": "display_data"
    }
   ],
   "source": [
    "# %load shared_elements/summary.py\n",
    "summary = GoH.reports.overview_report(directories['cycle'], spelling_dictionary, title)"
   ]
  },
  {
   "cell_type": "code",
   "execution_count": 33,
   "metadata": {
    "ExecuteTime": {
     "end_time": "2017-03-02T23:15:58.430083",
     "start_time": "2017-03-02T23:15:58.383285"
    },
    "collapsed": false
   },
   "outputs": [
    {
     "data": {
      "text/plain": [
       "[('w', 81),\n",
       " ('e', 60),\n",
       " ('d', 53),\n",
       " ('n', 51),\n",
       " ('g', 39),\n",
       " ('r', 36),\n",
       " ('f', 34),\n",
       " ('m', 29),\n",
       " ('t', 26),\n",
       " (\"'\", 14)]"
      ]
     },
     "execution_count": 33,
     "metadata": {},
     "output_type": "execute_result"
    }
   ],
   "source": [
    "# %load shared_elements/top_errors.py\n",
    "errors_summary = GoH.reports.get_errors_summary( summary )\n",
    "GoH.reports.top_errors( errors_summary, 10 )[:50]"
   ]
  },
  {
   "cell_type": "markdown",
   "metadata": {},
   "source": [
    "## Review Remaining Errors"
   ]
  },
  {
   "cell_type": "code",
   "execution_count": 34,
   "metadata": {
    "ExecuteTime": {
     "end_time": "2017-03-02T23:16:38.035863",
     "start_time": "2017-03-02T23:16:38.002935"
    },
    "collapsed": false
   },
   "outputs": [
    {
     "data": {
      "text/plain": [
       "[('ARAI19190731-V96-31-page1.txt', 0.371)]"
      ]
     },
     "execution_count": 34,
     "metadata": {},
     "output_type": "execute_result"
    }
   ],
   "source": [
    "GoH.reports.docs_with_high_error_rate(summary)"
   ]
  },
  {
   "cell_type": "code",
   "execution_count": 35,
   "metadata": {
    "ExecuteTime": {
     "end_time": "2017-03-02T23:16:56.750837",
     "start_time": "2017-03-02T23:16:56.718445"
    },
    "collapsed": false
   },
   "outputs": [
    {
     "data": {
      "text/plain": [
       "(['colporteur-evangelists',\n",
       "  'boarding-schools',\n",
       "  'kavirondo-english',\n",
       "  'marathi-speaking',\n",
       "  'catharina-parana',\n",
       "  'publishing-houses',\n",
       "  'english-kavirondo'],\n",
       " 15)"
      ]
     },
     "execution_count": 35,
     "metadata": {},
     "output_type": "execute_result"
    }
   ],
   "source": [
    "GoH.reports.long_errors(errors_summary, min_length=15)"
   ]
  },
  {
   "cell_type": "code",
   "execution_count": null,
   "metadata": {
    "collapsed": true
   },
   "outputs": [],
   "source": []
  }
 ],
 "metadata": {
  "anaconda-cloud": {},
  "kernelspec": {
   "display_name": "Python [conda env:dissertation2]",
   "language": "python",
   "name": "conda-env-dissertation2-py"
  },
  "language_info": {
   "codemirror_mode": {
    "name": "ipython",
    "version": 3
   },
   "file_extension": ".py",
   "mimetype": "text/x-python",
   "name": "python",
   "nbconvert_exporter": "python",
   "pygments_lexer": "ipython3",
   "version": "3.5.2"
  }
 },
 "nbformat": 4,
 "nbformat_minor": 2
}
