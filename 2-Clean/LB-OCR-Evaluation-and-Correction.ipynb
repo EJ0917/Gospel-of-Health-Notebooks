{
 "cells": [
  {
   "cell_type": "code",
   "execution_count": 1,
   "metadata": {
    "ExecuteTime": {
     "end_time": "2017-03-02T21:19:40.737917",
     "start_time": "2017-03-02T21:19:40.712155"
    },
    "collapsed": false
   },
   "outputs": [],
   "source": [
    "%load_ext autoreload"
   ]
  },
  {
   "cell_type": "code",
   "execution_count": 2,
   "metadata": {
    "ExecuteTime": {
     "end_time": "2017-03-02T21:19:40.742931",
     "start_time": "2017-03-02T21:19:40.739604"
    },
    "collapsed": true
   },
   "outputs": [],
   "source": [
    "%autoreload 2"
   ]
  },
  {
   "cell_type": "code",
   "execution_count": 3,
   "metadata": {
    "ExecuteTime": {
     "end_time": "2017-03-02T21:19:43.204810",
     "start_time": "2017-03-02T21:19:40.744556"
    },
    "collapsed": false
   },
   "outputs": [],
   "source": [
    "import GoH.reports\n",
    "import GoH.utilities\n",
    "import GoH.clean\n",
    "import GoH.normalize\n",
    "import re\n",
    "import os\n",
    "from os import listdir\n",
    "from os.path import isfile, join\n",
    "import collections"
   ]
  },
  {
   "cell_type": "code",
   "execution_count": 4,
   "metadata": {
    "ExecuteTime": {
     "end_time": "2017-03-02T21:19:43.249335",
     "start_time": "2017-03-02T21:19:43.206726"
    },
    "collapsed": true
   },
   "outputs": [],
   "source": [
    "%matplotlib inline"
   ]
  },
  {
   "cell_type": "code",
   "execution_count": 5,
   "metadata": {
    "ExecuteTime": {
     "end_time": "2017-03-02T21:19:43.287543",
     "start_time": "2017-03-02T21:19:43.251270"
    },
    "collapsed": true
   },
   "outputs": [],
   "source": [
    "wordlist_dir = \"/Users/jeriwieringa/Dissertation/drafts/data/word-lists\"\n",
    "wordlists = [\"2016-12-07-SDA-last-names.txt\", \n",
    "             \"2016-12-07-SDA-place-names.txt\", \n",
    "             \"2016-12-08-SDA-Vocabulary.txt\", \n",
    "             \"2017-01-03-place-names.txt\", \n",
    "             \"2017-02-14-Base-Word-List-SCOWL&KJV.txt\",\n",
    "             \"2017-02-14-Roman-Numerals.txt\",\n",
    "             \"2017-03-01-Additional-Approved-Words.txt\"\n",
    "            ]"
   ]
  },
  {
   "cell_type": "code",
   "execution_count": 6,
   "metadata": {
    "ExecuteTime": {
     "end_time": "2017-03-02T21:19:43.473535",
     "start_time": "2017-03-02T21:19:43.291214"
    },
    "collapsed": true
   },
   "outputs": [],
   "source": [
    "spelling_dictionary = GoH.utilities.create_spelling_dictionary(wordlists, wordlist_dir)"
   ]
  },
  {
   "cell_type": "code",
   "execution_count": 7,
   "metadata": {
    "ExecuteTime": {
     "end_time": "2017-03-02T21:19:43.504373",
     "start_time": "2017-03-02T21:19:43.475334"
    },
    "collapsed": true
   },
   "outputs": [],
   "source": [
    "title = \"LB\""
   ]
  },
  {
   "cell_type": "code",
   "execution_count": 8,
   "metadata": {
    "ExecuteTime": {
     "end_time": "2017-03-02T21:19:43.547188",
     "start_time": "2017-03-02T21:19:43.508677"
    },
    "collapsed": true
   },
   "outputs": [],
   "source": [
    "base_dir = \"/Users/jeriwieringa/Dissertation/text/text/2017-01-31-corpus-with-utf8-split-into-titles-cleaning/{}/\".format(title)"
   ]
  },
  {
   "cell_type": "markdown",
   "metadata": {},
   "source": [
    "## Baseline"
   ]
  },
  {
   "cell_type": "code",
   "execution_count": 9,
   "metadata": {
    "ExecuteTime": {
     "end_time": "2017-03-02T21:19:43.594848",
     "start_time": "2017-03-02T21:19:43.549397"
    },
    "collapsed": true
   },
   "outputs": [],
   "source": [
    "cycle = 'baseline'"
   ]
  },
  {
   "cell_type": "code",
   "execution_count": 10,
   "metadata": {
    "ExecuteTime": {
     "end_time": "2017-03-02T21:19:53.313808",
     "start_time": "2017-03-02T21:19:43.597147"
    },
    "collapsed": false
   },
   "outputs": [
    {
     "name": "stdout",
     "output_type": "stream",
     "text": [
      "Directory: /Users/jeriwieringa/Dissertation/text/text/2017-01-31-corpus-with-utf8-split-into-titles-cleaning/LB/baseline\n",
      "\n",
      "Average verified rate: 0.9573822478765006\n",
      "\n",
      "Average of error rates: 0.054559093619558734\n",
      "\n",
      "Total token count: 5224513\n",
      "\n"
     ]
    },
    {
     "data": {
      "image/png": "[encoded data removed]",
      "text/plain": [
       "<matplotlib.figure.Figure at 0x11266f5c0>"
      ]
     },
     "metadata": {},
     "output_type": "display_data"
    }
   ],
   "source": [
    "stats = GoH.reports.overview_report(join(base_dir, cycle), spelling_dictionary, title)"
   ]
  },
  {
   "cell_type": "code",
   "execution_count": 11,
   "metadata": {
    "ExecuteTime": {
     "end_time": "2017-03-02T21:19:53.431611",
     "start_time": "2017-03-02T21:19:53.315761"
    },
    "collapsed": false
   },
   "outputs": [
    {
     "data": {
      "text/plain": [
       "[('¥', 4001),\n",
       " ('m', 3562),\n",
       " ('-', 3386),\n",
       " ('e', 3325),\n",
       " (\"'\", 3217),\n",
       " ('d', 3161),\n",
       " ('w', 2673),\n",
       " (')', 2624),\n",
       " ('re-', 2372),\n",
       " ('con-', 2294),\n",
       " ('in-', 1955),\n",
       " ('tion', 1892),\n",
       " ('t', 1880),\n",
       " ('be-', 1710),\n",
       " ('n', 1653),\n",
       " ('r', 1344),\n",
       " ('*', 1295),\n",
       " ('f', 1195),\n",
       " ('ex-', 1097),\n",
       " ('¥¥', 1084),\n",
       " ('x', 1046),\n",
       " ('de-', 1026),\n",
       " ('com-', 972),\n",
       " ('ñ', 919),\n",
       " ('g', 895),\n",
       " ('mis-', 875),\n",
       " ('+', 853),\n",
       " ('dis-', 852),\n",
       " (']', 851),\n",
       " ('co', 833),\n",
       " ('ment', 819),\n",
       " ('en-', 668),\n",
       " (\"workingmen's\", 621),\n",
       " ('sub-', 619),\n",
       " ('un-', 615),\n",
       " ('per-', 597),\n",
       " (\"prisoners'\", 553),\n",
       " ('ñed', 523),\n",
       " ('tions', 507),\n",
       " ('k', 503)]"
      ]
     },
     "execution_count": 11,
     "metadata": {},
     "output_type": "execute_result"
    }
   ],
   "source": [
    "errors_summary = GoH.reports.get_errors_summary( stats )\n",
    "GoH.reports.top_errors( errors_summary, 500 )"
   ]
  },
  {
   "cell_type": "markdown",
   "metadata": {
    "collapsed": true
   },
   "source": [
    "## Check Special Character Use"
   ]
  },
  {
   "cell_type": "code",
   "execution_count": 12,
   "metadata": {
    "ExecuteTime": {
     "end_time": "2017-03-02T21:19:53.679459",
     "start_time": "2017-03-02T21:19:53.433495"
    },
    "collapsed": false
   },
   "outputs": [
    {
     "data": {
      "text/plain": [
       "[('¥', 4001),\n",
       " (')', 2624),\n",
       " ('*', 1295),\n",
       " ('¥¥', 1084),\n",
       " ('ñ', 919),\n",
       " ('+', 853),\n",
       " (']', 851),\n",
       " ('ñed', 523),\n",
       " ('(', 495),\n",
       " ('/', 425),\n",
       " ('_', 369),\n",
       " ('%', 332),\n",
       " ('(from', 247),\n",
       " ('•', 225),\n",
       " ('ñthe', 224),\n",
       " ('ö', 192),\n",
       " ('**', 164),\n",
       " ('ñen', 162),\n",
       " ('¥¥¥', 156),\n",
       " ('ña', 150),\n",
       " ('••', 145),\n",
       " ('[the', 130),\n",
       " ('ã', 129),\n",
       " ('(matt', 118),\n",
       " ('=', 117),\n",
       " ('(ps', 109),\n",
       " ('(isa', 108),\n",
       " ('(a)', 100),\n",
       " ('(for', 98),\n",
       " ('(the', 96),\n",
       " ('__', 95),\n",
       " ('ñi', 95),\n",
       " ('(c)', 93),\n",
       " ('(b)', 92),\n",
       " ('(john', 87),\n",
       " ('ñdan', 84),\n",
       " ('++', 81),\n",
       " ('[we', 77),\n",
       " ('(d)', 76),\n",
       " ('%x', 71),\n",
       " ('(luke', 70),\n",
       " ('chicagoñtrains', 68),\n",
       " ('(rom', 66),\n",
       " ('only)', 65),\n",
       " ('\\\\', 65),\n",
       " ('❑', 63),\n",
       " ('ñeditor', 60),\n",
       " ('(i', 59),\n",
       " ('[miss', 59),\n",
       " ('ñthat', 58),\n",
       " ('`', 56),\n",
       " ('¥¥¥¥', 50),\n",
       " ('(prov', 50),\n",
       " ('~~', 50),\n",
       " ('¡', 50),\n",
       " ('[mrs', 49),\n",
       " ('(gen', 49),\n",
       " ('(see', 48),\n",
       " ('ñit', 47),\n",
       " ('ô', 45),\n",
       " ('(acts', 45),\n",
       " ('ñselected', 45),\n",
       " ('[', 45),\n",
       " ('\\ufeff', 44),\n",
       " ('ñand', 44),\n",
       " ('(heb', 44),\n",
       " ('____', 44),\n",
       " ('penitentiary)', 43),\n",
       " ('[mr', 43),\n",
       " ('[this', 42),\n",
       " ('minutesñ', 42),\n",
       " ('#', 41),\n",
       " ('minutesñfifty', 41),\n",
       " ('laundryñin', 39),\n",
       " ('(or', 38),\n",
       " ('¥+¥', 38),\n",
       " ('(and', 38),\n",
       " ('(rev', 36),\n",
       " ('ñto', 36),\n",
       " ('wantedñto', 35),\n",
       " ('(not', 34),\n",
       " ('[a', 34),\n",
       " ('[dr', 33),\n",
       " ('(continued', 33),\n",
       " ('ñno', 33),\n",
       " ('(verse', 33),\n",
       " ('(with', 32),\n",
       " ('+++', 32),\n",
       " ('i¥', 32),\n",
       " ('(jer', 31),\n",
       " ('___', 31),\n",
       " ('(phil', 31),\n",
       " ('(job', 31),\n",
       " ('(a', 31),\n",
       " ('also)', 30),\n",
       " ('lunches)', 30),\n",
       " ('(penny', 30),\n",
       " ('ofñ', 30),\n",
       " ('(concluded', 30),\n",
       " ('ñrev', 30),\n",
       " ('ñfifty', 29),\n",
       " ('appliancesñ', 28),\n",
       " ('(that', 28),\n",
       " ('ñnot', 28),\n",
       " ('¥+', 28),\n",
       " ('prison)', 28),\n",
       " ('(eccl', 26),\n",
       " ('ñwe', 26),\n",
       " ('ñin', 26),\n",
       " ('(to', 26),\n",
       " ('(gal', 25),\n",
       " ('ñnatural', 25),\n",
       " ('themñnot', 25),\n",
       " ('[brother', 25),\n",
       " ('(mark', 25),\n",
       " ('ñhe', 24),\n",
       " ('è', 23),\n",
       " ('chicago)', 23),\n",
       " ('nowñ', 23),\n",
       " ('i)', 23),\n",
       " ('÷', 23),\n",
       " ('-¥', 22),\n",
       " ('ñone', 22),\n",
       " ('ñbut', 22),\n",
       " ('c¥', 22),\n",
       " ('(entered', 21),\n",
       " ('(one', 21),\n",
       " ('wrappingñno', 21),\n",
       " ('ç', 21),\n",
       " ('ñfor', 21),\n",
       " ('`i', 21),\n",
       " ('ñfrom', 21),\n",
       " ('++++', 20),\n",
       " ('ñisa', 20),\n",
       " ('ñall', 20),\n",
       " ('ñjohn', 20),\n",
       " ('ñmatt', 20),\n",
       " ('ò', 20),\n",
       " ('<', 19),\n",
       " ('(numbers', 19),\n",
       " ('(incorporated)', 18),\n",
       " ('desiredñone', 18),\n",
       " ('`the', 18),\n",
       " ('ñat', 18),\n",
       " ('ñhow', 18),\n",
       " ('[from', 18),\n",
       " ('ñjust', 18),\n",
       " ('(lid', 18),\n",
       " ('writtenñthe', 18),\n",
       " ('(james', 18),\n",
       " ('•••', 18),\n",
       " ('ñchicago', 18),\n",
       " ('(this', 18),\n",
       " ('(mich', 18),\n",
       " ('(as', 17),\n",
       " ('¥¥¥¥¥', 17),\n",
       " ('comeñthe', 17),\n",
       " ('¥*', 17),\n",
       " ('[some', 17),\n",
       " ('ñthis', 17),\n",
       " ('(in', 16),\n",
       " ('______', 16),\n",
       " ('ñfamous', 16),\n",
       " ('`to', 16),\n",
       " ('+++++', 16),\n",
       " ('_____', 16),\n",
       " ('`if', 16),\n",
       " ('l¥', 16),\n",
       " ('/x', 16),\n",
       " ('(dan', 15),\n",
       " ('+¥', 15),\n",
       " ('}', 15),\n",
       " ('*abstract', 15),\n",
       " ('ó', 15),\n",
       " ('year)', 15),\n",
       " ('ñbefore', 15),\n",
       " ('[for', 15),\n",
       " ('(t', 15),\n",
       " ('¥a', 15),\n",
       " ('[in', 15),\n",
       " ('+++++++', 15),\n",
       " ('fiftyñ', 14),\n",
       " ('~', 14),\n",
       " ('ñw', 14),\n",
       " ('¥¥)¥', 14),\n",
       " ('(joel', 14),\n",
       " ('(cut', 14),\n",
       " ('ñsome', 14),\n",
       " ('¥i', 14),\n",
       " ('t¥', 14),\n",
       " ('♦', 14),\n",
       " ('}editorial', 14),\n",
       " ('(if', 13),\n",
       " ('ñthere', 13),\n",
       " ('[every', 13),\n",
       " ('sizes)', 13),\n",
       " ('¥the', 13),\n",
       " (\"¥'\", 13),\n",
       " ('appliancesñall', 13),\n",
       " ('ñps', 13),\n",
       " ('twenty-fiveñ', 13),\n",
       " ('homeñthe', 13),\n",
       " ('(which', 12),\n",
       " ('ñnever', 12),\n",
       " ('and¥', 12),\n",
       " ('++++++', 12),\n",
       " ('(ex', 12),\n",
       " ('[on', 12),\n",
       " ('*report', 12),\n",
       " ('oil)', 12),\n",
       " ('¥t', 12),\n",
       " ('the¥', 12),\n",
       " ('***', 12),\n",
       " ('(x', 12),\n",
       " ('a¥', 12),\n",
       " ('[it', 12),\n",
       " ('ñdr', 12),\n",
       " ('ñas', 12),\n",
       " ('[our', 12),\n",
       " ('taken)', 12),\n",
       " ('ñif', 12),\n",
       " ('of¥', 11),\n",
       " ('ñonly', 11),\n",
       " ('[about', 11),\n",
       " ('[last', 11),\n",
       " ('¥-¥', 11),\n",
       " ('ñyou', 11),\n",
       " ('(col', 11),\n",
       " ('ñabout', 11),\n",
       " ('(ill', 11),\n",
       " ('(eph', 11),\n",
       " ('california)', 11),\n",
       " ('ñwhat', 11),\n",
       " ('(wis', 11),\n",
       " ('+++++++++++++++++++++++++++', 11),\n",
       " ('*from', 11),\n",
       " ('ñby', 11),\n",
       " ('to¥', 11),\n",
       " ('¥and', 10),\n",
       " ('ñthen', 10),\n",
       " ('(agents', 10),\n",
       " ('ñthey', 10),\n",
       " ('ñsan', 10),\n",
       " ('ñluke', 10),\n",
       " ('ñmrs', 10),\n",
       " ('it¥', 10),\n",
       " ('+++++++++', 10),\n",
       " ('it)', 10),\n",
       " ('ñdenver', 10),\n",
       " ('(deut', 10),\n",
       " ('ñso', 10),\n",
       " ('chicagoñ', 10),\n",
       " ('[during', 10),\n",
       " ('(at', 10),\n",
       " ('¦', 10),\n",
       " ('translation)', 10),\n",
       " ('continued)', 10),\n",
       " ('ñis', 10),\n",
       " ('¥to', 10),\n",
       " ('^', 10),\n",
       " ('(two', 10),\n",
       " ('[as', 10),\n",
       " ('[recently', 10),\n",
       " ('(it', 10),\n",
       " ('¥in', 9),\n",
       " ('itñ', 9),\n",
       " ('(care-', 9),\n",
       " ('(now', 9),\n",
       " ('\\\\v', 9),\n",
       " ('(e)', 9),\n",
       " ('(hosea', 9),\n",
       " ('*talk', 9),\n",
       " (')¥', 9),\n",
       " ('(is', 9),\n",
       " ('has¥', 9),\n",
       " ('meñ', 9),\n",
       " ('(related', 9),\n",
       " ('i*', 9),\n",
       " ('(our', 9),\n",
       " ('(continued)', 9),\n",
       " ('(inc', 9),\n",
       " ('nowñbefore', 9),\n",
       " ('[when', 9),\n",
       " ('(mal', 9),\n",
       " ('¥¥¥¥¥¥', 9),\n",
       " ('¥¥x¥¥', 9),\n",
       " ('twenty=five', 9),\n",
       " ('well=equipped', 9),\n",
       " ('¥¥x¥', 9),\n",
       " ('(psa', 9),\n",
       " ('ñyour', 9),\n",
       " ('*¥', 9),\n",
       " ('ñtuition', 9),\n",
       " ('ñan', 9),\n",
       " ('(he', 9),\n",
       " ('ñe', 9),\n",
       " (\"'¥\", 8),\n",
       " ('+ö', 8),\n",
       " ('ñconsecrated', 8),\n",
       " ('[there', 8),\n",
       " ('`what', 8),\n",
       " ('ñour', 8),\n",
       " ('ñyet', 8),\n",
       " ('(sears', 8),\n",
       " ('-_', 8),\n",
       " ('ñeither', 8),\n",
       " ('`no', 8),\n",
       " ('(next', 8),\n",
       " ('¥¥¥¥¥¥¥¥', 8),\n",
       " ('ñlincoln', 8),\n",
       " ('ñportland', 8),\n",
       " ('(jas', 8),\n",
       " ('ñhis', 8),\n",
       " ('number)', 8),\n",
       " ('e¥', 8),\n",
       " ('laundryñ', 8),\n",
       " ('ñbutte', 8),\n",
       " ('ñnow', 8),\n",
       " ('girls)', 8),\n",
       " ('version)', 8),\n",
       " ('nurse)', 8),\n",
       " ('ñlet', 8),\n",
       " ('ñmission', 8),\n",
       " ('==', 8),\n",
       " ('prisoner)', 8),\n",
       " ('—', 8),\n",
       " ('(r', 8),\n",
       " ('[several', 8),\n",
       " ('ñrom', 8),\n",
       " ('[not', 8),\n",
       " ('ñcleveland', 8),\n",
       " ('+++++++++++++++', 8),\n",
       " ('(so', 8),\n",
       " ('[at', 8),\n",
       " ('(who', 8),\n",
       " ('ñthose', 8),\n",
       " ('ñspokane', 7),\n",
       " ('(member', 7),\n",
       " ('ñacts', 7),\n",
       " ('t_', 7),\n",
       " ('[years', 7),\n",
       " ('modelñno', 7),\n",
       " ('cents)', 7),\n",
       " ('inñ', 7),\n",
       " ('lifeñto', 7),\n",
       " ('*-', 7),\n",
       " ('machineñwith', 7),\n",
       " ('**********************************', 7),\n",
       " ('>', 7),\n",
       " ('(testimony', 7),\n",
       " ('(she', 7),\n",
       " ('sinñ', 7),\n",
       " ('(taken', 7),\n",
       " ('ñgood', 7),\n",
       " ('name)', 7),\n",
       " ('rememberñ', 7),\n",
       " ('class)', 7),\n",
       " ('(note', 7),\n",
       " ('ñmark', 7),\n",
       " ('_______', 7),\n",
       " ('ñdavid', 7),\n",
       " ('¥¥¥¥¥¥¥', 7),\n",
       " ('ñbrooklyn', 7),\n",
       " ('•+', 7),\n",
       " ('ñmy', 7),\n",
       " ('beñin', 7),\n",
       " ('*the', 7),\n",
       " ('(jno', 7),\n",
       " ('ñguthrie', 7),\n",
       " ('¥i¥', 7),\n",
       " ('++++++++', 7),\n",
       " ('a)', 7),\n",
       " ('ñevansville', 7),\n",
       " ('ñchattanooga', 7),\n",
       " ('he¥', 7),\n",
       " ('i_', 7),\n",
       " ('ñyes', 7),\n",
       " ('usñ', 7),\n",
       " ('[extracts', 7),\n",
       " ('¥¥)', 7),\n",
       " ('(by', 7),\n",
       " ('planñpay', 7),\n",
       " ('voices)', 7),\n",
       " ('ñheb', 7),\n",
       " ('++++++++++', 7),\n",
       " ('sirñi', 7),\n",
       " ('(eze', 7),\n",
       " ('everywhereñpeople', 7),\n",
       " ('ñh', 6),\n",
       " ('ñdo', 6),\n",
       " ('packsñany', 6),\n",
       " ('byñ', 6),\n",
       " ('¥¥¥¥¥¥¥¥¥', 6),\n",
       " ('muskokañ', 6),\n",
       " ('years)', 6),\n",
       " ('`¥', 6),\n",
       " ('menñ', 6),\n",
       " ('¥of', 6),\n",
       " (\"(a')\", 6),\n",
       " ('itñthat', 6),\n",
       " ('(j', 6),\n",
       " ('ñfree', 6),\n",
       " ('ñhaving', 6),\n",
       " ('wantedñ', 6),\n",
       " ('filmsñv', 6),\n",
       " ('coã', 6),\n",
       " ('(extracts', 6),\n",
       " ('•+•', 6),\n",
       " ('lifeñthe', 6),\n",
       " ('homeña', 6),\n",
       " ('\\\\ve', 6),\n",
       " ('themñ', 6),\n",
       " ('(even', 6),\n",
       " ('ñwho', 6),\n",
       " ('workñthe', 6),\n",
       " ('*a', 6),\n",
       " ('mindñ', 6),\n",
       " ('typewriterñthe', 6),\n",
       " ('(ready', 6),\n",
       " ('upñon', 6),\n",
       " ('-*', 6),\n",
       " ('*told', 6),\n",
       " ('¥s', 6),\n",
       " ('ñtwo', 6),\n",
       " ('deptã', 6),\n",
       " ('is¥', 6),\n",
       " ('[pastor', 6),\n",
       " ('(sore', 6),\n",
       " ('ñwas', 6),\n",
       " ('`yes', 6),\n",
       " ('(expense)', 6),\n",
       " ('(we', 6),\n",
       " ('ñwhich', 6),\n",
       " ('(lev', 6),\n",
       " ('doñ', 6),\n",
       " ('training=school', 6),\n",
       " ('(dent', 6),\n",
       " ('(f)', 6),\n",
       " ('wantedña', 6),\n",
       " ('(god', 6),\n",
       " ('ñwith', 6),\n",
       " ('dayñ', 6),\n",
       " ('ñyours', 6),\n",
       " ('[many', 6),\n",
       " ('++++++++++++++', 6),\n",
       " ('ñmany', 6),\n",
       " ('ö+', 6),\n",
       " ('*+', 6),\n",
       " ('earlyñnow', 6),\n",
       " ('=nt', 6),\n",
       " ('t)', 6),\n",
       " ('+++++++++++', 6),\n",
       " ('_¥', 6),\n",
       " ('periodsñ', 6),\n",
       " ('ñheard', 6),\n",
       " ('handñ', 6),\n",
       " ('*lumber', 6),\n",
       " ('street)', 6),\n",
       " ('month)', 6),\n",
       " ('godñ', 6),\n",
       " ('workñed', 6),\n",
       " ('existenceñthe', 6),\n",
       " ('a_', 6),\n",
       " ('(of', 6),\n",
       " ('ill¥', 6),\n",
       " ('/-', 6),\n",
       " ('awayñ', 5),\n",
       " ('`go', 5),\n",
       " ('ñof', 5),\n",
       " ('/ix', 5),\n",
       " ('forñto', 5),\n",
       " ('*t', 5),\n",
       " ('`come', 5),\n",
       " ('e/', 5),\n",
       " ('ñend', 5),\n",
       " ('songñ', 5),\n",
       " ('*(talk', 5),\n",
       " ('ñperhaps', 5),\n",
       " ('ñpsa', 5),\n",
       " ('[free', 5),\n",
       " ('ñsuch', 5),\n",
       " ('¥s¥', 5),\n",
       " ('choice)', 5),\n",
       " ('ã-', 5),\n",
       " ('(romans', 5),\n",
       " ('christñmrs', 5),\n",
       " ('ñprov', 5),\n",
       " ('placeñthe', 5),\n",
       " ('(abstract', 5),\n",
       " ('typewritersñthe', 5),\n",
       " ('+++++++++++++', 5),\n",
       " ('(lays', 5),\n",
       " ('floor)', 5),\n",
       " ('(money', 5),\n",
       " ('`my', 5),\n",
       " ('paidñor', 5),\n",
       " ('++++++++++++', 5),\n",
       " ('eñ', 5),\n",
       " ('••••', 5),\n",
       " ('[those', 5)]"
      ]
     },
     "execution_count": 12,
     "metadata": {},
     "output_type": "execute_result"
    }
   ],
   "source": [
    "GoH.reports.tokens_with_special_characters(errors_summary)[:500]"
   ]
  },
  {
   "cell_type": "markdown",
   "metadata": {},
   "source": [
    "## Correction 1 -- Normalize Characters"
   ]
  },
  {
   "cell_type": "code",
   "execution_count": 13,
   "metadata": {
    "ExecuteTime": {
     "end_time": "2017-03-02T21:20:03.756810",
     "start_time": "2017-03-02T21:19:53.681092"
    },
    "collapsed": false
   },
   "outputs": [],
   "source": [
    "# %load shared_elements/normalize_characters.py\n",
    "prev = 'baseline'\n",
    "cycle = \"correction1\"\n",
    "\n",
    "directories = GoH.utilities.define_directories(prev, cycle, base_dir)\n",
    "if not os.path.exists(directories['cycle']):\n",
    "    os.makedirs(directories['cycle'])\n",
    "\n",
    "corpus = (f for f in listdir(directories['prev']) if not f.startswith('.') and isfile(join(directories['prev'], f)))\n",
    "\n",
    "for filename in corpus:\n",
    "    content = GoH.utilities.readfile(directories['prev'], filename)\n",
    "\n",
    "    # Substitute for all other dashes\n",
    "    content = re.sub(r\"—-—–‑\", r\"-\", content)\n",
    "\n",
    "    # Substitute formatted apostrophe\n",
    "    content = re.sub(r\"\\’\\’\\‘\\'\\‛\\´\", r\"'\", content)\n",
    "    \n",
    "    # Replace all special characters with a space (as these tend to occur at the end of lines)\n",
    "    content = re.sub(r\"[^a-zA-Z0-9\\s,.!?$:;\\-&\\'\\\"]\", r\" \", content)\n",
    "    \n",
    "    with open(join(directories['cycle'], filename), mode=\"w\") as o:\n",
    "        o.write(content)\n",
    "        o.close()"
   ]
  },
  {
   "cell_type": "code",
   "execution_count": 14,
   "metadata": {
    "ExecuteTime": {
     "end_time": "2017-03-02T21:20:12.631382",
     "start_time": "2017-03-02T21:20:03.758217"
    },
    "collapsed": false
   },
   "outputs": [
    {
     "name": "stdout",
     "output_type": "stream",
     "text": [
      "Directory: /Users/jeriwieringa/Dissertation/text/text/2017-01-31-corpus-with-utf8-split-into-titles-cleaning/LB/correction1\n",
      "\n",
      "Average verified rate: 0.9635807467075778\n",
      "\n",
      "Average of error rates: 0.04575790101371498\n",
      "\n",
      "Total token count: 5213259\n",
      "\n"
     ]
    },
    {
     "data": {
      "image/png": "[encoded data removed]",
      "text/plain": [
       "<matplotlib.figure.Figure at 0x1177c9c88>"
      ]
     },
     "metadata": {},
     "output_type": "display_data"
    }
   ],
   "source": [
    "# %load shared_elements/summary.py\n",
    "summary = GoH.reports.overview_report(directories['cycle'], spelling_dictionary, title)"
   ]
  },
  {
   "cell_type": "code",
   "execution_count": 15,
   "metadata": {
    "ExecuteTime": {
     "end_time": "2017-03-02T21:20:12.786031",
     "start_time": "2017-03-02T21:20:12.633526"
    },
    "collapsed": false
   },
   "outputs": [
    {
     "data": {
      "text/plain": [
       "[('-', 3638),\n",
       " ('m', 3600),\n",
       " ('e', 3417),\n",
       " (\"'\", 3337),\n",
       " ('d', 3272),\n",
       " ('w', 2711),\n",
       " ('re-', 2374),\n",
       " ('con-', 2295),\n",
       " ('t', 2024),\n",
       " ('in-', 1957),\n",
       " ('tion', 1900),\n",
       " ('be-', 1712),\n",
       " ('n', 1690),\n",
       " ('r', 1413),\n",
       " ('f', 1244),\n",
       " ('x', 1239),\n",
       " ('ex-', 1098),\n",
       " ('de-', 1027),\n",
       " ('com-', 973),\n",
       " ('g', 925),\n",
       " ('mis-', 876),\n",
       " ('dis-', 853),\n",
       " ('co', 845),\n",
       " ('ment', 821),\n",
       " ('en-', 669),\n",
       " (\"workingmen's\", 622),\n",
       " ('sub-', 619),\n",
       " ('un-', 615),\n",
       " ('per-', 599),\n",
       " (\"prisoners'\", 554),\n",
       " ('k', 519),\n",
       " ('tions', 508),\n",
       " ('some-', 495),\n",
       " ('th', 480),\n",
       " ('ac-', 454),\n",
       " ('im-', 453),\n",
       " ('ers', 452),\n",
       " ('to-', 446),\n",
       " ('ful', 433),\n",
       " ('chris-', 429),\n",
       " ('al-', 426),\n",
       " ('soul-winning', 426),\n",
       " ('oo', 422),\n",
       " ('pro-', 419),\n",
       " ('ad-', 416),\n",
       " ('an-', 402),\n",
       " ('ments', 399),\n",
       " ('pre-', 366),\n",
       " ('for-', 354),\n",
       " ('ap-', 347)]"
      ]
     },
     "execution_count": 15,
     "metadata": {},
     "output_type": "execute_result"
    }
   ],
   "source": [
    "# %load shared_elements/top_errors.py\n",
    "errors_summary = GoH.reports.get_errors_summary( summary )\n",
    "GoH.reports.top_errors( errors_summary, 10 )[:50]"
   ]
  },
  {
   "cell_type": "markdown",
   "metadata": {},
   "source": [
    "## Correction 2 -- Correct Line Endings"
   ]
  },
  {
   "cell_type": "code",
   "execution_count": 16,
   "metadata": {
    "ExecuteTime": {
     "end_time": "2017-03-02T21:20:26.030859",
     "start_time": "2017-03-02T21:20:12.788390"
    },
    "collapsed": true
   },
   "outputs": [],
   "source": [
    "# %load shared_elements/correct_line_endings.py\n",
    "prev = cycle\n",
    "cycle = \"correction2\"\n",
    "\n",
    "directories = GoH.utilities.define_directories(prev, cycle, base_dir)\n",
    "if not os.path.exists(directories['cycle']):\n",
    "    os.makedirs(directories['cycle'])\n",
    "\n",
    "corpus = (f for f in listdir(directories['prev']) if not f.startswith('.') and isfile(join(directories['prev'], f)))\n",
    "\n",
    "for filename in corpus:\n",
    "    content = GoH.utilities.readfile(directories['prev'], filename)\n",
    "\n",
    "    content = re.sub(r\"(\\w+)(\\-\\s{1,})([a-z]+)\", r\"\\1\\3\", content)\n",
    "\n",
    "    with open(join(directories['cycle'], filename), mode=\"w\") as o:\n",
    "        o.write(content)\n",
    "        o.close()"
   ]
  },
  {
   "cell_type": "code",
   "execution_count": 17,
   "metadata": {
    "ExecuteTime": {
     "end_time": "2017-03-02T21:20:33.881807",
     "start_time": "2017-03-02T21:20:26.032182"
    },
    "collapsed": false
   },
   "outputs": [
    {
     "name": "stdout",
     "output_type": "stream",
     "text": [
      "Directory: /Users/jeriwieringa/Dissertation/text/text/2017-01-31-corpus-with-utf8-split-into-titles-cleaning/LB/correction2\n",
      "\n",
      "Average verified rate: 0.9828071372542159\n",
      "\n",
      "Average of error rates: 0.02732128801431127\n",
      "\n",
      "Total token count: 5143995\n",
      "\n"
     ]
    },
    {
     "data": {
      "image/png": "[encoded data removed]",
      "text/plain": [
       "<matplotlib.figure.Figure at 0x118939978>"
      ]
     },
     "metadata": {},
     "output_type": "display_data"
    }
   ],
   "source": [
    "# %load shared_elements/summary.py\n",
    "summary = GoH.reports.overview_report(directories['cycle'], spelling_dictionary, title)"
   ]
  },
  {
   "cell_type": "code",
   "execution_count": 18,
   "metadata": {
    "ExecuteTime": {
     "end_time": "2017-03-02T21:20:34.007851",
     "start_time": "2017-03-02T21:20:33.884294"
    },
    "collapsed": false
   },
   "outputs": [
    {
     "data": {
      "text/plain": [
       "[('m', 3596),\n",
       " ('-', 3572),\n",
       " ('e', 3414),\n",
       " (\"'\", 3337),\n",
       " ('d', 3267),\n",
       " ('w', 2711),\n",
       " ('t', 2008),\n",
       " ('n', 1687),\n",
       " ('r', 1404),\n",
       " ('x', 1238),\n",
       " ('f', 1238),\n",
       " ('g', 921),\n",
       " ('co', 831),\n",
       " (\"workingmen's\", 684),\n",
       " (\"prisoners'\", 589),\n",
       " ('k', 517),\n",
       " ('th', 479),\n",
       " ('soul-winning', 435),\n",
       " ('oo', 422),\n",
       " ('u', 297),\n",
       " (\"'i\", 226),\n",
       " ('red-letter', 220),\n",
       " ('--', 214),\n",
       " ('hsi', 213),\n",
       " (\"'the\", 210),\n",
       " ('anti-cigarette', 173),\n",
       " ('halsted', 164),\n",
       " ('z', 162),\n",
       " (\"'tis\", 160),\n",
       " ('wm', 158),\n",
       " ('mo', 158),\n",
       " ('rd', 141),\n",
       " ('pa', 138),\n",
       " ('seven-jeweled', 134),\n",
       " ('oc', 132),\n",
       " ('broken-hearted', 118),\n",
       " ('ti', 110),\n",
       " ('ft', 105),\n",
       " ('q', 91),\n",
       " ('harner', 91),\n",
       " ('sub-', 89),\n",
       " ('izer', 87),\n",
       " ('vapor-', 87),\n",
       " ('li', 87),\n",
       " ('con-', 86),\n",
       " ('pp', 84),\n",
       " ('mcauley', 83),\n",
       " ('al', 83),\n",
       " ('pavlson', 81),\n",
       " ('stapp', 80)]"
      ]
     },
     "execution_count": 18,
     "metadata": {},
     "output_type": "execute_result"
    }
   ],
   "source": [
    "# %load shared_elements/top_errors.py\n",
    "errors_summary = GoH.reports.get_errors_summary( summary )\n",
    "GoH.reports.top_errors( errors_summary, 10 )[:50]"
   ]
  },
  {
   "cell_type": "markdown",
   "metadata": {},
   "source": [
    "## Correction 3 -- Remove Extra Dashes"
   ]
  },
  {
   "cell_type": "code",
   "execution_count": 19,
   "metadata": {
    "ExecuteTime": {
     "end_time": "2017-03-02T21:20:50.195552",
     "start_time": "2017-03-02T21:20:34.010210"
    },
    "collapsed": false
   },
   "outputs": [],
   "source": [
    "# %load shared_elements/remove_extra_dashes.py\n",
    "prev = cycle\n",
    "cycle = \"correction3\"\n",
    "\n",
    "directories = GoH.utilities.define_directories(prev, cycle, base_dir)\n",
    "if not os.path.exists(directories['cycle']):\n",
    "    os.makedirs(directories['cycle'])\n",
    "\n",
    "corpus = (f for f in listdir(directories['prev']) if not f.startswith('.') and isfile(join(directories['prev'], f)))\n",
    "\n",
    "for filename in corpus:\n",
    "    content = GoH.utilities.readfile(directories['prev'], filename)\n",
    "    \n",
    "    text = re.sub(r\"[0-9,!?$:;&]\", \" \", content)\n",
    "    tokens = GoH.utilities.tokenize_text(text)\n",
    "    \n",
    "    replacements = []\n",
    "    for token in tokens:\n",
    "        if token[0] is \"-\":\n",
    "            replacements.append((token, token[1:]))\n",
    "            \n",
    "        elif token[-1] is \"-\":\n",
    "            replacements.append((token, token[:-1]))\n",
    "        else:\n",
    "            pass\n",
    "        \n",
    "    if len(replacements) > 0:\n",
    "#         print(\"{}: {}\".format(filename, replacements))\n",
    "        \n",
    "        for replacement in replacements:\n",
    "            content = GoH.clean.replace_pair(replacement, content)\n",
    "    else:\n",
    "        pass\n",
    "\n",
    "    with open(join(directories['cycle'], filename), mode=\"w\") as o:\n",
    "        o.write(content)\n",
    "        o.close()"
   ]
  },
  {
   "cell_type": "code",
   "execution_count": 20,
   "metadata": {
    "ExecuteTime": {
     "end_time": "2017-03-02T21:20:59.048518",
     "start_time": "2017-03-02T21:20:50.197543"
    },
    "collapsed": false
   },
   "outputs": [
    {
     "name": "stdout",
     "output_type": "stream",
     "text": [
      "Directory: /Users/jeriwieringa/Dissertation/text/text/2017-01-31-corpus-with-utf8-split-into-titles-cleaning/LB/correction3\n",
      "\n",
      "Average verified rate: 0.9844966635129426\n",
      "\n",
      "Average of error rates: 0.02491568276684556\n",
      "\n",
      "Total token count: 5144183\n",
      "\n"
     ]
    },
    {
     "data": {
      "image/png": "[encoded data removed]",
      "text/plain": [
       "<matplotlib.figure.Figure at 0x1174a56a0>"
      ]
     },
     "metadata": {},
     "output_type": "display_data"
    }
   ],
   "source": [
    "# %load shared_elements/summary.py\n",
    "summary = GoH.reports.overview_report(directories['cycle'], spelling_dictionary, title)"
   ]
  },
  {
   "cell_type": "code",
   "execution_count": 21,
   "metadata": {
    "ExecuteTime": {
     "end_time": "2017-03-02T21:20:59.185039",
     "start_time": "2017-03-02T21:20:59.056701"
    },
    "collapsed": false
   },
   "outputs": [
    {
     "data": {
      "text/plain": [
       "[('m', 3607),\n",
       " ('e', 3441),\n",
       " (\"'\", 3378),\n",
       " ('d', 3292),\n",
       " ('w', 2726),\n",
       " ('t', 2047),\n",
       " ('n', 1700),\n",
       " ('r', 1435),\n",
       " ('x', 1275),\n",
       " ('f', 1251),\n",
       " ('g', 928),\n",
       " ('co', 885),\n",
       " (\"workingmen's\", 684),\n",
       " (\"prisoners'\", 589),\n",
       " ('k', 532),\n",
       " ('th', 482),\n",
       " ('oo', 423),\n",
       " ('soul-winning', 348),\n",
       " ('u', 309),\n",
       " (\"'i\", 227),\n",
       " ('hsi', 213),\n",
       " (\"'the\", 210),\n",
       " ('red-letter', 190),\n",
       " ('z', 166),\n",
       " ('halsted', 164),\n",
       " (\"'tis\", 160),\n",
       " ('wm', 159),\n",
       " ('mo', 159),\n",
       " ('rd', 141),\n",
       " ('pa', 141),\n",
       " ('anti-cigarette', 138),\n",
       " ('oc', 133),\n",
       " ('ex', 131),\n",
       " ('re', 125),\n",
       " ('ti', 120),\n",
       " ('ft', 106),\n",
       " ('broken-hearted', 101),\n",
       " ('seven-jeweled', 96),\n",
       " ('q', 95),\n",
       " ('harner', 91),\n",
       " ('al', 90),\n",
       " ('li', 89),\n",
       " ('izer', 87),\n",
       " ('-', 87),\n",
       " ('pp', 84),\n",
       " ('mcauley', 83),\n",
       " ('pavlson', 81),\n",
       " ('stapp', 80),\n",
       " (\"'to\", 75),\n",
       " ('ky', 75)]"
      ]
     },
     "execution_count": 21,
     "metadata": {},
     "output_type": "execute_result"
    }
   ],
   "source": [
    "# %load shared_elements/top_errors.py\n",
    "errors_summary = GoH.reports.get_errors_summary( summary )\n",
    "GoH.reports.top_errors( errors_summary, 10 )[:50]"
   ]
  },
  {
   "cell_type": "markdown",
   "metadata": {},
   "source": [
    "## Correction 4 -- Remove Extra Quotation Marks"
   ]
  },
  {
   "cell_type": "code",
   "execution_count": 22,
   "metadata": {
    "ExecuteTime": {
     "end_time": "2017-03-02T21:21:20.351314",
     "start_time": "2017-03-02T21:20:59.187090"
    },
    "collapsed": false
   },
   "outputs": [],
   "source": [
    "# %load shared_elements/replace_extra_quotation_marks.py\n",
    "prev = cycle\n",
    "cycle = \"correction4\"\n",
    "\n",
    "directories = GoH.utilities.define_directories(prev, cycle, base_dir)\n",
    "if not os.path.exists(directories['cycle']):\n",
    "    os.makedirs(directories['cycle'])\n",
    "\n",
    "corpus = (f for f in listdir(directories['prev']) if not f.startswith('.') and isfile(join(directories['prev'], f)))\n",
    "\n",
    "for filename in corpus:\n",
    "    content = GoH.utilities.readfile(directories['prev'], filename)\n",
    "    \n",
    "    text = re.sub(r\"[0-9,!?$:;&]\", \" \", content)\n",
    "    tokens = GoH.utilities.tokenize_text(text)\n",
    "    \n",
    "    corrections = []\n",
    "    for token in tokens:\n",
    "        token_list = list(token)\n",
    "        last_char = token_list[-1]\n",
    "\n",
    "        if last_char is \"'\":\n",
    "            if len(token) > 1:\n",
    "                if token_list[-2] is 's' or 'S':\n",
    "                    pass\n",
    "                else:\n",
    "                    corrections.append((token, re.sub(r\"'\", r\"\", token)))\n",
    "            else:\n",
    "                pass\n",
    "        elif token[0] is \"'\":\n",
    "            corrections.append((token, re.sub(r\"'\", r\"\", token)))   \n",
    "        else:\n",
    "            pass\n",
    "    \n",
    "    if len(corrections) > 0:\n",
    "#         print('{}: {}'.format(filename, corrections))\n",
    "\n",
    "        for correction in corrections:\n",
    "            content = GoH.clean.replace_pair(correction, content)\n",
    "    else:\n",
    "        pass\n",
    "\n",
    "    with open(join(directories['cycle'], filename), mode=\"w\") as o:\n",
    "        o.write(content)\n",
    "        o.close()"
   ]
  },
  {
   "cell_type": "code",
   "execution_count": 23,
   "metadata": {
    "ExecuteTime": {
     "end_time": "2017-03-02T21:21:29.505504",
     "start_time": "2017-03-02T21:21:20.354034"
    },
    "collapsed": false
   },
   "outputs": [
    {
     "name": "stdout",
     "output_type": "stream",
     "text": [
      "Directory: /Users/jeriwieringa/Dissertation/text/text/2017-01-31-corpus-with-utf8-split-into-titles-cleaning/LB/correction4\n",
      "\n",
      "Average verified rate: 0.9852831084376651\n",
      "\n",
      "Average of error rates: 0.02378878950506858\n",
      "\n",
      "Total token count: 5144089\n",
      "\n"
     ]
    },
    {
     "data": {
      "image/png": "[encoded data removed]",
      "text/plain": [
       "<matplotlib.figure.Figure at 0x11814b2b0>"
      ]
     },
     "metadata": {},
     "output_type": "display_data"
    }
   ],
   "source": [
    "# %load shared_elements/summary.py\n",
    "summary = GoH.reports.overview_report(directories['cycle'], spelling_dictionary, title)"
   ]
  },
  {
   "cell_type": "code",
   "execution_count": 24,
   "metadata": {
    "ExecuteTime": {
     "end_time": "2017-03-02T21:21:29.591218",
     "start_time": "2017-03-02T21:21:29.507650"
    },
    "collapsed": false
   },
   "outputs": [
    {
     "data": {
      "text/plain": [
       "[('m', 3611),\n",
       " ('e', 3456),\n",
       " ('d', 3295),\n",
       " (\"'\", 3226),\n",
       " ('w', 2728),\n",
       " ('t', 2079),\n",
       " ('n', 1707),\n",
       " ('r', 1441),\n",
       " ('x', 1280),\n",
       " ('f', 1260),\n",
       " ('g', 930),\n",
       " ('co', 888),\n",
       " (\"workingmen's\", 678),\n",
       " (\"prisoners'\", 585),\n",
       " ('k', 533),\n",
       " ('th', 482),\n",
       " ('oo', 428),\n",
       " ('soul-winning', 348),\n",
       " ('u', 310),\n",
       " ('hsi', 213),\n",
       " ('red-letter', 190),\n",
       " ('z', 169),\n",
       " ('halsted', 164),\n",
       " ('wm', 160),\n",
       " ('mo', 159),\n",
       " ('rd', 142),\n",
       " ('pa', 141),\n",
       " ('anti-cigarette', 138),\n",
       " ('oc', 133),\n",
       " ('ex', 131),\n",
       " ('re', 130),\n",
       " ('ti', 120),\n",
       " ('ft', 107),\n",
       " ('broken-hearted', 101),\n",
       " ('q', 97),\n",
       " ('seven-jeweled', 96),\n",
       " ('al', 93),\n",
       " ('harner', 91),\n",
       " ('li', 90),\n",
       " ('izer', 87),\n",
       " ('-', 87),\n",
       " ('pp', 84),\n",
       " ('mcauley', 83),\n",
       " ('pavlson', 81),\n",
       " ('stapp', 80),\n",
       " ('ky', 75),\n",
       " ('soulwinning', 74),\n",
       " ('ninety-six', 74),\n",
       " ('pearsons', 72),\n",
       " ('good-bye', 70)]"
      ]
     },
     "execution_count": 24,
     "metadata": {},
     "output_type": "execute_result"
    }
   ],
   "source": [
    "# %load shared_elements/top_errors.py\n",
    "errors_summary = GoH.reports.get_errors_summary( summary )\n",
    "GoH.reports.top_errors( errors_summary, 10 )[:50]"
   ]
  },
  {
   "cell_type": "markdown",
   "metadata": {},
   "source": [
    "## Correction 5 -- Rejoin Burst Words"
   ]
  },
  {
   "cell_type": "code",
   "execution_count": 25,
   "metadata": {
    "ExecuteTime": {
     "end_time": "2017-03-02T21:21:42.344917",
     "start_time": "2017-03-02T21:21:29.593794"
    },
    "collapsed": false
   },
   "outputs": [],
   "source": [
    "# %load shared_elements/rejoin_burst_words.py\n",
    "prev = cycle\n",
    "cycle = \"correction5\"\n",
    "\n",
    "directories = GoH.utilities.define_directories(prev, cycle, base_dir)\n",
    "if not os.path.exists(directories['cycle']):\n",
    "    os.makedirs(directories['cycle'])\n",
    "\n",
    "corpus = (f for f in listdir(directories['prev']) if not f.startswith('.') and isfile(join(directories['prev'], f)))\n",
    "\n",
    "for filename in corpus:\n",
    "    content = GoH.utilities.readfile(directories['prev'], filename)\n",
    "\n",
    "    pattern = re.compile(\"(\\s(\\w{1,2}\\s){5,})\")\n",
    "    \n",
    "    replacements = []\n",
    "    GoH.clean.check_splits(pattern, spelling_dictionary, content, replacements)\n",
    "    \n",
    "    if len(replacements) > 0:\n",
    "#         print('{}: {}'.format(filename, replacements))\n",
    "\n",
    "        for replacement in replacements:\n",
    "            content = GoH.clean.replace_pair(replacement, content)\n",
    "    else:\n",
    "        pass\n",
    "\n",
    "    with open(join(directories['cycle'], filename), mode=\"w\") as o:\n",
    "        o.write(content)\n",
    "        o.close()"
   ]
  },
  {
   "cell_type": "code",
   "execution_count": 26,
   "metadata": {
    "ExecuteTime": {
     "end_time": "2017-03-02T21:21:51.496471",
     "start_time": "2017-03-02T21:21:42.346141"
    },
    "collapsed": false
   },
   "outputs": [
    {
     "name": "stdout",
     "output_type": "stream",
     "text": [
      "Directory: /Users/jeriwieringa/Dissertation/text/text/2017-01-31-corpus-with-utf8-split-into-titles-cleaning/LB/correction5\n",
      "\n",
      "Average verified rate: 0.9852801583159106\n",
      "\n",
      "Average of error rates: 0.023788431723315448\n",
      "\n",
      "Total token count: 5144145\n",
      "\n"
     ]
    },
    {
     "data": {
      "image/png": "[encoded data removed]",
      "text/plain": [
       "<matplotlib.figure.Figure at 0x117413160>"
      ]
     },
     "metadata": {},
     "output_type": "display_data"
    }
   ],
   "source": [
    "# %load shared_elements/summary.py\n",
    "summary = GoH.reports.overview_report(directories['cycle'], spelling_dictionary, title)"
   ]
  },
  {
   "cell_type": "code",
   "execution_count": 27,
   "metadata": {
    "ExecuteTime": {
     "end_time": "2017-03-02T21:21:51.595601",
     "start_time": "2017-03-02T21:21:51.498576"
    },
    "collapsed": false
   },
   "outputs": [
    {
     "data": {
      "text/plain": [
       "[('m', 3610),\n",
       " ('e', 3451),\n",
       " ('d', 3295),\n",
       " (\"'\", 3226),\n",
       " ('w', 2728),\n",
       " ('t', 2080),\n",
       " ('n', 1706),\n",
       " ('r', 1437),\n",
       " ('x', 1280),\n",
       " ('f', 1259),\n",
       " ('g', 930),\n",
       " ('co', 888),\n",
       " (\"workingmen's\", 678),\n",
       " (\"prisoners'\", 585),\n",
       " ('k', 533),\n",
       " ('th', 482),\n",
       " ('oo', 428),\n",
       " ('soul-winning', 348),\n",
       " ('u', 309),\n",
       " ('hsi', 213),\n",
       " ('red-letter', 190),\n",
       " ('z', 169),\n",
       " ('halsted', 164),\n",
       " ('wm', 160),\n",
       " ('mo', 159),\n",
       " ('rd', 142),\n",
       " ('pa', 141),\n",
       " ('anti-cigarette', 138),\n",
       " ('oc', 133),\n",
       " ('ex', 131),\n",
       " ('re', 131),\n",
       " ('ti', 120),\n",
       " ('ft', 107),\n",
       " ('broken-hearted', 101),\n",
       " ('q', 97),\n",
       " ('seven-jeweled', 96),\n",
       " ('al', 93),\n",
       " ('harner', 91),\n",
       " ('li', 90),\n",
       " ('izer', 87),\n",
       " ('-', 87),\n",
       " ('pp', 84),\n",
       " ('mcauley', 83),\n",
       " ('pavlson', 81),\n",
       " ('stapp', 80),\n",
       " ('ky', 75),\n",
       " ('soulwinning', 74),\n",
       " ('ninety-six', 74),\n",
       " ('pearsons', 72),\n",
       " ('good-bye', 70)]"
      ]
     },
     "execution_count": 27,
     "metadata": {},
     "output_type": "execute_result"
    }
   ],
   "source": [
    "# %load shared_elements/top_errors.py\n",
    "errors_summary = GoH.reports.get_errors_summary( summary )\n",
    "GoH.reports.top_errors( errors_summary, 10 )[:50]"
   ]
  },
  {
   "cell_type": "markdown",
   "metadata": {},
   "source": [
    "## Correction 6 -- Rejoin Split Words"
   ]
  },
  {
   "cell_type": "code",
   "execution_count": 28,
   "metadata": {
    "ExecuteTime": {
     "end_time": "2017-03-02T21:22:16.557493",
     "start_time": "2017-03-02T21:21:51.597917"
    },
    "collapsed": false
   },
   "outputs": [],
   "source": [
    "# %load shared_elements/rejoin_split_words.py\n",
    "prev = cycle\n",
    "cycle = \"correction6\"\n",
    "\n",
    "directories = GoH.utilities.define_directories(prev, cycle, base_dir)\n",
    "if not os.path.exists(directories['cycle']):\n",
    "    os.makedirs(directories['cycle'])\n",
    "\n",
    "corpus = (f for f in listdir(directories['prev']) if not f.startswith('.') and isfile(join(directories['prev'], f)))\n",
    "\n",
    "for filename in corpus:\n",
    "    content = GoH.utilities.readfile(directories['prev'], filename)\n",
    "    \n",
    "    text = re.sub(r\"[0-9,!?$:;&]\", \" \", content)\n",
    "    tokens = GoH.utilities.tokenize_text(text)\n",
    "    errors = GoH.reports.identify_errors(tokens, spelling_dictionary)\n",
    "\n",
    "    replacements = GoH.clean.check_if_stem(errors, spelling_dictionary, tokens, get_prior=False)\n",
    "    \n",
    "    if len(replacements) > 0:\n",
    "#         print('{}: {}'.format(filename, replacements))\n",
    "\n",
    "        for replacement in replacements:\n",
    "            content = GoH.clean.replace_split_words(replacement, content)\n",
    "    else:\n",
    "        pass\n",
    "\n",
    "    with open(join(directories['cycle'], filename), mode=\"w\") as o:\n",
    "        o.write(content)\n",
    "        o.close()"
   ]
  },
  {
   "cell_type": "code",
   "execution_count": 29,
   "metadata": {
    "ExecuteTime": {
     "end_time": "2017-03-02T21:22:25.574293",
     "start_time": "2017-03-02T21:22:16.559510"
    },
    "collapsed": false
   },
   "outputs": [
    {
     "name": "stdout",
     "output_type": "stream",
     "text": [
      "Directory: /Users/jeriwieringa/Dissertation/text/text/2017-01-31-corpus-with-utf8-split-into-titles-cleaning/LB/correction6\n",
      "\n",
      "Average verified rate: 0.9855275460757164\n",
      "\n",
      "Average of error rates: 0.023463208109719743\n",
      "\n",
      "Total token count: 5143219\n",
      "\n"
     ]
    },
    {
     "data": {
      "image/png": "[encoded data removed]",
      "text/plain": [
       "<matplotlib.figure.Figure at 0x117955898>"
      ]
     },
     "metadata": {},
     "output_type": "display_data"
    }
   ],
   "source": [
    "# %load shared_elements/summary.py\n",
    "summary = GoH.reports.overview_report(directories['cycle'], spelling_dictionary, title)"
   ]
  },
  {
   "cell_type": "code",
   "execution_count": 30,
   "metadata": {
    "ExecuteTime": {
     "end_time": "2017-03-02T21:22:25.688527",
     "start_time": "2017-03-02T21:22:25.578364"
    },
    "collapsed": false
   },
   "outputs": [
    {
     "data": {
      "text/plain": [
       "[('m', 3608),\n",
       " ('e', 3419),\n",
       " ('d', 3290),\n",
       " (\"'\", 3226),\n",
       " ('w', 2726),\n",
       " ('t', 2072),\n",
       " ('n', 1698),\n",
       " ('r', 1425),\n",
       " ('x', 1280),\n",
       " ('f', 1257),\n",
       " ('g', 925),\n",
       " ('co', 837),\n",
       " (\"workingmen's\", 678),\n",
       " (\"prisoners'\", 585),\n",
       " ('k', 533),\n",
       " ('th', 464),\n",
       " ('oo', 415),\n",
       " ('soul-winning', 348),\n",
       " ('u', 307),\n",
       " ('hsi', 213),\n",
       " ('red-letter', 190),\n",
       " ('z', 169),\n",
       " ('halsted', 164),\n",
       " ('wm', 160),\n",
       " ('mo', 155),\n",
       " ('rd', 141),\n",
       " ('anti-cigarette', 138),\n",
       " ('pa', 136),\n",
       " ('oc', 133),\n",
       " ('ex', 113),\n",
       " ('ft', 107),\n",
       " ('broken-hearted', 101),\n",
       " ('q', 97),\n",
       " ('ti', 97),\n",
       " ('seven-jeweled', 96),\n",
       " ('harner', 91),\n",
       " ('izer', 87),\n",
       " ('-', 87),\n",
       " ('pp', 84),\n",
       " ('mcauley', 83),\n",
       " ('re', 82),\n",
       " ('pavlson', 81),\n",
       " ('stapp', 80),\n",
       " ('al', 78),\n",
       " ('ky', 75),\n",
       " ('soulwinning', 74),\n",
       " ('ninety-six', 74),\n",
       " ('pearsons', 72),\n",
       " ('li', 71),\n",
       " ('good-bye', 70)]"
      ]
     },
     "execution_count": 30,
     "metadata": {},
     "output_type": "execute_result"
    }
   ],
   "source": [
    "# %load shared_elements/top_errors.py\n",
    "errors_summary = GoH.reports.get_errors_summary( summary )\n",
    "GoH.reports.top_errors( errors_summary, 10 )[:50]"
   ]
  },
  {
   "cell_type": "markdown",
   "metadata": {},
   "source": [
    "## Correction 7 -- Rejoin Split Words II"
   ]
  },
  {
   "cell_type": "code",
   "execution_count": 31,
   "metadata": {
    "ExecuteTime": {
     "end_time": "2017-03-02T21:22:53.850269",
     "start_time": "2017-03-02T21:22:25.690695"
    },
    "collapsed": false
   },
   "outputs": [],
   "source": [
    "# %load shared_elements/rejoin_split_words.py\n",
    "prev = cycle\n",
    "cycle = \"correction7\"\n",
    "\n",
    "directories = GoH.utilities.define_directories(prev, cycle, base_dir)\n",
    "if not os.path.exists(directories['cycle']):\n",
    "    os.makedirs(directories['cycle'])\n",
    "\n",
    "corpus = (f for f in listdir(directories['prev']) if not f.startswith('.') and isfile(join(directories['prev'], f)))\n",
    "\n",
    "for filename in corpus:\n",
    "    content = GoH.utilities.readfile(directories['prev'], filename)\n",
    "    \n",
    "    text = re.sub(r\"[0-9,!?$:;&]\", \" \", content)\n",
    "    tokens = GoH.utilities.tokenize_text(text)\n",
    "    errors = GoH.reports.identify_errors(tokens, spelling_dictionary)\n",
    "\n",
    "    replacements = GoH.clean.check_if_stem(errors, spelling_dictionary, tokens, get_prior=True)\n",
    "    \n",
    "    if len(replacements) > 0:\n",
    "#         print('{}: {}'.format(filename, replacements))\n",
    "\n",
    "        for replacement in replacements:\n",
    "            content = GoH.clean.replace_split_words(replacement, content)\n",
    "    else:\n",
    "        pass\n",
    "\n",
    "    with open(join(directories['cycle'], filename), mode=\"w\") as o:\n",
    "        o.write(content)\n",
    "        o.close()"
   ]
  },
  {
   "cell_type": "code",
   "execution_count": 32,
   "metadata": {
    "ExecuteTime": {
     "end_time": "2017-03-02T21:23:02.259327",
     "start_time": "2017-03-02T21:22:53.852593"
    },
    "collapsed": false
   },
   "outputs": [
    {
     "name": "stdout",
     "output_type": "stream",
     "text": [
      "Directory: /Users/jeriwieringa/Dissertation/text/text/2017-01-31-corpus-with-utf8-split-into-titles-cleaning/LB/correction7\n",
      "\n",
      "Average verified rate: 0.9856858140213685\n",
      "\n",
      "Average of error rates: 0.023234227787716163\n",
      "\n",
      "Total token count: 5142451\n",
      "\n"
     ]
    },
    {
     "data": {
      "image/png": "[encoded data removed]",
      "text/plain": [
       "<matplotlib.figure.Figure at 0x116187e80>"
      ]
     },
     "metadata": {},
     "output_type": "display_data"
    }
   ],
   "source": [
    "# %load shared_elements/summary.py\n",
    "summary = GoH.reports.overview_report(directories['cycle'], spelling_dictionary, title)"
   ]
  },
  {
   "cell_type": "code",
   "execution_count": 33,
   "metadata": {
    "ExecuteTime": {
     "end_time": "2017-03-02T21:23:02.334744",
     "start_time": "2017-03-02T21:23:02.261466"
    },
    "collapsed": false
   },
   "outputs": [
    {
     "data": {
      "text/plain": [
       "[('m', 3593),\n",
       " ('e', 3408),\n",
       " ('d', 3287),\n",
       " (\"'\", 3226),\n",
       " ('w', 2715),\n",
       " ('t', 2056),\n",
       " ('n', 1693),\n",
       " ('r', 1397),\n",
       " ('x', 1280),\n",
       " ('f', 1247),\n",
       " ('g', 925),\n",
       " ('co', 837),\n",
       " (\"workingmen's\", 678),\n",
       " (\"prisoners'\", 585),\n",
       " ('k', 533),\n",
       " ('th', 458),\n",
       " ('oo', 387),\n",
       " ('soul-winning', 348),\n",
       " ('u', 307),\n",
       " ('hsi', 213),\n",
       " ('red-letter', 190),\n",
       " ('z', 167),\n",
       " ('halsted', 164),\n",
       " ('wm', 160),\n",
       " ('mo', 154),\n",
       " ('rd', 141),\n",
       " ('anti-cigarette', 138),\n",
       " ('pa', 136),\n",
       " ('oc', 133),\n",
       " ('ex', 112),\n",
       " ('ft', 102),\n",
       " ('broken-hearted', 101),\n",
       " ('q', 97),\n",
       " ('seven-jeweled', 96),\n",
       " ('harner', 91),\n",
       " ('-', 87),\n",
       " ('mcauley', 83),\n",
       " ('pp', 82),\n",
       " ('pavlson', 81),\n",
       " ('stapp', 80),\n",
       " ('ti', 79),\n",
       " ('al', 76),\n",
       " ('ky', 75),\n",
       " ('soulwinning', 74),\n",
       " ('ninety-six', 74),\n",
       " ('pearsons', 72),\n",
       " ('good-bye', 70),\n",
       " ('li', 70),\n",
       " ('heart-broken', 69),\n",
       " ('mt', 68)]"
      ]
     },
     "execution_count": 33,
     "metadata": {},
     "output_type": "execute_result"
    }
   ],
   "source": [
    "# %load shared_elements/top_errors.py\n",
    "errors_summary = GoH.reports.get_errors_summary( summary )\n",
    "GoH.reports.top_errors( errors_summary, 10 )[:50]"
   ]
  },
  {
   "cell_type": "markdown",
   "metadata": {},
   "source": [
    "## Review Remaining Errors"
   ]
  },
  {
   "cell_type": "code",
   "execution_count": 34,
   "metadata": {
    "ExecuteTime": {
     "end_time": "2017-03-02T21:23:02.379141",
     "start_time": "2017-03-02T21:23:02.336845"
    },
    "collapsed": false
   },
   "outputs": [
    {
     "data": {
      "text/plain": [
       "(['nittlitiltlitlitiltlitivtimmttim',\n",
       "  'ageorsisommewesseesomsemowirmarnannwireormow',\n",
       "  'tellwhenyoushippedthem',\n",
       "  '------------------------------------------------------------------------',\n",
       "  'foefbsomateanodnehawshomhisassedsuabnsycribed',\n",
       "  'inhganedhsmamaegatozianey',\n",
       "  'three-thousand-dollar',\n",
       "  'toanswerlettersofinquiryfromeven',\n",
       "  'hereweeseetheeseetheetherehe',\n",
       "  'ininillimilligilninminine',\n",
       "  'tarlgienrsegauniljeretaz',\n",
       "  'cutthisadvertisementoutandsendtous',\n",
       "  'afflivrtiiimorryamorwareswar',\n",
       "  'maiiiiiiiiiiiiimmolluminmitilluniiiinnuiliifntimma',\n",
       "  'emzerrialifkacesmlaiewn',\n",
       "  'miavvaiminompantoakinmainmavwvit',\n",
       "  'sionnuoioneenonomauevounownr',\n",
       "  'pthcaotuldhappentothereformeddrunkardis',\n",
       "  \"andwewillforwardyouabo'x\",\n",
       "  'friaresmririiftwayvbro',\n",
       "  'aosoilyreowswomozirmaanarrierionnewisresiwowzrowiwkrooisrowareci',\n",
       "  'esireetheresibeisietesereeefee',\n",
       "  'iiiiiiiiiiiiiiiiiiiiiiiiiiiiiiiii',\n",
       "  'atndaddmiirrattionfro',\n",
       "  'illustrationsaccompanying',\n",
       "  'hejeeemereeheeeeezieeeeiseie',\n",
       "  'timellmodoteetnih-enoffvaml',\n",
       "  'erismmipprwsimosiiminries',\n",
       "  'lininlemmemeelmlnliimmminmelnl',\n",
       "  'raftronweinwrovrawrivrtuf',\n",
       "  'rrelirmitrailtrecillarict',\n",
       "  'never-to-be-forgotten',\n",
       "  'aytintattintnirnfefliiatyai',\n",
       "  \"for'yaoursupbbscriptiotn\",\n",
       "  'attflisayfromttaitatwv',\n",
       "  'sleetbhreaigtheedsntegraedeilinestreumeeg',\n",
       "  'solidquartersawedoakdrop',\n",
       "  'eeestemeseeeeseeezemeem',\n",
       "  'givesainllustrateddescription',\n",
       "  'immiiimiiiiimiuminiiimi',\n",
       "  'intelligent-appearing',\n",
       "  'seventy-three-hundredths',\n",
       "  'saorfethoenceylnesbera',\n",
       "  'inkiemmimmitiamcminemissem',\n",
       "  'good-forwhat-ails-you',\n",
       "  'heereeemeeteheeheeeemeefeeeeeetee',\n",
       "  'mmisviumummssugratrat',\n",
       "  'eleven-thousand-dollar',\n",
       "  'imuusumnimmilmitsmmmigulnumommimmituimonnzmtimitimuimmillimmitnmmuntm',\n",
       "  'once-a-thief-always-one',\n",
       "  'agifivnifimmimmaiipaminvimpf',\n",
       "  'wfitevisvaviamasimmptamimark',\n",
       "  'classifiegarrangement',\n",
       "  'setsoforchestralroneesdonatorypipequalityreeds',\n",
       "  'iiiiiiiiiiiiiiiiiiiiii',\n",
       "  'oarzemwsrissovoivorwriteistar',\n",
       "  'biscuit-steak-waffles',\n",
       "  'ertrobfusgahnittsaraiunmtafroiuodmsff',\n",
       "  'tnaaawainaaaaapowaaaaaaaaaaaaaa',\n",
       "  'icittrittottvitammeatericitcbtv',\n",
       "  'orrocomneorwomoirdrosegl',\n",
       "  'doublethecirculationof',\n",
       "  'waimmiiamitzimmiummimminumtzaala',\n",
       "  'alsoallnecessarytools',\n",
       "  'alwowitowtomazaamisfotagcceicwomweigzerfavi',\n",
       "  'nartorysigrearliyrrionssiviairmrsorio',\n",
       "  'theynneeitihtherbecomelonesome',\n",
       "  'tailtailtritclimiairactlrairrinittiarigs',\n",
       "  \"don'tdelayyourorderadayour\",\n",
       "  '---------------------------------------------------------------------------',\n",
       "  'vszvosprwvxvovorsavrorsx',\n",
       "  'foronlytwonewsubscriptionswewillsend',\n",
       "  'tooliffeiratwooptionally',\n",
       "  'isienivailowrosenraneamireourowywe',\n",
       "  'typhoid-fever-infected',\n",
       "  'iiiiiiiiiiiiiiiiiiiiiiiiiiiiiiiiiiiiiiiiiiiiiiiiiiiiiiiiiiiiiiiiii',\n",
       "  'hygienically-prepared',\n",
       "  'inventsomesatisfactorysubstituteforthe',\n",
       "  'efeeireeeseeeefeemeeie',\n",
       "  'iiiiiiiiiiiiiiiiiiiiiialazil',\n",
       "  'iseeemeheiveheighibeeire',\n",
       "  'kaaallquilmsaaimsumsavamp',\n",
       "  'ouracmejewelandacmeprinceare',\n",
       "  'yeanilriatiesitlidtrivaricitaraclrricarignixlmactalretreic',\n",
       "  'raaawaiaaaaanammaaaaaawaaaaanynamaaaaaawaaaaaaaaaamanyvv',\n",
       "  'hiiihhaliiihilillihheeileilhillh',\n",
       "  'wheanndspweicsuelatniodnsieatihnice',\n",
       "  'miliiiiiiiiiiiilittiiimilinniniiiiiiiiiiimiiimiiiiiiiniiiiitiliittiltiiiiiiillnig',\n",
       "  'godsolovedtheworldthathe',\n",
       "  'thehinsdalesanitarium',\n",
       "  'yearshasbeenconnectedwiththeruralin',\n",
       "  'improvementassoonasprovidenceopensthe',\n",
       "  'ashrdigelviviphmeeinsiohrjrrtcleroatlitior',\n",
       "  'iiiiiiiiiiiiiiiilliliiiiiiiiil',\n",
       "  'ahrlitgosfrtymirmilpfwtre',\n",
       "  'cmwycaowiceciaaawakffieieriewasaw',\n",
       "  'iummuumammminiumnimmthimmumummmus',\n",
       "  'soul-and-bodydestroying',\n",
       "  'ittaattitaittlitgaqtlitlelltitt',\n",
       "  'wrootearmishorionacianowirwoor',\n",
       "  'paulson----businessmanager',\n",
       "  'filowstimdvalgaatietitoafbah',\n",
       "  'sanitariumbyeqsuciieppnecde',\n",
       "  'uminimmluuminummilmumstmutitttmmutmunitittatttuuumuutututtuutututtailm',\n",
       "  'physicallrighteousness',\n",
       "  'iseemeeseemesiemesseemeemin',\n",
       "  'theparlorgemactionwconiseisitasroef',\n",
       "  'efeakaegnarreilfilvbfrgip',\n",
       "  'fueirpnaitsehidepderame',\n",
       "  'iiiiiiiiiiiiiiiiiiiiiii',\n",
       "  'eeeeeeeehteeereeeeeeeeeeeej',\n",
       "  'fammininieriminimerrimieerief',\n",
       "  'iiiiiimmiiiiiimiffillinliiiiiiiiiiiiiiiiiiiiiimiiiii',\n",
       "  'iiiiiiiiiiiupinllnlpllpnn',\n",
       "  \"p'aftllerawleios'vfia\",\n",
       "  'agrormsecoserosnowrzoire',\n",
       "  'wetrdamvedsweetesttoned',\n",
       "  'tictleammeramssicticommyemmarommramemy',\n",
       "  'jrjppppileirwrirwriargfmrrezej',\n",
       "  'iiiiiiiiiiiiiiiiiiiiiiiiiiiii',\n",
       "  'eizeimeieheeeeiberrreireherefereees',\n",
       "  'butthelordjesuschristiswithmeanaldie',\n",
       "  'grfoamlfrottrottromivmposrommoraittogi',\n",
       "  'lerigeargalfieloawilmefazinainefizwzmnruca',\n",
       "  'emsceesnmeemesesestroeseso',\n",
       "  'zamamammmmmfkgaamwmavaa',\n",
       "  'yareardinweimpropraisrpors',\n",
       "  'ortmortmacstmartancsareme',\n",
       "  'boatatfiftycentseachwoneewillo',\n",
       "  'rozromwasiusurnacomprosorwasimmoommr',\n",
       "  'iiiiiimiiiiiiiimannamilii',\n",
       "  'wawaffsagfayfansamamamapfiag',\n",
       "  \"toresublasrcrsiubbesrcsritpotigonooprdiche'e\",\n",
       "  'umummummumumummumminnummumn',\n",
       "  'hundred-thousand-dollar-a-year',\n",
       "  'alphabetical-arrangement',\n",
       "  'vvvvvvvvvvvvvvvvvvvvvvvvvvvv',\n",
       "  'gneelinnowseesareereareare',\n",
       "  'andbolidisytriuneatilvl',\n",
       "  'reiarozownnellimmoldnfroseoz',\n",
       "  'calleirkildahbwasiloin',\n",
       "  'huiltlurstarationshown',\n",
       "  'frrrrrrrierrrfferrirfrfirrfrwieieeteieeei',\n",
       "  'christiarpanumarmanao',\n",
       "  'whimmiiiiiimimmummiiiiiimmimiiiiiiiiiiiiiiiimimmimiminie',\n",
       "  'eiseeteeemberieseetee',\n",
       "  'grariggagrowgnaleganarretagii',\n",
       "  'firnirmirmwririmenjesi',\n",
       "  'ouracmejewelandacmeprinceat',\n",
       "  'inlininemineinininminemiliminemmemeignmle',\n",
       "  'ltraltradtri-kawidommysiltactrigimirsilbaltrim',\n",
       "  'isieheeseefeemeimemeemej',\n",
       "  'featilowcwackacmirgieret',\n",
       "  'donsenlaiibreifdistarrleing',\n",
       "  'finvinittnrtrittintro',\n",
       "  'mnviirialimmarinoinmorewsrell',\n",
       "  'batesorfadverrtisning',\n",
       "  'theseyearsthisnoblechristian',\n",
       "  'theillustrationsbeingoneofmr',\n",
       "  'imimininpupwimilinmiamimpsvipapvlimmiimmilammilwaimmium',\n",
       "  'eemeremeemereethemeeeem',\n",
       "  'inivaimimapavapmimpatalylt',\n",
       "  'toborrowseveralthousanddollarsinsums',\n",
       "  'iminnimumminumnimminemeir',\n",
       "  'pirimpipripplispgaliarimmairrompssmstiaffierssargsisorwraimrs',\n",
       "  'hasnialrebildsnigriettol',\n",
       "  'blistagitiommawyamaparm',\n",
       "  'mummuummumummummummummummummummummummumnumummummung',\n",
       "  'meyeasdailyandfinditineverywaysatisfactory',\n",
       "  'aweiewietzawmnewlwpmfakw',\n",
       "  'ouracmejewelandacmeprince',\n",
       "  'thisisthebestpremiumcameveroffered',\n",
       "  'sesseommemwommeseemsesessommoomosemmeoposeoesseosimies',\n",
       "  'stmmommmustmtwomputvp',\n",
       "  'woraimarvarrifireatemanr',\n",
       "  'fifeeineeeieereeemsor',\n",
       "  'mniamimmlimummiainimmvittp',\n",
       "  'rnnmunnmunnmmnnnmmmumnmmmmmunmmr',\n",
       "  'memevomnewevawnwcawanikaliti',\n",
       "  'turning-out-the-light',\n",
       "  'sanitariumbyeqsuciiepnpecde',\n",
       "  'imunummutmonnutenummiswitunimmums',\n",
       "  'ewmaswasenimoweourawmereariwzromejtc',\n",
       "  'thenilesbryantschoolofpianotuning',\n",
       "  'trisltradrailtriariatial',\n",
       "  'ooooooooooooooooooooo',\n",
       "  'ozooalwargroserorrootoorer',\n",
       "  'eirillelzlelzaztazyuciz',\n",
       "  'worthylaborofloveinyourwill',\n",
       "  'anatomico-pathological',\n",
       "  'walvandociniperzvaedie',\n",
       "  'pennsylvania-delaware',\n",
       "  'mtmadaetnouafalitcoesreawho',\n",
       "  \"mountaineer'sfamilyreunion\",\n",
       "  'twenty-nine-million-dollar',\n",
       "  \"don'tdelayyourorderadayourspecial\",\n",
       "  'rimmumnummumummummumummuummumummummuumummuumummuumuma',\n",
       "  'souland-body-destroying',\n",
       "  'cirgeirgewmceffaceirtzamoinwi',\n",
       "  'mammmawmimpananwiwairaanyarwawawainmwaphwnahwomiwawa',\n",
       "  \"hudsontaylor'sthrillingmissionarybook\",\n",
       "  'iiiiiiiiiiiiiiiiiiiiiiiiiii',\n",
       "  \"thisisthebestpremium'weeveroffered\",\n",
       "  'owicozeicivioewevoeizwcwigiccoatkiowavn',\n",
       "  'eversmokedacigarette-withoutbeing',\n",
       "  'air-eiazargslrzzrayakiwzdelrimwir',\n",
       "  'gotimulliiiiiiiiiiiiiii',\n",
       "  'heat-and-energy-producing',\n",
       "  'atltlregtrallivallties',\n",
       "  'iiiiiiiiiiiiiiiiiiiiiiiiii',\n",
       "  'hiesebeeeseeeheisieszeiseheem',\n",
       "  'obwicnyenlameplateatodaouble',\n",
       "  'beenntstillsalfgritiqtridisbili',\n",
       "  'zismovvitttottittintsal',\n",
       "  'believethinhimshouldnotperish',\n",
       "  'steieicvkvpfiggmffsfvkkvwmekzokvkvwsnnnlz'],\n",
       " 20)"
      ]
     },
     "execution_count": 34,
     "metadata": {},
     "output_type": "execute_result"
    }
   ],
   "source": [
    "GoH.reports.long_errors(errors_summary, min_length=20)"
   ]
  },
  {
   "cell_type": "code",
   "execution_count": 35,
   "metadata": {
    "ExecuteTime": {
     "end_time": "2017-03-02T21:23:02.439794",
     "start_time": "2017-03-02T21:23:02.380972"
    },
    "collapsed": false
   },
   "outputs": [
    {
     "data": {
      "text/plain": [
       "[('LB19200201-V23-02-page36.txt', 0.889),\n",
       " ('LB19200601-V23-06-page36.txt', 0.81),\n",
       " ('LB19070101-V10-01-page2.txt', 0.75),\n",
       " ('LB19190401-V22-04-page14.txt', 0.733),\n",
       " ('LB19071101-V10-11-page2.txt', 0.684),\n",
       " ('LB19071001-V10-10-page1.txt', 0.676),\n",
       " ('LB19040101-V07-01-page1.txt', 0.667),\n",
       " ('LB19040401-V07-04-page2.txt', 0.656),\n",
       " ('LB19030601-V06-06-page2.txt', 0.6),\n",
       " ('LB19000801-V03-06-page2.txt', 0.583),\n",
       " ('LB19070801-V10-08-page2.txt', 0.571),\n",
       " ('LB19101001-V13-10-page2.txt', 0.545),\n",
       " ('LB19020401-V05-04-page14.txt', 0.5),\n",
       " ('LB19121201-V15-12-page16.txt', 0.5),\n",
       " ('LB19050601-V08-06-page21.txt', 0.5),\n",
       " ('LB19020401-V05-04-page6.txt', 0.5),\n",
       " ('LB19010401-V04-02-page2.txt', 0.5),\n",
       " ('LB19020801-V05-08-page36.txt', 0.467),\n",
       " ('LB19120501-V15-05-page2.txt', 0.466),\n",
       " ('LB19190701-V22-07-page4.txt', 0.464),\n",
       " ('LB19070701-V10-07-page2.txt', 0.462),\n",
       " ('LB19021001-V05-10-page36.txt', 0.449),\n",
       " ('LB19030101-V06-01-page1.txt', 0.444),\n",
       " ('LB19101201-V13-12-page2.txt', 0.444),\n",
       " ('LB19020901-V05-09-page28.txt', 0.435),\n",
       " ('LB19080601-V11-06-page1.txt', 0.433),\n",
       " ('LB19050701-V08-07-page1.txt', 0.424),\n",
       " ('LB19010301-V04-01-page2.txt', 0.421),\n",
       " ('LB19181101-V21-11-page2.txt', 0.42),\n",
       " ('LB19041001-V07-10-page31.txt', 0.416),\n",
       " ('LB19070301-V10-03-page25.txt', 0.409),\n",
       " ('LB19050801-V08-08-page1.txt', 0.407),\n",
       " ('LB19020701-V05-07-page28.txt', 0.385),\n",
       " ('LB19041101-V07-11-page7.txt', 0.384),\n",
       " ('LB19070501-V10-05-page16.txt', 0.364),\n",
       " ('LB19151101-V18-11-page10.txt', 0.36),\n",
       " ('LB19060601-V09-06-page1.txt', 0.355),\n",
       " ('LB19030901-V06-09-page1.txt', 0.355),\n",
       " ('LB19061001-V09-10-page1.txt', 0.345),\n",
       " ('LB19050501-V08-05-page2.txt', 0.343),\n",
       " ('LB19181001-V21-10-page2.txt', 0.335),\n",
       " ('LB19191001-V22-10-page2.txt', 0.335),\n",
       " ('LB19200801-V23-08-page1.txt', 0.333),\n",
       " ('LB19070501-V10-05-page2.txt', 0.333),\n",
       " ('LB19050401-V08-04-page1.txt', 0.333),\n",
       " ('LB19060501-V09-05-page13.txt', 0.333),\n",
       " ('LB19040801-V07-08-page1.txt', 0.333),\n",
       " ('LB19010501-V04-03-page2.txt', 0.333),\n",
       " ('LB19050901-V08-09-page1.txt', 0.333),\n",
       " ('LB19020801-V05-08-page33.txt', 0.332),\n",
       " ('LB19030201-V06-02-page1.txt', 0.325),\n",
       " ('LB19040601-V07-06-page1.txt', 0.323),\n",
       " ('LB19040301-V07-03-page1.txt', 0.321),\n",
       " ('LB19060801-V09-08-page1.txt', 0.312),\n",
       " ('LB19060501-V09-05-page1.txt', 0.31),\n",
       " ('LB19200701-V23-07-page2.txt', 0.31),\n",
       " ('LB19121101-V15-11-page7.txt', 0.308),\n",
       " ('LB19040301-V07-03-page2.txt', 0.304),\n",
       " ('LB19000501-V03-03-page28.txt', 0.299),\n",
       " ('LB19040901-V07-09-page1.txt', 0.296),\n",
       " ('LB19180201-V21-02-page18.txt', 0.294),\n",
       " ('LB19050601-V08-06-page1.txt', 0.29),\n",
       " ('LB19000701-V03-05-page32.txt', 0.288),\n",
       " ('LB19060301-V09-03-page1.txt', 0.286),\n",
       " ('LB19001101-V03-09-page2.txt', 0.286),\n",
       " ('LB19031201-V06-12-page1.txt', 0.286),\n",
       " ('LB19081201-V11-12-page1.txt', 0.286),\n",
       " ('LB19060201-V09-02-page1.txt', 0.286),\n",
       " ('LB19030401-V06-04-page16.txt', 0.286),\n",
       " ('LB19050101-V08-01-page1.txt', 0.286),\n",
       " ('LB19060701-V09-07-page1.txt', 0.281),\n",
       " ('LB19051201-V08-12-page1.txt', 0.281),\n",
       " ('LB19051101-V08-11-page1.txt', 0.28),\n",
       " ('LB19030401-V06-04-page1.txt', 0.278),\n",
       " ('LB19090201-V12-02-page14.txt', 0.273),\n",
       " ('LB19051001-V08-10-page1.txt', 0.273),\n",
       " ('LB19010501-V04-03-page17.txt', 0.271),\n",
       " ('LB19050201-V08-02-page1.txt', 0.269),\n",
       " ('LB19041201-V07-12-page1.txt', 0.269),\n",
       " ('LB19030601-V06-06-page1.txt', 0.267),\n",
       " ('LB19190801-V22-08-page2.txt', 0.267),\n",
       " ('LB19080501-V11-05-page1.txt', 0.267),\n",
       " ('LB19041001-V07-10-page1.txt', 0.265),\n",
       " ('LB19080501-V11-05-page2.txt', 0.258),\n",
       " ('LB19060401-V09-04-page1.txt', 0.258),\n",
       " ('LB19071201-V10-12-page1.txt', 0.257),\n",
       " ('LB19010801-V04-06-page2.txt', 0.256),\n",
       " ('LB19040201-V07-02-page2.txt', 0.255),\n",
       " ('LB19010901-V04-07-page2.txt', 0.253),\n",
       " ('LB19021201-V05-12-page8.txt', 0.25),\n",
       " ('LB19000601-V03-04-page32.txt', 0.25),\n",
       " ('LB19010401-V04-02-page4.txt', 0.25),\n",
       " ('LB19030801-V06-08-page1.txt', 0.25),\n",
       " ('LB19061101-V09-11-page1.txt', 0.25),\n",
       " ('LB19031001-V06-10-page1.txt', 0.25),\n",
       " ('LB19060201-V09-02-page7.txt', 0.25),\n",
       " ('LB19041101-V07-11-page1.txt', 0.25),\n",
       " ('LB19080101-V11-01-page1.txt', 0.25),\n",
       " ('LB19060901-V09-09-page1.txt', 0.25),\n",
       " ('LB19040301-V07-03-page36.txt', 0.241),\n",
       " ('LB19040401-V07-04-page1.txt', 0.24),\n",
       " ('LB19020401-V05-04-page1.txt', 0.238),\n",
       " ('LB19140201-V17-02-page18.txt', 0.238),\n",
       " ('LB19151101-V18-11-page2.txt', 0.237),\n",
       " ('LB19030601-V06-06-page32.txt', 0.236),\n",
       " ('LB19031101-V06-11-page2.txt', 0.235),\n",
       " ('LB19090401-V12-04-page1.txt', 0.231),\n",
       " ('LB19010101-V03-11-page2.txt', 0.231),\n",
       " ('LB19040201-V07-02-page1.txt', 0.227),\n",
       " ('LB19031101-V06-11-page1.txt', 0.227),\n",
       " ('LB19070901-V10-09-page1.txt', 0.226),\n",
       " ('LB19000401-V03-02-page21.txt', 0.224),\n",
       " ('LB19180401-V21-04-page2.txt', 0.224),\n",
       " ('LB19090801-V12-08-page1.txt', 0.222),\n",
       " ('LB19200301-V23-03-page1.txt', 0.222),\n",
       " ('LB19090701-V12-07-page1.txt', 0.222),\n",
       " ('LB19191201-V22-12-page1.txt', 0.218),\n",
       " ('LB19030301-V06-03-page2.txt', 0.218),\n",
       " ('LB19041001-V07-10-page34.txt', 0.217),\n",
       " ('LB19090201-V12-02-page1.txt', 0.216),\n",
       " ('LB19040201-V07-02-page36.txt', 0.214),\n",
       " ('LB19000301-V03-01-page14.txt', 0.213),\n",
       " ('LB19140101-V17-01-page2.txt', 0.212),\n",
       " ('LB19010301-V04-01-page1.txt', 0.211),\n",
       " ('LB19020501-V05-05-page25.txt', 0.209),\n",
       " ('LB19041201-V07-12-page2.txt', 0.208),\n",
       " ('LB19000101-V02-11-page20.txt', 0.208),\n",
       " ('LB19010301-V04-01-page17.txt', 0.207),\n",
       " ('LB19070201-V10-02-page1.txt', 0.207),\n",
       " ('LB19070501-V10-05-page1.txt', 0.207),\n",
       " ('LB19080401-V11-04-page1.txt', 0.206),\n",
       " ('LB19090901-V12-09-page1.txt', 0.206),\n",
       " ('LB19080201-V11-02-page1.txt', 0.206)]"
      ]
     },
     "execution_count": 35,
     "metadata": {},
     "output_type": "execute_result"
    }
   ],
   "source": [
    "GoH.reports.docs_with_high_error_rate(summary)"
   ]
  },
  {
   "cell_type": "code",
   "execution_count": 36,
   "metadata": {
    "ExecuteTime": {
     "end_time": "2017-03-02T21:23:02.491512",
     "start_time": "2017-03-02T21:23:02.441826"
    },
    "collapsed": false
   },
   "outputs": [],
   "source": [
    "# %load shared_elements/high_error_rates.py\n",
    "doc_keys = [x[0] for x in GoH.reports.docs_with_high_error_rate(summary) if x[1] > 0.4]\n",
    "\n",
    "# GoH.utilities.open_original_docs(doc_keys, directories['cycle'])"
   ]
  },
  {
   "cell_type": "markdown",
   "metadata": {},
   "source": [
    "High error documents are image pages, many of which were scanned upside-down and are uncorrectable algorithmically. "
   ]
  },
  {
   "cell_type": "markdown",
   "metadata": {
    "collapsed": true
   },
   "source": [
    "## Correction 8 -- Remove long errors"
   ]
  },
  {
   "cell_type": "code",
   "execution_count": 37,
   "metadata": {
    "ExecuteTime": {
     "end_time": "2017-03-02T21:23:11.699403",
     "start_time": "2017-03-02T21:23:02.493467"
    },
    "collapsed": true
   },
   "outputs": [],
   "source": [
    "# %load shared_elements/remove-tokens-with-long-strings-of-characters.py\n",
    "prev = cycle\n",
    "cycle = \"correction8\"\n",
    "\n",
    "directories = GoH.utilities.define_directories(prev, cycle, base_dir)\n",
    "if not os.path.exists(directories['cycle']):\n",
    "    os.makedirs(directories['cycle'])\n",
    "\n",
    "corpus = (f for f in listdir(directories['prev']) if not f.startswith('.') and isfile(join(directories['prev'], f)))\n",
    "\n",
    "for filename in corpus:\n",
    "    content = GoH.utilities.readfile(directories['prev'], filename)\n",
    "\n",
    "    text = re.sub(r\"[0-9,!?$:;&]\", \" \", content)\n",
    "    tokens = GoH.utilities.tokenize_text(text)\n",
    "    \n",
    "    replacements = []\n",
    "    replacements.append(GoH.clean.check_for_repeating_characters(tokens, \"m|M\"))\n",
    "    replacements.append(GoH.clean.check_for_repeating_characters(tokens, \"i|I\"))\n",
    "    replacements.append(GoH.clean.check_for_repeating_characters(tokens, \"s|S\"))\n",
    "    replacements.append(GoH.clean.check_for_repeating_characters(tokens, \"o|O\"))\n",
    "    replacements.append(GoH.clean.check_for_repeating_characters(tokens, \"e|E\"))\n",
    "    \n",
    "    replacements = [item for sublist in replacements for item in sublist]\n",
    "            \n",
    "    if len(replacements) > 0:\n",
    "#         print('{}: {}'.format(filename, replacements))\n",
    "\n",
    "        for replacement in replacements:\n",
    "            content = GoH.clean.replace_pair(replacement, content)\n",
    "    else:\n",
    "        pass\n",
    "    \n",
    "    with open(join(directories['cycle'], filename), mode=\"w\") as o:\n",
    "        o.write(content)\n",
    "        o.close()"
   ]
  },
  {
   "cell_type": "code",
   "execution_count": 38,
   "metadata": {
    "ExecuteTime": {
     "end_time": "2017-03-02T21:23:19.433691",
     "start_time": "2017-03-02T21:23:11.701405"
    },
    "collapsed": false
   },
   "outputs": [
    {
     "name": "stdout",
     "output_type": "stream",
     "text": [
      "Directory: /Users/jeriwieringa/Dissertation/text/text/2017-01-31-corpus-with-utf8-split-into-titles-cleaning/LB/correction8\n",
      "\n",
      "Average verified rate: 0.9857011567031103\n",
      "\n",
      "Average of error rates: 0.02319988073941563\n",
      "\n",
      "Total token count: 5142374\n",
      "\n"
     ]
    },
    {
     "data": {
      "image/png": "[encoded data removed]",
      "text/plain": [
       "<matplotlib.figure.Figure at 0x118115e10>"
      ]
     },
     "metadata": {},
     "output_type": "display_data"
    }
   ],
   "source": [
    "# %load shared_elements/summary.py\n",
    "summary = GoH.reports.overview_report(directories['cycle'], spelling_dictionary, title)"
   ]
  },
  {
   "cell_type": "code",
   "execution_count": 39,
   "metadata": {
    "ExecuteTime": {
     "end_time": "2017-03-02T21:23:19.508645",
     "start_time": "2017-03-02T21:23:19.435406"
    },
    "collapsed": false
   },
   "outputs": [
    {
     "data": {
      "text/plain": [
       "[('m', 3593),\n",
       " ('e', 3408),\n",
       " ('d', 3287),\n",
       " (\"'\", 3226),\n",
       " ('w', 2715),\n",
       " ('t', 2056),\n",
       " ('n', 1693),\n",
       " ('r', 1397),\n",
       " ('x', 1280),\n",
       " ('f', 1247),\n",
       " ('g', 925),\n",
       " ('co', 837),\n",
       " (\"workingmen's\", 678),\n",
       " (\"prisoners'\", 585),\n",
       " ('k', 533),\n",
       " ('th', 458),\n",
       " ('oo', 387),\n",
       " ('soul-winning', 348),\n",
       " ('u', 307),\n",
       " ('hsi', 213),\n",
       " ('red-letter', 190),\n",
       " ('z', 167),\n",
       " ('halsted', 164),\n",
       " ('wm', 160),\n",
       " ('mo', 154),\n",
       " ('rd', 141),\n",
       " ('anti-cigarette', 138),\n",
       " ('pa', 136),\n",
       " ('oc', 133),\n",
       " ('ex', 112),\n",
       " ('ft', 102),\n",
       " ('broken-hearted', 101),\n",
       " ('q', 97),\n",
       " ('seven-jeweled', 96),\n",
       " ('harner', 91),\n",
       " ('-', 87),\n",
       " ('mcauley', 83),\n",
       " ('pp', 82),\n",
       " ('pavlson', 81),\n",
       " ('stapp', 80),\n",
       " ('ti', 79),\n",
       " ('al', 76),\n",
       " ('ky', 75),\n",
       " ('soulwinning', 74),\n",
       " ('ninety-six', 74),\n",
       " ('pearsons', 72),\n",
       " ('good-bye', 70),\n",
       " ('li', 70),\n",
       " ('heart-broken', 69),\n",
       " ('mt', 68)]"
      ]
     },
     "execution_count": 39,
     "metadata": {},
     "output_type": "execute_result"
    }
   ],
   "source": [
    "# %load shared_elements/top_errors.py\n",
    "errors_summary = GoH.reports.get_errors_summary( summary )\n",
    "GoH.reports.top_errors( errors_summary, 10 )[:50]"
   ]
  },
  {
   "cell_type": "markdown",
   "metadata": {},
   "source": [
    "## Correction 9 -- Separate Squashed Words"
   ]
  },
  {
   "cell_type": "code",
   "execution_count": 40,
   "metadata": {
    "ExecuteTime": {
     "end_time": "2017-03-02T21:23:35.314786",
     "start_time": "2017-03-02T21:23:19.510722"
    },
    "collapsed": true
   },
   "outputs": [],
   "source": [
    "# %load shared_elements/separate_squashed_words.py\n",
    "import pandas as pd\n",
    "from math import log\n",
    "\n",
    "prev = cycle\n",
    "cycle = \"correction9\"\n",
    "\n",
    "directories = GoH.utilities.define_directories(prev, cycle, base_dir)\n",
    "if not os.path.exists(directories['cycle']):\n",
    "    os.makedirs(directories['cycle'])\n",
    "\n",
    "corpus = (f for f in listdir(directories['prev']) if not f.startswith('.') and isfile(join(directories['prev'], f)))\n",
    "\n",
    "verified_tokens = []\n",
    "\n",
    "for filename in corpus:  \n",
    "    content = GoH.utilities.readfile(directories['prev'], filename)\n",
    "    GoH.normalize.get_approved_tokens(content, spelling_dictionary, verified_tokens)\n",
    "\n",
    "tokens_with_freq = dict(collections.Counter(verified_tokens))\n",
    "words = pd.DataFrame(list(tokens_with_freq.items()), columns=['token','freq'])\n",
    "words_sorted = words.sort_values('freq', ascending=False)\n",
    "words_sorted_short = words_sorted[words_sorted.freq > 2]\n",
    "\n",
    "sorted_list_of_words = list(words_sorted_short['token'])\n",
    "\n",
    "wordcost = dict((k, log((i+1)*log(len(sorted_list_of_words)))) for i,k in enumerate(sorted_list_of_words))\n",
    "maxword = max(len(x) for x in sorted_list_of_words)\n",
    "\n",
    "corpus = (f for f in listdir(directories['prev']) if not f.startswith('.') and isfile(join(directories['prev'], f)))\n",
    "\n",
    "for filename in corpus:\n",
    "    content = GoH.utilities.readfile(directories['prev'], filename)\n",
    "\n",
    "    text = GoH.utilities.strip_punct(content)\n",
    "    tokens = GoH.utilities.tokenize_text(text)\n",
    "    \n",
    "    replacements = []\n",
    "    \n",
    "    for token in tokens:\n",
    "        if not token.lower() in spelling_dictionary:\n",
    "            if len(token) > 17:\n",
    "                if re.search(r\"[\\-\\-\\'\\\"]\", token):\n",
    "                    pass\n",
    "                else:\n",
    "                    split_string = GoH.normalize.infer_spaces(token, wordcost, maxword)\n",
    "                    list_split_string = split_string.split()\n",
    "                    \n",
    "                    if GoH.normalize.verify_split_string(list_split_string, spelling_dictionary):\n",
    "                        replacements.append((token, split_string))\n",
    "                    else:\n",
    "                        pass\n",
    "            else:\n",
    "                pass\n",
    "        else:\n",
    "            pass\n",
    "        \n",
    "    if len(replacements) > 0:\n",
    "        print(\"{}: {}\".format(filename, replacements))\n",
    "        \n",
    "        for replacement in replacements:\n",
    "            content = GoH.clean.replace_pair(replacement, content)\n",
    "    \n",
    "    else:\n",
    "        pass\n",
    "\n",
    "    with open(join(directories['cycle'], filename), mode=\"w\") as o:\n",
    "        o.write(content)\n",
    "        o.close()"
   ]
  },
  {
   "cell_type": "code",
   "execution_count": 41,
   "metadata": {
    "ExecuteTime": {
     "end_time": "2017-03-02T21:23:42.955414",
     "start_time": "2017-03-02T21:23:35.316697"
    },
    "collapsed": false
   },
   "outputs": [
    {
     "name": "stdout",
     "output_type": "stream",
     "text": [
      "Directory: /Users/jeriwieringa/Dissertation/text/text/2017-01-31-corpus-with-utf8-split-into-titles-cleaning/LB/correction9\n",
      "\n",
      "Average verified rate: 0.9857117078086152\n",
      "\n",
      "Average of error rates: 0.023180083482409065\n",
      "\n",
      "Total token count: 5142602\n",
      "\n"
     ]
    },
    {
     "data": {
      "image/png": "[encoded data removed]",
      "text/plain": [
       "<matplotlib.figure.Figure at 0x12cb75a58>"
      ]
     },
     "metadata": {},
     "output_type": "display_data"
    }
   ],
   "source": [
    "# %load shared_elements/summary.py\n",
    "summary = GoH.reports.overview_report(directories['cycle'], spelling_dictionary, title)"
   ]
  },
  {
   "cell_type": "code",
   "execution_count": 42,
   "metadata": {
    "ExecuteTime": {
     "end_time": "2017-03-02T21:23:43.037144",
     "start_time": "2017-03-02T21:23:42.957808"
    },
    "collapsed": false
   },
   "outputs": [
    {
     "data": {
      "text/plain": [
       "[('m', 3593),\n",
       " ('e', 3412),\n",
       " ('d', 3287),\n",
       " (\"'\", 3226),\n",
       " ('w', 2717),\n",
       " ('t', 2057),\n",
       " ('n', 1694),\n",
       " ('r', 1398),\n",
       " ('x', 1280),\n",
       " ('f', 1248),\n",
       " ('g', 925),\n",
       " ('co', 837),\n",
       " (\"workingmen's\", 678),\n",
       " (\"prisoners'\", 585),\n",
       " ('k', 533),\n",
       " ('th', 458),\n",
       " ('oo', 387),\n",
       " ('soul-winning', 348),\n",
       " ('u', 307),\n",
       " ('hsi', 213),\n",
       " ('red-letter', 190),\n",
       " ('z', 167),\n",
       " ('halsted', 164),\n",
       " ('wm', 160),\n",
       " ('mo', 154),\n",
       " ('rd', 141),\n",
       " ('anti-cigarette', 138),\n",
       " ('pa', 136),\n",
       " ('oc', 133),\n",
       " ('ex', 112),\n",
       " ('ft', 102),\n",
       " ('broken-hearted', 101),\n",
       " ('q', 97),\n",
       " ('seven-jeweled', 96),\n",
       " ('harner', 91),\n",
       " ('-', 87),\n",
       " ('mcauley', 83),\n",
       " ('pp', 82),\n",
       " ('pavlson', 81),\n",
       " ('stapp', 80),\n",
       " ('ti', 79),\n",
       " ('al', 76),\n",
       " ('ky', 75),\n",
       " ('soulwinning', 74),\n",
       " ('ninety-six', 74),\n",
       " ('pearsons', 72),\n",
       " ('good-bye', 70),\n",
       " ('li', 70),\n",
       " ('heart-broken', 69),\n",
       " ('mt', 68)]"
      ]
     },
     "execution_count": 42,
     "metadata": {},
     "output_type": "execute_result"
    }
   ],
   "source": [
    "# %load shared_elements/top_errors.py\n",
    "errors_summary = GoH.reports.get_errors_summary( summary )\n",
    "GoH.reports.top_errors( errors_summary, 10 )[:50]"
   ]
  },
  {
   "cell_type": "code",
   "execution_count": null,
   "metadata": {
    "collapsed": true
   },
   "outputs": [],
   "source": []
  }
 ],
 "metadata": {
  "anaconda-cloud": {},
  "kernelspec": {
   "display_name": "Python [conda env:dissertation2]",
   "language": "python",
   "name": "conda-env-dissertation2-py"
  },
  "language_info": {
   "codemirror_mode": {
    "name": "ipython",
    "version": 3
   },
   "file_extension": ".py",
   "mimetype": "text/x-python",
   "name": "python",
   "nbconvert_exporter": "python",
   "pygments_lexer": "ipython3",
   "version": "3.5.2"
  }
 },
 "nbformat": 4,
 "nbformat_minor": 2
}
