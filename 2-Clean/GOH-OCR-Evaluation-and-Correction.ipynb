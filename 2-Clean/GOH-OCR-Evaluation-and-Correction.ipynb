{
 "cells": [
  {
   "cell_type": "code",
   "execution_count": 1,
   "metadata": {
    "ExecuteTime": {
     "end_time": "2017-03-02T22:09:48.673573",
     "start_time": "2017-03-02T22:09:48.648213"
    },
    "collapsed": true
   },
   "outputs": [],
   "source": [
    "%load_ext autoreload"
   ]
  },
  {
   "cell_type": "code",
   "execution_count": 2,
   "metadata": {
    "ExecuteTime": {
     "end_time": "2017-03-02T22:09:48.678764",
     "start_time": "2017-03-02T22:09:48.675355"
    },
    "collapsed": true
   },
   "outputs": [],
   "source": [
    "%autoreload 2"
   ]
  },
  {
   "cell_type": "code",
   "execution_count": 3,
   "metadata": {
    "ExecuteTime": {
     "end_time": "2017-03-02T22:09:51.085675",
     "start_time": "2017-03-02T22:09:48.680768"
    },
    "collapsed": false
   },
   "outputs": [],
   "source": [
    "import GoH.reports\n",
    "import GoH.utilities\n",
    "import GoH.clean\n",
    "import GoH.normalize\n",
    "import re\n",
    "import os\n",
    "from os import listdir\n",
    "from os.path import isfile, join\n",
    "import collections"
   ]
  },
  {
   "cell_type": "code",
   "execution_count": 4,
   "metadata": {
    "ExecuteTime": {
     "end_time": "2017-03-02T22:09:51.127723",
     "start_time": "2017-03-02T22:09:51.087472"
    },
    "collapsed": true
   },
   "outputs": [],
   "source": [
    "%matplotlib inline"
   ]
  },
  {
   "cell_type": "code",
   "execution_count": 5,
   "metadata": {
    "ExecuteTime": {
     "end_time": "2017-03-02T22:09:51.164712",
     "start_time": "2017-03-02T22:09:51.129906"
    },
    "collapsed": true
   },
   "outputs": [],
   "source": [
    "wordlist_dir = \"/Users/jeriwieringa/Dissertation/drafts/data/word-lists\"\n",
    "wordlists = [\"2016-12-07-SDA-last-names.txt\", \n",
    "             \"2016-12-07-SDA-place-names.txt\", \n",
    "             \"2016-12-08-SDA-Vocabulary.txt\", \n",
    "             \"2017-01-03-place-names.txt\", \n",
    "             \"2017-02-14-Base-Word-List-SCOWL&KJV.txt\",\n",
    "             \"2017-02-14-Roman-Numerals.txt\",\n",
    "             \"2017-03-01-Additional-Approved-Words.txt\"\n",
    "            ]"
   ]
  },
  {
   "cell_type": "code",
   "execution_count": 6,
   "metadata": {
    "ExecuteTime": {
     "end_time": "2017-03-02T22:09:51.358412",
     "start_time": "2017-03-02T22:09:51.166874"
    },
    "collapsed": true
   },
   "outputs": [],
   "source": [
    "spelling_dictionary = GoH.utilities.create_spelling_dictionary(wordlists, wordlist_dir)"
   ]
  },
  {
   "cell_type": "code",
   "execution_count": 7,
   "metadata": {
    "ExecuteTime": {
     "end_time": "2017-03-02T22:09:51.397018",
     "start_time": "2017-03-02T22:09:51.360257"
    },
    "collapsed": true
   },
   "outputs": [],
   "source": [
    "title = \"GOH\""
   ]
  },
  {
   "cell_type": "code",
   "execution_count": 8,
   "metadata": {
    "ExecuteTime": {
     "end_time": "2017-03-02T22:09:51.432395",
     "start_time": "2017-03-02T22:09:51.399129"
    },
    "collapsed": true
   },
   "outputs": [],
   "source": [
    "base_dir = \"/Users/jeriwieringa/Dissertation/text/text/2017-01-31-corpus-with-utf8-split-into-titles-cleaning/{}/\".format(title)"
   ]
  },
  {
   "cell_type": "markdown",
   "metadata": {},
   "source": [
    "## Baseline"
   ]
  },
  {
   "cell_type": "code",
   "execution_count": 9,
   "metadata": {
    "ExecuteTime": {
     "end_time": "2017-03-02T22:09:51.472450",
     "start_time": "2017-03-02T22:09:51.434166"
    },
    "collapsed": true
   },
   "outputs": [],
   "source": [
    "cycle = 'baseline'"
   ]
  },
  {
   "cell_type": "code",
   "execution_count": 10,
   "metadata": {
    "ExecuteTime": {
     "end_time": "2017-03-02T22:09:52.822474",
     "start_time": "2017-03-02T22:09:51.475225"
    },
    "collapsed": false
   },
   "outputs": [
    {
     "name": "stdout",
     "output_type": "stream",
     "text": [
      "Directory: /Users/jeriwieringa/Dissertation/text/text/2017-01-31-corpus-with-utf8-split-into-titles-cleaning/GOH/baseline\n",
      "\n",
      "Average verified rate: 0.9537225762261566\n",
      "\n",
      "Average of error rates: 0.05685820895522388\n",
      "\n",
      "Total token count: 481790\n",
      "\n"
     ]
    },
    {
     "data": {
      "image/png": "[encoded data removed]",
      "text/plain": [
       "<matplotlib.figure.Figure at 0x1102ebda0>"
      ]
     },
     "metadata": {},
     "output_type": "display_data"
    }
   ],
   "source": [
    "stats = GoH.reports.overview_report(join(base_dir, cycle), spelling_dictionary, title)"
   ]
  },
  {
   "cell_type": "code",
   "execution_count": 11,
   "metadata": {
    "ExecuteTime": {
     "end_time": "2017-03-02T22:09:52.863108",
     "start_time": "2017-03-02T22:09:52.824318"
    },
    "collapsed": false
   },
   "outputs": [
    {
     "data": {
      "text/plain": [
       "[('ñ', 1321),\n",
       " ('-', 669),\n",
       " ('m', 454),\n",
       " ('d', 418),\n",
       " (\"'\", 414),\n",
       " ('¥', 353),\n",
       " (')', 339),\n",
       " ('e', 318),\n",
       " ('tion', 258),\n",
       " ('*', 247),\n",
       " ('con-', 215),\n",
       " ('w', 204),\n",
       " ('f', 174),\n",
       " ('re-', 152),\n",
       " ('in-', 152),\n",
       " ('(', 151),\n",
       " ('g', 142),\n",
       " ('r', 134),\n",
       " ('t', 133),\n",
       " ('_', 124),\n",
       " ('dis-', 96),\n",
       " ('n', 88),\n",
       " ('be-', 85),\n",
       " ('¡', 84),\n",
       " ('pre-', 80),\n",
       " ('per-', 79),\n",
       " ('ã', 79),\n",
       " ('u', 78),\n",
       " ('ex-', 77),\n",
       " ('co', 74),\n",
       " ('--', 73),\n",
       " ('tions', 72),\n",
       " ('ment', 66),\n",
       " ('com-', 63),\n",
       " ('de-', 62),\n",
       " ('pro-', 62),\n",
       " ('=', 54)]"
      ]
     },
     "execution_count": 11,
     "metadata": {},
     "output_type": "execute_result"
    }
   ],
   "source": [
    "errors_summary = GoH.reports.get_errors_summary( stats )\n",
    "GoH.reports.top_errors( errors_summary, 50 )"
   ]
  },
  {
   "cell_type": "markdown",
   "metadata": {
    "collapsed": true
   },
   "source": [
    "## Check Special Character Use"
   ]
  },
  {
   "cell_type": "code",
   "execution_count": 12,
   "metadata": {
    "ExecuteTime": {
     "end_time": "2017-03-02T22:09:52.909993",
     "start_time": "2017-03-02T22:09:52.864962"
    },
    "collapsed": false
   },
   "outputs": [
    {
     "data": {
      "text/plain": [
       "[('ñ', 1321),\n",
       " ('¥', 353),\n",
       " (')', 339),\n",
       " ('*', 247),\n",
       " ('(', 151),\n",
       " ('_', 124),\n",
       " ('¡', 84),\n",
       " ('ã', 79),\n",
       " ('=', 54),\n",
       " ('<', 47),\n",
       " ('/', 37),\n",
       " ('ô', 25),\n",
       " ('ñthe', 24),\n",
       " ('¦', 22),\n",
       " ('<<', 22),\n",
       " ('**', 17),\n",
       " ('¥¥', 16),\n",
       " ('(see', 15),\n",
       " ('(to', 14),\n",
       " ('%', 14),\n",
       " ('(h', 14),\n",
       " ('ñh', 10),\n",
       " ('(ps', 10),\n",
       " ('(lincoln)', 10),\n",
       " ('_health', 10),\n",
       " ('ñthese', 10),\n",
       " ('(john', 10),\n",
       " ('addressñ', 10),\n",
       " ('__', 9),\n",
       " ('\\\\', 9),\n",
       " ('_-', 9),\n",
       " ('(rom', 9),\n",
       " ('*-', 9),\n",
       " ('(a)', 8),\n",
       " ('`', 8),\n",
       " ('if/', 8),\n",
       " ('(and', 8),\n",
       " ('#', 8),\n",
       " ('ñit', 7),\n",
       " ('ñthat', 7),\n",
       " ('-*', 7),\n",
       " ('[the', 7),\n",
       " ('ñin', 7),\n",
       " ('(matt', 7),\n",
       " ('___', 7),\n",
       " ('kñ', 7),\n",
       " ('(concluded', 7),\n",
       " ('(b)', 7),\n",
       " ('ñby', 6),\n",
       " ('(isa', 6),\n",
       " ('(c)', 6),\n",
       " ('(which', 6),\n",
       " (']', 6),\n",
       " ('(one', 6),\n",
       " ('(right)', 6),\n",
       " ('ãã', 6),\n",
       " ('ã_', 5),\n",
       " ('(acts', 5),\n",
       " ('(the', 5),\n",
       " ('[', 5),\n",
       " ('(a', 5),\n",
       " ('¥the', 5),\n",
       " ('ñi', 5),\n",
       " ('==', 5),\n",
       " ('(eph', 5),\n",
       " (\"'¥\", 5),\n",
       " ('ña', 4),\n",
       " ('(d)', 4),\n",
       " (\"'*\", 4),\n",
       " ('ñthen', 4),\n",
       " ('+', 4),\n",
       " ('pur\\x8ee', 4),\n",
       " ('=-', 4),\n",
       " ('(good', 4),\n",
       " ('news)', 4),\n",
       " ('(six', 4),\n",
       " ('(heb', 4),\n",
       " ('[or', 4),\n",
       " ('ñwhat', 4),\n",
       " ('(or', 4),\n",
       " ('ñbecause', 4),\n",
       " ('(special', 4),\n",
       " (\"*'\", 4),\n",
       " ('¨', 4),\n",
       " ('ñibid', 4),\n",
       " ('caramel=', 4),\n",
       " ('¥¥¥¥', 3),\n",
       " ('(james', 3),\n",
       " ('(in', 3),\n",
       " ('(fig', 3),\n",
       " ('q¨', 3),\n",
       " ('ã-', 3),\n",
       " ('******************', 3),\n",
       " ('(c', 3),\n",
       " ('(luke', 3),\n",
       " ('____', 3),\n",
       " ('(first', 3),\n",
       " ('months)', 3),\n",
       " ('(gen', 3),\n",
       " ('ñgod', 3)]"
      ]
     },
     "execution_count": 12,
     "metadata": {},
     "output_type": "execute_result"
    }
   ],
   "source": [
    "GoH.reports.tokens_with_special_characters(errors_summary)[:100]"
   ]
  },
  {
   "cell_type": "markdown",
   "metadata": {},
   "source": [
    "## Correction 1 -- Normalize Characters"
   ]
  },
  {
   "cell_type": "code",
   "execution_count": 13,
   "metadata": {
    "ExecuteTime": {
     "end_time": "2017-03-02T22:09:53.887475",
     "start_time": "2017-03-02T22:09:52.912239"
    },
    "collapsed": false
   },
   "outputs": [],
   "source": [
    "# %load shared_elements/normalize_characters.py\n",
    "prev = \"baseline\"\n",
    "cycle = \"correction1\"\n",
    "\n",
    "directories = GoH.utilities.define_directories(prev, cycle, base_dir)\n",
    "if not os.path.exists(directories['cycle']):\n",
    "    os.makedirs(directories['cycle'])\n",
    "\n",
    "corpus = (f for f in listdir(directories['prev']) if not f.startswith('.') and isfile(join(directories['prev'], f)))\n",
    "\n",
    "for filename in corpus:\n",
    "    content = GoH.utilities.readfile(directories['prev'], filename)\n",
    "\n",
    "    # Substitute for all other dashes\n",
    "    content = re.sub(r\"—-—–‑\", r\"-\", content)\n",
    "\n",
    "    # Substitute formatted apostrophe\n",
    "    content = re.sub(r\"’\", r\"'\", content)\n",
    "    \n",
    "    # Replace all special characters with a space (as these tend to occur at the end of lines)\n",
    "    content = re.sub(r\"[^a-zA-Z0-9\\s,.!?$:;\\-&\\'\\\"]\", r\" \", content)\n",
    "    \n",
    "    with open(join(directories['cycle'], filename), mode=\"w\") as o:\n",
    "        o.write(content)\n",
    "        o.close()"
   ]
  },
  {
   "cell_type": "markdown",
   "metadata": {},
   "source": [
    "## Check Correction 1"
   ]
  },
  {
   "cell_type": "code",
   "execution_count": 14,
   "metadata": {
    "ExecuteTime": {
     "end_time": "2017-03-02T22:09:54.855919",
     "start_time": "2017-03-02T22:09:53.889560"
    },
    "collapsed": false
   },
   "outputs": [
    {
     "name": "stdout",
     "output_type": "stream",
     "text": [
      "Directory: /Users/jeriwieringa/Dissertation/text/text/2017-01-31-corpus-with-utf8-split-into-titles-cleaning/GOH/correction1\n",
      "\n",
      "Average verified rate: 0.9620343555361606\n",
      "\n",
      "Average of error rates: 0.04705820895522388\n",
      "\n",
      "Total token count: 478933\n",
      "\n"
     ]
    },
    {
     "data": {
      "image/png": "[encoded data removed]",
      "text/plain": [
       "<matplotlib.figure.Figure at 0x1106e6160>"
      ]
     },
     "metadata": {},
     "output_type": "display_data"
    }
   ],
   "source": [
    "# %load shared_elements/summary.py\n",
    "summary = GoH.reports.overview_report(directories['cycle'], spelling_dictionary, title)"
   ]
  },
  {
   "cell_type": "code",
   "execution_count": 15,
   "metadata": {
    "ExecuteTime": {
     "end_time": "2017-03-02T22:09:54.897031",
     "start_time": "2017-03-02T22:09:54.857832"
    },
    "collapsed": false
   },
   "outputs": [
    {
     "data": {
      "text/plain": [
       "[('-', 784),\n",
       " (\"'\", 464),\n",
       " ('m', 463),\n",
       " ('d', 429),\n",
       " ('e', 347),\n",
       " ('tion', 258),\n",
       " ('con-', 215),\n",
       " ('w', 209),\n",
       " ('f', 191),\n",
       " ('g', 153),\n",
       " ('in-', 153),\n",
       " ('re-', 152),\n",
       " ('t', 146),\n",
       " ('r', 145),\n",
       " ('n', 100),\n",
       " ('--', 97),\n",
       " ('dis-', 96),\n",
       " ('be-', 85),\n",
       " ('u', 80),\n",
       " ('pre-', 80),\n",
       " ('per-', 79),\n",
       " ('ex-', 77),\n",
       " ('co', 75),\n",
       " ('tions', 72),\n",
       " ('ment', 66),\n",
       " ('com-', 64),\n",
       " ('de-', 62),\n",
       " ('pro-', 62),\n",
       " ('im-', 48),\n",
       " ('mis-', 47),\n",
       " ('k', 46),\n",
       " ('ful', 45),\n",
       " ('ments', 44),\n",
       " ('un-', 43),\n",
       " ('q', 41),\n",
       " ('---', 40),\n",
       " ('ple', 37),\n",
       " ('sionary', 37),\n",
       " ('ical', 37),\n",
       " ('prin-', 37),\n",
       " ('sub-', 36),\n",
       " ('sani-', 33),\n",
       " ('op', 32),\n",
       " ('ac-', 32),\n",
       " ('tarium', 32),\n",
       " ('ciples', 31),\n",
       " ('condi-', 31),\n",
       " ('db', 31),\n",
       " ('princi-', 31),\n",
       " ('ber', 31)]"
      ]
     },
     "execution_count": 15,
     "metadata": {},
     "output_type": "execute_result"
    }
   ],
   "source": [
    "# %load shared_elements/top_errors.py\n",
    "errors_summary = GoH.reports.get_errors_summary( summary )\n",
    "GoH.reports.top_errors( errors_summary, 10 )[:50]"
   ]
  },
  {
   "cell_type": "markdown",
   "metadata": {},
   "source": [
    "## Correction 2 -- Fix line endings"
   ]
  },
  {
   "cell_type": "code",
   "execution_count": 16,
   "metadata": {
    "ExecuteTime": {
     "end_time": "2017-03-02T22:09:56.218497",
     "start_time": "2017-03-02T22:09:54.899230"
    },
    "collapsed": true
   },
   "outputs": [],
   "source": [
    "# %load shared_elements/correct_line_endings.py\n",
    "prev = \"correction1\"\n",
    "cycle = \"correction2\"\n",
    "\n",
    "directories = GoH.utilities.define_directories(prev, cycle, base_dir)\n",
    "if not os.path.exists(directories['cycle']):\n",
    "    os.makedirs(directories['cycle'])\n",
    "\n",
    "corpus = (f for f in listdir(directories['prev']) if not f.startswith('.') and isfile(join(directories['prev'], f)))\n",
    "\n",
    "for filename in corpus:\n",
    "    content = GoH.utilities.readfile(directories['prev'], filename)\n",
    "\n",
    "    content = re.sub(r\"(\\w+)(\\-\\s{1,})([a-z]+)\", r\"\\1\\3\", content)\n",
    "\n",
    "    with open(join(directories['cycle'], filename), mode=\"w\") as o:\n",
    "        o.write(content)\n",
    "        o.close()"
   ]
  },
  {
   "cell_type": "markdown",
   "metadata": {},
   "source": [
    "## Check Correction 2"
   ]
  },
  {
   "cell_type": "code",
   "execution_count": 17,
   "metadata": {
    "ExecuteTime": {
     "end_time": "2017-03-02T22:09:57.119639",
     "start_time": "2017-03-02T22:09:56.220461"
    },
    "collapsed": false
   },
   "outputs": [
    {
     "name": "stdout",
     "output_type": "stream",
     "text": [
      "Directory: /Users/jeriwieringa/Dissertation/text/text/2017-01-31-corpus-with-utf8-split-into-titles-cleaning/GOH/correction2\n",
      "\n",
      "Average verified rate: 0.9810627054607609\n",
      "\n",
      "Average of error rates: 0.028468656716417913\n",
      "\n",
      "Total token count: 472718\n",
      "\n"
     ]
    },
    {
     "data": {
      "image/png": "[encoded data removed]",
      "text/plain": [
       "<matplotlib.figure.Figure at 0x104552470>"
      ]
     },
     "metadata": {},
     "output_type": "display_data"
    }
   ],
   "source": [
    "# %load shared_elements/summary.py\n",
    "summary = GoH.reports.overview_report(directories['cycle'], spelling_dictionary, title)"
   ]
  },
  {
   "cell_type": "code",
   "execution_count": 18,
   "metadata": {
    "ExecuteTime": {
     "end_time": "2017-03-02T22:09:57.158685",
     "start_time": "2017-03-02T22:09:57.121983"
    },
    "collapsed": false
   },
   "outputs": [
    {
     "data": {
      "text/plain": [
       "[('-', 781),\n",
       " (\"'\", 464),\n",
       " ('m', 463),\n",
       " ('d', 429),\n",
       " ('e', 346),\n",
       " ('w', 209),\n",
       " ('f', 191),\n",
       " ('g', 153),\n",
       " ('t', 145),\n",
       " ('r', 144),\n",
       " ('n', 100),\n",
       " ('--', 97),\n",
       " ('u', 80),\n",
       " ('co', 75),\n",
       " ('k', 46),\n",
       " ('q', 41),\n",
       " ('---', 40),\n",
       " ('op', 32),\n",
       " ('db', 31),\n",
       " ('camp-ground', 30),\n",
       " ('ft', 29),\n",
       " ('th', 27),\n",
       " (\"''\", 27),\n",
       " (\"workingmen's\", 24),\n",
       " ('z', 22),\n",
       " ('abbie', 20),\n",
       " ('ex', 17),\n",
       " (\"the'\", 16),\n",
       " ('mc', 16),\n",
       " ('x', 16),\n",
       " ('grape-sugar', 15),\n",
       " ('left-over', 14),\n",
       " ('lenna', 13),\n",
       " (\"'the\", 13),\n",
       " ('----', 12),\n",
       " ('wm', 12),\n",
       " ('tion', 12),\n",
       " (\"'s\", 11),\n",
       " ('flesh-foods', 11)]"
      ]
     },
     "execution_count": 18,
     "metadata": {},
     "output_type": "execute_result"
    }
   ],
   "source": [
    "# %load shared_elements/top_errors.py\n",
    "errors_summary = GoH.reports.get_errors_summary( summary )\n",
    "GoH.reports.top_errors( errors_summary, 10 )[:50]"
   ]
  },
  {
   "cell_type": "markdown",
   "metadata": {},
   "source": [
    "## Correction 3 -- Remove extra dashes"
   ]
  },
  {
   "cell_type": "code",
   "execution_count": 19,
   "metadata": {
    "ExecuteTime": {
     "end_time": "2017-03-02T22:09:58.550432",
     "start_time": "2017-03-02T22:09:57.160864"
    },
    "collapsed": false
   },
   "outputs": [],
   "source": [
    "# %load shared_elements/remove_extra_dashes.py\n",
    "prev = \"correction2\"\n",
    "cycle = \"correction3\"\n",
    "\n",
    "directories = GoH.utilities.define_directories(prev, cycle, base_dir)\n",
    "if not os.path.exists(directories['cycle']):\n",
    "    os.makedirs(directories['cycle'])\n",
    "\n",
    "corpus = (f for f in listdir(directories['prev']) if not f.startswith('.') and isfile(join(directories['prev'], f)))\n",
    "\n",
    "for filename in corpus:\n",
    "    content = GoH.utilities.readfile(directories['prev'], filename)\n",
    "    \n",
    "    text = re.sub(r\"[0-9,!?$:;&]\", \" \", content)\n",
    "    tokens = GoH.utilities.tokenize_text(text)\n",
    "    \n",
    "    replacements = []\n",
    "    for token in tokens:\n",
    "        if token[0] is \"-\":\n",
    "            replacements.append((token, token[1:]))\n",
    "            \n",
    "        elif token[-1] is \"-\":\n",
    "            replacements.append((token, token[:-1]))\n",
    "        else:\n",
    "            pass\n",
    "        \n",
    "    if len(replacements) > 0:\n",
    "#         print(\"{}: {}\".format(filename, replacements))\n",
    "        \n",
    "        for replacement in replacements:\n",
    "            content = GoH.clean.replace_pair(replacement, content)\n",
    "    else:\n",
    "        pass\n",
    "\n",
    "    with open(join(directories['cycle'], filename), mode=\"w\") as o:\n",
    "        o.write(content)\n",
    "        o.close()"
   ]
  },
  {
   "cell_type": "markdown",
   "metadata": {},
   "source": [
    "## Check Correction 3"
   ]
  },
  {
   "cell_type": "code",
   "execution_count": 20,
   "metadata": {
    "ExecuteTime": {
     "end_time": "2017-03-02T22:09:59.405497",
     "start_time": "2017-03-02T22:09:58.551862"
    },
    "collapsed": false
   },
   "outputs": [
    {
     "name": "stdout",
     "output_type": "stream",
     "text": [
      "Directory: /Users/jeriwieringa/Dissertation/text/text/2017-01-31-corpus-with-utf8-split-into-titles-cleaning/GOH/correction3\n",
      "\n",
      "Average verified rate: 0.9840901635007143\n",
      "\n",
      "Average of error rates: 0.023855223880597017\n",
      "\n",
      "Total token count: 472475\n",
      "\n"
     ]
    },
    {
     "data": {
      "image/png": "[encoded data removed]",
      "text/plain": [
       "<matplotlib.figure.Figure at 0x1043fd6d8>"
      ]
     },
     "metadata": {},
     "output_type": "display_data"
    }
   ],
   "source": [
    "# %load shared_elements/summary.py\n",
    "summary = GoH.reports.overview_report(directories['cycle'], spelling_dictionary, title)"
   ]
  },
  {
   "cell_type": "code",
   "execution_count": 21,
   "metadata": {
    "ExecuteTime": {
     "end_time": "2017-03-02T22:09:59.447413",
     "start_time": "2017-03-02T22:09:59.407666"
    },
    "collapsed": false
   },
   "outputs": [
    {
     "data": {
      "text/plain": [
       "[(\"'\", 481),\n",
       " ('m', 463),\n",
       " ('d', 430),\n",
       " ('e', 351),\n",
       " ('w', 210),\n",
       " ('f', 197),\n",
       " ('g', 157),\n",
       " ('t', 155),\n",
       " ('r', 151),\n",
       " ('n', 101),\n",
       " ('co', 100),\n",
       " ('u', 81),\n",
       " ('k', 47),\n",
       " ('q', 41),\n",
       " ('op', 33),\n",
       " ('db', 31),\n",
       " ('ft', 30),\n",
       " (\"''\", 29),\n",
       " ('th', 27),\n",
       " ('camp-ground', 26),\n",
       " ('z', 25),\n",
       " (\"workingmen's\", 24),\n",
       " ('abbie', 20),\n",
       " ('ex', 18),\n",
       " ('x', 18),\n",
       " (\"the'\", 16),\n",
       " ('re', 16),\n",
       " ('mc', 16),\n",
       " ('lenna', 13),\n",
       " (\"'the\", 13),\n",
       " ('left-over', 13),\n",
       " ('wm', 12),\n",
       " ('-', 12),\n",
       " ('tion', 12),\n",
       " (\"'s\", 11)]"
      ]
     },
     "execution_count": 21,
     "metadata": {},
     "output_type": "execute_result"
    }
   ],
   "source": [
    "# %load shared_elements/top_errors.py\n",
    "errors_summary = GoH.reports.get_errors_summary( summary )\n",
    "GoH.reports.top_errors( errors_summary, 10 )[:50]"
   ]
  },
  {
   "cell_type": "markdown",
   "metadata": {},
   "source": [
    "## Correction 4 -- Remove extra quotation marks"
   ]
  },
  {
   "cell_type": "code",
   "execution_count": 22,
   "metadata": {
    "ExecuteTime": {
     "end_time": "2017-03-02T22:10:00.937774",
     "start_time": "2017-03-02T22:09:59.449382"
    },
    "collapsed": false
   },
   "outputs": [],
   "source": [
    "# %load shared_elements/replace_extra_quotation_marks.py\n",
    "prev = \"correction3\"\n",
    "cycle = \"correction4\"\n",
    "\n",
    "directories = GoH.utilities.define_directories(prev, cycle, base_dir)\n",
    "if not os.path.exists(directories['cycle']):\n",
    "    os.makedirs(directories['cycle'])\n",
    "\n",
    "corpus = (f for f in listdir(directories['prev']) if not f.startswith('.') and isfile(join(directories['prev'], f)))\n",
    "\n",
    "for filename in corpus:\n",
    "    content = GoH.utilities.readfile(directories['prev'], filename)\n",
    "    \n",
    "    text = re.sub(r\"[0-9,!?$:;&]\", \" \", content)\n",
    "    tokens = GoH.utilities.tokenize_text(text)\n",
    "    \n",
    "    corrections = []\n",
    "    for token in tokens:\n",
    "        token_list = list(token)\n",
    "        last_char = token_list[-1]\n",
    "\n",
    "        if last_char is \"'\":\n",
    "            if len(token) > 3:\n",
    "                if token_list[-2] is 's' or 'S':\n",
    "                    pass\n",
    "                else:\n",
    "                    corrections.append((token, re.sub(r\"'\", r\"\", token)))\n",
    "            else:\n",
    "                pass\n",
    "        elif token[0] is \"'\":\n",
    "            corrections.append((token, re.sub(r\"'\", r\"\", token)))   \n",
    "        else:\n",
    "            pass\n",
    "    \n",
    "    if len(corrections) > 0:\n",
    "#         print('{}: {}'.format(filename, corrections))\n",
    "\n",
    "        for correction in corrections:\n",
    "            content = GoH.clean.replace_pair(correction, content)\n",
    "    else:\n",
    "        pass\n",
    "\n",
    "    with open(join(directories['cycle'], filename), mode=\"w\") as o:\n",
    "        o.write(content)\n",
    "        o.close()"
   ]
  },
  {
   "cell_type": "markdown",
   "metadata": {},
   "source": [
    "## Check Correction 4"
   ]
  },
  {
   "cell_type": "code",
   "execution_count": 23,
   "metadata": {
    "ExecuteTime": {
     "end_time": "2017-03-02T22:10:02.020545",
     "start_time": "2017-03-02T22:10:00.939553"
    },
    "collapsed": false
   },
   "outputs": [
    {
     "name": "stdout",
     "output_type": "stream",
     "text": [
      "Directory: /Users/jeriwieringa/Dissertation/text/text/2017-01-31-corpus-with-utf8-split-into-titles-cleaning/GOH/correction4\n",
      "\n",
      "Average verified rate: 0.9848074952794642\n",
      "\n",
      "Average of error rates: 0.022889552238805972\n",
      "\n",
      "Total token count: 472404\n",
      "\n"
     ]
    },
    {
     "data": {
      "image/png": "[encoded data removed]",
      "text/plain": [
       "<matplotlib.figure.Figure at 0x10449d8d0>"
      ]
     },
     "metadata": {},
     "output_type": "display_data"
    }
   ],
   "source": [
    "# %load shared_elements/summary.py\n",
    "summary = GoH.reports.overview_report(directories['cycle'], spelling_dictionary, title)"
   ]
  },
  {
   "cell_type": "code",
   "execution_count": 24,
   "metadata": {
    "ExecuteTime": {
     "end_time": "2017-03-02T22:10:02.082416",
     "start_time": "2017-03-02T22:10:02.023005"
    },
    "collapsed": false
   },
   "outputs": [
    {
     "data": {
      "text/plain": [
       "[('m', 465),\n",
       " ('d', 430),\n",
       " (\"'\", 411),\n",
       " ('e', 354),\n",
       " ('w', 213),\n",
       " ('f', 198),\n",
       " ('t', 158),\n",
       " ('g', 157),\n",
       " ('r', 151),\n",
       " ('n', 103),\n",
       " ('co', 100),\n",
       " ('u', 81),\n",
       " ('k', 48),\n",
       " ('q', 41),\n",
       " ('op', 33),\n",
       " ('db', 31),\n",
       " ('ft', 30),\n",
       " ('th', 27),\n",
       " ('camp-ground', 26),\n",
       " ('z', 25),\n",
       " (\"workingmen's\", 24),\n",
       " (\"''\", 23),\n",
       " ('abbie', 20),\n",
       " ('ex', 18),\n",
       " ('x', 18),\n",
       " ('mc', 16),\n",
       " ('re', 16),\n",
       " ('lenna', 13),\n",
       " (\"the'\", 13),\n",
       " ('left-over', 13),\n",
       " ('wm', 12),\n",
       " ('-', 12),\n",
       " ('tion', 12)]"
      ]
     },
     "execution_count": 24,
     "metadata": {},
     "output_type": "execute_result"
    }
   ],
   "source": [
    "# %load shared_elements/top_errors.py\n",
    "errors_summary = GoH.reports.get_errors_summary( summary )\n",
    "GoH.reports.top_errors( errors_summary, 10 )[:50]"
   ]
  },
  {
   "cell_type": "markdown",
   "metadata": {},
   "source": [
    "## Correction 5 -- Rejoin Burst Words"
   ]
  },
  {
   "cell_type": "code",
   "execution_count": 25,
   "metadata": {
    "ExecuteTime": {
     "end_time": "2017-03-02T22:10:03.087955",
     "start_time": "2017-03-02T22:10:02.084867"
    },
    "collapsed": false
   },
   "outputs": [],
   "source": [
    "# %load shared_elements/rejoin_burst_words.py\n",
    "prev = \"correction4\"\n",
    "cycle = \"correction5\"\n",
    "\n",
    "directories = GoH.utilities.define_directories(prev, cycle, base_dir)\n",
    "if not os.path.exists(directories['cycle']):\n",
    "    os.makedirs(directories['cycle'])\n",
    "\n",
    "corpus = (f for f in listdir(directories['prev']) if not f.startswith('.') and isfile(join(directories['prev'], f)))\n",
    "\n",
    "for filename in corpus:\n",
    "    content = GoH.utilities.readfile(directories['prev'], filename)\n",
    "\n",
    "    pattern = re.compile(\"(\\s(\\w{1,2}\\s){5,})\")\n",
    "    \n",
    "    replacements = []\n",
    "    GoH.clean.check_splits(pattern, spelling_dictionary, content, replacements)\n",
    "    \n",
    "    if len(replacements) > 0:\n",
    "#         print('{}: {}'.format(filename, replacements))\n",
    "\n",
    "        for replacement in replacements:\n",
    "            content = GoH.clean.replace_pair(replacement, content)\n",
    "    else:\n",
    "        pass\n",
    "\n",
    "    with open(join(directories['cycle'], filename), mode=\"w\") as o:\n",
    "        o.write(content)\n",
    "        o.close()"
   ]
  },
  {
   "cell_type": "markdown",
   "metadata": {},
   "source": [
    "## Check Correction 5"
   ]
  },
  {
   "cell_type": "code",
   "execution_count": 26,
   "metadata": {
    "ExecuteTime": {
     "end_time": "2017-03-02T22:10:04.156113",
     "start_time": "2017-03-02T22:10:03.089771"
    },
    "collapsed": false
   },
   "outputs": [
    {
     "name": "stdout",
     "output_type": "stream",
     "text": [
      "Directory: /Users/jeriwieringa/Dissertation/text/text/2017-01-31-corpus-with-utf8-split-into-titles-cleaning/GOH/correction5\n",
      "\n",
      "Average verified rate: 0.9848198749349061\n",
      "\n",
      "Average of error rates: 0.022858208955223884\n",
      "\n",
      "Total token count: 472394\n",
      "\n"
     ]
    },
    {
     "data": {
      "image/png": "[encoded data removed]",
      "text/plain": [
       "<matplotlib.figure.Figure at 0x111c5f240>"
      ]
     },
     "metadata": {},
     "output_type": "display_data"
    }
   ],
   "source": [
    "# %load shared_elements/summary.py\n",
    "summary = GoH.reports.overview_report(directories['cycle'], spelling_dictionary, title)"
   ]
  },
  {
   "cell_type": "code",
   "execution_count": 27,
   "metadata": {
    "ExecuteTime": {
     "end_time": "2017-03-02T22:10:04.196877",
     "start_time": "2017-03-02T22:10:04.158108"
    },
    "collapsed": false
   },
   "outputs": [
    {
     "data": {
      "text/plain": [
       "[('m', 465),\n",
       " ('d', 429),\n",
       " (\"'\", 411),\n",
       " ('e', 353),\n",
       " ('w', 213),\n",
       " ('f', 198),\n",
       " ('g', 157),\n",
       " ('t', 157),\n",
       " ('r', 150),\n",
       " ('n', 102),\n",
       " ('co', 100),\n",
       " ('u', 81),\n",
       " ('k', 47),\n",
       " ('q', 41),\n",
       " ('op', 33),\n",
       " ('db', 31),\n",
       " ('ft', 30),\n",
       " ('th', 27),\n",
       " ('camp-ground', 26),\n",
       " ('z', 25),\n",
       " (\"workingmen's\", 24),\n",
       " (\"''\", 23),\n",
       " ('abbie', 20),\n",
       " ('ex', 18),\n",
       " ('x', 18),\n",
       " ('mc', 16),\n",
       " ('re', 16),\n",
       " ('lenna', 13),\n",
       " (\"the'\", 13),\n",
       " ('left-over', 13),\n",
       " ('wm', 12),\n",
       " ('-', 12),\n",
       " ('tion', 12)]"
      ]
     },
     "execution_count": 27,
     "metadata": {},
     "output_type": "execute_result"
    }
   ],
   "source": [
    "# %load shared_elements/top_errors.py\n",
    "errors_summary = GoH.reports.get_errors_summary( summary )\n",
    "GoH.reports.top_errors( errors_summary, 10 )[:50]"
   ]
  },
  {
   "cell_type": "markdown",
   "metadata": {},
   "source": [
    "## Correction 6 -- Rejoin Split Words"
   ]
  },
  {
   "cell_type": "code",
   "execution_count": 28,
   "metadata": {
    "ExecuteTime": {
     "end_time": "2017-03-02T22:10:06.106429",
     "start_time": "2017-03-02T22:10:04.198838"
    },
    "collapsed": false
   },
   "outputs": [
    {
     "name": "stdout",
     "output_type": "stream",
     "text": [
      "GOH18970201-V01-01-page16.txt: [('nu', 'rses')]\n",
      "GOH18970201-V01-01-page19.txt: [('BROMOS', 'E')]\n",
      "GOH18970201-V01-01-page20.txt: [('CIRCULA', 'TION'), ('GLAS', 'GOW')]\n",
      "GOH18970301-V01-02-page18.txt: [('Mc', 'Coy')]\n",
      "GOH18970301-V01-02-page19.txt: [('Prin', 'ciples'), ('va', 'n')]\n",
      "GOH18970301-V01-02-page20.txt: [('CIRCULA', 'TION'), ('GLAS', 'GOW')]\n",
      "GOH18970301-V01-02-page5.txt: [('RE', 'FORM')]\n",
      "GOH18970601-V01-05,06-page11.txt: [('AMERI', 'CAN')]\n",
      "GOH18970601-V01-05,06-page21.txt: [('PUBLICA', 'TIONS')]\n",
      "GOH18970601-V01-05,06-page26.txt: [('re', 'establishing'), ('perha', 'ps')]\n",
      "GOH18970601-V01-05,06-page35.txt: [('PR', 'ES')]\n",
      "GOH18970601-V01-05,06-page5.txt: [('AMERI', 'CAN')]\n",
      "GOH18970601-V01-05,06-page8.txt: [('MIS', 'SIONARY')]\n",
      "GOH18970801-V01-07-page18.txt: [('somethi', 'ng')]\n",
      "GOH18970801-V01-07-page20.txt: [('Sani', 'tarium')]\n",
      "GOH18970801-V01-07-page5.txt: [('askin', 'g')]\n",
      "GOH18971001-V01-09-page19.txt: [('Sani', 'tarium')]\n",
      "GOH18971001-V01-09-page7.txt: [('co', 'workers')]\n",
      "GOH18971201-V01-11-page1.txt: [('COU', 'GH')]\n",
      "GOH18971201-V01-11-page14.txt: [('AMERI', 'CAN')]\n",
      "GOH18971201-V01-11-page16.txt: [('mis', 'sionaries')]\n",
      "GOH18971201-V01-11-page18.txt: [('Gos', 'PEL')]\n",
      "GOH18971201-V01-11-page19.txt: [('fl', 'It')]\n",
      "GOH18971201-V01-11-page7.txt: [('tid', 'bits')]\n",
      "GOH18980101-V02-01-page16.txt: [('MIS', 'SIONARY')]\n",
      "GOH18980101-V02-01-page2.txt: [('POPU', 'LARLY')]\n",
      "GOH18980101-V02-01-page22.txt: [('co', 'operate'), ('ex', 'pected')]\n",
      "GOH18980101-V02-01-page3.txt: [('co', 'operative')]\n",
      "GOH18980101-V02-01-page5.txt: [('co', 'operation'), ('thei', 'r')]\n",
      "GOH18980101-V02-01-page7.txt: [('co', 'operation')]\n",
      "GOH18980101-V02-01-page9.txt: [('Mc', 'Dowell')]\n",
      "GOH18980201-V02-02-page18.txt: [('Gos', 'PEL')]\n",
      "GOH18980301-V02-03-page1.txt: [('COMMIS', 'SION')]\n",
      "GOH18980301-V02-03-page16.txt: [('co', 'operate'), ('ca', 'n')]\n",
      "GOH18980501-V02-05-page17.txt: [('indiffer', 'ence'), ('RELA', 'TION')]\n",
      "GOH18980501-V02-05-page20.txt: [('re', 'turn')]\n",
      "GOH18980501-V02-05-page6.txt: [('re', 'ceived')]\n",
      "GOH18980601-V02-06-page19.txt: [('CHIL', 'DREN')]\n",
      "GOH18980601-V02-06-page2.txt: [('se', 'as')]\n",
      "GOH18980601-V02-06-page21.txt: [('Healthf', 'ul')]\n",
      "GOH18980601-V02-06-page24.txt: [('co', 'operation'), ('Gos', 'PEL')]\n",
      "GOH18980601-V02-06-page27.txt: [('Ra', 'T'), ('tS', 'P')]\n",
      "GOH18980701-V02-07-page17.txt: [('impris', 'onment'), ('Gos', 'PEL')]\n",
      "GOH18980701-V02-07-page18.txt: [('SANI', 'TARIUM')]\n",
      "GOH18980701-V02-07-page19.txt: [('ORDI', 'NARY')]\n",
      "GOH18980701-V02-07-page2.txt: [('al', 'Ways')]\n",
      "GOH18980701-V02-07-page20.txt: [('ry', 'e')]\n",
      "GOH18980801-V02-08-page15.txt: [('Associa', 'tion'), ('co', 'operation')]\n",
      "GOH18980801-V02-08-page16.txt: [('Mc', 'Clure'), ('co', 'operate')]\n",
      "GOH18980801-V02-08-page2.txt: [('eV', 'I'), ('fo', 'r')]\n",
      "GOH18980801-V02-08-page26.txt: [('condi', 'tions')]\n",
      "GOH18980801-V02-08-page28.txt: [('ac', 'cessible')]\n",
      "GOH18980801-V02-08-page5.txt: [('Mc', 'Coy')]\n",
      "GOH18980901-V02-09-page24.txt: [('Mc', 'Coy')]\n",
      "GOH18980901-V02-09-page27.txt: [('M.', '')]\n",
      "GOH18980901-V02-09-page28.txt: [('invari', 'ably')]\n",
      "GOH18981001-V02-10-page12.txt: [('fr', 'y')]\n",
      "GOH18981001-V02-10-page27.txt: [('TA', 'RE'), ('RE', 'TREAT')]\n",
      "GOH18981101-V02-11-page13.txt: [('RECOG', 'NITION')]\n",
      "GOH18981101-V02-11-page14.txt: [('Gos', 'PEL')]\n",
      "GOH18981101-V02-11-page18.txt: [('Mc', 'Coy')]\n",
      "GOH18981101-V02-11-page19.txt: [('ga', 't'), ('gi', 'g'), ('kAk', 'A')]\n",
      "GOH18981101-V02-11-page2.txt: [('fl', 'O')]\n",
      "GOH18981101-V02-11-page20.txt: [('VA', 'R')]\n",
      "GOH18981101-V02-11-page8.txt: [('COMMUNICA', 'TIONS')]\n",
      "GOH18981201-V02-12-page1.txt: [('ex', 'pected')]\n",
      "GOH18981201-V02-12-page2.txt: [('HEALT', 'H')]\n",
      "GOH18981201-V02-12-page25.txt: [('CO', 'O')]\n",
      "GOH18981201-V02-12-page27.txt: [('Un', 'a'), ('CLAREM', 'ONT'), ('Ti', 'to'), ('RE', 'TREAT')]\n",
      "GOH18981201-V02-12-page5.txt: [('co', 'operate')]\n",
      "GOH18990101-V03-01-page11.txt: [('wa', 'tchings')]\n",
      "GOH18990101-V03-01-page16.txt: [('co', 'operation'), ('Gos', 'PEL')]\n",
      "GOH18990101-V03-01-page2.txt: [('CR', 'EEK')]\n",
      "GOH18990101-V03-01-page9.txt: [('bene', 'ficial')]\n",
      "GOH18990201-V03-02-page18.txt: [('extremi', 'ties')]\n",
      "GOH18990201-V03-02-page2.txt: [('RE', 'TREAT')]\n",
      "GOH18990201-V03-02-page5.txt: [('PEO', 'PLE')]\n",
      "GOH18990201-V03-02-page9.txt: [('enem', 'y')]\n",
      "GOH18990401-V03-04-page17.txt: [('Mc', 'Coy'), ('Af', 'ter')]\n",
      "GOH18990401-V03-04-page6.txt: [('co', 'operate')]\n",
      "GOH18990501-V03-05-page14.txt: [('ea', 't')]\n",
      "GOH18990501-V03-05-page19.txt: [('Mc', 'Coy')]\n",
      "GOH18990501-V03-05-page24.txt: [('APPETIZ', 'ING')]\n",
      "GOH18990601-V03-06-page25.txt: [('co', 'operate')]\n",
      "GOH18990601-V03-06-page26.txt: [('Cerebro', 'Spinal'), ('Sani', 'tarium'), ('th', 'e')]\n",
      "GOH18990601-V03-06-page27.txt: [('ef', 'fective')]\n",
      "GOH18990701-V03-07-page13.txt: [('Mc', 'Coy')]\n",
      "GOH18990701-V03-07-page14.txt: [('Mc', 'Coy')]\n",
      "GOH18990701-V03-07-page18.txt: [('co', 'operation'), ('Gos', 'PEL')]\n",
      "GOH18990701-V03-07-page19.txt: [('dolla', 'r')]\n",
      "GOH18990701-V03-07-page2.txt: [('spe', 'cial'), ('TA', 'RE'), ('Sla', 'y'), ('recog', 'nized'), ('RE', 'TREAT')]\n",
      "GOH18990701-V03-07-page7.txt: [('IL', 'E')]\n",
      "GOH18990901-V03-09-page1.txt: [('hy', 'gienic')]\n",
      "GOH18990901-V03-09-page10.txt: [('PULMO', 'NARY')]\n",
      "GOH18990901-V03-09-page2.txt: [('infor', 'mation')]\n",
      "GOH18990901-V03-09-page5.txt: [('Exten', 'sive')]\n",
      "GOH18991001-V03-10-page22.txt: [('co', 'ordination')]\n",
      "GOH18991001-V03-10-page23.txt: [('th', 'e')]\n",
      "GOH18991001-V03-10-page3.txt: [('redemp', 'tion')]\n",
      "GOH18991101-V03-11-page1.txt: [('ca', 'pacity')]\n",
      "GOH18991101-V03-11-page11.txt: [('Sani', 'tarium')]\n",
      "GOH18991101-V03-11-page16.txt: [('Mc', 'Abee')]\n",
      "GOH18991101-V03-11-page9.txt: [('co', 'operate')]\n"
     ]
    }
   ],
   "source": [
    "# %load shared_elements/rejoin_split_words.py\n",
    "prev = \"correction5\"\n",
    "cycle = \"correction6\"\n",
    "\n",
    "directories = GoH.utilities.define_directories(prev, cycle, base_dir)\n",
    "if not os.path.exists(directories['cycle']):\n",
    "    os.makedirs(directories['cycle'])\n",
    "\n",
    "corpus = (f for f in listdir(directories['prev']) if not f.startswith('.') and isfile(join(directories['prev'], f)))\n",
    "\n",
    "for filename in corpus:\n",
    "    content = GoH.utilities.readfile(directories['prev'], filename)\n",
    "    \n",
    "    text = re.sub(r\"[0-9,!?$:;&]\", \" \", content)\n",
    "    tokens = GoH.utilities.tokenize_text(text)\n",
    "    errors = GoH.reports.identify_errors(tokens, spelling_dictionary)\n",
    "\n",
    "    replacements = GoH.clean.check_if_stem(errors, spelling_dictionary, tokens, get_prior=False)\n",
    "    \n",
    "    if len(replacements) > 0:\n",
    "        print('{}: {}'.format(filename, replacements))\n",
    "\n",
    "        for replacement in replacements:\n",
    "            content = GoH.clean.replace_split_words(replacement, content)\n",
    "    else:\n",
    "        pass\n",
    "\n",
    "    with open(join(directories['cycle'], filename), mode=\"w\") as o:\n",
    "        o.write(content)\n",
    "        o.close()"
   ]
  },
  {
   "cell_type": "markdown",
   "metadata": {},
   "source": [
    "## Check Correction 6"
   ]
  },
  {
   "cell_type": "code",
   "execution_count": 29,
   "metadata": {
    "ExecuteTime": {
     "end_time": "2017-03-02T22:10:07.057366",
     "start_time": "2017-03-02T22:10:06.108005"
    },
    "collapsed": false
   },
   "outputs": [
    {
     "name": "stdout",
     "output_type": "stream",
     "text": [
      "Directory: /Users/jeriwieringa/Dissertation/text/text/2017-01-31-corpus-with-utf8-split-into-titles-cleaning/GOH/correction6\n",
      "\n",
      "Average verified rate: 0.985174017900436\n",
      "\n",
      "Average of error rates: 0.02240597014925373\n",
      "\n",
      "Total token count: 472279\n",
      "\n"
     ]
    },
    {
     "data": {
      "image/png": "[encoded data removed]",
      "text/plain": [
       "<matplotlib.figure.Figure at 0x1121b0978>"
      ]
     },
     "metadata": {},
     "output_type": "display_data"
    }
   ],
   "source": [
    "# %load shared_elements/summary.py\n",
    "summary = GoH.reports.overview_report(directories['cycle'], spelling_dictionary, title)"
   ]
  },
  {
   "cell_type": "code",
   "execution_count": 30,
   "metadata": {
    "ExecuteTime": {
     "end_time": "2017-03-02T22:10:07.091148",
     "start_time": "2017-03-02T22:10:07.058770"
    },
    "collapsed": false
   },
   "outputs": [
    {
     "data": {
      "text/plain": [
       "[('m', 465),\n",
       " ('d', 429),\n",
       " (\"'\", 411),\n",
       " ('e', 349),\n",
       " ('w', 213),\n",
       " ('f', 198),\n",
       " ('g', 156),\n",
       " ('t', 155),\n",
       " ('r', 149),\n",
       " ('n', 100),\n",
       " ('u', 81),\n",
       " ('co', 79),\n",
       " ('k', 47),\n",
       " ('q', 41),\n",
       " ('op', 33),\n",
       " ('db', 31),\n",
       " ('ft', 30),\n",
       " ('camp-ground', 26),\n",
       " ('th', 25),\n",
       " ('z', 25),\n",
       " (\"workingmen's\", 24),\n",
       " (\"''\", 23),\n",
       " ('abbie', 20),\n",
       " ('x', 18),\n",
       " ('ex', 16),\n",
       " ('lenna', 13),\n",
       " (\"the'\", 13),\n",
       " ('left-over', 13),\n",
       " ('wm', 12),\n",
       " ('-', 12)]"
      ]
     },
     "execution_count": 30,
     "metadata": {},
     "output_type": "execute_result"
    }
   ],
   "source": [
    "# %load shared_elements/top_errors.py\n",
    "errors_summary = GoH.reports.get_errors_summary( summary )\n",
    "GoH.reports.top_errors( errors_summary, 10 )[:50]"
   ]
  },
  {
   "cell_type": "markdown",
   "metadata": {},
   "source": [
    "## Correction 7 -- Rejoin Split Words II"
   ]
  },
  {
   "cell_type": "code",
   "execution_count": 31,
   "metadata": {
    "ExecuteTime": {
     "end_time": "2017-03-02T22:10:09.263295",
     "start_time": "2017-03-02T22:10:07.093319"
    },
    "collapsed": false
   },
   "outputs": [
    {
     "name": "stdout",
     "output_type": "stream",
     "text": [
      "GOH18970201-V01-01-page14.txt: [('Y', 'es')]\n",
      "GOH18970201-V01-01-page20.txt: [('SHAKES', 'PEARE'), ('INTER', 'LAKEN')]\n",
      "GOH18970301-V01-02-page1.txt: [('C', 'oot')]\n",
      "GOH18970301-V01-02-page19.txt: [('T', 'WENTY-NINE')]\n",
      "GOH18970301-V01-02-page20.txt: [('INTER', 'LAKEN')]\n",
      "GOH18970301-V01-02-page3.txt: [('OR', \"PHANS'\")]\n",
      "GOH18970601-V01-05,06-page1.txt: [('C', 'oot')]\n",
      "GOH18970601-V01-05,06-page10.txt: [('a', 'nd')]\n",
      "GOH18970601-V01-05,06-page15.txt: [('MED', 'ICAL')]\n",
      "GOH18970601-V01-05,06-page23.txt: [('f', 'ood')]\n",
      "GOH18970601-V01-05,06-page5.txt: [('MISSION', 'ARY')]\n",
      "GOH18970601-V01-05,06-page7.txt: [('MISSION', 'ARY')]\n",
      "GOH18970601-V01-05,06-page9.txt: [('MISSION', 'ARY')]\n",
      "GOH18970801-V01-07-page14.txt: [('the', 'se')]\n",
      "GOH18971001-V01-09-page16.txt: [('HEAL', 'TH')]\n",
      "GOH18971201-V01-11-page1.txt: [('COU', 'GH')]\n",
      "GOH18971201-V01-11-page12.txt: [('con', 'stantly')]\n",
      "GOH18971201-V01-11-page2.txt: [('A', 'ND')]\n",
      "GOH18980101-V02-01-page18.txt: [('MED', 'ICAL')]\n",
      "GOH18980101-V02-01-page25.txt: [('MED', 'ICAL')]\n",
      "GOH18980101-V02-01-page32.txt: [('Mission', 'ary')]\n",
      "GOH18980101-V02-01-page37.txt: [('i', 'da'), ('grand', 'Pa')]\n",
      "GOH18980501-V02-05-page17.txt: [('indiffer', 'ence')]\n",
      "GOH18980501-V02-05-page2.txt: [('dis', 'couraged')]\n",
      "GOH18980501-V02-05-page20.txt: [('MED', 'ICAL')]\n",
      "GOH18980601-V02-06-page2.txt: [(\"'\", 're')]\n",
      "GOH18980601-V02-06-page27.txt: [('S', 'Ra')]\n",
      "GOH18980601-V02-06-page30.txt: [('o', 'nce')]\n",
      "GOH18980601-V02-06-page32.txt: [('con', 'cise')]\n",
      "GOH18980701-V02-07-page1.txt: [('differ', 'ent')]\n",
      "GOH18980701-V02-07-page2.txt: [('if', 'Ni')]\n",
      "GOH18980701-V02-07-page20.txt: [('m', 'Oe')]\n",
      "GOH18980801-V02-08-page28.txt: [('ac', 'cessible')]\n",
      "GOH18980901-V02-09-page28.txt: [('BAT', 'TLE'), ('he', 'th')]\n",
      "GOH18981001-V02-10-page12.txt: [('s', 'OP')]\n",
      "GOH18981001-V02-10-page14.txt: [('poison', 'ous')]\n",
      "GOH18981001-V02-10-page19.txt: [('pro', 'ducing')]\n",
      "GOH18981001-V02-10-page26.txt: [('sub', 'scription')]\n",
      "GOH18981001-V02-10-page28.txt: [('In', 'Cr')]\n",
      "GOH18981201-V02-12-page5.txt: [('G', 'ranose')]\n",
      "GOH18981201-V02-12-page9.txt: [('clean', 'liness')]\n",
      "GOH18990101-V03-01-page9.txt: [('bene', 'ficial')]\n",
      "GOH18990201-V03-02-page1.txt: [('G', 'uadalajara')]\n",
      "GOH18990201-V03-02-page24.txt: [('de', 'licious')]\n",
      "GOH18990301-V03-03-page2.txt: [('I', 'nternational')]\n",
      "GOH18990301-V03-03-page20.txt: [('Thor', 'oughly')]\n",
      "GOH18990401-V03-04-page20.txt: [('Thor', 'oughly')]\n",
      "GOH18990401-V03-04-page7.txt: [('mas', \"ter's\")]\n",
      "GOH18990501-V03-05-page1.txt: [('S', 'ite')]\n",
      "GOH18990601-V03-06-page18.txt: [('flak', 'es')]\n",
      "GOH18990601-V03-06-page26.txt: [('F', 'Aro'), ('O', 'ne')]\n",
      "GOH18990601-V03-06-page27.txt: [('ef', 'fective')]\n",
      "GOH18990601-V03-06-page9.txt: [('in', 'structions')]\n",
      "GOH18990801-V03-08-page2.txt: [('W', 'ashington')]\n",
      "GOH18990801-V03-08-page8.txt: [('a', 'ny')]\n",
      "GOH18990901-V03-09-page1.txt: [('hy', 'gienic')]\n",
      "GOH18990901-V03-09-page2.txt: [('infor', 'mation')]\n",
      "GOH18990901-V03-09-page20.txt: [('exceed', 'ingly')]\n",
      "GOH18990901-V03-09-page5.txt: [('Exten', 'sive')]\n",
      "GOH18991101-V03-11-page19.txt: [('y', 'ou')]\n",
      "GOH18991101-V03-11-page5.txt: [('par', 'tition')]\n"
     ]
    }
   ],
   "source": [
    "# %load shared_elements/rejoin_split_words.py\n",
    "prev = \"correction6\"\n",
    "cycle = \"correction7\"\n",
    "\n",
    "directories = GoH.utilities.define_directories(prev, cycle, base_dir)\n",
    "if not os.path.exists(directories['cycle']):\n",
    "    os.makedirs(directories['cycle'])\n",
    "\n",
    "corpus = (f for f in listdir(directories['prev']) if not f.startswith('.') and isfile(join(directories['prev'], f)))\n",
    "\n",
    "for filename in corpus:\n",
    "    content = GoH.utilities.readfile(directories['prev'], filename)\n",
    "    \n",
    "    text = re.sub(r\"[0-9,!?$:;&]\", \" \", content)\n",
    "    tokens = GoH.utilities.tokenize_text(text)\n",
    "    errors = GoH.reports.identify_errors(tokens, spelling_dictionary)\n",
    "\n",
    "    replacements = GoH.clean.check_if_stem(errors, spelling_dictionary, tokens, get_prior=True)\n",
    "    \n",
    "    if len(replacements) > 0:\n",
    "        print('{}: {}'.format(filename, replacements))\n",
    "\n",
    "        for replacement in replacements:\n",
    "            content = GoH.clean.replace_split_words(replacement, content)\n",
    "    else:\n",
    "        pass\n",
    "\n",
    "    with open(join(directories['cycle'], filename), mode=\"w\") as o:\n",
    "        o.write(content)\n",
    "        o.close()"
   ]
  },
  {
   "cell_type": "markdown",
   "metadata": {},
   "source": [
    "## Check Correction 7"
   ]
  },
  {
   "cell_type": "code",
   "execution_count": 32,
   "metadata": {
    "ExecuteTime": {
     "end_time": "2017-03-02T22:10:10.215432",
     "start_time": "2017-03-02T22:10:09.264754"
    },
    "collapsed": false
   },
   "outputs": [
    {
     "name": "stdout",
     "output_type": "stream",
     "text": [
      "Directory: /Users/jeriwieringa/Dissertation/text/text/2017-01-31-corpus-with-utf8-split-into-titles-cleaning/GOH/correction7\n",
      "\n",
      "Average verified rate: 0.9852743431793781\n",
      "\n",
      "Average of error rates: 0.02224179104477612\n",
      "\n",
      "Total token count: 472237\n",
      "\n"
     ]
    },
    {
     "data": {
      "image/png": "[encoded data removed]",
      "text/plain": [
       "<matplotlib.figure.Figure at 0x111934780>"
      ]
     },
     "metadata": {},
     "output_type": "display_data"
    }
   ],
   "source": [
    "# %load shared_elements/summary.py\n",
    "summary = GoH.reports.overview_report(directories['cycle'], spelling_dictionary, title)"
   ]
  },
  {
   "cell_type": "code",
   "execution_count": 33,
   "metadata": {
    "ExecuteTime": {
     "end_time": "2017-03-02T22:10:10.276350",
     "start_time": "2017-03-02T22:10:10.217032"
    },
    "collapsed": false
   },
   "outputs": [
    {
     "data": {
      "text/plain": [
       "[('m', 464),\n",
       " ('d', 429),\n",
       " (\"'\", 410),\n",
       " ('e', 349),\n",
       " ('w', 212),\n",
       " ('f', 197),\n",
       " ('g', 155),\n",
       " ('t', 154),\n",
       " ('r', 149),\n",
       " ('n', 100),\n",
       " ('u', 81),\n",
       " ('co', 79),\n",
       " ('k', 47),\n",
       " ('q', 41),\n",
       " ('op', 33),\n",
       " ('db', 31),\n",
       " ('ft', 30),\n",
       " ('camp-ground', 26),\n",
       " ('z', 25),\n",
       " ('th', 24),\n",
       " (\"workingmen's\", 24),\n",
       " (\"''\", 23),\n",
       " ('abbie', 20),\n",
       " ('x', 18),\n",
       " ('ex', 16),\n",
       " ('lenna', 13),\n",
       " (\"the'\", 13),\n",
       " ('left-over', 13),\n",
       " ('wm', 12),\n",
       " ('-', 12)]"
      ]
     },
     "execution_count": 33,
     "metadata": {},
     "output_type": "execute_result"
    }
   ],
   "source": [
    "# %load shared_elements/top_errors.py\n",
    "errors_summary = GoH.reports.get_errors_summary( summary )\n",
    "GoH.reports.top_errors( errors_summary, 10 )[:50]"
   ]
  },
  {
   "cell_type": "markdown",
   "metadata": {},
   "source": [
    "## Review Remaining Errors"
   ]
  },
  {
   "cell_type": "code",
   "execution_count": 34,
   "metadata": {
    "ExecuteTime": {
     "end_time": "2017-03-02T22:10:10.331070",
     "start_time": "2017-03-02T22:10:10.278742"
    },
    "collapsed": false
   },
   "outputs": [
    {
     "data": {
      "text/plain": [
       "[('GOH18970601-V01-05,06-page17.txt', 0.394),\n",
       " ('GOH18981101-V02-11-page19.txt', 0.261),\n",
       " ('GOH18980701-V02-07-page19.txt', 0.219),\n",
       " ('GOH18990401-V03-04-page2.txt', 0.214),\n",
       " ('GOH18981101-V02-11-page2.txt', 0.207),\n",
       " ('GOH18980701-V02-07-page20.txt', 0.202)]"
      ]
     },
     "execution_count": 34,
     "metadata": {},
     "output_type": "execute_result"
    }
   ],
   "source": [
    "GoH.reports.docs_with_high_error_rate(summary)"
   ]
  },
  {
   "cell_type": "code",
   "execution_count": 35,
   "metadata": {
    "ExecuteTime": {
     "end_time": "2017-03-02T22:10:10.386065",
     "start_time": "2017-03-02T22:10:10.332952"
    },
    "collapsed": true
   },
   "outputs": [],
   "source": [
    "doc_keys = [x[0] for x in GoH.reports.docs_with_high_error_rate(summary) if x[1] > 0.2]"
   ]
  },
  {
   "cell_type": "code",
   "execution_count": 36,
   "metadata": {
    "ExecuteTime": {
     "end_time": "2017-03-02T22:10:10.435516",
     "start_time": "2017-03-02T22:10:10.390562"
    },
    "collapsed": false
   },
   "outputs": [],
   "source": [
    "# GoH.utilities.open_original_docs(doc_keys, directories['cycle'])"
   ]
  },
  {
   "cell_type": "markdown",
   "metadata": {},
   "source": [
    "High errors on image pages and advertisements."
   ]
  },
  {
   "cell_type": "code",
   "execution_count": 37,
   "metadata": {
    "ExecuteTime": {
     "end_time": "2017-03-02T22:11:00.951751",
     "start_time": "2017-03-02T22:11:00.916931"
    },
    "collapsed": false
   },
   "outputs": [
    {
     "data": {
      "text/plain": [
       "(['littleunderstood',\n",
       "  'ttitrittittittittittmtmttittitttttittimttittittittimmttitti',\n",
       "  'thoughtstimulating',\n",
       "  'oriderfullrsupcessfal',\n",
       "  'heaven-appointed',\n",
       "  'house-furnishing',\n",
       "  'scienceinthekitchen',\n",
       "  'spanish-speaking',\n",
       "  'awnidllinfinthdethieghbeosotkf',\n",
       "  'applrthescprinciplesitrthe',\n",
       "  'commander-in-chief',\n",
       "  'aawaaaaaovvvoovvvvy',\n",
       "  'tooverindulgence',\n",
       "  'numbercontaining',\n",
       "  'cettesseciecceseveessies',\n",
       "  'wwwwhuowwwwwwwwwwaiwwwwwwwwimaiwuaiiimai',\n",
       "  'itnhethctecmhtpatiear',\n",
       "  'csaetanldogfouer',\n",
       "  'square-shouldered',\n",
       "  'unimpededlcirculation',\n",
       "  'carnalmindedness',\n",
       "  'esmliornagbligeetereetscoga',\n",
       "  'poverty-stricken',\n",
       "  'frankfort-on-the-main',\n",
       "  'blackberry-juice',\n",
       "  'osteromearammerse',\n",
       "  'thisadvertisement',\n",
       "  'sewage-contaminated',\n",
       "  'aaatasisaasaaalaisa',\n",
       "  'healthdestroying',\n",
       "  'health-destroying',\n",
       "  'insttiitututition',\n",
       "  'commandment-keeping',\n",
       "  'boarding-schools',\n",
       "  'vvvvvvvvvvvvvvykin',\n",
       "  'slaughter-houses',\n",
       "  'aiiwtyaiylliyiiimmamosimmonm',\n",
       "  'timittitiimmimimitttimitmtiiittimmtmmittittimmtimmimmmmittmtm',\n",
       "  'efflacsamalmomasew',\n",
       "  'selfforgetfulness',\n",
       "  'ordinarylcrackers',\n",
       "  'ordinaryconventional',\n",
       "  'ihwvinwiniviniaina',\n",
       "  'training-classes',\n",
       "  'govtomovgnoougutovnft',\n",
       "  'followinginstitutions',\n",
       "  'whitney-salisbury',\n",
       "  'specialadvantages',\n",
       "  'self-independence',\n",
       "  'mtimimmmtimimmttitimimitimmitimitimimiiiii',\n",
       "  'blessing-accompanying',\n",
       "  'brain-stupefying',\n",
       "  'aaaaaaaaaaamaaaaaaaaa',\n",
       "  'brain-destroying',\n",
       "  'atithatameloftwo',\n",
       "  'self-forgetfulness',\n",
       "  'mmmmmammmammmmimawnam',\n",
       "  'energy-consuming',\n",
       "  'energy-producing',\n",
       "  'hundredattlaaerintiona',\n",
       "  'tikviavtvyamosionononswwww',\n",
       "  'self-righteousness',\n",
       "  'wtitniosonomionli',\n",
       "  'ulialluilumuluiliumulimam',\n",
       "  'tawaaaaaaaaaaaaom',\n",
       "  'mtimmtmmtmemmmrwrmyrymmirimvmmmwmt',\n",
       "  'extraordinaryway',\n",
       "  'trdttttitattzwzuw',\n",
       "  'menniryfrimyyttittyityyttimmityvvvniyvvmmvvvvvyvvrrmyyttmitmimmitttyvvvvm',\n",
       "  'kibroth-hattaavah',\n",
       "  'poison-producing',\n",
       "  'encouragement-to',\n",
       "  'self-justification',\n",
       "  'lailuuliliuwwwwwwwwwwwwwwwwwwwwaualuuumuuukiliwwwwww',\n",
       "  'blood-bespattered',\n",
       "  'zannaanaaaaaaaawaa',\n",
       "  'universattestimoni',\n",
       "  'vvvvyvvvvvvvvvyvvvvvvvvvvvvviaaaaaanyvvvvvvp',\n",
       "  \"years'experiencein\",\n",
       "  'pleasure-seeking',\n",
       "  'sanitaritimdnring',\n",
       "  'electric-thermal',\n",
       "  'genito-urinaryand',\n",
       "  'fellifiniffeemiiiiiitttliiiiiiiiiimmoionnowannomp',\n",
       "  'ljazreeitnihsichaous',\n",
       "  'alkaloidcontaining',\n",
       "  'mttttttttttttuattt',\n",
       "  'consumptiongerms',\n",
       "  'blood-corpuscles',\n",
       "  'iiiiiiiiilllliiiil',\n",
       "  'self-gratification',\n",
       "  'exastwoeftwwwwiess',\n",
       "  'titityymyytitymyttivityymyymtmitymtityiti',\n",
       "  'ordinaryrxrackers',\n",
       "  'sanitaryandelectricalsupplyco',\n",
       "  'offensive-smelling',\n",
       "  'fourteen-year-old',\n",
       "  'isksymonsemmeartal',\n",
       "  'airawsaaaaaasaaf',\n",
       "  'milloaawymemoamom',\n",
       "  'andelectricalsupplyco',\n",
       "  'counter-irritant'],\n",
       " 15)"
      ]
     },
     "execution_count": 37,
     "metadata": {},
     "output_type": "execute_result"
    }
   ],
   "source": [
    "GoH.reports.long_errors(errors_summary, min_length=15)"
   ]
  },
  {
   "cell_type": "markdown",
   "metadata": {},
   "source": [
    "## Correction 8 -- Remove long error tokens"
   ]
  },
  {
   "cell_type": "code",
   "execution_count": 39,
   "metadata": {
    "ExecuteTime": {
     "end_time": "2017-03-02T22:13:08.835240",
     "start_time": "2017-03-02T22:13:07.953866"
    },
    "collapsed": false
   },
   "outputs": [
    {
     "name": "stdout",
     "output_type": "stream",
     "text": [
      "GOH18970201-V01-01-page2.txt: [('MTIMIMMMTIMIMMTTITIMIMITIMMITIMITIMIMIIIII', ' ')]\n",
      "GOH18970201-V01-01-page20.txt: [('lailuuliliuwwwwwwwwwwwwwwwwwwwwauAluuumuuukiliwwwwww', ' ')]\n",
      "GOH18970301-V01-02-page2.txt: [('TIMITTITIIMMIMIMITTTIMITMTIIITTIMMTMMITTITTIMMTIMMIMMMMitTMTM', ' '), ('TIMITTITIIMMIMIMITTTIMITMTIIITTIMMTMMITTITTIMMTIMMIMMMMitTMTM', ' ')]\n",
      "GOH18970301-V01-02-page20.txt: [('WWWWHUOWWWWWWWWWWAIWWWWWWWWIMAIWUAIIIMAI', ' '), ('mtimmtmmTmemmmrwrmyrymmirimvmmmwmt.', ' ')]\n",
      "GOH18970601-V01-05,06-page2.txt: [('MMMMAL\"MMMMAMMWMMM', ' ')]\n",
      "GOH18970801-V01-07-page1.txt: [('TTITriTTITTITTITTITTMTMTTITTITTTTTITTIMTTITTITTITTIMMTTITTI', ' ')]\n",
      "GOH18970801-V01-07-page2.txt: [('MttttttttttttUAttt', ' ')]\n",
      "GOH18970801-V01-07-page20.txt: [('AAAAAAAAAAAAAA', ' '), ('ZANNAANAAAAAAAAWAA', ' '), ('AAAAAAAAAAAMAAAAAAAAA', ' '), ('tAWAAAAAAAAAAAAOM', ' ')]\n",
      "GOH18971001-V01-09-page19.txt: [('VVVVYVVVVVVVVVYVVVVVVVVVVVVVIAAAAAANYVVVVVVP', ' ')]\n",
      "GOH18971001-V01-09-page3.txt: [('iiiiiiiiilllliIIIl', ' ')]\n",
      "GOH18980601-V02-06-page2.txt: [('aaasOlaaaaaaop', ' ')]\n",
      "GOH18981001-V02-10-page1.txt: [('MMMMMAMMMAMMMMIMAWNAM', ' ')]\n",
      "GOH18990301-V03-03-page2.txt: [('VVVVVVVVVVVVVVYkin', ' ')]\n",
      "GOH18990601-V03-06-page27.txt: [('airawsaaaaaasaaf', ' '), ('aaatasisaasaaalaisa', ' ')]\n",
      "GOH18990701-V03-07-page20.txt: [('menniryfrIMYYTTITTYITYYTTIMMITYvvvniyvvmmvvvvvyvvrrMYYTTMITMIMMITTTyvvvvM', ' '), ('menniryfrIMYYTTITTYITYYTTIMMITYvvvniyvvmmvvvvvyvvrrMYYTTMITMIMMITTTyvvvvM', ' '), ('menniryfrIMYYTTITTYITYYTTIMMITYvvvniyvvmmvvvvvyvvrrMYYTTMITMIMMITTTyvvvvM', ' ')]\n",
      "GOH18990801-V03-08-page20.txt: [('FellifiNiffeeMiiiiiitttliiiiiiiiiiMMOIONNOWANNOMP', ' ')]\n"
     ]
    }
   ],
   "source": [
    "# %load shared_elements/remove-tokens-with-long-strings-of-characters.py\n",
    "prev = cycle\n",
    "cycle = \"correction8\"\n",
    "\n",
    "directories = GoH.utilities.define_directories(prev, cycle, base_dir)\n",
    "if not os.path.exists(directories['cycle']):\n",
    "    os.makedirs(directories['cycle'])\n",
    "\n",
    "corpus = (f for f in listdir(directories['prev']) if not f.startswith('.') and isfile(join(directories['prev'], f)))\n",
    "\n",
    "for filename in corpus:\n",
    "    content = GoH.utilities.readfile(directories['prev'], filename)\n",
    "\n",
    "    text = re.sub(r\"[0-9,!?$:;&]\", \" \", content)\n",
    "    tokens = GoH.utilities.tokenize_text(text)\n",
    "    \n",
    "    replacements = []\n",
    "    replacements.append(GoH.clean.check_for_repeating_characters(tokens, \"a|A\"))\n",
    "    replacements.append(GoH.clean.check_for_repeating_characters(tokens, \"v|V\"))\n",
    "    replacements.append(GoH.clean.check_for_repeating_characters(tokens, \"w|W\"))\n",
    "    replacements.append(GoH.clean.check_for_repeating_characters(tokens, \"i|I\"))\n",
    "    replacements.append(GoH.clean.check_for_repeating_characters(tokens, \"m|M\"))\n",
    "    replacements.append(GoH.clean.check_for_repeating_characters(tokens, \"t|T\"))\n",
    "    \n",
    "    replacements = [item for sublist in replacements for item in sublist]\n",
    "            \n",
    "    if len(replacements) > 0:\n",
    "        print('{}: {}'.format(filename, replacements))\n",
    "\n",
    "        for replacement in replacements:\n",
    "            content = GoH.clean.replace_pair(replacement, content)\n",
    "    else:\n",
    "        pass\n",
    "    \n",
    "    with open(join(directories['cycle'], filename), mode=\"w\") as o:\n",
    "        o.write(content)\n",
    "        o.close()"
   ]
  },
  {
   "cell_type": "markdown",
   "metadata": {},
   "source": [
    "## Correction 9 -- Separate Squashed Words"
   ]
  },
  {
   "cell_type": "code",
   "execution_count": 41,
   "metadata": {
    "ExecuteTime": {
     "end_time": "2017-03-02T22:14:03.794294",
     "start_time": "2017-03-02T22:14:02.275008"
    },
    "collapsed": false
   },
   "outputs": [
    {
     "name": "stdout",
     "output_type": "stream",
     "text": [
      "GOH18980601-V02-06-page30.txt: [('thoughtstimulating', 'thought stimulating')]\n",
      "GOH18980801-V02-08-page2.txt: [('ScienceintheKitchen', 'Science in the Kitchen')]\n",
      "GOH18980901-V02-09-page17.txt: [('ordinaryconventional', 'ordinary conventional')]\n",
      "GOH18981201-V02-12-page27.txt: [('followinginstitutions', 'following institutions')]\n"
     ]
    }
   ],
   "source": [
    "# %load shared_elements/separate_squashed_words.py\n",
    "import pandas as pd\n",
    "from math import log\n",
    "\n",
    "prev = cycle\n",
    "cycle = \"correction9\"\n",
    "\n",
    "directories = GoH.utilities.define_directories(prev, cycle, base_dir)\n",
    "if not os.path.exists(directories['cycle']):\n",
    "    os.makedirs(directories['cycle'])\n",
    "\n",
    "corpus = (f for f in listdir(directories['prev']) if not f.startswith('.') and isfile(join(directories['prev'], f)))\n",
    "\n",
    "verified_tokens = []\n",
    "\n",
    "for filename in corpus:  \n",
    "    content = GoH.utilities.readfile(directories['prev'], filename)\n",
    "    GoH.normalize.get_approved_tokens(content, spelling_dictionary, verified_tokens)\n",
    "\n",
    "tokens_with_freq = dict(collections.Counter(verified_tokens))\n",
    "words = pd.DataFrame(list(tokens_with_freq.items()), columns=['token','freq'])\n",
    "words_sorted = words.sort_values('freq', ascending=False)\n",
    "words_sorted_short = words_sorted[words_sorted.freq > 2]\n",
    "\n",
    "sorted_list_of_words = list(words_sorted_short['token'])\n",
    "\n",
    "wordcost = dict((k, log((i+1)*log(len(sorted_list_of_words)))) for i,k in enumerate(sorted_list_of_words))\n",
    "maxword = max(len(x) for x in sorted_list_of_words)\n",
    "\n",
    "corpus = (f for f in listdir(directories['prev']) if not f.startswith('.') and isfile(join(directories['prev'], f)))\n",
    "\n",
    "for filename in corpus:\n",
    "    content = GoH.utilities.readfile(directories['prev'], filename)\n",
    "\n",
    "    text = GoH.utilities.strip_punct(content)\n",
    "    tokens = GoH.utilities.tokenize_text(text)\n",
    "    \n",
    "    replacements = []\n",
    "    \n",
    "    for token in tokens:\n",
    "        if not token.lower() in spelling_dictionary:\n",
    "            if len(token) > 17:\n",
    "                if re.search(r\"[\\-\\-\\'\\\"]\", token):\n",
    "                    pass\n",
    "                else:\n",
    "                    split_string = GoH.normalize.infer_spaces(token, wordcost, maxword)\n",
    "                    list_split_string = split_string.split()\n",
    "                    \n",
    "                    if GoH.normalize.verify_split_string(list_split_string, spelling_dictionary):\n",
    "                        replacements.append((token, split_string))\n",
    "                    else:\n",
    "                        pass\n",
    "            else:\n",
    "                pass\n",
    "        else:\n",
    "            pass\n",
    "        \n",
    "    if len(replacements) > 0:\n",
    "        print(\"{}: {}\".format(filename, replacements))\n",
    "        \n",
    "        for replacement in replacements:\n",
    "            content = GoH.clean.replace_pair(replacement, content)\n",
    "    \n",
    "    else:\n",
    "        pass\n",
    "\n",
    "    with open(join(directories['cycle'], filename), mode=\"w\") as o:\n",
    "        o.write(content)\n",
    "        o.close()"
   ]
  },
  {
   "cell_type": "code",
   "execution_count": 44,
   "metadata": {
    "ExecuteTime": {
     "end_time": "2017-03-02T22:14:20.787671",
     "start_time": "2017-03-02T22:14:19.993266"
    },
    "collapsed": false
   },
   "outputs": [
    {
     "name": "stdout",
     "output_type": "stream",
     "text": [
      "Directory: /Users/jeriwieringa/Dissertation/text/text/2017-01-31-corpus-with-utf8-split-into-titles-cleaning/GOH/correction9\n",
      "\n",
      "Average verified rate: 0.9853289032042201\n",
      "\n",
      "Average of error rates: 0.022110447761194033\n",
      "\n",
      "Total token count: 472221\n",
      "\n"
     ]
    },
    {
     "data": {
      "image/png": "[encoded data removed]",
      "text/plain": [
       "<matplotlib.figure.Figure at 0x11663f400>"
      ]
     },
     "metadata": {},
     "output_type": "display_data"
    }
   ],
   "source": [
    "# %load shared_elements/summary.py\n",
    "summary = GoH.reports.overview_report(directories['cycle'], spelling_dictionary, title)"
   ]
  },
  {
   "cell_type": "code",
   "execution_count": 45,
   "metadata": {
    "ExecuteTime": {
     "end_time": "2017-03-02T22:14:20.836356",
     "start_time": "2017-03-02T22:14:20.789361"
    },
    "collapsed": false
   },
   "outputs": [
    {
     "data": {
      "text/plain": [
       "[('m', 464),\n",
       " ('d', 429),\n",
       " (\"'\", 410),\n",
       " ('e', 349),\n",
       " ('w', 212),\n",
       " ('f', 197),\n",
       " ('g', 155),\n",
       " ('t', 154),\n",
       " ('r', 149),\n",
       " ('n', 100),\n",
       " ('u', 81),\n",
       " ('co', 79),\n",
       " ('k', 47),\n",
       " ('q', 41),\n",
       " ('op', 33),\n",
       " ('db', 31),\n",
       " ('ft', 30),\n",
       " ('camp-ground', 26),\n",
       " ('z', 25),\n",
       " ('th', 24),\n",
       " (\"workingmen's\", 24),\n",
       " (\"''\", 23),\n",
       " ('abbie', 20),\n",
       " ('x', 18),\n",
       " ('ex', 16),\n",
       " ('lenna', 13),\n",
       " (\"the'\", 13),\n",
       " ('left-over', 13),\n",
       " ('wm', 12),\n",
       " ('-', 12)]"
      ]
     },
     "execution_count": 45,
     "metadata": {},
     "output_type": "execute_result"
    }
   ],
   "source": [
    "# %load shared_elements/top_errors.py\n",
    "errors_summary = GoH.reports.get_errors_summary( summary )\n",
    "GoH.reports.top_errors( errors_summary, 10 )[:50]"
   ]
  },
  {
   "cell_type": "code",
   "execution_count": null,
   "metadata": {
    "collapsed": true
   },
   "outputs": [],
   "source": []
  }
 ],
 "metadata": {
  "anaconda-cloud": {},
  "kernelspec": {
   "display_name": "Python [conda env:dissertation2]",
   "language": "python",
   "name": "conda-env-dissertation2-py"
  },
  "language_info": {
   "codemirror_mode": {
    "name": "ipython",
    "version": 3
   },
   "file_extension": ".py",
   "mimetype": "text/x-python",
   "name": "python",
   "nbconvert_exporter": "python",
   "pygments_lexer": "ipython3",
   "version": "3.5.2"
  }
 },
 "nbformat": 4,
 "nbformat_minor": 2
}
