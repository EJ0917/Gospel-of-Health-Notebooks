{
 "cells": [
  {
   "cell_type": "markdown",
   "metadata": {
    "toc": "true"
   },
   "source": [
    "# Table of Contents\n",
    " <p>"
   ]
  },
  {
   "cell_type": "code",
   "execution_count": 1,
   "metadata": {
    "ExecuteTime": {
     "end_time": "2017-01-03T15:15:10.878886",
     "start_time": "2017-01-03T15:15:09.419206"
    },
    "collapsed": true
   },
   "outputs": [],
   "source": [
    "from os import listdir\n",
    "from os.path import isfile, join\n",
    "import csv\n",
    "import datetime\n",
    "import nltk\n",
    "from nltk.corpus import words\n",
    "from nltk import word_tokenize\n",
    "import re"
   ]
  },
  {
   "cell_type": "code",
   "execution_count": 2,
   "metadata": {
    "ExecuteTime": {
     "end_time": "2017-01-03T15:15:11.581778",
     "start_time": "2017-01-03T15:15:11.578455"
    },
    "collapsed": true
   },
   "outputs": [],
   "source": [
    "input_dir = \"/Users/jeriwieringa/Dissertation/text/text-current/2016-11-16-corpus-with-preliminary-cleaning/\"\n",
    "out_dir = \"/Users/jeriwieringa/Dissertation/drafts/data/spelling-statistics/round4/\"\n",
    "word_list_dir = \"/Users/jeriwieringa/Dissertation/drafts/data/word-lists/\""
   ]
  },
  {
   "cell_type": "code",
   "execution_count": 3,
   "metadata": {
    "ExecuteTime": {
     "end_time": "2017-01-03T15:15:24.046189",
     "start_time": "2017-01-03T15:15:12.598211"
    },
    "collapsed": true
   },
   "outputs": [],
   "source": [
    "corpus = [f for f in listdir(input_dir) if not f.startswith('.') and isfile(join(input_dir, f))]"
   ]
  },
  {
   "cell_type": "code",
   "execution_count": 4,
   "metadata": {
    "ExecuteTime": {
     "end_time": "2017-01-03T15:15:24.051005",
     "start_time": "2017-01-03T15:15:24.047621"
    },
    "collapsed": true
   },
   "outputs": [],
   "source": [
    "titles = [\"ADV\", \"AmSn\", \"ARAI\", \"CE\", \"CUV\", \"EDU\", \"GCB\", \"GH\", \"GOH\", \"GS\", \"HM\", \"HR\", \n",
    "          \"IR\", \"LB\", \"LH\", \"LibM\", \"LUH\", \"NMN\",\"PHJ\",\"PTAR\",\"PUR\",\"RH\",\"Sligo\",\"SOL\",\n",
    "          \"ST\",\"SUW\",\"TCOG\",\"TMM\",\"WMH\",\"YI\"]"
   ]
  },
  {
   "cell_type": "code",
   "execution_count": 5,
   "metadata": {
    "ExecuteTime": {
     "end_time": "2017-01-03T15:15:24.060819",
     "start_time": "2017-01-03T15:15:24.054391"
    },
    "collapsed": true
   },
   "outputs": [],
   "source": [
    "# Function for pulling words from a txt file\n",
    "\n",
    "def load_from_txt(file_name):\n",
    "    with open(file_name, \"r\") as txt:\n",
    "        words = txt.read().splitlines()\n",
    "        word_list = [w.lower() for w in words]\n",
    "    return(word_list)"
   ]
  },
  {
   "cell_type": "code",
   "execution_count": 6,
   "metadata": {
    "ExecuteTime": {
     "end_time": "2017-01-03T15:15:51.158866",
     "start_time": "2017-01-03T15:15:51.022374"
    },
    "collapsed": false
   },
   "outputs": [],
   "source": [
    "generic_list = load_from_txt(join(word_list_dir, '2016-12-06-First-SDA-Word-List.txt'))\n",
    "person_names = load_from_txt(join(word_list_dir, '2016-12-07-SDA-last-names.txt'))\n",
    "place_names = load_from_txt(join(word_list_dir, '2016-12-07-SDA-place-names.txt'))\n",
    "place_names_2 = load_from_txt(join(word_list_dir, '2017-01-03-place-names.txt'))\n",
    "sda_words = load_from_txt(join(word_list_dir, '2016-12-08-SDA-Vocabulary.txt'))"
   ]
  },
  {
   "cell_type": "code",
   "execution_count": 7,
   "metadata": {
    "ExecuteTime": {
     "end_time": "2017-01-03T15:15:54.124271",
     "start_time": "2017-01-03T15:15:54.035823"
    },
    "collapsed": true
   },
   "outputs": [],
   "source": [
    "spelling_dictionary = list(set(generic_list + person_names + place_names + place_names_2 + sda_words))"
   ]
  },
  {
   "cell_type": "code",
   "execution_count": 8,
   "metadata": {
    "ExecuteTime": {
     "end_time": "2017-01-03T15:15:58.582654",
     "start_time": "2017-01-03T15:15:58.575382"
    },
    "collapsed": true
   },
   "outputs": [],
   "source": [
    "def refresh_dictionary():\n",
    "    \n",
    "    sda_words = load_from_txt(join(word_list_dir, '2016-12-08-SDA-Vocabulary.txt'))\n",
    "    \n",
    "    return(list(set(generic_list + person_names + place_names + place_names_2 + sda_words)))"
   ]
  },
  {
   "cell_type": "code",
   "execution_count": 9,
   "metadata": {
    "ExecuteTime": {
     "end_time": "2017-01-03T15:16:00.215125",
     "start_time": "2017-01-03T15:16:00.185761"
    },
    "collapsed": false
   },
   "outputs": [],
   "source": [
    "def check_words(text, filename, spell_dictionary):\n",
    "    \n",
    "    # Clean 1: \n",
    "    ''' \n",
    "    Replace punctuation with a space to avoid attaching line ending errors to words. \n",
    "    Remove the '-' of hyphenated words. This allows me to check value of \n",
    "    each part of the combined word, without having to expand the dictionary too much. \n",
    "    Also allows for greater variability in the construction of hyphenated words \n",
    "    (as was often the case in 19th century writing.)\n",
    "    '''\n",
    "    text_cleaned = re.sub(r\"[0-9,.!?$:;]\\|\", \" \", text)\n",
    "    \n",
    "    # Special line for dashes to account for the variety of encodings\n",
    "    \n",
    "    text_cleaned = re.sub(r\"[-—–‑]\", \" \", text_cleaned)\n",
    "    \n",
    "    # Clean 2:\n",
    "    ''' \n",
    "    Correct occurances of wordsõ and wordõs to words' and word's. This pattern is seen in ADV, HR, and SUW.\n",
    "    õ does not occur as a spelling error in the other periodical titles. However this pattern should prevent a \n",
    "    too-greedy clearing out of the character.\n",
    "    '''\n",
    "    text_cleaned = re.sub(r\"(\\w+)(õ|Õ)\", r\"\\1'\", text_cleaned)\n",
    "    \n",
    "    # Clean 3:\n",
    "    ''' \n",
    "    Correct for names that have run together (and possibly some phrases) by identifying words with capitalization \n",
    "    in the middle, isolating the capitals, and adding a space.\n",
    "    Solution from stack overflow: http://stackoverflow.com/questions/1097901/\n",
    "    '''\n",
    "    text_cleaned = re.sub(r\"((?<=[a-z])[A-Z]|[A-Z](?=[a-z]))\", r\" \\1\", text_cleaned)\n",
    "    \n",
    "    # Clean 4: \n",
    "    '''\n",
    "    Remove all non-alpha characters. As these can be found in the middle of words, I am not replacing them with a \n",
    "    space, as I did above. Leave \"'\" for possessives and contractions.\n",
    "    '''\n",
    "    text_cleaned = re.sub(r\"[^\\s[a-zA-Z'’]\", \"\", text_cleaned)\n",
    "    \n",
    "    tokens = word_tokenize(text_cleaned)\n",
    "    tokens_lower = [w.lower() for w in tokens]\n",
    "    \n",
    "#     print(tokens_lower)\n",
    "    \n",
    "    errors = set(tokens_lower)-set(spelling_dictionary)    \n",
    "    \n",
    "    freq_distribution = nltk.FreqDist(tokens_lower)\n",
    "    \n",
    "    error_report = {}\n",
    "    \n",
    "    error_total = 0\n",
    "    for error in list(errors):\n",
    "        error_count = freq_distribution[error]\n",
    "        error_total = error_total + error_count\n",
    "        error_report.update({error:error_count})\n",
    "                          \n",
    "    overview = {'doc_id': filename, 'num_tokens': len(tokens), 'num_errors': error_total, 'errors': error_report}\n",
    "     \n",
    "    return(overview)"
   ]
  },
  {
   "cell_type": "code",
   "execution_count": 10,
   "metadata": {
    "ExecuteTime": {
     "end_time": "2017-01-03T15:16:01.222390",
     "start_time": "2017-01-03T15:16:01.203580"
    },
    "collapsed": true
   },
   "outputs": [],
   "source": [
    "def process_texts(title):\n",
    "    statistics = []\n",
    "    for filename in corpus:\n",
    "        if filename.startswith(title):\n",
    "#             print(filename)\n",
    "            with open(input_dir + filename, \"r\") as f:\n",
    "                \n",
    "                content = f.read()\n",
    "                \n",
    "                stats = check_words(content, filename, spelling_dictionary)\n",
    "                statistics.append(stats)\n",
    "    return(statistics)"
   ]
  },
  {
   "cell_type": "code",
   "execution_count": 11,
   "metadata": {
    "ExecuteTime": {
     "end_time": "2017-01-03T15:16:02.119115",
     "start_time": "2017-01-03T15:16:02.113113"
    },
    "collapsed": true
   },
   "outputs": [],
   "source": [
    "def test_process(file):\n",
    "    with open(input_dir + file, \"r\") as f:\n",
    "        print(file)\n",
    "        content = f.read()\n",
    "        print(content)\n",
    "        stats = check_words(content, file, spelling_dictionary)\n",
    "        print(\"Errors: {}\".format(stats['errors']))\n",
    "        print(stats)"
   ]
  },
  {
   "cell_type": "code",
   "execution_count": 12,
   "metadata": {
    "ExecuteTime": {
     "end_time": "2017-01-03T15:16:02.995393",
     "start_time": "2017-01-03T15:16:02.920268"
    },
    "collapsed": false,
    "scrolled": false
   },
   "outputs": [
    {
     "name": "stdout",
     "output_type": "stream",
     "text": [
      "AmSn18910402-V06-14-page1.txt\n",
      " VOLUME 6.\n",
      "Equal and exact justice to all men, of whatever state or persuasion, religious or political.ÑThomas .7eferson. NEW YORK, APRIL 2, 1891.\n",
      "NUMBER 14.\n",
      "The Ametrican Sentinel. PUBLISHED WEEKLY, BY THE\n",
      "PACIFIC PRESS PUBLISHING, COMPANY,\n",
      "No. 43 Bow ST., NEW YORK.\n",
      "Entered at the New York Post Office as Second Class Matter.\n",
      "EDITOR, - - - ALONZO T. JONES.\n",
      "ASSOCIATE EDITORS,\n",
      "during the summer. If they decline to do so at other times of the year they violate no law. . .\n",
      "If employers do not see fit to observe the half-holiday in their own business there is nowhere any authority to compel them.\n",
      "We have italicized one sentence in the foregoing to call attention to the central thought in it, namely, that \" there is, no power in the Legislature to enact \" a law compelling suspension of business on Saturday afternoon. This we believe to be the truth. Then how is it' that laws are not only passed but are sustained by the courts compelling suspension of business on Sunday ?\n",
      "¥¥\n",
      "What Is the Guide to Morality?\n",
      "AT the end of his discussion of the subject of \"Ethics for Schools,\" Mr. Bierbower come to \" conscientiousness.\" In fact this point is touched upon in the very beginning of the introduction of the book, so that the beginning and the end, the first and the last, deals with the question of conscience. In stating \" the ground of right,\" the second paragraph in the book says :Ñ\n",
      "We recognize right by our judgment of what is best, and by a feelingÑconscienceÑwhich indicates, as the result of many impressions, what we ought to do, and impels us thereto.\n",
      "And the last chapter of the book begins with the following paragraph\n",
      "The most general rule of morality is to do what you believe right and good, and to preserve the perpetual consciousness of,this by instantly performing your duty, when seen. Goodness is simple when thus reduced to one rule. For you have but to look at your conscience to see your duty, conscience being the sense of what we ought to de, which results from all our thought and information on the subject. ÑPage 283.\n",
      "¥ This ground of right is just as treacherous as that which was discovered in the previous article on this subject; in fact, it is the same thing only stated in other words; yet as it enters the realm of conscience it touches the real ground of supreme right, and ultimate good. If conscience were a true guide, then this rule would be good enough; but conscience is not a true guide. Conscience as a guide\n",
      "is as erratic as any other faculty in man. The truth is that conscience itself must be guided. This is admitted by the book now under notice. One statement to this effect is as follows :Ñ\n",
      "C. P. BOLLMAN,\n",
      "W. IL Mc KEE.\n",
      "¥\n",
      "It is important then in taking conscience as a\n",
      "guide, to have it in working order.ÑPage 284.\n",
      "Yes, we should naturally suppose so. Any kind of an instrument that is not in working order is not of much use; and especially in questions of conscience and of ultimate right. And in this case even to think of taking as a guide an instrument that could ever by any possibility get out of working order, seems a most singular suggestion. Another statement to the same purpose is as follows :Ñ\n",
      "We can not do right to-day on yesterday's wrongs ; so that men should often straighten out their conscience to get its legitimate indications. ÑPage 28.4.\n",
      "And again:Ñ\n",
      "Inspect your conscience as well as your observance of it, or, rather, look after your views of right as well as your conformity thereto. ÑPage 290.\n",
      "Of what use is a rule of right which goes so much awry and becomes so easily kinked that it needs \" often \" to be straightened out ? And, of what use is a guide that has to be held up for inspection every little while ?\n",
      "Again we read :Ñ\n",
      "Though conscience may err, it is the best judgment we haveÑthe pointing of the compass after all the conflicting forces which would diversely impel us, and so coming of our knowledge to a head in the will.ÑPage 283.\n",
      "With how much certainty can a compass be depended upon which not only may, but confessedly does, often point the wrong way ? What insurance company or ship owner would send a ship to sea with such a compass as that ? What captain or sailor would think of starting to sea with such a compass ? The strangest part of this whole systein of ethics, is that conscience would be recommended as a guide, when it is stated repeatedly not only that it may err, but that it does err; often.\n",
      "There is another question which arises here. How is conscience to be inspected ? - Who is to conduct the inspection ? Who\n",
      "READING, writing, arithmetic, and geography are not, taught differently by a Methodist and by a Jesuit, but in precisely the same fashion, if they are taught properly. TO say that a \" godless \" instruction in these branches of knowledge, or in any others that are properly within the province' of the public schools, is \" necessarily immoral,\" is to make a perfectly meaningless assertion.ÑNew York Times.\n",
      "T E Christian religion made its way into the world in -'opposition to all human governments. Banishment, tortures, and death were inflicted in vain to stop its progress. But 'many of its professors, as soon as clothed with political power, lost the meek spirit which their creed inculcated, and began to inflict on other religions, and on dissenting sects of their own religion, persecutions more aggravated than those which their own apostles had endured.ÑCol. Richard M. Johnson.\n",
      "¥¥\n",
      "OF the SaturdaY, half-holiday and the\n",
      "law, which makes it such, the says:Ñ\n",
      "World\n",
      "It is difficult to see what can be done, apart_ from persuasion, to secure a more general observance of the Saturday half-holiday. The law does not compel any merchant or Shop-keeper orLfacteri owner to Clime his establishment on Saturday afternoon. Indeed, there is no power in the Legislature to enact suck a law. All that can be doneby statute is done. The law makes Saturday 'afterneon a half-holiday. It compels banks to close, renders the protest of notes and the like illegal, and thus makes it less easy than it would otherWiee be for general business to 'go on. a Consegtience most large, and many small, establishments close at noon on Saturday\n",
      "\n",
      "Errors: {'il': 1, 't': 2, 'systein': 1, \"'go\": 1, \"'opposition\": 1, 'doneby': 1, 'bierbower': 1, 'c': 1, 'eferson': 1, 'w': 1, 'feelingconsciencewhich': 1, 'ofthis': 1, \"'s\": 1, 'mc': 1, 'consegtience': 1, 'e': 1, 'lfacteri': 1, 'kee': 1, 'wiee': 1, 'saturda': 1, \"'afterneon\": 1, 'havethe': 1, \"'many\": 1, 'ametrican': 1, \"'\": 2, 'm': 1}\n",
      "{'errors': {'il': 1, 't': 2, 'systein': 1, \"'go\": 1, \"'opposition\": 1, 'doneby': 1, 'bierbower': 1, 'c': 1, 'eferson': 1, 'w': 1, 'feelingconsciencewhich': 1, 'ofthis': 1, \"'s\": 1, 'mc': 1, 'consegtience': 1, 'e': 1, 'lfacteri': 1, 'kee': 1, 'wiee': 1, 'saturda': 1, \"'afterneon\": 1, 'havethe': 1, \"'many\": 1, 'ametrican': 1, \"'\": 2, 'm': 1}, 'doc_id': 'AmSn18910402-V06-14-page1.txt', 'num_errors': 28, 'num_tokens': 1080}\n"
     ]
    }
   ],
   "source": [
    "test_process('AmSn18910402-V06-14-page1.txt')"
   ]
  },
  {
   "cell_type": "code",
   "execution_count": 13,
   "metadata": {
    "ExecuteTime": {
     "end_time": "2017-01-03T15:16:10.343564",
     "start_time": "2017-01-03T15:16:10.318985"
    },
    "collapsed": true
   },
   "outputs": [],
   "source": [
    "from collections import Counter\n",
    "import csv\n",
    "\n",
    "def process_title(title):\n",
    "    print(title)\n",
    "        \n",
    "    statistics = process_texts(title)\n",
    "    \n",
    "    # Get summary statistics on the errors\n",
    "\n",
    "    all_errors = [report['errors'] for report in statistics]\n",
    "\n",
    "    inp = [dict(x) for x in all_errors]\n",
    "    \n",
    "    errors_summary = Counter()\n",
    "    for y in inp:\n",
    "        errors_summary += Counter(y)\n",
    "\n",
    "    with open(\"{}{}-corpus-spelling-errors-round-4-{}.csv\".format(out_dir, str(datetime.date.today()), title), \n",
    "              \"w\") as csv_file:\n",
    "        fieldnames = ['doc_id', 'num_tokens', 'num_errors', 'errors']\n",
    "        writer = csv.DictWriter(csv_file, fieldnames=fieldnames)\n",
    "        writer.writeheader()\n",
    "        \n",
    "        for stats in statistics:\n",
    "            writer.writerow(stats)\n",
    "    \n",
    "    # Save error counts for each periodical title\n",
    "    \n",
    "    with open(\"{}{}-Spelling-Errors-{}.txt\".format(out_dir, str(datetime.date.today()), title), \"w\") as outfile:\n",
    "        fieldnames2 = ['spell_error', 'count']\n",
    "        writer2 = csv.writer(outfile)\n",
    "        writer2.writerow(fieldnames2)\n",
    "        \n",
    "        for key,value in errors_summary.items():\n",
    "            writer2.writerow([key, value])  "
   ]
  },
  {
   "cell_type": "code",
   "execution_count": 30,
   "metadata": {
    "ExecuteTime": {
     "end_time": "2016-12-08T22:07:47.253929",
     "start_time": "2016-12-08T22:06:39.076738"
    },
    "collapsed": false
   },
   "outputs": [
    {
     "name": "stdout",
     "output_type": "stream",
     "text": [
      "ADV\n",
      "CPU times: user 1min 1s, sys: 3.34 s, total: 1min 4s\n",
      "Wall time: 1min 8s\n"
     ]
    }
   ],
   "source": [
    "%time process_title('ADV')"
   ]
  },
  {
   "cell_type": "code",
   "execution_count": 31,
   "metadata": {
    "ExecuteTime": {
     "end_time": "2016-12-08T22:12:03.685942",
     "start_time": "2016-12-08T22:07:47.255952"
    },
    "collapsed": false
   },
   "outputs": [
    {
     "name": "stdout",
     "output_type": "stream",
     "text": [
      "AmSn\n",
      "CPU times: user 3min 53s, sys: 11 s, total: 4min 4s\n",
      "Wall time: 4min 16s\n"
     ]
    }
   ],
   "source": [
    "%time process_title('AmSn')"
   ]
  },
  {
   "cell_type": "code",
   "execution_count": 32,
   "metadata": {
    "ExecuteTime": {
     "end_time": "2016-12-08T22:14:22.883684",
     "start_time": "2016-12-08T22:14:19.918064"
    },
    "collapsed": false
   },
   "outputs": [
    {
     "name": "stdout",
     "output_type": "stream",
     "text": [
      "ARAI\n",
      "CPU times: user 2.67 s, sys: 160 ms, total: 2.83 s\n",
      "Wall time: 2.96 s\n"
     ]
    }
   ],
   "source": [
    "%time process_title('ARAI')"
   ]
  },
  {
   "cell_type": "code",
   "execution_count": 36,
   "metadata": {
    "ExecuteTime": {
     "end_time": "2016-12-09T07:39:46.858989",
     "start_time": "2016-12-09T07:38:04.598206"
    },
    "collapsed": false
   },
   "outputs": [
    {
     "name": "stdout",
     "output_type": "stream",
     "text": [
      "CE\n",
      "CPU times: user 1min 29s, sys: 4.5 s, total: 1min 33s\n",
      "Wall time: 1min 42s\n"
     ]
    }
   ],
   "source": [
    "%time process_title('CE')"
   ]
  },
  {
   "cell_type": "code",
   "execution_count": 39,
   "metadata": {
    "ExecuteTime": {
     "end_time": "2016-12-09T09:56:02.141771",
     "start_time": "2016-12-09T09:52:36.687878"
    },
    "collapsed": false
   },
   "outputs": [
    {
     "name": "stdout",
     "output_type": "stream",
     "text": [
      "CUV\n",
      "CPU times: user 3min 8s, sys: 8.65 s, total: 3min 16s\n",
      "Wall time: 3min 25s\n"
     ]
    }
   ],
   "source": [
    "%time process_title('CUV')"
   ]
  },
  {
   "cell_type": "code",
   "execution_count": 14,
   "metadata": {
    "ExecuteTime": {
     "end_time": "2016-12-09T15:13:13.340899",
     "start_time": "2016-12-09T15:13:00.576976"
    },
    "collapsed": false
   },
   "outputs": [
    {
     "name": "stdout",
     "output_type": "stream",
     "text": [
      "EDU\n",
      "CPU times: user 11.5 s, sys: 792 ms, total: 12.3 s\n",
      "Wall time: 12.7 s\n"
     ]
    }
   ],
   "source": [
    "spelling_dictionary = refresh_dictionary()\n",
    "%time process_title('EDU')"
   ]
  },
  {
   "cell_type": "code",
   "execution_count": 15,
   "metadata": {
    "ExecuteTime": {
     "end_time": "2016-12-09T15:39:26.528453",
     "start_time": "2016-12-09T15:37:01.253336"
    },
    "collapsed": false
   },
   "outputs": [
    {
     "name": "stdout",
     "output_type": "stream",
     "text": [
      "GCB\n",
      "CPU times: user 2min 9s, sys: 8.25 s, total: 2min 17s\n",
      "Wall time: 2min 25s\n"
     ]
    }
   ],
   "source": [
    "spelling_dictionary = refresh_dictionary()\n",
    "%time process_title('GCB')"
   ]
  },
  {
   "cell_type": "code",
   "execution_count": 16,
   "metadata": {
    "ExecuteTime": {
     "end_time": "2016-12-09T17:02:06.978857",
     "start_time": "2016-12-09T17:01:06.544268"
    },
    "collapsed": false
   },
   "outputs": [
    {
     "name": "stdout",
     "output_type": "stream",
     "text": [
      "GH\n",
      "CPU times: user 54.4 s, sys: 2.72 s, total: 57.1 s\n",
      "Wall time: 1min\n"
     ]
    }
   ],
   "source": [
    "spelling_dictionary = refresh_dictionary()\n",
    "%time process_title('GH')"
   ]
  },
  {
   "cell_type": "code",
   "execution_count": 17,
   "metadata": {
    "ExecuteTime": {
     "end_time": "2016-12-09T18:15:07.048928",
     "start_time": "2016-12-09T18:14:45.528679"
    },
    "collapsed": false
   },
   "outputs": [
    {
     "name": "stdout",
     "output_type": "stream",
     "text": [
      "GOH\n",
      "CPU times: user 19.6 s, sys: 1.13 s, total: 20.7 s\n",
      "Wall time: 21.4 s\n"
     ]
    }
   ],
   "source": [
    "spelling_dictionary = refresh_dictionary()\n",
    "%time process_title('GOH')"
   ]
  },
  {
   "cell_type": "code",
   "execution_count": 18,
   "metadata": {
    "ExecuteTime": {
     "end_time": "2016-12-09T18:30:52.015108",
     "start_time": "2016-12-09T18:30:29.688652"
    },
    "collapsed": false
   },
   "outputs": [
    {
     "name": "stdout",
     "output_type": "stream",
     "text": [
      "GS\n",
      "CPU times: user 20.5 s, sys: 817 ms, total: 21.3 s\n",
      "Wall time: 22.2 s\n"
     ]
    }
   ],
   "source": [
    "spelling_dictionary = refresh_dictionary()\n",
    "%time process_title('GS')"
   ]
  },
  {
   "cell_type": "code",
   "execution_count": 13,
   "metadata": {
    "ExecuteTime": {
     "end_time": "2016-12-12T17:05:54.937574",
     "start_time": "2016-12-12T17:04:39.809411"
    },
    "collapsed": false
   },
   "outputs": [
    {
     "name": "stdout",
     "output_type": "stream",
     "text": [
      "HM\n",
      "CPU times: user 1min 6s, sys: 4.65 s, total: 1min 11s\n",
      "Wall time: 1min 15s\n"
     ]
    }
   ],
   "source": [
    "spelling_dictionary = refresh_dictionary()\n",
    "%time process_title('HM')"
   ]
  },
  {
   "cell_type": "code",
   "execution_count": 15,
   "metadata": {
    "ExecuteTime": {
     "end_time": "2016-12-12T18:49:51.144719",
     "start_time": "2016-12-12T18:37:50.219121"
    },
    "collapsed": false
   },
   "outputs": [
    {
     "name": "stdout",
     "output_type": "stream",
     "text": [
      "HR\n",
      "CPU times: user 11min 4s, sys: 27.4 s, total: 11min 31s\n",
      "Wall time: 12min\n"
     ]
    }
   ],
   "source": [
    "spelling_dictionary = refresh_dictionary()\n",
    "%time process_title('HR')"
   ]
  },
  {
   "cell_type": "code",
   "execution_count": 14,
   "metadata": {
    "ExecuteTime": {
     "end_time": "2016-12-13T20:47:31.906563",
     "start_time": "2016-12-13T20:46:49.579422"
    },
    "collapsed": false
   },
   "outputs": [
    {
     "name": "stdout",
     "output_type": "stream",
     "text": [
      "IR\n",
      "CPU times: user 34.9 s, sys: 2.72 s, total: 37.7 s\n",
      "Wall time: 42.2 s\n"
     ]
    }
   ],
   "source": [
    "spelling_dictionary = refresh_dictionary()\n",
    "%time process_title('IR')"
   ]
  },
  {
   "cell_type": "code",
   "execution_count": 14,
   "metadata": {
    "ExecuteTime": {
     "end_time": "2016-12-31T12:50:40.433078",
     "start_time": "2016-12-31T12:46:37.465228"
    },
    "collapsed": false
   },
   "outputs": [
    {
     "name": "stdout",
     "output_type": "stream",
     "text": [
      "LB\n",
      "CPU times: user 3min 38s, sys: 11.1 s, total: 3min 49s\n",
      "Wall time: 4min 2s\n"
     ]
    }
   ],
   "source": [
    "spelling_dictionary = refresh_dictionary()\n",
    "%time process_title('LB')"
   ]
  },
  {
   "cell_type": "code",
   "execution_count": 15,
   "metadata": {
    "ExecuteTime": {
     "end_time": "2016-12-31T14:13:30.780456",
     "start_time": "2016-12-31T14:09:01.241049"
    },
    "collapsed": false
   },
   "outputs": [
    {
     "name": "stdout",
     "output_type": "stream",
     "text": [
      "LH\n",
      "CPU times: user 4min 3s, sys: 13.2 s, total: 4min 16s\n",
      "Wall time: 4min 29s\n"
     ]
    }
   ],
   "source": [
    "spelling_dictionary = refresh_dictionary()\n",
    "%time process_title('LH')"
   ]
  },
  {
   "cell_type": "code",
   "execution_count": 16,
   "metadata": {
    "ExecuteTime": {
     "end_time": "2016-12-31T16:38:56.880858",
     "start_time": "2016-12-31T16:37:49.872538"
    },
    "collapsed": false
   },
   "outputs": [
    {
     "name": "stdout",
     "output_type": "stream",
     "text": [
      "LibM\n",
      "CPU times: user 1min, sys: 4.07 s, total: 1min 4s\n",
      "Wall time: 1min 6s\n"
     ]
    }
   ],
   "source": [
    "spelling_dictionary = refresh_dictionary()\n",
    "%time process_title('LibM')"
   ]
  },
  {
   "cell_type": "code",
   "execution_count": 17,
   "metadata": {
    "ExecuteTime": {
     "end_time": "2016-12-31T16:50:49.615480",
     "start_time": "2016-12-31T16:47:50.693904"
    },
    "collapsed": false
   },
   "outputs": [
    {
     "name": "stdout",
     "output_type": "stream",
     "text": [
      "LUH\n",
      "CPU times: user 2min 41s, sys: 7.76 s, total: 2min 49s\n",
      "Wall time: 2min 58s\n"
     ]
    }
   ],
   "source": [
    "spelling_dictionary = refresh_dictionary()\n",
    "%time process_title('LUH')"
   ]
  },
  {
   "cell_type": "code",
   "execution_count": 18,
   "metadata": {
    "ExecuteTime": {
     "end_time": "2017-01-01T15:59:51.060330",
     "start_time": "2017-01-01T15:59:42.286673"
    },
    "collapsed": false
   },
   "outputs": [
    {
     "name": "stdout",
     "output_type": "stream",
     "text": [
      "NMN\n",
      "CPU times: user 7.88 s, sys: 407 ms, total: 8.28 s\n",
      "Wall time: 8.59 s\n"
     ]
    }
   ],
   "source": [
    "spelling_dictionary = refresh_dictionary()\n",
    "%time process_title('NMN')"
   ]
  },
  {
   "cell_type": "code",
   "execution_count": 19,
   "metadata": {
    "ExecuteTime": {
     "end_time": "2017-01-01T16:34:23.041336",
     "start_time": "2017-01-01T16:32:30.434835"
    },
    "collapsed": false
   },
   "outputs": [
    {
     "name": "stdout",
     "output_type": "stream",
     "text": [
      "PHJ\n",
      "CPU times: user 1min 43s, sys: 4.9 s, total: 1min 48s\n",
      "Wall time: 1min 52s\n"
     ]
    }
   ],
   "source": [
    "spelling_dictionary = refresh_dictionary()\n",
    "%time process_title('PHJ')"
   ]
  },
  {
   "cell_type": "code",
   "execution_count": 14,
   "metadata": {
    "ExecuteTime": {
     "end_time": "2017-01-03T12:42:15.670218",
     "start_time": "2017-01-03T12:42:09.111972"
    },
    "collapsed": false
   },
   "outputs": [
    {
     "name": "stdout",
     "output_type": "stream",
     "text": [
      "PTAR\n",
      "CPU times: user 5.84 s, sys: 300 ms, total: 6.14 s\n",
      "Wall time: 6.52 s\n"
     ]
    }
   ],
   "source": [
    "spelling_dictionary = refresh_dictionary()\n",
    "%time process_title('PTAR')"
   ]
  },
  {
   "cell_type": "code",
   "execution_count": 14,
   "metadata": {
    "ExecuteTime": {
     "end_time": "2017-01-03T15:20:40.176067",
     "start_time": "2017-01-03T15:16:16.525113"
    },
    "collapsed": false
   },
   "outputs": [
    {
     "name": "stdout",
     "output_type": "stream",
     "text": [
      "PUR\n",
      "CPU times: user 3min 50s, sys: 21.2 s, total: 4min 11s\n",
      "Wall time: 4min 23s\n"
     ]
    }
   ],
   "source": [
    "spelling_dictionary = refresh_dictionary()\n",
    "%time process_title('PUR')"
   ]
  },
  {
   "cell_type": "code",
   "execution_count": 15,
   "metadata": {
    "ExecuteTime": {
     "end_time": "2017-01-03T17:46:14.709590",
     "start_time": "2017-01-03T15:39:54.752482"
    },
    "collapsed": false
   },
   "outputs": [
    {
     "name": "stdout",
     "output_type": "stream",
     "text": [
      "RH\n",
      "CPU times: user 1h 57min 26s, sys: 3min 20s, total: 2h 46s\n",
      "Wall time: 2h 6min 19s\n"
     ]
    }
   ],
   "source": [
    "spelling_dictionary = refresh_dictionary()\n",
    "%time process_title('RH')"
   ]
  },
  {
   "cell_type": "code",
   "execution_count": 16,
   "metadata": {
    "ExecuteTime": {
     "end_time": "2017-01-04T10:21:03.366788",
     "start_time": "2017-01-04T10:20:32.447881"
    },
    "collapsed": false
   },
   "outputs": [
    {
     "name": "stdout",
     "output_type": "stream",
     "text": [
      "Sligo\n",
      "CPU times: user 27.1 s, sys: 2.71 s, total: 29.9 s\n",
      "Wall time: 30.6 s\n"
     ]
    }
   ],
   "source": [
    "spelling_dictionary = refresh_dictionary()\n",
    "%time process_title('Sligo')"
   ]
  },
  {
   "cell_type": "code",
   "execution_count": 17,
   "metadata": {
    "ExecuteTime": {
     "end_time": "2017-01-04T10:28:18.983332",
     "start_time": "2017-01-04T10:27:09.603360"
    },
    "collapsed": false
   },
   "outputs": [
    {
     "name": "stdout",
     "output_type": "stream",
     "text": [
      "SOL\n",
      "CPU times: user 60 s, sys: 5.57 s, total: 1min 5s\n",
      "Wall time: 1min 9s\n"
     ]
    }
   ],
   "source": [
    "spelling_dictionary = refresh_dictionary()\n",
    "%time process_title('SOL')"
   ]
  },
  {
   "cell_type": "code",
   "execution_count": 18,
   "metadata": {
    "ExecuteTime": {
     "end_time": "2017-01-04T10:55:36.082562",
     "start_time": "2017-01-04T10:35:33.094153"
    },
    "collapsed": false
   },
   "outputs": [
    {
     "name": "stdout",
     "output_type": "stream",
     "text": [
      "ST\n",
      "CPU times: user 18min 22s, sys: 1min 2s, total: 19min 24s\n",
      "Wall time: 20min 2s\n"
     ]
    }
   ],
   "source": [
    "spelling_dictionary = refresh_dictionary()\n",
    "%time process_title('ST')"
   ]
  },
  {
   "cell_type": "code",
   "execution_count": 19,
   "metadata": {
    "ExecuteTime": {
     "end_time": "2017-01-04T12:23:29.625698",
     "start_time": "2017-01-04T12:20:34.187768"
    },
    "collapsed": false
   },
   "outputs": [
    {
     "name": "stdout",
     "output_type": "stream",
     "text": [
      "SUW\n",
      "CPU times: user 2min 36s, sys: 15.1 s, total: 2min 51s\n",
      "Wall time: 2min 55s\n"
     ]
    }
   ],
   "source": [
    "spelling_dictionary = refresh_dictionary()\n",
    "%time process_title('SUW')"
   ]
  },
  {
   "cell_type": "code",
   "execution_count": 20,
   "metadata": {
    "ExecuteTime": {
     "end_time": "2017-01-04T14:09:19.744552",
     "start_time": "2017-01-04T14:08:25.419200"
    },
    "collapsed": false
   },
   "outputs": [
    {
     "name": "stdout",
     "output_type": "stream",
     "text": [
      "TCOG\n",
      "CPU times: user 47.8 s, sys: 4.57 s, total: 52.4 s\n",
      "Wall time: 54 s\n"
     ]
    }
   ],
   "source": [
    "spelling_dictionary = refresh_dictionary()\n",
    "%time process_title('TCOG')"
   ]
  },
  {
   "cell_type": "code",
   "execution_count": 21,
   "metadata": {
    "ExecuteTime": {
     "end_time": "2017-01-04T14:22:44.486025",
     "start_time": "2017-01-04T14:21:43.571684"
    },
    "collapsed": false
   },
   "outputs": [
    {
     "name": "stdout",
     "output_type": "stream",
     "text": [
      "TMM\n",
      "CPU times: user 53.4 s, sys: 5.41 s, total: 58.8 s\n",
      "Wall time: 1min\n"
     ]
    }
   ],
   "source": [
    "spelling_dictionary = refresh_dictionary()\n",
    "%time process_title('TMM')"
   ]
  },
  {
   "cell_type": "code",
   "execution_count": 22,
   "metadata": {
    "ExecuteTime": {
     "end_time": "2017-01-04T14:34:16.880612",
     "start_time": "2017-01-04T14:33:38.381918"
    },
    "collapsed": false
   },
   "outputs": [
    {
     "name": "stdout",
     "output_type": "stream",
     "text": [
      "WMH\n",
      "CPU times: user 32.8 s, sys: 3.27 s, total: 36.1 s\n",
      "Wall time: 38.3 s\n"
     ]
    }
   ],
   "source": [
    "spelling_dictionary = refresh_dictionary()\n",
    "%time process_title('WMH')"
   ]
  },
  {
   "cell_type": "code",
   "execution_count": 23,
   "metadata": {
    "ExecuteTime": {
     "end_time": "2017-01-04T14:51:53.420277",
     "start_time": "2017-01-04T14:38:05.792368"
    },
    "collapsed": false
   },
   "outputs": [
    {
     "name": "stdout",
     "output_type": "stream",
     "text": [
      "YI\n",
      "CPU times: user 12min 26s, sys: 53.7 s, total: 13min 20s\n",
      "Wall time: 13min 47s\n"
     ]
    }
   ],
   "source": [
    "spelling_dictionary = refresh_dictionary()\n",
    "%time process_title('YI')"
   ]
  },
  {
   "cell_type": "code",
   "execution_count": 24,
   "metadata": {
    "ExecuteTime": {
     "end_time": "2017-01-04T14:51:54.783408",
     "start_time": "2017-01-04T14:51:53.424739"
    },
    "collapsed": false
   },
   "outputs": [
    {
     "name": "stdout",
     "output_type": "stream",
     "text": [
      "{'commit_hash': '5c9c918',\n",
      " 'commit_source': 'installation',\n",
      " 'default_encoding': 'UTF-8',\n",
      " 'ipython_path': '/Users/jeriwieringa/miniconda3/envs/dissertation2/lib/python3.5/site-packages/IPython',\n",
      " 'ipython_version': '5.1.0',\n",
      " 'os_name': 'posix',\n",
      " 'platform': 'Darwin-16.3.0-x86_64-i386-64bit',\n",
      " 'sys_executable': '/Users/jeriwieringa/miniconda3/envs/dissertation2/bin/python',\n",
      " 'sys_platform': 'darwin',\n",
      " 'sys_version': '3.5.2 |Continuum Analytics, Inc.| (default, Jul  2 2016, '\n",
      "                '17:52:12) \\n'\n",
      "                '[GCC 4.2.1 Compatible Apple LLVM 4.2 (clang-425.0.28)]'}\n",
      "anaconda-client==1.5.5\n",
      "appnope==0.1.0\n",
      "argh==0.26.1\n",
      "blinker==1.4\n",
      "bokeh==0.12.3\n",
      "boto==2.43.0\n",
      "bz2file==0.98\n",
      "chest==0.2.3\n",
      "cloudpickle==0.2.1\n",
      "clyent==1.2.2\n",
      "dask==0.12.0\n",
      "datashader==0.4.0\n",
      "datashape==0.5.2\n",
      "decorator==4.0.10\n",
      "docutils==0.12\n",
      "doit==0.29.0\n",
      "gensim==0.12.4\n",
      "Ghost.py==0.2.3\n",
      "ghp-import2==1.0.1\n",
      "gspread==0.4.1\n",
      "HeapDict==1.0.0\n",
      "httplib2==0.9.2\n",
      "husl==4.0.3\n",
      "ipykernel==4.5.2\n",
      "ipython==5.1.0\n",
      "ipython-genutils==0.1.0\n",
      "ipywidgets==5.2.2\n",
      "Jinja2==2.8\n",
      "jsonschema==2.5.1\n",
      "jupyter==1.0.0\n",
      "jupyter-client==4.4.0\n",
      "jupyter-console==5.0.0\n",
      "jupyter-contrib-core==0.3.0\n",
      "jupyter-contrib-nbextensions==0.2.2\n",
      "jupyter-core==4.2.1\n",
      "jupyter-highlight-selected-word==0.0.5\n",
      "jupyter-latex-envs==1.3.5.4\n",
      "jupyter-nbextensions-configurator==0.2.3\n",
      "llvmlite==0.14.0\n",
      "locket==0.2.0\n",
      "Logbook==1.0.0\n",
      "lxml==3.5.0\n",
      "MacFSEvents==0.7\n",
      "Mako==1.0.4\n",
      "Markdown==2.6.7\n",
      "MarkupSafe==0.23\n",
      "mistune==0.7.3\n",
      "multipledispatch==0.4.9\n",
      "natsort==4.0.4\n",
      "nb-anacondacloud==1.2.0\n",
      "nb-conda==2.0.0\n",
      "nb-conda-kernels==2.0.0\n",
      "nb-config-manager==0.1.3\n",
      "nbbrowserpdf==0.2.1\n",
      "nbconvert==4.2.0\n",
      "nbformat==4.2.0\n",
      "nbpresent==3.0.2\n",
      "networkx==1.11\n",
      "Nikola==7.7.7\n",
      "nltk==3.2.1\n",
      "notebook==4.2.3\n",
      "numba==0.29.0\n",
      "numpy==1.11.2\n",
      "oauth2client==4.0.0\n",
      "odo==0.5.0\n",
      "pandas==0.19.1\n",
      "partd==0.3.6\n",
      "path.py==0.0.0\n",
      "pathtools==0.1.2\n",
      "pexpect==4.0.1\n",
      "pickleshare==0.7.4\n",
      "Pillow==3.4.2\n",
      "prompt-toolkit==1.0.9\n",
      "psutil==4.3.0\n",
      "ptyprocess==0.5.1\n",
      "pyasn1==0.1.9\n",
      "pyasn1-modules==0.0.8\n",
      "pycrypto==2.6.1\n",
      "Pygments==2.1.3\n",
      "PyPDF2==1.25.1\n",
      "PyRSS2Gen==1.1\n",
      "pyshp==1.2.10\n",
      "python-dateutil==2.6.0\n",
      "pytz==2016.10\n",
      "PyYAML==3.12\n",
      "pyzmq==16.0.2\n",
      "qtconsole==4.2.1\n",
      "requests==2.12.3\n",
      "rsa==3.4.2\n",
      "scipy==0.18.1\n",
      "simplegeneric==0.8.1\n",
      "six==1.10.0\n",
      "smart-open==1.3.5\n",
      "terminado==0.6\n",
      "textblob==0.11.1\n",
      "toolz==0.8.1\n",
      "tornado==4.4.2\n",
      "traitlets==4.3.1\n",
      "Unidecode==0.4.19\n",
      "watchdog==0.8.3\n",
      "wcwidth==0.1.7\n",
      "webassets==0.11.1\n",
      "widgetsnbextension==1.2.6\n",
      "ws4py==0.3.4\n",
      "xarray==0.8.2\n",
      "Yapsy==1.11.223\n"
     ]
    }
   ],
   "source": [
    "# %load shared_elements/system_info.py\n",
    "import IPython\n",
    "print (IPython.sys_info())\n",
    "!pip freeze"
   ]
  },
  {
   "cell_type": "code",
   "execution_count": null,
   "metadata": {
    "collapsed": true
   },
   "outputs": [],
   "source": []
  }
 ],
 "metadata": {
  "anaconda-cloud": {},
  "kernelspec": {
   "display_name": "Python [conda env:dissertation2]",
   "language": "python",
   "name": "conda-env-dissertation2-py"
  },
  "language_info": {
   "codemirror_mode": {
    "name": "ipython",
    "version": 3
   },
   "file_extension": ".py",
   "mimetype": "text/x-python",
   "name": "python",
   "nbconvert_exporter": "python",
   "pygments_lexer": "ipython3",
   "version": "3.5.2"
  },
  "toc": {
   "nav_menu": {
    "height": "12px",
    "width": "252px"
   },
   "navigate_menu": true,
   "number_sections": true,
   "sideBar": false,
   "threshold": "3",
   "toc_cell": true,
   "toc_section_display": "block",
   "toc_window_display": true
  }
 },
 "nbformat": 4,
 "nbformat_minor": 0
}
