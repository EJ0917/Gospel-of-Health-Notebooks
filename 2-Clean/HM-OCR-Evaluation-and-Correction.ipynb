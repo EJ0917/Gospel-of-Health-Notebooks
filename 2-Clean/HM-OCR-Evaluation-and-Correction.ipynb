{
 "cells": [
  {
   "cell_type": "code",
   "execution_count": 1,
   "metadata": {
    "ExecuteTime": {
     "end_time": "2017-03-02T21:55:50.477093",
     "start_time": "2017-03-02T21:55:50.447742"
    },
    "collapsed": true
   },
   "outputs": [],
   "source": [
    "%load_ext autoreload"
   ]
  },
  {
   "cell_type": "code",
   "execution_count": 2,
   "metadata": {
    "ExecuteTime": {
     "end_time": "2017-03-02T21:55:50.483046",
     "start_time": "2017-03-02T21:55:50.479291"
    },
    "collapsed": true
   },
   "outputs": [],
   "source": [
    "%autoreload 2"
   ]
  },
  {
   "cell_type": "code",
   "execution_count": 3,
   "metadata": {
    "ExecuteTime": {
     "end_time": "2017-03-02T21:55:52.755226",
     "start_time": "2017-03-02T21:55:50.485581"
    },
    "collapsed": false
   },
   "outputs": [],
   "source": [
    "import GoH.reports\n",
    "import GoH.utilities\n",
    "import GoH.clean\n",
    "import GoH.normalize\n",
    "import re\n",
    "import os\n",
    "from os import listdir\n",
    "from os.path import isfile, join\n",
    "import collections"
   ]
  },
  {
   "cell_type": "code",
   "execution_count": 4,
   "metadata": {
    "ExecuteTime": {
     "end_time": "2017-03-02T21:55:52.805524",
     "start_time": "2017-03-02T21:55:52.757091"
    },
    "collapsed": true
   },
   "outputs": [],
   "source": [
    "%matplotlib inline"
   ]
  },
  {
   "cell_type": "code",
   "execution_count": 5,
   "metadata": {
    "ExecuteTime": {
     "end_time": "2017-03-02T21:55:52.851401",
     "start_time": "2017-03-02T21:55:52.807495"
    },
    "collapsed": true
   },
   "outputs": [],
   "source": [
    "wordlist_dir = \"/Users/jeriwieringa/Dissertation/drafts/data/word-lists\"\n",
    "wordlists = [\"2016-12-07-SDA-last-names.txt\", \n",
    "             \"2016-12-07-SDA-place-names.txt\", \n",
    "             \"2016-12-08-SDA-Vocabulary.txt\", \n",
    "             \"2017-01-03-place-names.txt\", \n",
    "             \"2017-02-14-Base-Word-List-SCOWL&KJV.txt\",\n",
    "             \"2017-02-14-Roman-Numerals.txt\",\n",
    "             \"2017-03-01-Additional-Approved-Words.txt\"\n",
    "            ]"
   ]
  },
  {
   "cell_type": "code",
   "execution_count": 6,
   "metadata": {
    "ExecuteTime": {
     "end_time": "2017-03-02T21:55:53.069237",
     "start_time": "2017-03-02T21:55:52.853631"
    },
    "collapsed": true
   },
   "outputs": [],
   "source": [
    "spelling_dictionary = GoH.utilities.create_spelling_dictionary(wordlists, wordlist_dir)"
   ]
  },
  {
   "cell_type": "code",
   "execution_count": 7,
   "metadata": {
    "ExecuteTime": {
     "end_time": "2017-03-02T21:55:53.109254",
     "start_time": "2017-03-02T21:55:53.071245"
    },
    "collapsed": true
   },
   "outputs": [],
   "source": [
    "title = \"HM\""
   ]
  },
  {
   "cell_type": "code",
   "execution_count": 8,
   "metadata": {
    "ExecuteTime": {
     "end_time": "2017-03-02T21:55:53.156844",
     "start_time": "2017-03-02T21:55:53.111135"
    },
    "collapsed": true
   },
   "outputs": [],
   "source": [
    "base_dir = \"/Users/jeriwieringa/Dissertation/text/text/2017-01-31-corpus-with-utf8-split-into-titles-cleaning/{}/\".format(title)"
   ]
  },
  {
   "cell_type": "markdown",
   "metadata": {},
   "source": [
    "## Baseline"
   ]
  },
  {
   "cell_type": "code",
   "execution_count": 9,
   "metadata": {
    "ExecuteTime": {
     "end_time": "2017-03-02T21:55:53.199654",
     "start_time": "2017-03-02T21:55:53.158725"
    },
    "collapsed": true
   },
   "outputs": [],
   "source": [
    "cycle = 'baseline'"
   ]
  },
  {
   "cell_type": "code",
   "execution_count": 10,
   "metadata": {
    "ExecuteTime": {
     "end_time": "2017-03-02T21:55:57.094545",
     "start_time": "2017-03-02T21:55:53.202631"
    },
    "collapsed": false
   },
   "outputs": [
    {
     "name": "stdout",
     "output_type": "stream",
     "text": [
      "Directory: /Users/jeriwieringa/Dissertation/text/text/2017-01-31-corpus-with-utf8-split-into-titles-cleaning/HM/baseline\n",
      "\n",
      "Average verified rate: 0.9587259719847017\n",
      "\n",
      "Average of error rates: 0.04563713862120089\n",
      "\n",
      "Total token count: 2312665\n",
      "\n"
     ]
    },
    {
     "data": {
      "image/png": "[encoded data removed]",
      "text/plain": [
       "<matplotlib.figure.Figure at 0x1109dfeb8>"
      ]
     },
     "metadata": {},
     "output_type": "display_data"
    }
   ],
   "source": [
    "stats = GoH.reports.overview_report(join(base_dir, cycle), spelling_dictionary, title)"
   ]
  },
  {
   "cell_type": "code",
   "execution_count": 11,
   "metadata": {
    "ExecuteTime": {
     "end_time": "2017-03-02T21:55:57.183140",
     "start_time": "2017-03-02T21:55:57.096589"
    },
    "collapsed": false
   },
   "outputs": [
    {
     "data": {
      "text/plain": [
       "[('ñ', 5173),\n",
       " (\"'\", 2093),\n",
       " ('-', 1704),\n",
       " ('m', 1508),\n",
       " ('e', 1270),\n",
       " ('w', 1132),\n",
       " ('re-', 1063),\n",
       " ('con-', 977),\n",
       " ('pm', 964),\n",
       " ('tion', 943),\n",
       " ('t', 936),\n",
       " ('¥', 857),\n",
       " ('in-', 750),\n",
       " (')', 742),\n",
       " ('n', 699),\n",
       " ('r', 684),\n",
       " ('d', 673),\n",
       " ('f', 635),\n",
       " ('g', 621),\n",
       " ('be-', 619),\n",
       " (']', 614),\n",
       " ('de-', 476),\n",
       " ('ex-', 465),\n",
       " ('can-', 464),\n",
       " ('com-', 462),\n",
       " ('(', 446),\n",
       " ('z', 394),\n",
       " ('ment', 392),\n",
       " ('mis-', 381),\n",
       " ('<', 361),\n",
       " ('--', 334),\n",
       " ('dis-', 320),\n",
       " ('tions', 316),\n",
       " ('en-', 298),\n",
       " ('co', 295),\n",
       " ('ex', 295),\n",
       " ('first-day', 266),\n",
       " (\"canvassers'\", 262),\n",
       " ('pre-', 255),\n",
       " ('per-', 255),\n",
       " ('sionary', 251),\n",
       " ('im-', 246),\n",
       " ('ac-', 222),\n",
       " ('un-', 222),\n",
       " ('u', 221),\n",
       " ('ers', 201),\n",
       " ('vassers', 196),\n",
       " ('ple', 195),\n",
       " ('pro-', 192),\n",
       " ('ence', 185),\n",
       " ('th', 182),\n",
       " ('ad-', 180),\n",
       " ('mission-', 179),\n",
       " ('mt', 176),\n",
       " ('peo-', 175),\n",
       " ('ap-', 172),\n",
       " ('*', 170),\n",
       " ('sub-', 170),\n",
       " ('inter-', 165),\n",
       " ('sab-', 151),\n",
       " ('ary', 148),\n",
       " ('ments', 147),\n",
       " ('for-', 146),\n",
       " ('an-', 140),\n",
       " ('pp', 134),\n",
       " ('them-', 132),\n",
       " ('read-', 128),\n",
       " ('fol-', 126),\n",
       " ('chris-', 125),\n",
       " ('ance', 122),\n",
       " ('ô', 120),\n",
       " ('ful', 119),\n",
       " ('al-', 118),\n",
       " ('ent', 118),\n",
       " ('coun-', 115),\n",
       " ('some-', 114),\n",
       " ('suc-', 113),\n",
       " ('¡', 113),\n",
       " ('<<', 112),\n",
       " ('mc', 108),\n",
       " ('at-', 108),\n",
       " ('mes-', 105),\n",
       " ('ber', 104),\n",
       " ('to-', 101)]"
      ]
     },
     "execution_count": 11,
     "metadata": {},
     "output_type": "execute_result"
    }
   ],
   "source": [
    "errors_summary = GoH.reports.get_errors_summary( stats )\n",
    "GoH.reports.top_errors( errors_summary, 100 )"
   ]
  },
  {
   "cell_type": "markdown",
   "metadata": {
    "collapsed": true
   },
   "source": [
    "## Review Special Characters"
   ]
  },
  {
   "cell_type": "code",
   "execution_count": 12,
   "metadata": {
    "ExecuteTime": {
     "end_time": "2017-03-02T21:55:57.282465",
     "start_time": "2017-03-02T21:55:57.185475"
    },
    "collapsed": false
   },
   "outputs": [
    {
     "data": {
      "text/plain": [
       "[('ñ', 5173),\n",
       " ('¥', 857),\n",
       " (')', 742),\n",
       " (']', 614),\n",
       " ('(', 446),\n",
       " ('<', 361),\n",
       " ('*', 170),\n",
       " ('ô', 120),\n",
       " ('¡', 113),\n",
       " ('<<', 112),\n",
       " ('ñthe', 90),\n",
       " ('/', 85),\n",
       " ('(see', 79),\n",
       " ('_', 68),\n",
       " ('[study', 58),\n",
       " ('[', 57),\n",
       " ('ã', 54),\n",
       " ('%', 51),\n",
       " ('(the', 51),\n",
       " ('ñno', 47),\n",
       " ('¥¥', 45),\n",
       " ('+', 43),\n",
       " ('[the', 41),\n",
       " ('(for', 39),\n",
       " ('`', 36),\n",
       " ('(dyspeptic)', 36),\n",
       " ('[for', 35),\n",
       " ('ñthat', 33),\n",
       " ('[nov', 32),\n",
       " ('{', 31),\n",
       " ('[april', 30),\n",
       " ('[june', 29),\n",
       " ('=', 29),\n",
       " ('(ship)', 27),\n",
       " ('[dec', 27),\n",
       " ('[may', 27),\n",
       " ('(and', 27),\n",
       " ('[sept', 26),\n",
       " ('(furnished', 25),\n",
       " ('[july', 25),\n",
       " ('£', 25),\n",
       " ('ñid', 25),\n",
       " ('ñindividuals', 24),\n",
       " ('ñto', 23),\n",
       " ('[aug', 22),\n",
       " ('ñwhat', 21),\n",
       " ('(a', 20),\n",
       " ('\\\\', 20),\n",
       " ('[references', 19),\n",
       " ('ñi', 18),\n",
       " ('(class', 18),\n",
       " ('(which', 18),\n",
       " ('[jan', 17),\n",
       " ('(collections', 17),\n",
       " ('ññ', 16),\n",
       " ('ñthis', 16),\n",
       " ('[fourth', 16),\n",
       " ('(not', 16),\n",
       " ('the¥', 16),\n",
       " ('ñit', 16),\n",
       " ('to¥', 16),\n",
       " ('ñand', 15),\n",
       " ('[answers', 15),\n",
       " ('ñin', 15),\n",
       " ('(as', 15),\n",
       " ('ña', 14),\n",
       " ('ñnot', 14),\n",
       " ('ñp', 14),\n",
       " ('(i', 13),\n",
       " ('(a)', 13),\n",
       " ('ñmrs', 13),\n",
       " ('(ger', 13),\n",
       " ('(in', 13),\n",
       " ('[oct', 12),\n",
       " ('[that', 12),\n",
       " ('(john', 12),\n",
       " ('(b)', 12),\n",
       " ('[a', 12),\n",
       " ('[feb', 12),\n",
       " ('(matt', 11),\n",
       " ('worldñto', 11),\n",
       " ('edition)', 11),\n",
       " ('(concluded', 11),\n",
       " ('ñjohn', 10),\n",
       " ('(south', 10),\n",
       " ('-{', 10),\n",
       " ('mission)', 10),\n",
       " ('[om', 10),\n",
       " ('school)', 10),\n",
       " ('(to', 10),\n",
       " ('(read', 10),\n",
       " ('¥-¥', 10),\n",
       " ('ñlake', 10),\n",
       " ('[march', 9),\n",
       " ('(c)', 9),\n",
       " ('ñpacific', 9),\n",
       " ('¤', 9),\n",
       " ('ñfor', 9),\n",
       " ('(gen', 9),\n",
       " ('`ontario', 9),\n",
       " ('a)', 9),\n",
       " ('(isa', 9),\n",
       " ('a¥', 9),\n",
       " ('¥¥¥', 9),\n",
       " ('ñall', 8),\n",
       " ('c)', 8),\n",
       " ('(ps', 8),\n",
       " ('[in', 8),\n",
       " ('ñthey', 8),\n",
       " ('(w', 8),\n",
       " ('(or', 8),\n",
       " ('(this', 8),\n",
       " ('(d)', 8),\n",
       " ('and¥', 8),\n",
       " ('i)', 8),\n",
       " ('(chicago', 8),\n",
       " ('ñyes', 8),\n",
       " ('(rev', 7),\n",
       " ('time)', 7),\n",
       " ('(ontario', 7),\n",
       " ('tunnel__', 7),\n",
       " ('(german)', 7),\n",
       " ('(rom', 7),\n",
       " ('(continued)', 7),\n",
       " ('in¥', 7),\n",
       " ('>', 7),\n",
       " ('(c', 7),\n",
       " ('(eph', 7),\n",
       " ('(indiana', 7),\n",
       " ('(he', 7),\n",
       " ('(eng', 7),\n",
       " ('[or', 7),\n",
       " ('ñe', 7),\n",
       " ('(dan', 7),\n",
       " ('london)', 6),\n",
       " ('(south)', 6),\n",
       " ('(luke', 6),\n",
       " (\"ñ'\", 6),\n",
       " ('ñrev', 6),\n",
       " ('(who', 6),\n",
       " ('ñyou', 6),\n",
       " ('¥¥¥¥', 6),\n",
       " ('ñhis', 6),\n",
       " ('missionary¡', 6),\n",
       " ('[written', 6),\n",
       " (\"¥'\", 6),\n",
       " ('(old', 6),\n",
       " ('ñits', 6),\n",
       " ('cô', 6),\n",
       " ('z¡', 6),\n",
       " ('¥to', 6),\n",
       " ('ñone', 6),\n",
       " ('ñbut', 6),\n",
       " ('of¥', 6),\n",
       " ('(continued', 6),\n",
       " ('(school)', 6),\n",
       " ('ñextra', 6),\n",
       " ('(north)', 6),\n",
       " ('_health', 6),\n",
       " ('months)', 6),\n",
       " ('ñis', 6),\n",
       " ('—', 6),\n",
       " ('(acts', 6),\n",
       " ('(london', 6),\n",
       " ('`tennessee', 6),\n",
       " ('c>', 6),\n",
       " ('¥the', 5),\n",
       " ('(about', 5),\n",
       " ('ñ]', 5),\n",
       " ('(sweden)', 5),\n",
       " ('ñhave', 5),\n",
       " ('work)', 5),\n",
       " ('[this', 5),\n",
       " ('(scand', 5),\n",
       " ('[of', 5),\n",
       " ('(perhaps', 5),\n",
       " ('(with', 5),\n",
       " ('t(', 5),\n",
       " ('{north', 5),\n",
       " ('(heb', 5),\n",
       " ('¥of', 5),\n",
       " ('(if', 5),\n",
       " ('ñbecause', 5),\n",
       " ('it)', 5),\n",
       " ('ñsouthwest', 5),\n",
       " ('ñthese', 5),\n",
       " ('(that', 5),\n",
       " ('[margin]', 5),\n",
       " ('ñjust', 5),\n",
       " ('ñwe', 5),\n",
       " ('ó', 5),\n",
       " ('for¥', 5),\n",
       " ('our¥', 5),\n",
       " ('#', 5),\n",
       " ('[margin', 5),\n",
       " ('(on', 5),\n",
       " ('ñidem', 5),\n",
       " ('[what', 4),\n",
       " ('(b', 4),\n",
       " ('}', 4)]"
      ]
     },
     "execution_count": 12,
     "metadata": {},
     "output_type": "execute_result"
    }
   ],
   "source": [
    "GoH.reports.tokens_with_special_characters(errors_summary)[:200]"
   ]
  },
  {
   "cell_type": "markdown",
   "metadata": {},
   "source": [
    "## Correction 1 -- Normalize Characters"
   ]
  },
  {
   "cell_type": "code",
   "execution_count": 13,
   "metadata": {
    "ExecuteTime": {
     "end_time": "2017-03-02T21:56:00.804857",
     "start_time": "2017-03-02T21:55:57.284845"
    },
    "collapsed": true
   },
   "outputs": [],
   "source": [
    "# %load shared_elements/normalize_characters.py\n",
    "prev = \"baseline\"\n",
    "cycle = \"correction1\"\n",
    "\n",
    "directories = GoH.utilities.define_directories(prev, cycle, base_dir)\n",
    "if not os.path.exists(directories['cycle']):\n",
    "    os.makedirs(directories['cycle'])\n",
    "\n",
    "corpus = (f for f in listdir(directories['prev']) if not f.startswith('.') and isfile(join(directories['prev'], f)))\n",
    "\n",
    "for filename in corpus:\n",
    "    content = GoH.utilities.readfile(directories['prev'], filename)\n",
    "\n",
    "    # Substitute for all other dashes\n",
    "    content = re.sub(r\"—-—–‑\", r\"-\", content)\n",
    "\n",
    "    # Substitute formatted apostrophe\n",
    "    content = re.sub(r\"\\’\\’\\‘\\'\\‛\\´\", r\"'\", content)\n",
    "    \n",
    "    # Replace all special characters with a space (as these tend to occur at the end of lines)\n",
    "    content = re.sub(r\"[^a-zA-Z0-9\\s,.!?$:;\\-&\\'\\\"]\", r\" \", content)\n",
    "    \n",
    "    with open(join(directories['cycle'], filename), mode=\"w\") as o:\n",
    "        o.write(content)\n",
    "        o.close()"
   ]
  },
  {
   "cell_type": "code",
   "execution_count": 14,
   "metadata": {
    "ExecuteTime": {
     "end_time": "2017-03-02T21:56:04.388766",
     "start_time": "2017-03-02T21:56:00.806448"
    },
    "collapsed": false
   },
   "outputs": [
    {
     "name": "stdout",
     "output_type": "stream",
     "text": [
      "Directory: /Users/jeriwieringa/Dissertation/text/text/2017-01-31-corpus-with-utf8-split-into-titles-cleaning/HM/correction1\n",
      "\n",
      "Average verified rate: 0.9648107385673316\n",
      "\n",
      "Average of error rates: 0.03857524091919941\n",
      "\n",
      "Total token count: 2303771\n",
      "\n"
     ]
    },
    {
     "data": {
      "image/png": "[encoded data removed]",
      "text/plain": [
       "<matplotlib.figure.Figure at 0x1159eb5c0>"
      ]
     },
     "metadata": {},
     "output_type": "display_data"
    }
   ],
   "source": [
    "# %load shared_elements/summary.py\n",
    "summary = GoH.reports.overview_report(directories['cycle'], spelling_dictionary, title)"
   ]
  },
  {
   "cell_type": "code",
   "execution_count": 15,
   "metadata": {
    "ExecuteTime": {
     "end_time": "2017-03-02T21:56:04.464177",
     "start_time": "2017-03-02T21:56:04.390747"
    },
    "collapsed": false
   },
   "outputs": [
    {
     "data": {
      "text/plain": [
       "[(\"'\", 2165),\n",
       " ('-', 1770),\n",
       " ('m', 1518),\n",
       " ('e', 1297),\n",
       " ('w', 1148),\n",
       " ('re-', 1063),\n",
       " ('t', 984),\n",
       " ('con-', 978),\n",
       " ('pm', 967),\n",
       " ('tion', 946),\n",
       " ('in-', 751),\n",
       " ('n', 709),\n",
       " ('r', 703),\n",
       " ('d', 690),\n",
       " ('f', 648),\n",
       " ('g', 634),\n",
       " ('be-', 620),\n",
       " ('de-', 477),\n",
       " ('ex-', 465),\n",
       " ('can-', 464),\n",
       " ('com-', 463),\n",
       " ('z', 406),\n",
       " ('ment', 392),\n",
       " ('mis-', 383),\n",
       " ('--', 346),\n",
       " ('dis-', 320),\n",
       " ('tions', 316),\n",
       " ('co', 302),\n",
       " ('en-', 299),\n",
       " ('ex', 296),\n",
       " ('first-day', 266),\n",
       " (\"canvassers'\", 264),\n",
       " ('pre-', 257),\n",
       " ('per-', 256),\n",
       " ('sionary', 251),\n",
       " ('im-', 246),\n",
       " ('u', 226),\n",
       " ('ac-', 223),\n",
       " ('un-', 222),\n",
       " ('ers', 201),\n",
       " ('vassers', 197),\n",
       " ('ple', 195),\n",
       " ('pro-', 192),\n",
       " ('th', 186),\n",
       " ('ence', 185),\n",
       " ('ad-', 180),\n",
       " ('mission-', 179),\n",
       " ('mt', 176),\n",
       " ('peo-', 175),\n",
       " ('ap-', 172)]"
      ]
     },
     "execution_count": 15,
     "metadata": {},
     "output_type": "execute_result"
    }
   ],
   "source": [
    "# %load shared_elements/top_errors.py\n",
    "errors_summary = GoH.reports.get_errors_summary( summary )\n",
    "GoH.reports.top_errors( errors_summary, 10 )[:50]"
   ]
  },
  {
   "cell_type": "markdown",
   "metadata": {},
   "source": [
    "## Correction 2 -- Fix Line Endings"
   ]
  },
  {
   "cell_type": "code",
   "execution_count": 16,
   "metadata": {
    "ExecuteTime": {
     "end_time": "2017-03-02T21:56:09.648137",
     "start_time": "2017-03-02T21:56:04.465983"
    },
    "collapsed": true
   },
   "outputs": [],
   "source": [
    "# %load shared_elements/correct_line_endings.py\n",
    "prev = \"correction1\"\n",
    "cycle = \"correction2\"\n",
    "\n",
    "directories = GoH.utilities.define_directories(prev, cycle, base_dir)\n",
    "if not os.path.exists(directories['cycle']):\n",
    "    os.makedirs(directories['cycle'])\n",
    "\n",
    "corpus = (f for f in listdir(directories['prev']) if not f.startswith('.') and isfile(join(directories['prev'], f)))\n",
    "\n",
    "for filename in corpus:\n",
    "    content = GoH.utilities.readfile(directories['prev'], filename)\n",
    "\n",
    "    content = re.sub(r\"(\\w+)(\\-\\s{1,})([a-z]+)\", r\"\\1\\3\", content)\n",
    "\n",
    "    with open(join(directories['cycle'], filename), mode=\"w\") as o:\n",
    "        o.write(content)\n",
    "        o.close()"
   ]
  },
  {
   "cell_type": "code",
   "execution_count": 17,
   "metadata": {
    "ExecuteTime": {
     "end_time": "2017-03-02T21:56:12.958740",
     "start_time": "2017-03-02T21:56:09.649862"
    },
    "collapsed": false
   },
   "outputs": [
    {
     "name": "stdout",
     "output_type": "stream",
     "text": [
      "Directory: /Users/jeriwieringa/Dissertation/text/text/2017-01-31-corpus-with-utf8-split-into-titles-cleaning/HM/correction2\n",
      "\n",
      "Average verified rate: 0.9837372851361125\n",
      "\n",
      "Average of error rates: 0.02005003706449222\n",
      "\n",
      "Total token count: 2274405\n",
      "\n"
     ]
    },
    {
     "data": {
      "image/png": "[encoded data removed]",
      "text/plain": [
       "<matplotlib.figure.Figure at 0x115f085f8>"
      ]
     },
     "metadata": {},
     "output_type": "display_data"
    }
   ],
   "source": [
    "# %load shared_elements/summary.py\n",
    "summary = GoH.reports.overview_report(directories['cycle'], spelling_dictionary, title)"
   ]
  },
  {
   "cell_type": "code",
   "execution_count": 18,
   "metadata": {
    "ExecuteTime": {
     "end_time": "2017-03-02T21:56:13.034641",
     "start_time": "2017-03-02T21:56:12.961760"
    },
    "collapsed": false
   },
   "outputs": [
    {
     "data": {
      "text/plain": [
       "[(\"'\", 2165),\n",
       " ('-', 1760),\n",
       " ('m', 1517),\n",
       " ('e', 1296),\n",
       " ('w', 1148),\n",
       " ('t', 984),\n",
       " ('pm', 966),\n",
       " ('n', 708),\n",
       " ('r', 702),\n",
       " ('d', 690),\n",
       " ('f', 647),\n",
       " ('g', 634),\n",
       " ('z', 406),\n",
       " ('--', 346),\n",
       " ('co', 302),\n",
       " ('ex', 296),\n",
       " (\"canvassers'\", 278),\n",
       " ('first-day', 266),\n",
       " ('u', 226),\n",
       " ('th', 186),\n",
       " ('mt', 176),\n",
       " ('pp', 134),\n",
       " ('mc', 108),\n",
       " ('reading-matter', 103),\n",
       " ('wm', 96),\n",
       " ('cc', 86),\n",
       " ('ft', 86),\n",
       " (\"''\", 84),\n",
       " ('k', 81),\n",
       " ('q', 80),\n",
       " ('miscel', 79),\n",
       " ('x', 74),\n",
       " ('pt', 73),\n",
       " ('av', 72),\n",
       " ('mis', 71),\n",
       " (\"l't'd\", 70),\n",
       " ('mo', 68),\n",
       " ('qr', 64),\n",
       " ('cumb', 62),\n",
       " ('---', 58),\n",
       " ('id', 56),\n",
       " ('canof', 55),\n",
       " ('sionary', 54),\n",
       " ('-p', 53),\n",
       " ('mis-', 52),\n",
       " (\"'t\", 52),\n",
       " (\"deliv'd\", 51),\n",
       " ('raiatea', 51),\n",
       " (\"'the\", 50),\n",
       " (\"'s\", 49)]"
      ]
     },
     "execution_count": 18,
     "metadata": {},
     "output_type": "execute_result"
    }
   ],
   "source": [
    "# %load shared_elements/top_errors.py\n",
    "errors_summary = GoH.reports.get_errors_summary( summary )\n",
    "GoH.reports.top_errors( errors_summary, 10 )[:50]"
   ]
  },
  {
   "cell_type": "markdown",
   "metadata": {},
   "source": [
    "## Correction 3 -- Remove Extra Dashes"
   ]
  },
  {
   "cell_type": "code",
   "execution_count": 19,
   "metadata": {
    "ExecuteTime": {
     "end_time": "2017-03-02T21:56:18.165169",
     "start_time": "2017-03-02T21:56:13.036761"
    },
    "collapsed": false
   },
   "outputs": [],
   "source": [
    "# %load shared_elements/remove_extra_dashes.py\n",
    "prev = \"correction2\"\n",
    "cycle = \"correction3\"\n",
    "\n",
    "directories = GoH.utilities.define_directories(prev, cycle, base_dir)\n",
    "if not os.path.exists(directories['cycle']):\n",
    "    os.makedirs(directories['cycle'])\n",
    "\n",
    "corpus = (f for f in listdir(directories['prev']) if not f.startswith('.') and isfile(join(directories['prev'], f)))\n",
    "\n",
    "for filename in corpus:\n",
    "    content = GoH.utilities.readfile(directories['prev'], filename)\n",
    "    \n",
    "    text = re.sub(r\"[0-9,!?$:;&]\", \" \", content)\n",
    "    tokens = GoH.utilities.tokenize_text(text)\n",
    "    \n",
    "    replacements = []\n",
    "    for token in tokens:\n",
    "        if token[0] is \"-\":\n",
    "            replacements.append((token, token[1:]))\n",
    "            \n",
    "        elif token[-1] is \"-\":\n",
    "            replacements.append((token, token[:-1]))\n",
    "        else:\n",
    "            pass\n",
    "        \n",
    "    if len(replacements) > 0:\n",
    "#         print(\"{}: {}\".format(filename, replacements))\n",
    "        \n",
    "        for replacement in replacements:\n",
    "            content = GoH.clean.replace_pair(replacement, content)\n",
    "    else:\n",
    "        pass\n",
    "\n",
    "    with open(join(directories['cycle'], filename), mode=\"w\") as o:\n",
    "        o.write(content)\n",
    "        o.close()"
   ]
  },
  {
   "cell_type": "code",
   "execution_count": 20,
   "metadata": {
    "ExecuteTime": {
     "end_time": "2017-03-02T21:56:21.608672",
     "start_time": "2017-03-02T21:56:18.167337"
    },
    "collapsed": false
   },
   "outputs": [
    {
     "name": "stdout",
     "output_type": "stream",
     "text": [
      "Directory: /Users/jeriwieringa/Dissertation/text/text/2017-01-31-corpus-with-utf8-split-into-titles-cleaning/HM/correction3\n",
      "\n",
      "Average verified rate: 0.9853017474867567\n",
      "\n",
      "Average of error rates: 0.01809303187546331\n",
      "\n",
      "Total token count: 2274352\n",
      "\n"
     ]
    },
    {
     "data": {
      "image/png": "[encoded data removed]",
      "text/plain": [
       "<matplotlib.figure.Figure at 0x110eb2588>"
      ]
     },
     "metadata": {},
     "output_type": "display_data"
    }
   ],
   "source": [
    "# %load shared_elements/summary.py\n",
    "summary = GoH.reports.overview_report(directories['cycle'], spelling_dictionary, title)"
   ]
  },
  {
   "cell_type": "code",
   "execution_count": 21,
   "metadata": {
    "ExecuteTime": {
     "end_time": "2017-03-02T21:56:21.673028",
     "start_time": "2017-03-02T21:56:21.610591"
    },
    "collapsed": false
   },
   "outputs": [
    {
     "data": {
      "text/plain": [
       "[(\"'\", 2185),\n",
       " ('m', 1522),\n",
       " ('e', 1307),\n",
       " ('w', 1151),\n",
       " ('t', 1006),\n",
       " ('pm', 968),\n",
       " ('n', 715),\n",
       " ('r', 715),\n",
       " ('d', 693),\n",
       " ('f', 651),\n",
       " ('g', 639),\n",
       " ('z', 406),\n",
       " ('co', 335),\n",
       " ('ex', 309),\n",
       " (\"canvassers'\", 278),\n",
       " ('u', 226),\n",
       " ('-', 188),\n",
       " ('th', 186),\n",
       " ('mt', 177),\n",
       " ('first-day', 162),\n",
       " ('pp', 138),\n",
       " ('mis', 122),\n",
       " ('mc', 111),\n",
       " ('wm', 96),\n",
       " ('reading-matter', 89),\n",
       " ('cc', 87),\n",
       " (\"''\", 86),\n",
       " ('ft', 86),\n",
       " ('k', 83),\n",
       " ('q', 80),\n",
       " ('miscel', 79),\n",
       " ('re', 79),\n",
       " ('pt', 76),\n",
       " ('x', 75),\n",
       " ('av', 72),\n",
       " (\"l't'd\", 70),\n",
       " ('mo', 69),\n",
       " ('qr', 65),\n",
       " ('cumb', 62),\n",
       " ('id', 56),\n",
       " ('canof', 55),\n",
       " ('sionary', 54),\n",
       " (\"'t\", 52),\n",
       " (\"deliv'd\", 51),\n",
       " ('raiatea', 51),\n",
       " (\"'the\", 50),\n",
       " (\"'s\", 49),\n",
       " ('ga', 49),\n",
       " ('ti', 44),\n",
       " ('aro', 43)]"
      ]
     },
     "execution_count": 21,
     "metadata": {},
     "output_type": "execute_result"
    }
   ],
   "source": [
    "# %load shared_elements/top_errors.py\n",
    "errors_summary = GoH.reports.get_errors_summary( summary )\n",
    "GoH.reports.top_errors( errors_summary, 10 )[:50]"
   ]
  },
  {
   "cell_type": "markdown",
   "metadata": {},
   "source": [
    "## Correction 4 -- Remove extra quotation marks"
   ]
  },
  {
   "cell_type": "code",
   "execution_count": 22,
   "metadata": {
    "ExecuteTime": {
     "end_time": "2017-03-02T21:56:28.136559",
     "start_time": "2017-03-02T21:56:21.675043"
    },
    "collapsed": false
   },
   "outputs": [],
   "source": [
    "# %load shared_elements/replace_extra_quotation_marks.py\n",
    "prev = \"correction3\"\n",
    "cycle = \"correction4\"\n",
    "\n",
    "directories = GoH.utilities.define_directories(prev, cycle, base_dir)\n",
    "if not os.path.exists(directories['cycle']):\n",
    "    os.makedirs(directories['cycle'])\n",
    "\n",
    "corpus = (f for f in listdir(directories['prev']) if not f.startswith('.') and isfile(join(directories['prev'], f)))\n",
    "\n",
    "for filename in corpus:\n",
    "    content = GoH.utilities.readfile(directories['prev'], filename)\n",
    "    \n",
    "    text = re.sub(r\"[0-9,!?$:;&]\", \" \", content)\n",
    "    tokens = GoH.utilities.tokenize_text(text)\n",
    "    \n",
    "    corrections = []\n",
    "    for token in tokens:\n",
    "        token_list = list(token)\n",
    "        last_char = token_list[-1]\n",
    "\n",
    "        if last_char is \"'\":\n",
    "            if len(token) > 1:\n",
    "                if token_list[-2] is 's' or 'S':\n",
    "                    pass\n",
    "                else:\n",
    "                    corrections.append((token, re.sub(r\"'\", r\"\", token)))\n",
    "            else:\n",
    "                pass\n",
    "        elif token[0] is \"'\":\n",
    "            corrections.append((token, re.sub(r\"'\", r\"\", token)))   \n",
    "        else:\n",
    "            pass\n",
    "    \n",
    "    if len(corrections) > 0:\n",
    "#         print('{}: {}'.format(filename, corrections))\n",
    "\n",
    "        for correction in corrections:\n",
    "            content = GoH.clean.replace_pair(correction, content)\n",
    "    else:\n",
    "        pass\n",
    "\n",
    "    with open(join(directories['cycle'], filename), mode=\"w\") as o:\n",
    "        o.write(content)\n",
    "        o.close()"
   ]
  },
  {
   "cell_type": "code",
   "execution_count": 23,
   "metadata": {
    "ExecuteTime": {
     "end_time": "2017-03-02T21:56:31.510232",
     "start_time": "2017-03-02T21:56:28.137885"
    },
    "collapsed": false
   },
   "outputs": [
    {
     "name": "stdout",
     "output_type": "stream",
     "text": [
      "Directory: /Users/jeriwieringa/Dissertation/text/text/2017-01-31-corpus-with-utf8-split-into-titles-cleaning/HM/correction4\n",
      "\n",
      "Average verified rate: 0.98580696505163\n",
      "\n",
      "Average of error rates: 0.017521497405485545\n",
      "\n",
      "Total token count: 2274355\n",
      "\n"
     ]
    },
    {
     "data": {
      "image/png": "[encoded data removed]",
      "text/plain": [
       "<matplotlib.figure.Figure at 0x115b8b9e8>"
      ]
     },
     "metadata": {},
     "output_type": "display_data"
    }
   ],
   "source": [
    "# %load shared_elements/summary.py\n",
    "summary = GoH.reports.overview_report(directories['cycle'], spelling_dictionary, title)"
   ]
  },
  {
   "cell_type": "code",
   "execution_count": 24,
   "metadata": {
    "ExecuteTime": {
     "end_time": "2017-03-02T21:56:31.575210",
     "start_time": "2017-03-02T21:56:31.512113"
    },
    "collapsed": false
   },
   "outputs": [
    {
     "data": {
      "text/plain": [
       "[(\"'\", 2043),\n",
       " ('m', 1538),\n",
       " ('e', 1312),\n",
       " ('w', 1151),\n",
       " ('t', 1068),\n",
       " ('pm', 968),\n",
       " ('n', 743),\n",
       " ('r', 727),\n",
       " ('d', 714),\n",
       " ('f', 651),\n",
       " ('g', 641),\n",
       " ('z', 411),\n",
       " ('co', 335),\n",
       " ('ex', 309),\n",
       " (\"canvassers'\", 277),\n",
       " ('u', 228),\n",
       " ('-', 188),\n",
       " ('th', 186),\n",
       " ('mt', 177),\n",
       " ('first-day', 162),\n",
       " ('pp', 138),\n",
       " ('mis', 122),\n",
       " ('mc', 111),\n",
       " ('wm', 97),\n",
       " ('reading-matter', 89),\n",
       " ('cc', 87),\n",
       " ('ft', 86),\n",
       " ('re', 85),\n",
       " ('k', 84),\n",
       " (\"''\", 84),\n",
       " ('q', 81),\n",
       " ('miscel', 79),\n",
       " ('pt', 76),\n",
       " ('x', 75),\n",
       " ('av', 72),\n",
       " ('mo', 69),\n",
       " ('qr', 65),\n",
       " ('cumb', 62),\n",
       " ('id', 56),\n",
       " ('canof', 55),\n",
       " ('sionary', 54),\n",
       " ('raiatea', 51),\n",
       " (\"deliv'd\", 50),\n",
       " ('ga', 49),\n",
       " (\"l't'd\", 48),\n",
       " ('ti', 46),\n",
       " ('aro', 43),\n",
       " ('ci', 43),\n",
       " ('seventhday', 43),\n",
       " ('intyre', 41)]"
      ]
     },
     "execution_count": 24,
     "metadata": {},
     "output_type": "execute_result"
    }
   ],
   "source": [
    "# %load shared_elements/top_errors.py\n",
    "errors_summary = GoH.reports.get_errors_summary( summary )\n",
    "GoH.reports.top_errors( errors_summary, 10 )[:50]"
   ]
  },
  {
   "cell_type": "markdown",
   "metadata": {},
   "source": [
    "## Correction 5 -- Rejoin Burst Words"
   ]
  },
  {
   "cell_type": "code",
   "execution_count": 25,
   "metadata": {
    "ExecuteTime": {
     "end_time": "2017-03-02T21:56:35.676802",
     "start_time": "2017-03-02T21:56:31.578001"
    },
    "collapsed": false
   },
   "outputs": [],
   "source": [
    "# %load shared_elements/rejoin_burst_words.py\n",
    "prev = \"correction4\"\n",
    "cycle = \"correction5\"\n",
    "\n",
    "directories = GoH.utilities.define_directories(prev, cycle, base_dir)\n",
    "if not os.path.exists(directories['cycle']):\n",
    "    os.makedirs(directories['cycle'])\n",
    "\n",
    "corpus = (f for f in listdir(directories['prev']) if not f.startswith('.') and isfile(join(directories['prev'], f)))\n",
    "\n",
    "for filename in corpus:\n",
    "    content = GoH.utilities.readfile(directories['prev'], filename)\n",
    "\n",
    "    pattern = re.compile(\"(\\s(\\w{1,2}\\s){5,})\")\n",
    "    \n",
    "    replacements = []\n",
    "    GoH.clean.check_splits(pattern, spelling_dictionary, content, replacements)\n",
    "    \n",
    "    if len(replacements) > 0:\n",
    "#         print('{}: {}'.format(filename, replacements))\n",
    "\n",
    "        for replacement in replacements:\n",
    "            content = GoH.clean.replace_pair(replacement, content)\n",
    "    else:\n",
    "        pass\n",
    "\n",
    "    with open(join(directories['cycle'], filename), mode=\"w\") as o:\n",
    "        o.write(content)\n",
    "        o.close()"
   ]
  },
  {
   "cell_type": "markdown",
   "metadata": {},
   "source": [
    "## Check Correction 5"
   ]
  },
  {
   "cell_type": "code",
   "execution_count": 26,
   "metadata": {
    "ExecuteTime": {
     "end_time": "2017-03-02T21:56:40.051857",
     "start_time": "2017-03-02T21:56:35.678785"
    },
    "collapsed": false
   },
   "outputs": [
    {
     "name": "stdout",
     "output_type": "stream",
     "text": [
      "Directory: /Users/jeriwieringa/Dissertation/text/text/2017-01-31-corpus-with-utf8-split-into-titles-cleaning/HM/correction5\n",
      "\n",
      "Average verified rate: 0.9857966436744413\n",
      "\n",
      "Average of error rates: 0.017540029651593778\n",
      "\n",
      "Total token count: 2274392\n",
      "\n"
     ]
    },
    {
     "data": {
      "image/png": "[encoded data removed]",
      "text/plain": [
       "<matplotlib.figure.Figure at 0x111361080>"
      ]
     },
     "metadata": {},
     "output_type": "display_data"
    }
   ],
   "source": [
    "# %load shared_elements/summary.py\n",
    "summary = GoH.reports.overview_report(directories['cycle'], spelling_dictionary, title)"
   ]
  },
  {
   "cell_type": "code",
   "execution_count": 27,
   "metadata": {
    "ExecuteTime": {
     "end_time": "2017-03-02T21:56:40.110432",
     "start_time": "2017-03-02T21:56:40.053907"
    },
    "collapsed": false
   },
   "outputs": [
    {
     "data": {
      "text/plain": [
       "[(\"'\", 2043),\n",
       " ('m', 1538),\n",
       " ('e', 1308),\n",
       " ('w', 1150),\n",
       " ('t', 1067),\n",
       " ('pm', 968),\n",
       " ('n', 742),\n",
       " ('r', 725),\n",
       " ('d', 712),\n",
       " ('f', 650),\n",
       " ('g', 641),\n",
       " ('z', 411),\n",
       " ('co', 335),\n",
       " ('ex', 309),\n",
       " (\"canvassers'\", 277),\n",
       " ('u', 228),\n",
       " ('-', 188),\n",
       " ('th', 186),\n",
       " ('mt', 177),\n",
       " ('first-day', 162),\n",
       " ('pp', 138),\n",
       " ('mis', 122),\n",
       " ('mc', 111),\n",
       " ('wm', 97),\n",
       " ('reading-matter', 89),\n",
       " ('cc', 87),\n",
       " ('ft', 86),\n",
       " ('k', 85),\n",
       " ('re', 85),\n",
       " (\"''\", 84),\n",
       " ('q', 81),\n",
       " ('miscel', 79),\n",
       " ('pt', 76),\n",
       " ('x', 75),\n",
       " ('av', 72),\n",
       " ('mo', 69),\n",
       " ('qr', 65),\n",
       " ('cumb', 62),\n",
       " ('id', 56),\n",
       " ('canof', 55),\n",
       " ('sionary', 54),\n",
       " ('raiatea', 51),\n",
       " (\"deliv'd\", 50),\n",
       " ('ga', 49),\n",
       " (\"l't'd\", 48),\n",
       " ('ti', 46),\n",
       " ('aro', 43),\n",
       " ('ci', 43),\n",
       " ('seventhday', 43),\n",
       " ('intyre', 41)]"
      ]
     },
     "execution_count": 27,
     "metadata": {},
     "output_type": "execute_result"
    }
   ],
   "source": [
    "# %load shared_elements/top_errors.py\n",
    "errors_summary = GoH.reports.get_errors_summary( summary )\n",
    "GoH.reports.top_errors( errors_summary, 10 )[:50]"
   ]
  },
  {
   "cell_type": "markdown",
   "metadata": {},
   "source": [
    "## Correction 6 -- Rejoin Split Words"
   ]
  },
  {
   "cell_type": "code",
   "execution_count": 28,
   "metadata": {
    "ExecuteTime": {
     "end_time": "2017-03-02T21:56:48.851919",
     "start_time": "2017-03-02T21:56:40.112574"
    },
    "collapsed": false
   },
   "outputs": [],
   "source": [
    "# %load shared_elements/rejoin_split_words.py\n",
    "prev = \"correction5\"\n",
    "cycle = \"correction6\"\n",
    "\n",
    "directories = GoH.utilities.define_directories(prev, cycle, base_dir)\n",
    "if not os.path.exists(directories['cycle']):\n",
    "    os.makedirs(directories['cycle'])\n",
    "\n",
    "corpus = (f for f in listdir(directories['prev']) if not f.startswith('.') and isfile(join(directories['prev'], f)))\n",
    "\n",
    "for filename in corpus:\n",
    "    content = GoH.utilities.readfile(directories['prev'], filename)\n",
    "    \n",
    "    text = re.sub(r\"[0-9,!?$:;&]\", \" \", content)\n",
    "    tokens = GoH.utilities.tokenize_text(text)\n",
    "    errors = GoH.reports.identify_errors(tokens, spelling_dictionary)\n",
    "\n",
    "    replacements = GoH.clean.check_if_stem(errors, spelling_dictionary, tokens, get_prior=False)\n",
    "    \n",
    "    if len(replacements) > 0:\n",
    "#         print('{}: {}'.format(filename, replacements))\n",
    "\n",
    "        for replacement in replacements:\n",
    "            content = GoH.clean.replace_split_words(replacement, content)\n",
    "    else:\n",
    "        pass\n",
    "\n",
    "    with open(join(directories['cycle'], filename), mode=\"w\") as o:\n",
    "        o.write(content)\n",
    "        o.close()"
   ]
  },
  {
   "cell_type": "code",
   "execution_count": 29,
   "metadata": {
    "ExecuteTime": {
     "end_time": "2017-03-02T21:56:52.158973",
     "start_time": "2017-03-02T21:56:48.853845"
    },
    "collapsed": false
   },
   "outputs": [
    {
     "name": "stdout",
     "output_type": "stream",
     "text": [
      "Directory: /Users/jeriwieringa/Dissertation/text/text/2017-01-31-corpus-with-utf8-split-into-titles-cleaning/HM/correction6\n",
      "\n",
      "Average verified rate: 0.9860850368630866\n",
      "\n",
      "Average of error rates: 0.017219792438843588\n",
      "\n",
      "Total token count: 2273955\n",
      "\n"
     ]
    },
    {
     "data": {
      "image/png": "[encoded data removed]",
      "text/plain": [
       "<matplotlib.figure.Figure at 0x11261b940>"
      ]
     },
     "metadata": {},
     "output_type": "display_data"
    }
   ],
   "source": [
    "# %load shared_elements/summary.py\n",
    "summary = GoH.reports.overview_report(directories['cycle'], spelling_dictionary, title)"
   ]
  },
  {
   "cell_type": "code",
   "execution_count": 30,
   "metadata": {
    "ExecuteTime": {
     "end_time": "2017-03-02T21:56:52.215093",
     "start_time": "2017-03-02T21:56:52.161030"
    },
    "collapsed": false
   },
   "outputs": [
    {
     "data": {
      "text/plain": [
       "[(\"'\", 2043),\n",
       " ('m', 1541),\n",
       " ('e', 1301),\n",
       " ('w', 1150),\n",
       " ('t', 1060),\n",
       " ('pm', 968),\n",
       " ('n', 740),\n",
       " ('r', 724),\n",
       " ('d', 708),\n",
       " ('f', 650),\n",
       " ('g', 639),\n",
       " ('z', 411),\n",
       " ('ex', 304),\n",
       " ('co', 282),\n",
       " (\"canvassers'\", 277),\n",
       " ('u', 228),\n",
       " ('-', 188),\n",
       " ('th', 179),\n",
       " ('mt', 177),\n",
       " ('first-day', 162),\n",
       " ('pp', 138),\n",
       " ('wm', 97),\n",
       " ('reading-matter', 89),\n",
       " ('cc', 87),\n",
       " ('ft', 86),\n",
       " (\"''\", 84),\n",
       " ('k', 82),\n",
       " ('q', 81),\n",
       " ('miscel', 79),\n",
       " ('pt', 76),\n",
       " ('x', 75),\n",
       " ('mis', 72),\n",
       " ('av', 72),\n",
       " ('mo', 69),\n",
       " ('qr', 65),\n",
       " ('cumb', 62),\n",
       " ('re', 57),\n",
       " ('id', 56),\n",
       " ('canof', 55),\n",
       " ('raiatea', 51),\n",
       " (\"deliv'd\", 50),\n",
       " ('ga', 48),\n",
       " (\"l't'd\", 48),\n",
       " ('ti', 45),\n",
       " ('aro', 43),\n",
       " ('ci', 43),\n",
       " ('seventhday', 43),\n",
       " ('revassers', 39),\n",
       " (\"of'\", 39),\n",
       " ('scand', 38)]"
      ]
     },
     "execution_count": 30,
     "metadata": {},
     "output_type": "execute_result"
    }
   ],
   "source": [
    "# %load shared_elements/top_errors.py\n",
    "errors_summary = GoH.reports.get_errors_summary( summary )\n",
    "GoH.reports.top_errors( errors_summary, 10 )[:50]"
   ]
  },
  {
   "cell_type": "markdown",
   "metadata": {},
   "source": [
    "## Correction 7 -- Rejoin Split Words II"
   ]
  },
  {
   "cell_type": "code",
   "execution_count": 31,
   "metadata": {
    "ExecuteTime": {
     "end_time": "2017-03-02T21:57:01.260692",
     "start_time": "2017-03-02T21:56:52.217385"
    },
    "collapsed": false
   },
   "outputs": [],
   "source": [
    "# %load shared_elements/rejoin_split_words.py\n",
    "prev = \"correction6\"\n",
    "cycle = \"correction7\"\n",
    "\n",
    "directories = GoH.utilities.define_directories(prev, cycle, base_dir)\n",
    "if not os.path.exists(directories['cycle']):\n",
    "    os.makedirs(directories['cycle'])\n",
    "\n",
    "corpus = (f for f in listdir(directories['prev']) if not f.startswith('.') and isfile(join(directories['prev'], f)))\n",
    "\n",
    "for filename in corpus:\n",
    "    content = GoH.utilities.readfile(directories['prev'], filename)\n",
    "    \n",
    "    text = re.sub(r\"[0-9,!?$:;&]\", \" \", content)\n",
    "    tokens = GoH.utilities.tokenize_text(text)\n",
    "    errors = GoH.reports.identify_errors(tokens, spelling_dictionary)\n",
    "\n",
    "    replacements = GoH.clean.check_if_stem(errors, spelling_dictionary, tokens, get_prior=True)\n",
    "    \n",
    "    if len(replacements) > 0:\n",
    "#         print('{}: {}'.format(filename, replacements))\n",
    "\n",
    "        for replacement in replacements:\n",
    "            content = GoH.clean.replace_split_words(replacement, content)\n",
    "    else:\n",
    "        pass\n",
    "\n",
    "    with open(join(directories['cycle'], filename), mode=\"w\") as o:\n",
    "        o.write(content)\n",
    "        o.close()"
   ]
  },
  {
   "cell_type": "code",
   "execution_count": 32,
   "metadata": {
    "ExecuteTime": {
     "end_time": "2017-03-02T21:57:04.605993",
     "start_time": "2017-03-02T21:57:01.263288"
    },
    "collapsed": false
   },
   "outputs": [
    {
     "name": "stdout",
     "output_type": "stream",
     "text": [
      "Directory: /Users/jeriwieringa/Dissertation/text/text/2017-01-31-corpus-with-utf8-split-into-titles-cleaning/HM/correction7\n",
      "\n",
      "Average verified rate: 0.9862065992991147\n",
      "\n",
      "Average of error rates: 0.017081541882876205\n",
      "\n",
      "Total token count: 2273696\n",
      "\n"
     ]
    },
    {
     "data": {
      "image/png": "[encoded data removed]",
      "text/plain": [
       "<matplotlib.figure.Figure at 0x110ecb048>"
      ]
     },
     "metadata": {},
     "output_type": "display_data"
    }
   ],
   "source": [
    "# %load shared_elements/summary.py\n",
    "summary = GoH.reports.overview_report(directories['cycle'], spelling_dictionary, title)"
   ]
  },
  {
   "cell_type": "code",
   "execution_count": 33,
   "metadata": {
    "ExecuteTime": {
     "end_time": "2017-03-02T21:57:04.676951",
     "start_time": "2017-03-02T21:57:04.608438"
    },
    "collapsed": false
   },
   "outputs": [
    {
     "data": {
      "text/plain": [
       "[(\"'\", 2042),\n",
       " ('m', 1539),\n",
       " ('e', 1301),\n",
       " ('w', 1143),\n",
       " ('t', 1056),\n",
       " ('pm', 966),\n",
       " ('n', 735),\n",
       " ('r', 722),\n",
       " ('d', 706),\n",
       " ('f', 649),\n",
       " ('g', 633),\n",
       " ('z', 411),\n",
       " ('ex', 303),\n",
       " (\"canvassers'\", 277),\n",
       " ('co', 267),\n",
       " ('u', 228),\n",
       " ('-', 188),\n",
       " ('mt', 177),\n",
       " ('th', 175),\n",
       " ('first-day', 162),\n",
       " ('pp', 138),\n",
       " ('wm', 97),\n",
       " ('reading-matter', 89),\n",
       " ('cc', 87),\n",
       " ('ft', 86),\n",
       " (\"''\", 84),\n",
       " ('k', 81),\n",
       " ('q', 81),\n",
       " ('miscel', 79),\n",
       " ('pt', 76),\n",
       " ('x', 75),\n",
       " ('mis', 72),\n",
       " ('av', 72),\n",
       " ('mo', 68),\n",
       " ('qr', 65),\n",
       " ('cumb', 62),\n",
       " ('re', 57),\n",
       " ('id', 56),\n",
       " ('canof', 55),\n",
       " ('raiatea', 51),\n",
       " (\"deliv'd\", 50),\n",
       " ('ga', 48),\n",
       " (\"l't'd\", 48),\n",
       " ('ti', 45),\n",
       " ('aro', 43),\n",
       " ('seventhday', 43),\n",
       " ('ci', 43),\n",
       " ('revassers', 39),\n",
       " (\"of'\", 39),\n",
       " (\"dist's\", 38)]"
      ]
     },
     "execution_count": 33,
     "metadata": {},
     "output_type": "execute_result"
    }
   ],
   "source": [
    "# %load shared_elements/top_errors.py\n",
    "errors_summary = GoH.reports.get_errors_summary( summary )\n",
    "GoH.reports.top_errors( errors_summary, 10 )[:50]"
   ]
  },
  {
   "cell_type": "markdown",
   "metadata": {},
   "source": [
    "## Review Remaining Errors"
   ]
  },
  {
   "cell_type": "code",
   "execution_count": 34,
   "metadata": {
    "ExecuteTime": {
     "end_time": "2017-03-02T21:57:05.245829",
     "start_time": "2017-03-02T21:57:04.679058"
    },
    "collapsed": false
   },
   "outputs": [
    {
     "name": "stdout",
     "output_type": "stream",
     "text": [
      "Opened files: \n",
      "\n",
      "HM18970901-V09-08-page16.txt\n",
      "\n",
      "HM18971201-V09-11-page16.txt\n",
      "\n",
      "HM18910301-V03-03e2-page2.txt\n",
      "\n"
     ]
    }
   ],
   "source": [
    "# %load shared_elements/high_error_rates.py\n",
    "GoH.reports.docs_with_high_error_rate(summary)\n",
    "\n",
    "doc_keys = [x[0] for x in GoH.reports.docs_with_high_error_rate(summary) if x[1] > 0.2]\n",
    "\n",
    "# GoH.utilities.open_original_docs(doc_keys, directories['cycle'])"
   ]
  },
  {
   "cell_type": "code",
   "execution_count": 35,
   "metadata": {
    "ExecuteTime": {
     "end_time": "2017-03-02T21:57:05.457665",
     "start_time": "2017-03-02T21:57:05.248382"
    },
    "collapsed": false
   },
   "outputs": [
    {
     "data": {
      "text/plain": [
       "(['commandment-keeping',\n",
       "  'numbeueriodicals',\n",
       "  \"neighbor'sfireside\",\n",
       "  'medicaltinissionary',\n",
       "  'notforgeneraluse',\n",
       "  \"prerogatives'and\",\n",
       "  'church-fellowship',\n",
       "  'fourteen-million',\n",
       "  'iemmemmommommommminmemmimmomme',\n",
       "  'communicaterithemselves',\n",
       "  'americanisentinel',\n",
       "  'nemommommmommomem',\n",
       "  'religious-liberty',\n",
       "  'fellow-passengers',\n",
       "  'drawbridge-castle',\n",
       "  'self-examination',\n",
       "  'thirst-producing',\n",
       "  'sabbbath-keeping',\n",
       "  'protestantrollege',\n",
       "  'handwriting--fine',\n",
       "  'commander-in-chief',\n",
       "  'lelvfeffieflvleffvflovio',\n",
       "  'developeradicate',\n",
       "  'mommonommemmmumemomminommun',\n",
       "  'self-renunciation',\n",
       "  'scandinavian-american',\n",
       "  'othresubscription',\n",
       "  'elberfeld-barmen',\n",
       "  'self-sufficiency',\n",
       "  'tubercucomparatively',\n",
       "  'red-white-and-blue',\n",
       "  'hard-beartedness',\n",
       "  'mmemmiiimmommommmem',\n",
       "  'lattice-enclosed',\n",
       "  'first-day-keeper',\n",
       "  'fellow-sufferers',\n",
       "  'commandmentkeepers',\n",
       "  'occasion-required',\n",
       "  'brain-enervating',\n",
       "  'tractsandpamphletssentout',\n",
       "  'thiscertifiesthatthebattlecreeksanitariumhealthfoods',\n",
       "  'householdeffects',\n",
       "  \"fire-department's\",\n",
       "  'mmemmemmemmommemommmemmiummiimm',\n",
       "  'allbusinessissuspendedhereforafew',\n",
       "  'right-to-the-point',\n",
       "  'heart-atmosphere',\n",
       "  'illoberyamisrlii',\n",
       "  'book-distributing',\n",
       "  'iiiiiiiiiiiiiiiiiiiiiiikum',\n",
       "  'mennonite-baptist',\n",
       "  'subscriptionbook',\n",
       "  'poverty-stricken',\n",
       "  'interest-inspiring',\n",
       "  'pan-presbyterian',\n",
       "  'fellow-canvasser',\n",
       "  'mmememoinnemmommommommummommiimm',\n",
       "  'sorrowful-looking',\n",
       "  'spirituallyminded',\n",
       "  'mmommiumemmemiummimmmemmomemmo',\n",
       "  'doublemindedness',\n",
       "  'missionarlfmessage',\n",
       "  'church-of-england',\n",
       "  'self-contradictory',\n",
       "  'self-constituted',\n",
       "  'unchangedthrough',\n",
       "  'long-established',\n",
       "  'eachtmissiondunderstands',\n",
       "  'southernextremities',\n",
       "  'fosterlandsstiftelsen',\n",
       "  'fellow-countrymen',\n",
       "  'self-explanatory',\n",
       "  'gentlemanly-looking',\n",
       "  'fellow-believers',\n",
       "  'inthenewenglandgleaner',\n",
       "  'llanvihangel-y-pennant',\n",
       "  'narrowmindedness',\n",
       "  'health-destroying',\n",
       "  'ka-ta-ka-ra-na-wada',\n",
       "  'north-of-ireland',\n",
       "  'peopleintothetruththanany',\n",
       "  'governor-general',\n",
       "  'natureworshipers',\n",
       "  'presidentsshould',\n",
       "  'serpent-charmers',\n",
       "  'grocery-merchant',\n",
       "  'innimminniiiiiiiiiimein',\n",
       "  'therillissionary',\n",
       "  'attorney-general',\n",
       "  'andivilissionarj',\n",
       "  'one-and-one-fifth',\n",
       "  \"evirefieli'v'vee\",\n",
       "  'ummemmommommonnommommorommemm',\n",
       "  'thearchipelago-of',\n",
       "  'well-disciplined',\n",
       "  'standard-bearers',\n",
       "  'printing-presses',\n",
       "  'nowifanymanhavenotthespiritofchrist',\n",
       "  'wealth-producing',\n",
       "  'stick-to-a-tiyeness',\n",
       "  'canvasser-selection',\n",
       "  'semi-independence',\n",
       "  'foreigntcousntarites',\n",
       "  'vice-consulships',\n",
       "  \"canvassers'delarimmenim\",\n",
       "  'self-gratification',\n",
       "  \"am'tshowningeneralre\",\n",
       "  'countrydistricts',\n",
       "  'generous-hearted',\n",
       "  'spanish-speaking',\n",
       "  'scandinavian-speaking',\n",
       "  'superintendent-general',\n",
       "  'scripture-reading',\n",
       "  'strength-producing',\n",
       "  'stick-to-it-iveness',\n",
       "  'missionaryservice',\n",
       "  'well-authenticated',\n",
       "  'fellow-canvassers',\n",
       "  'cholera-spreading',\n",
       "  'first-dayofferings',\n",
       "  'mischief-working',\n",
       "  'pleasanttempered',\n",
       "  'iminmememommunimnimomminiummom',\n",
       "  'chronicinflammation',\n",
       "  'sabbath-breaking',\n",
       "  'sparsely-settled',\n",
       "  'irismosseaffzkeivoth',\n",
       "  'iiiimmiiimmememniummem',\n",
       "  'letter-of-credit',\n",
       "  'commandment-keepers',\n",
       "  'religio-political',\n",
       "  \"vice-president's\",\n",
       "  'manyopportunities',\n",
       "  'mommommiimmenimmoommmemminmenommm',\n",
       "  'postmaster-general',\n",
       "  'fellow-christian',\n",
       "  'wesleyanuniversityarenowinforeignmissionservice',\n",
       "  'frankfort-on-the-main',\n",
       "  'logically-consistent',\n",
       "  'after-consequences',\n",
       "  'whole-heartedness',\n",
       "  'all-the-year-round',\n",
       "  'widely-differing',\n",
       "  'sabbath-breakers',\n",
       "  'self-righteousness',\n",
       "  'danish-norwegian',\n",
       "  'gmfrirtioneroaniefi',\n",
       "  'totalcommunicant',\n",
       "  'kingston-upon-hull',\n",
       "  'unostentatiously',\n",
       "  'lssowuetdhenafrica',\n",
       "  'printing-offices',\n",
       "  'counter-irritant',\n",
       "  'thickly-populated',\n",
       "  'pleasure-seekers',\n",
       "  'ampinpmpmpmamdep',\n",
       "  'anti-church-and-state',\n",
       "  'indiscriminating',\n",
       "  'counter-arguments',\n",
       "  'subscription-book',\n",
       "  'stoop-shouldered',\n",
       "  'religious-christian',\n",
       "  'counter-petition',\n",
       "  'physician-in-chief',\n",
       "  'mminimmommommimmomminimmommommom',\n",
       "  'untorighteousness',\n",
       "  'counter-petitions',\n",
       "  'assistanceorhelps',\n",
       "  'heaven-appointed',\n",
       "  'publishing-houses',\n",
       "  're-establishment',\n",
       "  'stumbling-blocks',\n",
       "  'blairsunday-rest',\n",
       "  'self-distrustful',\n",
       "  'diseaseproducing',\n",
       "  'inspector-general',\n",
       "  'swedish-speaking',\n",
       "  'lieutenant-governor',\n",
       "  'religiopolitical',\n",
       "  'thiscorrespondence',\n",
       "  'thelanguage-work',\n",
       "  'fiercely-boiling',\n",
       "  'straight-forward',\n",
       "  'disease-consumed',\n",
       "  'differentlanguages',\n",
       "  \"responsibilities'\",\n",
       "  'nnllodirnitaohnisacarolina',\n",
       "  'eighteen-year-old',\n",
       "  'confidentthatquiteanumberofhisneighborswill',\n",
       "  'health-and-mind-destroying',\n",
       "  'healthdestroying',\n",
       "  'undenotninational',\n",
       "  \"missionary'society\",\n",
       "  'two-or-three-box',\n",
       "  'foreign-speaking',\n",
       "  \"active'proselyting\",\n",
       "  'armenian-turkish',\n",
       "  'fourthcommandment',\n",
       "  'postmastergeneral'],\n",
       " 15)"
      ]
     },
     "execution_count": 35,
     "metadata": {},
     "output_type": "execute_result"
    }
   ],
   "source": [
    "GoH.reports.long_errors(errors_summary, min_length=15)[100:]"
   ]
  },
  {
   "cell_type": "markdown",
   "metadata": {},
   "source": [
    "## Correction 8 -- Remove long error tokens"
   ]
  },
  {
   "cell_type": "code",
   "execution_count": 37,
   "metadata": {
    "ExecuteTime": {
     "end_time": "2017-03-02T21:59:17.547847",
     "start_time": "2017-03-02T21:59:14.545134"
    },
    "collapsed": false
   },
   "outputs": [
    {
     "name": "stdout",
     "output_type": "stream",
     "text": [
      "HM18900601-V02-06-page4.txt: [('UMMEMMOMMOMMONNOMMOMMOROMMEMM', ' '), ('IEMMEMMOMMOMMOMMMINMEMMIMMOMME', ' '), ('MMINIMMOMMOMMIMMOMMINIMMOMMOMMOM', ' '), ('MOMMOMMIIMMENIMMOOMMMEMMINMENOMMM', ' '), ('MMEMMEMMEMMOMMEMOMMMEMMIUMMIIMM', ' '), ('IMINMEMEMOMMUNIMNIMOMMINIUMMOM', ' '), ('NEMOMMOMMMOMMOMEM', ' '), ('ommisommummin', ' '), ('IIIMMUMMOMMUMM', ' '), ('MOMMONOMMEMMMUMEMOMMINOMMUN', ' '), ('MMEMEMOINNEMMOMMOMMOMMUMMOMMIIMM', ' '), ('MMOMMIUMEMMEMIUMMIMMMEMMOMEMMO', ' '), ('MMEMMIIIMMOMMOMMMEM', ' '), ('IIIIMMIIIMMEMEMNIUMMEM', ' '), ('INNIMMINNIIIIIIIIIIMEIN', ' '), ('IIIIIIIIIIIIIIIIIIIIIIIKUM', ' ')]\n"
     ]
    }
   ],
   "source": [
    "# %load shared_elements/remove-tokens-with-long-strings-of-characters.py\n",
    "prev = cycle\n",
    "cycle = \"correction8\"\n",
    "\n",
    "directories = GoH.utilities.define_directories(prev, cycle, base_dir)\n",
    "if not os.path.exists(directories['cycle']):\n",
    "    os.makedirs(directories['cycle'])\n",
    "\n",
    "corpus = (f for f in listdir(directories['prev']) if not f.startswith('.') and isfile(join(directories['prev'], f)))\n",
    "\n",
    "for filename in corpus:\n",
    "    content = GoH.utilities.readfile(directories['prev'], filename)\n",
    "\n",
    "    text = re.sub(r\"[0-9,!?$:;&]\", \" \", content)\n",
    "    tokens = GoH.utilities.tokenize_text(text)\n",
    "    \n",
    "    replacements = []\n",
    "    replacements.append(GoH.clean.check_for_repeating_characters(tokens, \"m|M\"))\n",
    "    replacements.append(GoH.clean.check_for_repeating_characters(tokens, \"i|I\"))\n",
    "    \n",
    "    replacements = [item for sublist in replacements for item in sublist]\n",
    "            \n",
    "    if len(replacements) > 0:\n",
    "        print('{}: {}'.format(filename, replacements))\n",
    "\n",
    "        for replacement in replacements:\n",
    "            content = GoH.clean.replace_pair(replacement, content)\n",
    "    else:\n",
    "        pass\n",
    "    \n",
    "    with open(join(directories['cycle'], filename), mode=\"w\") as o:\n",
    "        o.write(content)\n",
    "        o.close()"
   ]
  },
  {
   "cell_type": "markdown",
   "metadata": {},
   "source": [
    "## Correction 9 -- Separate Squashed Words"
   ]
  },
  {
   "cell_type": "code",
   "execution_count": 39,
   "metadata": {
    "ExecuteTime": {
     "end_time": "2017-03-02T22:00:13.698212",
     "start_time": "2017-03-02T22:00:07.491221"
    },
    "collapsed": false
   },
   "outputs": [
    {
     "name": "stdout",
     "output_type": "stream",
     "text": [
      "HM18891101-V01-11e-page6.txt: [('peopleintothetruththanany', 'people into the truth than any')]\n",
      "HM18900201-V02-02-page5.txt: [('Thiscorrespondence', 'This correspondence')]\n",
      "HM18920401-V04-04-page6.txt: [('tractsandpamphletssentout', 'tracts and pamphlets sent out')]\n",
      "HM18920501-V04-05-page19.txt: [('differentlanguages', 'different languages')]\n",
      "HM18930801-V05-07e-page7.txt: [('commandmentkeepers', 'commandment keepers')]\n",
      "HM18940101-V06-01-page15.txt: [('confidentthatquiteanumberofhisneighborswill', 'confident that quite a number of his neighbors will')]\n",
      "HM18940701-V06-07e-page2.txt: [('WesleyanUniversityarenowinforeignmissionservice', 'Wesleyan University are now in foreign mission service')]\n",
      "HM18950401-V07-03-page8.txt: [('allbusinessissuspendedhereforafeW', 'all business is suspended here for a f e W')]\n",
      "HM18960301-V08-03-page27.txt: [('ThiscertifiesthattheBattleCreekSanitariumHealthFoods', 'This certifies that the Battle Creek Sanitarium Health Foods')]\n",
      "HM18960901-V08-09-page10.txt: [('southernextremities', 'southern extremities')]\n",
      "HM18961001-V08-10-page23.txt: [('chronicinflammation', 'chronic inflammation')]\n",
      "HM18961201-V08-12-page9.txt: [('NowifanymanhavenottheSpiritofChrist', 'Now if any man have not the Spirit of Christ')]\n",
      "HM18970901-V09-08-page16.txt: [('intheNewEnglandGleaner', 'in the New England Gleaner')]\n"
     ]
    }
   ],
   "source": [
    "# %load shared_elements/separate_squashed_words.py\n",
    "import pandas as pd\n",
    "from math import log\n",
    "\n",
    "prev = cycle\n",
    "cycle = \"correction9\"\n",
    "\n",
    "directories = GoH.utilities.define_directories(prev, cycle, base_dir)\n",
    "if not os.path.exists(directories['cycle']):\n",
    "    os.makedirs(directories['cycle'])\n",
    "\n",
    "corpus = (f for f in listdir(directories['prev']) if not f.startswith('.') and isfile(join(directories['prev'], f)))\n",
    "\n",
    "verified_tokens = []\n",
    "\n",
    "for filename in corpus:  \n",
    "    content = GoH.utilities.readfile(directories['prev'], filename)\n",
    "    GoH.normalize.get_approved_tokens(content, spelling_dictionary, verified_tokens)\n",
    "\n",
    "tokens_with_freq = dict(collections.Counter(verified_tokens))\n",
    "words = pd.DataFrame(list(tokens_with_freq.items()), columns=['token','freq'])\n",
    "words_sorted = words.sort_values('freq', ascending=False)\n",
    "words_sorted_short = words_sorted[words_sorted.freq > 2]\n",
    "\n",
    "sorted_list_of_words = list(words_sorted_short['token'])\n",
    "\n",
    "wordcost = dict((k, log((i+1)*log(len(sorted_list_of_words)))) for i,k in enumerate(sorted_list_of_words))\n",
    "maxword = max(len(x) for x in sorted_list_of_words)\n",
    "\n",
    "corpus = (f for f in listdir(directories['prev']) if not f.startswith('.') and isfile(join(directories['prev'], f)))\n",
    "\n",
    "for filename in corpus:\n",
    "    content = GoH.utilities.readfile(directories['prev'], filename)\n",
    "\n",
    "    text = GoH.utilities.strip_punct(content)\n",
    "    tokens = GoH.utilities.tokenize_text(text)\n",
    "    \n",
    "    replacements = []\n",
    "    \n",
    "    for token in tokens:\n",
    "        if not token.lower() in spelling_dictionary:\n",
    "            if len(token) > 17:\n",
    "                if re.search(r\"[\\-\\-\\'\\\"]\", token):\n",
    "                    pass\n",
    "                else:\n",
    "                    split_string = GoH.normalize.infer_spaces(token, wordcost, maxword)\n",
    "                    list_split_string = split_string.split()\n",
    "                    \n",
    "                    if GoH.normalize.verify_split_string(list_split_string, spelling_dictionary):\n",
    "                        replacements.append((token, split_string))\n",
    "                    else:\n",
    "                        pass\n",
    "            else:\n",
    "                pass\n",
    "        else:\n",
    "            pass\n",
    "        \n",
    "    if len(replacements) > 0:\n",
    "        print(\"{}: {}\".format(filename, replacements))\n",
    "        \n",
    "        for replacement in replacements:\n",
    "            content = GoH.clean.replace_pair(replacement, content)\n",
    "    \n",
    "    else:\n",
    "        pass\n",
    "\n",
    "    with open(join(directories['cycle'], filename), mode=\"w\") as o:\n",
    "        o.write(content)\n",
    "        o.close()"
   ]
  },
  {
   "cell_type": "code",
   "execution_count": 42,
   "metadata": {
    "ExecuteTime": {
     "end_time": "2017-03-02T22:00:36.886956",
     "start_time": "2017-03-02T22:00:32.962576"
    },
    "collapsed": false
   },
   "outputs": [
    {
     "name": "stdout",
     "output_type": "stream",
     "text": [
      "Directory: /Users/jeriwieringa/Dissertation/text/text/2017-01-31-corpus-with-utf8-split-into-titles-cleaning/HM/correction9\n",
      "\n",
      "Average verified rate: 0.9862182950637695\n",
      "\n",
      "Average of error rates: 0.017067457375833952\n",
      "\n",
      "Total token count: 2273739\n",
      "\n"
     ]
    },
    {
     "data": {
      "image/png": "[encoded data removed]",
      "text/plain": [
       "<matplotlib.figure.Figure at 0x111c78ba8>"
      ]
     },
     "metadata": {},
     "output_type": "display_data"
    }
   ],
   "source": [
    "# %load shared_elements/summary.py\n",
    "summary = GoH.reports.overview_report(directories['cycle'], spelling_dictionary, title)"
   ]
  },
  {
   "cell_type": "code",
   "execution_count": 43,
   "metadata": {
    "ExecuteTime": {
     "end_time": "2017-03-02T22:00:36.959945",
     "start_time": "2017-03-02T22:00:36.889160"
    },
    "collapsed": false
   },
   "outputs": [
    {
     "data": {
      "text/plain": [
       "[(\"'\", 2042),\n",
       " ('m', 1539),\n",
       " ('e', 1302),\n",
       " ('w', 1144),\n",
       " ('t', 1056),\n",
       " ('pm', 966),\n",
       " ('n', 735),\n",
       " ('r', 722),\n",
       " ('d', 706),\n",
       " ('f', 650),\n",
       " ('g', 633),\n",
       " ('z', 411),\n",
       " ('ex', 303),\n",
       " (\"canvassers'\", 277),\n",
       " ('co', 267),\n",
       " ('u', 228),\n",
       " ('-', 188),\n",
       " ('mt', 177),\n",
       " ('th', 175),\n",
       " ('first-day', 162),\n",
       " ('pp', 138),\n",
       " ('wm', 97),\n",
       " ('reading-matter', 89),\n",
       " ('cc', 87),\n",
       " ('ft', 86),\n",
       " (\"''\", 84),\n",
       " ('k', 81),\n",
       " ('q', 81),\n",
       " ('miscel', 79),\n",
       " ('pt', 76),\n",
       " ('x', 75),\n",
       " ('mis', 72),\n",
       " ('av', 72),\n",
       " ('mo', 68),\n",
       " ('qr', 65),\n",
       " ('cumb', 62),\n",
       " ('re', 57),\n",
       " ('id', 56),\n",
       " ('canof', 55),\n",
       " ('raiatea', 51),\n",
       " (\"deliv'd\", 50),\n",
       " ('ga', 48),\n",
       " (\"l't'd\", 48),\n",
       " ('ti', 45),\n",
       " ('aro', 43),\n",
       " ('seventhday', 43),\n",
       " ('ci', 43),\n",
       " ('revassers', 39),\n",
       " (\"of'\", 39),\n",
       " (\"dist's\", 38)]"
      ]
     },
     "execution_count": 43,
     "metadata": {},
     "output_type": "execute_result"
    }
   ],
   "source": [
    "# %load shared_elements/top_errors.py\n",
    "errors_summary = GoH.reports.get_errors_summary( summary )\n",
    "GoH.reports.top_errors( errors_summary, 10 )[:50]"
   ]
  },
  {
   "cell_type": "code",
   "execution_count": null,
   "metadata": {
    "collapsed": true
   },
   "outputs": [],
   "source": []
  }
 ],
 "metadata": {
  "anaconda-cloud": {},
  "kernelspec": {
   "display_name": "Python [conda env:dissertation2]",
   "language": "python",
   "name": "conda-env-dissertation2-py"
  },
  "language_info": {
   "codemirror_mode": {
    "name": "ipython",
    "version": 3
   },
   "file_extension": ".py",
   "mimetype": "text/x-python",
   "name": "python",
   "nbconvert_exporter": "python",
   "pygments_lexer": "ipython3",
   "version": "3.5.2"
  }
 },
 "nbformat": 4,
 "nbformat_minor": 2
}
