{
 "cells": [
  {
   "cell_type": "code",
   "execution_count": 1,
   "metadata": {
    "ExecuteTime": {
     "end_time": "2017-03-02T21:29:36.589037",
     "start_time": "2017-03-02T21:29:36.559065"
    },
    "collapsed": true
   },
   "outputs": [],
   "source": [
    "%load_ext autoreload"
   ]
  },
  {
   "cell_type": "code",
   "execution_count": 2,
   "metadata": {
    "ExecuteTime": {
     "end_time": "2017-03-02T21:29:36.596055",
     "start_time": "2017-03-02T21:29:36.592334"
    },
    "collapsed": true
   },
   "outputs": [],
   "source": [
    "%autoreload 2"
   ]
  },
  {
   "cell_type": "code",
   "execution_count": 3,
   "metadata": {
    "ExecuteTime": {
     "end_time": "2017-03-02T21:29:39.279637",
     "start_time": "2017-03-02T21:29:36.597910"
    },
    "collapsed": false
   },
   "outputs": [],
   "source": [
    "import reports\n",
    "import utilities\n",
    "import clean\n",
    "import normalize\n",
    "import re\n",
    "import os\n",
    "from os import listdir\n",
    "from os.path import isfile, join\n",
    "import collections"
   ]
  },
  {
   "cell_type": "code",
   "execution_count": 4,
   "metadata": {
    "ExecuteTime": {
     "end_time": "2017-03-02T21:29:39.312383",
     "start_time": "2017-03-02T21:29:39.281141"
    },
    "collapsed": true
   },
   "outputs": [],
   "source": [
    "%matplotlib inline"
   ]
  },
  {
   "cell_type": "code",
   "execution_count": 5,
   "metadata": {
    "ExecuteTime": {
     "end_time": "2017-03-02T21:29:39.343337",
     "start_time": "2017-03-02T21:29:39.313777"
    },
    "collapsed": true
   },
   "outputs": [],
   "source": [
    "wordlist_dir = \"/Users/jeriwieringa/Dissertation/drafts/data/word-lists\"\n",
    "wordlists = [\"2016-12-07-SDA-last-names.txt\", \n",
    "             \"2016-12-07-SDA-place-names.txt\", \n",
    "             \"2016-12-08-SDA-Vocabulary.txt\", \n",
    "             \"2017-01-03-place-names.txt\", \n",
    "             \"2017-02-14-Base-Word-List-SCOWL&KJV.txt\",\n",
    "             \"2017-02-14-Roman-Numerals.txt\",\n",
    "             \"2017-03-01-Additional-Approved-Words.txt\"\n",
    "            ]"
   ]
  },
  {
   "cell_type": "code",
   "execution_count": 6,
   "metadata": {
    "ExecuteTime": {
     "end_time": "2017-03-02T21:29:39.635273",
     "start_time": "2017-03-02T21:29:39.345447"
    },
    "collapsed": true
   },
   "outputs": [],
   "source": [
    "spelling_dictionary = utilities.create_spelling_dictionary(wordlist_dir, wordlists)"
   ]
  },
  {
   "cell_type": "code",
   "execution_count": 7,
   "metadata": {
    "ExecuteTime": {
     "end_time": "2017-03-02T21:29:39.689706",
     "start_time": "2017-03-02T21:29:39.639055"
    },
    "collapsed": true
   },
   "outputs": [],
   "source": [
    "title = \"IR\""
   ]
  },
  {
   "cell_type": "code",
   "execution_count": 8,
   "metadata": {
    "ExecuteTime": {
     "end_time": "2017-03-02T21:29:39.734923",
     "start_time": "2017-03-02T21:29:39.691724"
    },
    "collapsed": true
   },
   "outputs": [],
   "source": [
    "base_dir = \"/Users/jeriwieringa/Dissertation/text/text/2017-01-31-corpus-with-utf8-split-into-titles-cleaning/{}/\".format(title)"
   ]
  },
  {
   "cell_type": "markdown",
   "metadata": {},
   "source": [
    "## Baseline"
   ]
  },
  {
   "cell_type": "code",
   "execution_count": 9,
   "metadata": {
    "ExecuteTime": {
     "end_time": "2017-03-02T21:29:39.762353",
     "start_time": "2017-03-02T21:29:39.736856"
    },
    "collapsed": true
   },
   "outputs": [],
   "source": [
    "cycle = 'baseline'"
   ]
  },
  {
   "cell_type": "code",
   "execution_count": 10,
   "metadata": {
    "ExecuteTime": {
     "end_time": "2017-03-02T21:29:42.002945",
     "start_time": "2017-03-02T21:29:39.763921"
    },
    "collapsed": false
   },
   "outputs": [
    {
     "name": "stdout",
     "output_type": "stream",
     "text": [
      "Directory: /Users/jeriwieringa/Dissertation/text/text/2017-01-31-corpus-with-utf8-split-into-titles-cleaning/IR/baseline\n",
      "\n",
      "Average verified rate: 0.9209845429108203\n",
      "\n",
      "Average of error rates: 0.08383389544688026\n",
      "\n",
      "Total token count: 1176871\n",
      "\n"
     ]
    },
    {
     "data": {
      "image/png": "[encoded data removed]",
      "text/plain": [
       "<matplotlib.figure.Figure at 0x111b663c8>"
      ]
     },
     "metadata": {},
     "output_type": "display_data"
    }
   ],
   "source": [
    "stats = reports.overview_report(join(base_dir, cycle), spelling_dictionary, title)"
   ]
  },
  {
   "cell_type": "code",
   "execution_count": 11,
   "metadata": {
    "ExecuteTime": {
     "end_time": "2017-03-02T21:29:42.060674",
     "start_time": "2017-03-02T21:29:42.004553"
    },
    "collapsed": false
   },
   "outputs": [
    {
     "data": {
      "text/plain": [
       "[('w', 4512),\n",
       " ('e', 1999),\n",
       " ('m', 1961),\n",
       " ('-', 1701),\n",
       " ('r', 1655),\n",
       " ('f', 1614),\n",
       " ('¥', 1404),\n",
       " ('d', 1356),\n",
       " ('n', 1037),\n",
       " ('t', 984),\n",
       " ('re-', 939),\n",
       " (')', 866),\n",
       " ('g', 852),\n",
       " (\"'\", 837),\n",
       " ('con-', 837),\n",
       " ('(', 767),\n",
       " ('in-', 718),\n",
       " ('tion', 661),\n",
       " ('th', 567),\n",
       " ('co', 488),\n",
       " ('be-', 387),\n",
       " ('mt', 375),\n",
       " ('com-', 366),\n",
       " ('de-', 349),\n",
       " ('ñ', 348),\n",
       " ('rd', 336),\n",
       " ('ence', 323),\n",
       " ('u', 318),\n",
       " ('en-', 287),\n",
       " ('*', 278),\n",
       " ('meet-', 271),\n",
       " ('confer-', 268),\n",
       " ('wm', 254),\n",
       " ('ex-', 254),\n",
       " ('ad-', 253),\n",
       " ('ference', 248),\n",
       " ('tions', 245),\n",
       " ('ment', 245),\n",
       " ('indi-', 242),\n",
       " ('k', 211),\n",
       " ('mo', 206),\n",
       " ('mis-', 200),\n",
       " ('_', 198),\n",
       " ('ac-', 197),\n",
       " ('sab-', 194),\n",
       " ('*mrs', 188),\n",
       " ('at-', 186),\n",
       " ('ber', 180),\n",
       " ('pro-', 179),\n",
       " ('pre-', 178),\n",
       " ('presidentñw', 175),\n",
       " ('camp-', 172),\n",
       " ('ple', 168),\n",
       " ('ers', 163),\n",
       " ('peo-', 162),\n",
       " ('im-', 161),\n",
       " ('ap-', 157),\n",
       " ('ly', 157),\n",
       " ('an-', 148),\n",
       " ('dis-', 148),\n",
       " ('%', 144),\n",
       " ('un-', 138),\n",
       " ('rocklane', 137),\n",
       " ('seventh-', 132),\n",
       " ('ren', 129),\n",
       " ('side)', 127),\n",
       " ('per-', 127),\n",
       " ('/', 126),\n",
       " ('sionary', 124),\n",
       " ('inter-', 122),\n",
       " ('adiana', 121),\n",
       " ('secretaryñw', 120),\n",
       " ('num-', 118),\n",
       " ('sub-', 118),\n",
       " ('ary', 116),\n",
       " ('ance', 112),\n",
       " ('z', 108),\n",
       " ('breth-', 108),\n",
       " ('can-', 107),\n",
       " ('mem-', 106),\n",
       " ('mes-', 104),\n",
       " ('pr', 104),\n",
       " ('sabbath-', 102),\n",
       " ('for-', 101),\n",
       " ('ent', 101),\n",
       " (\"canvassers'\", 101)]"
      ]
     },
     "execution_count": 11,
     "metadata": {},
     "output_type": "execute_result"
    }
   ],
   "source": [
    "errors_summary = reports.get_errors_summary( stats )\n",
    "reports.top_errors( errors_summary, 100 )"
   ]
  },
  {
   "cell_type": "markdown",
   "metadata": {
    "collapsed": true
   },
   "source": [
    "## Check Special Character Use"
   ]
  },
  {
   "cell_type": "code",
   "execution_count": 12,
   "metadata": {
    "ExecuteTime": {
     "end_time": "2017-03-02T21:29:42.132481",
     "start_time": "2017-03-02T21:29:42.062277"
    },
    "collapsed": false
   },
   "outputs": [
    {
     "data": {
      "text/plain": [
       "[('¥', 1404),\n",
       " (')', 866),\n",
       " ('(', 767),\n",
       " ('ñ', 348),\n",
       " ('*', 278),\n",
       " ('_', 198),\n",
       " ('*mrs', 188),\n",
       " ('presidentñw', 175),\n",
       " ('%', 144),\n",
       " ('side)', 127),\n",
       " ('/', 126),\n",
       " ('secretaryñw', 120),\n",
       " ('*a', 99),\n",
       " ('ñc', 89),\n",
       " ('\\\\v', 74),\n",
       " ('committeeñw', 72),\n",
       " ('=', 72),\n",
       " ('ña', 71),\n",
       " ('secretaryñmrs', 65),\n",
       " ('ñthe', 60),\n",
       " ('treasurerñw', 58),\n",
       " ('street)', 58),\n",
       " ('*w', 57),\n",
       " ('secretariesña', 56),\n",
       " ('(west', 56),\n",
       " ('treasurerña', 56),\n",
       " ('treasurerñt', 55),\n",
       " ('*c', 54),\n",
       " ('missionaryñr', 53),\n",
       " ('*j', 50),\n",
       " ('¥¥', 50),\n",
       " ('*e', 45),\n",
       " ('ô', 41),\n",
       " ('(east', 39),\n",
       " ('¡', 38),\n",
       " ('i)', 38),\n",
       " ('ã', 34),\n",
       " ('*john', 33),\n",
       " ('libertyña', 32),\n",
       " ('))', 31),\n",
       " ('medicalñdr', 31),\n",
       " (']', 30),\n",
       " ('**', 28),\n",
       " ('secretaryñj', 28),\n",
       " ('agentñwm', 28),\n",
       " ('*r', 28),\n",
       " ('wantedña', 27),\n",
       " ('`', 27),\n",
       " ('a)', 25),\n",
       " ('*s', 25),\n",
       " ('agentñj', 24),\n",
       " ('ñtest', 24),\n",
       " ('[', 24),\n",
       " ('educationalñmrs', 23),\n",
       " ('%v', 22),\n",
       " ('(the', 21),\n",
       " ('fieldñarcher', 21),\n",
       " ('+', 20),\n",
       " ('(e', 19),\n",
       " ('*henry', 19),\n",
       " ('(a)', 19),\n",
       " ('¥¥¥', 19),\n",
       " ('¥the', 18),\n",
       " ('secretaryñc', 18),\n",
       " ('*b', 18),\n",
       " ('sceretaryñw', 17),\n",
       " ('__', 17),\n",
       " ('(to', 17),\n",
       " ('*charles', 17),\n",
       " ('*carrie', 16),\n",
       " ('¥mrs', 16),\n",
       " ('presidentñmorris', 15),\n",
       " ('•', 15),\n",
       " ('girl)', 14),\n",
       " ('fieldña', 14),\n",
       " ('(i', 14),\n",
       " ('*g', 13),\n",
       " ('*n', 13),\n",
       " ('\\\\ve', 13),\n",
       " ('*p', 13),\n",
       " ('*d', 13),\n",
       " ('*emmanuel', 12),\n",
       " ('*martin', 12),\n",
       " ('*dr', 12),\n",
       " ('*sarah', 12),\n",
       " ('¥e', 12),\n",
       " ('*l', 12),\n",
       " ('*george', 12),\n",
       " ('(b)', 12),\n",
       " ('*rhoda', 12),\n",
       " ('*martha', 12),\n",
       " ('(continued', 12),\n",
       " ('(and', 12),\n",
       " ('ñb', 12),\n",
       " ('*frank', 12),\n",
       " ('*james', 11),\n",
       " ('*samuel', 11),\n",
       " ('medicalñda', 11),\n",
       " ('*u', 11),\n",
       " ('a¥', 11),\n",
       " ('¥a', 11),\n",
       " ('*fannie', 11),\n",
       " ('it)', 11),\n",
       " ('*stephen', 11),\n",
       " ('(if', 11),\n",
       " ('ñto', 11),\n",
       " ('ñdied', 11),\n",
       " ('*archer', 11),\n",
       " ('treasurerñjno', 11),\n",
       " ('*thomas', 11),\n",
       " ('their¥', 10),\n",
       " ('*walter', 10),\n",
       " ('nd)', 10),\n",
       " ('>', 10),\n",
       " ('-¥', 10),\n",
       " ('*blanche', 10),\n",
       " ('~', 10),\n",
       " ('*robert', 10),\n",
       " ('*margaret', 10),\n",
       " ('(paid)', 10),\n",
       " ('(see', 10),\n",
       " ('¥w', 10),\n",
       " ('(c)', 10),\n",
       " ('*geo', 10),\n",
       " ('for¥', 10),\n",
       " ('#', 9),\n",
       " ('*nellie', 9),\n",
       " ('*celia', 9),\n",
       " ('¥d', 9),\n",
       " ('()', 9),\n",
       " ('(luring', 9),\n",
       " ('(mal', 9),\n",
       " ('%%', 9),\n",
       " ('\\\\', 9),\n",
       " ('fieldñ', 8),\n",
       " ('¥j', 8),\n",
       " ('the¥', 8),\n",
       " ('¥h', 8),\n",
       " ('(or', 8),\n",
       " ('(e)', 8),\n",
       " ('ñyes', 8),\n",
       " ('ñbut', 8),\n",
       " ('departmentñdr', 8),\n",
       " ('ñwe', 8),\n",
       " ('•mrs', 8),\n",
       " ('ñin', 8),\n",
       " ('(concluded', 8),\n",
       " ('*victor', 8),\n",
       " ('seventh¥day', 8),\n",
       " ('ñmrs', 8),\n",
       " (\"'¥\", 7),\n",
       " ('¥-', 7),\n",
       " ('st)', 7),\n",
       " ('/%', 7),\n",
       " ('ñi', 7),\n",
       " ('twenty¥five', 7),\n",
       " ('*mary', 7),\n",
       " ('¥of', 7),\n",
       " ('-)', 7),\n",
       " ('~~', 7),\n",
       " ('ñj', 7),\n",
       " ('in¥', 7),\n",
       " ('ó', 7),\n",
       " ('¥m', 7),\n",
       " ('(for', 7),\n",
       " ('(lev', 6),\n",
       " ('ñan', 6),\n",
       " ('(d)', 6),\n",
       " ('\\ufeff', 6),\n",
       " ('***', 6),\n",
       " ('(page', 6),\n",
       " ('c)', 6),\n",
       " ('(heb', 6),\n",
       " ('(a', 6),\n",
       " ('•e', 6),\n",
       " ('ñselected', 6),\n",
       " ('¥c', 6),\n",
       " ('fieldñburt', 6),\n",
       " ('our¥', 6),\n",
       " ('ñelder', 6),\n",
       " ('*glesner', 6),\n",
       " ('*¥', 6),\n",
       " ('<', 6),\n",
       " ('ñand', 6),\n",
       " ('ñthat', 6),\n",
       " ('ñed', 6),\n",
       " ('¥s', 6),\n",
       " ('ñit', 6),\n",
       " ('*chris', 6),\n",
       " ('ñall', 6),\n",
       " ('ñprov', 6),\n",
       " ('*raymond', 6),\n",
       " ('*clara', 6),\n",
       " ('^', 6),\n",
       " ('ñvol', 6),\n",
       " ('i¥', 6),\n",
       " ('ñr', 6),\n",
       " ('ñps', 6),\n",
       " ('û', 6),\n",
       " ('ôô', 5),\n",
       " ('¤', 5),\n",
       " ('i/', 5),\n",
       " ('*lydia', 5),\n",
       " ('t)', 5),\n",
       " ('¥¥¥¥¥', 5),\n",
       " ('wantedñan', 5),\n",
       " ('rebecca__', 5),\n",
       " ('(gen', 5),\n",
       " ('ñeditor', 5),\n",
       " ('(in', 5),\n",
       " ('¥la', 5),\n",
       " ('sabbath-schoolñmrs', 5),\n",
       " ('medicalñdu', 5),\n",
       " ('¥i', 5),\n",
       " ('departmentñda', 5),\n",
       " ('si)', 5),\n",
       " ('*millie', 5),\n",
       " ('((', 5),\n",
       " ('¥r', 5),\n",
       " ('=mrs', 5),\n",
       " ('*adelia', 5),\n",
       " ('(not', 5),\n",
       " ('(sr', 5),\n",
       " ('w¥', 5),\n",
       " ('(lays', 5),\n",
       " ('educationalñmae', 5),\n",
       " (\"')\", 5),\n",
       " ('camp¥meeting', 5),\n",
       " ('¥we', 5),\n",
       " ('•m', 4),\n",
       " ('ñt', 4),\n",
       " ('ci)', 4),\n",
       " ('an¥', 4),\n",
       " ('(from', 4),\n",
       " ('auditorñw', 4),\n",
       " ('secretaryña', 4),\n",
       " ('j¥', 4),\n",
       " ('%c', 4),\n",
       " (')r', 4),\n",
       " ('elder¥', 4),\n",
       " ('cents)', 4),\n",
       " ('ñthis', 4),\n",
       " ('•a', 4),\n",
       " ('\\\\i', 4),\n",
       " ('*bertha', 4),\n",
       " ('(is', 4),\n",
       " ('to¥', 4),\n",
       " ('¥wallace', 4),\n",
       " ('saleñmy', 4),\n",
       " ('(which', 4),\n",
       " ('¥l', 4),\n",
       " ('ñnot', 4),\n",
       " ('(mt', 4),\n",
       " ('presidentñi', 4),\n",
       " ('partmentñclara', 4),\n",
       " ('[the', 4),\n",
       " ('*edgar', 4),\n",
       " ('(as', 4),\n",
       " ('*gabriella', 4),\n",
       " ('it>', 4),\n",
       " ('¥mary', 4),\n",
       " ('¥xa', 4),\n",
       " ('forgetñlest', 4),\n",
       " ('(p', 4),\n",
       " ('ñm', 4),\n",
       " ('¥t', 4),\n",
       " ('*gleaner', 4),\n",
       " ('ñso', 4),\n",
       " ('secretaryñ', 4),\n",
       " ('s)', 4),\n",
       " ('****', 4),\n",
       " ('(hiring', 4),\n",
       " ('(matt', 4),\n",
       " ('*olive', 4),\n",
       " ('l¥', 4),\n",
       " ('*church', 4),\n",
       " ('educationalñmits', 4),\n",
       " ('wantedñgood', 4),\n",
       " ('(late', 4),\n",
       " (')(', 4),\n",
       " ('brotherñyour', 4),\n",
       " ('mr¥s', 4),\n",
       " ('*everett', 4),\n",
       " ('w*', 4),\n",
       " ('\\\\vest', 4),\n",
       " ('(new', 4),\n",
       " ('ñreview', 4),\n",
       " ('medicalñdn', 4),\n",
       " ('*wm', 4),\n",
       " ('(c', 4),\n",
       " ('ñdr', 4),\n",
       " ('ñyou', 4),\n",
       " ('[to', 4),\n",
       " ('ñare', 3),\n",
       " ('(v', 3),\n",
       " ('(two', 3),\n",
       " ('c=', 3),\n",
       " ('+d', 3),\n",
       " ('allñ', 3),\n",
       " ('beastñno', 3),\n",
       " ('¥-¥', 3),\n",
       " ('+a', 3),\n",
       " ('indã', 3),\n",
       " ('*cella', 3),\n",
       " ('year¥', 3),\n",
       " (\"sec'yñmrs\", 3),\n",
       " ('months)', 3),\n",
       " ('number¥', 3),\n",
       " ('¥hogan', 3),\n",
       " ('}', 3),\n",
       " ('page)', 3),\n",
       " ('other¥', 3),\n",
       " ('at¥', 3),\n",
       " ('cornett]', 3),\n",
       " ('ñby', 3),\n",
       " ('(nebraska)', 3),\n",
       " ('s¥', 3),\n",
       " ('tithe)', 3),\n",
       " ('ãndiana', 3),\n",
       " ('ñfrom', 3),\n",
       " ('supplement)', 3),\n",
       " ('c¥', 3),\n",
       " ('li)', 3),\n",
       " ('departmentñdn', 3),\n",
       " ('di)', 3),\n",
       " ('(it', 3),\n",
       " ('(lone', 3),\n",
       " ('a¥nd', 3),\n",
       " ('church)', 3),\n",
       " ('and¥', 3),\n",
       " ('(lay', 3),\n",
       " (\"('\", 3),\n",
       " ('of¥', 3),\n",
       " ('(ibid', 3),\n",
       " ('•c', 3),\n",
       " ('(in-', 3),\n",
       " ('e***', 3),\n",
       " ('(james', 3),\n",
       " ('•d', 3),\n",
       " ('(at', 3),\n",
       " ('ñid', 3),\n",
       " (\"('reek\", 3),\n",
       " ('*cash', 3),\n",
       " ('committeeñi', 3),\n",
       " ('ñtwo', 3),\n",
       " ('ñfor', 3),\n",
       " ('book)', 3),\n",
       " ('r¥', 3),\n",
       " ('[paid]', 3),\n",
       " ('*vv', 3),\n",
       " ('¥he', 3),\n",
       " ('___', 3),\n",
       " ('ñwas', 3),\n",
       " ('(name', 3),\n",
       " ('re¥', 3),\n",
       " ('(i()', 3),\n",
       " ('missionaryñit', 3),\n",
       " ('(inventory)', 3),\n",
       " ('¥¥¥¥', 3),\n",
       " ('ñw', 3),\n",
       " ('treasurerñjso', 3),\n",
       " ('ñbecause', 3),\n",
       " ('¥to', 3),\n",
       " ('ñmary', 3),\n",
       " ('mccum¡', 3),\n",
       " ('et)', 3),\n",
       " ('¥*', 3),\n",
       " ('è', 3),\n",
       " ('pages)', 3),\n",
       " ('£', 3),\n",
       " ('iña', 3),\n",
       " ('brother¥', 3),\n",
       " ('t¥', 3),\n",
       " ('a_', 3),\n",
       " ('ñn', 3),\n",
       " ('reporter)', 3),\n",
       " ('ñsouthern', 3),\n",
       " ('ñsigns', 3),\n",
       " ('ñis', 3),\n",
       " ('(john', 3),\n",
       " ('(f)', 3),\n",
       " ('ñthey', 3),\n",
       " ('¥one', 3),\n",
       " (')ndiana', 3),\n",
       " ('maggie__', 3),\n",
       " ('number)', 3),\n",
       " ('p¥', 3),\n",
       " ('ñ-', 3),\n",
       " ('en¥', 3),\n",
       " ('¥theime', 3),\n",
       " ('(lied', 3),\n",
       " ('•wallace', 2),\n",
       " ('(this', 2),\n",
       " ('(august', 2),\n",
       " ('¥bass', 2),\n",
       " ('ñpaper', 2),\n",
       " ('(show', 2),\n",
       " ('readings)', 2),\n",
       " ('*burt-', 2),\n",
       " ('brotherñi', 2),\n",
       " ('[continued', 2),\n",
       " ('v)', 2),\n",
       " ('(eastside)', 2),\n",
       " ('n()', 2),\n",
       " ('ñthese', 2),\n",
       " ('ñwhile', 2),\n",
       " ('`no', 2),\n",
       " ('_w', 2),\n",
       " ('`lo', 2),\n",
       " ('¥--', 2),\n",
       " ('[or', 2),\n",
       " ('(now', 2),\n",
       " ('ñministry', 2),\n",
       " ('ôn', 2),\n",
       " ('twenty¥pive', 2),\n",
       " ('identñw', 2),\n",
       " ('¥it', 2),\n",
       " ('tñ', 2),\n",
       " ('beast)', 2),\n",
       " ('(nov', 2),\n",
       " ('sister¥', 2),\n",
       " (\"•merchants'\", 2),\n",
       " ('reidñarcher', 2),\n",
       " ('issue)', 2),\n",
       " ('ñii', 2),\n",
       " ('•wolever', 2),\n",
       " ('sô', 2),\n",
       " ('saleñthe', 2),\n",
       " ('`go', 2),\n",
       " ('indianapolis__', 2),\n",
       " ('/¥', 2),\n",
       " ('readñ', 2),\n",
       " ('ct*', 2),\n",
       " ('will)', 2),\n",
       " ('%vas', 2),\n",
       " ('educationalñmils', 2),\n",
       " (\"+'\", 2),\n",
       " (\"'['he\", 2),\n",
       " ('o¥', 2),\n",
       " ('foldñ', 2),\n",
       " ('(inwood)', 2),\n",
       " ('¥f', 2),\n",
       " ('ñyoung', 2),\n",
       " ('a=', 2),\n",
       " ('(f', 2),\n",
       " ('*churches', 2),\n",
       " ('(tuesday)', 2),\n",
       " ('~e', 2),\n",
       " ('(ia', 2),\n",
       " ('booksñand', 2),\n",
       " ('camp¥meetings', 2),\n",
       " ('ý', 2),\n",
       " ('ñada', 2),\n",
       " ('(by', 2),\n",
       " ('bl)', 2),\n",
       " ('indiana)', 2),\n",
       " ('(n)', 2),\n",
       " ('paper¥', 2),\n",
       " ('ini)', 2),\n",
       " ('betterñ', 2),\n",
       " ('¥they', 2),\n",
       " ('itñwho', 2),\n",
       " ('\\\\vords', 2),\n",
       " ('(hi', 2),\n",
       " ('[from', 2),\n",
       " ('¥wm', 2),\n",
       " ('ñsarah', 2),\n",
       " ('ñsome', 2),\n",
       " ('•w', 2),\n",
       " ('v%', 2),\n",
       " ('+g', 2),\n",
       " ('bi)', 2),\n",
       " ('it~~', 2),\n",
       " ('%veil', 2),\n",
       " ('wa¥y', 2),\n",
       " ('(laughter', 2),\n",
       " ('w)', 2),\n",
       " ('saleñeight', 2),\n",
       " ('con¥', 2),\n",
       " ('—', 2),\n",
       " ('is)', 2),\n",
       " ('•howe', 2),\n",
       " ('ñone', 2),\n",
       " ('us)', 2),\n",
       " ('teacher)', 2),\n",
       " ('`they', 2),\n",
       " ('president—w', 2),\n",
       " ('c(', 2),\n",
       " ('songñ', 2),\n",
       " ('g)', 2),\n",
       " ('(letter', 2),\n",
       " ('in)', 2),\n",
       " ('thursday)', 2),\n",
       " ('clair)', 2),\n",
       " ('ñg', 2),\n",
       " ('or¥', 2),\n",
       " ('(same', 2),\n",
       " ('ha¥', 2),\n",
       " ('iã', 2),\n",
       " ('presidentñnv', 2)]"
      ]
     },
     "execution_count": 12,
     "metadata": {},
     "output_type": "execute_result"
    }
   ],
   "source": [
    "reports.tokens_with_special_characters(errors_summary)[:500]"
   ]
  },
  {
   "cell_type": "markdown",
   "metadata": {},
   "source": [
    "## Correction 1 -- Normalize Characters"
   ]
  },
  {
   "cell_type": "code",
   "execution_count": 13,
   "metadata": {
    "ExecuteTime": {
     "end_time": "2017-03-02T21:29:44.136995",
     "start_time": "2017-03-02T21:29:42.134439"
    },
    "collapsed": false
   },
   "outputs": [],
   "source": [
    "# %load shared_elements/normalize_characters.py\n",
    "prev = \"baseline\"\n",
    "cycle = \"correction1\"\n",
    "\n",
    "directories = utilities.define_directories(prev, cycle, base_dir)\n",
    "if not os.path.exists(directories['cycle']):\n",
    "    os.makedirs(directories['cycle'])\n",
    "\n",
    "corpus = (f for f in listdir(directories['prev']) if not f.startswith('.') and isfile(join(directories['prev'], f)))\n",
    "\n",
    "for filename in corpus:\n",
    "    content = utilities.readfile(directories['prev'], filename)\n",
    "\n",
    "    # Substitute for all other dashes\n",
    "    content = re.sub(r\"—-—–‑\", r\"-\", content)\n",
    "\n",
    "    # Substitute formatted apostrophe\n",
    "    content = re.sub(r\"\\’\\’\\‘\\'\\‛\\´\", r\"'\", content)\n",
    "    \n",
    "    # Replace all special characters with a space (as these tend to occur at the end of lines)\n",
    "    content = re.sub(r\"[^a-zA-Z0-9\\s,.!?$:;\\-&\\'\\\"]\", r\" \", content)\n",
    "    \n",
    "    with open(join(directories['cycle'], filename), mode=\"w\") as o:\n",
    "        o.write(content)\n",
    "        o.close()"
   ]
  },
  {
   "cell_type": "code",
   "execution_count": 14,
   "metadata": {
    "ExecuteTime": {
     "end_time": "2017-03-02T21:29:46.407950",
     "start_time": "2017-03-02T21:29:44.141177"
    },
    "collapsed": false
   },
   "outputs": [
    {
     "name": "stdout",
     "output_type": "stream",
     "text": [
      "Directory: /Users/jeriwieringa/Dissertation/text/text/2017-01-31-corpus-with-utf8-split-into-titles-cleaning/IR/correction1\n",
      "\n",
      "Average verified rate: 0.9293155255922436\n",
      "\n",
      "Average of error rates: 0.07463153456998314\n",
      "\n",
      "Total token count: 1174770\n",
      "\n"
     ]
    },
    {
     "data": {
      "image/png": "[encoded data removed]",
      "text/plain": [
       "<matplotlib.figure.Figure at 0x111a6d5c0>"
      ]
     },
     "metadata": {},
     "output_type": "display_data"
    }
   ],
   "source": [
    "# %load shared_elements/summary.py\n",
    "summary = reports.overview_report(directories['cycle'], spelling_dictionary, title)"
   ]
  },
  {
   "cell_type": "code",
   "execution_count": 15,
   "metadata": {
    "ExecuteTime": {
     "end_time": "2017-03-02T21:29:46.473747",
     "start_time": "2017-03-02T21:29:46.409644"
    },
    "collapsed": false
   },
   "outputs": [
    {
     "data": {
      "text/plain": [
       "[('w', 5080),\n",
       " ('e', 2163),\n",
       " ('m', 1991),\n",
       " ('r', 1809),\n",
       " ('-', 1798),\n",
       " ('f', 1642),\n",
       " ('d', 1407),\n",
       " ('t', 1102),\n",
       " ('n', 1090),\n",
       " ('re-', 939),\n",
       " (\"'\", 897),\n",
       " ('g', 887),\n",
       " ('con-', 837),\n",
       " ('in-', 722),\n",
       " ('tion', 663),\n",
       " ('th', 574),\n",
       " ('co', 495),\n",
       " ('be-', 388),\n",
       " ('mt', 380),\n",
       " ('com-', 366),\n",
       " ('de-', 349),\n",
       " ('rd', 339),\n",
       " ('u', 334),\n",
       " ('ence', 323),\n",
       " ('wm', 291),\n",
       " ('en-', 287),\n",
       " ('meet-', 272),\n",
       " ('confer-', 268),\n",
       " ('ex-', 255),\n",
       " ('ad-', 253),\n",
       " ('ment', 249),\n",
       " ('ference', 248),\n",
       " ('tions', 246),\n",
       " ('indi-', 242),\n",
       " ('k', 217),\n",
       " ('mo', 208),\n",
       " ('mis-', 201),\n",
       " ('ac-', 197),\n",
       " ('sab-', 194),\n",
       " ('at-', 189),\n",
       " ('ber', 183),\n",
       " ('pro-', 180),\n",
       " ('pre-', 179),\n",
       " ('camp-', 172),\n",
       " ('ple', 168),\n",
       " ('ers', 165),\n",
       " ('im-', 162),\n",
       " ('peo-', 162),\n",
       " ('ap-', 158),\n",
       " ('ly', 157)]"
      ]
     },
     "execution_count": 15,
     "metadata": {},
     "output_type": "execute_result"
    }
   ],
   "source": [
    "# %load shared_elements/top_errors.py\n",
    "errors_summary = reports.get_errors_summary( summary )\n",
    "reports.top_errors( errors_summary, 10 )[:50]"
   ]
  },
  {
   "cell_type": "markdown",
   "metadata": {},
   "source": [
    "## Correction 2 -- Fix Line Endings"
   ]
  },
  {
   "cell_type": "code",
   "execution_count": 16,
   "metadata": {
    "ExecuteTime": {
     "end_time": "2017-03-02T21:29:49.214841",
     "start_time": "2017-03-02T21:29:46.475971"
    },
    "collapsed": true
   },
   "outputs": [],
   "source": [
    "# %load shared_elements/correct_line_endings.py\n",
    "prev = \"correction1\"\n",
    "cycle = \"correction2\"\n",
    "\n",
    "directories = utilities.define_directories(prev, cycle, base_dir)\n",
    "if not os.path.exists(directories['cycle']):\n",
    "    os.makedirs(directories['cycle'])\n",
    "\n",
    "corpus = (f for f in listdir(directories['prev']) if not f.startswith('.') and isfile(join(directories['prev'], f)))\n",
    "\n",
    "for filename in corpus:\n",
    "    content = utilities.readfile(directories['prev'], filename)\n",
    "\n",
    "    content = re.sub(r\"(\\w+)(\\-\\s{1,})([a-z]+)\", r\"\\1\\3\", content)\n",
    "\n",
    "    with open(join(directories['cycle'], filename), mode=\"w\") as o:\n",
    "        o.write(content)\n",
    "        o.close()"
   ]
  },
  {
   "cell_type": "code",
   "execution_count": 17,
   "metadata": {
    "ExecuteTime": {
     "end_time": "2017-03-02T21:29:50.810641",
     "start_time": "2017-03-02T21:29:49.216471"
    },
    "collapsed": false
   },
   "outputs": [
    {
     "name": "stdout",
     "output_type": "stream",
     "text": [
      "Directory: /Users/jeriwieringa/Dissertation/text/text/2017-01-31-corpus-with-utf8-split-into-titles-cleaning/IR/correction2\n",
      "\n",
      "Average verified rate: 0.9417987630580531\n",
      "\n",
      "Average of error rates: 0.06224536256323778\n",
      "\n",
      "Total token count: 1154460\n",
      "\n"
     ]
    },
    {
     "data": {
      "image/png": "[encoded data removed]",
      "text/plain": [
       "<matplotlib.figure.Figure at 0x11513fa20>"
      ]
     },
     "metadata": {},
     "output_type": "display_data"
    }
   ],
   "source": [
    "# %load shared_elements/summary.py\n",
    "summary = reports.overview_report(directories['cycle'], spelling_dictionary, title)"
   ]
  },
  {
   "cell_type": "code",
   "execution_count": 18,
   "metadata": {
    "ExecuteTime": {
     "end_time": "2017-03-02T21:29:50.866258",
     "start_time": "2017-03-02T21:29:50.812217"
    },
    "collapsed": false
   },
   "outputs": [
    {
     "data": {
      "text/plain": [
       "[('w', 5076),\n",
       " ('e', 2155),\n",
       " ('m', 1990),\n",
       " ('r', 1807),\n",
       " ('-', 1770),\n",
       " ('f', 1640),\n",
       " ('d', 1402),\n",
       " ('t', 1095),\n",
       " ('n', 1089),\n",
       " (\"'\", 897),\n",
       " ('g', 887),\n",
       " ('th', 572),\n",
       " ('co', 493),\n",
       " ('mt', 380),\n",
       " ('tion', 361),\n",
       " ('rd', 339),\n",
       " ('u', 334),\n",
       " ('wm', 291),\n",
       " ('k', 217),\n",
       " ('mo', 207),\n",
       " ('ence', 177),\n",
       " ('re-', 175),\n",
       " ('con-', 156),\n",
       " ('tions', 147),\n",
       " ('in-', 142),\n",
       " ('ference', 139),\n",
       " ('rocklane', 139),\n",
       " ('ment', 131),\n",
       " ('adiana', 121),\n",
       " ('z', 114),\n",
       " ('ber', 110),\n",
       " (\"canvassers'\", 106),\n",
       " ('pr', 105),\n",
       " ('seventh-', 97),\n",
       " ('ple', 88),\n",
       " ('geporter', 86),\n",
       " ('ers', 86),\n",
       " ('x', 83),\n",
       " ('horlacher', 81),\n",
       " ('ly', 80),\n",
       " ('q', 79),\n",
       " ('boze', 79),\n",
       " ('nd', 78),\n",
       " ('iu', 77),\n",
       " ('ren', 76),\n",
       " ('indpls', 75),\n",
       " ('al', 75),\n",
       " ('id', 73),\n",
       " ('sionary', 71),\n",
       " ('com-', 69)]"
      ]
     },
     "execution_count": 18,
     "metadata": {},
     "output_type": "execute_result"
    }
   ],
   "source": [
    "# %load shared_elements/top_errors.py\n",
    "errors_summary = reports.get_errors_summary( summary )\n",
    "reports.top_errors( errors_summary, 10 )[:50]"
   ]
  },
  {
   "cell_type": "markdown",
   "metadata": {},
   "source": [
    "## Correction 3 -- Remove Extra Dashes"
   ]
  },
  {
   "cell_type": "code",
   "execution_count": 19,
   "metadata": {
    "ExecuteTime": {
     "end_time": "2017-03-02T21:29:54.135113",
     "start_time": "2017-03-02T21:29:50.868158"
    },
    "collapsed": false
   },
   "outputs": [],
   "source": [
    "# %load shared_elements/remove_extra_dashes.py\n",
    "prev = \"correction2\"\n",
    "cycle = \"correction3\"\n",
    "\n",
    "directories = utilities.define_directories(prev, cycle, base_dir)\n",
    "if not os.path.exists(directories['cycle']):\n",
    "    os.makedirs(directories['cycle'])\n",
    "\n",
    "corpus = (f for f in listdir(directories['prev']) if not f.startswith('.') and isfile(join(directories['prev'], f)))\n",
    "\n",
    "for filename in corpus:\n",
    "    content = utilities.readfile(directories['prev'], filename)\n",
    "    \n",
    "    text = re.sub(r\"[0-9,!?$:;&]\", \" \", content)\n",
    "    tokens = utilities.tokenize_text(text)\n",
    "    \n",
    "    replacements = []\n",
    "    for token in tokens:\n",
    "        if token[0] is \"-\":\n",
    "            replacements.append((token, token[1:]))\n",
    "            \n",
    "        elif token[-1] is \"-\":\n",
    "            replacements.append((token, token[:-1]))\n",
    "        else:\n",
    "            pass\n",
    "        \n",
    "    if len(replacements) > 0:\n",
    "#         print(\"{}: {}\".format(filename, replacements))\n",
    "        \n",
    "        for replacement in replacements:\n",
    "            content = clean.replace_pair(replacement, content)\n",
    "    else:\n",
    "        pass\n",
    "\n",
    "    with open(join(directories['cycle'], filename), mode=\"w\") as o:\n",
    "        o.write(content)\n",
    "        o.close()"
   ]
  },
  {
   "cell_type": "code",
   "execution_count": 20,
   "metadata": {
    "ExecuteTime": {
     "end_time": "2017-03-02T21:29:56.135680",
     "start_time": "2017-03-02T21:29:54.139444"
    },
    "collapsed": false
   },
   "outputs": [
    {
     "name": "stdout",
     "output_type": "stream",
     "text": [
      "Directory: /Users/jeriwieringa/Dissertation/text/text/2017-01-31-corpus-with-utf8-split-into-titles-cleaning/IR/correction3\n",
      "\n",
      "Average verified rate: 0.9471213441022522\n",
      "\n",
      "Average of error rates: 0.05673187183811129\n",
      "\n",
      "Total token count: 1156043\n",
      "\n"
     ]
    },
    {
     "data": {
      "image/png": "[encoded data removed]",
      "text/plain": [
       "<matplotlib.figure.Figure at 0x11131cdd8>"
      ]
     },
     "metadata": {},
     "output_type": "display_data"
    }
   ],
   "source": [
    "# %load shared_elements/summary.py\n",
    "summary = reports.overview_report(directories['cycle'], spelling_dictionary, title)"
   ]
  },
  {
   "cell_type": "code",
   "execution_count": 21,
   "metadata": {
    "ExecuteTime": {
     "end_time": "2017-03-02T21:29:56.242683",
     "start_time": "2017-03-02T21:29:56.138026"
    },
    "collapsed": false
   },
   "outputs": [
    {
     "data": {
      "text/plain": [
       "[('w', 5094),\n",
       " ('e', 2181),\n",
       " ('m', 1998),\n",
       " ('r', 1828),\n",
       " ('f', 1647),\n",
       " ('d', 1406),\n",
       " ('t', 1126),\n",
       " ('n', 1097),\n",
       " (\"'\", 926),\n",
       " ('g', 891),\n",
       " ('co', 605),\n",
       " ('th', 577),\n",
       " ('mt', 381),\n",
       " ('tion', 363),\n",
       " ('rd', 340),\n",
       " ('u', 336),\n",
       " ('wm', 295),\n",
       " ('re', 250),\n",
       " ('k', 219),\n",
       " ('mo', 210),\n",
       " ('ence', 178),\n",
       " ('tions', 147),\n",
       " ('ference', 139),\n",
       " ('rocklane', 139),\n",
       " ('ment', 131),\n",
       " ('adiana', 121),\n",
       " ('z', 120),\n",
       " ('ber', 111),\n",
       " (\"canvassers'\", 106),\n",
       " ('pr', 105),\n",
       " ('ple', 88),\n",
       " ('x', 86),\n",
       " ('geporter', 86),\n",
       " ('ers', 86),\n",
       " ('al', 85),\n",
       " ('horlacher', 81),\n",
       " ('q', 81),\n",
       " ('ly', 81),\n",
       " ('ren', 79),\n",
       " ('boze', 79),\n",
       " ('nd', 78),\n",
       " ('iu', 77),\n",
       " ('indpls', 75),\n",
       " ('mc', 75),\n",
       " ('ex', 75),\n",
       " ('id', 73),\n",
       " ('sionary', 71),\n",
       " ('ft', 69),\n",
       " ('minnick', 67),\n",
       " ('ent', 66)]"
      ]
     },
     "execution_count": 21,
     "metadata": {},
     "output_type": "execute_result"
    }
   ],
   "source": [
    "# %load shared_elements/top_errors.py\n",
    "errors_summary = reports.get_errors_summary( summary )\n",
    "reports.top_errors( errors_summary, 10 )[:50]"
   ]
  },
  {
   "cell_type": "markdown",
   "metadata": {},
   "source": [
    "## Correction 4 -- Remove Extra Quotation Marks"
   ]
  },
  {
   "cell_type": "code",
   "execution_count": 22,
   "metadata": {
    "ExecuteTime": {
     "end_time": "2017-03-02T21:30:00.380233",
     "start_time": "2017-03-02T21:29:56.248143"
    },
    "collapsed": false
   },
   "outputs": [],
   "source": [
    "# %load shared_elements/replace_extra_quotation_marks.py\n",
    "prev = \"correction3\"\n",
    "cycle = \"correction4\"\n",
    "\n",
    "directories = utilities.define_directories(prev, cycle, base_dir)\n",
    "if not os.path.exists(directories['cycle']):\n",
    "    os.makedirs(directories['cycle'])\n",
    "\n",
    "corpus = (f for f in listdir(directories['prev']) if not f.startswith('.') and isfile(join(directories['prev'], f)))\n",
    "\n",
    "for filename in corpus:\n",
    "    content = utilities.readfile(directories['prev'], filename)\n",
    "    \n",
    "    text = re.sub(r\"[0-9,!?$:;&]\", \" \", content)\n",
    "    tokens = utilities.tokenize_text(text)\n",
    "    \n",
    "    corrections = []\n",
    "    for token in tokens:\n",
    "        token_list = list(token)\n",
    "        last_char = token_list[-1]\n",
    "\n",
    "        if last_char is \"'\":\n",
    "            if len(token) > 1:\n",
    "                if token_list[-2] is 's' or 'S':\n",
    "                    pass\n",
    "                else:\n",
    "                    corrections.append((token, re.sub(r\"'\", r\"\", token)))\n",
    "            else:\n",
    "                pass\n",
    "        elif token[0] is \"'\":\n",
    "            corrections.append((token, re.sub(r\"'\", r\"\", token)))   \n",
    "        else:\n",
    "            pass\n",
    "    \n",
    "    if len(corrections) > 0:\n",
    "#         print('{}: {}'.format(filename, corrections))\n",
    "\n",
    "        for correction in corrections:\n",
    "            content = clean.replace_pair(correction, content)\n",
    "    else:\n",
    "        pass\n",
    "\n",
    "    with open(join(directories['cycle'], filename), mode=\"w\") as o:\n",
    "        o.write(content)\n",
    "        o.close()"
   ]
  },
  {
   "cell_type": "code",
   "execution_count": 23,
   "metadata": {
    "ExecuteTime": {
     "end_time": "2017-03-02T21:30:02.735269",
     "start_time": "2017-03-02T21:30:00.381932"
    },
    "collapsed": false
   },
   "outputs": [
    {
     "name": "stdout",
     "output_type": "stream",
     "text": [
      "Directory: /Users/jeriwieringa/Dissertation/text/text/2017-01-31-corpus-with-utf8-split-into-titles-cleaning/IR/correction4\n",
      "\n",
      "Average verified rate: 0.9480189176259711\n",
      "\n",
      "Average of error rates: 0.05579258010118044\n",
      "\n",
      "Total token count: 1155959\n",
      "\n"
     ]
    },
    {
     "data": {
      "image/png": "[encoded data removed]",
      "text/plain": [
       "<matplotlib.figure.Figure at 0x1125b4dd8>"
      ]
     },
     "metadata": {},
     "output_type": "display_data"
    }
   ],
   "source": [
    "# %load shared_elements/summary.py\n",
    "summary = reports.overview_report(directories['cycle'], spelling_dictionary, title)"
   ]
  },
  {
   "cell_type": "code",
   "execution_count": 24,
   "metadata": {
    "ExecuteTime": {
     "end_time": "2017-03-02T21:30:02.807010",
     "start_time": "2017-03-02T21:30:02.737574"
    },
    "collapsed": false
   },
   "outputs": [
    {
     "data": {
      "text/plain": [
       "[('w', 5095),\n",
       " ('e', 2195),\n",
       " ('m', 1999),\n",
       " ('r', 1834),\n",
       " ('f', 1649),\n",
       " ('d', 1416),\n",
       " ('t', 1132),\n",
       " ('n', 1106),\n",
       " ('g', 892),\n",
       " (\"'\", 825),\n",
       " ('co', 605),\n",
       " ('th', 577),\n",
       " ('mt', 381),\n",
       " ('tion', 363),\n",
       " ('rd', 340),\n",
       " ('u', 336),\n",
       " ('wm', 297),\n",
       " ('re', 251),\n",
       " ('k', 220),\n",
       " ('mo', 210),\n",
       " ('ence', 178),\n",
       " ('tions', 147),\n",
       " ('ference', 139),\n",
       " ('rocklane', 139),\n",
       " ('ment', 131),\n",
       " ('z', 123),\n",
       " ('adiana', 121),\n",
       " ('ber', 111),\n",
       " ('pr', 105),\n",
       " (\"canvassers'\", 103),\n",
       " ('ple', 88),\n",
       " ('x', 87),\n",
       " ('geporter', 86),\n",
       " ('ers', 86),\n",
       " ('al', 85),\n",
       " ('q', 82),\n",
       " ('horlacher', 81),\n",
       " ('ly', 81),\n",
       " ('nd', 79),\n",
       " ('ren', 79),\n",
       " ('boze', 79),\n",
       " ('iu', 77),\n",
       " ('indpls', 75),\n",
       " ('mc', 75),\n",
       " ('ex', 75),\n",
       " ('id', 74),\n",
       " ('sionary', 71),\n",
       " ('ft', 71),\n",
       " ('minnick', 67),\n",
       " ('ent', 66)]"
      ]
     },
     "execution_count": 24,
     "metadata": {},
     "output_type": "execute_result"
    }
   ],
   "source": [
    "# %load shared_elements/top_errors.py\n",
    "errors_summary = reports.get_errors_summary( summary )\n",
    "reports.top_errors( errors_summary, 10 )[:50]"
   ]
  },
  {
   "cell_type": "markdown",
   "metadata": {},
   "source": [
    "## Correction 5 -- Rejoin Burst Words"
   ]
  },
  {
   "cell_type": "code",
   "execution_count": 25,
   "metadata": {
    "ExecuteTime": {
     "end_time": "2017-03-02T21:30:05.527649",
     "start_time": "2017-03-02T21:30:02.809389"
    },
    "collapsed": false
   },
   "outputs": [],
   "source": [
    "# %load shared_elements/rejoin_burst_words.py\n",
    "prev = \"correction4\"\n",
    "cycle = \"correction5\"\n",
    "\n",
    "directories = utilities.define_directories(prev, cycle, base_dir)\n",
    "if not os.path.exists(directories['cycle']):\n",
    "    os.makedirs(directories['cycle'])\n",
    "\n",
    "corpus = (f for f in listdir(directories['prev']) if not f.startswith('.') and isfile(join(directories['prev'], f)))\n",
    "\n",
    "for filename in corpus:\n",
    "    content = utilities.readfile(directories['prev'], filename)\n",
    "\n",
    "    pattern = re.compile(\"(\\s(\\w{1,2}\\s){5,})\")\n",
    "    \n",
    "    replacements = []\n",
    "    clean.check_splits(pattern, spelling_dictionary, content, replacements)\n",
    "    \n",
    "    if len(replacements) > 0:\n",
    "#         print('{}: {}'.format(filename, replacements))\n",
    "\n",
    "        for replacement in replacements:\n",
    "            content = clean.replace_pair(replacement, content)\n",
    "    else:\n",
    "        pass\n",
    "\n",
    "    with open(join(directories['cycle'], filename), mode=\"w\") as o:\n",
    "        o.write(content)\n",
    "        o.close()"
   ]
  },
  {
   "cell_type": "markdown",
   "metadata": {},
   "source": [
    "## Check Correction 5"
   ]
  },
  {
   "cell_type": "code",
   "execution_count": 26,
   "metadata": {
    "ExecuteTime": {
     "end_time": "2017-03-02T21:30:08.316597",
     "start_time": "2017-03-02T21:30:05.529878"
    },
    "collapsed": false
   },
   "outputs": [
    {
     "name": "stdout",
     "output_type": "stream",
     "text": [
      "Directory: /Users/jeriwieringa/Dissertation/text/text/2017-01-31-corpus-with-utf8-split-into-titles-cleaning/IR/correction5\n",
      "\n",
      "Average verified rate: 0.9480089308962817\n",
      "\n",
      "Average of error rates: 0.055806913996627315\n",
      "\n",
      "Total token count: 1155987\n",
      "\n"
     ]
    },
    {
     "data": {
      "image/png": "[encoded data removed]",
      "text/plain": [
       "<matplotlib.figure.Figure at 0x110eaf9e8>"
      ]
     },
     "metadata": {},
     "output_type": "display_data"
    }
   ],
   "source": [
    "# %load shared_elements/summary.py\n",
    "summary = reports.overview_report(directories['cycle'], spelling_dictionary, title)"
   ]
  },
  {
   "cell_type": "code",
   "execution_count": 27,
   "metadata": {
    "ExecuteTime": {
     "end_time": "2017-03-02T21:30:08.384719",
     "start_time": "2017-03-02T21:30:08.319248"
    },
    "collapsed": false
   },
   "outputs": [
    {
     "data": {
      "text/plain": [
       "[('w', 5094),\n",
       " ('e', 2194),\n",
       " ('m', 1999),\n",
       " ('r', 1834),\n",
       " ('f', 1649),\n",
       " ('d', 1416),\n",
       " ('t', 1131),\n",
       " ('n', 1105),\n",
       " ('g', 892),\n",
       " (\"'\", 825),\n",
       " ('co', 605),\n",
       " ('th', 577),\n",
       " ('mt', 381),\n",
       " ('tion', 363),\n",
       " ('rd', 340),\n",
       " ('u', 336),\n",
       " ('wm', 297),\n",
       " ('re', 251),\n",
       " ('k', 220),\n",
       " ('mo', 210),\n",
       " ('ence', 178),\n",
       " ('tions', 147),\n",
       " ('ference', 139),\n",
       " ('rocklane', 139),\n",
       " ('ment', 131),\n",
       " ('z', 123),\n",
       " ('adiana', 121),\n",
       " ('ber', 111),\n",
       " ('pr', 105),\n",
       " (\"canvassers'\", 103),\n",
       " ('ple', 88),\n",
       " ('x', 87),\n",
       " ('geporter', 86),\n",
       " ('ers', 86),\n",
       " ('al', 85),\n",
       " ('q', 82),\n",
       " ('horlacher', 81),\n",
       " ('ly', 81),\n",
       " ('nd', 79),\n",
       " ('ren', 79),\n",
       " ('boze', 79),\n",
       " ('iu', 77),\n",
       " ('indpls', 75),\n",
       " ('mc', 75),\n",
       " ('ex', 75),\n",
       " ('id', 74),\n",
       " ('sionary', 71),\n",
       " ('ft', 71),\n",
       " ('minnick', 67),\n",
       " ('ent', 66)]"
      ]
     },
     "execution_count": 27,
     "metadata": {},
     "output_type": "execute_result"
    }
   ],
   "source": [
    "# %load shared_elements/top_errors.py\n",
    "errors_summary = reports.get_errors_summary( summary )\n",
    "reports.top_errors( errors_summary, 10 )[:50]"
   ]
  },
  {
   "cell_type": "markdown",
   "metadata": {},
   "source": [
    "## Correction 6 -- Rejoin Split Words"
   ]
  },
  {
   "cell_type": "code",
   "execution_count": 28,
   "metadata": {
    "ExecuteTime": {
     "end_time": "2017-03-02T21:30:17.022490",
     "start_time": "2017-03-02T21:30:08.387280"
    },
    "collapsed": false
   },
   "outputs": [],
   "source": [
    "# %load shared_elements/rejoin_split_words.py\n",
    "prev = \"correction5\"\n",
    "cycle = \"correction6\"\n",
    "\n",
    "directories = utilities.define_directories(prev, cycle, base_dir)\n",
    "if not os.path.exists(directories['cycle']):\n",
    "    os.makedirs(directories['cycle'])\n",
    "\n",
    "corpus = (f for f in listdir(directories['prev']) if not f.startswith('.') and isfile(join(directories['prev'], f)))\n",
    "\n",
    "for filename in corpus:\n",
    "    content = utilities.readfile(directories['prev'], filename)\n",
    "    \n",
    "    text = re.sub(r\"[0-9,!?$:;&]\", \" \", content)\n",
    "    tokens = utilities.tokenize_text(text)\n",
    "    errors = reports.identify_errors(tokens, spelling_dictionary)\n",
    "\n",
    "    replacements = clean.check_if_stem(errors, spelling_dictionary, tokens, get_prior=False)\n",
    "    \n",
    "    if len(replacements) > 0:\n",
    "#         print('{}: {}'.format(filename, replacements))\n",
    "\n",
    "        for replacement in replacements:\n",
    "            content = clean.replace_split_words(replacement, content)\n",
    "    else:\n",
    "        pass\n",
    "\n",
    "    with open(join(directories['cycle'], filename), mode=\"w\") as o:\n",
    "        o.write(content)\n",
    "        o.close()"
   ]
  },
  {
   "cell_type": "code",
   "execution_count": 29,
   "metadata": {
    "ExecuteTime": {
     "end_time": "2017-03-02T21:30:18.452988",
     "start_time": "2017-03-02T21:30:17.024413"
    },
    "collapsed": false
   },
   "outputs": [
    {
     "name": "stdout",
     "output_type": "stream",
     "text": [
      "Directory: /Users/jeriwieringa/Dissertation/text/text/2017-01-31-corpus-with-utf8-split-into-titles-cleaning/IR/correction6\n",
      "\n",
      "Average verified rate: 0.9487000605025607\n",
      "\n",
      "Average of error rates: 0.05507588532883642\n",
      "\n",
      "Total token count: 1155323\n",
      "\n"
     ]
    },
    {
     "data": {
      "image/png": "[encoded data removed]",
      "text/plain": [
       "<matplotlib.figure.Figure at 0x1151a5908>"
      ]
     },
     "metadata": {},
     "output_type": "display_data"
    }
   ],
   "source": [
    "# %load shared_elements/summary.py\n",
    "summary = reports.overview_report(directories['cycle'], spelling_dictionary, title)"
   ]
  },
  {
   "cell_type": "code",
   "execution_count": 30,
   "metadata": {
    "ExecuteTime": {
     "end_time": "2017-03-02T21:30:18.509442",
     "start_time": "2017-03-02T21:30:18.454627"
    },
    "collapsed": false
   },
   "outputs": [
    {
     "data": {
      "text/plain": [
       "[('w', 5087),\n",
       " ('e', 2176),\n",
       " ('m', 1994),\n",
       " ('r', 1825),\n",
       " ('f', 1647),\n",
       " ('d', 1412),\n",
       " ('t', 1111),\n",
       " ('n', 1098),\n",
       " ('g', 886),\n",
       " (\"'\", 825),\n",
       " ('th', 555),\n",
       " ('co', 494),\n",
       " ('mt', 381),\n",
       " ('tion', 355),\n",
       " ('rd', 339),\n",
       " ('u', 335),\n",
       " ('wm', 297),\n",
       " ('k', 219),\n",
       " ('mo', 208),\n",
       " ('re', 187),\n",
       " ('ence', 178),\n",
       " ('tions', 146),\n",
       " ('ference', 139),\n",
       " ('rocklane', 139),\n",
       " ('ment', 130),\n",
       " ('z', 122),\n",
       " ('adiana', 121),\n",
       " ('ber', 108),\n",
       " ('pr', 104),\n",
       " (\"canvassers'\", 103),\n",
       " ('x', 87),\n",
       " ('ple', 87),\n",
       " ('geporter', 86),\n",
       " ('ers', 86),\n",
       " ('q', 82),\n",
       " ('horlacher', 81),\n",
       " ('ly', 80),\n",
       " ('nd', 79),\n",
       " ('al', 79),\n",
       " ('boze', 78),\n",
       " ('iu', 77),\n",
       " ('indpls', 75),\n",
       " ('ren', 75),\n",
       " ('ft', 71),\n",
       " ('sionary', 68),\n",
       " ('ex', 68),\n",
       " ('minnick', 67),\n",
       " ('ary', 66),\n",
       " ('id', 66),\n",
       " ('ent', 65)]"
      ]
     },
     "execution_count": 30,
     "metadata": {},
     "output_type": "execute_result"
    }
   ],
   "source": [
    "# %load shared_elements/top_errors.py\n",
    "errors_summary = reports.get_errors_summary( summary )\n",
    "reports.top_errors( errors_summary, 10 )[:50]"
   ]
  },
  {
   "cell_type": "markdown",
   "metadata": {},
   "source": [
    "## Correction 7 -- Rejoin Split Words II"
   ]
  },
  {
   "cell_type": "code",
   "execution_count": 31,
   "metadata": {
    "ExecuteTime": {
     "end_time": "2017-03-02T21:30:25.613429",
     "start_time": "2017-03-02T21:30:18.512136"
    },
    "collapsed": false
   },
   "outputs": [],
   "source": [
    "# %load shared_elements/rejoin_split_words.py\n",
    "prev = \"correction6\"\n",
    "cycle = \"correction7\"\n",
    "\n",
    "directories = utilities.define_directories(prev, cycle, base_dir)\n",
    "if not os.path.exists(directories['cycle']):\n",
    "    os.makedirs(directories['cycle'])\n",
    "\n",
    "corpus = (f for f in listdir(directories['prev']) if not f.startswith('.') and isfile(join(directories['prev'], f)))\n",
    "\n",
    "for filename in corpus:\n",
    "    content = utilities.readfile(directories['prev'], filename)\n",
    "    \n",
    "    text = re.sub(r\"[0-9,!?$:;&]\", \" \", content)\n",
    "    tokens = utilities.tokenize_text(text)\n",
    "    errors = reports.identify_errors(tokens, spelling_dictionary)\n",
    "\n",
    "    replacements = clean.check_if_stem(errors, spelling_dictionary, tokens, get_prior=True)\n",
    "    \n",
    "    if len(replacements) > 0:\n",
    "#         print('{}: {}'.format(filename, replacements))\n",
    "\n",
    "        for replacement in replacements:\n",
    "            content = clean.replace_split_words(replacement, content)\n",
    "    else:\n",
    "        pass\n",
    "\n",
    "    with open(join(directories['cycle'], filename), mode=\"w\") as o:\n",
    "        o.write(content)\n",
    "        o.close()"
   ]
  },
  {
   "cell_type": "code",
   "execution_count": 32,
   "metadata": {
    "ExecuteTime": {
     "end_time": "2017-03-02T21:30:27.401670",
     "start_time": "2017-03-02T21:30:25.615308"
    },
    "collapsed": false
   },
   "outputs": [
    {
     "name": "stdout",
     "output_type": "stream",
     "text": [
      "Directory: /Users/jeriwieringa/Dissertation/text/text/2017-01-31-corpus-with-utf8-split-into-titles-cleaning/IR/correction7\n",
      "\n",
      "Average verified rate: 0.9490016816153205\n",
      "\n",
      "Average of error rates: 0.05474789207419899\n",
      "\n",
      "Total token count: 1154842\n",
      "\n"
     ]
    },
    {
     "data": {
      "image/png": "[encoded data removed]",
      "text/plain": [
       "<matplotlib.figure.Figure at 0x1153706d8>"
      ]
     },
     "metadata": {},
     "output_type": "display_data"
    }
   ],
   "source": [
    "# %load shared_elements/summary.py\n",
    "summary = reports.overview_report(directories['cycle'], spelling_dictionary, title)"
   ]
  },
  {
   "cell_type": "code",
   "execution_count": 33,
   "metadata": {
    "ExecuteTime": {
     "end_time": "2017-03-02T21:30:27.460709",
     "start_time": "2017-03-02T21:30:27.403460"
    },
    "collapsed": false
   },
   "outputs": [
    {
     "data": {
      "text/plain": [
       "[('w', 5066),\n",
       " ('e', 2174),\n",
       " ('m', 1976),\n",
       " ('r', 1823),\n",
       " ('f', 1647),\n",
       " ('d', 1409),\n",
       " ('n', 1097),\n",
       " ('t', 1096),\n",
       " ('g', 885),\n",
       " (\"'\", 825),\n",
       " ('th', 551),\n",
       " ('co', 491),\n",
       " ('mt', 380),\n",
       " ('tion', 353),\n",
       " ('rd', 336),\n",
       " ('u', 332),\n",
       " ('wm', 297),\n",
       " ('k', 218),\n",
       " ('mo', 207),\n",
       " ('ence', 174),\n",
       " ('tions', 146),\n",
       " ('re', 139),\n",
       " ('rocklane', 139),\n",
       " ('ference', 137),\n",
       " ('z', 122),\n",
       " ('ment', 122),\n",
       " ('adiana', 121),\n",
       " ('ber', 106),\n",
       " (\"canvassers'\", 103),\n",
       " ('pr', 100),\n",
       " ('x', 87),\n",
       " ('ple', 87),\n",
       " ('geporter', 86),\n",
       " ('q', 82),\n",
       " ('ers', 82),\n",
       " ('horlacher', 81),\n",
       " ('boze', 78),\n",
       " ('iu', 77),\n",
       " ('al', 77),\n",
       " ('indpls', 75),\n",
       " ('ren', 75),\n",
       " ('nd', 73),\n",
       " ('ly', 73),\n",
       " ('ft', 69),\n",
       " ('sionary', 68),\n",
       " ('ex', 68),\n",
       " ('minnick', 67),\n",
       " ('id', 66),\n",
       " ('sr', 65),\n",
       " ('ent', 63)]"
      ]
     },
     "execution_count": 33,
     "metadata": {},
     "output_type": "execute_result"
    }
   ],
   "source": [
    "# %load shared_elements/top_errors.py\n",
    "errors_summary = reports.get_errors_summary( summary )\n",
    "reports.top_errors( errors_summary, 10 )[:50]"
   ]
  },
  {
   "cell_type": "markdown",
   "metadata": {},
   "source": [
    "## Review Remaining Errors"
   ]
  },
  {
   "cell_type": "code",
   "execution_count": 34,
   "metadata": {
    "ExecuteTime": {
     "end_time": "2017-03-02T21:30:27.488994",
     "start_time": "2017-03-02T21:30:27.462355"
    },
    "collapsed": false
   },
   "outputs": [
    {
     "data": {
      "text/plain": [
       "[('IR19100511-V16-10-page6.txt', 0.571),\n",
       " ('IR19100511-V16-10-page3.txt', 0.5),\n",
       " ('IR19041109-V10-23-page3.txt', 0.305),\n",
       " ('IR19040413-V10-08-page5.txt', 0.295),\n",
       " ('IR19081125-V14-25-page7.txt', 0.277),\n",
       " ('IR19040511-V10-10-page5.txt', 0.258),\n",
       " ('IR19081209-V14-26-page7.txt', 0.255),\n",
       " ('IR19040302-V10-05-page5.txt', 0.255),\n",
       " ('IR19081223-V14-27-page5.txt', 0.253),\n",
       " ('IR19081111-V14-24-page7.txt', 0.245),\n",
       " ('IR19041012-V10-21-page3.txt', 0.227),\n",
       " ('IR19080401-V14-07-page9.txt', 0.225),\n",
       " ('IR19080318-V14-06-page3.txt', 0.225),\n",
       " ('IR19040203-V10-03-page5.txt', 0.222),\n",
       " ('IR19050104-V11-01-page6.txt', 0.221),\n",
       " ('IR19081014-V14-22-page7.txt', 0.221),\n",
       " ('IR19090106-V15-01-page5.txt', 0.217),\n",
       " ('IR19070102-V13-01-page1.txt', 0.215),\n",
       " ('IR19090203-V15-03-page3.txt', 0.21),\n",
       " ('IR19040106-V10-01-page6.txt', 0.209),\n",
       " ('IR19080513-V14-10-page7.txt', 0.208),\n",
       " ('IR19030204-V09-03-page3.txt', 0.207)]"
      ]
     },
     "execution_count": 34,
     "metadata": {},
     "output_type": "execute_result"
    }
   ],
   "source": [
    "reports.docs_with_high_error_rate(summary)"
   ]
  },
  {
   "cell_type": "code",
   "execution_count": 35,
   "metadata": {
    "ExecuteTime": {
     "end_time": "2017-03-02T21:30:27.515773",
     "start_time": "2017-03-02T21:30:27.491017"
    },
    "collapsed": false
   },
   "outputs": [],
   "source": [
    "# %load shared_elements/high_error_rates.py\n",
    "doc_keys = [x[0] for x in reports.docs_with_high_error_rate(summary) if x[1] > 0.25]\n",
    "\n",
    "# utilities.open_original_docs(doc_keys, directories['cycle'])"
   ]
  },
  {
   "cell_type": "markdown",
   "metadata": {},
   "source": [
    "High error documents are charts of pledges for the local training school."
   ]
  },
  {
   "cell_type": "code",
   "execution_count": 36,
   "metadata": {
    "ExecuteTime": {
     "end_time": "2017-03-02T21:30:27.548860",
     "start_time": "2017-03-02T21:30:27.517805"
    },
    "collapsed": false
   },
   "outputs": [
    {
     "data": {
      "text/plain": [
       "(['bartdemonstrated',\n",
       "  'black-stringleave',\n",
       "  'certificateentitles',\n",
       "  'followrecunimendations',\n",
       "  'sivaranwseswavieni',\n",
       "  'carefulsuccession',\n",
       "  'corresponmembers',\n",
       "  'ontheirbacksonabitofrushmatting',\n",
       "  'childrenintelligent',\n",
       "  'logansubscriptions',\n",
       "  'threattemptation',\n",
       "  'septemencouraging',\n",
       "  'inauguratintroduced',\n",
       "  'meansperformance',\n",
       "  'finaldifficulties',\n",
       "  'harmonionsdevelopment',\n",
       "  'withdenominational',\n",
       "  'wedding-ring-rub',\n",
       "  'conunprecedented',\n",
       "  'eeeeeereeeetoteeeeet',\n",
       "  'churchmembersneglecttopay',\n",
       "  'enlightenpamphlets',\n",
       "  'cheerdevelopement',\n",
       "  'raffifitsmowiwkwiewaresie',\n",
       "  'overcomcooperation',\n",
       "  'peoplethroughont',\n",
       "  'seeeeeeeeereeeee',\n",
       "  'positiveposition',\n",
       "  'improveappearance',\n",
       "  \"whichisever'tobealoyal\",\n",
       "  'systematchildren',\n",
       "  'virteen-year-old',\n",
       "  'circumstanterrible',\n",
       "  'celebratannouncement',\n",
       "  \"etriiiiibiyikeib's\",\n",
       "  'subscripchildren',\n",
       "  'unnecesmissionary',\n",
       "  'medicarmissionary',\n",
       "  'meetorganization',\n",
       "  'canvassextensively',\n",
       "  'thesewillcertainlyhavea',\n",
       "  'self-gratification',\n",
       "  'eeieeeeeeeceeeee',\n",
       "  'helaprwfriothmmoetahnesr',\n",
       "  'reresponsibility',\n",
       "  'presentlocationorcircumstancesof',\n",
       "  'subscriberstothe',\n",
       "  'missionthree-color',\n",
       "  'indianapsibilities',\n",
       "  'recommendcontributions',\n",
       "  'toherhomecaresanddutiesas',\n",
       "  'east-indianapolis',\n",
       "  'subscripencouraged',\n",
       "  'tnisrepresentatrons',\n",
       "  'brethdiscontinued',\n",
       "  'considergreatest',\n",
       "  'testicontributed',\n",
       "  'circumfercomodation',\n",
       "  'approachingperil',\n",
       "  'undersurprisingly',\n",
       "  'financialcondition',\n",
       "  'roberetsisassisting',\n",
       "  'camp-meetbilities',\n",
       "  'aaaasaaaasetaaaav',\n",
       "  'enteradvancement',\n",
       "  'proclaimemployment',\n",
       "  'faithfulbettering',\n",
       "  'transvaaiconference',\n",
       "  'interurcompelled',\n",
       "  'encourageapprove',\n",
       "  'educationwritten',\n",
       "  'chickestablished',\n",
       "  'wednescorrespondence',\n",
       "  'philadelersetshire',\n",
       "  'showeitthatprophecyi',\n",
       "  'organizasponsibility',\n",
       "  'representligently',\n",
       "  'progsponsibility',\n",
       "  'sanitarinvesting',\n",
       "  'believrepresentation',\n",
       "  'indictioleeeeeeeecieeeeteeeeeett',\n",
       "  'self-sacrichildren',\n",
       "  'president--morris',\n",
       "  'institugatherings',\n",
       "  'prosperouslourney',\n",
       "  'recomrecommendations',\n",
       "  'commodationsareexcellent',\n",
       "  'long-to-be-remembered',\n",
       "  'acceptdistributing',\n",
       "  'instriimentalities',\n",
       "  'oursttbbathschool',\n",
       "  'entiouslyobserve',\n",
       "  'conferencouragement',\n",
       "  'southlegislation',\n",
       "  \"confersix-weeks'\",\n",
       "  'canvassearnestly',\n",
       "  'estabindifferent',\n",
       "  'sanitarpresented',\n",
       "  'encouragescriptions',\n",
       "  'donadenominational',\n",
       "  'convenbeautifully',\n",
       "  'legislaimportant',\n",
       "  'vaitievnlueorders',\n",
       "  'alertillefliellmomm',\n",
       "  'desiropportunity',\n",
       "  'churchschoolteachers',\n",
       "  'thoroughnersville',\n",
       "  'necessaryprerequisite',\n",
       "  'estedfamilyatcolumbus',\n",
       "  'thewaytoouroffice',\n",
       "  'meetconsiderably',\n",
       "  'convenperiodicals',\n",
       "  'superintendentcy',\n",
       "  'tabernalightened',\n",
       "  'camp-meetcitizens',\n",
       "  'unioncaongference',\n",
       "  \"self-supporting'\",\n",
       "  'continudianapolis',\n",
       "  'surroundstudents',\n",
       "  'semieniiminnelyip',\n",
       "  'presentaquestion',\n",
       "  'aaaaaaataaaaaaaaabat',\n",
       "  'sabbathillustrated',\n",
       "  \"giveb'exhaustive\",\n",
       "  'meetanticipatian',\n",
       "  'assumpone-fourth',\n",
       "  'inseparstimulated',\n",
       "  'expectedtoacthere',\n",
       "  'camp-meetfuneral',\n",
       "  'arrangeportunity',\n",
       "  'propcommandments',\n",
       "  'intercommandment',\n",
       "  'cansuperintendent',\n",
       "  'missionincreased',\n",
       "  'missionconducting',\n",
       "  'reportofcanvassing',\n",
       "  'unadministration',\n",
       "  'ministradetermination',\n",
       "  'accommodationscan',\n",
       "  'followsuggestions',\n",
       "  'alphabetvincingly',\n",
       "  'fellow-passengers',\n",
       "  'interestingexperiences',\n",
       "  'mechanicspartment',\n",
       "  'accomplishstrong',\n",
       "  'undoubtorganization',\n",
       "  'conferfinancially',\n",
       "  'great-grandchildren',\n",
       "  'congregationservice',\n",
       "  'andceasetolookbackin',\n",
       "  'regardconsiderably',\n",
       "  'unfortuunderstanding',\n",
       "  'continuingthrough',\n",
       "  'eeeeeeeieeeeecge',\n",
       "  'departredemption',\n",
       "  'indiommendations',\n",
       "  'whereverpresented',\n",
       "  'ccaannvvaassesresrs',\n",
       "  'thousatisfactorily',\n",
       "  'gatherinstruction',\n",
       "  'andmarthamarshall',\n",
       "  'grocerconsecration',\n",
       "  'heaven-appointed',\n",
       "  'nreiesematitectict',\n",
       "  'willnotthosewhohave',\n",
       "  'ofourbooksinthisterritorysofar',\n",
       "  'distribuoverthrowing',\n",
       "  'understandrefining',\n",
       "  'missionunderstand',\n",
       "  'forty-by-sixty-foot',\n",
       "  'one-hundred-thousand-dollar',\n",
       "  'deliveringevenings',\n",
       "  'executivecommittee',\n",
       "  'double-distilled',\n",
       "  'health-restoring',\n",
       "  'mmoimimmininniiimm',\n",
       "  'encouragewestern',\n",
       "  'washingopposition',\n",
       "  'romanconsciousness',\n",
       "  'aaaaasaaaaillaaa',\n",
       "  'canvassingworkfortwoweeks',\n",
       "  'yourrecentletterisathand',\n",
       "  'spisponsibilities',\n",
       "  'responsichildren',\n",
       "  'attemptbeautiful',\n",
       "  'periodattractions',\n",
       "  'denominationcause',\n",
       "  'testimonperishing',\n",
       "  'termofthisschoolyearhas',\n",
       "  'appreciattemperance',\n",
       "  'mahamissionaries',\n",
       "  'confidsanitarium',\n",
       "  'frequently-given',\n",
       "  \"reasonable'wages\",\n",
       "  'veeeeeeeeeeeeeeeeeeeek',\n",
       "  'thecauvassing-work',\n",
       "  'attenddetermination',\n",
       "  'capabilidaughter',\n",
       "  'church-membership',\n",
       "  'particudifferent',\n",
       "  'developprinciples',\n",
       "  'thereareprospects',\n",
       "  'fursubscriptions',\n",
       "  'peocircumstances',\n",
       "  'feeeeeeeeefieeeeettes',\n",
       "  'neighencroachments',\n",
       "  'conferencecomtnittee',\n",
       "  'largeconferences',\n",
       "  'washingneglected',\n",
       "  'rlaaaaaaaaaawaaaaa',\n",
       "  'grand-chilreceiving',\n",
       "  'carryrighteousness',\n",
       "  'theprivilegesand',\n",
       "  'easttwenty-thirdstreet',\n",
       "  'correspondnamely',\n",
       "  'furnishconference',\n",
       "  'commerassistance',\n",
       "  'interestcheerful',\n",
       "  'self-pronouneing',\n",
       "  'veeeeeeeeeeeeeeteeeteeeiseeeeeeeeeeeeeee',\n",
       "  'liegeeeeeeeeeeeeeeeeee',\n",
       "  'interremembrances',\n",
       "  'andheisverymuchinterested',\n",
       "  'miimirmimirimmimplete',\n",
       "  'duringtheweekofprayerbrother',\n",
       "  'firstcirbelievers',\n",
       "  'eoceeeeeeeeleceee',\n",
       "  'self-examination',\n",
       "  'canvasssacrifice',\n",
       "  'valuevalueofrdelrs',\n",
       "  'religio-political',\n",
       "  'individbackground',\n",
       "  'concontributions',\n",
       "  'ten-cents-a-week',\n",
       "  'ccieeeeeeeeeeeeeviirzie',\n",
       "  'knowledgeforstill',\n",
       "  'eeeeeeeeliseeecteeees',\n",
       "  'convenwithstanding',\n",
       "  'momppoimnimiparewn',\n",
       "  'iiwwwwwvaithafrws',\n",
       "  'patricksblessing',\n",
       "  'ijoineieldersimpsonat',\n",
       "  'wwwritgrjrnminkswpw',\n",
       "  'providlegislation',\n",
       "  'danish-norwegian',\n",
       "  'superintendmitted',\n",
       "  'eeeeeeieeetieeei',\n",
       "  'concernministers',\n",
       "  'reportofcanvassingworkfortwo',\n",
       "  'sulphur-bag-wearing',\n",
       "  'worpsurroundings',\n",
       "  'peoteiiresebturrg',\n",
       "  'demonstrageneral',\n",
       "  'florence-spurgeon',\n",
       "  'eeeeeeeeeeeeeeel',\n",
       "  'afterthelmeiness',\n",
       "  'sinscisytenrthia',\n",
       "  'employconference',\n",
       "  'niinsionmediately',\n",
       "  'campcongregation',\n",
       "  'portableappliance',\n",
       "  'seeeseeetiefeeeee',\n",
       "  'accomplishgiving',\n",
       "  'ummessimeeimesse',\n",
       "  'correspondcamp-meeting',\n",
       "  'atgiaoseoseaaasek',\n",
       "  'huntingprovisions',\n",
       "  'npeeeeiceeeeeeee',\n",
       "  \"hisjudgment'scome\",\n",
       "  'accomplishperish',\n",
       "  'simplestatepropose',\n",
       "  'considwillingness',\n",
       "  'unfaiththreatened',\n",
       "  'tjiiviiiimmiiiiper',\n",
       "  'opportunidownfall',\n",
       "  'imillcrynunivaivi',\n",
       "  'reportofcanvassingwork',\n",
       "  'missioninstrumentalities',\n",
       "  'trainpossibilities',\n",
       "  'unoriiiiiiimmmumssaimms',\n",
       "  'thursphotographs',\n",
       "  'largecongregation',\n",
       "  'considappraisement',\n",
       "  'superindeavoring',\n",
       "  'ecceeekieeeeticieeee',\n",
       "  'spartansdifferent',\n",
       "  'werenotannouncedpubliclyuntili',\n",
       "  'busicongregation',\n",
       "  'easttwentythirdstreet',\n",
       "  'conferpartnership',\n",
       "  'mimirilfirali-piv',\n",
       "  'canvasssentation',\n",
       "  'missioncarpenters',\n",
       "  'readingslmoonnier',\n",
       "  'hard-heartedness',\n",
       "  'martinsfurnished',\n",
       "  'encouragrevealed',\n",
       "  'publishsubscribing',\n",
       "  'localdenominational',\n",
       "  'percorrespondence',\n",
       "  'indiansideration',\n",
       "  'seventhhereafter',\n",
       "  'advancemendations',\n",
       "  'superconsideration',\n",
       "  'connnunicatoward',\n",
       "  'metieyttiltiometit',\n",
       "  'andselltheminyourcommunity',\n",
       "  'accomplishprospect',\n",
       "  'much-to-be-desired',\n",
       "  'camp-meetacknowledged',\n",
       "  'unadulteratunite',\n",
       "  'seaaaaaaaasarwposaa',\n",
       "  'adventdianapolis',\n",
       "  'keeeeeeeeeeeeeeee',\n",
       "  'discuscouragement',\n",
       "  'vilieeefeeeeeeeilieee',\n",
       "  'disinfecinterest',\n",
       "  'conferopportunity',\n",
       "  'camp-meetbaptized',\n",
       "  'ritliglitennient',\n",
       "  'self-examone-tenth',\n",
       "  'wiriniimpirrmiptown',\n",
       "  'washingcessitating',\n",
       "  'officeregulations',\n",
       "  'remarkcommandment-keepers',\n",
       "  'indianapoinstructions',\n",
       "  'administragreater',\n",
       "  'certificate-holders',\n",
       "  'riireeeeeeeeficeeeeeeeeiee',\n",
       "  'provicongregation',\n",
       "  'sanitaplications',\n",
       "  'particprogressing',\n",
       "  'indianapbeautiful',\n",
       "  'departmentalsecretaries',\n",
       "  'netweeseeeeeeeereoweee',\n",
       "  'gatherinterurban',\n",
       "  \"housandi'dollars\",\n",
       "  'self-sucricolored',\n",
       "  \"translation'etnd\",\n",
       "  \"children'sreceiving\",\n",
       "  'martinsquantities',\n",
       "  'establishprincipal',\n",
       "  'instrucfurnished',\n",
       "  'indianapolismiscellaneous',\n",
       "  'linenresurrection',\n",
       "  'buildliberations',\n",
       "  'avnedrywghloadwitlol',\n",
       "  'feeeeeeeeeieteeeeeeeeetc',\n",
       "  'imporreplenishing',\n",
       "  'commandaddresses',\n",
       "  'associacalendars',\n",
       "  'clappeirnjsejnfnie',\n",
       "  'favorablecircumstances',\n",
       "  'walfillwittlfilll',\n",
       "  'sabbathrecommendation',\n",
       "  'recotumendauring',\n",
       "  'liisiaembiameeresi',\n",
       "  'responsibilisomewhat',\n",
       "  'recommendaopened',\n",
       "  'leadorganization',\n",
       "  'regardtreasurers',\n",
       "  'ecietieeeeieeeec',\n",
       "  'satisfacreadings',\n",
       "  'sabbathinstitute',\n",
       "  'sevefiirliiifidred',\n",
       "  'morestisceptible',\n",
       "  \"iv'et'itilrltiiceksburg\",\n",
       "  'temperconferences',\n",
       "  'denominamissionaries',\n",
       "  'consecratburdens',\n",
       "  'sabbath-afternoon',\n",
       "  'eeeeeeeeeeeeeeeeeet',\n",
       "  'opportuattendance',\n",
       "  'faithfulcanvassers',\n",
       "  'financamp-meeting',\n",
       "  'theall-important',\n",
       "  'co-opbath-school',\n",
       "  'wipmptiniireiiisshm',\n",
       "  'opportunclaration',\n",
       "  'aaaaaassiwaesaaaaeoaetaan',\n",
       "  'eeeeeseeeeeeeeeeeee',\n",
       "  'tippippipsyaktnr',\n",
       "  'reveladevelopments'],\n",
       " 15)"
      ]
     },
     "execution_count": 36,
     "metadata": {},
     "output_type": "execute_result"
    }
   ],
   "source": [
    "reports.long_errors(errors_summary, min_length=15)[:100]"
   ]
  },
  {
   "cell_type": "markdown",
   "metadata": {},
   "source": [
    "## Correction 8 -- Remove long error tokens"
   ]
  },
  {
   "cell_type": "code",
   "execution_count": 37,
   "metadata": {
    "ExecuteTime": {
     "end_time": "2017-03-02T21:30:31.083897",
     "start_time": "2017-03-02T21:30:27.550561"
    },
    "collapsed": false
   },
   "outputs": [
    {
     "name": "stdout",
     "output_type": "stream",
     "text": [
      "IR19020618-V08-13-page3.txt: [('veeeeeeeeeeeeeeeeeeeek', ' ')]\n",
      "IR19020702-V08-14-page2.txt: [('eeeeeseeeEeeeeeeeee', ' ')]\n",
      "IR19040120-V10-02-page5.txt: [('EeeeeeEeeeeeE', ' ')]\n",
      "IR19060328-V12-07-page5.txt: [('feeeeeeeeefieeeeettes', ' ')]\n",
      "IR19060815-V12-17-page3.txt: [('.seeeseeetiefeeeee', ' ')]\n",
      "IR19061107-V12-23-page5.txt: [('NPeeeeiceeeeeeee', ' ')]\n",
      "IR19061205-V12-25-page5.txt: [('aaaasaaaasetaaaav', ' ')]\n",
      "IR19070410-V13-08-page5.txt: [('veeeeeeeeeeeeeeteeeteeeiseeeeeeeeeeeeEee', ' '), ('seaaaaaaaasarwposaa', ' ')]\n",
      "IR19070410-V13-08-page7.txt: [('aaaaaassiwaesaaaaeoaetaaN', ' ')]\n",
      "IR19070424-V13-09-page7.txt: [('ccieeeeeeeeeeeeeviirzie', ' ')]\n",
      "IR19070424-V13-09-page8.txt: [('eeeeeeeeeeeeeeeeeet', ' ')]\n",
      "IR19070508-V13-10-page7.txt: [('liegeeeeeeeeeeeeeeeeee', ' '), ('Netweeseeeeeeeereoweee', ' ')]\n",
      "IR19070605-V13-12-page3.txt: [('Eoceeeeeeeeleceee', ' ')]\n",
      "IR19070619-V13-13-page8.txt: [('eeeeeeeeefeeeci', ' ')]\n",
      "IR19070703-V13-14-page3.txt: [('.seeeeeeeweee', ' ')]\n",
      "IR19070918-V13-19-page3.txt: [('keeeeeeeeeeeeeeee', ' ')]\n",
      "IR19071016-V13-21-page7.txt: [('.kieeeseeeeeeee', ' '), ('eaaaaaaaaaaaaaa', ' ')]\n",
      "IR19071113-V13-23-page3.txt: [('eeeeeeeeeeeeeeel', ' ')]\n",
      "IR19071225-V13-26-page4.txt: [('Indictioleeeeeeeecieeeeteeeeeett', ' ')]\n",
      "IR19080108-V14-01-page5.txt: [('opeeefieeeeeeJ', ' ')]\n",
      "IR19080318-V14-06-page4.txt: [('Vilieeefeeeeeeeilieee', ' ')]\n",
      "IR19080722-V14-16-page5.txt: [('eeeeeeeeeeeteee', ' ')]\n",
      "IR19080805-V14-17-page5.txt: [('.seeeeeeeeereeeee', ' ')]\n",
      "IR19080916-V14-20-page6.txt: [('eeeeeereeeetoteeeeet', ' ')]\n",
      "IR19080930-V14-21-page5.txt: [('Feeeeeeeeeieteeeeeeeeetc', ' ')]\n",
      "IR19080930-V14-21-page6.txt: [('eeeeeeeeecceeee', ' ')]\n",
      "IR19081125-V14-25-page6.txt: [('eeeeeeeeeeeeeee', ' ')]\n",
      "IR19090203-V15-03-page2.txt: [('Niteegieeeeeee', ' ')]\n",
      "IR19090303-V15-05-page5.txt: [('eeeeeEieeetieeei', ' ')]\n",
      "IR19090317-V15-06-page3.txt: [('eeeeeeeeliseeecteeees', ' ')]\n",
      "IR19090414-V15-08-page5.txt: [('eteeieeeeeeek', ' ')]\n",
      "IR19090623-V15-12-page5.txt: [('..eEieeeeeeeceeeee', ' '), ('aaaaoiNgoaaaaaa', ' '), ('iaaaaaaaaaaaaaa', ' ')]\n",
      "IR19090818-V15-16-page5.txt: [('eeeeeetieceeee', ' '), ('aaaaaaataaaaaaaaabat', ' ')]\n",
      "IR19091027-V15-21-page5.txt: [('aaaaasaaaaillaaa', ' ')]\n",
      "IR19091222-V15-25-page2.txt: [('aaagoaaataaasAl', ' ')]\n",
      "IR19100105-V16-01-page5.txt: [('rlaaaaaaaaaawaaaaa', ' ')]\n",
      "IR19100105-V16-01-page6.txt: [('k.eeeeeeeeeteee', ' ')]\n",
      "IR19100119-V16-02-page5.txt: [('eeeeeeEieeeeecge', ' ')]\n",
      "IR19100216-V16-04-page3.txt: [('eeeeeeeeeeeee', ' ')]\n",
      "IR19100316-V16-06-page4.txt: [('riireeeeeeeeficeeeeeeeeiee', ' ')]\n",
      "IR19100413-V16-08-page3.txt: [('ecceeekieeeEticieeee', ' ')]\n"
     ]
    }
   ],
   "source": [
    "# %load shared_elements/remove-tokens-with-long-strings-of-characters.py\n",
    "prev = cycle\n",
    "cycle = \"correction8\"\n",
    "\n",
    "directories = utilities.define_directories(prev, cycle, base_dir)\n",
    "if not os.path.exists(directories['cycle']):\n",
    "    os.makedirs(directories['cycle'])\n",
    "\n",
    "corpus = (f for f in listdir(directories['prev']) if not f.startswith('.') and isfile(join(directories['prev'], f)))\n",
    "\n",
    "for filename in corpus:\n",
    "    content = utilities.readfile(directories['prev'], filename)\n",
    "\n",
    "    text = re.sub(r\"[0-9,!?$:;&]\", \" \", content)\n",
    "    tokens = utilities.tokenize_text(text)\n",
    "    \n",
    "    replacements = []\n",
    "    replacements.append(clean.check_for_repeating_characters(tokens, \"e|E\"))\n",
    "    replacements.append(clean.check_for_repeating_characters(tokens, \"a|A\"))\n",
    "    replacements.append(clean.check_for_repeating_characters(tokens, \"\"))\n",
    "    \n",
    "    replacements = [item for sublist in replacements for item in sublist]\n",
    "            \n",
    "    if len(replacements) > 0:\n",
    "        print('{}: {}'.format(filename, replacements))\n",
    "\n",
    "        for replacement in replacements:\n",
    "            content = clean.replace_pair(replacement, content)\n",
    "    else:\n",
    "        pass\n",
    "    \n",
    "    with open(join(directories['cycle'], filename), mode=\"w\") as o:\n",
    "        o.write(content)\n",
    "        o.close()"
   ]
  },
  {
   "cell_type": "code",
   "execution_count": 38,
   "metadata": {
    "ExecuteTime": {
     "end_time": "2017-03-02T21:30:32.697624",
     "start_time": "2017-03-02T21:30:31.085876"
    },
    "collapsed": false
   },
   "outputs": [
    {
     "name": "stdout",
     "output_type": "stream",
     "text": [
      "Directory: /Users/jeriwieringa/Dissertation/text/text/2017-01-31-corpus-with-utf8-split-into-titles-cleaning/IR/correction8\n",
      "\n",
      "Average verified rate: 0.9490411276816472\n",
      "\n",
      "Average of error rates: 0.05470489038785834\n",
      "\n",
      "Total token count: 1154794\n",
      "\n"
     ]
    },
    {
     "data": {
      "image/png": "[encoded data removed]",
      "text/plain": [
       "<matplotlib.figure.Figure at 0x111bd7da0>"
      ]
     },
     "metadata": {},
     "output_type": "display_data"
    }
   ],
   "source": [
    "# %load shared_elements/summary.py\n",
    "summary = reports.overview_report(directories['cycle'], spelling_dictionary, title)"
   ]
  },
  {
   "cell_type": "code",
   "execution_count": 39,
   "metadata": {
    "ExecuteTime": {
     "end_time": "2017-03-02T21:30:32.756616",
     "start_time": "2017-03-02T21:30:32.699284"
    },
    "collapsed": false
   },
   "outputs": [
    {
     "data": {
      "text/plain": [
       "[('w', 5066),\n",
       " ('e', 2174),\n",
       " ('m', 1976),\n",
       " ('r', 1823),\n",
       " ('f', 1647),\n",
       " ('d', 1409),\n",
       " ('n', 1097),\n",
       " ('t', 1096),\n",
       " ('g', 885),\n",
       " (\"'\", 825),\n",
       " ('th', 551),\n",
       " ('co', 491),\n",
       " ('mt', 380),\n",
       " ('tion', 353),\n",
       " ('rd', 336),\n",
       " ('u', 332),\n",
       " ('wm', 297),\n",
       " ('k', 217),\n",
       " ('mo', 207),\n",
       " ('ence', 174),\n",
       " ('tions', 146),\n",
       " ('re', 139),\n",
       " ('rocklane', 139),\n",
       " ('ference', 137),\n",
       " ('z', 122),\n",
       " ('ment', 122),\n",
       " ('adiana', 121),\n",
       " ('ber', 106),\n",
       " (\"canvassers'\", 103),\n",
       " ('pr', 100),\n",
       " ('x', 87),\n",
       " ('ple', 87),\n",
       " ('geporter', 86),\n",
       " ('q', 82),\n",
       " ('ers', 82),\n",
       " ('horlacher', 81),\n",
       " ('boze', 78),\n",
       " ('iu', 77),\n",
       " ('al', 77),\n",
       " ('indpls', 75),\n",
       " ('ren', 75),\n",
       " ('nd', 73),\n",
       " ('ly', 73),\n",
       " ('ft', 69),\n",
       " ('sionary', 68),\n",
       " ('ex', 68),\n",
       " ('minnick', 67),\n",
       " ('id', 66),\n",
       " ('sr', 65),\n",
       " ('ent', 63)]"
      ]
     },
     "execution_count": 39,
     "metadata": {},
     "output_type": "execute_result"
    }
   ],
   "source": [
    "# %load shared_elements/top_errors.py\n",
    "errors_summary = reports.get_errors_summary( summary )\n",
    "reports.top_errors( errors_summary, 10 )[:50]"
   ]
  },
  {
   "cell_type": "markdown",
   "metadata": {},
   "source": [
    "## Correction 9 -- Separate Squash Words"
   ]
  },
  {
   "cell_type": "code",
   "execution_count": 40,
   "metadata": {
    "ExecuteTime": {
     "end_time": "2017-03-02T21:30:36.692488",
     "start_time": "2017-03-02T21:30:32.763374"
    },
    "collapsed": false,
    "scrolled": true
   },
   "outputs": [
    {
     "name": "stdout",
     "output_type": "stream",
     "text": [
      "IR19011009-V07-20-page8.txt: [('estedfamilyatColumbus', 'est ed family at Columbus'), ('andheisverymuchinterested', 'and he is very much interested')]\n",
      "IR19020212-V08-04-page3.txt: [('trainpossibilities', 'train possibilities'), ('ChurchSchoolTeachers', 'Church School Teachers')]\n",
      "IR19020226-V08-05-page3.txt: [('werenotannouncedpubliclyuntilI', 'were not announced publicly until I')]\n",
      "IR19020604-V08-12-page3.txt: [('faithfulcanvassers', 'faithful canvassers')]\n",
      "IR19020702-V08-14-page3.txt: [('deliveringevenings', 'delivering evenings'), ('simplestatepropose', 'simple state propose')]\n",
      "IR19021001-V08-19-page2.txt: [('childrenintelligent', 'children intelligent')]\n",
      "IR19021029-V08-21-page3.txt: [('ontheirbacksonabitofrushmatting', 'on their back son a bit of rush mat ting'), ('REPORTOFCANVASSINGWORKFORTWO', 'REPORT OF CANVASSING WORK FOR TWO')]\n",
      "IR19021112-V08-22-page3.txt: [('CANVASSINGWORKFORTWOWEEKS', 'CANVASSING WORK FOR TWO WEEKS')]\n",
      "IR19030204-V09-03-page4.txt: [('REPORTOFCANVASSING', 'REPORT OF CANVASSING')]\n",
      "IR19030415-V09-08-page4.txt: [('REPORTOFCANVASSINGWORK', 'REPORT OF CANVASSING WORK')]\n",
      "IR19031014-V09-21-page2.txt: [('acceptdistributing', 'accept distributing')]\n",
      "IR19040302-V10-05-page6.txt: [('regardconsiderably', 'regard considerably')]\n",
      "IR19040330-V10-07-page3.txt: [('favorablecircumstances', 'favorable circumstances')]\n",
      "IR19040831-V10-18-page3.txt: [('recommendcontributions', 'recommend contributions')]\n",
      "IR19041221-V10-26-page3.txt: [('Thesewillcertainlyhavea', 'These will certainly have a')]\n",
      "IR19050201-V11-03-page4.txt: [('Logansubscriptions', 'Logan subscriptions')]\n",
      "IR19050329-V11-07-page3.txt: [('appreciattemperance', 'app rec i at temperance')]\n",
      "IR19050412-V11-08-page4.txt: [('toherhomecaresanddutiesas', 'to her home cares and duties as')]\n",
      "IR19050607-V11-12-page2.txt: [('accomplishprospect', 'accomplish prospect')]\n",
      "IR19050621-V11-13-page3.txt: [('enlightenpamphlets', 'enlighten pamphlets')]\n",
      "IR19050802-V11-16-page2.txt: [('canvassextensively', 'canvass extensively')]\n",
      "IR19050830-V11-18-page2.txt: [('Sabbathrecommendation', 'Sabbath recommendation')]\n",
      "IR19050830-V11-18-page3.txt: [('IndianapolisMiscellaneous', 'Indianapolis Miscellaneous')]\n",
      "IR19060103-V12-01-page4.txt: [('termofthisschoolyearhas', 'term of this school year has'), ('DURINGtheweekofprayerBrother', 'DURING the week of prayer Brother')]\n",
      "IR19060214-V12-04-page8.txt: [('andceasetolookbackin', 'and cease to look back in')]\n",
      "IR19060801-V12-16-page2.txt: [('attenddetermination', 'attend determination')]\n",
      "IR19061219-V12-26-page6.txt: [('establishprincipal', 'establish principal')]\n",
      "IR19070130-V13-03-page4.txt: [('Sabbathillustrated', 'Sabbath illustrated')]\n",
      "IR19070313-V13-06-page6.txt: [('superconsideration', 'sup er consideration')]\n",
      "IR19070508-V13-10-page3.txt: [('YOURrecentletterisathand', 'YOUR recent letter is at hand'), ('presentlocationorcircumstancesof', 'present location or circumstances of')]\n",
      "IR19070717-V13-15-page5.txt: [('publishsubscribing', 'publish subscribing')]\n",
      "IR19071002-V13-20-page8.txt: [('carryrighteousness', 'carry righteousness')]\n",
      "IR19071211-V13-25-page1.txt: [('financialcondition', 'financial condition')]\n",
      "IR19071211-V13-25-page6.txt: [('Conferencouragement', 'Confer encouragement')]\n",
      "IR19071211-V13-25-page7.txt: [('andselltheminyourcommunity', 'and sell them in your community')]\n",
      "IR19080108-V14-01-page3.txt: [('ofourbooksinthisterritorysofar', 'of our books in this territory so far')]\n",
      "IR19080122-V14-02-page4.txt: [('ministradetermination', 'minis trade term i nation')]\n",
      "IR19080205-V14-03-page7.txt: [('Washingcessitating', 'Washing cess it at ing')]\n",
      "IR19080304-V14-05-page4.txt: [('proclaimemployment', 'proclaim employment')]\n",
      "IR19080318-V14-06-page1.txt: [('convenwithstanding', 'con ven with standing')]\n",
      "IR19080513-V14-10-page5.txt: [('understandrefining', 'understand ref in ing')]\n",
      "IR19081028-V14-23-page6.txt: [('withdenominational', 'with denominational')]\n",
      "IR19081111-V14-24-page6.txt: [('donadenominational', 'dona denominational')]\n",
      "IR19090512-V15-10-page1.txt: [('ExecutiveCommittee', 'Executive Committee')]\n",
      "IR19090804-V15-15-page2.txt: [('missioninstrumentalities', 'mission instrumentalities')]\n",
      "IR19090818-V15-16-page4.txt: [('overcomcooperation', 'over com cooperation')]\n",
      "IR19090915-V15-18-page1.txt: [('Romanconsciousness', 'Roman consciousness')]\n",
      "IR19091124-V15-23-page8.txt: [('harmonionsdevelopment', 'harm onions development')]\n",
      "IR19091222-V15-25-page5.txt: [('thousatisfactorily', 'thou satisfactorily')]\n",
      "IR19100105-V16-01-page3.txt: [('localdenominational', 'local denominational')]\n",
      "IR19100202-V16-03-page7.txt: [('interestingexperiences', 'interesting experiences')]\n",
      "IR19100216-V16-04-page1.txt: [('DepartmentalSecretaries', 'Departmental Secretaries')]\n",
      "IR19100302-V16-05-page1.txt: [('churchmembersneglecttopay', 'church members neglect to pay'), ('Willnotthosewhohave', 'Will not those who have')]\n",
      "IR19100413-V16-08-page1.txt: [('EASTTWENTYTHIRDSTREET', 'EAST TWENTY THIRD STREET')]\n",
      "IR19100511-V16-10-page7.txt: [('followrecunimendations', 'follow rec uni mend at ions')]\n"
     ]
    }
   ],
   "source": [
    "# %load shared_elements/separate_squashed_words.py\n",
    "import pandas as pd\n",
    "from math import log\n",
    "\n",
    "prev = cycle\n",
    "cycle = \"correction9\"\n",
    "\n",
    "directories = utilities.define_directories(prev, cycle, base_dir)\n",
    "if not os.path.exists(directories['cycle']):\n",
    "    os.makedirs(directories['cycle'])\n",
    "\n",
    "corpus = (f for f in listdir(directories['prev']) if not f.startswith('.') and isfile(join(directories['prev'], f)))\n",
    "\n",
    "verified_tokens = []\n",
    "\n",
    "for filename in corpus:  \n",
    "    content = utilities.readfile(directories['prev'], filename)\n",
    "    clean.get_approved_tokens(content, spelling_dictionary, verified_tokens)\n",
    "\n",
    "tokens_with_freq = dict(collections.Counter(verified_tokens))\n",
    "words = pd.DataFrame(list(tokens_with_freq.items()), columns=['token','freq'])\n",
    "words_sorted = words.sort_values('freq', ascending=False)\n",
    "words_sorted_short = words_sorted[words_sorted.freq > 2]\n",
    "\n",
    "sorted_list_of_words = list(words_sorted_short['token'])\n",
    "\n",
    "wordcost = dict((k, log((i+1)*log(len(sorted_list_of_words)))) for i,k in enumerate(sorted_list_of_words))\n",
    "maxword = max(len(x) for x in sorted_list_of_words)\n",
    "\n",
    "corpus = (f for f in listdir(directories['prev']) if not f.startswith('.') and isfile(join(directories['prev'], f)))\n",
    "\n",
    "for filename in corpus:\n",
    "    content = utilities.readfile(directories['prev'], filename)\n",
    "\n",
    "    text = utilities.strip_punct(content)\n",
    "    tokens = utilities.tokenize_text(text)\n",
    "    \n",
    "    replacements = []\n",
    "    \n",
    "    for token in tokens:\n",
    "        if not token.lower() in spelling_dictionary:\n",
    "            if len(token) > 17:\n",
    "                if re.search(r\"[\\-\\-\\'\\\"]\", token):\n",
    "                    pass\n",
    "                else:\n",
    "                    split_string = clean.infer_spaces(token, wordcost, maxword)\n",
    "                    list_split_string = split_string.split()\n",
    "                    \n",
    "                    if clean.verify_split_string(list_split_string, spelling_dictionary):\n",
    "                        replacements.append((token, split_string))\n",
    "                    else:\n",
    "                        pass\n",
    "            else:\n",
    "                pass\n",
    "        else:\n",
    "            pass\n",
    "        \n",
    "    if len(replacements) > 0:\n",
    "        print(\"{}: {}\".format(filename, replacements))\n",
    "        \n",
    "        for replacement in replacements:\n",
    "            content = clean.replace_pair(replacement, content)\n",
    "    \n",
    "    else:\n",
    "        pass\n",
    "\n",
    "    with open(join(directories['cycle'], filename), mode=\"w\") as o:\n",
    "        o.write(content)\n",
    "        o.close()"
   ]
  },
  {
   "cell_type": "code",
   "execution_count": 41,
   "metadata": {
    "ExecuteTime": {
     "end_time": "2017-03-02T21:30:38.298441",
     "start_time": "2017-03-02T21:30:36.694863"
    },
    "collapsed": false
   },
   "outputs": [
    {
     "name": "stdout",
     "output_type": "stream",
     "text": [
      "Directory: /Users/jeriwieringa/Dissertation/text/text/2017-01-31-corpus-with-utf8-split-into-titles-cleaning/IR/correction9\n",
      "\n",
      "Average verified rate: 0.9491017808532303\n",
      "\n",
      "Average of error rates: 0.0546433389544688\n",
      "\n",
      "Total token count: 1154952\n",
      "\n"
     ]
    },
    {
     "data": {
      "image/png": "[encoded data removed]",
      "text/plain": [
       "<matplotlib.figure.Figure at 0x115725588>"
      ]
     },
     "metadata": {},
     "output_type": "display_data"
    }
   ],
   "source": [
    "# %load shared_elements/summary.py\n",
    "summary = reports.overview_report(directories['cycle'], spelling_dictionary, title)"
   ]
  },
  {
   "cell_type": "code",
   "execution_count": 42,
   "metadata": {
    "ExecuteTime": {
     "end_time": "2017-03-02T21:30:38.358924",
     "start_time": "2017-03-02T21:30:38.300497"
    },
    "collapsed": false
   },
   "outputs": [
    {
     "data": {
      "text/plain": [
       "[('w', 5066),\n",
       " ('e', 2174),\n",
       " ('m', 1976),\n",
       " ('r', 1823),\n",
       " ('f', 1647),\n",
       " ('d', 1409),\n",
       " ('n', 1097),\n",
       " ('t', 1096),\n",
       " ('g', 885),\n",
       " (\"'\", 825),\n",
       " ('th', 551),\n",
       " ('co', 491),\n",
       " ('mt', 380),\n",
       " ('tion', 353),\n",
       " ('rd', 336),\n",
       " ('u', 332),\n",
       " ('wm', 297),\n",
       " ('k', 217),\n",
       " ('mo', 207),\n",
       " ('ence', 174),\n",
       " ('tions', 146),\n",
       " ('re', 139),\n",
       " ('rocklane', 139),\n",
       " ('ference', 137),\n",
       " ('z', 122),\n",
       " ('ment', 122),\n",
       " ('adiana', 121),\n",
       " ('ber', 106),\n",
       " (\"canvassers'\", 103),\n",
       " ('pr', 100),\n",
       " ('x', 87),\n",
       " ('ple', 87),\n",
       " ('geporter', 86),\n",
       " ('q', 82),\n",
       " ('ers', 82),\n",
       " ('horlacher', 81),\n",
       " ('boze', 78),\n",
       " ('iu', 77),\n",
       " ('al', 77),\n",
       " ('indpls', 75),\n",
       " ('ren', 75),\n",
       " ('nd', 73),\n",
       " ('ly', 73),\n",
       " ('ft', 69),\n",
       " ('sionary', 68),\n",
       " ('ex', 68),\n",
       " ('minnick', 67),\n",
       " ('id', 66),\n",
       " ('sr', 65),\n",
       " ('ent', 63)]"
      ]
     },
     "execution_count": 42,
     "metadata": {},
     "output_type": "execute_result"
    }
   ],
   "source": [
    "# %load shared_elements/top_errors.py\n",
    "errors_summary = reports.get_errors_summary( summary )\n",
    "reports.top_errors( errors_summary, 10 )[:50]"
   ]
  },
  {
   "cell_type": "code",
   "execution_count": null,
   "metadata": {
    "collapsed": true
   },
   "outputs": [],
   "source": []
  }
 ],
 "metadata": {
  "anaconda-cloud": {},
  "kernelspec": {
   "display_name": "Python [conda env:dissertation2]",
   "language": "python",
   "name": "conda-env-dissertation2-py"
  },
  "language_info": {
   "codemirror_mode": {
    "name": "ipython",
    "version": 3
   },
   "file_extension": ".py",
   "mimetype": "text/x-python",
   "name": "python",
   "nbconvert_exporter": "python",
   "pygments_lexer": "ipython3",
   "version": "3.5.2"
  }
 },
 "nbformat": 4,
 "nbformat_minor": 2
}
