{
 "cells": [
  {
   "cell_type": "code",
   "execution_count": 1,
   "metadata": {
    "ExecuteTime": {
     "end_time": "2017-03-02T22:38:51.445159",
     "start_time": "2017-03-02T22:38:51.419741"
    },
    "collapsed": false
   },
   "outputs": [],
   "source": [
    "%load_ext autoreload"
   ]
  },
  {
   "cell_type": "code",
   "execution_count": 2,
   "metadata": {
    "ExecuteTime": {
     "end_time": "2017-03-02T22:38:51.450351",
     "start_time": "2017-03-02T22:38:51.447134"
    },
    "collapsed": true
   },
   "outputs": [],
   "source": [
    "%autoreload 2"
   ]
  },
  {
   "cell_type": "code",
   "execution_count": 3,
   "metadata": {
    "ExecuteTime": {
     "end_time": "2017-03-02T22:38:53.542601",
     "start_time": "2017-03-02T22:38:51.452192"
    },
    "collapsed": false
   },
   "outputs": [],
   "source": [
    "from text2topics import reports\n",
    "from text2topics import utilities\n",
    "from text2topics import clean\n",
    "import re\n",
    "import os\n",
    "from os import listdir\n",
    "from os.path import isfile, join\n",
    "import collections"
   ]
  },
  {
   "cell_type": "code",
   "execution_count": 4,
   "metadata": {
    "ExecuteTime": {
     "end_time": "2017-03-02T22:38:53.589296",
     "start_time": "2017-03-02T22:38:53.544534"
    },
    "collapsed": true
   },
   "outputs": [],
   "source": [
    "%matplotlib inline"
   ]
  },
  {
   "cell_type": "code",
   "execution_count": 5,
   "metadata": {
    "ExecuteTime": {
     "end_time": "2017-03-02T22:38:53.630185",
     "start_time": "2017-03-02T22:38:53.591131"
    },
    "collapsed": true
   },
   "outputs": [],
   "source": [
    "wordlist_dir = \"/Users/jeriwieringa/Dissertation/drafts/data/word-lists\"\n",
    "wordlists = [\"2016-12-07-SDA-last-names.txt\", \n",
    "             \"2016-12-07-SDA-place-names.txt\", \n",
    "             \"2016-12-08-SDA-Vocabulary.txt\", \n",
    "             \"2017-01-03-place-names.txt\", \n",
    "             \"2017-02-14-Base-Word-List-SCOWL&KJV.txt\",\n",
    "             \"2017-02-14-Roman-Numerals.txt\",\n",
    "             \"2017-03-01-Additional-Approved-Words.txt\"\n",
    "            ]"
   ]
  },
  {
   "cell_type": "code",
   "execution_count": 6,
   "metadata": {
    "ExecuteTime": {
     "end_time": "2017-03-02T22:38:53.806405",
     "start_time": "2017-03-02T22:38:53.632321"
    },
    "collapsed": false
   },
   "outputs": [],
   "source": [
    "spelling_dictionary = utilities.create_spelling_dictionary(wordlist_dir, wordlists)"
   ]
  },
  {
   "cell_type": "code",
   "execution_count": 7,
   "metadata": {
    "ExecuteTime": {
     "end_time": "2017-03-02T22:38:53.847263",
     "start_time": "2017-03-02T22:38:53.808255"
    },
    "collapsed": true
   },
   "outputs": [],
   "source": [
    "title = \"EDU\""
   ]
  },
  {
   "cell_type": "code",
   "execution_count": 8,
   "metadata": {
    "ExecuteTime": {
     "end_time": "2017-03-02T22:38:53.883888",
     "start_time": "2017-03-02T22:38:53.849291"
    },
    "collapsed": true
   },
   "outputs": [],
   "source": [
    "base_dir = \"/Users/jeriwieringa/Dissertation/text/text/2017-01-31-corpus-with-utf8-split-into-titles-cleaning/{}/\".format(title)"
   ]
  },
  {
   "cell_type": "markdown",
   "metadata": {},
   "source": [
    "## Baseline"
   ]
  },
  {
   "cell_type": "code",
   "execution_count": 9,
   "metadata": {
    "ExecuteTime": {
     "end_time": "2017-03-02T22:38:53.926402",
     "start_time": "2017-03-02T22:38:53.885910"
    },
    "collapsed": true
   },
   "outputs": [],
   "source": [
    "cycle = 'baseline'"
   ]
  },
  {
   "cell_type": "code",
   "execution_count": 10,
   "metadata": {
    "ExecuteTime": {
     "end_time": "2017-03-02T22:38:54.974625",
     "start_time": "2017-03-02T22:38:53.928335"
    },
    "collapsed": false
   },
   "outputs": [
    {
     "name": "stdout",
     "output_type": "stream",
     "text": [
      "Directory: /Users/jeriwieringa/Dissertation/text/text/2017-01-31-corpus-with-utf8-split-into-titles-cleaning/EDU/baseline\n",
      "\n",
      "Average verified rate: 0.9442889161902515\n",
      "\n",
      "Average of error rates: 0.06808438818565402\n",
      "\n",
      "Total token count: 347561\n",
      "\n"
     ]
    },
    {
     "data": {
      "image/png": "[encoded data removed]",
      "text/plain": [
       "<matplotlib.figure.Figure at 0x1106944e0>"
      ]
     },
     "metadata": {},
     "output_type": "display_data"
    }
   ],
   "source": [
    "stats = reports.overview_report(join(base_dir, cycle), spelling_dictionary, title)"
   ]
  },
  {
   "cell_type": "code",
   "execution_count": 11,
   "metadata": {
    "ExecuteTime": {
     "end_time": "2017-03-02T22:38:55.031053",
     "start_time": "2017-03-02T22:38:54.976603"
    },
    "collapsed": false
   },
   "outputs": [
    {
     "data": {
      "text/plain": [
       "[('ñ', 1190),\n",
       " ('-', 509),\n",
       " ('¥', 449),\n",
       " (')', 292),\n",
       " ('tion', 271),\n",
       " (\"'\", 232),\n",
       " ('e', 223),\n",
       " ('m', 187),\n",
       " ('w', 187),\n",
       " ('con-', 159),\n",
       " ('*', 148),\n",
       " ('t', 145),\n",
       " ('in-', 140),\n",
       " ('d', 132),\n",
       " ('(', 120),\n",
       " ('g', 119),\n",
       " ('ment', 116),\n",
       " ('re-', 105),\n",
       " ('f', 98),\n",
       " ('be-', 97),\n",
       " ('educa-', 96),\n",
       " ('com-', 89),\n",
       " ('r', 88),\n",
       " ('n', 86),\n",
       " ('u', 81),\n",
       " ('tions', 81),\n",
       " ('edu-', 80),\n",
       " ('ex-', 77),\n",
       " ('co', 71),\n",
       " ('de-', 68),\n",
       " (']', 61),\n",
       " ('sub-', 59),\n",
       " ('pro-', 56),\n",
       " ('tional', 50),\n",
       " ('<', 48),\n",
       " ('/', 42),\n",
       " ('im-', 42),\n",
       " ('per-', 41),\n",
       " ('--', 41),\n",
       " ('dis-', 40),\n",
       " ('<<', 39),\n",
       " ('ments', 38),\n",
       " ('_', 36),\n",
       " ('ñthe', 35),\n",
       " ('un-', 35),\n",
       " ('pre-', 34),\n",
       " ('inter-', 33),\n",
       " ('x', 31),\n",
       " ('chil-', 31),\n",
       " ('ac-', 29),\n",
       " ('dren', 29),\n",
       " ('stu-', 26),\n",
       " ('ent', 26),\n",
       " ('ical', 26),\n",
       " ('cator', 26),\n",
       " ('ô', 26),\n",
       " ('en-', 25),\n",
       " ('ence', 25),\n",
       " ('(fig', 25),\n",
       " ('an-', 25),\n",
       " ('some-', 25),\n",
       " ('ques-', 25),\n",
       " ('k', 25),\n",
       " ('knowl-', 24),\n",
       " ('ture', 24),\n",
       " ('ber', 23),\n",
       " ('pos-', 23),\n",
       " ('train-', 23),\n",
       " ('num-', 22),\n",
       " ('¥¥', 22),\n",
       " ('ad-', 22),\n",
       " ('ob-', 21)]"
      ]
     },
     "execution_count": 11,
     "metadata": {},
     "output_type": "execute_result"
    }
   ],
   "source": [
    "errors_summary = reports.get_errors_summary( stats )\n",
    "reports.top_errors( errors_summary, 20 )"
   ]
  },
  {
   "cell_type": "markdown",
   "metadata": {
    "collapsed": true
   },
   "source": [
    "## Check for special character use"
   ]
  },
  {
   "cell_type": "code",
   "execution_count": 12,
   "metadata": {
    "ExecuteTime": {
     "end_time": "2017-03-02T22:38:55.087819",
     "start_time": "2017-03-02T22:38:55.033328"
    },
    "collapsed": false
   },
   "outputs": [
    {
     "data": {
      "text/plain": [
       "[('ñ', 1190),\n",
       " ('¥', 449),\n",
       " (')', 292),\n",
       " ('*', 148),\n",
       " ('(', 120),\n",
       " (']', 61),\n",
       " ('<', 48),\n",
       " ('/', 42),\n",
       " ('<<', 39),\n",
       " ('_', 36),\n",
       " ('ñthe', 35),\n",
       " ('ô', 26),\n",
       " ('(fig', 25),\n",
       " ('¥¥', 22),\n",
       " ('ã', 20),\n",
       " ('ñno', 19),\n",
       " ('+', 19),\n",
       " ('(see', 18),\n",
       " ('¡', 16),\n",
       " ('=', 16),\n",
       " ('(to', 13),\n",
       " ('(the', 13),\n",
       " ('[this', 13),\n",
       " ('\\\\', 12),\n",
       " ('address)', 12),\n",
       " ('**', 11),\n",
       " ('ñand', 10),\n",
       " ('(with', 10),\n",
       " ('[the', 10),\n",
       " ('the¥', 9),\n",
       " ('ñed', 8),\n",
       " ('months)', 8),\n",
       " ('ña', 8),\n",
       " ('~~', 8),\n",
       " ('[', 8),\n",
       " ('¥¥¥', 7),\n",
       " ('(a', 7),\n",
       " ('(continued', 7),\n",
       " ('(from', 7),\n",
       " ('ñi', 7),\n",
       " ('-*', 7),\n",
       " ('¥the', 7),\n",
       " ('#', 7),\n",
       " ('[from', 6),\n",
       " ('to¥', 6),\n",
       " ('¥-', 6),\n",
       " ('ñthat', 6),\n",
       " (\"¥'\", 5),\n",
       " ('%', 5),\n",
       " ('ñit', 5),\n",
       " ('(after', 5),\n",
       " ('(concluded', 5),\n",
       " ('•', 5),\n",
       " ('ñin', 5),\n",
       " ('ñthis', 5),\n",
       " ('¥¥¥¥¥', 5),\n",
       " (\"'¥\", 5),\n",
       " ('ñif', 5),\n",
       " ('(cal', 5),\n",
       " ('ñen', 5),\n",
       " ('¥¥¥¥¥¥¥¥', 4),\n",
       " ('(we', 4),\n",
       " ('[we', 4),\n",
       " ('(in', 4),\n",
       " ('(i', 4),\n",
       " ('(not', 4),\n",
       " ('`', 4),\n",
       " ('(which', 4),\n",
       " ('±', 3),\n",
       " ('a¥', 3),\n",
       " ('and¥', 3),\n",
       " ('//', 3),\n",
       " ('chapters)', 3),\n",
       " (\"'ñ\", 3),\n",
       " ('(as', 3),\n",
       " ('(or', 3),\n",
       " ('(two', 3),\n",
       " ('(page', 3),\n",
       " ('ñwhich', 3),\n",
       " ('(it', 3),\n",
       " ('(and', 3),\n",
       " ('ñto', 3),\n",
       " ('(editorial)', 3),\n",
       " ('(new', 3),\n",
       " ('thingñ', 3),\n",
       " ('(tex', 3),\n",
       " ('[in', 3),\n",
       " ('ñprogressive', 3),\n",
       " ('postage)', 3),\n",
       " ('>', 3),\n",
       " ('(mass', 3),\n",
       " ('ñof', 3),\n",
       " ('i¥', 3),\n",
       " ('(col', 3),\n",
       " ('~', 3),\n",
       " ('yearlysubscription(', 3),\n",
       " ('ñnot', 3),\n",
       " ('¥of', 3),\n",
       " ('\\ufeff', 2),\n",
       " ('th(', 2)]"
      ]
     },
     "execution_count": 12,
     "metadata": {},
     "output_type": "execute_result"
    }
   ],
   "source": [
    "reports.tokens_with_special_characters(errors_summary)[:100]"
   ]
  },
  {
   "cell_type": "markdown",
   "metadata": {},
   "source": [
    "## Correction 1 -- Normalize Characters"
   ]
  },
  {
   "cell_type": "code",
   "execution_count": 13,
   "metadata": {
    "ExecuteTime": {
     "end_time": "2017-03-02T22:38:55.765597",
     "start_time": "2017-03-02T22:38:55.089996"
    },
    "collapsed": false
   },
   "outputs": [],
   "source": [
    "# %load shared_elements/normalize_characters.py\n",
    "prev = \"baseline\"\n",
    "cycle = \"correction1\"\n",
    "\n",
    "directories = utilities.define_directories(prev, cycle, base_dir)\n",
    "if not os.path.exists(directories['cycle']):\n",
    "    os.makedirs(directories['cycle'])\n",
    "\n",
    "corpus = (f for f in listdir(directories['prev']) if not f.startswith('.') and isfile(join(directories['prev'], f)))\n",
    "\n",
    "for filename in corpus:\n",
    "    content = utilities.readfile(directories['prev'], filename)\n",
    "\n",
    "    # Substitute for all other dashes\n",
    "    content = re.sub(r\"—-—–‑\", r\"-\", content)\n",
    "\n",
    "    # Substitute formatted apostrophe\n",
    "    content = re.sub(r\"’\", r\"'\", content)\n",
    "    \n",
    "    # Replace all special characters with a space (as these tend to occur at the end of lines)\n",
    "    content = re.sub(r\"[^a-zA-Z0-9\\s,.!?$:;\\-&\\'\\\"]\", r\" \", content)\n",
    "    \n",
    "    with open(join(directories['cycle'], filename), mode=\"w\") as o:\n",
    "        o.write(content)\n",
    "        o.close()"
   ]
  },
  {
   "cell_type": "markdown",
   "metadata": {},
   "source": [
    "## Check Correction 1"
   ]
  },
  {
   "cell_type": "code",
   "execution_count": 14,
   "metadata": {
    "ExecuteTime": {
     "end_time": "2017-03-02T22:38:56.406592",
     "start_time": "2017-03-02T22:38:55.767245"
    },
    "collapsed": false
   },
   "outputs": [
    {
     "name": "stdout",
     "output_type": "stream",
     "text": [
      "Directory: /Users/jeriwieringa/Dissertation/text/text/2017-01-31-corpus-with-utf8-split-into-titles-cleaning/EDU/correction1\n",
      "\n",
      "Average verified rate: 0.9554578673907311\n",
      "\n",
      "Average of error rates: 0.05515611814345992\n",
      "\n",
      "Total token count: 345089\n",
      "\n"
     ]
    },
    {
     "data": {
      "image/png": "[encoded data removed]",
      "text/plain": [
       "<matplotlib.figure.Figure at 0x104506908>"
      ]
     },
     "metadata": {},
     "output_type": "display_data"
    }
   ],
   "source": [
    "# %load shared_elements/summary.py\n",
    "summary = reports.overview_report(directories['cycle'], spelling_dictionary, title)"
   ]
  },
  {
   "cell_type": "code",
   "execution_count": 15,
   "metadata": {
    "ExecuteTime": {
     "end_time": "2017-03-02T22:38:56.458772",
     "start_time": "2017-03-02T22:38:56.408502"
    },
    "collapsed": false
   },
   "outputs": [
    {
     "data": {
      "text/plain": [
       "[('-', 583),\n",
       " ('tion', 272),\n",
       " (\"'\", 267),\n",
       " ('e', 232),\n",
       " ('w', 193),\n",
       " ('m', 191),\n",
       " ('con-', 159),\n",
       " ('t', 156),\n",
       " ('in-', 141),\n",
       " ('d', 133),\n",
       " ('g', 120),\n",
       " ('ment', 116),\n",
       " ('re-', 105),\n",
       " ('f', 103),\n",
       " ('be-', 97),\n",
       " ('educa-', 96),\n",
       " ('r', 96),\n",
       " ('com-', 90),\n",
       " ('n', 88),\n",
       " ('u', 81),\n",
       " ('tions', 81),\n",
       " ('edu-', 80),\n",
       " ('ex-', 77),\n",
       " ('co', 72),\n",
       " ('de-', 68),\n",
       " ('sub-', 59),\n",
       " ('pro-', 56),\n",
       " ('--', 53),\n",
       " ('tional', 50),\n",
       " ('im-', 42),\n",
       " ('per-', 41),\n",
       " ('dis-', 40),\n",
       " ('ments', 38),\n",
       " ('un-', 35),\n",
       " ('pre-', 35),\n",
       " ('inter-', 33),\n",
       " ('x', 32),\n",
       " ('chil-', 31),\n",
       " ('ac-', 29),\n",
       " ('dren', 29),\n",
       " ('k', 27),\n",
       " ('ical', 26),\n",
       " ('stu-', 26),\n",
       " ('ent', 26),\n",
       " ('cator', 26),\n",
       " ('ques-', 26),\n",
       " ('an-', 25),\n",
       " ('some-', 25),\n",
       " ('en-', 25),\n",
       " ('ence', 25)]"
      ]
     },
     "execution_count": 15,
     "metadata": {},
     "output_type": "execute_result"
    }
   ],
   "source": [
    "# %load shared_elements/top_errors.py\n",
    "errors_summary = reports.get_errors_summary( summary )\n",
    "reports.top_errors( errors_summary, 10 )[:50]"
   ]
  },
  {
   "cell_type": "markdown",
   "metadata": {},
   "source": [
    "## Correction 2 -- Fix line endings"
   ]
  },
  {
   "cell_type": "code",
   "execution_count": 16,
   "metadata": {
    "ExecuteTime": {
     "end_time": "2017-03-02T22:38:57.390476",
     "start_time": "2017-03-02T22:38:56.462722"
    },
    "collapsed": true
   },
   "outputs": [],
   "source": [
    "# %load shared_elements/correct_line_endings.py\n",
    "prev = \"correction1\"\n",
    "cycle = \"correction2\"\n",
    "\n",
    "directories = utilities.define_directories(prev, cycle, base_dir)\n",
    "if not os.path.exists(directories['cycle']):\n",
    "    os.makedirs(directories['cycle'])\n",
    "\n",
    "corpus = (f for f in listdir(directories['prev']) if not f.startswith('.') and isfile(join(directories['prev'], f)))\n",
    "\n",
    "for filename in corpus:\n",
    "    content = utilities.readfile(directories['prev'], filename)\n",
    "\n",
    "    content = re.sub(r\"(\\w+)(\\-\\s{1,})([a-z]+)\", r\"\\1\\3\", content)\n",
    "\n",
    "    with open(join(directories['cycle'], filename), mode=\"w\") as o:\n",
    "        o.write(content)\n",
    "        o.close()"
   ]
  },
  {
   "cell_type": "markdown",
   "metadata": {},
   "source": [
    "## Check Correction 2"
   ]
  },
  {
   "cell_type": "code",
   "execution_count": 17,
   "metadata": {
    "ExecuteTime": {
     "end_time": "2017-03-02T22:38:58.112172",
     "start_time": "2017-03-02T22:38:57.392244"
    },
    "collapsed": false
   },
   "outputs": [
    {
     "name": "stdout",
     "output_type": "stream",
     "text": [
      "Directory: /Users/jeriwieringa/Dissertation/text/text/2017-01-31-corpus-with-utf8-split-into-titles-cleaning/EDU/correction2\n",
      "\n",
      "Average verified rate: 0.9780048681852029\n",
      "\n",
      "Average of error rates: 0.03328691983122364\n",
      "\n",
      "Total token count: 339757\n",
      "\n"
     ]
    },
    {
     "data": {
      "image/png": "[encoded data removed]",
      "text/plain": [
       "<matplotlib.figure.Figure at 0x1107c24e0>"
      ]
     },
     "metadata": {},
     "output_type": "display_data"
    }
   ],
   "source": [
    "# %load shared_elements/summary.py\n",
    "summary = reports.overview_report(directories['cycle'], spelling_dictionary, title)"
   ]
  },
  {
   "cell_type": "code",
   "execution_count": 18,
   "metadata": {
    "ExecuteTime": {
     "end_time": "2017-03-02T22:38:58.169707",
     "start_time": "2017-03-02T22:38:58.114021"
    },
    "collapsed": false
   },
   "outputs": [
    {
     "data": {
      "text/plain": [
       "[('-', 576),\n",
       " (\"'\", 267),\n",
       " ('e', 231),\n",
       " ('w', 193),\n",
       " ('m', 191),\n",
       " ('t', 156),\n",
       " ('d', 133),\n",
       " ('g', 120),\n",
       " ('f', 103),\n",
       " ('r', 96),\n",
       " ('n', 88),\n",
       " ('u', 81),\n",
       " ('co', 72),\n",
       " ('--', 53),\n",
       " ('x', 32),\n",
       " ('k', 27),\n",
       " ('cator', 23),\n",
       " ('th', 22),\n",
       " ('edu-', 17),\n",
       " ('ga', 15),\n",
       " ('z', 15),\n",
       " (\"''\", 13),\n",
       " ('il', 13),\n",
       " ('money-order', 13),\n",
       " (\"'the\", 12),\n",
       " ('ex', 12),\n",
       " ('al', 12),\n",
       " ('mt', 12),\n",
       " ('educa-', 12),\n",
       " ('mm', 11),\n",
       " ('tion', 11),\n",
       " ('ti', 11),\n",
       " ('postage-stamps', 11)]"
      ]
     },
     "execution_count": 18,
     "metadata": {},
     "output_type": "execute_result"
    }
   ],
   "source": [
    "# %load shared_elements/top_errors.py\n",
    "errors_summary = reports.get_errors_summary( summary )\n",
    "reports.top_errors( errors_summary, 10 )[:50]"
   ]
  },
  {
   "cell_type": "markdown",
   "metadata": {},
   "source": [
    "## Correction 3 -- Remove extra dashes"
   ]
  },
  {
   "cell_type": "code",
   "execution_count": 19,
   "metadata": {
    "ExecuteTime": {
     "end_time": "2017-03-02T22:38:59.240791",
     "start_time": "2017-03-02T22:38:58.171831"
    },
    "collapsed": false
   },
   "outputs": [],
   "source": [
    "# %load shared_elements/remove_extra_dashes.py\n",
    "prev = \"correction2\"\n",
    "cycle = \"correction3\"\n",
    "\n",
    "directories = utilities.define_directories(prev, cycle, base_dir)\n",
    "if not os.path.exists(directories['cycle']):\n",
    "    os.makedirs(directories['cycle'])\n",
    "\n",
    "corpus = (f for f in listdir(directories['prev']) if not f.startswith('.') and isfile(join(directories['prev'], f)))\n",
    "\n",
    "for filename in corpus:\n",
    "    content = utilities.readfile(directories['prev'], filename)\n",
    "    \n",
    "    text = re.sub(r\"[0-9,!?$:;&]\", \" \", content)\n",
    "    tokens = utilities.tokenize_text(text)\n",
    "    \n",
    "    replacements = []\n",
    "    for token in tokens:\n",
    "        if token[0] is \"-\":\n",
    "            replacements.append((token, token[1:]))\n",
    "            \n",
    "        elif token[-1] is \"-\":\n",
    "            replacements.append((token, token[:-1]))\n",
    "        else:\n",
    "            pass\n",
    "        \n",
    "    if len(replacements) > 0:\n",
    "#         print(\"{}: {}\".format(filename, replacements))\n",
    "        \n",
    "        for replacement in replacements:\n",
    "            content = clean.replace_pair(replacement, content)\n",
    "    else:\n",
    "        pass\n",
    "\n",
    "    with open(join(directories['cycle'], filename), mode=\"w\") as o:\n",
    "        o.write(content)\n",
    "        o.close()"
   ]
  },
  {
   "cell_type": "markdown",
   "metadata": {},
   "source": [
    "## Check Correction 3"
   ]
  },
  {
   "cell_type": "code",
   "execution_count": 20,
   "metadata": {
    "ExecuteTime": {
     "end_time": "2017-03-02T22:38:59.893511",
     "start_time": "2017-03-02T22:38:59.242422"
    },
    "collapsed": false
   },
   "outputs": [
    {
     "name": "stdout",
     "output_type": "stream",
     "text": [
      "Directory: /Users/jeriwieringa/Dissertation/text/text/2017-01-31-corpus-with-utf8-split-into-titles-cleaning/EDU/correction3\n",
      "\n",
      "Average verified rate: 0.9816653529875417\n",
      "\n",
      "Average of error rates: 0.02906540084388186\n",
      "\n",
      "Total token count: 340012\n",
      "\n"
     ]
    },
    {
     "data": {
      "image/png": "[encoded data removed]",
      "text/plain": [
       "<matplotlib.figure.Figure at 0x110334b70>"
      ]
     },
     "metadata": {},
     "output_type": "display_data"
    }
   ],
   "source": [
    "# %load shared_elements/summary.py\n",
    "summary = reports.overview_report(directories['cycle'], spelling_dictionary, title)"
   ]
  },
  {
   "cell_type": "code",
   "execution_count": 21,
   "metadata": {
    "ExecuteTime": {
     "end_time": "2017-03-02T22:38:59.946931",
     "start_time": "2017-03-02T22:38:59.895819"
    },
    "collapsed": false
   },
   "outputs": [
    {
     "data": {
      "text/plain": [
       "[(\"'\", 282),\n",
       " ('e', 236),\n",
       " ('w', 193),\n",
       " ('m', 192),\n",
       " ('t', 164),\n",
       " ('d', 133),\n",
       " ('g', 122),\n",
       " ('co', 121),\n",
       " ('f', 106),\n",
       " ('r', 104),\n",
       " ('n', 90),\n",
       " ('u', 81),\n",
       " ('x', 37),\n",
       " ('ex', 29),\n",
       " ('k', 27),\n",
       " ('th', 24),\n",
       " ('cator', 23),\n",
       " ('-', 18),\n",
       " ('edu', 16),\n",
       " ('ga', 15),\n",
       " ('z', 15),\n",
       " ('re', 14),\n",
       " (\"''\", 14),\n",
       " ('educa', 13),\n",
       " ('ti', 13),\n",
       " ('il', 13),\n",
       " (\"'the\", 12),\n",
       " ('al', 12),\n",
       " ('mt', 12),\n",
       " ('mm', 11),\n",
       " ('tion', 11),\n",
       " ('mc', 11)]"
      ]
     },
     "execution_count": 21,
     "metadata": {},
     "output_type": "execute_result"
    }
   ],
   "source": [
    "# %load shared_elements/top_errors.py\n",
    "errors_summary = reports.get_errors_summary( summary )\n",
    "reports.top_errors( errors_summary, 10 )[:50]"
   ]
  },
  {
   "cell_type": "markdown",
   "metadata": {},
   "source": [
    "## Correction 4 -- Remove extra quotation marks"
   ]
  },
  {
   "cell_type": "code",
   "execution_count": 22,
   "metadata": {
    "ExecuteTime": {
     "end_time": "2017-03-02T22:39:01.107860",
     "start_time": "2017-03-02T22:38:59.948743"
    },
    "collapsed": false
   },
   "outputs": [],
   "source": [
    "# %load shared_elements/replace_extra_quotation_marks.py\n",
    "prev = \"correction3\"\n",
    "cycle = \"correction4\"\n",
    "\n",
    "directories = utilities.define_directories(prev, cycle, base_dir)\n",
    "if not os.path.exists(directories['cycle']):\n",
    "    os.makedirs(directories['cycle'])\n",
    "\n",
    "corpus = (f for f in listdir(directories['prev']) if not f.startswith('.') and isfile(join(directories['prev'], f)))\n",
    "\n",
    "for filename in corpus:\n",
    "    content = utilities.readfile(directories['prev'], filename)\n",
    "    \n",
    "    text = re.sub(r\"[0-9,!?$:;&]\", \" \", content)\n",
    "    tokens = utilities.tokenize_text(text)\n",
    "    \n",
    "    corrections = []\n",
    "    for token in tokens:\n",
    "        token_list = list(token)\n",
    "        last_char = token_list[-1]\n",
    "\n",
    "        if last_char is \"'\":\n",
    "            if len(token) > 3:\n",
    "                if token_list[-2] is 's' or 'S':\n",
    "                    pass\n",
    "                else:\n",
    "                    corrections.append((token, re.sub(r\"'\", r\"\", token)))\n",
    "            else:\n",
    "                pass\n",
    "        elif token[0] is \"'\":\n",
    "            corrections.append((token, re.sub(r\"'\", r\"\", token)))   \n",
    "        else:\n",
    "            pass\n",
    "    \n",
    "    if len(corrections) > 0:\n",
    "#         print('{}: {}'.format(filename, corrections))\n",
    "\n",
    "        for correction in corrections:\n",
    "            content = clean.replace_pair(correction, content)\n",
    "    else:\n",
    "        pass\n",
    "\n",
    "    with open(join(directories['cycle'], filename), mode=\"w\") as o:\n",
    "        o.write(content)\n",
    "        o.close()"
   ]
  },
  {
   "cell_type": "markdown",
   "metadata": {},
   "source": [
    "## Check Correction 4"
   ]
  },
  {
   "cell_type": "code",
   "execution_count": 23,
   "metadata": {
    "ExecuteTime": {
     "end_time": "2017-03-02T22:39:01.763985",
     "start_time": "2017-03-02T22:39:01.109722"
    },
    "collapsed": false
   },
   "outputs": [
    {
     "name": "stdout",
     "output_type": "stream",
     "text": [
      "Directory: /Users/jeriwieringa/Dissertation/text/text/2017-01-31-corpus-with-utf8-split-into-titles-cleaning/EDU/correction4\n",
      "\n",
      "Average verified rate: 0.9823477856794132\n",
      "\n",
      "Average of error rates: 0.02837130801687764\n",
      "\n",
      "Total token count: 340014\n",
      "\n"
     ]
    },
    {
     "data": {
      "image/png": "[encoded data removed]",
      "text/plain": [
       "<matplotlib.figure.Figure at 0x10328abe0>"
      ]
     },
     "metadata": {},
     "output_type": "display_data"
    }
   ],
   "source": [
    "# %load shared_elements/summary.py\n",
    "summary = reports.overview_report(directories['cycle'], spelling_dictionary, title)"
   ]
  },
  {
   "cell_type": "code",
   "execution_count": 27,
   "metadata": {
    "ExecuteTime": {
     "end_time": "2017-03-02T22:40:02.274781",
     "start_time": "2017-03-02T22:40:02.229645"
    },
    "collapsed": false
   },
   "outputs": [
    {
     "data": {
      "text/plain": [
       "[(\"'\", 263),\n",
       " ('e', 236),\n",
       " ('m', 193),\n",
       " ('w', 193),\n",
       " ('t', 170),\n",
       " ('d', 134),\n",
       " ('g', 122),\n",
       " ('co', 121),\n",
       " ('f', 106),\n",
       " ('r', 106),\n",
       " ('n', 91),\n",
       " ('u', 81),\n",
       " ('x', 37),\n",
       " ('ex', 29),\n",
       " ('k', 27),\n",
       " ('th', 24),\n",
       " ('cator', 23),\n",
       " ('-', 18),\n",
       " ('edu', 16),\n",
       " ('ga', 15),\n",
       " ('z', 15),\n",
       " ('re', 14),\n",
       " ('il', 14),\n",
       " ('educa', 13),\n",
       " (\"''\", 13),\n",
       " ('ti', 13),\n",
       " ('mt', 13),\n",
       " ('al', 12),\n",
       " ('mm', 11),\n",
       " ('tion', 11),\n",
       " ('mc', 11)]"
      ]
     },
     "execution_count": 27,
     "metadata": {},
     "output_type": "execute_result"
    }
   ],
   "source": [
    "# %load shared_elements/top_errors.py\n",
    "errors_summary = reports.get_errors_summary( summary )\n",
    "reports.top_errors( errors_summary, 10 )[:50]"
   ]
  },
  {
   "cell_type": "markdown",
   "metadata": {},
   "source": [
    "## Correction 5 -- Rejoin Burst Words"
   ]
  },
  {
   "cell_type": "code",
   "execution_count": 28,
   "metadata": {
    "ExecuteTime": {
     "end_time": "2017-03-02T22:40:13.023626",
     "start_time": "2017-03-02T22:40:12.170839"
    },
    "collapsed": false
   },
   "outputs": [],
   "source": [
    "# %load shared_elements/rejoin_burst_words.py\n",
    "prev = \"correction4\"\n",
    "cycle = \"correction5\"\n",
    "\n",
    "directories = utilities.define_directories(prev, cycle, base_dir)\n",
    "if not os.path.exists(directories['cycle']):\n",
    "    os.makedirs(directories['cycle'])\n",
    "\n",
    "corpus = (f for f in listdir(directories['prev']) if not f.startswith('.') and isfile(join(directories['prev'], f)))\n",
    "\n",
    "for filename in corpus:\n",
    "    content = utilities.readfile(directories['prev'], filename)\n",
    "\n",
    "    pattern = re.compile(\"(\\s(\\w{1,2}\\s){5,})\")\n",
    "    \n",
    "    replacements = []\n",
    "    clean.check_splits(pattern, spelling_dictionary, content, replacements)\n",
    "    \n",
    "    if len(replacements) > 0:\n",
    "#         print('{}: {}'.format(filename, replacements))\n",
    "\n",
    "        for replacement in replacements:\n",
    "            content = clean.replace_pair(replacement, content)\n",
    "    else:\n",
    "        pass\n",
    "\n",
    "    with open(join(directories['cycle'], filename), mode=\"w\") as o:\n",
    "        o.write(content)\n",
    "        o.close()"
   ]
  },
  {
   "cell_type": "markdown",
   "metadata": {},
   "source": [
    "## Check Correction 5"
   ]
  },
  {
   "cell_type": "code",
   "execution_count": 29,
   "metadata": {
    "ExecuteTime": {
     "end_time": "2017-03-02T22:40:13.662983",
     "start_time": "2017-03-02T22:40:13.025229"
    },
    "collapsed": false
   },
   "outputs": [
    {
     "name": "stdout",
     "output_type": "stream",
     "text": [
      "Directory: /Users/jeriwieringa/Dissertation/text/text/2017-01-31-corpus-with-utf8-split-into-titles-cleaning/EDU/correction5\n",
      "\n",
      "Average verified rate: 0.9823393780402444\n",
      "\n",
      "Average of error rates: 0.02837974683544304\n",
      "\n",
      "Total token count: 340022\n",
      "\n"
     ]
    },
    {
     "data": {
      "image/png": "[encoded data removed]",
      "text/plain": [
       "<matplotlib.figure.Figure at 0x1106e8b00>"
      ]
     },
     "metadata": {},
     "output_type": "display_data"
    }
   ],
   "source": [
    "# %load shared_elements/summary.py\n",
    "summary = reports.overview_report(directories['cycle'], spelling_dictionary, title)"
   ]
  },
  {
   "cell_type": "code",
   "execution_count": 30,
   "metadata": {
    "ExecuteTime": {
     "end_time": "2017-03-02T22:40:13.722800",
     "start_time": "2017-03-02T22:40:13.665125"
    },
    "collapsed": false
   },
   "outputs": [
    {
     "data": {
      "text/plain": [
       "[(\"'\", 263),\n",
       " ('e', 236),\n",
       " ('m', 193),\n",
       " ('w', 193),\n",
       " ('t', 170),\n",
       " ('d', 134),\n",
       " ('g', 122),\n",
       " ('co', 121),\n",
       " ('f', 106),\n",
       " ('r', 106),\n",
       " ('n', 91),\n",
       " ('u', 81),\n",
       " ('x', 37),\n",
       " ('ex', 29),\n",
       " ('k', 27),\n",
       " ('th', 24),\n",
       " ('cator', 23),\n",
       " ('-', 18),\n",
       " ('edu', 16),\n",
       " ('ga', 15),\n",
       " ('z', 15),\n",
       " ('re', 14),\n",
       " ('il', 14),\n",
       " ('educa', 13),\n",
       " (\"''\", 13),\n",
       " ('ti', 13),\n",
       " ('mt', 13),\n",
       " ('al', 12),\n",
       " ('mm', 11),\n",
       " ('tion', 11),\n",
       " ('mc', 11)]"
      ]
     },
     "execution_count": 30,
     "metadata": {},
     "output_type": "execute_result"
    }
   ],
   "source": [
    "# %load shared_elements/top_errors.py\n",
    "errors_summary = reports.get_errors_summary( summary )\n",
    "reports.top_errors( errors_summary, 10 )[:50]"
   ]
  },
  {
   "cell_type": "markdown",
   "metadata": {},
   "source": [
    "## Check Correction 6 -- Rejoin Split Words I"
   ]
  },
  {
   "cell_type": "code",
   "execution_count": 31,
   "metadata": {
    "ExecuteTime": {
     "end_time": "2017-03-02T22:40:15.129164",
     "start_time": "2017-03-02T22:40:13.724643"
    },
    "collapsed": false
   },
   "outputs": [],
   "source": [
    "# %load shared_elements/rejoin_split_words.py\n",
    "prev = \"correction5\"\n",
    "cycle = \"correction6\"\n",
    "\n",
    "directories = utilities.define_directories(prev, cycle, base_dir)\n",
    "if not os.path.exists(directories['cycle']):\n",
    "    os.makedirs(directories['cycle'])\n",
    "\n",
    "corpus = (f for f in listdir(directories['prev']) if not f.startswith('.') and isfile(join(directories['prev'], f)))\n",
    "\n",
    "for filename in corpus:\n",
    "    content = utilities.readfile(directories['prev'], filename)\n",
    "    \n",
    "    text = re.sub(r\"[0-9,!?$:;&]\", \" \", content)\n",
    "    tokens = utilities.tokenize_text(text)\n",
    "    errors = reports.identify_errors(tokens, spelling_dictionary)\n",
    "\n",
    "    replacements = clean.check_if_stem(errors, spelling_dictionary, tokens, get_prior=False)\n",
    "    \n",
    "    if len(replacements) > 0:\n",
    "#         print('{}: {}'.format(filename, replacements))\n",
    "\n",
    "        for replacement in replacements:\n",
    "            content = clean.replace_split_words(replacement, content)\n",
    "    else:\n",
    "        pass\n",
    "\n",
    "    with open(join(directories['cycle'], filename), mode=\"w\") as o:\n",
    "        o.write(content)\n",
    "        o.close()"
   ]
  },
  {
   "cell_type": "markdown",
   "metadata": {},
   "source": [
    "## Check Correction 6"
   ]
  },
  {
   "cell_type": "code",
   "execution_count": 32,
   "metadata": {
    "ExecuteTime": {
     "end_time": "2017-03-02T22:40:15.766220",
     "start_time": "2017-03-02T22:40:15.130772"
    },
    "collapsed": false
   },
   "outputs": [
    {
     "name": "stdout",
     "output_type": "stream",
     "text": [
      "Directory: /Users/jeriwieringa/Dissertation/text/text/2017-01-31-corpus-with-utf8-split-into-titles-cleaning/EDU/correction6\n",
      "\n",
      "Average verified rate: 0.9828301431605952\n",
      "\n",
      "Average of error rates: 0.027658227848101267\n",
      "\n",
      "Total token count: 339898\n",
      "\n"
     ]
    },
    {
     "data": {
      "image/png": "[encoded data removed]",
      "text/plain": [
       "<matplotlib.figure.Figure at 0x1103e2668>"
      ]
     },
     "metadata": {},
     "output_type": "display_data"
    }
   ],
   "source": [
    "# %load shared_elements/summary.py\n",
    "summary = reports.overview_report(directories['cycle'], spelling_dictionary, title)"
   ]
  },
  {
   "cell_type": "code",
   "execution_count": 33,
   "metadata": {
    "ExecuteTime": {
     "end_time": "2017-03-02T22:40:15.822401",
     "start_time": "2017-03-02T22:40:15.768024"
    },
    "collapsed": false
   },
   "outputs": [
    {
     "data": {
      "text/plain": [
       "[(\"'\", 263),\n",
       " ('e', 231),\n",
       " ('m', 193),\n",
       " ('w', 193),\n",
       " ('t', 168),\n",
       " ('d', 134),\n",
       " ('g', 122),\n",
       " ('f', 106),\n",
       " ('r', 104),\n",
       " ('n', 91),\n",
       " ('co', 88),\n",
       " ('u', 81),\n",
       " ('x', 37),\n",
       " ('ex', 29),\n",
       " ('k', 27),\n",
       " ('th', 19),\n",
       " ('-', 18),\n",
       " ('ga', 15),\n",
       " ('z', 15),\n",
       " ('il', 14),\n",
       " (\"''\", 13),\n",
       " ('mt', 13),\n",
       " ('re', 11),\n",
       " ('mm', 11)]"
      ]
     },
     "execution_count": 33,
     "metadata": {},
     "output_type": "execute_result"
    }
   ],
   "source": [
    "# %load shared_elements/top_errors.py\n",
    "errors_summary = reports.get_errors_summary( summary )\n",
    "reports.top_errors( errors_summary, 10 )[:50]"
   ]
  },
  {
   "cell_type": "markdown",
   "metadata": {},
   "source": [
    "## Correction 7 -- Rejoin Split Words II"
   ]
  },
  {
   "cell_type": "code",
   "execution_count": 34,
   "metadata": {
    "ExecuteTime": {
     "end_time": "2017-03-02T22:40:17.418628",
     "start_time": "2017-03-02T22:40:15.824521"
    },
    "collapsed": false
   },
   "outputs": [],
   "source": [
    "# %load shared_elements/rejoin_split_words.py\n",
    "prev = \"correction6\"\n",
    "cycle = \"correction7\"\n",
    "\n",
    "directories = utilities.define_directories(prev, cycle, base_dir)\n",
    "if not os.path.exists(directories['cycle']):\n",
    "    os.makedirs(directories['cycle'])\n",
    "\n",
    "corpus = (f for f in listdir(directories['prev']) if not f.startswith('.') and isfile(join(directories['prev'], f)))\n",
    "\n",
    "for filename in corpus:\n",
    "    content = utilities.readfile(directories['prev'], filename)\n",
    "    \n",
    "    text = re.sub(r\"[0-9,!?$:;&]\", \" \", content)\n",
    "    tokens = utilities.tokenize_text(text)\n",
    "    errors = reports.identify_errors(tokens, spelling_dictionary)\n",
    "\n",
    "    replacements = clean.check_if_stem(errors, spelling_dictionary, tokens, get_prior=True)\n",
    "    \n",
    "    if len(replacements) > 0:\n",
    "#         print('{}: {}'.format(filename, replacements))\n",
    "\n",
    "        for replacement in replacements:\n",
    "            content = clean.replace_split_words(replacement, content)\n",
    "    else:\n",
    "        pass\n",
    "\n",
    "    with open(join(directories['cycle'], filename), mode=\"w\") as o:\n",
    "        o.write(content)\n",
    "        o.close()"
   ]
  },
  {
   "cell_type": "markdown",
   "metadata": {},
   "source": [
    "## Check Correction 7"
   ]
  },
  {
   "cell_type": "code",
   "execution_count": 35,
   "metadata": {
    "ExecuteTime": {
     "end_time": "2017-03-02T22:40:18.571961",
     "start_time": "2017-03-02T22:40:17.420543"
    },
    "collapsed": false
   },
   "outputs": [
    {
     "name": "stdout",
     "output_type": "stream",
     "text": [
      "Directory: /Users/jeriwieringa/Dissertation/text/text/2017-01-31-corpus-with-utf8-split-into-titles-cleaning/EDU/correction7\n",
      "\n",
      "Average verified rate: 0.9829804263132496\n",
      "\n",
      "Average of error rates: 0.027402953586497893\n",
      "\n",
      "Total token count: 339844\n",
      "\n"
     ]
    },
    {
     "data": {
      "image/png": "[encoded data removed]",
      "text/plain": [
       "<matplotlib.figure.Figure at 0x11213c400>"
      ]
     },
     "metadata": {},
     "output_type": "display_data"
    }
   ],
   "source": [
    "# %load shared_elements/summary.py\n",
    "summary = reports.overview_report(directories['cycle'], spelling_dictionary, title)"
   ]
  },
  {
   "cell_type": "code",
   "execution_count": 36,
   "metadata": {
    "ExecuteTime": {
     "end_time": "2017-03-02T22:40:18.621347",
     "start_time": "2017-03-02T22:40:18.573658"
    },
    "collapsed": false
   },
   "outputs": [
    {
     "data": {
      "text/plain": [
       "[(\"'\", 263),\n",
       " ('e', 231),\n",
       " ('w', 193),\n",
       " ('m', 191),\n",
       " ('t', 166),\n",
       " ('d', 134),\n",
       " ('g', 119),\n",
       " ('f', 106),\n",
       " ('r', 103),\n",
       " ('n', 91),\n",
       " ('co', 87),\n",
       " ('u', 81),\n",
       " ('x', 37),\n",
       " ('ex', 29),\n",
       " ('k', 27),\n",
       " ('-', 18),\n",
       " ('th', 16),\n",
       " ('ga', 15),\n",
       " ('z', 15),\n",
       " ('il', 14),\n",
       " (\"''\", 13),\n",
       " ('mt', 13),\n",
       " ('mm', 11)]"
      ]
     },
     "execution_count": 36,
     "metadata": {},
     "output_type": "execute_result"
    }
   ],
   "source": [
    "# %load shared_elements/top_errors.py\n",
    "errors_summary = reports.get_errors_summary( summary )\n",
    "reports.top_errors( errors_summary, 10 )[:50]"
   ]
  },
  {
   "cell_type": "markdown",
   "metadata": {},
   "source": [
    "## Review Remaining Errors"
   ]
  },
  {
   "cell_type": "code",
   "execution_count": 37,
   "metadata": {
    "ExecuteTime": {
     "end_time": "2017-03-02T22:40:18.677464",
     "start_time": "2017-03-02T22:40:18.623661"
    },
    "collapsed": false
   },
   "outputs": [
    {
     "data": {
      "text/plain": [
       "[('EDU18970901-V01-03,04-page33.txt', 0.8),\n",
       " ('EDU18970901-V01-03,04-page37.txt', 0.667),\n",
       " ('EDU18970901-V01-03,04-page34.txt', 0.667),\n",
       " ('EDU18981201-V03-04-page3.txt', 0.444),\n",
       " ('EDU18981201-V03-04-page1.txt', 0.333),\n",
       " ('EDU18980901-V03-01-page1.txt', 0.308),\n",
       " ('EDU18980601-V02-06-page1.txt', 0.297),\n",
       " ('EDU18990401-V03-08-page1.txt', 0.244)]"
      ]
     },
     "execution_count": 37,
     "metadata": {},
     "output_type": "execute_result"
    }
   ],
   "source": [
    "reports.docs_with_high_error_rate(summary)"
   ]
  },
  {
   "cell_type": "code",
   "execution_count": 38,
   "metadata": {
    "ExecuteTime": {
     "end_time": "2017-03-02T22:40:18.715222",
     "start_time": "2017-03-02T22:40:18.679696"
    },
    "collapsed": true
   },
   "outputs": [],
   "source": [
    "doc_keys = [x[0] for x in reports.docs_with_high_error_rate(summary) if x[1] > 0.3]"
   ]
  },
  {
   "cell_type": "code",
   "execution_count": 41,
   "metadata": {
    "ExecuteTime": {
     "end_time": "2017-03-02T22:40:43.214304",
     "start_time": "2017-03-02T22:40:43.174224"
    },
    "collapsed": false
   },
   "outputs": [],
   "source": [
    "# utilities.open_original_docs(doc_keys, directories['cycle'])"
   ]
  },
  {
   "cell_type": "markdown",
   "metadata": {},
   "source": [
    "Errors are from three periodicals. Most are image heavy pages that were scanned sideways. Given how few docs have high error rates, title is looking great."
   ]
  },
  {
   "cell_type": "code",
   "execution_count": 40,
   "metadata": {
    "ExecuteTime": {
     "end_time": "2017-03-02T22:40:20.404150",
     "start_time": "2017-03-02T22:40:20.363409"
    },
    "collapsed": false
   },
   "outputs": [
    {
     "data": {
      "text/plain": [
       "(['eachoftehesesubscrmiptionsfortheextra',\n",
       "  'much-to-be-desired',\n",
       "  'concomitantdissipation',\n",
       "  'compulsory-education',\n",
       "  'hyper-sensitiveness',\n",
       "  'ttttttttttttttttttttttttttttttttttttttttttttttttttt',\n",
       "  'silentlyarticulated',\n",
       "  'majestatsbeleidigung',\n",
       "  'carefully-observed',\n",
       "  'chemico-physiological',\n",
       "  'nord-stjarneordnarnes',\n",
       "  'ttttttttttttttttttti',\n",
       "  'branchesofbeechasseeninspring',\n",
       "  'nord-stjiirneordnames',\n",
       "  'self-forgetfulness',\n",
       "  'christianeducatorand',\n",
       "  'stkiernrotronbcera',\n",
       "  'thegreatestquestion',\n",
       "  'experience-modifications',\n",
       "  'lieutenant-colonel',\n",
       "  'lieutenant-general',\n",
       "  'nimittittimmtiimmiimittittimmmiimmtiimmttimmtimititititimittitimittimm',\n",
       "  'yearlysubscription',\n",
       "  'self-glorification',\n",
       "  'psycho-physiological'],\n",
       " 17)"
      ]
     },
     "execution_count": 40,
     "metadata": {},
     "output_type": "execute_result"
    }
   ],
   "source": [
    "reports.long_errors(errors_summary, min_length=17)[:100]"
   ]
  },
  {
   "cell_type": "markdown",
   "metadata": {
    "collapsed": true
   },
   "source": [
    "## Correction 8 -- Remove long error tokens"
   ]
  },
  {
   "cell_type": "code",
   "execution_count": 43,
   "metadata": {
    "ExecuteTime": {
     "end_time": "2017-03-02T22:41:45.575647",
     "start_time": "2017-03-02T22:41:45.026293"
    },
    "collapsed": false
   },
   "outputs": [
    {
     "name": "stdout",
     "output_type": "stream",
     "text": [
      "EDU18980901-V03-01-page27.txt: [('TTTTTTTTTTTTTTTTTTTTTTTTTTTTTTTTTTTTTTTTTTTTTTTTTTT', ' ')]\n",
      "EDU18980901-V03-01-page32.txt: [('NIMITTITTIMMTIIMMIIMITTITTIMMMIIMMTIIMMTTIMMTIMITITITITIMITTITIMITTIMM', ' '), ('NIMITTITTIMMTIIMMIIMITTITTIMMMIIMMTIIMMTTIMMTIMITITITITIMITTITIMITTIMM', ' ')]\n",
      "EDU18981001-V03-02-page29.txt: [('TTTTTTTTTTTTTTTTTTTI', ' ')]\n",
      "EDU18981101-V03-03-page29.txt: [('\"TrrITTTTTTITTTTTT', ' ')]\n",
      "EDU18990101-V03-05-page19.txt: [('WttftttittifZ', ' ')]\n"
     ]
    }
   ],
   "source": [
    "# %load shared_elements/remove-tokens-with-long-strings-of-characters.py\n",
    "prev = cycle\n",
    "cycle = \"correction8\"\n",
    "\n",
    "directories = utilities.define_directories(prev, cycle, base_dir)\n",
    "if not os.path.exists(directories['cycle']):\n",
    "    os.makedirs(directories['cycle'])\n",
    "\n",
    "corpus = (f for f in listdir(directories['prev']) if not f.startswith('.') and isfile(join(directories['prev'], f)))\n",
    "\n",
    "for filename in corpus:\n",
    "    content = utilities.readfile(directories['prev'], filename)\n",
    "\n",
    "    text = re.sub(r\"[0-9,!?$:;&]\", \" \", content)\n",
    "    tokens = utilities.tokenize_text(text)\n",
    "    \n",
    "    sub_list = [\"m|M\", \"t|T\"]\n",
    "    \n",
    "    replacements = []\n",
    "    for sub in sub_list:\n",
    "        replacements.append(clean.check_for_repeating_characters(tokens, sub))\n",
    "    \n",
    "    replacements = [item for sublist in replacements for item in sublist]\n",
    "            \n",
    "    if len(replacements) > 0:\n",
    "        print('{}: {}'.format(filename, replacements))\n",
    "\n",
    "        for replacement in replacements:\n",
    "            content = clean.replace_pair(replacement, content)\n",
    "    else:\n",
    "        pass\n",
    "    \n",
    "    with open(join(directories['cycle'], filename), mode=\"w\") as o:\n",
    "        o.write(content)\n",
    "        o.close()"
   ]
  },
  {
   "cell_type": "markdown",
   "metadata": {},
   "source": [
    "## Correction 9 -- Separate Squashed Words"
   ]
  },
  {
   "cell_type": "code",
   "execution_count": 45,
   "metadata": {
    "ExecuteTime": {
     "end_time": "2017-03-02T22:42:22.248677",
     "start_time": "2017-03-02T22:42:21.075357"
    },
    "collapsed": false
   },
   "outputs": [
    {
     "name": "stdout",
     "output_type": "stream",
     "text": [
      "EDU18980601-V02-06-page31.txt: [('YEARLYSUBSCRIPTION', 'YEARLY SUBSCRIPTION')]\n",
      "EDU18981001-V03-02-page2.txt: [('YEARLYSUBSCRIPTION', 'YEARLY SUBSCRIPTION')]\n",
      "EDU18990301-V03-07-page2.txt: [('YEARLYSUBSCRIPTION', 'YEARLY SUBSCRIPTION'), ('CHRISTIANEDUCATORand', 'CHRISTIAN EDUCATOR and')]\n"
     ]
    }
   ],
   "source": [
    "# %load shared_elements/separate_squashed_words.py\n",
    "import pandas as pd\n",
    "from math import log\n",
    "\n",
    "prev = cycle\n",
    "cycle = \"correction9\"\n",
    "\n",
    "directories = utilities.define_directories(prev, cycle, base_dir)\n",
    "if not os.path.exists(directories['cycle']):\n",
    "    os.makedirs(directories['cycle'])\n",
    "\n",
    "corpus = (f for f in listdir(directories['prev']) if not f.startswith('.') and isfile(join(directories['prev'], f)))\n",
    "\n",
    "verified_tokens = []\n",
    "\n",
    "for filename in corpus:  \n",
    "    content = utilities.readfile(directories['prev'], filename)\n",
    "    clean.get_approved_tokens(content, spelling_dictionary, verified_tokens)\n",
    "\n",
    "tokens_with_freq = dict(collections.Counter(verified_tokens))\n",
    "words = pd.DataFrame(list(tokens_with_freq.items()), columns=['token','freq'])\n",
    "words_sorted = words.sort_values('freq', ascending=False)\n",
    "words_sorted_short = words_sorted[words_sorted.freq > 2]\n",
    "\n",
    "sorted_list_of_words = list(words_sorted_short['token'])\n",
    "\n",
    "wordcost = dict((k, log((i+1)*log(len(sorted_list_of_words)))) for i,k in enumerate(sorted_list_of_words))\n",
    "maxword = max(len(x) for x in sorted_list_of_words)\n",
    "\n",
    "corpus = (f for f in listdir(directories['prev']) if not f.startswith('.') and isfile(join(directories['prev'], f)))\n",
    "\n",
    "for filename in corpus:\n",
    "    content = utilities.readfile(directories['prev'], filename)\n",
    "\n",
    "    text = utilities.strip_punct(content)\n",
    "    tokens = utilities.tokenize_text(text)\n",
    "    \n",
    "    replacements = []\n",
    "    \n",
    "    for token in tokens:\n",
    "        if not token.lower() in spelling_dictionary:\n",
    "            if len(token) > 17:\n",
    "                if re.search(r\"[\\-\\-\\'\\\"]\", token):\n",
    "                    pass\n",
    "                else:\n",
    "                    split_string = clean.infer_spaces(token, wordcost, maxword)\n",
    "                    list_split_string = split_string.split()\n",
    "                    \n",
    "                    if clean.verify_split_string(list_split_string, spelling_dictionary):\n",
    "                        replacements.append((token, split_string))\n",
    "                    else:\n",
    "                        pass\n",
    "            else:\n",
    "                pass\n",
    "        else:\n",
    "            pass\n",
    "        \n",
    "    if len(replacements) > 0:\n",
    "        print(\"{}: {}\".format(filename, replacements))\n",
    "        \n",
    "        for replacement in replacements:\n",
    "            content = clean.replace_pair(replacement, content)\n",
    "    \n",
    "    else:\n",
    "        pass\n",
    "\n",
    "    with open(join(directories['cycle'], filename), mode=\"w\") as o:\n",
    "        o.write(content)\n",
    "        o.close()"
   ]
  },
  {
   "cell_type": "code",
   "execution_count": 48,
   "metadata": {
    "ExecuteTime": {
     "end_time": "2017-03-02T22:42:37.372671",
     "start_time": "2017-03-02T22:42:36.546425"
    },
    "collapsed": false
   },
   "outputs": [
    {
     "name": "stdout",
     "output_type": "stream",
     "text": [
      "Directory: /Users/jeriwieringa/Dissertation/text/text/2017-01-31-corpus-with-utf8-split-into-titles-cleaning/EDU/correction9\n",
      "\n",
      "Average verified rate: 0.9830069090523887\n",
      "\n",
      "Average of error rates: 0.02737130801687764\n",
      "\n",
      "Total token count: 339844\n",
      "\n"
     ]
    },
    {
     "data": {
      "image/png": "[encoded data removed]",
      "text/plain": [
       "<matplotlib.figure.Figure at 0x11116e588>"
      ]
     },
     "metadata": {},
     "output_type": "display_data"
    }
   ],
   "source": [
    "# %load shared_elements/summary.py\n",
    "summary = reports.overview_report(directories['cycle'], spelling_dictionary, title)"
   ]
  },
  {
   "cell_type": "code",
   "execution_count": 49,
   "metadata": {
    "ExecuteTime": {
     "end_time": "2017-03-02T22:42:37.417561",
     "start_time": "2017-03-02T22:42:37.374317"
    },
    "collapsed": false
   },
   "outputs": [
    {
     "data": {
      "text/plain": [
       "[(\"'\", 263),\n",
       " ('e', 231),\n",
       " ('w', 193),\n",
       " ('m', 191),\n",
       " ('t', 166),\n",
       " ('d', 134),\n",
       " ('g', 119),\n",
       " ('f', 106),\n",
       " ('r', 103),\n",
       " ('n', 91),\n",
       " ('co', 87),\n",
       " ('u', 81),\n",
       " ('x', 37),\n",
       " ('ex', 29),\n",
       " ('k', 27),\n",
       " ('-', 18),\n",
       " ('th', 16),\n",
       " ('ga', 15),\n",
       " ('z', 15),\n",
       " ('il', 14),\n",
       " (\"''\", 13),\n",
       " ('mt', 13),\n",
       " ('mm', 11)]"
      ]
     },
     "execution_count": 49,
     "metadata": {},
     "output_type": "execute_result"
    }
   ],
   "source": [
    "# %load shared_elements/top_errors.py\n",
    "errors_summary = reports.get_errors_summary( summary )\n",
    "reports.top_errors( errors_summary, 10 )[:50]"
   ]
  },
  {
   "cell_type": "code",
   "execution_count": null,
   "metadata": {
    "collapsed": true
   },
   "outputs": [],
   "source": []
  }
 ],
 "metadata": {
  "anaconda-cloud": {},
  "kernelspec": {
   "display_name": "Python [conda env:dissertation2]",
   "language": "python",
   "name": "conda-env-dissertation2-py"
  },
  "language_info": {
   "codemirror_mode": {
    "name": "ipython",
    "version": 3
   },
   "file_extension": ".py",
   "mimetype": "text/x-python",
   "name": "python",
   "nbconvert_exporter": "python",
   "pygments_lexer": "ipython3",
   "version": "3.5.2"
  }
 },
 "nbformat": 4,
 "nbformat_minor": 2
}
