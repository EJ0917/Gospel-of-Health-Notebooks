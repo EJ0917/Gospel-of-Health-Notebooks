{
 "cells": [
  {
   "cell_type": "code",
   "execution_count": 1,
   "metadata": {
    "ExecuteTime": {
     "end_time": "2017-02-28T16:29:08.034289",
     "start_time": "2017-02-28T16:29:07.909184"
    },
    "collapsed": true
   },
   "outputs": [],
   "source": [
    "from GoH import compile"
   ]
  },
  {
   "cell_type": "markdown",
   "metadata": {},
   "source": [
    "## Get titles from website"
   ]
  },
  {
   "cell_type": "code",
   "execution_count": 2,
   "metadata": {
    "ExecuteTime": {
     "end_time": "2017-02-28T16:29:10.718029",
     "start_time": "2017-02-28T16:29:10.714569"
    },
    "collapsed": true
   },
   "outputs": [],
   "source": [
    "title = 'ST'"
   ]
  },
  {
   "cell_type": "code",
   "execution_count": 3,
   "metadata": {
    "ExecuteTime": {
     "end_time": "2017-02-28T16:29:11.337700",
     "start_time": "2017-02-28T16:29:11.334731"
    },
    "collapsed": true
   },
   "outputs": [],
   "source": [
    "pdfIDs = []"
   ]
  },
  {
   "cell_type": "code",
   "execution_count": 4,
   "metadata": {
    "ExecuteTime": {
     "end_time": "2017-02-28T16:29:11.858702",
     "start_time": "2017-02-28T16:29:11.854595"
    },
    "collapsed": true
   },
   "outputs": [],
   "source": [
    "baseurl = \"http://documents.adventistarchives.org/Periodicals/Forms/AllItems.aspx?RootFolder=%2fPeriodicals%2f{}\".format(title)"
   ]
  },
  {
   "cell_type": "code",
   "execution_count": 5,
   "metadata": {
    "ExecuteTime": {
     "end_time": "2017-02-28T16:29:31.293883",
     "start_time": "2017-02-28T16:29:12.830504"
    },
    "collapsed": false
   },
   "outputs": [
    {
     "name": "stdout",
     "output_type": "stream",
     "text": [
      "Processing http://documents.adventistarchives.org/Periodicals/Forms/AllItems.aspx?RootFolder=%2fPeriodicals%2fST\n",
      "Processing http://documents.adventistarchives.org/Periodicals/Forms/AllItems.aspx?Paged=TRUE&p_SortBehavior=0&p_FileLeafRef=ST18790102-V05-01%2epdf&RootFolder=%2fPeriodicals%2fST\n",
      "Processing http://documents.adventistarchives.org/Periodicals/Forms/AllItems.aspx?Paged=TRUE&p_SortBehavior=0&p_FileLeafRef=ST18810203-V07-05%2epdf&RootFolder=%2fPeriodicals%2fST\n",
      "Processing http://documents.adventistarchives.org/Periodicals/Forms/AllItems.aspx?Paged=TRUE&p_SortBehavior=0&p_FileLeafRef=ST18830222-V08-08%2epdf&RootFolder=%2fPeriodicals%2fST\n",
      "Processing http://documents.adventistarchives.org/Periodicals/Forms/AllItems.aspx?Paged=TRUE&p_SortBehavior=0&p_FileLeafRef=ST18850716-V11-27%2epdf&RootFolder=%2fPeriodicals%2fST\n",
      "Processing http://documents.adventistarchives.org/Periodicals/Forms/AllItems.aspx?Paged=TRUE&p_SortBehavior=0&p_FileLeafRef=ST18880420-V14-16%2epdf&RootFolder=%2fPeriodicals%2fST\n",
      "Processing http://documents.adventistarchives.org/Periodicals/Forms/AllItems.aspx?Paged=TRUE&p_SortBehavior=0&p_FileLeafRef=ST18930821-V19-41%2epdf&RootFolder=%2fPeriodicals%2fST\n",
      "Processing http://documents.adventistarchives.org/Periodicals/Forms/AllItems.aspx?Paged=TRUE&p_SortBehavior=0&p_FileLeafRef=ST18970930-V23-38%2epdf&RootFolder=%2fPeriodicals%2fST\n",
      "Processing http://documents.adventistarchives.org/Periodicals/Forms/AllItems.aspx?Paged=TRUE&p_SortBehavior=0&p_FileLeafRef=ST19020319-V28-12%2epdf&RootFolder=%2fPeriodicals%2fST\n",
      "Processing http://documents.adventistarchives.org/Periodicals/Forms/AllItems.aspx?Paged=TRUE&p_SortBehavior=0&p_FileLeafRef=ST19060228-V32-09%2epdf&RootFolder=%2fPeriodicals%2fST\n",
      "Processing http://documents.adventistarchives.org/Periodicals/Forms/AllItems.aspx?Paged=TRUE&p_SortBehavior=0&p_FileLeafRef=ST19080226-V34-09%2epdf&RootFolder=%2fPeriodicals%2fST\n",
      "Processing http://documents.adventistarchives.org/Periodicals/Forms/AllItems.aspx?Paged=TRUE&p_SortBehavior=0&p_FileLeafRef=ST19110516-V38-19%2epdf&RootFolder=%2fPeriodicals%2fST\n",
      "Processing http://documents.adventistarchives.org/Periodicals/Forms/AllItems.aspx?Paged=TRUE&p_SortBehavior=0&p_FileLeafRef=ST19140210-V41-05%2epdf&RootFolder=%2fPeriodicals%2fST\n",
      "Processing http://documents.adventistarchives.org/Periodicals/Forms/AllItems.aspx?Paged=TRUE&p_SortBehavior=0&p_FileLeafRef=ST19180702-V45-26%2epdf&RootFolder=%2fPeriodicals%2fST\n",
      "Processing http://documents.adventistarchives.org/Periodicals/Forms/AllItems.aspx?Paged=TRUE&p_SortBehavior=0&p_FileLeafRef=ST19200713-V47-27%2epdf&RootFolder=%2fPeriodicals%2fST\n",
      "Completed all pages in range.\n"
     ]
    }
   ],
   "source": [
    "compile.process_url(baseurl, pdfIDs, title)"
   ]
  },
  {
   "cell_type": "code",
   "execution_count": 6,
   "metadata": {
    "ExecuteTime": {
     "end_time": "2017-02-28T16:29:35.270842",
     "start_time": "2017-02-28T16:29:35.256689"
    },
    "collapsed": false
   },
   "outputs": [
    {
     "data": {
      "text/plain": [
       "15"
      ]
     },
     "execution_count": 6,
     "metadata": {},
     "output_type": "execute_result"
    }
   ],
   "source": [
    "len(pdfIDs)"
   ]
  },
  {
   "cell_type": "code",
   "execution_count": 7,
   "metadata": {
    "ExecuteTime": {
     "end_time": "2017-02-28T16:29:36.102798",
     "start_time": "2017-02-28T16:29:36.099021"
    },
    "collapsed": true
   },
   "outputs": [],
   "source": [
    "pdfs_on_website = [item for sublist in pdfIDs for item in sublist]"
   ]
  },
  {
   "cell_type": "markdown",
   "metadata": {},
   "source": [
    "## Files on Disk"
   ]
  },
  {
   "cell_type": "code",
   "execution_count": 8,
   "metadata": {
    "ExecuteTime": {
     "end_time": "2017-02-28T16:29:37.921070",
     "start_time": "2017-02-28T16:29:37.744523"
    },
    "collapsed": true
   },
   "outputs": [],
   "source": [
    "local_pdfs = compile.get_local_corpus_data( '/Users/jeriwieringa/Dissertation/text/corpus-pdf/periodicals/', title)"
   ]
  },
  {
   "cell_type": "markdown",
   "metadata": {},
   "source": [
    "## Compare Lists"
   ]
  },
  {
   "cell_type": "code",
   "execution_count": 9,
   "metadata": {
    "ExecuteTime": {
     "end_time": "2017-02-28T16:29:40.670899",
     "start_time": "2017-02-28T16:29:40.662557"
    },
    "collapsed": false
   },
   "outputs": [
    {
     "data": {
      "text/plain": [
       "{'ST18820105-V08-01',\n",
       " 'ST18820112-V08-02',\n",
       " 'ST18820119-V08-03',\n",
       " 'ST18820126-V08-04',\n",
       " 'ST18820202-V08-05',\n",
       " 'ST18820209-V08-06',\n",
       " 'ST18820216-V08-07',\n",
       " 'ST18820223-V08-08',\n",
       " 'ST18820302-V08-09',\n",
       " 'ST18820309-V08-10',\n",
       " 'ST18820316-V08-11',\n",
       " 'ST18820323-V08-12',\n",
       " 'ST18820330-V08-13',\n",
       " 'ST18820403-V08-14',\n",
       " 'ST18820413-V08-15',\n",
       " 'ST18820420-V08-16',\n",
       " 'ST18820427-V08-17',\n",
       " 'ST18820504-V08-18',\n",
       " 'ST18820518-V08-19',\n",
       " 'ST18820525-V08-20',\n",
       " 'ST18820601-V08-21',\n",
       " 'ST18820608-V08-22',\n",
       " 'ST18820615-V08-23',\n",
       " 'ST18820622-V08-24',\n",
       " 'ST18820629-V08-25',\n",
       " 'ST18820713-V08-26',\n",
       " 'ST18820720-V08-27',\n",
       " 'ST18820727-V08-28',\n",
       " 'ST18820803-V08-29',\n",
       " 'ST18820810-V08-30',\n",
       " 'ST18820817-V08-31',\n",
       " 'ST18820824-V08-32',\n",
       " 'ST18820831-V08-33',\n",
       " 'ST18820907-V08-34',\n",
       " 'ST18820914-V08-35',\n",
       " 'ST18820921-V08-36',\n",
       " 'ST18820928-V08-37',\n",
       " 'ST18821005-V08-38',\n",
       " 'ST18821019-V08-39',\n",
       " 'ST18821026-V08-40',\n",
       " 'ST18821102-V08-41',\n",
       " 'ST18821109-V08-42',\n",
       " 'ST18821116-V08-43',\n",
       " 'ST18821123-V08-44',\n",
       " 'ST18821130-V08-45',\n",
       " 'ST18821207-V08-46',\n",
       " 'ST18821214-V08-47',\n",
       " 'ST18821221-V08-48',\n",
       " 'ST18830104-V09-01',\n",
       " 'ST18830111-V01-N08',\n",
       " 'ST18830111-V09-02',\n",
       " 'ST18830111-V09-03',\n",
       " 'ST18830111-V09-04',\n",
       " 'ST18830111-V09-05',\n",
       " 'ST18830111-V09-06',\n",
       " 'ST18830111-V09-07',\n",
       " 'ST18830222-V08-08',\n",
       " 'ST18830301-V09-09',\n",
       " 'ST18830308-V09-10',\n",
       " 'ST18830315-V09-11',\n",
       " 'ST18830322-V09-12',\n",
       " 'ST18830329-V09-13',\n",
       " 'ST18830405-V09-14',\n",
       " 'ST18830412-V09-15',\n",
       " 'ST18830419-V09-16',\n",
       " 'ST18830426-V09-17',\n",
       " 'ST18830510-V09-18',\n",
       " 'ST18830517-V09-19',\n",
       " 'ST18830524-V09-20',\n",
       " 'ST18830531-V09-1321',\n",
       " 'ST18830607-V09-22',\n",
       " 'ST18830614-V09-23',\n",
       " 'ST18830621-V09-24',\n",
       " 'ST18830628-V09-25',\n",
       " 'ST18830712-V09-26',\n",
       " 'ST18830719-V09-27',\n",
       " 'ST18830726-V09-28',\n",
       " 'ST18830802-V09-29',\n",
       " 'ST18830809-V09-30',\n",
       " 'ST18830816-V09-31',\n",
       " 'ST18830823-V09-32',\n",
       " 'ST18830830-V09-33',\n",
       " 'ST18830906-V09-34',\n",
       " 'ST18830920-V09-35',\n",
       " 'ST18830927-V09-36',\n",
       " 'ST18831004-V09-37',\n",
       " 'ST18831011-V09-38',\n",
       " 'ST18831018-V09-39',\n",
       " 'ST18831025-V09-40',\n",
       " 'ST18831101-V09-41',\n",
       " 'ST18831108-V09-42',\n",
       " 'ST18831115-V09-43',\n",
       " 'ST18831122-V09-44',\n",
       " 'ST18831129-V09-45',\n",
       " 'ST18831206-V09-46',\n",
       " 'ST18831213-V09-47',\n",
       " 'ST18831220-V09-48',\n",
       " 'ST19210104-V48-01',\n",
       " 'ST19210111-V48-02',\n",
       " 'ST19210118-V48-03',\n",
       " 'ST19210125-V48-04',\n",
       " 'ST19210201-V48-05',\n",
       " 'ST19210208-V48-06',\n",
       " 'ST19210215-V48-07',\n",
       " 'ST19210222-V48-08',\n",
       " 'ST19210301-V48-09',\n",
       " 'ST19210308-V48-10',\n",
       " 'ST19210315-V48-11',\n",
       " 'ST19210322-V48-12',\n",
       " 'ST19210329-V48-13',\n",
       " 'ST19210405-V48-14',\n",
       " 'ST19210412-V48-15',\n",
       " 'ST19210419-V48-16',\n",
       " 'ST19210426-V48-17',\n",
       " 'ST19210503-V48-18',\n",
       " 'ST19210510-V48-19',\n",
       " 'ST19210517-V48-20',\n",
       " 'ST19210524-V48-21',\n",
       " 'ST19210531-V48-22',\n",
       " 'ST19210607-V48-23',\n",
       " 'ST19210614-V48-24',\n",
       " 'ST19210621-V48-25',\n",
       " 'ST19210705-V48-26',\n",
       " 'ST19210712-V48-27',\n",
       " 'ST19210719-V48-28',\n",
       " 'ST19210726-V48-29',\n",
       " 'ST19210802-V48-30',\n",
       " 'ST19210809-V48-31',\n",
       " 'ST19210816-V48-32',\n",
       " 'ST19210823-V48-33',\n",
       " 'ST19210830-V48-34',\n",
       " 'ST19210906-V48-35',\n",
       " 'ST19210913-V48-36',\n",
       " 'ST19210920-V48-37',\n",
       " 'ST19210927-V48-38',\n",
       " 'ST19211004-V48-39',\n",
       " 'ST19211011-V48-40',\n",
       " 'ST19211018-V48-41',\n",
       " 'ST19211025-V48-42',\n",
       " 'ST19211101-V48-43',\n",
       " 'ST19211108-V48-44',\n",
       " 'ST19211115-V48-45',\n",
       " 'ST19211122-V48-46',\n",
       " 'ST19211129-V48-47',\n",
       " 'ST19211206-V48-48',\n",
       " 'ST19211213-V48-49',\n",
       " 'ST19211220-V48-50',\n",
       " 'ST19220103-V49-01',\n",
       " 'ST19220110-V49-02',\n",
       " 'ST19220117-V49-03',\n",
       " 'ST19220124-V49-04',\n",
       " 'ST19220131-V49-05',\n",
       " 'ST19220207-V49-06',\n",
       " 'ST19220214-V49-07',\n",
       " 'ST19220221-V49-08',\n",
       " 'ST19220228-V49-09',\n",
       " 'ST19220307-V49-10',\n",
       " 'ST19220314-V49-11',\n",
       " 'ST19220321-V49-12',\n",
       " 'ST19220328-V49-13',\n",
       " 'ST19220404-V49-14',\n",
       " 'ST19220411-V49-15',\n",
       " 'ST19220418-V49-16',\n",
       " 'ST19220425-V49-17',\n",
       " 'ST19220502-V49-18',\n",
       " 'ST19220509-V49-19',\n",
       " 'ST19220516-V49-20',\n",
       " 'ST19220523-V49-21',\n",
       " 'ST19220530-V49-22',\n",
       " 'ST19220606-V49-23',\n",
       " 'ST19220620-V49-24',\n",
       " 'ST19220627-V49-25',\n",
       " 'ST19220704-V49-26',\n",
       " 'ST19220711-V49-27'}"
      ]
     },
     "execution_count": 9,
     "metadata": {},
     "output_type": "execute_result"
    }
   ],
   "source": [
    "set(pdfs_on_website) - set(local_pdfs)"
   ]
  },
  {
   "cell_type": "code",
   "execution_count": 10,
   "metadata": {
    "ExecuteTime": {
     "end_time": "2017-02-28T16:30:01.102392",
     "start_time": "2017-02-28T16:30:01.097382"
    },
    "collapsed": false
   },
   "outputs": [
    {
     "data": {
      "text/plain": [
       "set()"
      ]
     },
     "execution_count": 10,
     "metadata": {},
     "output_type": "execute_result"
    }
   ],
   "source": [
    "set(local_pdfs) - set(pdfs_on_website)"
   ]
  },
  {
   "cell_type": "markdown",
   "metadata": {},
   "source": [
    "## Report"
   ]
  },
  {
   "cell_type": "markdown",
   "metadata": {},
   "source": [
    "Missing files: \n",
    "\n",
    "'ST18820105-V08-01',\n",
    " 'ST18820112-V08-02',\n",
    " 'ST18820119-V08-03',\n",
    " 'ST18820126-V08-04',\n",
    " 'ST18820202-V08-05',\n",
    " 'ST18820209-V08-06',\n",
    " 'ST18820216-V08-07',\n",
    " 'ST18820223-V08-08',\n",
    " 'ST18820302-V08-09',\n",
    " 'ST18820309-V08-10',\n",
    " 'ST18820316-V08-11',\n",
    " 'ST18820323-V08-12',\n",
    " 'ST18820330-V08-13',\n",
    " 'ST18820403-V08-14',\n",
    " 'ST18820413-V08-15',\n",
    " 'ST18820420-V08-16',\n",
    " 'ST18820427-V08-17',\n",
    " 'ST18820504-V08-18',\n",
    " 'ST18820518-V08-19',\n",
    " 'ST18820525-V08-20',\n",
    " 'ST18820601-V08-21',\n",
    " 'ST18820608-V08-22',\n",
    " 'ST18820615-V08-23',\n",
    " 'ST18820622-V08-24',\n",
    " 'ST18820629-V08-25',\n",
    " 'ST18820713-V08-26',\n",
    " 'ST18820720-V08-27',\n",
    " 'ST18820727-V08-28',\n",
    " 'ST18820803-V08-29',\n",
    " 'ST18820810-V08-30',\n",
    " 'ST18820817-V08-31',\n",
    " 'ST18820824-V08-32',\n",
    " 'ST18820831-V08-33',\n",
    " 'ST18820907-V08-34',\n",
    " 'ST18820914-V08-35',\n",
    " 'ST18820921-V08-36',\n",
    " 'ST18820928-V08-37',\n",
    " 'ST18821005-V08-38',\n",
    " 'ST18821019-V08-39',\n",
    " 'ST18821026-V08-40',\n",
    " 'ST18821102-V08-41',\n",
    " 'ST18821109-V08-42',\n",
    " 'ST18821116-V08-43',\n",
    " 'ST18821123-V08-44',\n",
    " 'ST18821130-V08-45',\n",
    " 'ST18821207-V08-46',\n",
    " 'ST18821214-V08-47',\n",
    " 'ST18821221-V08-48',\n",
    " 'ST18830104-V09-01',\n",
    " 'ST18830111-V01-N08',\n",
    " 'ST18830111-V09-02',\n",
    " 'ST18830111-V09-03',\n",
    " 'ST18830111-V09-04',\n",
    " 'ST18830111-V09-05',\n",
    " 'ST18830111-V09-06',\n",
    " 'ST18830111-V09-07',\n",
    " 'ST18830222-V08-08',\n",
    " 'ST18830301-V09-09',\n",
    " 'ST18830308-V09-10',\n",
    " 'ST18830315-V09-11',\n",
    " 'ST18830322-V09-12',\n",
    " 'ST18830329-V09-13',\n",
    " 'ST18830405-V09-14',\n",
    " 'ST18830412-V09-15',\n",
    " 'ST18830419-V09-16',\n",
    " 'ST18830426-V09-17',\n",
    " 'ST18830510-V09-18',\n",
    " 'ST18830517-V09-19',\n",
    " 'ST18830524-V09-20',\n",
    " 'ST18830531-V09-1321',\n",
    " 'ST18830607-V09-22',\n",
    " 'ST18830614-V09-23',\n",
    " 'ST18830621-V09-24',\n",
    " 'ST18830628-V09-25',\n",
    " 'ST18830712-V09-26',\n",
    " 'ST18830719-V09-27',\n",
    " 'ST18830726-V09-28',\n",
    " 'ST18830802-V09-29',\n",
    " 'ST18830809-V09-30',\n",
    " 'ST18830816-V09-31',\n",
    " 'ST18830823-V09-32',\n",
    " 'ST18830830-V09-33',\n",
    " 'ST18830906-V09-34',\n",
    " 'ST18830920-V09-35',\n",
    " 'ST18830927-V09-36',\n",
    " 'ST18831004-V09-37',\n",
    " 'ST18831011-V09-38',\n",
    " 'ST18831018-V09-39',\n",
    " 'ST18831025-V09-40',\n",
    " 'ST18831101-V09-41',\n",
    " 'ST18831108-V09-42',\n",
    " 'ST18831115-V09-43',\n",
    " 'ST18831122-V09-44',\n",
    " 'ST18831129-V09-45',\n",
    " 'ST18831206-V09-46',\n",
    " 'ST18831213-V09-47',\n",
    " 'ST18831220-V09-48',\n",
    "\n",
    "Feb 14, 2017."
   ]
  },
  {
   "cell_type": "markdown",
   "metadata": {},
   "source": [
    "## System Info"
   ]
  },
  {
   "cell_type": "code",
   "execution_count": 11,
   "metadata": {
    "ExecuteTime": {
     "end_time": "2017-02-28T16:30:04.513853",
     "start_time": "2017-02-28T16:30:03.205522"
    },
    "collapsed": false
   },
   "outputs": [
    {
     "name": "stdout",
     "output_type": "stream",
     "text": [
      "{'commit_hash': '5c9c918',\n",
      " 'commit_source': 'installation',\n",
      " 'default_encoding': 'UTF-8',\n",
      " 'ipython_path': '/Users/jeriwieringa/miniconda3/envs/dissertation2/lib/python3.5/site-packages/IPython',\n",
      " 'ipython_version': '5.1.0',\n",
      " 'os_name': 'posix',\n",
      " 'platform': 'Darwin-16.4.0-x86_64-i386-64bit',\n",
      " 'sys_executable': '/Users/jeriwieringa/miniconda3/envs/dissertation2/bin/python',\n",
      " 'sys_platform': 'darwin',\n",
      " 'sys_version': '3.5.2 |Continuum Analytics, Inc.| (default, Jul  2 2016, '\n",
      "                '17:52:12) \\n'\n",
      "                '[GCC 4.2.1 Compatible Apple LLVM 4.2 (clang-425.0.28)]'}\n",
      "anaconda-client==1.5.5\n",
      "appnope==0.1.0\n",
      "argh==0.26.1\n",
      "beautifulsoup4==4.5.3\n",
      "blinker==1.4\n",
      "bokeh==0.12.4\n",
      "boto==2.43.0\n",
      "bz2file==0.98\n",
      "chest==0.2.3\n",
      "cleanOCR==0.1\n",
      "cloudpickle==0.2.1\n",
      "clyent==1.2.2\n",
      "cycler==0.10.0\n",
      "dask==0.12.0\n",
      "datashader==0.4.0\n",
      "datashape==0.5.2\n",
      "decorator==4.0.11\n",
      "docutils==0.12\n",
      "doit==0.29.0\n",
      "gensim==0.12.4\n",
      "Ghost.py==0.2.3\n",
      "ghp-import2==1.0.1\n",
      "GoH==0.1\n",
      "gspread==0.4.1\n",
      "HeapDict==1.0.0\n",
      "httplib2==0.9.2\n",
      "husl==4.0.3\n",
      "ijson==2.3\n",
      "ipykernel==4.5.2\n",
      "ipython==5.1.0\n",
      "ipython-genutils==0.1.0\n",
      "ipywidgets==5.2.2\n",
      "Jinja2==2.8\n",
      "jsonschema==2.5.1\n",
      "jupyter==1.0.0\n",
      "jupyter-client==4.4.0\n",
      "jupyter-console==5.0.0\n",
      "jupyter-contrib-core==0.3.0\n",
      "jupyter-contrib-nbextensions==0.2.2\n",
      "jupyter-core==4.2.1\n",
      "jupyter-highlight-selected-word==0.0.5\n",
      "jupyter-latex-envs==1.3.5.4\n",
      "jupyter-nbextensions-configurator==0.2.3\n",
      "llvmlite==0.14.0\n",
      "locket==0.2.0\n",
      "Logbook==1.0.0\n",
      "lxml==3.5.0\n",
      "MacFSEvents==0.7\n",
      "Mako==1.0.4\n",
      "Markdown==2.6.7\n",
      "MarkupSafe==0.23\n",
      "matplotlib==2.0.0\n",
      "memory-profiler==0.43\n",
      "mistune==0.7.3\n",
      "multipledispatch==0.4.9\n",
      "natsort==4.0.4\n",
      "nb-anacondacloud==1.2.0\n",
      "nb-conda==2.0.0\n",
      "nb-conda-kernels==2.0.0\n",
      "nb-config-manager==0.1.3\n",
      "nbbrowserpdf==0.2.1\n",
      "nbconvert==4.2.0\n",
      "nbformat==4.2.0\n",
      "nbpresent==3.0.2\n",
      "networkx==1.11\n",
      "Nikola==7.7.7\n",
      "nltk==3.2.2\n",
      "notebook==4.2.3\n",
      "numba==0.29.0\n",
      "numpy==1.12.0\n",
      "oauth2client==4.0.0\n",
      "OCRreports==0.1\n",
      "odo==0.5.0\n",
      "pandas==0.19.2\n",
      "partd==0.3.6\n",
      "path.py==0.0.0\n",
      "pathtools==0.1.2\n",
      "pdfminer3k==1.3.1\n",
      "pexpect==4.0.1\n",
      "pickleshare==0.7.4\n",
      "Pillow==3.4.2\n",
      "plotly==2.0.1\n",
      "ply==3.10\n",
      "prompt-toolkit==1.0.9\n",
      "psutil==4.3.0\n",
      "ptyprocess==0.5.1\n",
      "py==1.4.32\n",
      "pyasn1==0.1.9\n",
      "pyasn1-modules==0.0.8\n",
      "pycrypto==2.6.1\n",
      "Pygments==2.1.3\n",
      "pyparsing==2.1.10\n",
      "PyPDF2==1.25.1\n",
      "PyRSS2Gen==1.1\n",
      "pyshp==1.2.10\n",
      "pytest==3.0.6\n",
      "python-dateutil==2.6.0\n",
      "pytz==2016.10\n",
      "pyxDamerauLevenshtein==1.4.1\n",
      "PyYAML==3.12\n",
      "pyzmq==16.0.2\n",
      "qtconsole==4.2.1\n",
      "requests==2.13.0\n",
      "rsa==3.4.2\n",
      "scipy==0.18.1\n",
      "seaborn==0.7.1\n",
      "simplegeneric==0.8.1\n",
      "six==1.10.0\n",
      "smart-open==1.3.5\n",
      "terminado==0.6\n",
      "textblob==0.11.1\n",
      "toolz==0.8.1\n",
      "tornado==4.4.2\n",
      "traitlets==4.3.1\n",
      "Unidecode==0.4.19\n",
      "verifyOCR==0.1\n",
      "watchdog==0.8.3\n",
      "wcwidth==0.1.7\n",
      "webassets==0.11.1\n",
      "widgetsnbextension==1.2.6\n",
      "ws4py==0.3.4\n",
      "xarray==0.8.2\n",
      "Yapsy==1.11.223\n"
     ]
    }
   ],
   "source": [
    "# %load ../../shared_elements/system_info.py\n",
    "import IPython\n",
    "print (IPython.sys_info())\n",
    "!pip freeze"
   ]
  },
  {
   "cell_type": "code",
   "execution_count": null,
   "metadata": {
    "collapsed": true
   },
   "outputs": [],
   "source": []
  }
 ],
 "metadata": {
  "anaconda-cloud": {},
  "kernelspec": {
   "display_name": "Python [conda env:dissertation2]",
   "language": "python",
   "name": "conda-env-dissertation2-py"
  },
  "language_info": {
   "codemirror_mode": {
    "name": "ipython",
    "version": 3
   },
   "file_extension": ".py",
   "mimetype": "text/x-python",
   "name": "python",
   "nbconvert_exporter": "python",
   "pygments_lexer": "ipython3",
   "version": "3.5.2"
  }
 },
 "nbformat": 4,
 "nbformat_minor": 2
}
