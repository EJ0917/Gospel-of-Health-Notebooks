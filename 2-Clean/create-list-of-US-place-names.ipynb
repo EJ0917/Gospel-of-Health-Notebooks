{
 "cells": [
  {
   "cell_type": "markdown",
   "metadata": {
    "toc": "true"
   },
   "source": [
    "# Table of Contents\n",
    " <p>"
   ]
  },
  {
   "cell_type": "markdown",
   "metadata": {},
   "source": [
    "Library for working with shapefiles is pyshp (Python Shapefile Library) https://github.com/GeospatialPython/pyshp"
   ]
  },
  {
   "cell_type": "code",
   "execution_count": 1,
   "metadata": {
    "ExecuteTime": {
     "end_time": "2017-01-03T15:05:49.902439",
     "start_time": "2017-01-03T15:05:49.895864"
    },
    "collapsed": true
   },
   "outputs": [],
   "source": [
    "import shapefile\n",
    "import datetime"
   ]
  },
  {
   "cell_type": "markdown",
   "metadata": {},
   "source": [
    "Data for the placenames comes from the USGS Cities and Towns dataset. Downloaded from https://nationalmap.gov/small_scale/atlasftp.html?openChapters=chpref#chpref on January 3, 2017."
   ]
  },
  {
   "cell_type": "code",
   "execution_count": 2,
   "metadata": {
    "ExecuteTime": {
     "end_time": "2017-01-03T15:05:49.909148",
     "start_time": "2017-01-03T15:05:49.904348"
    },
    "collapsed": true
   },
   "outputs": [],
   "source": [
    "sf = shapefile.Reader(\"/Users/jeriwieringa/Dissertation/drafts/data/external-data/citiesx020_nt00007/citiesx020.shp\")"
   ]
  },
  {
   "cell_type": "code",
   "execution_count": 3,
   "metadata": {
    "ExecuteTime": {
     "end_time": "2017-01-03T15:05:49.929103",
     "start_time": "2017-01-03T15:05:49.911479"
    }
   },
   "outputs": [
    {
     "data": {
      "text/plain": [
       "[('DeletionFlag', 'C', 1, 0),\n",
       " ['CITIESX020', 'N', 11, 0],\n",
       " ['FEATURE', 'C', 27, 0],\n",
       " ['NAME', 'C', 48, 0],\n",
       " ['POP_RANGE', 'C', 21, 0],\n",
       " ['POP_2000', 'N', 8, 0],\n",
       " ['FIPS55', 'C', 5, 0],\n",
       " ['COUNTY', 'C', 55, 0],\n",
       " ['FIPS', 'C', 5, 0],\n",
       " ['STATE', 'C', 2, 0],\n",
       " ['STATE_FIPS', 'C', 2, 0],\n",
       " ['DISPLAY', 'N', 1, 0]]"
      ]
     },
     "execution_count": 3,
     "metadata": {},
     "output_type": "execute_result"
    }
   ],
   "source": [
    "sf.fields"
   ]
  },
  {
   "cell_type": "code",
   "execution_count": 4,
   "metadata": {
    "ExecuteTime": {
     "end_time": "2017-01-03T15:05:51.019513",
     "start_time": "2017-01-03T15:05:49.931133"
    },
    "collapsed": true
   },
   "outputs": [],
   "source": [
    "records = sf.records()"
   ]
  },
  {
   "cell_type": "code",
   "execution_count": 5,
   "metadata": {
    "ExecuteTime": {
     "end_time": "2017-01-03T15:05:51.025296",
     "start_time": "2017-01-03T15:05:51.021096"
    }
   },
   "outputs": [
    {
     "data": {
      "text/plain": [
       "35432"
      ]
     },
     "execution_count": 5,
     "metadata": {},
     "output_type": "execute_result"
    }
   ],
   "source": [
    "len(records)"
   ]
  },
  {
   "cell_type": "code",
   "execution_count": 6,
   "metadata": {
    "ExecuteTime": {
     "end_time": "2017-01-03T15:05:51.033005",
     "start_time": "2017-01-03T15:05:51.027296"
    }
   },
   "outputs": [
    {
     "data": {
      "text/plain": [
       "[[1,\n",
       "  'Populated Place',\n",
       "  'Attu',\n",
       "  'Undetermined',\n",
       "  -99999,\n",
       "  '04540',\n",
       "  'Aleutians West Census Area',\n",
       "  '02016',\n",
       "  'AK',\n",
       "  '02',\n",
       "  1],\n",
       " [2,\n",
       "  'Populated Place',\n",
       "  'Point Hope',\n",
       "  '0 - 9,999',\n",
       "  757,\n",
       "  '61630',\n",
       "  'North Slope Borough',\n",
       "  '02185',\n",
       "  'AK',\n",
       "  '02',\n",
       "  0],\n",
       " [3,\n",
       "  'Populated Place',\n",
       "  'Point Lay',\n",
       "  'Undetermined',\n",
       "  -99999,\n",
       "  '61700',\n",
       "  'North Slope Borough',\n",
       "  '02185',\n",
       "  'AK',\n",
       "  '02',\n",
       "  1]]"
      ]
     },
     "execution_count": 6,
     "metadata": {},
     "output_type": "execute_result"
    }
   ],
   "source": [
    "records[:3]"
   ]
  },
  {
   "cell_type": "code",
   "execution_count": 7,
   "metadata": {
    "ExecuteTime": {
     "end_time": "2017-01-03T15:05:51.055776",
     "start_time": "2017-01-03T15:05:51.035385"
    },
    "collapsed": true
   },
   "outputs": [],
   "source": [
    "placenames = []\n",
    "for each in records:\n",
    "    placenames.append(each[2])"
   ]
  },
  {
   "cell_type": "code",
   "execution_count": 8,
   "metadata": {
    "ExecuteTime": {
     "end_time": "2017-01-03T15:05:51.064833",
     "start_time": "2017-01-03T15:05:51.058142"
    }
   },
   "outputs": [
    {
     "data": {
      "text/plain": [
       "35432"
      ]
     },
     "execution_count": 8,
     "metadata": {},
     "output_type": "execute_result"
    }
   ],
   "source": [
    "len(placenames)"
   ]
  },
  {
   "cell_type": "code",
   "execution_count": 9,
   "metadata": {
    "ExecuteTime": {
     "end_time": "2017-01-03T15:05:51.075293",
     "start_time": "2017-01-03T15:05:51.067035"
    }
   },
   "outputs": [
    {
     "data": {
      "text/plain": [
       "['Attu',\n",
       " 'Point Hope',\n",
       " 'Point Lay',\n",
       " 'Diomede',\n",
       " 'Gambell',\n",
       " 'Tin City',\n",
       " 'Savoonga',\n",
       " 'Shishmaref',\n",
       " 'Noatak',\n",
       " 'Port Clarence']"
      ]
     },
     "execution_count": 9,
     "metadata": {},
     "output_type": "execute_result"
    }
   ],
   "source": [
    "placenames[:10]"
   ]
  },
  {
   "cell_type": "code",
   "execution_count": 10,
   "metadata": {
    "ExecuteTime": {
     "end_time": "2017-01-03T15:05:51.155613",
     "start_time": "2017-01-03T15:05:51.077681"
    },
    "collapsed": true
   },
   "outputs": [],
   "source": [
    "with open(\"/Users/jeriwieringa/Dissertation/drafts/data/word-lists/{}-place-names.txt\".format(str(datetime.date.today())), \"w\") as outfile:\n",
    "    for name in placenames:\n",
    "        if len(name.split()) > 1:\n",
    "            words = name.split()\n",
    "            for word in words:\n",
    "                outfile.write(\"{}\\n\".format(word.lower()))\n",
    "        else:\n",
    "            outfile.write(\"{}\\n\".format(name.lower()))"
   ]
  },
  {
   "cell_type": "code",
   "execution_count": 11,
   "metadata": {
    "ExecuteTime": {
     "end_time": "2017-01-03T15:05:52.239069",
     "start_time": "2017-01-03T15:05:51.157957"
    }
   },
   "outputs": [
    {
     "name": "stdout",
     "output_type": "stream",
     "text": [
      "{'commit_hash': '5c9c918',\n",
      " 'commit_source': 'installation',\n",
      " 'default_encoding': 'UTF-8',\n",
      " 'ipython_path': '/Users/jeriwieringa/miniconda3/envs/dissertation2/lib/python3.5/site-packages/IPython',\n",
      " 'ipython_version': '5.1.0',\n",
      " 'os_name': 'posix',\n",
      " 'platform': 'Darwin-16.3.0-x86_64-i386-64bit',\n",
      " 'sys_executable': '/Users/jeriwieringa/miniconda3/envs/dissertation2/bin/python',\n",
      " 'sys_platform': 'darwin',\n",
      " 'sys_version': '3.5.2 |Continuum Analytics, Inc.| (default, Jul  2 2016, '\n",
      "                '17:52:12) \\n'\n",
      "                '[GCC 4.2.1 Compatible Apple LLVM 4.2 (clang-425.0.28)]'}\n",
      "anaconda-client==1.5.5\n",
      "appnope==0.1.0\n",
      "argh==0.26.1\n",
      "blinker==1.4\n",
      "bokeh==0.12.3\n",
      "boto==2.43.0\n",
      "bz2file==0.98\n",
      "chest==0.2.3\n",
      "cloudpickle==0.2.1\n",
      "clyent==1.2.2\n",
      "dask==0.12.0\n",
      "datashader==0.4.0\n",
      "datashape==0.5.2\n",
      "decorator==4.0.10\n",
      "docutils==0.12\n",
      "doit==0.29.0\n",
      "gensim==0.12.4\n",
      "Ghost.py==0.2.3\n",
      "ghp-import2==1.0.1\n",
      "gspread==0.4.1\n",
      "HeapDict==1.0.0\n",
      "httplib2==0.9.2\n",
      "husl==4.0.3\n",
      "ipykernel==4.5.2\n",
      "ipython==5.1.0\n",
      "ipython-genutils==0.1.0\n",
      "ipywidgets==5.2.2\n",
      "Jinja2==2.8\n",
      "jsonschema==2.5.1\n",
      "jupyter==1.0.0\n",
      "jupyter-client==4.4.0\n",
      "jupyter-console==5.0.0\n",
      "jupyter-contrib-core==0.3.0\n",
      "jupyter-contrib-nbextensions==0.2.2\n",
      "jupyter-core==4.2.1\n",
      "jupyter-highlight-selected-word==0.0.5\n",
      "jupyter-latex-envs==1.3.5.4\n",
      "jupyter-nbextensions-configurator==0.2.3\n",
      "llvmlite==0.14.0\n",
      "locket==0.2.0\n",
      "Logbook==1.0.0\n",
      "lxml==3.5.0\n",
      "MacFSEvents==0.7\n",
      "Mako==1.0.4\n",
      "Markdown==2.6.7\n",
      "MarkupSafe==0.23\n",
      "mistune==0.7.3\n",
      "multipledispatch==0.4.9\n",
      "natsort==4.0.4\n",
      "nb-anacondacloud==1.2.0\n",
      "nb-conda==2.0.0\n",
      "nb-conda-kernels==2.0.0\n",
      "nb-config-manager==0.1.3\n",
      "nbbrowserpdf==0.2.1\n",
      "nbconvert==4.2.0\n",
      "nbformat==4.2.0\n",
      "nbpresent==3.0.2\n",
      "networkx==1.11\n",
      "Nikola==7.7.7\n",
      "nltk==3.2.1\n",
      "notebook==4.2.3\n",
      "numba==0.29.0\n",
      "numpy==1.11.2\n",
      "oauth2client==4.0.0\n",
      "odo==0.5.0\n",
      "pandas==0.19.1\n",
      "partd==0.3.6\n",
      "path.py==0.0.0\n",
      "pathtools==0.1.2\n",
      "pexpect==4.0.1\n",
      "pickleshare==0.7.4\n",
      "Pillow==3.4.2\n",
      "prompt-toolkit==1.0.9\n",
      "psutil==4.3.0\n",
      "ptyprocess==0.5.1\n",
      "pyasn1==0.1.9\n",
      "pyasn1-modules==0.0.8\n",
      "pycrypto==2.6.1\n",
      "Pygments==2.1.3\n",
      "PyPDF2==1.25.1\n",
      "PyRSS2Gen==1.1\n",
      "pyshp==1.2.10\n",
      "python-dateutil==2.6.0\n",
      "pytz==2016.10\n",
      "PyYAML==3.12\n",
      "pyzmq==16.0.2\n",
      "qtconsole==4.2.1\n",
      "requests==2.12.3\n",
      "rsa==3.4.2\n",
      "scipy==0.18.1\n",
      "simplegeneric==0.8.1\n",
      "six==1.10.0\n",
      "smart-open==1.3.5\n",
      "terminado==0.6\n",
      "textblob==0.11.1\n",
      "toolz==0.8.1\n",
      "tornado==4.4.2\n",
      "traitlets==4.3.1\n",
      "Unidecode==0.4.19\n",
      "watchdog==0.8.3\n",
      "wcwidth==0.1.7\n",
      "webassets==0.11.1\n",
      "widgetsnbextension==1.2.6\n",
      "ws4py==0.3.4\n",
      "xarray==0.8.2\n",
      "Yapsy==1.11.223\n"
     ]
    }
   ],
   "source": [
    "# %load shared_elements/system_info.py\n",
    "import IPython\n",
    "print (IPython.sys_info())\n",
    "!pip freeze"
   ]
  },
  {
   "cell_type": "code",
   "execution_count": null,
   "metadata": {
    "collapsed": true
   },
   "outputs": [],
   "source": []
  }
 ],
 "metadata": {
  "anaconda-cloud": {},
  "kernelspec": {
   "display_name": "Python [conda env:dissertation2]",
   "language": "python",
   "name": "conda-env-dissertation2-py"
  },
  "language_info": {
   "codemirror_mode": {
    "name": "ipython",
    "version": 3
   },
   "file_extension": ".py",
   "mimetype": "text/x-python",
   "name": "python",
   "nbconvert_exporter": "python",
   "pygments_lexer": "ipython3",
   "version": "3.5.2"
  },
  "toc": {
   "nav_menu": {
    "height": "12px",
    "width": "252px"
   },
   "navigate_menu": true,
   "number_sections": true,
   "sideBar": false,
   "threshold": "3",
   "toc_cell": true,
   "toc_section_display": "none",
   "toc_window_display": true
  }
 },
 "nbformat": 4,
 "nbformat_minor": 2
}
