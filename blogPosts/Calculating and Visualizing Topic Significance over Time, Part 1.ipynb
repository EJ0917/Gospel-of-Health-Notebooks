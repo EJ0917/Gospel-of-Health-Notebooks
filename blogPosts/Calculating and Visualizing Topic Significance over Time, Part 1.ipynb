{
 "cells": [
  {
   "cell_type": "markdown",
   "metadata": {},
   "source": [
    "This the first in a series of posts which constitute a \"lit review\" of sorts to document the range of methods scholars are using to compute the distribution of topics over time. \n",
    "\n",
    "Graphs of topic prevalence over time are some of the most ubiquitous in digital humanities discussions of topic modeling. They are used as a mechanism for identifying spikes in discourse and for depicting the relationship between the various discourses in a corpus. \n",
    "\n",
    "Topic prevalence over time is not, however, a measure that is returned with the standard modeling tools such as MALLET or Gensim. Instead, it is computed after the fact by combining the model data with external metadata and aggregating the model results. And, as it turns out, there are a number of ways that the data can be aggregated and displayed.\n",
    "\n",
    "In this series of notebooks, I am looking at 4 different strategies for computing topic significance over time. These strategies are:\n",
    "\n",
    "+ Average of topic weights per year\n",
    "+ Smoothing or regression analysis\n",
    "+ Proportion of total weights per year\n",
    "+ Prevalence of the top topic per year\n",
    "\n",
    "To identifying the different strategies that others have used to compute topic distribution, I have gone digging into the code released with various blog posts and topic model browsers. What I have recreated here is my current understanding of the strategies being deployed. I looked at the following sources for examples of ways others have computed topics over time:\n",
    "\n",
    "+ Jonathan Goodwin's posts on topic modeling from 2012/2013:\n",
    "    + [http://jgoodwin.net/blog/visualizing-topics-in-elh/](http://jgoodwin.net/blog/visualizing-topics-in-elh/)\n",
    "    + [http://jgoodwin.net/blog/same-stuff-different-graph/](http://jgoodwin.net/blog/same-stuff-different-graph/)\n",
    "    + [http://jgoodwin.net/blog/topics-in-theory/](http://jgoodwin.net/blog/topics-in-theory/) \n",
    "+ Ben Schmidt's posts on topic modeling from 2012/2013 and the post comments:\n",
    "   + [http://sappingattention.blogspot.com/2013/01/keeping-words-in-topic-models.html](http://sappingattention.blogspot.com/2013/01/keeping-words-in-topic-models.html)\n",
    "   + [http://sappingattention.blogspot.com/2012/11/when-you-have-mallet-everything-looks.html](http://sappingattention.blogspot.com/2012/11/when-you-have-mallet-everything-looks.html)\n",
    "+ Andrew Goldstone's dfrtopics R package:\n",
    "   + [https://github.com/agoldst/dfrtopics/blob/43362fd4aea25caedf59f610fb02f3aaa30334ca/R/matrices.R#L2-L122](https://github.com/agoldst/dfrtopics/blob/43362fd4aea25caedf59f610fb02f3aaa30334ca/R/matrices.R#L2-L122)\n",
    "+ Andrew Goldstone's dfr-browser\n",
    "    + [https://agoldst.github.io/dfr-browser/](https://agoldst.github.io/dfr-browser/)\n",
    "+ Adrien Guille's TOM (TOpic Modeling) Python library:\n",
    "   + [https://github.com/AdrienGuille/TOM/blob/master/tom_lib/nlp/topic_model.py#L171-L183](https://github.com/AdrienGuille/TOM/blob/master/tom_lib/nlp/topic_model.py#L171-L183) \n",
    "   + [https://github.com/AdrienGuille/TOM/blob/377ad642da99f3ab93b8af0140db0486e937eaab/build_topic_model_browser.py#L114-L126](https://github.com/AdrienGuille/TOM/blob/377ad642da99f3ab93b8af0140db0486e937eaab/build_topic_model_browser.py#L114-L126)\n",
    "+ Amanda Regan and Joshua Catalano's topic model browser of Eleanor Roosevelt's *My Day*:\n",
    "    + [https://github.com/regan008/ERMining/blob/master/prepdata/exploretopics.R#L17-L31](https://github.com/regan008/ERMining/blob/master/prepdata/exploretopics.R#L17-L31)\n",
    "    + [https://regan008.shinyapps.io/mining_my_day/](https://regan008.shinyapps.io/mining_my_day/)\n",
    "+ David Mimno's jsLDA viewer\n",
    "    + [https://mimno.infosci.cornell.edu/jsLDA/jslda.html](https://mimno.infosci.cornell.edu/jsLDA/jslda.html)\n",
    "    + [https://github.com/mimno/jsLDA/blob/71a6f021ba57c9b085163ccbc485e1124c383d0f/jslda.js#L426-L444](https://github.com/mimno/jsLDA/blob/71a6f021ba57c9b085163ccbc485e1124c383d0f/jslda.js#L426-L444)\n",
    "\n",
    "I would love to hear if I have misunderstood the calculations taking place or about additional strategies or implementation ideas."
   ]
  },
  {
   "cell_type": "markdown",
   "metadata": {},
   "source": [
    "To explore a range of strategies for computing and visualizing topics over time from a standard LDA model, I am using a model I created from my dissertation materials. You can download the files needed to follow along from https://www.dropbox.com/s/9uf6kzkm1t12v6x/2017-06-21.zip?dl=0.\n",
    "\n",
    "I created this model from periodicals produced by the Seventh-day Adventist denomination between 1859 and 1875 using Gensim. I split each periodical into individual pages, so that I can better capture the range of topics in each periodical issue and identify individual pages of interest. In the process of corpus creation, I filtered the tokens on each page, excluding both low frequency (words occurring in fewer than 20 documents) and high frequency (words occurring in more than 30% of all documents) words. In other words, don't read anything into the fact that \"God\" is missing from the model. I have modeled the most distinctive words for each page.\n",
    "\n",
    "For historical context, during this period early Seventh-day Adventists formally organized as a denomination in 1863. They also launched their health reform efforts with the establishment of the Western Health Reform Institute (later renamed the Battle Creek Sanitarium) and started a health focused publication, *The Health Reformer*, both in 1866."
   ]
  },
  {
   "cell_type": "code",
   "execution_count": 11,
   "metadata": {
    "ExecuteTime": {
     "end_time": "2017-06-27T19:14:26.550244Z",
     "start_time": "2017-06-27T19:14:26.482840Z"
    }
   },
   "outputs": [],
   "source": [
    "# Load the necessary libraries\n",
    "import gensim # Note: I am running 1.0.1\n",
    "from ggplot import *\n",
    "import json\n",
    "import logging\n",
    "import matplotlib as mpl\n",
    "import matplotlib.pyplot as plt\n",
    "import os\n",
    "import pandas as pd # Note: I am running 0.19.2\n",
    "import pyLDAvis.gensim\n",
    "import seaborn as sns\n",
    "import warnings"
   ]
  },
  {
   "cell_type": "code",
   "execution_count": 6,
   "metadata": {
    "ExecuteTime": {
     "end_time": "2017-06-27T18:44:22.901548Z",
     "start_time": "2017-06-27T18:44:22.894805Z"
    },
    "collapsed": true
   },
   "outputs": [],
   "source": [
    "# Enable in-notebook visualizations\n",
    "%matplotlib inline\n",
    "pyLDAvis.enable_notebook()"
   ]
  },
  {
   "cell_type": "code",
   "execution_count": 7,
   "metadata": {
    "ExecuteTime": {
     "end_time": "2017-06-27T18:44:23.585054Z",
     "start_time": "2017-06-27T18:44:23.580334Z"
    }
   },
   "outputs": [],
   "source": [
    "# Temporary fix for persistent warnings of an api change between pandas and seaborn.\n",
    "warnings.filterwarnings('ignore')"
   ]
  },
  {
   "cell_type": "code",
   "execution_count": 8,
   "metadata": {
    "ExecuteTime": {
     "end_time": "2017-06-27T18:44:24.610585Z",
     "start_time": "2017-06-27T18:44:24.605466Z"
    },
    "collapsed": true
   },
   "outputs": [],
   "source": [
    "pd.options.display.max_rows = 10"
   ]
  },
  {
   "cell_type": "code",
   "execution_count": 9,
   "metadata": {
    "ExecuteTime": {
     "end_time": "2017-06-27T18:44:25.234648Z",
     "start_time": "2017-06-27T18:44:25.229456Z"
    },
    "collapsed": true
   },
   "outputs": [],
   "source": [
    "base_dir = \"/Users/jeriwieringa/Dissertation/drafts/data/module-3/\"\n",
    "period = '1859-to-1875'\n",
    "directory = \"historical_periods\""
   ]
  },
  {
   "cell_type": "code",
   "execution_count": 10,
   "metadata": {
    "ExecuteTime": {
     "end_time": "2017-06-27T18:44:27.004670Z",
     "start_time": "2017-06-27T18:44:26.886049Z"
    },
    "collapsed": true
   },
   "outputs": [],
   "source": [
    "lda_model = gensim.models.LdaModel.load(os.path.join(base_dir, 'models', directory, '{}.model'.format(period)))\n",
    "corpus = gensim.corpora.MmCorpus(os.path.join(base_dir, 'corpora', directory, \"{}.mm\".format(period)))\n",
    "dictionary = gensim.corpora.Dictionary.load(os.path.join(base_dir, 'corpora', directory, \"{}.dict\".format(period)))"
   ]
  },
  {
   "cell_type": "markdown",
   "metadata": {},
   "source": [
    "# Visualize the model\n",
    "\n",
    "To better understand the model that we are analyzing, we can first visualize the whole model using pyLDAvis. This provides us a picture of the overall topic weights and word distributions across all of the documents.\n",
    "\n",
    "**Note**: the topic numbers here indicate in descending order the prevalence of the topic in the whole corpus. They are not the same as the topic ids used in the rest of this notebook."
   ]
  },
  {
   "cell_type": "code",
   "execution_count": null,
   "metadata": {
    "ExecuteTime": {
     "end_time": "2017-06-21T16:44:19.503981",
     "start_time": "2017-06-21T16:43:22.958122"
    },
    "collapsed": true
   },
   "outputs": [],
   "source": [
    "pyLDAvis.gensim.prepare(lda_model, corpus, dictionary)"
   ]
  },
  {
   "cell_type": "markdown",
   "metadata": {},
   "source": [
    "# Create the dataframes\n",
    "\n",
    "While pyLDAvis gives us a good overall picture of the model data, we need to further manipulate the data in order to track change over time across the different publication years. \n",
    "\n",
    "I preprocessed the model and exported information about the weights per document and topic labels into CSV files for ease of compiling. I will release the code I used to export that information in a later notebook. "
   ]
  },
  {
   "cell_type": "code",
   "execution_count": null,
   "metadata": {
    "ExecuteTime": {
     "end_time": "2017-06-21T16:44:19.509702",
     "start_time": "2017-06-21T16:44:19.505499"
    },
    "collapsed": true
   },
   "outputs": [],
   "source": [
    "metadata_filename = os.path.join(base_dir,'2017-05-corpus-stats/2017-05-Composite-OCR-statistics.csv')\n",
    "index_filename = os.path.join(base_dir, 'corpora', directory, '{}.txt'.format(period))\n",
    "labels_filename = os.path.join(base_dir, 'dataframes', directory, '{}_topicLabels.csv'.format(period))\n",
    "doc_topic_filename = os.path.join(base_dir, 'dataframes', directory, '{}_dtm.csv'.format(period))"
   ]
  },
  {
   "cell_type": "code",
   "execution_count": null,
   "metadata": {
    "ExecuteTime": {
     "end_time": "2017-06-21T16:44:19.521830",
     "start_time": "2017-06-21T16:44:19.511305"
    },
    "collapsed": true
   },
   "outputs": [],
   "source": [
    "def doc_list(index_filename):\n",
    "    \"\"\"\n",
    "    Read in from a json document with index position and filename. \n",
    "    File was created during the creation of the corpus (.mm) file to document\n",
    "    the filename for each file as it was processed.\n",
    "    \n",
    "    Returns the index information as a dataframe.\n",
    "    \"\"\"\n",
    "    with open(index_filename) as data_file:    \n",
    "        data = json.load(data_file)\n",
    "    docs = pd.DataFrame.from_dict(data, orient='index').reset_index()\n",
    "    docs.columns = ['index_pos', 'doc_id']\n",
    "    docs['index_pos'] = docs['index_pos'].astype(int)\n",
    "  \n",
    "    return docs\n",
    "\n",
    "\n",
    "def compile_dataframe( index, dtm, labels, metadata):\n",
    "    \"\"\"\n",
    "    Combines a series of dataframes to create a large composit dataframe.\n",
    "    \"\"\"\n",
    "    doc2metadata = index.merge(metadata, on='doc_id', how=\"left\")\n",
    "    topics_expanded = dtm.merge(labels, on='topic_id')\n",
    "    \n",
    "    df = topics_expanded.merge(doc2metadata, on=\"index_pos\", how=\"left\")\n",
    "    \n",
    "    return df"
   ]
  },
  {
   "cell_type": "code",
   "execution_count": null,
   "metadata": {
    "ExecuteTime": {
     "end_time": "2017-06-21T16:44:19.903358",
     "start_time": "2017-06-21T16:44:19.523768"
    },
    "collapsed": true
   },
   "outputs": [],
   "source": [
    "metadata = pd.read_csv(metadata_filename, usecols=['doc_id', 'year','title'])\n",
    "docs_index = doc_list(index_filename)\n",
    "dt = pd.read_csv(doc_topic_filename)\n",
    "labels = pd.read_csv(labels_filename)"
   ]
  },
  {
   "cell_type": "markdown",
   "metadata": {},
   "source": [
    "The first step, following [Andrew Goldstone's process in his topic model browser](https://github.com/agoldst/dfrtopics/blob/43362fd4aea25caedf59f610fb02f3aaa30334ca/R/matrices.R#L373-L415), is to normalize the weights for each document, so that they total to \"1\".\n",
    "\n",
    "As a note, Goldstone first smooths the weights by adding the alpha hyperparameter to each of the weights, which I am not doing here."
   ]
  },
  {
   "cell_type": "code",
   "execution_count": null,
   "metadata": {
    "ExecuteTime": {
     "end_time": "2017-06-21T16:44:19.982715",
     "start_time": "2017-06-21T16:44:19.905208"
    },
    "collapsed": true
   },
   "outputs": [],
   "source": [
    "# Reorient from long to wide\n",
    "dtm = dt.pivot(index='index_pos', columns='topic_id', values='topic_weight').fillna(0)\n",
    "\n",
    "# Divide each value in a row by the sum of the row to normalize the values\n",
    "dtm = (dtm.T/dtm.sum(axis=1)).T\n",
    "\n",
    "# Shift back to a long dataframe\n",
    "dt_norm = dtm.stack().reset_index()\n",
    "dt_norm.columns = ['index_pos', 'topic_id', 'norm_topic_weight']"
   ]
  },
  {
   "cell_type": "markdown",
   "metadata": {},
   "source": [
    "With the document/topic dataframe normalized, we can compile our full dataframe."
   ]
  },
  {
   "cell_type": "code",
   "execution_count": null,
   "metadata": {
    "ExecuteTime": {
     "end_time": "2017-06-21T16:44:20.190962",
     "start_time": "2017-06-21T16:44:19.984842"
    },
    "collapsed": true,
    "scrolled": false
   },
   "outputs": [],
   "source": [
    "df = compile_dataframe(docs_index, dt_norm, labels, metadata)"
   ]
  },
  {
   "cell_type": "code",
   "execution_count": null,
   "metadata": {
    "ExecuteTime": {
     "end_time": "2017-06-21T16:44:20.217399",
     "start_time": "2017-06-21T16:44:20.193042"
    },
    "collapsed": true
   },
   "outputs": [],
   "source": [
    "df"
   ]
  },
  {
   "cell_type": "markdown",
   "metadata": {},
   "source": [
    "# Data dictionary:\n",
    "\n",
    "+ `index_pos` : Gensim uses the order in which the docs were streamed to link back the data and the source file. `index_pos` refers to the index id for the individual doc, which I used to link the resulting model information with the document name.\n",
    "+ `topic_id` : The numerical id for each topic. For this model, I used 20 topics to classify the periodical pages.\n",
    "+ `norm_topic_weight` : The proportion of the tokens in the document that are part of the topic, normalized per doc.\n",
    "+ `topic_words` : The top 6 words in the topic.\n",
    "+ `doc_id` : The file name of the document. The filename contains metadata information about the document, such as the periodical title, date of publication, volume, issue, and page number.\n",
    "+ `year` : Year the document was published (according to the filename)\n",
    "+ `title` : Periodical that the page was published in."
   ]
  },
  {
   "cell_type": "markdown",
   "metadata": {},
   "source": [
    "# Summary Statistics"
   ]
  },
  {
   "cell_type": "markdown",
   "metadata": {},
   "source": [
    "We can get an overall view of our data by computing some basic statistics."
   ]
  },
  {
   "cell_type": "code",
   "execution_count": null,
   "metadata": {
    "ExecuteTime": {
     "end_time": "2017-06-21T16:44:20.267403",
     "start_time": "2017-06-21T16:44:20.219708"
    },
    "collapsed": true
   },
   "outputs": [],
   "source": [
    "# Dropping the zero values so that we see the larger patterns in the data\n",
    "df_sum = df[df['norm_topic_weight'] != 0]"
   ]
  },
  {
   "cell_type": "code",
   "execution_count": null,
   "metadata": {
    "ExecuteTime": {
     "end_time": "2017-06-21T16:44:20.295332",
     "start_time": "2017-06-21T16:44:20.269719"
    },
    "collapsed": true
   },
   "outputs": [],
   "source": [
    "print(\"Max: {}\".format(df_sum['norm_topic_weight'].max()))\n",
    "print(\"Min: {}\".format(df_sum['norm_topic_weight'].min()))\n",
    "print(\"Average: {}\".format(df_sum['norm_topic_weight'].mean()))\n",
    "print(\"Median: {}\".format(df_sum['norm_topic_weight'].median()))\n",
    "print(\"Most frequent value: {}\".format(df_sum['norm_topic_weight'].round(3).value_counts().idxmax()))"
   ]
  },
  {
   "cell_type": "markdown",
   "metadata": {},
   "source": [
    "The topics range from 100% of the tokens in a document to 1% (excluding the zero values), with an average at 9% and a median value of 5%. The most frequent value is near 1%, which indicates that the data predominantly describes topics that have a minor presence in the documents.\n",
    "\n",
    "One way to visualize the overall structure of the data is to look at all of the topic weights for each topic id using a scatterplot."
   ]
  },
  {
   "cell_type": "code",
   "execution_count": null,
   "metadata": {
    "ExecuteTime": {
     "end_time": "2017-06-21T16:44:45.693531",
     "start_time": "2017-06-21T16:44:20.297428"
    },
    "collapsed": true,
    "scrolled": false
   },
   "outputs": [],
   "source": [
    "p = sns.factorplot(x=\"year\", y='norm_topic_weight', hue=\"topic_id\", col='topic_words', col_wrap=2, \n",
    "                   kind='strip', size=2.5, aspect=2, jitter=1, data=df_sum)\n",
    "p.fig.subplots_adjust(top=0.95)\n",
    "p.fig.suptitle(\"Scatterplot of Normalized Topic Weights, Split by Topic; All Weights.\", fontsize=16)"
   ]
  },
  {
   "cell_type": "markdown",
   "metadata": {},
   "source": [
    "While fun, this is too many plots to be useful, so I will move forward with a subset of the topics. However, if you decide to experiment with the notebook, you can switch back to the full dataframe."
   ]
  },
  {
   "cell_type": "code",
   "execution_count": null,
   "metadata": {
    "ExecuteTime": {
     "end_time": "2017-06-21T16:44:45.705373",
     "start_time": "2017-06-21T16:44:45.695112"
    },
    "collapsed": true
   },
   "outputs": [],
   "source": [
    "dfs = df[(df['topic_id'] >= 15) & (df['topic_id'] <=20)]"
   ]
  },
  {
   "cell_type": "markdown",
   "metadata": {},
   "source": [
    "# Average of topic weights per year"
   ]
  },
  {
   "cell_type": "markdown",
   "metadata": {},
   "source": [
    "The first strategy I found for aggregating topic weights is to average the topic weights per year. \n",
    "\n",
    "The average topic weight is computed by adding all of the weights for a given topic in a time period and dividing by the total number of documents in that time period. This gives us the average weight of the topic over all documents in the corpus. \n",
    "\n",
    "One complication I encountered while work through this is while MALLET reports a weight (be it ever so small) for each topic for all the documents, Gensim by default drops topic information for a document if the weight is under 0.01. This presents a wrinkle for computing averages from Gensim-produced data, as the data needs be expanded before we can compute the average weight of a topic over the corpus (rather than the average over its significant appearances). To do that, I added a 0 value for the missing topic values during the normalizing steps above."
   ]
  },
  {
   "cell_type": "markdown",
   "metadata": {},
   "source": [
    "We can use the aggregation functions in Seaborn, a Python graphing library, to get a quick overview of the average topic weight by year. By default, the pointplot and bar plot functions use the mean to compute the \"[central tendency and confidence interval](http://seaborn.pydata.org/tutorial/categorical.html)\" of categorical data. For more control of the calculation, we can also compute the averages externally."
   ]
  },
  {
   "cell_type": "code",
   "execution_count": null,
   "metadata": {
    "ExecuteTime": {
     "end_time": "2017-06-21T16:44:45.710258",
     "start_time": "2017-06-21T16:44:45.706821"
    },
    "collapsed": true
   },
   "outputs": [],
   "source": [
    "order = ['conference, committee, report, president, secretary, resolved',\n",
    "         'association, publishing, chart, dollar, xxii, sign',\n",
    "         'disease, physician, tobacco, patient, poison, medicine',\n",
    "         'quarterly, district, society, send, sept, business',\n",
    "         'wicked, immortality, righteous, adam, flesh, hell',\n",
    "         'mother, wife, told, went, young, school' \n",
    "        ]"
   ]
  },
  {
   "cell_type": "code",
   "execution_count": null,
   "metadata": {
    "ExecuteTime": {
     "end_time": "2017-06-21T16:44:45.716803",
     "start_time": "2017-06-21T16:44:45.711766"
    },
    "collapsed": true
   },
   "outputs": [],
   "source": [
    "def create_pointplot(df, y_value, hue=None, order=order, col=None, wrap=None, size=5, aspect=1.5, title=\"\"):\n",
    "    p = sns.factorplot(x=\"year\", y=y_value, kind='point', hue_order=order, hue=hue, \n",
    "                       col=col, col_wrap=wrap, col_order=order, size=size, aspect=aspect, data=df)\n",
    "    p.fig.subplots_adjust(top=0.9)\n",
    "    p.fig.suptitle(title, fontsize=16)\n",
    "    return p"
   ]
  },
  {
   "cell_type": "code",
   "execution_count": null,
   "metadata": {
    "ExecuteTime": {
     "end_time": "2017-06-21T16:44:45.723696",
     "start_time": "2017-06-21T16:44:45.718138"
    },
    "collapsed": true
   },
   "outputs": [],
   "source": [
    "def create_bar(df, y_value, hue=None, order=order, col=None, wrap=None, size=5, aspect=1.5, title=\"\"):\n",
    "    p = sns.factorplot(x=\"year\", y=y_value, kind='bar', hue_order=order, hue=hue, \n",
    "                       col=col, col_wrap=wrap, col_order=order, size=size, aspect=aspect, data=df)\n",
    "    p.fig.subplots_adjust(top=0.9)\n",
    "    p.fig.suptitle(title, fontsize=16)\n",
    "    return p"
   ]
  },
  {
   "cell_type": "code",
   "execution_count": null,
   "metadata": {
    "ExecuteTime": {
     "end_time": "2017-06-21T16:44:49.448072",
     "start_time": "2017-06-21T16:44:45.725165"
    },
    "collapsed": true
   },
   "outputs": [],
   "source": [
    "create_pointplot(dfs, 'norm_topic_weight', hue='topic_words', order=order, size=5, aspect=1.5,\n",
    "                 title=\"Central Range of Normalized Topic Weights. Computed with Seaborn.\")"
   ]
  },
  {
   "cell_type": "markdown",
   "metadata": {},
   "source": [
    "One of the common visualizations is to show each plot separately through a facet grid. While this helps us to isolate the contours of each individual topic, it is harder to track the relationship between the topics. "
   ]
  },
  {
   "cell_type": "code",
   "execution_count": null,
   "metadata": {
    "ExecuteTime": {
     "end_time": "2017-06-21T16:44:54.190712",
     "start_time": "2017-06-21T16:44:49.449437"
    },
    "collapsed": true,
    "scrolled": false
   },
   "outputs": [],
   "source": [
    "create_pointplot(dfs, 'norm_topic_weight', col='topic_words', wrap=3, \n",
    "                 title=\"Central Range of Normalized Topic Weights Split by Topic. Computed with Seaborn.\")"
   ]
  },
  {
   "cell_type": "markdown",
   "metadata": {},
   "source": [
    "We can also compute the average weight manually."
   ]
  },
  {
   "cell_type": "code",
   "execution_count": null,
   "metadata": {
    "ExecuteTime": {
     "end_time": "2017-06-21T16:44:54.269011",
     "start_time": "2017-06-21T16:44:54.192195"
    },
    "collapsed": true
   },
   "outputs": [],
   "source": [
    "# Get number of docs per year\n",
    "total_docs = df.groupby('year')['doc_id'].apply(lambda x: len(x.unique())).reset_index()\n",
    "total_docs.columns = ['year', 'total_docs']\n",
    "\n",
    "# Group by year and topic id\n",
    "df_avg = df.groupby(['year', 'topic_id']).agg({'norm_topic_weight': 'sum'}).reset_index()\n",
    "\n",
    "# Merge dataframes\n",
    "df_avg = df_avg.merge(total_docs, on=\"year\", how=\"left\")\n",
    "\n",
    "# Compute the mean per topic\n",
    "df_avg['average_weight'] = df_avg['norm_topic_weight'] / df_avg['total_docs']\n",
    "\n",
    "# Merge the dataframes\n",
    "df_avg = df_avg.merge(labels, on='topic_id')\n",
    "\n",
    "# Limit to sample\n",
    "dfs_avg = df_avg[(df_avg['topic_id'] >=15 ) & (df_avg['topic_id']<= 20)]"
   ]
  },
  {
   "cell_type": "code",
   "execution_count": null,
   "metadata": {
    "ExecuteTime": {
     "end_time": "2017-06-21T16:44:55.141323",
     "start_time": "2017-06-21T16:44:54.271196"
    },
    "collapsed": true,
    "scrolled": false
   },
   "outputs": [],
   "source": [
    "create_pointplot(dfs_avg, 'average_weight', hue=\"topic_words\",\n",
    "                title=\"Yearly Average of Normalized Weight per Topic\")"
   ]
  },
  {
   "cell_type": "code",
   "execution_count": null,
   "metadata": {
    "ExecuteTime": {
     "end_time": "2017-06-21T16:44:57.026215",
     "start_time": "2017-06-21T16:44:55.142746"
    },
    "collapsed": true
   },
   "outputs": [],
   "source": [
    "create_pointplot(dfs_avg, 'average_weight', col=\"topic_words\", wrap=3,\n",
    "                title=\"Yearly Average of Normalized Weight per Topic\")"
   ]
  },
  {
   "cell_type": "markdown",
   "metadata": {},
   "source": [
    "We can also display the averages as a bar chart, which encourages us to think about each year as discrete."
   ]
  },
  {
   "cell_type": "code",
   "execution_count": null,
   "metadata": {
    "ExecuteTime": {
     "end_time": "2017-06-21T16:44:58.042905",
     "start_time": "2017-06-21T16:44:57.027565"
    },
    "collapsed": true
   },
   "outputs": [],
   "source": [
    "create_bar(dfs_avg, 'average_weight', order=order, hue=\"topic_words\",\n",
    "          title=\"Yearly Average of Normalized Weight per Topic\")"
   ]
  },
  {
   "cell_type": "code",
   "execution_count": null,
   "metadata": {
    "ExecuteTime": {
     "end_time": "2017-06-21T16:45:01.985144",
     "start_time": "2017-06-21T16:44:58.044425"
    },
    "collapsed": true
   },
   "outputs": [],
   "source": [
    "create_bar(dfs_avg, 'average_weight', order=order, hue=\"topic_words\", col='topic_words',wrap=3,\n",
    "          title=\"Yearly Average of Normalized Weight per Topic\")"
   ]
  },
  {
   "cell_type": "markdown",
   "metadata": {
    "collapsed": true
   },
   "source": [
    "As a sanity check, we can show the importance of the 0 values by excluding those lines from the dataframe and using Seaborn to compute the average topic weight per year."
   ]
  },
  {
   "cell_type": "code",
   "execution_count": null,
   "metadata": {
    "ExecuteTime": {
     "end_time": "2017-06-21T16:45:01.992490",
     "start_time": "2017-06-21T16:45:01.986708"
    },
    "collapsed": true
   },
   "outputs": [],
   "source": [
    "df_filtered = dfs[dfs['norm_topic_weight'] > 0]"
   ]
  },
  {
   "cell_type": "code",
   "execution_count": null,
   "metadata": {
    "ExecuteTime": {
     "end_time": "2017-06-21T16:45:05.501792",
     "start_time": "2017-06-21T16:45:01.994117"
    },
    "collapsed": true
   },
   "outputs": [],
   "source": [
    "create_pointplot(df_filtered, 'norm_topic_weight', hue='topic_words',\n",
    "                title=\"Center Range of Topic Weights with '0' values removed. Computed with Seaborn\")"
   ]
  },
  {
   "cell_type": "markdown",
   "metadata": {},
   "source": [
    "If we were to rely on this graph, we would likely postulate that the discourse of the denomination became overwhelmingly inflected with discussions of health starting in 1868. And we would likely fail to appreciate the ways that business and domestic concerns followed similar contours and were nearly as prevalent in the overall literature of the time.\n",
    "\n",
    "Next I will look at using smoothing functions for charting topic changes over time."
   ]
  },
  {
   "cell_type": "code",
   "execution_count": null,
   "metadata": {
    "collapsed": true
   },
   "outputs": [],
   "source": []
  }
 ],
 "metadata": {
  "anaconda-cloud": {},
  "kernelspec": {
   "display_name": "Python [conda env:GoH]",
   "language": "python",
   "name": "conda-env-GoH-py"
  },
  "language_info": {
   "codemirror_mode": {
    "name": "ipython",
    "version": 3
   },
   "file_extension": ".py",
   "mimetype": "text/x-python",
   "name": "python",
   "nbconvert_exporter": "python",
   "pygments_lexer": "ipython3",
   "version": "3.5.3"
  }
 },
 "nbformat": 4,
 "nbformat_minor": 2
}
