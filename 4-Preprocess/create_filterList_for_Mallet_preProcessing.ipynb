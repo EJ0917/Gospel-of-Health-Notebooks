{
 "cells": [
  {
   "cell_type": "markdown",
   "metadata": {},
   "source": []
  },
  {
   "cell_type": "code",
   "execution_count": 4,
   "metadata": {
    "ExecuteTime": {
     "end_time": "2017-12-13T05:26:17.711201Z",
     "start_time": "2017-12-13T05:26:17.708530Z"
    },
    "collapsed": true
   },
   "outputs": [],
   "source": [
    "import pandas as pd\n",
    "import os"
   ]
  },
  {
   "cell_type": "code",
   "execution_count": 2,
   "metadata": {
    "ExecuteTime": {
     "end_time": "2017-12-13T05:26:08.964731Z",
     "start_time": "2017-12-13T05:26:08.956851Z"
    },
    "collapsed": true
   },
   "outputs": [],
   "source": [
    "def extract_words_from_dictionary(filepath):\n",
    "    with open(filepath) as f:\n",
    "        df = pd.read_table(f, header=None, names=['word_id', 'word', 'count'])\n",
    "    return df.word.unique().tolist()"
   ]
  },
  {
   "cell_type": "code",
   "execution_count": 3,
   "metadata": {
    "ExecuteTime": {
     "end_time": "2017-12-13T05:26:09.623365Z",
     "start_time": "2017-12-13T05:26:09.620235Z"
    },
    "collapsed": true
   },
   "outputs": [],
   "source": [
    "base_dir = \"/Users/jeriwieringa/Dissertation/text/text/2017-12-modelSet/\""
   ]
  },
  {
   "cell_type": "code",
   "execution_count": 5,
   "metadata": {
    "ExecuteTime": {
     "end_time": "2017-12-13T05:26:50.342028Z",
     "start_time": "2017-12-13T05:26:49.119502Z"
    }
   },
   "outputs": [],
   "source": [
    "full_dictionary = extract_words_from_dictionary(os.path.join(base_dir, \"modelSet_fullDictionary.txt\"))\n",
    "filtered_dictionary = extract_words_from_dictionary(os.path.join(base_dir, \"modelSet_dictionary.txt\"))"
   ]
  },
  {
   "cell_type": "code",
   "execution_count": 6,
   "metadata": {
    "ExecuteTime": {
     "end_time": "2017-12-13T05:26:53.814727Z",
     "start_time": "2017-12-13T05:26:53.483751Z"
    },
    "collapsed": true
   },
   "outputs": [],
   "source": [
    "filter_list = list(set(full_dictionary)-set(filtered_dictionary))"
   ]
  },
  {
   "cell_type": "code",
   "execution_count": 8,
   "metadata": {
    "ExecuteTime": {
     "end_time": "2017-12-13T05:27:25.490527Z",
     "start_time": "2017-12-13T05:27:25.481760Z"
    }
   },
   "outputs": [
    {
     "data": {
      "text/plain": [
       "['larkee',\n",
       " 'yves',\n",
       " 'supor',\n",
       " 'zotun',\n",
       " 'luiokly',\n",
       " 'rogrfo',\n",
       " 'tolstoyan',\n",
       " 'rsocieties',\n",
       " 'comastent',\n",
       " 'arthurita']"
      ]
     },
     "execution_count": 8,
     "metadata": {},
     "output_type": "execute_result"
    }
   ],
   "source": [
    "filter_list[:10]"
   ]
  },
  {
   "cell_type": "code",
   "execution_count": 9,
   "metadata": {
    "ExecuteTime": {
     "end_time": "2017-12-13T05:28:38.063553Z",
     "start_time": "2017-12-13T05:28:37.277757Z"
    },
    "collapsed": true
   },
   "outputs": [],
   "source": [
    "with open(os.path.join(base_dir, \"filter_list.txt\"), \"w\") as o:\n",
    "    for word in filter_list:\n",
    "        o.write(\"{}\\n\".format(word))"
   ]
  },
  {
   "cell_type": "code",
   "execution_count": null,
   "metadata": {
    "collapsed": true
   },
   "outputs": [],
   "source": []
  }
 ],
 "metadata": {
  "anaconda-cloud": {},
  "kernelspec": {
   "display_name": "Python [conda env:dissertation2]",
   "language": "python",
   "name": "conda-env-dissertation2-py"
  },
  "language_info": {
   "codemirror_mode": {
    "name": "ipython",
    "version": 3
   },
   "file_extension": ".py",
   "mimetype": "text/x-python",
   "name": "python",
   "nbconvert_exporter": "python",
   "pygments_lexer": "ipython3",
   "version": "3.5.2"
  }
 },
 "nbformat": 4,
 "nbformat_minor": 2
}
