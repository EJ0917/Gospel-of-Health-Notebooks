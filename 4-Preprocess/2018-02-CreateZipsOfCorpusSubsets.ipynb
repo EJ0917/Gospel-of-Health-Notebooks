{
 "cells": [
  {
   "cell_type": "markdown",
   "metadata": {},
   "source": [
    "The output of this notebook is eight zip files that represent four configurations of the corpus to test the stability of the mallet model as well as the value added by controlling the quality of the documents used to create the models (per [cite]). \n",
    "\n",
    "Variations are:\n",
    "1. Control - Random sample of documents\n",
    "2. Target - Includes only documents with at least 300 tokens and an error rate under 10%\n",
    "3. Test1 - Includes documents with at least 300 tokens, but ignores error rate\n",
    "4. Test2 - Includes documents with at least 300 tokens and an error rate under 20%"
   ]
  },
  {
   "cell_type": "code",
   "execution_count": 31,
   "metadata": {
    "ExecuteTime": {
     "end_time": "2018-02-13T23:32:33.156075Z",
     "start_time": "2018-02-13T23:32:32.972788Z"
    },
    "collapsed": true
   },
   "outputs": [],
   "source": [
    "%load_ext autoreload\n",
    "%autoreload 2"
   ]
  },
  {
   "cell_type": "code",
   "execution_count": 32,
   "metadata": {
    "ExecuteTime": {
     "end_time": "2018-02-13T23:32:35.936929Z",
     "start_time": "2018-02-13T23:32:34.026345Z"
    },
    "collapsed": true
   },
   "outputs": [],
   "source": [
    "import GoH.utilities\n",
    "import math\n",
    "import numpy as np\n",
    "import os\n",
    "import pandas as pd\n",
    "import tarfile"
   ]
  },
  {
   "cell_type": "code",
   "execution_count": 2,
   "metadata": {
    "ExecuteTime": {
     "end_time": "2018-02-13T22:28:57.646704Z",
     "start_time": "2018-02-13T22:28:57.642496Z"
    },
    "collapsed": true
   },
   "outputs": [],
   "source": [
    "fullCorpus = \"/Users/jeriwieringa/Dissertation/text/text/2017-04-Final-Corpus.tar.gz\"\n",
    "statsDir = \"/Users/jeriwieringa/Dissertation/drafts/data/module-3/2017-05-corpus-stats/\"\n",
    "corpusDir = \"/Users/jeriwieringa/Dissertation/text/text/2018-02-CorpusSubSets/\""
   ]
  },
  {
   "cell_type": "code",
   "execution_count": 3,
   "metadata": {
    "ExecuteTime": {
     "end_time": "2018-02-13T22:28:58.628661Z",
     "start_time": "2018-02-13T22:28:58.315928Z"
    },
    "collapsed": true
   },
   "outputs": [],
   "source": [
    "df = pd.read_csv(os.path.join(statsDir, '2017-05-Composite-OCR-statistics.csv'))"
   ]
  },
  {
   "cell_type": "code",
   "execution_count": 26,
   "metadata": {
    "ExecuteTime": {
     "end_time": "2018-02-13T23:12:47.981994Z",
     "start_time": "2018-02-13T23:12:47.902618Z"
    },
    "scrolled": true
   },
   "outputs": [
    {
     "data": {
      "text/html": [
       "<div>\n",
       "<table border=\"1\" class=\"dataframe\">\n",
       "  <thead>\n",
       "    <tr style=\"text-align: right;\">\n",
       "      <th></th>\n",
       "      <th>doc_id</th>\n",
       "      <th>error_rate</th>\n",
       "      <th>num_tokens</th>\n",
       "      <th>num_errors</th>\n",
       "      <th>year</th>\n",
       "      <th>title</th>\n",
       "    </tr>\n",
       "  </thead>\n",
       "  <tbody>\n",
       "    <tr>\n",
       "      <th>0</th>\n",
       "      <td>ADV18981201-V02-01-page1.txt</td>\n",
       "      <td>0.157</td>\n",
       "      <td>51</td>\n",
       "      <td>8</td>\n",
       "      <td>1898</td>\n",
       "      <td>ADV</td>\n",
       "    </tr>\n",
       "    <tr>\n",
       "      <th>1</th>\n",
       "      <td>ADV18981201-V02-01-page10.txt</td>\n",
       "      <td>0.021</td>\n",
       "      <td>240</td>\n",
       "      <td>5</td>\n",
       "      <td>1898</td>\n",
       "      <td>ADV</td>\n",
       "    </tr>\n",
       "    <tr>\n",
       "      <th>2</th>\n",
       "      <td>ADV18981201-V02-01-page11.txt</td>\n",
       "      <td>0.011</td>\n",
       "      <td>282</td>\n",
       "      <td>3</td>\n",
       "      <td>1898</td>\n",
       "      <td>ADV</td>\n",
       "    </tr>\n",
       "    <tr>\n",
       "      <th>3</th>\n",
       "      <td>ADV18981201-V02-01-page12.txt</td>\n",
       "      <td>0.016</td>\n",
       "      <td>315</td>\n",
       "      <td>5</td>\n",
       "      <td>1898</td>\n",
       "      <td>ADV</td>\n",
       "    </tr>\n",
       "    <tr>\n",
       "      <th>4</th>\n",
       "      <td>ADV18981201-V02-01-page13.txt</td>\n",
       "      <td>0.031</td>\n",
       "      <td>353</td>\n",
       "      <td>11</td>\n",
       "      <td>1898</td>\n",
       "      <td>ADV</td>\n",
       "    </tr>\n",
       "    <tr>\n",
       "      <th>5</th>\n",
       "      <td>ADV18981201-V02-01-page14.txt</td>\n",
       "      <td>0.011</td>\n",
       "      <td>275</td>\n",
       "      <td>3</td>\n",
       "      <td>1898</td>\n",
       "      <td>ADV</td>\n",
       "    </tr>\n",
       "    <tr>\n",
       "      <th>6</th>\n",
       "      <td>ADV18981201-V02-01-page15.txt</td>\n",
       "      <td>0.019</td>\n",
       "      <td>308</td>\n",
       "      <td>6</td>\n",
       "      <td>1898</td>\n",
       "      <td>ADV</td>\n",
       "    </tr>\n",
       "    <tr>\n",
       "      <th>7</th>\n",
       "      <td>ADV18981201-V02-01-page16.txt</td>\n",
       "      <td>0.025</td>\n",
       "      <td>316</td>\n",
       "      <td>8</td>\n",
       "      <td>1898</td>\n",
       "      <td>ADV</td>\n",
       "    </tr>\n",
       "    <tr>\n",
       "      <th>8</th>\n",
       "      <td>ADV18981201-V02-01-page17.txt</td>\n",
       "      <td>0.103</td>\n",
       "      <td>223</td>\n",
       "      <td>23</td>\n",
       "      <td>1898</td>\n",
       "      <td>ADV</td>\n",
       "    </tr>\n",
       "    <tr>\n",
       "      <th>9</th>\n",
       "      <td>ADV18981201-V02-01-page18.txt</td>\n",
       "      <td>0.015</td>\n",
       "      <td>264</td>\n",
       "      <td>4</td>\n",
       "      <td>1898</td>\n",
       "      <td>ADV</td>\n",
       "    </tr>\n",
       "    <tr>\n",
       "      <th>10</th>\n",
       "      <td>ADV18981201-V02-01-page19.txt</td>\n",
       "      <td>0.040</td>\n",
       "      <td>277</td>\n",
       "      <td>11</td>\n",
       "      <td>1898</td>\n",
       "      <td>ADV</td>\n",
       "    </tr>\n",
       "    <tr>\n",
       "      <th>11</th>\n",
       "      <td>ADV18981201-V02-01-page2.txt</td>\n",
       "      <td>0.008</td>\n",
       "      <td>240</td>\n",
       "      <td>2</td>\n",
       "      <td>1898</td>\n",
       "      <td>ADV</td>\n",
       "    </tr>\n",
       "    <tr>\n",
       "      <th>12</th>\n",
       "      <td>ADV18981201-V02-01-page20.txt</td>\n",
       "      <td>0.013</td>\n",
       "      <td>315</td>\n",
       "      <td>4</td>\n",
       "      <td>1898</td>\n",
       "      <td>ADV</td>\n",
       "    </tr>\n",
       "    <tr>\n",
       "      <th>13</th>\n",
       "      <td>ADV18981201-V02-01-page21.txt</td>\n",
       "      <td>0.019</td>\n",
       "      <td>261</td>\n",
       "      <td>5</td>\n",
       "      <td>1898</td>\n",
       "      <td>ADV</td>\n",
       "    </tr>\n",
       "    <tr>\n",
       "      <th>14</th>\n",
       "      <td>ADV18981201-V02-01-page22.txt</td>\n",
       "      <td>0.010</td>\n",
       "      <td>286</td>\n",
       "      <td>3</td>\n",
       "      <td>1898</td>\n",
       "      <td>ADV</td>\n",
       "    </tr>\n",
       "    <tr>\n",
       "      <th>15</th>\n",
       "      <td>ADV18981201-V02-01-page23.txt</td>\n",
       "      <td>0.011</td>\n",
       "      <td>261</td>\n",
       "      <td>3</td>\n",
       "      <td>1898</td>\n",
       "      <td>ADV</td>\n",
       "    </tr>\n",
       "    <tr>\n",
       "      <th>16</th>\n",
       "      <td>ADV18981201-V02-01-page24.txt</td>\n",
       "      <td>0.016</td>\n",
       "      <td>254</td>\n",
       "      <td>4</td>\n",
       "      <td>1898</td>\n",
       "      <td>ADV</td>\n",
       "    </tr>\n",
       "    <tr>\n",
       "      <th>17</th>\n",
       "      <td>ADV18981201-V02-01-page25.txt</td>\n",
       "      <td>0.035</td>\n",
       "      <td>254</td>\n",
       "      <td>9</td>\n",
       "      <td>1898</td>\n",
       "      <td>ADV</td>\n",
       "    </tr>\n",
       "    <tr>\n",
       "      <th>18</th>\n",
       "      <td>ADV18981201-V02-01-page26.txt</td>\n",
       "      <td>0.202</td>\n",
       "      <td>129</td>\n",
       "      <td>26</td>\n",
       "      <td>1898</td>\n",
       "      <td>ADV</td>\n",
       "    </tr>\n",
       "    <tr>\n",
       "      <th>19</th>\n",
       "      <td>ADV18981201-V02-01-page3.txt</td>\n",
       "      <td>0.017</td>\n",
       "      <td>242</td>\n",
       "      <td>4</td>\n",
       "      <td>1898</td>\n",
       "      <td>ADV</td>\n",
       "    </tr>\n",
       "    <tr>\n",
       "      <th>20</th>\n",
       "      <td>ADV18981201-V02-01-page4.txt</td>\n",
       "      <td>0.008</td>\n",
       "      <td>245</td>\n",
       "      <td>2</td>\n",
       "      <td>1898</td>\n",
       "      <td>ADV</td>\n",
       "    </tr>\n",
       "    <tr>\n",
       "      <th>21</th>\n",
       "      <td>ADV18981201-V02-01-page5.txt</td>\n",
       "      <td>0.027</td>\n",
       "      <td>261</td>\n",
       "      <td>7</td>\n",
       "      <td>1898</td>\n",
       "      <td>ADV</td>\n",
       "    </tr>\n",
       "    <tr>\n",
       "      <th>22</th>\n",
       "      <td>ADV18981201-V02-01-page6.txt</td>\n",
       "      <td>0.024</td>\n",
       "      <td>253</td>\n",
       "      <td>6</td>\n",
       "      <td>1898</td>\n",
       "      <td>ADV</td>\n",
       "    </tr>\n",
       "    <tr>\n",
       "      <th>23</th>\n",
       "      <td>ADV18981201-V02-01-page7.txt</td>\n",
       "      <td>0.008</td>\n",
       "      <td>252</td>\n",
       "      <td>2</td>\n",
       "      <td>1898</td>\n",
       "      <td>ADV</td>\n",
       "    </tr>\n",
       "    <tr>\n",
       "      <th>24</th>\n",
       "      <td>ADV18981201-V02-01-page8.txt</td>\n",
       "      <td>0.017</td>\n",
       "      <td>237</td>\n",
       "      <td>4</td>\n",
       "      <td>1898</td>\n",
       "      <td>ADV</td>\n",
       "    </tr>\n",
       "    <tr>\n",
       "      <th>25</th>\n",
       "      <td>ADV18981201-V02-01-page9.txt</td>\n",
       "      <td>0.077</td>\n",
       "      <td>195</td>\n",
       "      <td>15</td>\n",
       "      <td>1898</td>\n",
       "      <td>ADV</td>\n",
       "    </tr>\n",
       "    <tr>\n",
       "      <th>26</th>\n",
       "      <td>ADV18990101-V01-01-page1.txt</td>\n",
       "      <td>0.750</td>\n",
       "      <td>4</td>\n",
       "      <td>3</td>\n",
       "      <td>1899</td>\n",
       "      <td>ADV</td>\n",
       "    </tr>\n",
       "    <tr>\n",
       "      <th>27</th>\n",
       "      <td>ADV18990101-V01-01-page10.txt</td>\n",
       "      <td>0.022</td>\n",
       "      <td>224</td>\n",
       "      <td>5</td>\n",
       "      <td>1899</td>\n",
       "      <td>ADV</td>\n",
       "    </tr>\n",
       "    <tr>\n",
       "      <th>28</th>\n",
       "      <td>ADV18990101-V01-01-page11.txt</td>\n",
       "      <td>0.004</td>\n",
       "      <td>225</td>\n",
       "      <td>1</td>\n",
       "      <td>1899</td>\n",
       "      <td>ADV</td>\n",
       "    </tr>\n",
       "    <tr>\n",
       "      <th>29</th>\n",
       "      <td>ADV18990101-V01-01-page12.txt</td>\n",
       "      <td>0.013</td>\n",
       "      <td>232</td>\n",
       "      <td>3</td>\n",
       "      <td>1899</td>\n",
       "      <td>ADV</td>\n",
       "    </tr>\n",
       "    <tr>\n",
       "      <th>...</th>\n",
       "      <td>...</td>\n",
       "      <td>...</td>\n",
       "      <td>...</td>\n",
       "      <td>...</td>\n",
       "      <td>...</td>\n",
       "      <td>...</td>\n",
       "    </tr>\n",
       "    <tr>\n",
       "      <th>197913</th>\n",
       "      <td>YI19200106-V68-01-page9.txt</td>\n",
       "      <td>0.038</td>\n",
       "      <td>846</td>\n",
       "      <td>32</td>\n",
       "      <td>1920</td>\n",
       "      <td>YI</td>\n",
       "    </tr>\n",
       "    <tr>\n",
       "      <th>197914</th>\n",
       "      <td>YI19200113-V68-02-page1.txt</td>\n",
       "      <td>0.279</td>\n",
       "      <td>61</td>\n",
       "      <td>17</td>\n",
       "      <td>1920</td>\n",
       "      <td>YI</td>\n",
       "    </tr>\n",
       "    <tr>\n",
       "      <th>197915</th>\n",
       "      <td>YI19200113-V68-02-page10.txt</td>\n",
       "      <td>0.028</td>\n",
       "      <td>1193</td>\n",
       "      <td>34</td>\n",
       "      <td>1920</td>\n",
       "      <td>YI</td>\n",
       "    </tr>\n",
       "    <tr>\n",
       "      <th>197916</th>\n",
       "      <td>YI19200113-V68-02-page11.txt</td>\n",
       "      <td>0.013</td>\n",
       "      <td>927</td>\n",
       "      <td>12</td>\n",
       "      <td>1920</td>\n",
       "      <td>YI</td>\n",
       "    </tr>\n",
       "    <tr>\n",
       "      <th>197917</th>\n",
       "      <td>YI19200113-V68-02-page12.txt</td>\n",
       "      <td>0.016</td>\n",
       "      <td>1359</td>\n",
       "      <td>22</td>\n",
       "      <td>1920</td>\n",
       "      <td>YI</td>\n",
       "    </tr>\n",
       "    <tr>\n",
       "      <th>197918</th>\n",
       "      <td>YI19200113-V68-02-page13.txt</td>\n",
       "      <td>0.015</td>\n",
       "      <td>1572</td>\n",
       "      <td>23</td>\n",
       "      <td>1920</td>\n",
       "      <td>YI</td>\n",
       "    </tr>\n",
       "    <tr>\n",
       "      <th>197919</th>\n",
       "      <td>YI19200113-V68-02-page14.txt</td>\n",
       "      <td>0.011</td>\n",
       "      <td>1033</td>\n",
       "      <td>11</td>\n",
       "      <td>1920</td>\n",
       "      <td>YI</td>\n",
       "    </tr>\n",
       "    <tr>\n",
       "      <th>197920</th>\n",
       "      <td>YI19200113-V68-02-page2.txt</td>\n",
       "      <td>0.007</td>\n",
       "      <td>1121</td>\n",
       "      <td>8</td>\n",
       "      <td>1920</td>\n",
       "      <td>YI</td>\n",
       "    </tr>\n",
       "    <tr>\n",
       "      <th>197921</th>\n",
       "      <td>YI19200113-V68-02-page3.txt</td>\n",
       "      <td>0.006</td>\n",
       "      <td>1035</td>\n",
       "      <td>6</td>\n",
       "      <td>1920</td>\n",
       "      <td>YI</td>\n",
       "    </tr>\n",
       "    <tr>\n",
       "      <th>197922</th>\n",
       "      <td>YI19200113-V68-02-page4.txt</td>\n",
       "      <td>0.008</td>\n",
       "      <td>995</td>\n",
       "      <td>8</td>\n",
       "      <td>1920</td>\n",
       "      <td>YI</td>\n",
       "    </tr>\n",
       "    <tr>\n",
       "      <th>197923</th>\n",
       "      <td>YI19200113-V68-02-page5.txt</td>\n",
       "      <td>0.008</td>\n",
       "      <td>1197</td>\n",
       "      <td>10</td>\n",
       "      <td>1920</td>\n",
       "      <td>YI</td>\n",
       "    </tr>\n",
       "    <tr>\n",
       "      <th>197924</th>\n",
       "      <td>YI19200113-V68-02-page6.txt</td>\n",
       "      <td>0.003</td>\n",
       "      <td>1152</td>\n",
       "      <td>3</td>\n",
       "      <td>1920</td>\n",
       "      <td>YI</td>\n",
       "    </tr>\n",
       "    <tr>\n",
       "      <th>197925</th>\n",
       "      <td>YI19200113-V68-02-page7.txt</td>\n",
       "      <td>0.013</td>\n",
       "      <td>1151</td>\n",
       "      <td>15</td>\n",
       "      <td>1920</td>\n",
       "      <td>YI</td>\n",
       "    </tr>\n",
       "    <tr>\n",
       "      <th>197926</th>\n",
       "      <td>YI19200113-V68-02-page8.txt</td>\n",
       "      <td>0.011</td>\n",
       "      <td>1110</td>\n",
       "      <td>12</td>\n",
       "      <td>1920</td>\n",
       "      <td>YI</td>\n",
       "    </tr>\n",
       "    <tr>\n",
       "      <th>197927</th>\n",
       "      <td>YI19200113-V68-02-page9.txt</td>\n",
       "      <td>0.011</td>\n",
       "      <td>847</td>\n",
       "      <td>9</td>\n",
       "      <td>1920</td>\n",
       "      <td>YI</td>\n",
       "    </tr>\n",
       "    <tr>\n",
       "      <th>197928</th>\n",
       "      <td>YI19200120-V68-03-page1.txt</td>\n",
       "      <td>0.000</td>\n",
       "      <td>32</td>\n",
       "      <td>0</td>\n",
       "      <td>1920</td>\n",
       "      <td>YI</td>\n",
       "    </tr>\n",
       "    <tr>\n",
       "      <th>197929</th>\n",
       "      <td>YI19200120-V68-03-page10.txt</td>\n",
       "      <td>0.013</td>\n",
       "      <td>843</td>\n",
       "      <td>11</td>\n",
       "      <td>1920</td>\n",
       "      <td>YI</td>\n",
       "    </tr>\n",
       "    <tr>\n",
       "      <th>197930</th>\n",
       "      <td>YI19200120-V68-03-page11.txt</td>\n",
       "      <td>0.013</td>\n",
       "      <td>1190</td>\n",
       "      <td>16</td>\n",
       "      <td>1920</td>\n",
       "      <td>YI</td>\n",
       "    </tr>\n",
       "    <tr>\n",
       "      <th>197931</th>\n",
       "      <td>YI19200120-V68-03-page12.txt</td>\n",
       "      <td>0.011</td>\n",
       "      <td>995</td>\n",
       "      <td>11</td>\n",
       "      <td>1920</td>\n",
       "      <td>YI</td>\n",
       "    </tr>\n",
       "    <tr>\n",
       "      <th>197932</th>\n",
       "      <td>YI19200120-V68-03-page13.txt</td>\n",
       "      <td>0.031</td>\n",
       "      <td>1276</td>\n",
       "      <td>39</td>\n",
       "      <td>1920</td>\n",
       "      <td>YI</td>\n",
       "    </tr>\n",
       "    <tr>\n",
       "      <th>197933</th>\n",
       "      <td>YI19200120-V68-03-page14.txt</td>\n",
       "      <td>0.013</td>\n",
       "      <td>1310</td>\n",
       "      <td>17</td>\n",
       "      <td>1920</td>\n",
       "      <td>YI</td>\n",
       "    </tr>\n",
       "    <tr>\n",
       "      <th>197934</th>\n",
       "      <td>YI19200120-V68-03-page15.txt</td>\n",
       "      <td>NaN</td>\n",
       "      <td>0</td>\n",
       "      <td>0</td>\n",
       "      <td>1920</td>\n",
       "      <td>YI</td>\n",
       "    </tr>\n",
       "    <tr>\n",
       "      <th>197935</th>\n",
       "      <td>YI19200120-V68-03-page2.txt</td>\n",
       "      <td>0.020</td>\n",
       "      <td>1155</td>\n",
       "      <td>23</td>\n",
       "      <td>1920</td>\n",
       "      <td>YI</td>\n",
       "    </tr>\n",
       "    <tr>\n",
       "      <th>197936</th>\n",
       "      <td>YI19200120-V68-03-page3.txt</td>\n",
       "      <td>0.008</td>\n",
       "      <td>951</td>\n",
       "      <td>8</td>\n",
       "      <td>1920</td>\n",
       "      <td>YI</td>\n",
       "    </tr>\n",
       "    <tr>\n",
       "      <th>197937</th>\n",
       "      <td>YI19200120-V68-03-page4.txt</td>\n",
       "      <td>0.008</td>\n",
       "      <td>1226</td>\n",
       "      <td>10</td>\n",
       "      <td>1920</td>\n",
       "      <td>YI</td>\n",
       "    </tr>\n",
       "    <tr>\n",
       "      <th>197938</th>\n",
       "      <td>YI19200120-V68-03-page5.txt</td>\n",
       "      <td>0.004</td>\n",
       "      <td>1158</td>\n",
       "      <td>5</td>\n",
       "      <td>1920</td>\n",
       "      <td>YI</td>\n",
       "    </tr>\n",
       "    <tr>\n",
       "      <th>197939</th>\n",
       "      <td>YI19200120-V68-03-page6.txt</td>\n",
       "      <td>0.020</td>\n",
       "      <td>1087</td>\n",
       "      <td>22</td>\n",
       "      <td>1920</td>\n",
       "      <td>YI</td>\n",
       "    </tr>\n",
       "    <tr>\n",
       "      <th>197940</th>\n",
       "      <td>YI19200120-V68-03-page7.txt</td>\n",
       "      <td>0.036</td>\n",
       "      <td>855</td>\n",
       "      <td>31</td>\n",
       "      <td>1920</td>\n",
       "      <td>YI</td>\n",
       "    </tr>\n",
       "    <tr>\n",
       "      <th>197941</th>\n",
       "      <td>YI19200120-V68-03-page8.txt</td>\n",
       "      <td>0.005</td>\n",
       "      <td>1132</td>\n",
       "      <td>6</td>\n",
       "      <td>1920</td>\n",
       "      <td>YI</td>\n",
       "    </tr>\n",
       "    <tr>\n",
       "      <th>197942</th>\n",
       "      <td>YI19200120-V68-03-page9.txt</td>\n",
       "      <td>0.019</td>\n",
       "      <td>728</td>\n",
       "      <td>14</td>\n",
       "      <td>1920</td>\n",
       "      <td>YI</td>\n",
       "    </tr>\n",
       "  </tbody>\n",
       "</table>\n",
       "<p>197943 rows × 6 columns</p>\n",
       "</div>"
      ],
      "text/plain": [
       "                               doc_id  error_rate  num_tokens  num_errors  \\\n",
       "0        ADV18981201-V02-01-page1.txt       0.157          51           8   \n",
       "1       ADV18981201-V02-01-page10.txt       0.021         240           5   \n",
       "2       ADV18981201-V02-01-page11.txt       0.011         282           3   \n",
       "3       ADV18981201-V02-01-page12.txt       0.016         315           5   \n",
       "4       ADV18981201-V02-01-page13.txt       0.031         353          11   \n",
       "5       ADV18981201-V02-01-page14.txt       0.011         275           3   \n",
       "6       ADV18981201-V02-01-page15.txt       0.019         308           6   \n",
       "7       ADV18981201-V02-01-page16.txt       0.025         316           8   \n",
       "8       ADV18981201-V02-01-page17.txt       0.103         223          23   \n",
       "9       ADV18981201-V02-01-page18.txt       0.015         264           4   \n",
       "10      ADV18981201-V02-01-page19.txt       0.040         277          11   \n",
       "11       ADV18981201-V02-01-page2.txt       0.008         240           2   \n",
       "12      ADV18981201-V02-01-page20.txt       0.013         315           4   \n",
       "13      ADV18981201-V02-01-page21.txt       0.019         261           5   \n",
       "14      ADV18981201-V02-01-page22.txt       0.010         286           3   \n",
       "15      ADV18981201-V02-01-page23.txt       0.011         261           3   \n",
       "16      ADV18981201-V02-01-page24.txt       0.016         254           4   \n",
       "17      ADV18981201-V02-01-page25.txt       0.035         254           9   \n",
       "18      ADV18981201-V02-01-page26.txt       0.202         129          26   \n",
       "19       ADV18981201-V02-01-page3.txt       0.017         242           4   \n",
       "20       ADV18981201-V02-01-page4.txt       0.008         245           2   \n",
       "21       ADV18981201-V02-01-page5.txt       0.027         261           7   \n",
       "22       ADV18981201-V02-01-page6.txt       0.024         253           6   \n",
       "23       ADV18981201-V02-01-page7.txt       0.008         252           2   \n",
       "24       ADV18981201-V02-01-page8.txt       0.017         237           4   \n",
       "25       ADV18981201-V02-01-page9.txt       0.077         195          15   \n",
       "26       ADV18990101-V01-01-page1.txt       0.750           4           3   \n",
       "27      ADV18990101-V01-01-page10.txt       0.022         224           5   \n",
       "28      ADV18990101-V01-01-page11.txt       0.004         225           1   \n",
       "29      ADV18990101-V01-01-page12.txt       0.013         232           3   \n",
       "...                               ...         ...         ...         ...   \n",
       "197913    YI19200106-V68-01-page9.txt       0.038         846          32   \n",
       "197914    YI19200113-V68-02-page1.txt       0.279          61          17   \n",
       "197915   YI19200113-V68-02-page10.txt       0.028        1193          34   \n",
       "197916   YI19200113-V68-02-page11.txt       0.013         927          12   \n",
       "197917   YI19200113-V68-02-page12.txt       0.016        1359          22   \n",
       "197918   YI19200113-V68-02-page13.txt       0.015        1572          23   \n",
       "197919   YI19200113-V68-02-page14.txt       0.011        1033          11   \n",
       "197920    YI19200113-V68-02-page2.txt       0.007        1121           8   \n",
       "197921    YI19200113-V68-02-page3.txt       0.006        1035           6   \n",
       "197922    YI19200113-V68-02-page4.txt       0.008         995           8   \n",
       "197923    YI19200113-V68-02-page5.txt       0.008        1197          10   \n",
       "197924    YI19200113-V68-02-page6.txt       0.003        1152           3   \n",
       "197925    YI19200113-V68-02-page7.txt       0.013        1151          15   \n",
       "197926    YI19200113-V68-02-page8.txt       0.011        1110          12   \n",
       "197927    YI19200113-V68-02-page9.txt       0.011         847           9   \n",
       "197928    YI19200120-V68-03-page1.txt       0.000          32           0   \n",
       "197929   YI19200120-V68-03-page10.txt       0.013         843          11   \n",
       "197930   YI19200120-V68-03-page11.txt       0.013        1190          16   \n",
       "197931   YI19200120-V68-03-page12.txt       0.011         995          11   \n",
       "197932   YI19200120-V68-03-page13.txt       0.031        1276          39   \n",
       "197933   YI19200120-V68-03-page14.txt       0.013        1310          17   \n",
       "197934   YI19200120-V68-03-page15.txt         NaN           0           0   \n",
       "197935    YI19200120-V68-03-page2.txt       0.020        1155          23   \n",
       "197936    YI19200120-V68-03-page3.txt       0.008         951           8   \n",
       "197937    YI19200120-V68-03-page4.txt       0.008        1226          10   \n",
       "197938    YI19200120-V68-03-page5.txt       0.004        1158           5   \n",
       "197939    YI19200120-V68-03-page6.txt       0.020        1087          22   \n",
       "197940    YI19200120-V68-03-page7.txt       0.036         855          31   \n",
       "197941    YI19200120-V68-03-page8.txt       0.005        1132           6   \n",
       "197942    YI19200120-V68-03-page9.txt       0.019         728          14   \n",
       "\n",
       "        year title  \n",
       "0       1898   ADV  \n",
       "1       1898   ADV  \n",
       "2       1898   ADV  \n",
       "3       1898   ADV  \n",
       "4       1898   ADV  \n",
       "5       1898   ADV  \n",
       "6       1898   ADV  \n",
       "7       1898   ADV  \n",
       "8       1898   ADV  \n",
       "9       1898   ADV  \n",
       "10      1898   ADV  \n",
       "11      1898   ADV  \n",
       "12      1898   ADV  \n",
       "13      1898   ADV  \n",
       "14      1898   ADV  \n",
       "15      1898   ADV  \n",
       "16      1898   ADV  \n",
       "17      1898   ADV  \n",
       "18      1898   ADV  \n",
       "19      1898   ADV  \n",
       "20      1898   ADV  \n",
       "21      1898   ADV  \n",
       "22      1898   ADV  \n",
       "23      1898   ADV  \n",
       "24      1898   ADV  \n",
       "25      1898   ADV  \n",
       "26      1899   ADV  \n",
       "27      1899   ADV  \n",
       "28      1899   ADV  \n",
       "29      1899   ADV  \n",
       "...      ...   ...  \n",
       "197913  1920    YI  \n",
       "197914  1920    YI  \n",
       "197915  1920    YI  \n",
       "197916  1920    YI  \n",
       "197917  1920    YI  \n",
       "197918  1920    YI  \n",
       "197919  1920    YI  \n",
       "197920  1920    YI  \n",
       "197921  1920    YI  \n",
       "197922  1920    YI  \n",
       "197923  1920    YI  \n",
       "197924  1920    YI  \n",
       "197925  1920    YI  \n",
       "197926  1920    YI  \n",
       "197927  1920    YI  \n",
       "197928  1920    YI  \n",
       "197929  1920    YI  \n",
       "197930  1920    YI  \n",
       "197931  1920    YI  \n",
       "197932  1920    YI  \n",
       "197933  1920    YI  \n",
       "197934  1920    YI  \n",
       "197935  1920    YI  \n",
       "197936  1920    YI  \n",
       "197937  1920    YI  \n",
       "197938  1920    YI  \n",
       "197939  1920    YI  \n",
       "197940  1920    YI  \n",
       "197941  1920    YI  \n",
       "197942  1920    YI  \n",
       "\n",
       "[197943 rows x 6 columns]"
      ]
     },
     "execution_count": 26,
     "metadata": {},
     "output_type": "execute_result"
    }
   ],
   "source": [
    "df"
   ]
  },
  {
   "cell_type": "code",
   "execution_count": 5,
   "metadata": {
    "ExecuteTime": {
     "end_time": "2018-02-13T22:29:09.055675Z",
     "start_time": "2018-02-13T22:29:09.048809Z"
    }
   },
   "outputs": [],
   "source": [
    "fullCorpusObject = tarfile.open(fullCorpus)"
   ]
  },
  {
   "cell_type": "markdown",
   "metadata": {},
   "source": [
    "Quick sanity check to makes sure the lists match."
   ]
  },
  {
   "cell_type": "code",
   "execution_count": 6,
   "metadata": {
    "ExecuteTime": {
     "end_time": "2018-02-13T22:29:50.202399Z",
     "start_time": "2018-02-13T22:29:10.411606Z"
    }
   },
   "outputs": [],
   "source": [
    "tarPathNames = fullCorpusObject.getnames()[1:]\n",
    "\n",
    "tarFileNames = []\n",
    "for path in tarPathNames:\n",
    "    tarFileNames.append(os.path.basename(path))"
   ]
  },
  {
   "cell_type": "code",
   "execution_count": 7,
   "metadata": {
    "ExecuteTime": {
     "end_time": "2018-02-13T22:29:50.219935Z",
     "start_time": "2018-02-13T22:29:50.204354Z"
    },
    "collapsed": true
   },
   "outputs": [],
   "source": [
    "statsFileNames = df['doc_id'].tolist()"
   ]
  },
  {
   "cell_type": "code",
   "execution_count": 14,
   "metadata": {
    "ExecuteTime": {
     "end_time": "2018-02-13T22:37:08.866802Z",
     "start_time": "2018-02-13T22:37:08.859792Z"
    }
   },
   "outputs": [
    {
     "name": "stdout",
     "output_type": "stream",
     "text": [
      "['2017-04-Final-Corpus/ADV18981201-V02-01-page1.txt', '2017-04-Final-Corpus/ADV18981201-V02-01-page10.txt', '2017-04-Final-Corpus/ADV18981201-V02-01-page11.txt', '2017-04-Final-Corpus/ADV18981201-V02-01-page12.txt', '2017-04-Final-Corpus/ADV18981201-V02-01-page13.txt', '2017-04-Final-Corpus/ADV18981201-V02-01-page14.txt', '2017-04-Final-Corpus/ADV18981201-V02-01-page15.txt', '2017-04-Final-Corpus/ADV18981201-V02-01-page16.txt', '2017-04-Final-Corpus/ADV18981201-V02-01-page17.txt', '2017-04-Final-Corpus/ADV18981201-V02-01-page18.txt']\n"
     ]
    }
   ],
   "source": [
    "# print(statsFileNames[:10])\n",
    "# print(tarFileNames[:10])\n",
    "print (tarPathNames[:10])"
   ]
  },
  {
   "cell_type": "code",
   "execution_count": 9,
   "metadata": {
    "ExecuteTime": {
     "end_time": "2018-02-13T22:29:50.371939Z",
     "start_time": "2018-02-13T22:29:50.228277Z"
    }
   },
   "outputs": [
    {
     "data": {
      "text/plain": [
       "0"
      ]
     },
     "execution_count": 9,
     "metadata": {},
     "output_type": "execute_result"
    }
   ],
   "source": [
    "len(list(set(tarFileNames)-set(statsFileNames)))"
   ]
  },
  {
   "cell_type": "markdown",
   "metadata": {},
   "source": [
    "## Create Random Sample"
   ]
  },
  {
   "cell_type": "code",
   "execution_count": 10,
   "metadata": {
    "ExecuteTime": {
     "end_time": "2018-02-13T22:30:04.168294Z",
     "start_time": "2018-02-13T22:30:04.163574Z"
    },
    "collapsed": true
   },
   "outputs": [],
   "source": [
    "sampleSize = math.ceil(.4*len(statsFileNames))\n",
    "# print(sampleSize)"
   ]
  },
  {
   "cell_type": "code",
   "execution_count": 11,
   "metadata": {
    "ExecuteTime": {
     "end_time": "2018-02-13T22:30:05.154202Z",
     "start_time": "2018-02-13T22:30:04.974258Z"
    }
   },
   "outputs": [],
   "source": [
    "randomSample = np.random.choice(statsFileNames, sampleSize, replace=False).tolist()\n",
    "# print(randomSample[:10])"
   ]
  },
  {
   "cell_type": "code",
   "execution_count": 25,
   "metadata": {
    "ExecuteTime": {
     "end_time": "2018-02-13T23:06:07.917797Z",
     "start_time": "2018-02-13T22:56:01.347958Z"
    }
   },
   "outputs": [],
   "source": [
    "#https://stackoverflow.com/questions/17616340/add-files-from-one-tar-into-another-tar-in-python\n",
    "\n",
    "# randomSampleTar = tarfile.open(os.path.join(corpusDir, 'randomSample.tar.gz'), 'w:gz')\n",
    "# randomHoldoutTar = tarfile.open(os.path.join(corpusDir, 'randomHoldout.tar.gz'), 'w:gz')\n",
    "\n",
    "# for member in fullCorpusObject.getmembers()[1:]:\n",
    "#     if os.path.basename(member.name) in randomSample:\n",
    "#         randomSampleTar.addfile(member, fullCorpusObject.extractfile(member))\n",
    "#     else:\n",
    "#         randomHoldoutTar.addfile(member, fullCorpusObject.extractfile(member))\n",
    "\n",
    "# randomSampleTar.close()\n",
    "# randomHoldoutTar.close()"
   ]
  },
  {
   "cell_type": "code",
   "execution_count": null,
   "metadata": {
    "collapsed": true
   },
   "outputs": [],
   "source": [
    "# Abstracted function to library. Use this version if run second time.\n",
    "\n",
    "# utilities.create_tar_files(corpusDir, 'random', fullCorpusObject, randomSample)"
   ]
  },
  {
   "cell_type": "markdown",
   "metadata": {},
   "source": [
    "## Create Target Subset"
   ]
  },
  {
   "cell_type": "code",
   "execution_count": 28,
   "metadata": {
    "ExecuteTime": {
     "end_time": "2018-02-13T23:16:44.932918Z",
     "start_time": "2018-02-13T23:16:44.822685Z"
    }
   },
   "outputs": [],
   "source": [
    "target_df = df[(df['num_tokens'] >= 300) & (df['error_rate'] < 0.1)]"
   ]
  },
  {
   "cell_type": "code",
   "execution_count": 29,
   "metadata": {
    "ExecuteTime": {
     "end_time": "2018-02-13T23:20:54.166896Z",
     "start_time": "2018-02-13T23:20:54.161968Z"
    }
   },
   "outputs": [
    {
     "data": {
      "text/plain": [
       "180844"
      ]
     },
     "execution_count": 29,
     "metadata": {},
     "output_type": "execute_result"
    }
   ],
   "source": [
    "len(target_df)"
   ]
  },
  {
   "cell_type": "code",
   "execution_count": 34,
   "metadata": {
    "ExecuteTime": {
     "end_time": "2018-02-13T23:46:42.713940Z",
     "start_time": "2018-02-13T23:35:55.262559Z"
    }
   },
   "outputs": [],
   "source": [
    "# utilities.create_tar_files(corpusDir, 'target_300_10_', fullCorpusObject, target_df['doc_id'].tolist())"
   ]
  },
  {
   "cell_type": "markdown",
   "metadata": {},
   "source": [
    "## Create Test Set"
   ]
  },
  {
   "cell_type": "markdown",
   "metadata": {},
   "source": [
    "For this test, I filtered only by min number of tokens"
   ]
  },
  {
   "cell_type": "code",
   "execution_count": 41,
   "metadata": {
    "ExecuteTime": {
     "end_time": "2018-02-13T23:56:34.639138Z",
     "start_time": "2018-02-13T23:56:34.448501Z"
    },
    "collapsed": true
   },
   "outputs": [],
   "source": [
    "test_df = df[df['num_tokens'] >= 300]"
   ]
  },
  {
   "cell_type": "code",
   "execution_count": 42,
   "metadata": {
    "ExecuteTime": {
     "end_time": "2018-02-13T23:56:40.078486Z",
     "start_time": "2018-02-13T23:56:40.024589Z"
    },
    "collapsed": true
   },
   "outputs": [],
   "source": [
    "targetList = test_df['doc_id'].tolist()"
   ]
  },
  {
   "cell_type": "code",
   "execution_count": 43,
   "metadata": {
    "ExecuteTime": {
     "end_time": "2018-02-14T00:08:30.841900Z",
     "start_time": "2018-02-13T23:57:29.834813Z"
    }
   },
   "outputs": [],
   "source": [
    "utilities.create_tar_files(corpusDir, 'test_300_noMax_', fullCorpusObject, targetList)"
   ]
  },
  {
   "cell_type": "markdown",
   "metadata": {},
   "source": [
    "## Create Second Test Set"
   ]
  },
  {
   "cell_type": "markdown",
   "metadata": {},
   "source": [
    "For the second test, I filtered by a 25% error rate"
   ]
  },
  {
   "cell_type": "code",
   "execution_count": 44,
   "metadata": {
    "ExecuteTime": {
     "end_time": "2018-02-14T00:20:14.151893Z",
     "start_time": "2018-02-14T00:20:13.984255Z"
    },
    "collapsed": true
   },
   "outputs": [],
   "source": [
    "test_df2 = df[(df['num_tokens'] >= 300) & (df['error_rate'] < 0.25)]"
   ]
  },
  {
   "cell_type": "code",
   "execution_count": 45,
   "metadata": {
    "ExecuteTime": {
     "end_time": "2018-02-14T00:20:14.417410Z",
     "start_time": "2018-02-14T00:20:14.376698Z"
    },
    "collapsed": true
   },
   "outputs": [],
   "source": [
    "testList = test_df2['doc_id'].tolist()"
   ]
  },
  {
   "cell_type": "code",
   "execution_count": 47,
   "metadata": {
    "ExecuteTime": {
     "end_time": "2018-02-14T00:31:38.803540Z",
     "start_time": "2018-02-14T00:20:22.883605Z"
    }
   },
   "outputs": [],
   "source": [
    "utilities.create_tar_files(corpusDir, 'test_300_25_', fullCorpusObject, testList)"
   ]
  },
  {
   "cell_type": "code",
   "execution_count": null,
   "metadata": {
    "collapsed": true
   },
   "outputs": [],
   "source": []
  }
 ],
 "metadata": {
  "anaconda-cloud": {},
  "kernelspec": {
   "display_name": "Python [conda env:dissertation2]",
   "language": "python",
   "name": "conda-env-dissertation2-py"
  },
  "language_info": {
   "codemirror_mode": {
    "name": "ipython",
    "version": 3
   },
   "file_extension": ".py",
   "mimetype": "text/x-python",
   "name": "python",
   "nbconvert_exporter": "python",
   "pygments_lexer": "ipython3",
   "version": "3.5.2"
  }
 },
 "nbformat": 4,
 "nbformat_minor": 2
}
