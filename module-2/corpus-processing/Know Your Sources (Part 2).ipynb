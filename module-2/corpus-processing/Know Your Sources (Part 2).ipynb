{
 "cells": [
  {
   "cell_type": "markdown",
   "metadata": {},
   "source": [
    "So far in this series I have discussed [gathering a collection of texts](http://jeriwieringa.com/2017/04/25/gathering-sources/), [extracting the text](http://jeriwieringa.com/2017/04/27/Extract-Text-from-PDFs/), and [identifying the coverage](http://jeriwieringa.com/2017/05/05/know-your-sources-1/) of the corpus. My next step is to assess the quality of the source base. \n",
    "\n",
    "Because I am interested in problems of categorization and discourse, it is important that I have a mechanism to verify that the text layer provides a sufficiently accurate representation of the original print. While processes such as keyword search or computing document similarity can be performed so as to be resilient to OCR errors, an abundance of errors in the text used in topic modeling would make the topic models unreliable for identifying documents and for surfacing patterns of discourse.[^4] Without some external information against which to compare the text, it is impossible to know what the overall \"health\" of the corpus is, to identify what steps need to be taken to improve the quality of the text, and to determine whether the steps I take are effective.\n",
    "\n",
    "Unlike the newspapers digitized by the *[Chronicling America](http://chroniclingamerica.loc.gov/)* project, which are encouraged to include \"confidence level data\" in the OCR data by the Library of Congress guidelines,[^1] the interface provided by the SDA provides very little information about the processes by which the periodicals were digitized and the expected quality of the OCR. As a result, the quality of the resulting text layers is obscured. A brief glance through the resulting text files suggests that OCR is of average quality -- good enough to be legible but with enough errors to raise concerns. At the same time, the age of the periodicals and the idiosyncrasies of 19th century typography and layout suggest that these documents contain sections that were likely a challenge for the OCR engine.\n",
    "\n",
    "There are two general methods for evaluating the accuracy of transcribed textual data: comparison of the generated text to some \"ground truth\" (text that is known to be accurate) or comparison of the generated text to a bank of known words.\n",
    "\n",
    "The first method is used by Simon Tanner, Trevor Muñoz, and Pich Hemy Ros in their evaluation of the OCR quality of the British Library's 19th Century Online Newspaper Archive. Working with a sample of 1% of the 2 million pages digitized by the British Library, the team calculated the highest rates of OCR accuracy achieved by comparing the generated XML text to a \"double re-keyed\" ground-truth version.[^2] Having a verified ground-truth document enabled the team to provide accurate results about the quality of generated texts (which were generally disappointing, particularly for proper nouns and \"significant\" or content words). Their approach, however, is labor and time intensive -- more than can be taken on by most individual scholars with limited financial resources.\n",
    "\n",
    "The second approach, which the *[Mapping Texts](http://mappingtexts.org/)* team used for their analysis of the OCR accuracy of the Texas newspapers in *[Chronicling America](http://chroniclingamerica.loc.gov/)*, is to compare the generated text to an authoritative wordlist and compute the number of words outside the approved set.[^6] This approach is easier to implement, as it takes much less time to compile a list of relevant words than to re-key even a 1% sample of the text. However, the results are less accurate. The method is blind to places where the OCR engine produced a word that, while in the wordlist, does not match the text on the page or where spelling variations that occur on the page are flagged as OCR errors because they are not included in the word list. Because of the possibility of both false positives and false negatives, the results are an approximate representation of the accuracy of the OCR.\n",
    "\n",
    "Weighing the disadvantages of both approaches, I chose to use the second method, comparing the generated OCR to an authoritative wordlist. This method was the most practical for me to implement within the constraints of the dissertation. In addition, a bank of subject appropriate words has utility for automated spelling correction, as is suggested in the research of Thomas Lasko and Susan Hauser on methods for OCR correction of the text from the National Library of Medicine.[^5] These factors shaped my decision to evaluate the quality of the extracted text by comparing it to an external word list.\n",
    "\n",
    "[^1]: “The National Digital Newspaper Program (NDNP) Technical Guidelines for Applicants.” *Library of Congress* (2016): p. 11. [http://www.loc.gov/ndnp/guidelines/NDNP_201517TechNotes.pdf](http://www.loc.gov/ndnp/guidelines/NDNP_201517TechNotes.pdf)\n",
    "\n",
    "[^2]: Tanner, Simon, Trevor Muñoz, and Pich Hemy Ros. “Measuring Mass Text Digitization Quality and Usefulness: Lessons Learned From Assessing the OCR Accuracy of the British Library’s 19th Century Online Newspaper Archive.” *D-Lib Magazine* 15, no. 7/8 (2009): §5. doi: [http://dx.doi.org/10.1045/july2009-munoz](http://dx.doi.org/10.1045/july2009-munoz)\n",
    "\n",
    "[^4]: Recent studies on text reuse have effectively used ngram comparison to find reuse despite differences attributable to errors in character recognition or minor editorial rephrasing. (See Mullen (2016), [http://americaspublicbible.org/methods.html](http://americaspublicbible.org/methods.html) and Smith, Cordell, Dillon (2013), “Infectious Texts: Modeling Text Reuse in Nineteenth-Century Newspapers,” *2013 IEEE International Conference on Big Data*. doi: [http://dx.doi.org/10.1109/BigData.2013.6691675](http://dx.doi.org/10.1109/BigData.2013.6691675)) However, research in the field of information retrieval has found that algorithms that factor the relative prevalence of words in a corpus are negatively effected by high OCR rates. (See Taghva, Kazem, Thomas Nartker, and Julie Borsack. “Information Access in the Presence of OCR Errors.” <I>Proceedings of the 1st ACM workshop on Hardcopy document processing</I> the 1st ACM workshop (2004): 1–8. doi: [http://dx.doi.org/10.1145/1031442.1031443](http://dx.doi.org/10.1145/1031442.1031443)). \n",
    "\n",
    "[^5]: Lasko, Thomas A., and Susan E. Hauser. “Approximate String Matching Algorithms for Limited-Vocabulary OCR Output Correction.” <I>Proceedings of SPIE</I> 4307 (2001): 232–40. doi: [http://dx.doi.org/10.1117/12.410841](http://dx.doi.org/10.1117/12.410841)\n",
    "\n",
    "[^6]: Torget, Andrew J., Mihalcea, Rada, Christensen, Jon, and McGhee, Geoff. “Mapping Texts: Combining Text-Mining and Geo-Visualization to Unlock the Research Potential of Historical Newspapers.” <I>Mapping Texts</I> (2011): Accessed March 29, 2017. [http://mappingtexts.org/whitepaper/MappingTexts_WhitePaper.pdf](http://mappingtexts.org/whitepaper/MappingTexts_WhitePaper.pdf)."
   ]
  },
  {
   "cell_type": "markdown",
   "metadata": {},
   "source": [
    "# NLTK 'words' Corpus\n",
    "\n",
    "My first choice of wordlists was the NLTK `words.words` list, as this is a standard word bank used in many projects. The first stop for documentation on published datasets, including wordlists, is the included README file. The README file at the base of the NLTK words corpus contains the following sparse lines: \n",
    "\n",
    ">Wordlists\n",
    ">\n",
    ">en: English, http://en.wikipedia.org/wiki/Words_(Unix)\n",
    ">en-basic: 850 English words: C.K. Ogden in The ABC of Basic English (1932)\n",
    "\n",
    "The linked Wikipedia article contains only a little more information:\n",
    "\n",
    ">words is a standard file on all Unix and Unix-like operating systems, and is simply a newline-delimited list of dictionary words. It is used, for instance, by spell-checking programs.[1]\n",
    ">\n",
    ">The words file is usually stored in /usr/share/dict/words or /usr/dict/words.\n",
    ">\n",
    ">On Debian and Ubuntu, the words file is provided by the wordlist package, or its provider packages wbritish, wamerican, etc. On Fedora and Arch, the words file is provided by the words package.\n",
    "\n",
    "Fortunately, my personal computer runs on a \"Unix-like\" operating system, so I was able to gather the following additional information from the README in the suggested `/usr/dict/words` directory. \n",
    "\n",
    ">Welcome to web2 (Webster's Second International) all 234,936 words worth.\n",
    "The 1934 copyright has lapsed, according to the supplier.  The\n",
    "supplemental 'web2a' list contains hyphenated terms as well as assorted\n",
    "noun and adverbial phrases. \n",
    "\n",
    "Here at last we have information about the source of the collection of words so frequently used for American English spell-checking programs. However, it is not clear whether or not this is the correct file, as the original link also referenced the wordlist packages in Debian and Ubuntu systems. To confirm that NLTK is using the list of words derived from Webster's Second International Dictionary, I used set comparison to identify the overlap between the two lists."
   ]
  },
  {
   "cell_type": "markdown",
   "metadata": {},
   "source": [
    "## Comparing NTLK `words` to `web2`"
   ]
  },
  {
   "cell_type": "code",
   "execution_count": 1,
   "metadata": {
    "ExecuteTime": {
     "end_time": "2017-06-05T02:37:15.833226",
     "start_time": "2017-06-05T02:37:15.094130Z"
    },
    "collapsed": true
   },
   "outputs": [],
   "source": [
    "''' You may receive an error message noting that you need to download the words corpus from NTLK. \n",
    "Follow the instructions in the error message and then rerun the cell.\n",
    "'''\n",
    "from nltk.corpus import words"
   ]
  },
  {
   "cell_type": "code",
   "execution_count": 2,
   "metadata": {
    "ExecuteTime": {
     "end_time": "2017-06-05T02:37:15.841213",
     "start_time": "2017-06-05T02:37:15.835418Z"
    },
    "collapsed": true
   },
   "outputs": [],
   "source": [
    "# Function for pulling words from a txt file\n",
    "def load_from_txt(file_name):\n",
    "    with open(file_name, \"r\") as txt:\n",
    "        words = txt.read().splitlines()\n",
    "    return(words)"
   ]
  },
  {
   "cell_type": "code",
   "execution_count": 3,
   "metadata": {
    "ExecuteTime": {
     "end_time": "2017-06-05T02:37:15.979376",
     "start_time": "2017-06-05T02:37:15.843813Z"
    },
    "collapsed": true
   },
   "outputs": [],
   "source": [
    "nltk_list = [w for w in words.words()]"
   ]
  },
  {
   "cell_type": "markdown",
   "metadata": {},
   "source": [
    "We can get an overview of the list by examining the number of words, and printing out the first 10."
   ]
  },
  {
   "cell_type": "code",
   "execution_count": 4,
   "metadata": {
    "ExecuteTime": {
     "end_time": "2017-06-05T02:37:16.038260",
     "start_time": "2017-06-05T02:37:15.983272Z"
    }
   },
   "outputs": [
    {
     "data": {
      "text/plain": [
       "235892"
      ]
     },
     "execution_count": 4,
     "metadata": {},
     "output_type": "execute_result"
    }
   ],
   "source": [
    "len(set(nltk_list))"
   ]
  },
  {
   "cell_type": "code",
   "execution_count": 5,
   "metadata": {
    "ExecuteTime": {
     "end_time": "2017-06-05T02:37:16.047113",
     "start_time": "2017-06-05T02:37:16.040806Z"
    }
   },
   "outputs": [
    {
     "data": {
      "text/plain": [
       "['A',\n",
       " 'a',\n",
       " 'aa',\n",
       " 'aal',\n",
       " 'aalii',\n",
       " 'aam',\n",
       " 'Aani',\n",
       " 'aardvark',\n",
       " 'aardwolf',\n",
       " 'Aaron']"
      ]
     },
     "execution_count": 5,
     "metadata": {},
     "output_type": "execute_result"
    }
   ],
   "source": [
    "nltk_list[:10]"
   ]
  },
  {
   "cell_type": "code",
   "execution_count": 6,
   "metadata": {
    "ExecuteTime": {
     "end_time": "2017-06-05T02:37:16.086842",
     "start_time": "2017-06-05T02:37:16.050566Z"
    },
    "collapsed": true
   },
   "outputs": [],
   "source": [
    "web2_list = load_from_txt('/usr/share/dict/web2')"
   ]
  },
  {
   "cell_type": "code",
   "execution_count": 7,
   "metadata": {
    "ExecuteTime": {
     "end_time": "2017-06-05T02:37:16.152259",
     "start_time": "2017-06-05T02:37:16.092025Z"
    }
   },
   "outputs": [
    {
     "data": {
      "text/plain": [
       "235886"
      ]
     },
     "execution_count": 7,
     "metadata": {},
     "output_type": "execute_result"
    }
   ],
   "source": [
    "len(set(web2_list))"
   ]
  },
  {
   "cell_type": "code",
   "execution_count": 8,
   "metadata": {
    "ExecuteTime": {
     "end_time": "2017-06-05T02:37:16.167733",
     "start_time": "2017-06-05T02:37:16.157226Z"
    }
   },
   "outputs": [
    {
     "data": {
      "text/plain": [
       "['A',\n",
       " 'a',\n",
       " 'aa',\n",
       " 'aal',\n",
       " 'aalii',\n",
       " 'aam',\n",
       " 'Aani',\n",
       " 'aardvark',\n",
       " 'aardwolf',\n",
       " 'Aaron']"
      ]
     },
     "execution_count": 8,
     "metadata": {},
     "output_type": "execute_result"
    }
   ],
   "source": [
    "web2_list[:10]"
   ]
  },
  {
   "cell_type": "markdown",
   "metadata": {},
   "source": [
    "At this point, it seems likely that the two lists are similar, though not quite identical. To identify the differences, I used set comparison to quickly reveal where the list do not overlap."
   ]
  },
  {
   "cell_type": "code",
   "execution_count": 9,
   "metadata": {
    "ExecuteTime": {
     "end_time": "2017-06-05T02:37:16.299210",
     "start_time": "2017-06-05T02:37:16.174752Z"
    }
   },
   "outputs": [
    {
     "data": {
      "text/plain": [
       "{'behaviour', 'box', 'colour', 'harbour', 'humour', 'near'}"
      ]
     },
     "execution_count": 9,
     "metadata": {},
     "output_type": "execute_result"
    }
   ],
   "source": [
    "'''Use set().symmetric_difference(set()) to return the list of items that are in either list,\n",
    "but not in both lists. This provides a quick snapshot of the discontinuities between the two lists.\n",
    "See https://docs.python.org/3.5/library/stdtypes.html#set-types-set-frozenset for more details. \n",
    "'''\n",
    "set(nltk_list).symmetric_difference(set(web2_list))"
   ]
  },
  {
   "cell_type": "markdown",
   "metadata": {},
   "source": [
    "These results indicate that, with the exceptions of a few British spellings and the curious case of \"box\" and \"near\", the two lists are functionally identical."
   ]
  },
  {
   "cell_type": "markdown",
   "metadata": {},
   "source": [
    "## Evaluate Corpus Docs with NLTK 'words' (web2)\n",
    "\n",
    "Armed with the knowledge that the NLKT wordlist is, in fact, the words from Webster's Second International Dictionary, I moved next to evaluate how well the wordlist covers the vocabulary of our corpus. To do that, I read in one of the documents, did some minimal cleaning, and then found the disjoin between the corpus words and the NLTK wordlist."
   ]
  },
  {
   "cell_type": "code",
   "execution_count": 10,
   "metadata": {
    "ExecuteTime": {
     "end_time": "2017-06-05T02:37:16.305593",
     "start_time": "2017-06-05T02:37:16.301670Z"
    },
    "collapsed": true
   },
   "outputs": [],
   "source": [
    "from nltk import word_tokenize\n",
    "from nltk.tokenize import WhitespaceTokenizer\n",
    "from os import path\n",
    "import re"
   ]
  },
  {
   "cell_type": "code",
   "execution_count": 11,
   "metadata": {
    "ExecuteTime": {
     "end_time": "2017-06-05T02:37:16.472306",
     "start_time": "2017-06-05T02:37:16.308066Z"
    },
    "collapsed": true
   },
   "outputs": [],
   "source": [
    "def readfile( input_dir, filename ):\n",
    "    \"\"\"Reads in file from directory and file name.\n",
    "    Returns the content of the file.\n",
    "\n",
    "    Usage::\n",
    "\n",
    "        >>> text = readfile(input_dir, filename)\n",
    "\n",
    "    Args:\n",
    "        input_dir (str): Directory with the input file.\n",
    "        filename (str): Name of file to be read.\n",
    "\n",
    "    Returns:\n",
    "        str: Returns the content of the file as a string.\n",
    "\n",
    "    \"\"\"\n",
    "    with open(path.join(input_dir, filename)) as f:\n",
    "        return f.read()\n",
    "\n",
    "\n",
    "def strip_punct( text ):\n",
    "    \"\"\"Remove punctuation and numbers.\n",
    "    Remove select punctuation marks and numbers from a text and replaces them with a space.\n",
    "    \n",
    "    Non-permanent changes for evaluation purposes only.\n",
    "    \n",
    "    Uses the :mod:`re` library.\n",
    "\n",
    "    Args:\n",
    "        text (str): Content to be evaluated.\n",
    "\n",
    "    Returns:\n",
    "        str: Returns the content string without the following characters: 0-9,.!?$:;&\".\n",
    "    \"\"\"\n",
    "    text_cleaned = re.sub(r\"[0-9,.!?$:;&\\\"]\", \" \", text)\n",
    "    \n",
    "    return text_cleaned\n",
    "\n",
    "\n",
    "def tokenize_text( text, tokenizer='whitespace' ):\n",
    "    \"\"\"Converts file content to a list of tokens. \n",
    "\n",
    "    Uses :meth:`nltk.tokenize.regexp.WhitespaceTokenizer`.\n",
    "\n",
    "    Args:\n",
    "        text (str): Content to be tokenized.\n",
    "        tokenizer(str): option of tokenizer. Current options are 'whitespace' and\n",
    "            'word'.\n",
    "\n",
    "    Returns:\n",
    "        list: Returns a list of the tokens in the text, separated by white space.\n",
    "    \"\"\"\n",
    "    if tokenizer == 'whitespace' or tokenizer == 'word':\n",
    "        if tokenizer == 'whitespace':\n",
    "            return WhitespaceTokenizer().tokenize(text)\n",
    "        elif tokenizer == 'word':\n",
    "            return word_tokenize(text)\n",
    "    else:\n",
    "        raise ValueError('Tokenizer value {} is invalid. Must be \"whitespace\" or \"word\"'.format(tokenizer))\n",
    "\n",
    "\n",
    "def to_lower( tokens ):\n",
    "    \"\"\"Convert all tokens to lower case.\n",
    "\n",
    "    Args:\n",
    "        tokens (list): List of tokens generated using a tokenizer.\n",
    "\n",
    "    Returns:\n",
    "        list: List of all tokens converted to lowercase.\n",
    "    \"\"\"\n",
    "    return [w.lower() for w in tokens]\n",
    "\n",
    "\n",
    "def identify_errors( tokens, dictionary ):\n",
    "    \"\"\"Compare words in documents to words in dictionary. \n",
    "\n",
    "    Args:\n",
    "        tokens (list): List of all tokens in the document.\n",
    "        dictionary (set): The set of approved words.\n",
    "        \n",
    "    Returns:\n",
    "        set : Returns the set of tokens that are not \n",
    "            also dictionary words.\n",
    "    \"\"\"\n",
    "    return set(tokens).difference(dictionary)\n",
    "\n",
    "\n",
    "def create_spelling_dictionary( directory, wordlists ):\n",
    "    \"\"\"Compile a spelling dictionary.\n",
    "    Compiles a spelling dictionary from one or multiple\n",
    "    wordlist files. Returns results as a set.\n",
    "\n",
    "    Args:\n",
    "        directory (str): Location of the wordlist files.\n",
    "        wordlists (list): List of filenames for the wordlist files.\n",
    "\n",
    "    Returns:\n",
    "        set: List of unique words in all the compiled lists.\n",
    "    \"\"\"\n",
    "    spelling_dictionary = []\n",
    "    for wordlist in wordlists:\n",
    "        words = readfile(directory, wordlist).splitlines()\n",
    "        word_list = [w.lower() for w in words]\n",
    "        for each in word_list:\n",
    "            spelling_dictionary.append(each)\n",
    "\n",
    "    return set(spelling_dictionary)\n",
    "\n",
    "\n",
    "def get_doc_errors( input_dir, filename, dictionary ):\n",
    "    \"\"\"Identify words in text that are not in a dictionary set.\n",
    "    \n",
    "    Args:\n",
    "        input_dir (str): Directory containing text files\n",
    "        filename (str): Name of file to evaluate\n",
    "        dictionary (set): Set of verified words\n",
    "    Returns:\n",
    "        set: Returns set of words in doc that are not in the dictionary.\n",
    "    \"\"\"\n",
    "    text = strip_punct(readfile(input_dir, filename))\n",
    "    tokens = to_lower(tokenize_text(text, tokenizer='whitespace'))\n",
    "    return identify_errors(tokens, dictionary)"
   ]
  },
  {
   "cell_type": "code",
   "execution_count": 12,
   "metadata": {
    "ExecuteTime": {
     "end_time": "2017-06-05T02:37:16.478493",
     "start_time": "2017-06-05T02:37:16.474846Z"
    },
    "collapsed": true
   },
   "outputs": [],
   "source": [
    "input_dir = \"data/\"\n",
    "filename = \"HR18910601-V26-06-page34.txt\""
   ]
  },
  {
   "cell_type": "markdown",
   "metadata": {},
   "source": [
    "First, because previewing early and often is key to evaluating the effectiveness of the code, I start by printing out the file content as well as the cleaned and tokenized version of the text. Overall, the OCR quality is good. There are a number of line-ending problems and some rogue characters, but the content and general message of the page is very legible. "
   ]
  },
  {
   "cell_type": "code",
   "execution_count": 13,
   "metadata": {
    "ExecuteTime": {
     "end_time": "2017-06-05T02:37:16.489617",
     "start_time": "2017-06-05T02:37:16.483353Z"
    }
   },
   "outputs": [
    {
     "data": {
      "text/plain": [
       "' THE LEGUMINOUS SEEDS.\\nAbstract of a lesson in cookery given by Mrs. E. E. Kellogg, to the Health and Temperance Training Class.]\\nTHE leguminous seeds, or legumes, are those foods better known as peas, beans, and lentils. They are usually served as vegetables, but are very different in their composition, as they contain in their mature state a large excess of the nitrogenous element, while the ordinary vegetables are quite lacking in this important element. In their immature state the legumes are more similar to vegetables. Dried peas are found in the market in two different forms, the green, or Scotch peas, and those which have been divided and the skins removed, called split peas. There are also several varieties of lentils to be found in market. Lentils are somewhat superior to peas or beans in nutritive value, but people usually dislike their taste until they have become used to them.\\nThe different varieties of beans vary but little as to nutritive value. The Lima bean is more delicate in flavor, and is generally looked upon with most favor. The Chinese and Japanese make large use of the leguminous foods. They have a kind of bean known as soja, which is almost entirely composed of nitroge- nous material. Peas and beans contain caseine, which is similar in its characteristics to the caseine of milk. The Chinese take advantage of this fact, and manu- facture a kind of cheese from them.\\nThe legumes are all extensively used in India, China, Japan, and other Eastern countries. Com- bined with rice, which is used as a staple article of diet in these countries, and which contains an excess of the carbonaceous element, they form an excellent food. In England, peas are largely used by persons who are in training as athletes, because they are con- sidered to be superior strength producers.,\\nAlthough these seeds are in themselves such nutri- tious food, they are in this country commonly prepared in some manner which renders them indigestible. Beans, especially, are used in connec- tion with a large amount of fat, and are not, in\\ngeneral, properly cooked. Peas and beans are covered with a tough skin, and require a prolonged cooking, in order to soften them. If, in cooking, this skin is left intact, and not broken afterward by careful mastication, the legume may pass through the di- gestive tract without being acted upon by the digestive fluids. Even prolonged cooking will not render the skin digestible. It is best that we prepare these seeds in such a manner that the skins may be rejected. When used with the skins a large per- centage of the nutritive material is wasted, since it is impossible for the digestive processes to free it from the skins.\\nIn preparing them for cooking, it is generally best to soak them over night. The soaking aids the process of cooking, and to some extent does away with the strong flavor which to some people is very disagreeable. Soft water is best for cooking all dried seeds. If dry peas or beans are put into hard, boiling water, they will not soften, because the min- eral element of the water acts upon the caseine to harden it. As to the quantity needed, much depends upon the degree of heat used, but in general two quarts of soft water will be quite sufficient for one pint of seeds.\\nMASHED PEAS.Ñ Cook one quart of dried Scotch peas until tender, simmering slowly at the last so that the water will be nearly or quite evaporated. Then rub them through a colander, or vegetable press. Add to the sifted peas one half cup of good sweet cream, and salt if desired. Pour into a granite or earthen dish, and put into the oven to brown. Some prefer it browned until mealy, some prefer it rather moist. This same dish can be made with split peas by simply mashing them.\\nBrans may likewise be put through the same proc- ess. This is one of the most digestible forms in which they can be prepared.\\n( I9o)\\n'"
      ]
     },
     "execution_count": 13,
     "metadata": {},
     "output_type": "execute_result"
    }
   ],
   "source": [
    "readfile(input_dir, filename)"
   ]
  },
  {
   "cell_type": "code",
   "execution_count": 14,
   "metadata": {
    "ExecuteTime": {
     "end_time": "2017-06-05T02:37:16.513822",
     "start_time": "2017-06-05T02:37:16.492204Z"
    }
   },
   "outputs": [
    {
     "data": {
      "text/plain": [
       "['the',\n",
       " 'leguminous',\n",
       " 'seeds',\n",
       " 'abstract',\n",
       " 'of',\n",
       " 'a',\n",
       " 'lesson',\n",
       " 'in',\n",
       " 'cookery',\n",
       " 'given',\n",
       " 'by',\n",
       " 'mrs',\n",
       " 'e',\n",
       " 'e',\n",
       " 'kellogg',\n",
       " 'to',\n",
       " 'the',\n",
       " 'health',\n",
       " 'and',\n",
       " 'temperance',\n",
       " 'training',\n",
       " 'class',\n",
       " ']',\n",
       " 'the',\n",
       " 'leguminous',\n",
       " 'seeds',\n",
       " 'or',\n",
       " 'legumes',\n",
       " 'are',\n",
       " 'those',\n",
       " 'foods',\n",
       " 'better',\n",
       " 'known',\n",
       " 'as',\n",
       " 'peas',\n",
       " 'beans',\n",
       " 'and',\n",
       " 'lentils',\n",
       " 'they',\n",
       " 'are',\n",
       " 'usually',\n",
       " 'served',\n",
       " 'as',\n",
       " 'vegetables',\n",
       " 'but',\n",
       " 'are',\n",
       " 'very',\n",
       " 'different',\n",
       " 'in',\n",
       " 'their',\n",
       " 'composition',\n",
       " 'as',\n",
       " 'they',\n",
       " 'contain',\n",
       " 'in',\n",
       " 'their',\n",
       " 'mature',\n",
       " 'state',\n",
       " 'a',\n",
       " 'large',\n",
       " 'excess',\n",
       " 'of',\n",
       " 'the',\n",
       " 'nitrogenous',\n",
       " 'element',\n",
       " 'while',\n",
       " 'the',\n",
       " 'ordinary',\n",
       " 'vegetables',\n",
       " 'are',\n",
       " 'quite',\n",
       " 'lacking',\n",
       " 'in',\n",
       " 'this',\n",
       " 'important',\n",
       " 'element',\n",
       " 'in',\n",
       " 'their',\n",
       " 'immature',\n",
       " 'state',\n",
       " 'the',\n",
       " 'legumes',\n",
       " 'are',\n",
       " 'more',\n",
       " 'similar',\n",
       " 'to',\n",
       " 'vegetables',\n",
       " 'dried',\n",
       " 'peas',\n",
       " 'are',\n",
       " 'found',\n",
       " 'in',\n",
       " 'the',\n",
       " 'market',\n",
       " 'in',\n",
       " 'two',\n",
       " 'different',\n",
       " 'forms',\n",
       " 'the',\n",
       " 'green',\n",
       " 'or',\n",
       " 'scotch',\n",
       " 'peas',\n",
       " 'and',\n",
       " 'those',\n",
       " 'which',\n",
       " 'have',\n",
       " 'been',\n",
       " 'divided',\n",
       " 'and',\n",
       " 'the',\n",
       " 'skins',\n",
       " 'removed',\n",
       " 'called',\n",
       " 'split',\n",
       " 'peas',\n",
       " 'there',\n",
       " 'are',\n",
       " 'also',\n",
       " 'several',\n",
       " 'varieties',\n",
       " 'of',\n",
       " 'lentils',\n",
       " 'to',\n",
       " 'be',\n",
       " 'found',\n",
       " 'in',\n",
       " 'market',\n",
       " 'lentils',\n",
       " 'are',\n",
       " 'somewhat',\n",
       " 'superior',\n",
       " 'to',\n",
       " 'peas',\n",
       " 'or',\n",
       " 'beans',\n",
       " 'in',\n",
       " 'nutritive',\n",
       " 'value',\n",
       " 'but',\n",
       " 'people',\n",
       " 'usually',\n",
       " 'dislike',\n",
       " 'their',\n",
       " 'taste',\n",
       " 'until',\n",
       " 'they',\n",
       " 'have',\n",
       " 'become',\n",
       " 'used',\n",
       " 'to',\n",
       " 'them',\n",
       " 'the',\n",
       " 'different',\n",
       " 'varieties',\n",
       " 'of',\n",
       " 'beans',\n",
       " 'vary',\n",
       " 'but',\n",
       " 'little',\n",
       " 'as',\n",
       " 'to',\n",
       " 'nutritive',\n",
       " 'value',\n",
       " 'the',\n",
       " 'lima',\n",
       " 'bean',\n",
       " 'is',\n",
       " 'more',\n",
       " 'delicate',\n",
       " 'in',\n",
       " 'flavor',\n",
       " 'and',\n",
       " 'is',\n",
       " 'generally',\n",
       " 'looked',\n",
       " 'upon',\n",
       " 'with',\n",
       " 'most',\n",
       " 'favor',\n",
       " 'the',\n",
       " 'chinese',\n",
       " 'and',\n",
       " 'japanese',\n",
       " 'make',\n",
       " 'large',\n",
       " 'use',\n",
       " 'of',\n",
       " 'the',\n",
       " 'leguminous',\n",
       " 'foods',\n",
       " 'they',\n",
       " 'have',\n",
       " 'a',\n",
       " 'kind',\n",
       " 'of',\n",
       " 'bean',\n",
       " 'known',\n",
       " 'as',\n",
       " 'soja',\n",
       " 'which',\n",
       " 'is',\n",
       " 'almost',\n",
       " 'entirely',\n",
       " 'composed',\n",
       " 'of',\n",
       " 'nitroge-',\n",
       " 'nous',\n",
       " 'material',\n",
       " 'peas',\n",
       " 'and',\n",
       " 'beans',\n",
       " 'contain',\n",
       " 'caseine',\n",
       " 'which',\n",
       " 'is',\n",
       " 'similar',\n",
       " 'in',\n",
       " 'its',\n",
       " 'characteristics',\n",
       " 'to',\n",
       " 'the',\n",
       " 'caseine',\n",
       " 'of',\n",
       " 'milk',\n",
       " 'the',\n",
       " 'chinese',\n",
       " 'take',\n",
       " 'advantage',\n",
       " 'of',\n",
       " 'this',\n",
       " 'fact',\n",
       " 'and',\n",
       " 'manu-',\n",
       " 'facture',\n",
       " 'a',\n",
       " 'kind',\n",
       " 'of',\n",
       " 'cheese',\n",
       " 'from',\n",
       " 'them',\n",
       " 'the',\n",
       " 'legumes',\n",
       " 'are',\n",
       " 'all',\n",
       " 'extensively',\n",
       " 'used',\n",
       " 'in',\n",
       " 'india',\n",
       " 'china',\n",
       " 'japan',\n",
       " 'and',\n",
       " 'other',\n",
       " 'eastern',\n",
       " 'countries',\n",
       " 'com-',\n",
       " 'bined',\n",
       " 'with',\n",
       " 'rice',\n",
       " 'which',\n",
       " 'is',\n",
       " 'used',\n",
       " 'as',\n",
       " 'a',\n",
       " 'staple',\n",
       " 'article',\n",
       " 'of',\n",
       " 'diet',\n",
       " 'in',\n",
       " 'these',\n",
       " 'countries',\n",
       " 'and',\n",
       " 'which',\n",
       " 'contains',\n",
       " 'an',\n",
       " 'excess',\n",
       " 'of',\n",
       " 'the',\n",
       " 'carbonaceous',\n",
       " 'element',\n",
       " 'they',\n",
       " 'form',\n",
       " 'an',\n",
       " 'excellent',\n",
       " 'food',\n",
       " 'in',\n",
       " 'england',\n",
       " 'peas',\n",
       " 'are',\n",
       " 'largely',\n",
       " 'used',\n",
       " 'by',\n",
       " 'persons',\n",
       " 'who',\n",
       " 'are',\n",
       " 'in',\n",
       " 'training',\n",
       " 'as',\n",
       " 'athletes',\n",
       " 'because',\n",
       " 'they',\n",
       " 'are',\n",
       " 'con-',\n",
       " 'sidered',\n",
       " 'to',\n",
       " 'be',\n",
       " 'superior',\n",
       " 'strength',\n",
       " 'producers',\n",
       " 'although',\n",
       " 'these',\n",
       " 'seeds',\n",
       " 'are',\n",
       " 'in',\n",
       " 'themselves',\n",
       " 'such',\n",
       " 'nutri-',\n",
       " 'tious',\n",
       " 'food',\n",
       " 'they',\n",
       " 'are',\n",
       " 'in',\n",
       " 'this',\n",
       " 'country',\n",
       " 'commonly',\n",
       " 'prepared',\n",
       " 'in',\n",
       " 'some',\n",
       " 'manner',\n",
       " 'which',\n",
       " 'renders',\n",
       " 'them',\n",
       " 'indigestible',\n",
       " 'beans',\n",
       " 'especially',\n",
       " 'are',\n",
       " 'used',\n",
       " 'in',\n",
       " 'connec-',\n",
       " 'tion',\n",
       " 'with',\n",
       " 'a',\n",
       " 'large',\n",
       " 'amount',\n",
       " 'of',\n",
       " 'fat',\n",
       " 'and',\n",
       " 'are',\n",
       " 'not',\n",
       " 'in',\n",
       " 'general',\n",
       " 'properly',\n",
       " 'cooked',\n",
       " 'peas',\n",
       " 'and',\n",
       " 'beans',\n",
       " 'are',\n",
       " 'covered',\n",
       " 'with',\n",
       " 'a',\n",
       " 'tough',\n",
       " 'skin',\n",
       " 'and',\n",
       " 'require',\n",
       " 'a',\n",
       " 'prolonged',\n",
       " 'cooking',\n",
       " 'in',\n",
       " 'order',\n",
       " 'to',\n",
       " 'soften',\n",
       " 'them',\n",
       " 'if',\n",
       " 'in',\n",
       " 'cooking',\n",
       " 'this',\n",
       " 'skin',\n",
       " 'is',\n",
       " 'left',\n",
       " 'intact',\n",
       " 'and',\n",
       " 'not',\n",
       " 'broken',\n",
       " 'afterward',\n",
       " 'by',\n",
       " 'careful',\n",
       " 'mastication',\n",
       " 'the',\n",
       " 'legume',\n",
       " 'may',\n",
       " 'pass',\n",
       " 'through',\n",
       " 'the',\n",
       " 'di-',\n",
       " 'gestive',\n",
       " 'tract',\n",
       " 'without',\n",
       " 'being',\n",
       " 'acted',\n",
       " 'upon',\n",
       " 'by',\n",
       " 'the',\n",
       " 'digestive',\n",
       " 'fluids',\n",
       " 'even',\n",
       " 'prolonged',\n",
       " 'cooking',\n",
       " 'will',\n",
       " 'not',\n",
       " 'render',\n",
       " 'the',\n",
       " 'skin',\n",
       " 'digestible',\n",
       " 'it',\n",
       " 'is',\n",
       " 'best',\n",
       " 'that',\n",
       " 'we',\n",
       " 'prepare',\n",
       " 'these',\n",
       " 'seeds',\n",
       " 'in',\n",
       " 'such',\n",
       " 'a',\n",
       " 'manner',\n",
       " 'that',\n",
       " 'the',\n",
       " 'skins',\n",
       " 'may',\n",
       " 'be',\n",
       " 'rejected',\n",
       " 'when',\n",
       " 'used',\n",
       " 'with',\n",
       " 'the',\n",
       " 'skins',\n",
       " 'a',\n",
       " 'large',\n",
       " 'per-',\n",
       " 'centage',\n",
       " 'of',\n",
       " 'the',\n",
       " 'nutritive',\n",
       " 'material',\n",
       " 'is',\n",
       " 'wasted',\n",
       " 'since',\n",
       " 'it',\n",
       " 'is',\n",
       " 'impossible',\n",
       " 'for',\n",
       " 'the',\n",
       " 'digestive',\n",
       " 'processes',\n",
       " 'to',\n",
       " 'free',\n",
       " 'it',\n",
       " 'from',\n",
       " 'the',\n",
       " 'skins',\n",
       " 'in',\n",
       " 'preparing',\n",
       " 'them',\n",
       " 'for',\n",
       " 'cooking',\n",
       " 'it',\n",
       " 'is',\n",
       " 'generally',\n",
       " 'best',\n",
       " 'to',\n",
       " 'soak',\n",
       " 'them',\n",
       " 'over',\n",
       " 'night',\n",
       " 'the',\n",
       " 'soaking',\n",
       " 'aids',\n",
       " 'the',\n",
       " 'process',\n",
       " 'of',\n",
       " 'cooking',\n",
       " 'and',\n",
       " 'to',\n",
       " 'some',\n",
       " 'extent',\n",
       " 'does',\n",
       " 'away',\n",
       " 'with',\n",
       " 'the',\n",
       " 'strong',\n",
       " 'flavor',\n",
       " 'which',\n",
       " 'to',\n",
       " 'some',\n",
       " 'people',\n",
       " 'is',\n",
       " 'very',\n",
       " 'disagreeable',\n",
       " 'soft',\n",
       " 'water',\n",
       " 'is',\n",
       " 'best',\n",
       " 'for',\n",
       " 'cooking',\n",
       " 'all',\n",
       " 'dried',\n",
       " 'seeds',\n",
       " 'if',\n",
       " 'dry',\n",
       " 'peas',\n",
       " 'or',\n",
       " 'beans',\n",
       " 'are',\n",
       " 'put',\n",
       " 'into',\n",
       " 'hard',\n",
       " 'boiling',\n",
       " 'water',\n",
       " 'they',\n",
       " 'will',\n",
       " 'not',\n",
       " 'soften',\n",
       " 'because',\n",
       " 'the',\n",
       " 'min-',\n",
       " 'eral',\n",
       " 'element',\n",
       " 'of',\n",
       " 'the',\n",
       " 'water',\n",
       " 'acts',\n",
       " 'upon',\n",
       " 'the',\n",
       " 'caseine',\n",
       " 'to',\n",
       " 'harden',\n",
       " 'it',\n",
       " 'as',\n",
       " 'to',\n",
       " 'the',\n",
       " 'quantity',\n",
       " 'needed',\n",
       " 'much',\n",
       " 'depends',\n",
       " 'upon',\n",
       " 'the',\n",
       " 'degree',\n",
       " 'of',\n",
       " 'heat',\n",
       " 'used',\n",
       " 'but',\n",
       " 'in',\n",
       " 'general',\n",
       " 'two',\n",
       " 'quarts',\n",
       " 'of',\n",
       " 'soft',\n",
       " 'water',\n",
       " 'will',\n",
       " 'be',\n",
       " 'quite',\n",
       " 'sufficient',\n",
       " 'for',\n",
       " 'one',\n",
       " 'pint',\n",
       " 'of',\n",
       " 'seeds',\n",
       " 'mashed',\n",
       " 'peas',\n",
       " 'ñ',\n",
       " 'cook',\n",
       " 'one',\n",
       " 'quart',\n",
       " 'of',\n",
       " 'dried',\n",
       " 'scotch',\n",
       " 'peas',\n",
       " 'until',\n",
       " 'tender',\n",
       " 'simmering',\n",
       " 'slowly',\n",
       " 'at',\n",
       " 'the',\n",
       " 'last',\n",
       " 'so',\n",
       " 'that',\n",
       " 'the',\n",
       " 'water',\n",
       " 'will',\n",
       " 'be',\n",
       " 'nearly',\n",
       " 'or',\n",
       " 'quite',\n",
       " 'evaporated',\n",
       " 'then',\n",
       " 'rub',\n",
       " 'them',\n",
       " 'through',\n",
       " 'a',\n",
       " 'colander',\n",
       " 'or',\n",
       " 'vegetable',\n",
       " 'press',\n",
       " 'add',\n",
       " 'to',\n",
       " 'the',\n",
       " 'sifted',\n",
       " 'peas',\n",
       " 'one',\n",
       " 'half',\n",
       " 'cup',\n",
       " 'of',\n",
       " 'good',\n",
       " 'sweet',\n",
       " 'cream',\n",
       " 'and',\n",
       " 'salt',\n",
       " 'if',\n",
       " 'desired',\n",
       " 'pour',\n",
       " 'into',\n",
       " 'a',\n",
       " 'granite',\n",
       " 'or',\n",
       " 'earthen',\n",
       " 'dish',\n",
       " 'and',\n",
       " 'put',\n",
       " 'into',\n",
       " 'the',\n",
       " 'oven',\n",
       " 'to',\n",
       " 'brown',\n",
       " 'some',\n",
       " 'prefer',\n",
       " 'it',\n",
       " 'browned',\n",
       " 'until',\n",
       " 'mealy',\n",
       " 'some',\n",
       " 'prefer',\n",
       " 'it',\n",
       " 'rather',\n",
       " 'moist',\n",
       " 'this',\n",
       " 'same',\n",
       " 'dish',\n",
       " 'can',\n",
       " 'be',\n",
       " 'made',\n",
       " 'with',\n",
       " 'split',\n",
       " 'peas',\n",
       " 'by',\n",
       " 'simply',\n",
       " 'mashing',\n",
       " 'them',\n",
       " 'brans',\n",
       " 'may',\n",
       " 'likewise',\n",
       " 'be',\n",
       " 'put',\n",
       " 'through',\n",
       " 'the',\n",
       " 'same',\n",
       " 'proc-',\n",
       " 'ess',\n",
       " 'this',\n",
       " 'is',\n",
       " 'one',\n",
       " 'of',\n",
       " 'the',\n",
       " 'most',\n",
       " 'digestible',\n",
       " 'forms',\n",
       " 'in',\n",
       " 'which',\n",
       " 'they',\n",
       " 'can',\n",
       " 'be',\n",
       " 'prepared',\n",
       " '(',\n",
       " 'i',\n",
       " 'o)']"
      ]
     },
     "execution_count": 14,
     "metadata": {},
     "output_type": "execute_result"
    }
   ],
   "source": [
    "to_lower(tokenize_text(strip_punct(readfile(input_dir, filename))))"
   ]
  },
  {
   "cell_type": "markdown",
   "metadata": {},
   "source": [
    "Comparing the text to the NLTK list, however, returns a number of \"real\" words identified as errors."
   ]
  },
  {
   "cell_type": "code",
   "execution_count": 15,
   "metadata": {
    "ExecuteTime": {
     "end_time": "2017-06-05T02:37:16.660873",
     "start_time": "2017-06-05T02:37:16.518681Z"
    }
   },
   "outputs": [
    {
     "data": {
      "text/plain": [
       "{'(',\n",
       " ']',\n",
       " 'acted',\n",
       " 'aids',\n",
       " 'athletes',\n",
       " 'beans',\n",
       " 'bined',\n",
       " 'brans',\n",
       " 'browned',\n",
       " 'called',\n",
       " 'caseine',\n",
       " 'characteristics',\n",
       " 'com-',\n",
       " 'con-',\n",
       " 'connec-',\n",
       " 'contains',\n",
       " 'cooked',\n",
       " 'countries',\n",
       " 'depends',\n",
       " 'di-',\n",
       " 'england',\n",
       " 'evaporated',\n",
       " 'fluids',\n",
       " 'foods',\n",
       " 'forms',\n",
       " 'gestive',\n",
       " 'kellogg',\n",
       " 'lacking',\n",
       " 'legumes',\n",
       " 'lentils',\n",
       " 'looked',\n",
       " 'manu-',\n",
       " 'mashed',\n",
       " 'min-',\n",
       " 'needed',\n",
       " 'nitroge-',\n",
       " 'nutri-',\n",
       " 'o)',\n",
       " 'peas',\n",
       " 'per-',\n",
       " 'persons',\n",
       " 'preparing',\n",
       " 'proc-',\n",
       " 'processes',\n",
       " 'producers',\n",
       " 'prolonged',\n",
       " 'quarts',\n",
       " 'rejected',\n",
       " 'renders',\n",
       " 'seeds',\n",
       " 'served',\n",
       " 'sidered',\n",
       " 'simmering',\n",
       " 'skins',\n",
       " 'tion',\n",
       " 'tious',\n",
       " 'varieties',\n",
       " 'vegetables',\n",
       " 'ñ'}"
      ]
     },
     "execution_count": 15,
     "metadata": {},
     "output_type": "execute_result"
    }
   ],
   "source": [
    "get_doc_errors( input_dir, filename, set(to_lower(nltk_list)))"
   ]
  },
  {
   "cell_type": "markdown",
   "metadata": {},
   "source": [
    "With words such as \"vegetables\" and \"cooked\" missing from the NLTK wordlist, it is clear that this list is insufficient for computing the ratio of words to errors in the documents."
   ]
  },
  {
   "cell_type": "markdown",
   "metadata": {},
   "source": [
    "## SCOWL (Spell Checker Oriented Word Lists)\n",
    "\n",
    "With the default Unix wordlist insufficient as a base for evaluating the corpus, I looked next at the [`wordlist` package included with Ubuntu](http://packages.ubuntu.com/precise/wamerican), which is also mentioned in the Wikipedia entry for [`words`](http://en.wikipedia.org/wiki/Words_(Unix)). This package links out to the [SCOWL (Spell Checker Oriented Word Lists) project](http://wordlist.aspell.net/).[^3] Rather than use one of the provided word lists, I used the [web application](http://app.aspell.net/create) to create a custom a list. I used the following parameters, as documented in the [README]('data/SCOWL-wl/README'):\n",
    "\n",
    "+ diacritic: keep\n",
    "+ max_size: 70\n",
    "+ max_variant: 1\n",
    "+ special: roman-numerals\n",
    "+ spelling: US GBs\n",
    "\n",
    "These parameters provide a wordlist that includes both American and British spellings, including common variant spellings. `max_size` of \"70\" refers to the \"large\" collection of words which are contained in most dictionaries, and which is, according to the author, the largest recommended set for spelling, while the larger \"80\" and \"95\" sets  contain obscure and questionable words. \n",
    "\n",
    "[^3]: Atkinson, Kevin. \"Spell Checking Oriented Word Lists (Scowl).\" (2016): Accessed Nov 18, 2016. [http://wordlist.aspell.net/scowl-readme/](http://wordlist.aspell.net/scowl-readme/)."
   ]
  },
  {
   "cell_type": "code",
   "execution_count": 16,
   "metadata": {
    "ExecuteTime": {
     "end_time": "2017-06-05T02:37:16.690851",
     "start_time": "2017-06-05T02:37:16.666050Z"
    },
    "collapsed": true
   },
   "outputs": [],
   "source": [
    "scowl = load_from_txt('data/SCOWL-wl/words.txt')"
   ]
  },
  {
   "cell_type": "code",
   "execution_count": 17,
   "metadata": {
    "ExecuteTime": {
     "end_time": "2017-06-05T02:37:16.741592",
     "start_time": "2017-06-05T02:37:16.696581Z"
    }
   },
   "outputs": [
    {
     "data": {
      "text/plain": [
       "171131"
      ]
     },
     "execution_count": 17,
     "metadata": {},
     "output_type": "execute_result"
    }
   ],
   "source": [
    "len(set(scowl))"
   ]
  },
  {
   "cell_type": "markdown",
   "metadata": {},
   "source": [
    "When we compare the difference between the two lists, we can see that the majority of words in the SCOWL list are not in the NLTK words list."
   ]
  },
  {
   "cell_type": "code",
   "execution_count": 19,
   "metadata": {
    "ExecuteTime": {
     "end_time": "2017-06-05T02:37:16.848829",
     "start_time": "2017-06-05T02:37:16.753934Z"
    }
   },
   "outputs": [
    {
     "data": {
      "text/plain": [
       "104524"
      ]
     },
     "execution_count": 19,
     "metadata": {},
     "output_type": "execute_result"
    }
   ],
   "source": [
    "len(set(scowl).difference(set(nltk_list)))"
   ]
  },
  {
   "cell_type": "markdown",
   "metadata": {},
   "source": [
    "And when we can run the file content through our error checking function, we get results that are much closer to what we would expect."
   ]
  },
  {
   "cell_type": "code",
   "execution_count": 20,
   "metadata": {
    "ExecuteTime": {
     "end_time": "2017-06-05T02:37:16.933282",
     "start_time": "2017-06-05T02:37:16.851092Z"
    }
   },
   "outputs": [
    {
     "data": {
      "text/plain": [
       "{'(',\n",
       " ']',\n",
       " 'bined',\n",
       " 'brans',\n",
       " 'caseine',\n",
       " 'centage',\n",
       " 'com-',\n",
       " 'con-',\n",
       " 'connec-',\n",
       " 'di-',\n",
       " 'eral',\n",
       " 'ess',\n",
       " 'gestive',\n",
       " 'manu-',\n",
       " 'min-',\n",
       " 'nitroge-',\n",
       " 'nutri-',\n",
       " 'o)',\n",
       " 'per-',\n",
       " 'proc-',\n",
       " 'sidered',\n",
       " 'soja',\n",
       " 'tion',\n",
       " 'tious',\n",
       " 'ñ'}"
      ]
     },
     "execution_count": 20,
     "metadata": {},
     "output_type": "execute_result"
    }
   ],
   "source": [
    "get_doc_errors( input_dir, filename, set(to_lower(scowl)))"
   ]
  },
  {
   "cell_type": "markdown",
   "metadata": {},
   "source": [
    "## Filtering the SCOWL List\n",
    "\n"
   ]
  },
  {
   "cell_type": "markdown",
   "metadata": {},
   "source": [
    "While it may seem valuable to have an all-encompassing list, one that contains all possible words, a list that is too expansive is actually detrimental to the task of identifying OCR errors. Unusual words, or single letters, are more likely to be the result of a transcription error than an intentional choice by the author or editor, but an overly expansive wordlist would capture these as \"words,\" thus under-reporting the transcription errors. In constructing the word list, I am looking to strike a delicate balance between false negatives (words identified as errors, but are words) and false positives (words that are identified as words, but are errors). \n",
    "\n",
    "The SCOWL list contains a few elements that increase the risk of false positive identification. First, the list contains a collection of abbreviations, which are mostly 20th-century in origin and which, once converted to lowercase for comparison, are unlikely to match any of the content produced by the SDA authors. \n",
    "\n",
    "Second, one of the lists used in the SCOWL application includes the letter section headers as words, so instances of any single letter, such as \"e\", are identified as a word. Two of the most frequent problems in the OCR text are words that are \"burst\" words, or words where a space has been inserted between each of the letters (I N S T R U C T O R), and words that have been split due to line endings (di- gestion). As a result, a number of the errors will appear in the form of individual letters and two letter words. In order to capture these transcription errors, the wordlist needs to be particularly conservative with regard to single-letter and two-letter words. \n",
    "\n",
    "To improve my ability to capture these errors, I filtered out the acronyms and all words less than 3 characters in length from the SCOWL list. I added back common words, such as \"I\", \"in\", and \"be,\" through the subject-specific lists, which I cover below. "
   ]
  },
  {
   "cell_type": "code",
   "execution_count": 21,
   "metadata": {
    "ExecuteTime": {
     "end_time": "2017-06-05T02:37:17.164211",
     "start_time": "2017-06-05T02:37:16.935422Z"
    },
    "collapsed": true
   },
   "outputs": [],
   "source": [
    "# Using regex to remove all abbreviations and their possessive forms\n",
    "s_filtered = [x for x in scowl if not re.search(r\"\\b[A-Z]{1,}'s\\b|\\b[A-Z]{1,}\\b\", x)]"
   ]
  },
  {
   "cell_type": "code",
   "execution_count": 22,
   "metadata": {
    "ExecuteTime": {
     "end_time": "2017-06-05T02:37:17.172725",
     "start_time": "2017-06-05T02:37:17.166598Z"
    }
   },
   "outputs": [
    {
     "data": {
      "text/plain": [
       "['ABCs',\n",
       " 'ABMs',\n",
       " 'Aachen',\n",
       " \"Aachen's\",\n",
       " 'Aalborg',\n",
       " 'Aalesund',\n",
       " 'Aaliyah',\n",
       " \"Aaliyah's\",\n",
       " 'Aalst',\n",
       " \"Aalst's\"]"
      ]
     },
     "execution_count": 22,
     "metadata": {},
     "output_type": "execute_result"
    }
   ],
   "source": [
    "s_filtered[:10]"
   ]
  },
  {
   "cell_type": "code",
   "execution_count": 23,
   "metadata": {
    "ExecuteTime": {
     "end_time": "2017-06-05T02:37:17.228161",
     "start_time": "2017-06-05T02:37:17.175601Z"
    },
    "collapsed": true
   },
   "outputs": [],
   "source": [
    "s_filtered = [x for x in s_filtered if len(x) > 2]"
   ]
  },
  {
   "cell_type": "markdown",
   "metadata": {},
   "source": [
    "To ensure that I have not removed too many words, I preview the error report once again."
   ]
  },
  {
   "cell_type": "code",
   "execution_count": 24,
   "metadata": {
    "ExecuteTime": {
     "end_time": "2017-06-05T02:37:17.301150",
     "start_time": "2017-06-05T02:37:17.232914Z"
    }
   },
   "outputs": [
    {
     "data": {
      "text/plain": [
       "{'(',\n",
       " ']',\n",
       " 'a',\n",
       " 'an',\n",
       " 'as',\n",
       " 'at',\n",
       " 'be',\n",
       " 'bined',\n",
       " 'brans',\n",
       " 'by',\n",
       " 'caseine',\n",
       " 'centage',\n",
       " 'com-',\n",
       " 'con-',\n",
       " 'connec-',\n",
       " 'di-',\n",
       " 'e',\n",
       " 'eral',\n",
       " 'ess',\n",
       " 'gestive',\n",
       " 'i',\n",
       " 'if',\n",
       " 'in',\n",
       " 'is',\n",
       " 'it',\n",
       " 'manu-',\n",
       " 'min-',\n",
       " 'nitroge-',\n",
       " 'nutri-',\n",
       " 'o)',\n",
       " 'of',\n",
       " 'or',\n",
       " 'per-',\n",
       " 'proc-',\n",
       " 'sidered',\n",
       " 'so',\n",
       " 'soja',\n",
       " 'tion',\n",
       " 'tious',\n",
       " 'to',\n",
       " 'we',\n",
       " 'ñ'}"
      ]
     },
     "execution_count": 24,
     "metadata": {},
     "output_type": "execute_result"
    }
   ],
   "source": [
    "get_doc_errors( input_dir, filename, set(to_lower(s_filtered)))"
   ]
  },
  {
   "cell_type": "markdown",
   "metadata": {},
   "source": [
    "These results are what I expected. There are a number of additional two-letter \"errors\" but otherwise the list appears unchanged.\n",
    "\n",
    "I then saved the filtered word list to the data folder for later use."
   ]
  },
  {
   "cell_type": "markdown",
   "metadata": {},
   "source": [
    "# Adding subject-specific words\n",
    "\n",
    "The SCOWL wordlist provides a broad base of English language words against which to compare the words identified in the SDA periodicals. We could proceed with just this list, but that strategy would give us a high number of false negatives (words that identified as errors that are in fact words). Because my corpus is derived from a particular community with a particular set of concerns, it is possible to expand the wordlists to capture some of the specialized language of the community. I chose to store each specialized wordlist separately, and to pull all the lists together into a single list of unique values within the corpus processing steps. This enables me to use the lists modularly, and to isolate a particular subset if a problem arise."
   ]
  },
  {
   "cell_type": "markdown",
   "metadata": {},
   "source": [
    "## King James Bible"
   ]
  },
  {
   "cell_type": "markdown",
   "metadata": {},
   "source": [
    "One of the most ubiquitous influences on the language of the SDA writers was the Bible, particularly in the King James translation. From scriptural quotations to references to individuals and use biblical of metaphors, the Bible saturated the consciousness of this nascent religious movement. To capture that language, and to reintroduce the relevant one and two letter words that I removed from the base SCOWL list, I (somewhat sacrilegiously) converted the text of the King James Bible from the [Christian Classics Ethereal Library](https://www.ccel.org/ccel/bible/kjv.txt) into a list of unique words. \n",
    "\n",
    "The code I used to create the wordlist from the text file is included in [module appendix](../appendix/create-scriptural-wordlist.ipynb). Here I am previewing the results of that transformation."
   ]
  },
  {
   "cell_type": "code",
   "execution_count": 25,
   "metadata": {
    "ExecuteTime": {
     "end_time": "2017-06-05T02:37:17.309969",
     "start_time": "2017-06-05T02:37:17.303580Z"
    },
    "collapsed": true
   },
   "outputs": [],
   "source": [
    "kjv = readfile('data/', '2017-05-24-kjv-wordlist.txt').splitlines()"
   ]
  },
  {
   "cell_type": "code",
   "execution_count": 26,
   "metadata": {
    "ExecuteTime": {
     "end_time": "2017-06-05T02:37:17.317651",
     "start_time": "2017-06-05T02:37:17.312737Z"
    }
   },
   "outputs": [
    {
     "data": {
      "text/plain": [
       "14238"
      ]
     },
     "execution_count": 26,
     "metadata": {},
     "output_type": "execute_result"
    }
   ],
   "source": [
    "len(kjv)"
   ]
  },
  {
   "cell_type": "code",
   "execution_count": 27,
   "metadata": {
    "ExecuteTime": {
     "end_time": "2017-06-05T02:37:17.327340",
     "start_time": "2017-06-05T02:37:17.320587Z"
    }
   },
   "outputs": [
    {
     "data": {
      "text/plain": [
       "['spider',\n",
       " 'rocks',\n",
       " 'biatas',\n",
       " 'apparently',\n",
       " 'strip',\n",
       " 'anchor',\n",
       " 'dinaites',\n",
       " 'entangled',\n",
       " 'adida',\n",
       " 'salchah']"
      ]
     },
     "execution_count": 27,
     "metadata": {},
     "output_type": "execute_result"
    }
   ],
   "source": [
    "kjv[:10]"
   ]
  },
  {
   "cell_type": "code",
   "execution_count": 28,
   "metadata": {
    "ExecuteTime": {
     "end_time": "2017-06-05T02:37:17.461267",
     "start_time": "2017-06-05T02:37:17.330430Z"
    },
    "collapsed": true
   },
   "outputs": [],
   "source": [
    "word_lists = ['2017-05-05-base-scowl-list.txt','2017-05-24-kjv-wordlist.txt']\n",
    "compiled_dict = create_spelling_dictionary('data', word_lists)"
   ]
  },
  {
   "cell_type": "code",
   "execution_count": 29,
   "metadata": {
    "ExecuteTime": {
     "end_time": "2017-06-05T02:37:17.471885",
     "start_time": "2017-06-05T02:37:17.463848Z"
    }
   },
   "outputs": [
    {
     "data": {
      "text/plain": [
       "{'(',\n",
       " ']',\n",
       " 'bined',\n",
       " 'brans',\n",
       " 'caseine',\n",
       " 'centage',\n",
       " 'com-',\n",
       " 'con-',\n",
       " 'connec-',\n",
       " 'di-',\n",
       " 'e',\n",
       " 'eral',\n",
       " 'ess',\n",
       " 'gestive',\n",
       " 'manu-',\n",
       " 'min-',\n",
       " 'nitroge-',\n",
       " 'nutri-',\n",
       " 'o)',\n",
       " 'per-',\n",
       " 'proc-',\n",
       " 'sidered',\n",
       " 'soja',\n",
       " 'tion',\n",
       " 'tious',\n",
       " 'ñ'}"
      ]
     },
     "execution_count": 29,
     "metadata": {},
     "output_type": "execute_result"
    }
   ],
   "source": [
    "get_doc_errors(input_dir, filename, compiled_dict)"
   ]
  },
  {
   "cell_type": "markdown",
   "metadata": {},
   "source": [
    "## Seventh-day Adventist People and Places"
   ]
  },
  {
   "cell_type": "markdown",
   "metadata": {},
   "source": [
    "A second set of subject specific language comes from within the SDA. Using the Yearbooks produced by the denomination starting in 1883, I have compiled lists of the people serving leadership roles within the denomination, from Sabbath School teachers to the President of the General Conference. Browsing through the reported errors, many are people and place names. Since I had the data available from earlier work, I compiled the SDA last names and place names into wordlists.\n",
    "\n",
    "The code for creating wordlists from my datafiles, which are in Google Docs, is documented in the [module appendix](../appendix/create-SDA-people-and-places-lists.ipynb).\n",
    "\n",
    "Note: There are duplicates in the list of people because I forgot to limit the list to the unique names before saving to a file. While unsightly, the only consequence of this is a little more computation work when I make the combined spelling dictionary."
   ]
  },
  {
   "cell_type": "code",
   "execution_count": 30,
   "metadata": {
    "ExecuteTime": {
     "end_time": "2017-06-05T02:37:17.482557",
     "start_time": "2017-06-05T02:37:17.474234Z"
    },
    "collapsed": true
   },
   "outputs": [],
   "source": [
    "sda_people = readfile('data/', '2016-12-07-SDA-last-names.txt').splitlines()"
   ]
  },
  {
   "cell_type": "code",
   "execution_count": 31,
   "metadata": {
    "ExecuteTime": {
     "end_time": "2017-06-05T02:37:17.491174",
     "start_time": "2017-06-05T02:37:17.484926Z"
    }
   },
   "outputs": [
    {
     "data": {
      "text/plain": [
       "['Butler',\n",
       " 'Haskell',\n",
       " 'Henry',\n",
       " 'Kellogg',\n",
       " 'Kellogg',\n",
       " 'Oyen',\n",
       " 'Sisley',\n",
       " 'Fargo',\n",
       " 'Hall',\n",
       " 'Hall']"
      ]
     },
     "execution_count": 31,
     "metadata": {},
     "output_type": "execute_result"
    }
   ],
   "source": [
    "sda_people[:10]"
   ]
  },
  {
   "cell_type": "code",
   "execution_count": 32,
   "metadata": {
    "ExecuteTime": {
     "end_time": "2017-06-05T02:37:17.498666",
     "start_time": "2017-06-05T02:37:17.493182Z"
    },
    "collapsed": true
   },
   "outputs": [],
   "source": [
    "sda_places = readfile('data/', '2016-12-07-SDA-place-names.txt').splitlines()"
   ]
  },
  {
   "cell_type": "code",
   "execution_count": 33,
   "metadata": {
    "ExecuteTime": {
     "end_time": "2017-06-05T02:37:17.507167",
     "start_time": "2017-06-05T02:37:17.500869Z"
    }
   },
   "outputs": [
    {
     "data": {
      "text/plain": [
       "['Gray',\n",
       " 'Oroville',\n",
       " 'Shreveport',\n",
       " 'Sāo',\n",
       " 'Alto',\n",
       " 'Central',\n",
       " 'Castlereagh',\n",
       " 'Warrenton',\n",
       " 'Alexandria',\n",
       " 'Cannelton']"
      ]
     },
     "execution_count": 33,
     "metadata": {},
     "output_type": "execute_result"
    }
   ],
   "source": [
    "sda_places[:10]"
   ]
  },
  {
   "cell_type": "code",
   "execution_count": 34,
   "metadata": {
    "ExecuteTime": {
     "end_time": "2017-06-05T02:37:17.695335",
     "start_time": "2017-06-05T02:37:17.510684Z"
    },
    "collapsed": true
   },
   "outputs": [],
   "source": [
    "word_lists = ['2017-05-05-base-scowl-list.txt',\n",
    "              '2017-05-24-kjv-wordlist.txt',\n",
    "              '2016-12-07-SDA-last-names.txt',\n",
    "              '2016-12-07-SDA-place-names.txt'\n",
    "             ]\n",
    "compiled_dict = create_spelling_dictionary('data', word_lists)"
   ]
  },
  {
   "cell_type": "code",
   "execution_count": 35,
   "metadata": {
    "ExecuteTime": {
     "end_time": "2017-06-05T02:37:17.709093",
     "start_time": "2017-06-05T02:37:17.700873Z"
    }
   },
   "outputs": [
    {
     "data": {
      "text/plain": [
       "{'(',\n",
       " ']',\n",
       " 'bined',\n",
       " 'brans',\n",
       " 'caseine',\n",
       " 'centage',\n",
       " 'com-',\n",
       " 'con-',\n",
       " 'connec-',\n",
       " 'di-',\n",
       " 'e',\n",
       " 'eral',\n",
       " 'ess',\n",
       " 'gestive',\n",
       " 'manu-',\n",
       " 'min-',\n",
       " 'nitroge-',\n",
       " 'nutri-',\n",
       " 'o)',\n",
       " 'per-',\n",
       " 'proc-',\n",
       " 'sidered',\n",
       " 'soja',\n",
       " 'tion',\n",
       " 'tious',\n",
       " 'ñ'}"
      ]
     },
     "execution_count": 35,
     "metadata": {},
     "output_type": "execute_result"
    }
   ],
   "source": [
    "get_doc_errors( input_dir, filename, compiled_dict)"
   ]
  },
  {
   "cell_type": "markdown",
   "metadata": {},
   "source": [
    "## USGS Locations and Roman Numerals"
   ]
  },
  {
   "cell_type": "markdown",
   "metadata": {},
   "source": [
    "The final two external dataset I used to minimize false identification of errors were a list of U.S. city and town names from the [USGS](https://nationalmap.gov/small_scale/atlasftp.html?openChapters=chpref#chpref) and a list of roman numerals, as a number of these were removed from the base list when I filtered the words under 3 characters long. The code for converting the shape file from the USGS into a list of place names is included in the [module appendix](../appendix/create-list-of-US-place-names.ipynb)."
   ]
  },
  {
   "cell_type": "code",
   "execution_count": 36,
   "metadata": {
    "ExecuteTime": {
     "end_time": "2017-06-05T02:37:17.721234",
     "start_time": "2017-06-05T02:37:17.711746Z"
    },
    "collapsed": true
   },
   "outputs": [],
   "source": [
    "us_places = readfile('data/', '2017-01-03-US-place-names.txt').splitlines()"
   ]
  },
  {
   "cell_type": "code",
   "execution_count": 37,
   "metadata": {
    "ExecuteTime": {
     "end_time": "2017-06-05T02:37:17.734035",
     "start_time": "2017-06-05T02:37:17.724255Z"
    }
   },
   "outputs": [
    {
     "data": {
      "text/plain": [
       "['attu',\n",
       " 'point',\n",
       " 'hope',\n",
       " 'point',\n",
       " 'lay',\n",
       " 'diomede',\n",
       " 'gambell',\n",
       " 'tin',\n",
       " 'city',\n",
       " 'savoonga']"
      ]
     },
     "execution_count": 37,
     "metadata": {},
     "output_type": "execute_result"
    }
   ],
   "source": [
    "us_places[:10]"
   ]
  },
  {
   "cell_type": "code",
   "execution_count": 38,
   "metadata": {
    "ExecuteTime": {
     "end_time": "2017-06-05T02:37:18.044352",
     "start_time": "2017-06-05T02:37:17.736928Z"
    },
    "collapsed": true
   },
   "outputs": [],
   "source": [
    "word_lists = ['2017-05-05-base-scowl-list.txt',\n",
    "              '2017-05-24-kjv-wordlist.txt',\n",
    "              '2016-12-07-SDA-last-names.txt',\n",
    "              '2016-12-07-SDA-place-names.txt',\n",
    "              '2017-01-03-US-place-names.txt',\n",
    "              '2017-02-14-roman-numerals.txt'\n",
    "             ]\n",
    "compiled_dict = create_spelling_dictionary('data', word_lists)"
   ]
  },
  {
   "cell_type": "code",
   "execution_count": 39,
   "metadata": {
    "ExecuteTime": {
     "end_time": "2017-06-05T02:37:18.062350",
     "start_time": "2017-06-05T02:37:18.047682Z"
    }
   },
   "outputs": [
    {
     "data": {
      "text/plain": [
       "{'(',\n",
       " ']',\n",
       " 'bined',\n",
       " 'brans',\n",
       " 'caseine',\n",
       " 'centage',\n",
       " 'com-',\n",
       " 'con-',\n",
       " 'connec-',\n",
       " 'di-',\n",
       " 'e',\n",
       " 'eral',\n",
       " 'ess',\n",
       " 'gestive',\n",
       " 'manu-',\n",
       " 'min-',\n",
       " 'nitroge-',\n",
       " 'nutri-',\n",
       " 'o)',\n",
       " 'per-',\n",
       " 'proc-',\n",
       " 'sidered',\n",
       " 'soja',\n",
       " 'tion',\n",
       " 'tious',\n",
       " 'ñ'}"
      ]
     },
     "execution_count": 39,
     "metadata": {},
     "output_type": "execute_result"
    }
   ],
   "source": [
    "get_doc_errors(input_dir, filename, compiled_dict)"
   ]
  },
  {
   "cell_type": "markdown",
   "metadata": {},
   "source": [
    "# Next Steps\n",
    "\n",
    "With these lists in hand, I went through the different titles in the corpus and identified frequently used words that were escaping the above wordlists. As I will outline in the next notebook, many of the words that I found, which had not been captured by these wordlists, were related to religious persons and theological ideas; were alternative spellings created either intentionally or due to editor error; or can be attributed to John H. Kellogg and the health reform writings of the denomination."
   ]
  },
  {
   "cell_type": "markdown",
   "metadata": {},
   "source": [
    "# Final Word-lists"
   ]
  },
  {
   "cell_type": "markdown",
   "metadata": {
    "collapsed": true
   },
   "source": [
    "The final word lists are included in the data folder for this module. They are:\n",
    "\n",
    "+ [Base SCOWL List](./data/2017-05-05-base-scowl-list.txt)\n",
    "+ [KJV Words List](./data/2016-12-02-kjv-words.txt)\n",
    "+ [SDA Last Names](./data/2016-12-07-SDA-last-names.txt)\n",
    "+ [SDA Place Names](./data/2016-12-07-SDA-place-names.txt)\n",
    "+ [US Place Names](./data/2017-01-03-US-place-names.txt)\n",
    "+ [Roman Numerals](./data/2017-02-14-roman-numerals.txt)"
   ]
  }
 ],
 "metadata": {
  "anaconda-cloud": {},
  "kernelspec": {
   "display_name": "Python [conda env:GoH]",
   "language": "python",
   "name": "conda-env-GoH-py"
  },
  "language_info": {
   "codemirror_mode": {
    "name": "ipython",
    "version": 3
   },
   "file_extension": ".py",
   "mimetype": "text/x-python",
   "name": "python",
   "nbconvert_exporter": "python",
   "pygments_lexer": "ipython3",
   "version": "3.5.3"
  }
 },
 "nbformat": 4,
 "nbformat_minor": 2
}
