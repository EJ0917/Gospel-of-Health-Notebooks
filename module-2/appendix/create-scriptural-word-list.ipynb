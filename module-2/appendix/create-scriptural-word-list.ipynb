{
 "cells": [
  {
   "cell_type": "code",
   "execution_count": 1,
   "metadata": {
    "ExecuteTime": {
     "end_time": "2017-05-24T20:25:27.463790Z",
     "start_time": "2017-05-24T20:25:26.929391Z"
    },
    "collapsed": true
   },
   "outputs": [],
   "source": [
    "import csv\n",
    "from nltk import word_tokenize\n",
    "import os.path\n",
    "import re"
   ]
  },
  {
   "cell_type": "code",
   "execution_count": 2,
   "metadata": {
    "ExecuteTime": {
     "end_time": "2017-05-24T20:25:27.470642Z",
     "start_time": "2017-05-24T20:25:27.465771Z"
    },
    "collapsed": true
   },
   "outputs": [],
   "source": [
    "_dir = \"/Users/jeriwieringa/Dissertation/drafts/data/\""
   ]
  },
  {
   "cell_type": "code",
   "execution_count": 3,
   "metadata": {
    "ExecuteTime": {
     "end_time": "2017-05-24T20:25:28.261462Z",
     "start_time": "2017-05-24T20:25:28.256618Z"
    },
    "collapsed": true
   },
   "outputs": [],
   "source": [
    "\"\"\"The source of the kjv file is the Christian Classics Ethereal Library (https://www.ccel.org/ccel/bible/kjv.txt). \n",
    "I removed the index and URL links from the end of the provided file before processing.\n",
    "\"\"\"\n",
    "file = \"kjv.txt\""
   ]
  },
  {
   "cell_type": "code",
   "execution_count": 4,
   "metadata": {
    "ExecuteTime": {
     "end_time": "2017-05-24T20:25:29.243674Z",
     "start_time": "2017-05-24T20:25:29.232342Z"
    },
    "collapsed": true
   },
   "outputs": [],
   "source": [
    "def process_text(text):\n",
    "    text_cleaned = re.sub(r\"[^a-zA-Z]\", \" \", text)\n",
    "    tokens = word_tokenize(text_cleaned)\n",
    "    tokens_lower = [w.lower() for w in tokens]\n",
    "    return(list(set(tokens_lower)))"
   ]
  },
  {
   "cell_type": "code",
   "execution_count": 5,
   "metadata": {
    "ExecuteTime": {
     "end_time": "2017-05-24T20:25:33.937375Z",
     "start_time": "2017-05-24T20:25:30.372700Z"
    }
   },
   "outputs": [
    {
     "name": "stdout",
     "output_type": "stream",
     "text": [
      "kjv.txt\n",
      "biatas\n",
      "<class 'list'>\n"
     ]
    }
   ],
   "source": [
    "with open(os.path.join(_dir, file), \"r\") as f:\n",
    "    print(file)\n",
    "    content = f.read()\n",
    "    unique_words = process_text(content)\n",
    "    print(unique_words[2])\n",
    "    print(type(unique_words))\n",
    "    with open(os.path.join(_dir, \"word-lists\", \"2017-05-24-kjv-wordlist.txt\"), \"w\") as outfile:\n",
    "        for each in unique_words:\n",
    "            outfile.write(\"{}\\n\".format(each))"
   ]
  },
  {
   "cell_type": "code",
   "execution_count": 6,
   "metadata": {
    "ExecuteTime": {
     "end_time": "2017-05-24T20:26:48.462018Z",
     "start_time": "2017-05-24T20:26:47.572100Z"
    }
   },
   "outputs": [
    {
     "name": "stdout",
     "output_type": "stream",
     "text": [
      "{'commit_hash': '51ce9d73b',\n",
      " 'commit_source': 'installation',\n",
      " 'default_encoding': 'UTF-8',\n",
      " 'ipython_path': '/Users/jeriwieringa/miniconda3/envs/GoH/lib/python3.5/site-packages/IPython',\n",
      " 'ipython_version': '6.0.0',\n",
      " 'os_name': 'posix',\n",
      " 'platform': 'Darwin-16.6.0-x86_64-i386-64bit',\n",
      " 'sys_executable': '/Users/jeriwieringa/miniconda3/envs/GoH/bin/python',\n",
      " 'sys_platform': 'darwin',\n",
      " 'sys_version': '3.5.3 |Continuum Analytics, Inc.| (default, Mar  6 2017, '\n",
      "                '12:15:08) \\n'\n",
      "                '[GCC 4.2.1 Compatible Apple LLVM 6.0 (clang-600.0.57)]'}\n",
      "anaconda-client==1.6.2\n",
      "appnope==0.1.0\n",
      "beautifulsoup4==4.5.3\n",
      "bleach==1.5.0\n",
      "bokeh==0.12.5\n",
      "clyent==1.2.2\n",
      "decorator==4.0.11\n",
      "entrypoints==0.2.2\n",
      "Ghost.py==0.2.3\n",
      "html5lib==0.999\n",
      "ipykernel==4.6.1\n",
      "ipython==6.0.0\n",
      "ipython-genutils==0.2.0\n",
      "ipywidgets==6.0.0\n",
      "Jinja2==2.9.6\n",
      "jsonschema==2.6.0\n",
      "jupyter==1.0.0\n",
      "jupyter-client==5.0.1\n",
      "jupyter-console==5.1.0\n",
      "jupyter-contrib-core==0.3.1\n",
      "jupyter-contrib-nbextensions==0.2.7\n",
      "jupyter-core==4.3.0\n",
      "jupyter-highlight-selected-word==0.0.11\n",
      "jupyter-latex-envs==1.3.8.2\n",
      "jupyter-nbextensions-configurator==0.2.4\n",
      "lxml==3.7.3\n",
      "MarkupSafe==0.23\n",
      "mistune==0.7.4\n",
      "nb-anacondacloud==1.2.0\n",
      "nb-conda==2.0.0\n",
      "nb-conda-kernels==2.0.0\n",
      "nb-config-manager==0.1.3\n",
      "nbbrowserpdf==0.2.1\n",
      "nbconvert==5.1.1\n",
      "nbformat==4.3.0\n",
      "nbpresent==3.0.2\n",
      "nltk==3.2.2\n",
      "notebook==5.0.0\n",
      "numpy==1.12.1\n",
      "pandas==0.19.2\n",
      "pandocfilters==1.4.1\n",
      "pexpect==4.2.1\n",
      "pickleshare==0.7.4\n",
      "prompt-toolkit==1.0.14\n",
      "psutil==5.2.1\n",
      "ptyprocess==0.5.1\n",
      "Pygments==2.2.0\n",
      "PyPDF2==1.26.0\n",
      "python-dateutil==2.6.0\n",
      "pytz==2017.2\n",
      "PyYAML==3.12\n",
      "pyzmq==16.0.2\n",
      "qtconsole==4.3.0\n",
      "requests==2.13.0\n",
      "simplegeneric==0.8.1\n",
      "six==1.10.0\n",
      "terminado==0.6\n",
      "testpath==0.3\n",
      "tornado==4.4.2\n",
      "traitlets==4.3.2\n",
      "wcwidth==0.1.7\n",
      "wget==2.2\n",
      "widgetsnbextension==2.0.0\n"
     ]
    }
   ],
   "source": [
    "# %load \"shared_elements/system_info.py\"\n",
    "import IPython\n",
    "print (IPython.sys_info())\n",
    "!pip freeze"
   ]
  },
  {
   "cell_type": "code",
   "execution_count": null,
   "metadata": {
    "collapsed": true
   },
   "outputs": [],
   "source": []
  }
 ],
 "metadata": {
  "anaconda-cloud": {},
  "kernelspec": {
   "display_name": "Python [default]",
   "language": "python",
   "name": "python3"
  },
  "language_info": {
   "codemirror_mode": {
    "name": "ipython",
    "version": 3
   },
   "file_extension": ".py",
   "mimetype": "text/x-python",
   "name": "python",
   "nbconvert_exporter": "python",
   "pygments_lexer": "ipython3",
   "version": "3.5.2"
  }
 },
 "nbformat": 4,
 "nbformat_minor": 1
}
