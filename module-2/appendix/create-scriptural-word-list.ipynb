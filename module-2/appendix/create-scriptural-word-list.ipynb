{
 "cells": [
  {
   "cell_type": "code",
   "execution_count": 1,
   "metadata": {
    "collapsed": true
   },
   "outputs": [],
   "source": [
    "import csv\n",
    "from nltk import word_tokenize\n",
    "import re"
   ]
  },
  {
   "cell_type": "code",
   "execution_count": 2,
   "metadata": {
    "collapsed": true
   },
   "outputs": [],
   "source": [
    "dir = \"/home/jerielizabeth/dissertation/drafts/data/\""
   ]
  },
  {
   "cell_type": "code",
   "execution_count": 3,
   "metadata": {
    "collapsed": true
   },
   "outputs": [],
   "source": [
    "# The source of the kjv file is the Christian Classics Ethereal Library (https://www.ccel.org/ccel/bible/kjv.txt)\n",
    "file = \"kjv.txt\""
   ]
  },
  {
   "cell_type": "code",
   "execution_count": 4,
   "metadata": {
    "collapsed": true
   },
   "outputs": [],
   "source": [
    "def process_text(text):\n",
    "    text_cleaned = re.sub(r\"[^a-zA-Z]\", \" \", text)\n",
    "    tokens = word_tokenize(text_cleaned)\n",
    "    tokens_lower = [w.lower() for w in tokens]\n",
    "    return(list(set(tokens_lower)))"
   ]
  },
  {
   "cell_type": "code",
   "execution_count": 5,
   "metadata": {},
   "outputs": [
    {
     "name": "stdout",
     "output_type": "stream",
     "text": [
      "kjv.txt\n",
      "murdered\n",
      "<class 'list'>\n"
     ]
    }
   ],
   "source": [
    "with open(dir + file, \"r\") as f:\n",
    "    print(file)\n",
    "    content = f.read()\n",
    "    unique_words = process_text(content)\n",
    "    print(unique_words[2])\n",
    "    print(type(unique_words))\n",
    "    with open(dir + \"word-lists/kjv_bible_wordlist.txt\", \"w\") as outfile:\n",
    "        for each in unique_words:\n",
    "            outfile.write(\"{}\\n\".format(each))"
   ]
  },
  {
   "cell_type": "code",
   "execution_count": 6,
   "metadata": {},
   "outputs": [
    {
     "name": "stdout",
     "output_type": "stream",
     "text": [
      "{'commit_hash': 'b573435',\n",
      " 'commit_source': 'installation',\n",
      " 'default_encoding': 'UTF-8',\n",
      " 'ipython_path': '/home/jerielizabeth/miniconda3/envs/dissertation/lib/python3.5/site-packages/IPython',\n",
      " 'ipython_version': '4.1.2',\n",
      " 'os_name': 'posix',\n",
      " 'platform': 'Linux-4.4.0-45-generic-x86_64-with-debian-stretch-sid',\n",
      " 'sys_executable': '/home/jerielizabeth/miniconda3/envs/dissertation/bin/python',\n",
      " 'sys_platform': 'linux',\n",
      " 'sys_version': '3.5.2 |Continuum Analytics, Inc.| (default, Jul  2 2016, '\n",
      "                '17:53:06) \\n'\n",
      "                '[GCC 4.4.7 20120313 (Red Hat 4.4.7-1)]'}\n",
      "anaconda-client==1.4.0\n",
      "argh==0.26.1\n",
      "blinker==1.4\n",
      "bokeh==0.12.1\n",
      "boto==2.42.0\n",
      "bz2file==0.98\n",
      "chest==0.2.3\n",
      "cloudpickle==0.2.1\n",
      "clyent==1.2.2\n",
      "dask==0.11.0\n",
      "datashader==0.4.0\n",
      "datashape==0.5.2\n",
      "decorator==4.0.9\n",
      "docutils==0.12\n",
      "doit==0.29.0\n",
      "gensim==0.12.4\n",
      "ghp-import2==1.0.1\n",
      "HeapDict==1.0.0\n",
      "husl==4.0.3\n",
      "ipykernel==4.3.1\n",
      "ipython==4.1.2\n",
      "ipython-genutils==0.1.0\n",
      "ipywidgets==4.1.1\n",
      "Jinja2==2.8\n",
      "jsonschema==2.4.0\n",
      "jupyter==1.0.0\n",
      "jupyter-client==4.1.1\n",
      "jupyter-console==4.1.0\n",
      "jupyter-core==4.0.6\n",
      "llvmlite==0.12.1\n",
      "locket==0.2.0\n",
      "Logbook==1.0.0\n",
      "Markdown==2.6.5\n",
      "MarkupSafe==0.23\n",
      "mistune==0.7.1\n",
      "multipledispatch==0.4.8\n",
      "nbconvert==4.1.0\n",
      "nbformat==4.0.1\n",
      "networkx==1.11\n",
      "nltk==3.2.1\n",
      "notebook==4.1.0\n",
      "numba==0.27.0\n",
      "numpy==1.11.1\n",
      "odo==0.4.2\n",
      "pandas==0.18.1\n",
      "partd==0.3.6\n",
      "path.py==0.0.0\n",
      "pexpect==3.3\n",
      "pickleshare==0.5\n",
      "Pillow==3.3.0\n",
      "ptyprocess==0.5\n",
      "Pygments==2.1.1\n",
      "pyinotify==0.9.6\n",
      "python-dateutil==2.5.3\n",
      "pytz==2016.4\n",
      "PyYAML==3.11\n",
      "pyzmq==15.2.0\n",
      "qtconsole==4.1.1\n",
      "requests==2.10.0\n",
      "scipy==0.18.0\n",
      "simplegeneric==0.8.1\n",
      "six==1.10.0\n",
      "smart-open==1.3.3\n",
      "terminado==0.5\n",
      "textblob==0.11.1\n",
      "toolz==0.8.0\n",
      "tornado==4.3\n",
      "traitlets==4.1.0\n",
      "xarray==0.8.2\n",
      "\u001b[33mYou are using pip version 8.1.2, however version 9.0.1 is available.\n",
      "You should consider upgrading via the 'pip install --upgrade pip' command.\u001b[0m\n"
     ]
    }
   ],
   "source": [
    "# %load \"shared_elements/system_info.py\"\n",
    "import IPython\n",
    "print (IPython.sys_info())\n",
    "!pip freeze"
   ]
  },
  {
   "cell_type": "code",
   "execution_count": null,
   "metadata": {
    "collapsed": true
   },
   "outputs": [],
   "source": []
  }
 ],
 "metadata": {
  "anaconda-cloud": {},
  "kernelspec": {
   "display_name": "Python [default]",
   "language": "python",
   "name": "python3"
  },
  "language_info": {
   "codemirror_mode": {
    "name": "ipython",
    "version": 3
   },
   "file_extension": ".py",
   "mimetype": "text/x-python",
   "name": "python",
   "nbconvert_exporter": "python",
   "pygments_lexer": "ipython3",
   "version": "3.5.3"
  }
 },
 "nbformat": 4,
 "nbformat_minor": 1
}
