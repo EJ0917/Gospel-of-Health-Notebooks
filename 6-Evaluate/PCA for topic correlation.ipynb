{
 "cells": [
  {
   "cell_type": "code",
   "execution_count": 1,
   "metadata": {
    "ExecuteTime": {
     "end_time": "2018-03-08T05:22:44.188277Z",
     "start_time": "2018-03-08T05:22:44.159808Z"
    },
    "collapsed": true
   },
   "outputs": [],
   "source": [
    "%load_ext autoreload\n",
    "%autoreload 1"
   ]
  },
  {
   "cell_type": "code",
   "execution_count": 2,
   "metadata": {
    "ExecuteTime": {
     "end_time": "2018-03-08T05:22:46.755343Z",
     "start_time": "2018-03-08T05:22:44.673633Z"
    },
    "collapsed": true
   },
   "outputs": [],
   "source": [
    "import GoH.verify_model\n",
    "from matplotlib import pyplot as plt\n",
    "import os\n",
    "import pandas as pd\n",
    "import seaborn as sns\n",
    "import sklearn.preprocessing"
   ]
  },
  {
   "cell_type": "code",
   "execution_count": 3,
   "metadata": {
    "ExecuteTime": {
     "end_time": "2018-03-08T05:22:46.765575Z",
     "start_time": "2018-03-08T05:22:46.757832Z"
    },
    "collapsed": true
   },
   "outputs": [],
   "source": [
    "%matplotlib inline"
   ]
  },
  {
   "cell_type": "code",
   "execution_count": 4,
   "metadata": {
    "ExecuteTime": {
     "end_time": "2018-03-08T05:22:46.771928Z",
     "start_time": "2018-03-08T05:22:46.767565Z"
    },
    "collapsed": true
   },
   "outputs": [],
   "source": [
    "dataDir = '../../data/'\n",
    "modelSet = 'target_300_10.18497.state.gz'"
   ]
  },
  {
   "cell_type": "code",
   "execution_count": 5,
   "metadata": {
    "ExecuteTime": {
     "end_time": "2018-03-08T05:24:43.362490Z",
     "start_time": "2018-03-08T05:22:47.739572Z"
    },
    "collapsed": true
   },
   "outputs": [],
   "source": [
    "df = GoH.verify_model.state_to_df(os.path.join(dataDir, modelSet))"
   ]
  },
  {
   "cell_type": "code",
   "execution_count": 6,
   "metadata": {
    "ExecuteTime": {
     "end_time": "2018-03-08T05:28:00.659347Z",
     "start_time": "2018-03-08T05:25:07.223630Z"
    }
   },
   "outputs": [],
   "source": [
    "params = GoH.verify_model.extract_params(os.path.join(dataDir, modelSet))"
   ]
  },
  {
   "cell_type": "code",
   "execution_count": 7,
   "metadata": {
    "ExecuteTime": {
     "end_time": "2018-03-08T05:28:21.619403Z",
     "start_time": "2018-03-08T05:28:21.563209Z"
    }
   },
   "outputs": [
    {
     "data": {
      "text/plain": [
       "4.695902637960019"
      ]
     },
     "execution_count": 7,
     "metadata": {},
     "output_type": "execute_result"
    }
   ],
   "source": [
    "alpha = sum([float(x) for x in params[0][1:]])\n",
    "alpha"
   ]
  },
  {
   "cell_type": "code",
   "execution_count": 8,
   "metadata": {
    "ExecuteTime": {
     "end_time": "2018-03-08T05:28:36.181477Z",
     "start_time": "2018-03-08T05:28:26.619848Z"
    }
   },
   "outputs": [
    {
     "data": {
      "text/html": [
       "<div>\n",
       "<table border=\"1\" class=\"dataframe\">\n",
       "  <thead>\n",
       "    <tr style=\"text-align: right;\">\n",
       "      <th></th>\n",
       "      <th>#doc</th>\n",
       "      <th>type</th>\n",
       "      <th>topic</th>\n",
       "    </tr>\n",
       "  </thead>\n",
       "  <tbody>\n",
       "    <tr>\n",
       "      <th>0</th>\n",
       "      <td>0</td>\n",
       "      <td>uncommon</td>\n",
       "      <td>165</td>\n",
       "    </tr>\n",
       "    <tr>\n",
       "      <th>1</th>\n",
       "      <td>0</td>\n",
       "      <td>thing</td>\n",
       "      <td>224</td>\n",
       "    </tr>\n",
       "    <tr>\n",
       "      <th>2</th>\n",
       "      <td>0</td>\n",
       "      <td>member</td>\n",
       "      <td>224</td>\n",
       "    </tr>\n",
       "    <tr>\n",
       "      <th>3</th>\n",
       "      <td>0</td>\n",
       "      <td>boarding</td>\n",
       "      <td>136</td>\n",
       "    </tr>\n",
       "    <tr>\n",
       "      <th>4</th>\n",
       "      <td>0</td>\n",
       "      <td>school</td>\n",
       "      <td>14</td>\n",
       "    </tr>\n",
       "    <tr>\n",
       "      <th>5</th>\n",
       "      <td>0</td>\n",
       "      <td>form</td>\n",
       "      <td>237</td>\n",
       "    </tr>\n",
       "    <tr>\n",
       "      <th>6</th>\n",
       "      <td>0</td>\n",
       "      <td>clique</td>\n",
       "      <td>94</td>\n",
       "    </tr>\n",
       "    <tr>\n",
       "      <th>7</th>\n",
       "      <td>0</td>\n",
       "      <td>pair</td>\n",
       "      <td>11</td>\n",
       "    </tr>\n",
       "    <tr>\n",
       "      <th>8</th>\n",
       "      <td>0</td>\n",
       "      <td>tend</td>\n",
       "      <td>136</td>\n",
       "    </tr>\n",
       "    <tr>\n",
       "      <th>9</th>\n",
       "      <td>0</td>\n",
       "      <td>thank</td>\n",
       "      <td>224</td>\n",
       "    </tr>\n",
       "  </tbody>\n",
       "</table>\n",
       "</div>"
      ],
      "text/plain": [
       "   #doc      type  topic\n",
       "0     0  uncommon    165\n",
       "1     0     thing    224\n",
       "2     0    member    224\n",
       "3     0  boarding    136\n",
       "4     0    school     14\n",
       "5     0      form    237\n",
       "6     0    clique     94\n",
       "7     0      pair     11\n",
       "8     0      tend    136\n",
       "9     0     thank    224"
      ]
     },
     "execution_count": 8,
     "metadata": {},
     "output_type": "execute_result"
    }
   ],
   "source": [
    "dt = df[['#doc', 'type', 'topic']]\n",
    "dt[:10]"
   ]
  },
  {
   "cell_type": "code",
   "execution_count": 9,
   "metadata": {
    "ExecuteTime": {
     "end_time": "2018-03-08T05:30:00.954673Z",
     "start_time": "2018-03-08T05:29:23.383016Z"
    },
    "collapsed": true
   },
   "outputs": [],
   "source": [
    "dt = dt.groupby(['#doc', 'topic']).agg('count')"
   ]
  },
  {
   "cell_type": "code",
   "execution_count": 10,
   "metadata": {
    "ExecuteTime": {
     "end_time": "2018-03-08T05:30:01.000878Z",
     "start_time": "2018-03-08T05:30:00.962523Z"
    }
   },
   "outputs": [
    {
     "data": {
      "text/html": [
       "<div>\n",
       "<table border=\"1\" class=\"dataframe\">\n",
       "  <thead>\n",
       "    <tr style=\"text-align: right;\">\n",
       "      <th></th>\n",
       "      <th></th>\n",
       "      <th>type</th>\n",
       "    </tr>\n",
       "    <tr>\n",
       "      <th>#doc</th>\n",
       "      <th>topic</th>\n",
       "      <th></th>\n",
       "    </tr>\n",
       "  </thead>\n",
       "  <tbody>\n",
       "    <tr>\n",
       "      <th rowspan=\"10\" valign=\"top\">0</th>\n",
       "      <th>11</th>\n",
       "      <td>10</td>\n",
       "    </tr>\n",
       "    <tr>\n",
       "      <th>14</th>\n",
       "      <td>7</td>\n",
       "    </tr>\n",
       "    <tr>\n",
       "      <th>94</th>\n",
       "      <td>14</td>\n",
       "    </tr>\n",
       "    <tr>\n",
       "      <th>102</th>\n",
       "      <td>2</td>\n",
       "    </tr>\n",
       "    <tr>\n",
       "      <th>113</th>\n",
       "      <td>23</td>\n",
       "    </tr>\n",
       "    <tr>\n",
       "      <th>136</th>\n",
       "      <td>12</td>\n",
       "    </tr>\n",
       "    <tr>\n",
       "      <th>144</th>\n",
       "      <td>1</td>\n",
       "    </tr>\n",
       "    <tr>\n",
       "      <th>165</th>\n",
       "      <td>1</td>\n",
       "    </tr>\n",
       "    <tr>\n",
       "      <th>171</th>\n",
       "      <td>12</td>\n",
       "    </tr>\n",
       "    <tr>\n",
       "      <th>175</th>\n",
       "      <td>1</td>\n",
       "    </tr>\n",
       "  </tbody>\n",
       "</table>\n",
       "</div>"
      ],
      "text/plain": [
       "            type\n",
       "#doc topic      \n",
       "0    11       10\n",
       "     14        7\n",
       "     94       14\n",
       "     102       2\n",
       "     113      23\n",
       "     136      12\n",
       "     144       1\n",
       "     165       1\n",
       "     171      12\n",
       "     175       1"
      ]
     },
     "execution_count": 10,
     "metadata": {},
     "output_type": "execute_result"
    }
   ],
   "source": [
    "dt[:10]"
   ]
  },
  {
   "cell_type": "code",
   "execution_count": 11,
   "metadata": {
    "ExecuteTime": {
     "end_time": "2018-03-08T05:31:04.107953Z",
     "start_time": "2018-03-08T05:31:03.978685Z"
    },
    "collapsed": true
   },
   "outputs": [],
   "source": [
    "dt = dt.reset_index()"
   ]
  },
  {
   "cell_type": "code",
   "execution_count": 12,
   "metadata": {
    "ExecuteTime": {
     "end_time": "2018-03-08T05:31:17.478289Z",
     "start_time": "2018-03-08T05:31:13.101261Z"
    }
   },
   "outputs": [],
   "source": [
    "dt = dt.pivot(index='#doc', columns='topic', values='type').fillna(value=0)"
   ]
  },
  {
   "cell_type": "code",
   "execution_count": 13,
   "metadata": {
    "ExecuteTime": {
     "end_time": "2018-03-08T05:31:17.943435Z",
     "start_time": "2018-03-08T05:31:17.865487Z"
    }
   },
   "outputs": [
    {
     "data": {
      "text/html": [
       "<div>\n",
       "<table border=\"1\" class=\"dataframe\">\n",
       "  <thead>\n",
       "    <tr style=\"text-align: right;\">\n",
       "      <th>topic</th>\n",
       "      <th>0</th>\n",
       "      <th>1</th>\n",
       "      <th>2</th>\n",
       "      <th>3</th>\n",
       "      <th>4</th>\n",
       "      <th>5</th>\n",
       "      <th>6</th>\n",
       "      <th>7</th>\n",
       "      <th>8</th>\n",
       "      <th>9</th>\n",
       "      <th>...</th>\n",
       "      <th>240</th>\n",
       "      <th>241</th>\n",
       "      <th>242</th>\n",
       "      <th>243</th>\n",
       "      <th>244</th>\n",
       "      <th>245</th>\n",
       "      <th>246</th>\n",
       "      <th>247</th>\n",
       "      <th>248</th>\n",
       "      <th>249</th>\n",
       "    </tr>\n",
       "    <tr>\n",
       "      <th>#doc</th>\n",
       "      <th></th>\n",
       "      <th></th>\n",
       "      <th></th>\n",
       "      <th></th>\n",
       "      <th></th>\n",
       "      <th></th>\n",
       "      <th></th>\n",
       "      <th></th>\n",
       "      <th></th>\n",
       "      <th></th>\n",
       "      <th></th>\n",
       "      <th></th>\n",
       "      <th></th>\n",
       "      <th></th>\n",
       "      <th></th>\n",
       "      <th></th>\n",
       "      <th></th>\n",
       "      <th></th>\n",
       "      <th></th>\n",
       "      <th></th>\n",
       "      <th></th>\n",
       "    </tr>\n",
       "  </thead>\n",
       "  <tbody>\n",
       "    <tr>\n",
       "      <th>0</th>\n",
       "      <td>0.0</td>\n",
       "      <td>0.0</td>\n",
       "      <td>0.0</td>\n",
       "      <td>0.0</td>\n",
       "      <td>0.0</td>\n",
       "      <td>0.0</td>\n",
       "      <td>0.0</td>\n",
       "      <td>0.0</td>\n",
       "      <td>0.0</td>\n",
       "      <td>0.0</td>\n",
       "      <td>...</td>\n",
       "      <td>0.0</td>\n",
       "      <td>0.0</td>\n",
       "      <td>0.0</td>\n",
       "      <td>0.0</td>\n",
       "      <td>0.0</td>\n",
       "      <td>1.0</td>\n",
       "      <td>0.0</td>\n",
       "      <td>0.0</td>\n",
       "      <td>0.0</td>\n",
       "      <td>0.0</td>\n",
       "    </tr>\n",
       "    <tr>\n",
       "      <th>1</th>\n",
       "      <td>0.0</td>\n",
       "      <td>0.0</td>\n",
       "      <td>0.0</td>\n",
       "      <td>0.0</td>\n",
       "      <td>4.0</td>\n",
       "      <td>1.0</td>\n",
       "      <td>0.0</td>\n",
       "      <td>0.0</td>\n",
       "      <td>0.0</td>\n",
       "      <td>0.0</td>\n",
       "      <td>...</td>\n",
       "      <td>0.0</td>\n",
       "      <td>0.0</td>\n",
       "      <td>0.0</td>\n",
       "      <td>0.0</td>\n",
       "      <td>0.0</td>\n",
       "      <td>0.0</td>\n",
       "      <td>0.0</td>\n",
       "      <td>0.0</td>\n",
       "      <td>0.0</td>\n",
       "      <td>0.0</td>\n",
       "    </tr>\n",
       "    <tr>\n",
       "      <th>2</th>\n",
       "      <td>0.0</td>\n",
       "      <td>0.0</td>\n",
       "      <td>0.0</td>\n",
       "      <td>0.0</td>\n",
       "      <td>0.0</td>\n",
       "      <td>1.0</td>\n",
       "      <td>0.0</td>\n",
       "      <td>0.0</td>\n",
       "      <td>18.0</td>\n",
       "      <td>0.0</td>\n",
       "      <td>...</td>\n",
       "      <td>0.0</td>\n",
       "      <td>0.0</td>\n",
       "      <td>0.0</td>\n",
       "      <td>0.0</td>\n",
       "      <td>0.0</td>\n",
       "      <td>0.0</td>\n",
       "      <td>0.0</td>\n",
       "      <td>0.0</td>\n",
       "      <td>0.0</td>\n",
       "      <td>0.0</td>\n",
       "    </tr>\n",
       "    <tr>\n",
       "      <th>3</th>\n",
       "      <td>0.0</td>\n",
       "      <td>0.0</td>\n",
       "      <td>0.0</td>\n",
       "      <td>0.0</td>\n",
       "      <td>0.0</td>\n",
       "      <td>0.0</td>\n",
       "      <td>0.0</td>\n",
       "      <td>0.0</td>\n",
       "      <td>0.0</td>\n",
       "      <td>0.0</td>\n",
       "      <td>...</td>\n",
       "      <td>0.0</td>\n",
       "      <td>0.0</td>\n",
       "      <td>0.0</td>\n",
       "      <td>0.0</td>\n",
       "      <td>0.0</td>\n",
       "      <td>0.0</td>\n",
       "      <td>0.0</td>\n",
       "      <td>0.0</td>\n",
       "      <td>0.0</td>\n",
       "      <td>0.0</td>\n",
       "    </tr>\n",
       "    <tr>\n",
       "      <th>4</th>\n",
       "      <td>0.0</td>\n",
       "      <td>0.0</td>\n",
       "      <td>7.0</td>\n",
       "      <td>0.0</td>\n",
       "      <td>0.0</td>\n",
       "      <td>0.0</td>\n",
       "      <td>0.0</td>\n",
       "      <td>0.0</td>\n",
       "      <td>0.0</td>\n",
       "      <td>0.0</td>\n",
       "      <td>...</td>\n",
       "      <td>0.0</td>\n",
       "      <td>0.0</td>\n",
       "      <td>0.0</td>\n",
       "      <td>1.0</td>\n",
       "      <td>0.0</td>\n",
       "      <td>0.0</td>\n",
       "      <td>0.0</td>\n",
       "      <td>0.0</td>\n",
       "      <td>0.0</td>\n",
       "      <td>0.0</td>\n",
       "    </tr>\n",
       "    <tr>\n",
       "      <th>5</th>\n",
       "      <td>0.0</td>\n",
       "      <td>0.0</td>\n",
       "      <td>0.0</td>\n",
       "      <td>0.0</td>\n",
       "      <td>0.0</td>\n",
       "      <td>0.0</td>\n",
       "      <td>0.0</td>\n",
       "      <td>0.0</td>\n",
       "      <td>3.0</td>\n",
       "      <td>0.0</td>\n",
       "      <td>...</td>\n",
       "      <td>0.0</td>\n",
       "      <td>0.0</td>\n",
       "      <td>0.0</td>\n",
       "      <td>0.0</td>\n",
       "      <td>0.0</td>\n",
       "      <td>0.0</td>\n",
       "      <td>0.0</td>\n",
       "      <td>0.0</td>\n",
       "      <td>0.0</td>\n",
       "      <td>0.0</td>\n",
       "    </tr>\n",
       "    <tr>\n",
       "      <th>6</th>\n",
       "      <td>0.0</td>\n",
       "      <td>2.0</td>\n",
       "      <td>0.0</td>\n",
       "      <td>0.0</td>\n",
       "      <td>0.0</td>\n",
       "      <td>0.0</td>\n",
       "      <td>0.0</td>\n",
       "      <td>0.0</td>\n",
       "      <td>0.0</td>\n",
       "      <td>0.0</td>\n",
       "      <td>...</td>\n",
       "      <td>0.0</td>\n",
       "      <td>0.0</td>\n",
       "      <td>0.0</td>\n",
       "      <td>0.0</td>\n",
       "      <td>0.0</td>\n",
       "      <td>0.0</td>\n",
       "      <td>0.0</td>\n",
       "      <td>0.0</td>\n",
       "      <td>0.0</td>\n",
       "      <td>0.0</td>\n",
       "    </tr>\n",
       "    <tr>\n",
       "      <th>7</th>\n",
       "      <td>0.0</td>\n",
       "      <td>0.0</td>\n",
       "      <td>0.0</td>\n",
       "      <td>0.0</td>\n",
       "      <td>0.0</td>\n",
       "      <td>0.0</td>\n",
       "      <td>0.0</td>\n",
       "      <td>1.0</td>\n",
       "      <td>0.0</td>\n",
       "      <td>0.0</td>\n",
       "      <td>...</td>\n",
       "      <td>0.0</td>\n",
       "      <td>0.0</td>\n",
       "      <td>0.0</td>\n",
       "      <td>0.0</td>\n",
       "      <td>11.0</td>\n",
       "      <td>0.0</td>\n",
       "      <td>0.0</td>\n",
       "      <td>0.0</td>\n",
       "      <td>0.0</td>\n",
       "      <td>0.0</td>\n",
       "    </tr>\n",
       "    <tr>\n",
       "      <th>8</th>\n",
       "      <td>0.0</td>\n",
       "      <td>0.0</td>\n",
       "      <td>0.0</td>\n",
       "      <td>0.0</td>\n",
       "      <td>0.0</td>\n",
       "      <td>0.0</td>\n",
       "      <td>0.0</td>\n",
       "      <td>0.0</td>\n",
       "      <td>0.0</td>\n",
       "      <td>0.0</td>\n",
       "      <td>...</td>\n",
       "      <td>0.0</td>\n",
       "      <td>0.0</td>\n",
       "      <td>0.0</td>\n",
       "      <td>0.0</td>\n",
       "      <td>0.0</td>\n",
       "      <td>0.0</td>\n",
       "      <td>0.0</td>\n",
       "      <td>0.0</td>\n",
       "      <td>0.0</td>\n",
       "      <td>0.0</td>\n",
       "    </tr>\n",
       "    <tr>\n",
       "      <th>9</th>\n",
       "      <td>0.0</td>\n",
       "      <td>0.0</td>\n",
       "      <td>0.0</td>\n",
       "      <td>0.0</td>\n",
       "      <td>2.0</td>\n",
       "      <td>0.0</td>\n",
       "      <td>0.0</td>\n",
       "      <td>0.0</td>\n",
       "      <td>0.0</td>\n",
       "      <td>0.0</td>\n",
       "      <td>...</td>\n",
       "      <td>0.0</td>\n",
       "      <td>0.0</td>\n",
       "      <td>0.0</td>\n",
       "      <td>0.0</td>\n",
       "      <td>0.0</td>\n",
       "      <td>0.0</td>\n",
       "      <td>0.0</td>\n",
       "      <td>0.0</td>\n",
       "      <td>0.0</td>\n",
       "      <td>0.0</td>\n",
       "    </tr>\n",
       "  </tbody>\n",
       "</table>\n",
       "<p>10 rows × 250 columns</p>\n",
       "</div>"
      ],
      "text/plain": [
       "topic  0    1    2    3    4    5    6    7     8    9   ...   240  241  242  \\\n",
       "#doc                                                     ...                   \n",
       "0      0.0  0.0  0.0  0.0  0.0  0.0  0.0  0.0   0.0  0.0 ...   0.0  0.0  0.0   \n",
       "1      0.0  0.0  0.0  0.0  4.0  1.0  0.0  0.0   0.0  0.0 ...   0.0  0.0  0.0   \n",
       "2      0.0  0.0  0.0  0.0  0.0  1.0  0.0  0.0  18.0  0.0 ...   0.0  0.0  0.0   \n",
       "3      0.0  0.0  0.0  0.0  0.0  0.0  0.0  0.0   0.0  0.0 ...   0.0  0.0  0.0   \n",
       "4      0.0  0.0  7.0  0.0  0.0  0.0  0.0  0.0   0.0  0.0 ...   0.0  0.0  0.0   \n",
       "5      0.0  0.0  0.0  0.0  0.0  0.0  0.0  0.0   3.0  0.0 ...   0.0  0.0  0.0   \n",
       "6      0.0  2.0  0.0  0.0  0.0  0.0  0.0  0.0   0.0  0.0 ...   0.0  0.0  0.0   \n",
       "7      0.0  0.0  0.0  0.0  0.0  0.0  0.0  1.0   0.0  0.0 ...   0.0  0.0  0.0   \n",
       "8      0.0  0.0  0.0  0.0  0.0  0.0  0.0  0.0   0.0  0.0 ...   0.0  0.0  0.0   \n",
       "9      0.0  0.0  0.0  0.0  2.0  0.0  0.0  0.0   0.0  0.0 ...   0.0  0.0  0.0   \n",
       "\n",
       "topic  243   244  245  246  247  248  249  \n",
       "#doc                                       \n",
       "0      0.0   0.0  1.0  0.0  0.0  0.0  0.0  \n",
       "1      0.0   0.0  0.0  0.0  0.0  0.0  0.0  \n",
       "2      0.0   0.0  0.0  0.0  0.0  0.0  0.0  \n",
       "3      0.0   0.0  0.0  0.0  0.0  0.0  0.0  \n",
       "4      1.0   0.0  0.0  0.0  0.0  0.0  0.0  \n",
       "5      0.0   0.0  0.0  0.0  0.0  0.0  0.0  \n",
       "6      0.0   0.0  0.0  0.0  0.0  0.0  0.0  \n",
       "7      0.0  11.0  0.0  0.0  0.0  0.0  0.0  \n",
       "8      0.0   0.0  0.0  0.0  0.0  0.0  0.0  \n",
       "9      0.0   0.0  0.0  0.0  0.0  0.0  0.0  \n",
       "\n",
       "[10 rows x 250 columns]"
      ]
     },
     "execution_count": 13,
     "metadata": {},
     "output_type": "execute_result"
    }
   ],
   "source": [
    "dt[:10]"
   ]
  },
  {
   "cell_type": "code",
   "execution_count": 14,
   "metadata": {
    "ExecuteTime": {
     "end_time": "2018-03-08T05:31:24.954779Z",
     "start_time": "2018-03-08T05:31:24.784725Z"
    },
    "collapsed": true
   },
   "outputs": [],
   "source": [
    "dt = dt + alpha"
   ]
  },
  {
   "cell_type": "code",
   "execution_count": 15,
   "metadata": {
    "ExecuteTime": {
     "end_time": "2018-03-08T05:31:35.261418Z",
     "start_time": "2018-03-08T05:31:33.501257Z"
    }
   },
   "outputs": [],
   "source": [
    "dt = pd.DataFrame(sklearn.preprocessing.normalize(dt, norm='l1', axis=1))"
   ]
  },
  {
   "cell_type": "code",
   "execution_count": 16,
   "metadata": {
    "ExecuteTime": {
     "end_time": "2018-03-08T05:31:38.470944Z",
     "start_time": "2018-03-08T05:31:38.423394Z"
    }
   },
   "outputs": [
    {
     "data": {
      "text/html": [
       "<div>\n",
       "<table border=\"1\" class=\"dataframe\">\n",
       "  <thead>\n",
       "    <tr style=\"text-align: right;\">\n",
       "      <th></th>\n",
       "      <th>0</th>\n",
       "      <th>1</th>\n",
       "      <th>2</th>\n",
       "      <th>3</th>\n",
       "      <th>4</th>\n",
       "      <th>5</th>\n",
       "      <th>6</th>\n",
       "      <th>7</th>\n",
       "      <th>8</th>\n",
       "      <th>9</th>\n",
       "      <th>...</th>\n",
       "      <th>240</th>\n",
       "      <th>241</th>\n",
       "      <th>242</th>\n",
       "      <th>243</th>\n",
       "      <th>244</th>\n",
       "      <th>245</th>\n",
       "      <th>246</th>\n",
       "      <th>247</th>\n",
       "      <th>248</th>\n",
       "      <th>249</th>\n",
       "    </tr>\n",
       "  </thead>\n",
       "  <tbody>\n",
       "    <tr>\n",
       "      <th>0</th>\n",
       "      <td>0.003640</td>\n",
       "      <td>0.003640</td>\n",
       "      <td>0.003640</td>\n",
       "      <td>0.003640</td>\n",
       "      <td>0.003640</td>\n",
       "      <td>0.003640</td>\n",
       "      <td>0.003640</td>\n",
       "      <td>0.003640</td>\n",
       "      <td>0.003640</td>\n",
       "      <td>0.003640</td>\n",
       "      <td>...</td>\n",
       "      <td>0.003640</td>\n",
       "      <td>0.003640</td>\n",
       "      <td>0.003640</td>\n",
       "      <td>0.003640</td>\n",
       "      <td>0.003640</td>\n",
       "      <td>0.004416</td>\n",
       "      <td>0.003640</td>\n",
       "      <td>0.003640</td>\n",
       "      <td>0.003640</td>\n",
       "      <td>0.003640</td>\n",
       "    </tr>\n",
       "    <tr>\n",
       "      <th>1</th>\n",
       "      <td>0.003680</td>\n",
       "      <td>0.003680</td>\n",
       "      <td>0.003680</td>\n",
       "      <td>0.003680</td>\n",
       "      <td>0.006815</td>\n",
       "      <td>0.004464</td>\n",
       "      <td>0.003680</td>\n",
       "      <td>0.003680</td>\n",
       "      <td>0.003680</td>\n",
       "      <td>0.003680</td>\n",
       "      <td>...</td>\n",
       "      <td>0.003680</td>\n",
       "      <td>0.003680</td>\n",
       "      <td>0.003680</td>\n",
       "      <td>0.003680</td>\n",
       "      <td>0.003680</td>\n",
       "      <td>0.003680</td>\n",
       "      <td>0.003680</td>\n",
       "      <td>0.003680</td>\n",
       "      <td>0.003680</td>\n",
       "      <td>0.003680</td>\n",
       "    </tr>\n",
       "    <tr>\n",
       "      <th>2</th>\n",
       "      <td>0.003663</td>\n",
       "      <td>0.003663</td>\n",
       "      <td>0.003663</td>\n",
       "      <td>0.003663</td>\n",
       "      <td>0.003663</td>\n",
       "      <td>0.004443</td>\n",
       "      <td>0.003663</td>\n",
       "      <td>0.003663</td>\n",
       "      <td>0.017704</td>\n",
       "      <td>0.003663</td>\n",
       "      <td>...</td>\n",
       "      <td>0.003663</td>\n",
       "      <td>0.003663</td>\n",
       "      <td>0.003663</td>\n",
       "      <td>0.003663</td>\n",
       "      <td>0.003663</td>\n",
       "      <td>0.003663</td>\n",
       "      <td>0.003663</td>\n",
       "      <td>0.003663</td>\n",
       "      <td>0.003663</td>\n",
       "      <td>0.003663</td>\n",
       "    </tr>\n",
       "    <tr>\n",
       "      <th>3</th>\n",
       "      <td>0.003695</td>\n",
       "      <td>0.003695</td>\n",
       "      <td>0.003695</td>\n",
       "      <td>0.003695</td>\n",
       "      <td>0.003695</td>\n",
       "      <td>0.003695</td>\n",
       "      <td>0.003695</td>\n",
       "      <td>0.003695</td>\n",
       "      <td>0.003695</td>\n",
       "      <td>0.003695</td>\n",
       "      <td>...</td>\n",
       "      <td>0.003695</td>\n",
       "      <td>0.003695</td>\n",
       "      <td>0.003695</td>\n",
       "      <td>0.003695</td>\n",
       "      <td>0.003695</td>\n",
       "      <td>0.003695</td>\n",
       "      <td>0.003695</td>\n",
       "      <td>0.003695</td>\n",
       "      <td>0.003695</td>\n",
       "      <td>0.003695</td>\n",
       "    </tr>\n",
       "    <tr>\n",
       "      <th>4</th>\n",
       "      <td>0.003626</td>\n",
       "      <td>0.003626</td>\n",
       "      <td>0.009032</td>\n",
       "      <td>0.003626</td>\n",
       "      <td>0.003626</td>\n",
       "      <td>0.003626</td>\n",
       "      <td>0.003626</td>\n",
       "      <td>0.003626</td>\n",
       "      <td>0.003626</td>\n",
       "      <td>0.003626</td>\n",
       "      <td>...</td>\n",
       "      <td>0.003626</td>\n",
       "      <td>0.003626</td>\n",
       "      <td>0.003626</td>\n",
       "      <td>0.004398</td>\n",
       "      <td>0.003626</td>\n",
       "      <td>0.003626</td>\n",
       "      <td>0.003626</td>\n",
       "      <td>0.003626</td>\n",
       "      <td>0.003626</td>\n",
       "      <td>0.003626</td>\n",
       "    </tr>\n",
       "  </tbody>\n",
       "</table>\n",
       "<p>5 rows × 250 columns</p>\n",
       "</div>"
      ],
      "text/plain": [
       "        0         1         2         3         4         5         6    \\\n",
       "0  0.003640  0.003640  0.003640  0.003640  0.003640  0.003640  0.003640   \n",
       "1  0.003680  0.003680  0.003680  0.003680  0.006815  0.004464  0.003680   \n",
       "2  0.003663  0.003663  0.003663  0.003663  0.003663  0.004443  0.003663   \n",
       "3  0.003695  0.003695  0.003695  0.003695  0.003695  0.003695  0.003695   \n",
       "4  0.003626  0.003626  0.009032  0.003626  0.003626  0.003626  0.003626   \n",
       "\n",
       "        7         8         9      ...          240       241       242  \\\n",
       "0  0.003640  0.003640  0.003640    ...     0.003640  0.003640  0.003640   \n",
       "1  0.003680  0.003680  0.003680    ...     0.003680  0.003680  0.003680   \n",
       "2  0.003663  0.017704  0.003663    ...     0.003663  0.003663  0.003663   \n",
       "3  0.003695  0.003695  0.003695    ...     0.003695  0.003695  0.003695   \n",
       "4  0.003626  0.003626  0.003626    ...     0.003626  0.003626  0.003626   \n",
       "\n",
       "        243       244       245       246       247       248       249  \n",
       "0  0.003640  0.003640  0.004416  0.003640  0.003640  0.003640  0.003640  \n",
       "1  0.003680  0.003680  0.003680  0.003680  0.003680  0.003680  0.003680  \n",
       "2  0.003663  0.003663  0.003663  0.003663  0.003663  0.003663  0.003663  \n",
       "3  0.003695  0.003695  0.003695  0.003695  0.003695  0.003695  0.003695  \n",
       "4  0.004398  0.003626  0.003626  0.003626  0.003626  0.003626  0.003626  \n",
       "\n",
       "[5 rows x 250 columns]"
      ]
     },
     "execution_count": 16,
     "metadata": {},
     "output_type": "execute_result"
    }
   ],
   "source": [
    "dt[:5]"
   ]
  },
  {
   "cell_type": "code",
   "execution_count": 17,
   "metadata": {
    "ExecuteTime": {
     "end_time": "2018-03-08T05:31:43.255555Z",
     "start_time": "2018-03-08T05:31:43.237173Z"
    }
   },
   "outputs": [
    {
     "data": {
      "text/plain": [
       "1.0000000000000024"
      ]
     },
     "execution_count": 17,
     "metadata": {},
     "output_type": "execute_result"
    }
   ],
   "source": [
    "dt.iloc[4].sum()"
   ]
  },
  {
   "cell_type": "code",
   "execution_count": 18,
   "metadata": {
    "ExecuteTime": {
     "end_time": "2018-03-08T05:32:10.669728Z",
     "start_time": "2018-03-08T05:31:52.378183Z"
    },
    "collapsed": true
   },
   "outputs": [],
   "source": [
    "corr = dt.corr()"
   ]
  },
  {
   "cell_type": "code",
   "execution_count": null,
   "metadata": {
    "ExecuteTime": {
     "start_time": "2018-03-08T05:31:56.917Z"
    },
    "collapsed": true
   },
   "outputs": [],
   "source": [
    "import seaborn as sns; sns.set(color_codes=True)"
   ]
  },
  {
   "cell_type": "code",
   "execution_count": null,
   "metadata": {
    "ExecuteTime": {
     "start_time": "2018-03-08T05:32:00.190Z"
    }
   },
   "outputs": [],
   "source": [
    "g = sns.clustermap(dt)"
   ]
  },
  {
   "cell_type": "code",
   "execution_count": null,
   "metadata": {
    "collapsed": true
   },
   "outputs": [],
   "source": []
  }
 ],
 "metadata": {
  "anaconda-cloud": {},
  "kernelspec": {
   "display_name": "Python [conda env:dissertation2]",
   "language": "python",
   "name": "conda-env-dissertation2-py"
  },
  "language_info": {
   "codemirror_mode": {
    "name": "ipython",
    "version": 3
   },
   "file_extension": ".py",
   "mimetype": "text/x-python",
   "name": "python",
   "nbconvert_exporter": "python",
   "pygments_lexer": "ipython3",
   "version": "3.5.2"
  }
 },
 "nbformat": 4,
 "nbformat_minor": 2
}
