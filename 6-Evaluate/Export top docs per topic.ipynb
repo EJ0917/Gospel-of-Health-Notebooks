{
 "cells": [
  {
   "cell_type": "code",
   "execution_count": 1,
   "metadata": {
    "ExecuteTime": {
     "end_time": "2018-03-25T05:48:22.449308Z",
     "start_time": "2018-03-25T05:48:21.737040Z"
    },
    "collapsed": true
   },
   "outputs": [],
   "source": [
    "import pandas as pd\n",
    "import os"
   ]
  },
  {
   "cell_type": "code",
   "execution_count": 2,
   "metadata": {
    "ExecuteTime": {
     "end_time": "2018-03-25T05:48:22.456431Z",
     "start_time": "2018-03-25T05:48:22.451770Z"
    },
    "collapsed": true
   },
   "outputs": [],
   "source": [
    "dataDir = \"../../data/\"\n",
    "files = [\"target_300_10.Holdout.18497.docTopics.txt\", \"target_300_10.18497.docTopics.txt\", \"TopicLabels.csv\"]"
   ]
  },
  {
   "cell_type": "code",
   "execution_count": 3,
   "metadata": {
    "ExecuteTime": {
     "end_time": "2018-03-25T05:48:40.520669Z",
     "start_time": "2018-03-25T05:48:22.724557Z"
    },
    "collapsed": true
   },
   "outputs": [],
   "source": [
    "dt = pd.read_table(os.path.join(dataDir, files[1]), sep='\\t', header=None)"
   ]
  },
  {
   "cell_type": "code",
   "execution_count": 4,
   "metadata": {
    "ExecuteTime": {
     "end_time": "2018-03-25T05:48:42.281243Z",
     "start_time": "2018-03-25T05:48:40.527005Z"
    },
    "collapsed": true
   },
   "outputs": [],
   "source": [
    "dt_holdouts = pd.read_table(os.path.join(dataDir, files[0]), sep='\\t',  skiprows=1, header=None)"
   ]
  },
  {
   "cell_type": "code",
   "execution_count": 5,
   "metadata": {
    "ExecuteTime": {
     "end_time": "2018-03-25T05:48:42.640836Z",
     "start_time": "2018-03-25T05:48:42.283426Z"
    },
    "collapsed": true
   },
   "outputs": [],
   "source": [
    "dt = dt.append(dt_holdouts)"
   ]
  },
  {
   "cell_type": "code",
   "execution_count": 6,
   "metadata": {
    "ExecuteTime": {
     "end_time": "2018-03-25T05:48:42.701074Z",
     "start_time": "2018-03-25T05:48:42.643652Z"
    },
    "scrolled": true
   },
   "outputs": [
    {
     "data": {
      "text/html": [
       "<div>\n",
       "<table border=\"1\" class=\"dataframe\">\n",
       "  <thead>\n",
       "    <tr style=\"text-align: right;\">\n",
       "      <th></th>\n",
       "      <th>0</th>\n",
       "      <th>1</th>\n",
       "      <th>2</th>\n",
       "      <th>3</th>\n",
       "      <th>4</th>\n",
       "      <th>5</th>\n",
       "      <th>6</th>\n",
       "      <th>7</th>\n",
       "      <th>8</th>\n",
       "      <th>9</th>\n",
       "      <th>...</th>\n",
       "      <th>242</th>\n",
       "      <th>243</th>\n",
       "      <th>244</th>\n",
       "      <th>245</th>\n",
       "      <th>246</th>\n",
       "      <th>247</th>\n",
       "      <th>248</th>\n",
       "      <th>249</th>\n",
       "      <th>250</th>\n",
       "      <th>251</th>\n",
       "    </tr>\n",
       "  </thead>\n",
       "  <tbody>\n",
       "    <tr>\n",
       "      <th>0</th>\n",
       "      <td>0</td>\n",
       "      <td>ADV18981201-V02-01-page12.txt</td>\n",
       "      <td>0.000247</td>\n",
       "      <td>0.000077</td>\n",
       "      <td>0.000303</td>\n",
       "      <td>0.000252</td>\n",
       "      <td>0.000168</td>\n",
       "      <td>0.000858</td>\n",
       "      <td>0.000106</td>\n",
       "      <td>0.000355</td>\n",
       "      <td>...</td>\n",
       "      <td>0.000093</td>\n",
       "      <td>0.000146</td>\n",
       "      <td>0.000120</td>\n",
       "      <td>0.000251</td>\n",
       "      <td>0.000099</td>\n",
       "      <td>0.008392</td>\n",
       "      <td>0.000134</td>\n",
       "      <td>0.000146</td>\n",
       "      <td>0.000133</td>\n",
       "      <td>0.000091</td>\n",
       "    </tr>\n",
       "    <tr>\n",
       "      <th>1</th>\n",
       "      <td>1</td>\n",
       "      <td>ADV18981201-V02-01-page13.txt</td>\n",
       "      <td>0.000279</td>\n",
       "      <td>0.000087</td>\n",
       "      <td>0.000343</td>\n",
       "      <td>0.000285</td>\n",
       "      <td>0.037680</td>\n",
       "      <td>0.010343</td>\n",
       "      <td>0.000120</td>\n",
       "      <td>0.000402</td>\n",
       "      <td>...</td>\n",
       "      <td>0.000106</td>\n",
       "      <td>0.000165</td>\n",
       "      <td>0.000135</td>\n",
       "      <td>0.000284</td>\n",
       "      <td>0.000112</td>\n",
       "      <td>0.000121</td>\n",
       "      <td>0.000151</td>\n",
       "      <td>0.000165</td>\n",
       "      <td>0.000150</td>\n",
       "      <td>0.000103</td>\n",
       "    </tr>\n",
       "    <tr>\n",
       "      <th>2</th>\n",
       "      <td>2</td>\n",
       "      <td>ADV18981201-V02-01-page15.txt</td>\n",
       "      <td>0.000265</td>\n",
       "      <td>0.000082</td>\n",
       "      <td>0.000325</td>\n",
       "      <td>0.000269</td>\n",
       "      <td>0.000180</td>\n",
       "      <td>0.009792</td>\n",
       "      <td>0.000113</td>\n",
       "      <td>0.000381</td>\n",
       "      <td>...</td>\n",
       "      <td>0.000100</td>\n",
       "      <td>0.000157</td>\n",
       "      <td>0.000128</td>\n",
       "      <td>0.000269</td>\n",
       "      <td>0.000106</td>\n",
       "      <td>0.000115</td>\n",
       "      <td>0.000143</td>\n",
       "      <td>0.000157</td>\n",
       "      <td>0.000142</td>\n",
       "      <td>0.000098</td>\n",
       "    </tr>\n",
       "    <tr>\n",
       "      <th>3</th>\n",
       "      <td>3</td>\n",
       "      <td>ADV18981201-V02-01-page16.txt</td>\n",
       "      <td>0.000293</td>\n",
       "      <td>0.000091</td>\n",
       "      <td>0.000360</td>\n",
       "      <td>0.000299</td>\n",
       "      <td>0.000200</td>\n",
       "      <td>0.001018</td>\n",
       "      <td>0.000125</td>\n",
       "      <td>0.000422</td>\n",
       "      <td>...</td>\n",
       "      <td>0.000111</td>\n",
       "      <td>0.000173</td>\n",
       "      <td>0.000142</td>\n",
       "      <td>0.000298</td>\n",
       "      <td>0.000118</td>\n",
       "      <td>0.000127</td>\n",
       "      <td>0.000159</td>\n",
       "      <td>0.000174</td>\n",
       "      <td>0.000158</td>\n",
       "      <td>0.000109</td>\n",
       "    </tr>\n",
       "    <tr>\n",
       "      <th>4</th>\n",
       "      <td>4</td>\n",
       "      <td>ADV18981201-V02-01-page20.txt</td>\n",
       "      <td>0.000237</td>\n",
       "      <td>0.000074</td>\n",
       "      <td>0.055981</td>\n",
       "      <td>0.000242</td>\n",
       "      <td>0.000162</td>\n",
       "      <td>0.000824</td>\n",
       "      <td>0.000101</td>\n",
       "      <td>0.000341</td>\n",
       "      <td>...</td>\n",
       "      <td>0.000090</td>\n",
       "      <td>0.000140</td>\n",
       "      <td>0.000115</td>\n",
       "      <td>0.008196</td>\n",
       "      <td>0.000095</td>\n",
       "      <td>0.000103</td>\n",
       "      <td>0.000128</td>\n",
       "      <td>0.000140</td>\n",
       "      <td>0.000128</td>\n",
       "      <td>0.000088</td>\n",
       "    </tr>\n",
       "  </tbody>\n",
       "</table>\n",
       "<p>5 rows × 252 columns</p>\n",
       "</div>"
      ],
      "text/plain": [
       "   0                              1         2         3         4         5    \\\n",
       "0    0  ADV18981201-V02-01-page12.txt  0.000247  0.000077  0.000303  0.000252   \n",
       "1    1  ADV18981201-V02-01-page13.txt  0.000279  0.000087  0.000343  0.000285   \n",
       "2    2  ADV18981201-V02-01-page15.txt  0.000265  0.000082  0.000325  0.000269   \n",
       "3    3  ADV18981201-V02-01-page16.txt  0.000293  0.000091  0.000360  0.000299   \n",
       "4    4  ADV18981201-V02-01-page20.txt  0.000237  0.000074  0.055981  0.000242   \n",
       "\n",
       "        6         7         8         9      ...          242       243  \\\n",
       "0  0.000168  0.000858  0.000106  0.000355    ...     0.000093  0.000146   \n",
       "1  0.037680  0.010343  0.000120  0.000402    ...     0.000106  0.000165   \n",
       "2  0.000180  0.009792  0.000113  0.000381    ...     0.000100  0.000157   \n",
       "3  0.000200  0.001018  0.000125  0.000422    ...     0.000111  0.000173   \n",
       "4  0.000162  0.000824  0.000101  0.000341    ...     0.000090  0.000140   \n",
       "\n",
       "        244       245       246       247       248       249       250  \\\n",
       "0  0.000120  0.000251  0.000099  0.008392  0.000134  0.000146  0.000133   \n",
       "1  0.000135  0.000284  0.000112  0.000121  0.000151  0.000165  0.000150   \n",
       "2  0.000128  0.000269  0.000106  0.000115  0.000143  0.000157  0.000142   \n",
       "3  0.000142  0.000298  0.000118  0.000127  0.000159  0.000174  0.000158   \n",
       "4  0.000115  0.008196  0.000095  0.000103  0.000128  0.000140  0.000128   \n",
       "\n",
       "        251  \n",
       "0  0.000091  \n",
       "1  0.000103  \n",
       "2  0.000098  \n",
       "3  0.000109  \n",
       "4  0.000088  \n",
       "\n",
       "[5 rows x 252 columns]"
      ]
     },
     "execution_count": 6,
     "metadata": {},
     "output_type": "execute_result"
    }
   ],
   "source": [
    "dt[:5]"
   ]
  },
  {
   "cell_type": "code",
   "execution_count": 7,
   "metadata": {
    "ExecuteTime": {
     "end_time": "2018-03-25T05:48:42.708390Z",
     "start_time": "2018-03-25T05:48:42.702817Z"
    }
   },
   "outputs": [
    {
     "data": {
      "text/plain": [
       "['doc_id', 'filename', 0, 1, 2, 3, 4, 5, 6, 7]"
      ]
     },
     "execution_count": 7,
     "metadata": {},
     "output_type": "execute_result"
    }
   ],
   "source": [
    "topics = ['doc_id', \"filename\"]\n",
    "topics.extend(list(range(250)))\n",
    "topics[:10]"
   ]
  },
  {
   "cell_type": "code",
   "execution_count": 8,
   "metadata": {
    "ExecuteTime": {
     "end_time": "2018-03-25T05:48:42.713781Z",
     "start_time": "2018-03-25T05:48:42.710739Z"
    },
    "collapsed": true
   },
   "outputs": [],
   "source": [
    "dt.columns = topics"
   ]
  },
  {
   "cell_type": "code",
   "execution_count": 9,
   "metadata": {
    "ExecuteTime": {
     "end_time": "2018-03-25T05:48:42.749006Z",
     "start_time": "2018-03-25T05:48:42.716153Z"
    }
   },
   "outputs": [
    {
     "data": {
      "text/html": [
       "<div>\n",
       "<table border=\"1\" class=\"dataframe\">\n",
       "  <thead>\n",
       "    <tr style=\"text-align: right;\">\n",
       "      <th></th>\n",
       "      <th>doc_id</th>\n",
       "      <th>filename</th>\n",
       "      <th>0</th>\n",
       "      <th>1</th>\n",
       "      <th>2</th>\n",
       "      <th>3</th>\n",
       "      <th>4</th>\n",
       "      <th>5</th>\n",
       "      <th>6</th>\n",
       "      <th>7</th>\n",
       "      <th>...</th>\n",
       "      <th>240</th>\n",
       "      <th>241</th>\n",
       "      <th>242</th>\n",
       "      <th>243</th>\n",
       "      <th>244</th>\n",
       "      <th>245</th>\n",
       "      <th>246</th>\n",
       "      <th>247</th>\n",
       "      <th>248</th>\n",
       "      <th>249</th>\n",
       "    </tr>\n",
       "  </thead>\n",
       "  <tbody>\n",
       "    <tr>\n",
       "      <th>0</th>\n",
       "      <td>0</td>\n",
       "      <td>ADV18981201-V02-01-page12.txt</td>\n",
       "      <td>0.000247</td>\n",
       "      <td>0.000077</td>\n",
       "      <td>0.000303</td>\n",
       "      <td>0.000252</td>\n",
       "      <td>0.000168</td>\n",
       "      <td>0.000858</td>\n",
       "      <td>0.000106</td>\n",
       "      <td>0.000355</td>\n",
       "      <td>...</td>\n",
       "      <td>0.000093</td>\n",
       "      <td>0.000146</td>\n",
       "      <td>0.000120</td>\n",
       "      <td>0.000251</td>\n",
       "      <td>0.000099</td>\n",
       "      <td>0.008392</td>\n",
       "      <td>0.000134</td>\n",
       "      <td>0.000146</td>\n",
       "      <td>0.000133</td>\n",
       "      <td>0.000091</td>\n",
       "    </tr>\n",
       "    <tr>\n",
       "      <th>1</th>\n",
       "      <td>1</td>\n",
       "      <td>ADV18981201-V02-01-page13.txt</td>\n",
       "      <td>0.000279</td>\n",
       "      <td>0.000087</td>\n",
       "      <td>0.000343</td>\n",
       "      <td>0.000285</td>\n",
       "      <td>0.037680</td>\n",
       "      <td>0.010343</td>\n",
       "      <td>0.000120</td>\n",
       "      <td>0.000402</td>\n",
       "      <td>...</td>\n",
       "      <td>0.000106</td>\n",
       "      <td>0.000165</td>\n",
       "      <td>0.000135</td>\n",
       "      <td>0.000284</td>\n",
       "      <td>0.000112</td>\n",
       "      <td>0.000121</td>\n",
       "      <td>0.000151</td>\n",
       "      <td>0.000165</td>\n",
       "      <td>0.000150</td>\n",
       "      <td>0.000103</td>\n",
       "    </tr>\n",
       "    <tr>\n",
       "      <th>2</th>\n",
       "      <td>2</td>\n",
       "      <td>ADV18981201-V02-01-page15.txt</td>\n",
       "      <td>0.000265</td>\n",
       "      <td>0.000082</td>\n",
       "      <td>0.000325</td>\n",
       "      <td>0.000269</td>\n",
       "      <td>0.000180</td>\n",
       "      <td>0.009792</td>\n",
       "      <td>0.000113</td>\n",
       "      <td>0.000381</td>\n",
       "      <td>...</td>\n",
       "      <td>0.000100</td>\n",
       "      <td>0.000157</td>\n",
       "      <td>0.000128</td>\n",
       "      <td>0.000269</td>\n",
       "      <td>0.000106</td>\n",
       "      <td>0.000115</td>\n",
       "      <td>0.000143</td>\n",
       "      <td>0.000157</td>\n",
       "      <td>0.000142</td>\n",
       "      <td>0.000098</td>\n",
       "    </tr>\n",
       "    <tr>\n",
       "      <th>3</th>\n",
       "      <td>3</td>\n",
       "      <td>ADV18981201-V02-01-page16.txt</td>\n",
       "      <td>0.000293</td>\n",
       "      <td>0.000091</td>\n",
       "      <td>0.000360</td>\n",
       "      <td>0.000299</td>\n",
       "      <td>0.000200</td>\n",
       "      <td>0.001018</td>\n",
       "      <td>0.000125</td>\n",
       "      <td>0.000422</td>\n",
       "      <td>...</td>\n",
       "      <td>0.000111</td>\n",
       "      <td>0.000173</td>\n",
       "      <td>0.000142</td>\n",
       "      <td>0.000298</td>\n",
       "      <td>0.000118</td>\n",
       "      <td>0.000127</td>\n",
       "      <td>0.000159</td>\n",
       "      <td>0.000174</td>\n",
       "      <td>0.000158</td>\n",
       "      <td>0.000109</td>\n",
       "    </tr>\n",
       "    <tr>\n",
       "      <th>4</th>\n",
       "      <td>4</td>\n",
       "      <td>ADV18981201-V02-01-page20.txt</td>\n",
       "      <td>0.000237</td>\n",
       "      <td>0.000074</td>\n",
       "      <td>0.055981</td>\n",
       "      <td>0.000242</td>\n",
       "      <td>0.000162</td>\n",
       "      <td>0.000824</td>\n",
       "      <td>0.000101</td>\n",
       "      <td>0.000341</td>\n",
       "      <td>...</td>\n",
       "      <td>0.000090</td>\n",
       "      <td>0.000140</td>\n",
       "      <td>0.000115</td>\n",
       "      <td>0.008196</td>\n",
       "      <td>0.000095</td>\n",
       "      <td>0.000103</td>\n",
       "      <td>0.000128</td>\n",
       "      <td>0.000140</td>\n",
       "      <td>0.000128</td>\n",
       "      <td>0.000088</td>\n",
       "    </tr>\n",
       "  </tbody>\n",
       "</table>\n",
       "<p>5 rows × 252 columns</p>\n",
       "</div>"
      ],
      "text/plain": [
       "   doc_id                       filename         0         1         2  \\\n",
       "0       0  ADV18981201-V02-01-page12.txt  0.000247  0.000077  0.000303   \n",
       "1       1  ADV18981201-V02-01-page13.txt  0.000279  0.000087  0.000343   \n",
       "2       2  ADV18981201-V02-01-page15.txt  0.000265  0.000082  0.000325   \n",
       "3       3  ADV18981201-V02-01-page16.txt  0.000293  0.000091  0.000360   \n",
       "4       4  ADV18981201-V02-01-page20.txt  0.000237  0.000074  0.055981   \n",
       "\n",
       "          3         4         5         6         7    ...          240  \\\n",
       "0  0.000252  0.000168  0.000858  0.000106  0.000355    ...     0.000093   \n",
       "1  0.000285  0.037680  0.010343  0.000120  0.000402    ...     0.000106   \n",
       "2  0.000269  0.000180  0.009792  0.000113  0.000381    ...     0.000100   \n",
       "3  0.000299  0.000200  0.001018  0.000125  0.000422    ...     0.000111   \n",
       "4  0.000242  0.000162  0.000824  0.000101  0.000341    ...     0.000090   \n",
       "\n",
       "        241       242       243       244       245       246       247  \\\n",
       "0  0.000146  0.000120  0.000251  0.000099  0.008392  0.000134  0.000146   \n",
       "1  0.000165  0.000135  0.000284  0.000112  0.000121  0.000151  0.000165   \n",
       "2  0.000157  0.000128  0.000269  0.000106  0.000115  0.000143  0.000157   \n",
       "3  0.000173  0.000142  0.000298  0.000118  0.000127  0.000159  0.000174   \n",
       "4  0.000140  0.000115  0.008196  0.000095  0.000103  0.000128  0.000140   \n",
       "\n",
       "        248       249  \n",
       "0  0.000133  0.000091  \n",
       "1  0.000150  0.000103  \n",
       "2  0.000142  0.000098  \n",
       "3  0.000158  0.000109  \n",
       "4  0.000128  0.000088  \n",
       "\n",
       "[5 rows x 252 columns]"
      ]
     },
     "execution_count": 9,
     "metadata": {},
     "output_type": "execute_result"
    }
   ],
   "source": [
    "dt[:5]"
   ]
  },
  {
   "cell_type": "code",
   "execution_count": 10,
   "metadata": {
    "ExecuteTime": {
     "end_time": "2018-03-25T05:48:42.776348Z",
     "start_time": "2018-03-25T05:48:42.751187Z"
    }
   },
   "outputs": [
    {
     "data": {
      "text/html": [
       "<div>\n",
       "<table border=\"1\" class=\"dataframe\">\n",
       "  <thead>\n",
       "    <tr style=\"text-align: right;\">\n",
       "      <th></th>\n",
       "      <th>mallet_topic_id</th>\n",
       "      <th>browser_topic_id</th>\n",
       "      <th>topic_label</th>\n",
       "      <th>topic_words</th>\n",
       "      <th>Unnamed: 4</th>\n",
       "      <th>Unnamed: 5</th>\n",
       "    </tr>\n",
       "  </thead>\n",
       "  <tbody>\n",
       "    <tr>\n",
       "      <th>0</th>\n",
       "      <td>5</td>\n",
       "      <td>6</td>\n",
       "      <td>[unclear]</td>\n",
       "      <td>thing know think way man want let doe right go...</td>\n",
       "      <td>5</td>\n",
       "      <td>0.10352</td>\n",
       "    </tr>\n",
       "    <tr>\n",
       "      <th>1</th>\n",
       "      <td>12</td>\n",
       "      <td>13</td>\n",
       "      <td>[unclear]</td>\n",
       "      <td>duty good let person think case christian mind...</td>\n",
       "      <td>12</td>\n",
       "      <td>0.05102</td>\n",
       "    </tr>\n",
       "    <tr>\n",
       "      <th>2</th>\n",
       "      <td>80</td>\n",
       "      <td>81</td>\n",
       "      <td>[unclear]</td>\n",
       "      <td>iii testimony chap vii viii xiv xii verse xvi ...</td>\n",
       "      <td>80</td>\n",
       "      <td>0.01027</td>\n",
       "    </tr>\n",
       "    <tr>\n",
       "      <th>3</th>\n",
       "      <td>99</td>\n",
       "      <td>100</td>\n",
       "      <td>[unclear]</td>\n",
       "      <td>christ father son word man thing world unto jo...</td>\n",
       "      <td>99</td>\n",
       "      <td>0.01838</td>\n",
       "    </tr>\n",
       "    <tr>\n",
       "      <th>4</th>\n",
       "      <td>102</td>\n",
       "      <td>103</td>\n",
       "      <td>[unclear]</td>\n",
       "      <td>lord brother sister help truth blessing heart ...</td>\n",
       "      <td>102</td>\n",
       "      <td>0.06279</td>\n",
       "    </tr>\n",
       "  </tbody>\n",
       "</table>\n",
       "</div>"
      ],
      "text/plain": [
       "   mallet_topic_id  browser_topic_id topic_label  \\\n",
       "0                5                 6   [unclear]   \n",
       "1               12                13   [unclear]   \n",
       "2               80                81   [unclear]   \n",
       "3               99               100   [unclear]   \n",
       "4              102               103   [unclear]   \n",
       "\n",
       "                                         topic_words  Unnamed: 4  Unnamed: 5  \n",
       "0  thing know think way man want let doe right go...           5     0.10352  \n",
       "1  duty good let person think case christian mind...          12     0.05102  \n",
       "2  iii testimony chap vii viii xiv xii verse xvi ...          80     0.01027  \n",
       "3  christ father son word man thing world unto jo...          99     0.01838  \n",
       "4  lord brother sister help truth blessing heart ...         102     0.06279  "
      ]
     },
     "execution_count": 10,
     "metadata": {},
     "output_type": "execute_result"
    }
   ],
   "source": [
    "labels = pd.read_csv(os.path.join(dataDir, files[2]))\n",
    "labels[:5]"
   ]
  },
  {
   "cell_type": "code",
   "execution_count": 11,
   "metadata": {
    "ExecuteTime": {
     "end_time": "2018-03-25T05:51:21.161924Z",
     "start_time": "2018-03-25T05:49:25.893466Z"
    },
    "collapsed": true
   },
   "outputs": [],
   "source": [
    "with open(os.path.join(dataDir, 'top20docsPerTopic.txt'), 'w') as f:\n",
    "    for topic in range(100,250):\n",
    "        f.write(\"\"\"\n",
    "        # Topic: {}\n",
    "        Label: {}\n",
    "        \n",
    "        {}\n",
    "        \"\"\".format(topic, labels[labels['mallet_topic_id'] == topic].topic_label.item(), labels[labels['mallet_topic_id'] == topic].topic_words.item()))\n",
    "        \n",
    "        top_docs = dt.sort_values(topic, ascending=False).head(20)['filename'].tolist()\n",
    "        \n",
    "        for doc in top_docs:\n",
    "            f.write(\"\"\"## {}\n",
    "            \"\"\".format(doc))\n",
    "            \n",
    "        f.write(\"---\")"
   ]
  },
  {
   "cell_type": "code",
   "execution_count": null,
   "metadata": {
    "collapsed": true
   },
   "outputs": [],
   "source": []
  }
 ],
 "metadata": {
  "anaconda-cloud": {},
  "kernelspec": {
   "display_name": "Python [conda env:dissertation2]",
   "language": "python",
   "name": "conda-env-dissertation2-py"
  },
  "language_info": {
   "codemirror_mode": {
    "name": "ipython",
    "version": 3
   },
   "file_extension": ".py",
   "mimetype": "text/x-python",
   "name": "python",
   "nbconvert_exporter": "python",
   "pygments_lexer": "ipython3",
   "version": "3.5.2"
  }
 },
 "nbformat": 4,
 "nbformat_minor": 2
}
