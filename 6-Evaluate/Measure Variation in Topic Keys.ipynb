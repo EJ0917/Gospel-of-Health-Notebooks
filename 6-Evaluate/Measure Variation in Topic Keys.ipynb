{
 "cells": [
  {
   "cell_type": "markdown",
   "metadata": {
    "collapsed": true
   },
   "source": [
    "Last check to confirm that the model is good. "
   ]
  },
  {
   "cell_type": "code",
   "execution_count": 2,
   "metadata": {
    "ExecuteTime": {
     "end_time": "2018-03-04T00:14:36.446200Z",
     "start_time": "2018-03-04T00:14:36.333941Z"
    },
    "collapsed": true
   },
   "outputs": [],
   "source": [
    "%load_ext autoreload\n",
    "%autoreload 1"
   ]
  },
  {
   "cell_type": "code",
   "execution_count": 3,
   "metadata": {
    "ExecuteTime": {
     "end_time": "2018-03-04T00:14:36.864525Z",
     "start_time": "2018-03-04T00:14:36.858669Z"
    },
    "collapsed": true
   },
   "outputs": [],
   "source": [
    "import GoH.verify_model\n",
    "import Levenshtein\n",
    "from matplotlib import pyplot as plt\n",
    "import os\n",
    "import pandas as pd\n",
    "import seaborn as sns\n",
    "import sklearn.metrics"
   ]
  },
  {
   "cell_type": "code",
   "execution_count": 4,
   "metadata": {
    "ExecuteTime": {
     "end_time": "2018-03-04T00:14:37.392692Z",
     "start_time": "2018-03-04T00:14:37.383703Z"
    },
    "collapsed": true
   },
   "outputs": [],
   "source": [
    "%matplotlib inline \n",
    "dataDir = \"../../data/\""
   ]
  },
  {
   "cell_type": "code",
   "execution_count": 92,
   "metadata": {
    "ExecuteTime": {
     "end_time": "2018-03-04T01:33:23.491948Z",
     "start_time": "2018-03-04T01:33:23.382311Z"
    },
    "collapsed": true
   },
   "outputs": [],
   "source": [
    "def get_smallest_distance(target_word, listofWords):\n",
    "    values = []\n",
    "    for word in listofWords:\n",
    "        values.append(Levenshtein.distance(target_word, word))\n",
    "    return min(values)\n",
    "    \n",
    "def compare_topics(topicA, topicB):\n",
    "    lowest_values = []\n",
    "    for target_word in topicA:\n",
    "        lowest_values.append(get_smallest_distance(target_word, topicB))\n",
    "    return sum(lowest_values) / 20\n",
    "\n",
    "def compare_models(modelA, modelB):\n",
    "    comparisons = {}\n",
    "    for i in range(250):\n",
    "        topicA = modelA[i][:-1]\n",
    "#         print(topicA)\n",
    "        values = {}\n",
    "        for j in range(250):\n",
    "            topicB = modelB[j][:-1]\n",
    "            distance = compare_topics(topicA, topicB)\n",
    "            values[\"B_{}\".format(j)] = distance\n",
    "        comparisons[\"A_{}\".format(i)] = values\n",
    "    return pd.DataFrame.from_dict(comparisons).unstack().reset_index()\n",
    "\n",
    "\n",
    "def isolate_best_pairs(df):\n",
    "    return (df.groupby(['level_0'])\n",
    "            .apply(lambda x: x.nsmallest(1, columns=0, keep='first'))\n",
    "            .sort_values(by=0, ascending=False)\n",
    "            .drop_duplicates('level_0', keep='last'))\n",
    "\n",
    "\n",
    "def print_topic_pairs(modelA, modelB, topicA, topicB):\n",
    "    print(\"Target: {} \\nBest Match: {}\".format(modelA.loc[topicA][2], modelB.loc[topicB][2]))\n",
    "    \n",
    "\n",
    "def compute_percentage(df, threshold):\n",
    "    return len(df[df[0] <= threshold])/len(df)\n",
    "\n",
    "\n",
    "def process_topicKey_pairs(dfA, dfB):\n",
    "    topicsA = dfA[2].str.split(' ')\n",
    "    topicsB = dfB[2].str.split(' ')\n",
    "    \n",
    "    comparison = compare_models(topicsA, topicsB)\n",
    "    \n",
    "    return isolate_best_pairs(comparison)\n",
    "    "
   ]
  },
  {
   "cell_type": "markdown",
   "metadata": {},
   "source": [
    "## Target Model"
   ]
  },
  {
   "cell_type": "code",
   "execution_count": 79,
   "metadata": {
    "ExecuteTime": {
     "end_time": "2018-03-04T01:27:03.957401Z",
     "start_time": "2018-03-04T01:27:03.939399Z"
    },
    "collapsed": true
   },
   "outputs": [],
   "source": [
    "target = pd.read_table(os.path.join(dataDir, 'target_300_10.18497.topicKeys.txt'), header=None)"
   ]
  },
  {
   "cell_type": "code",
   "execution_count": 81,
   "metadata": {
    "ExecuteTime": {
     "end_time": "2018-03-04T01:27:44.917412Z",
     "start_time": "2018-03-04T01:27:44.892543Z"
    }
   },
   "outputs": [
    {
     "data": {
      "text/html": [
       "<div>\n",
       "<table border=\"1\" class=\"dataframe\">\n",
       "  <thead>\n",
       "    <tr style=\"text-align: right;\">\n",
       "      <th></th>\n",
       "      <th>0</th>\n",
       "      <th>1</th>\n",
       "      <th>2</th>\n",
       "    </tr>\n",
       "  </thead>\n",
       "  <tbody>\n",
       "    <tr>\n",
       "      <th>0</th>\n",
       "      <td>0</td>\n",
       "      <td>0.02981</td>\n",
       "      <td>book canvasser order canvassing brother week s...</td>\n",
       "    </tr>\n",
       "    <tr>\n",
       "      <th>1</th>\n",
       "      <td>1</td>\n",
       "      <td>0.00927</td>\n",
       "      <td>cup water bread egg add cream salt flour milk ...</td>\n",
       "    </tr>\n",
       "    <tr>\n",
       "      <th>2</th>\n",
       "      <td>2</td>\n",
       "      <td>0.03660</td>\n",
       "      <td>ing tion ment sign ness com ter tions great en...</td>\n",
       "    </tr>\n",
       "    <tr>\n",
       "      <th>3</th>\n",
       "      <td>3</td>\n",
       "      <td>0.03036</td>\n",
       "      <td>death man blood men like life hand victim poor...</td>\n",
       "    </tr>\n",
       "    <tr>\n",
       "      <th>4</th>\n",
       "      <td>4</td>\n",
       "      <td>0.02033</td>\n",
       "      <td>shall lord unto faith thing hope trial christ ...</td>\n",
       "    </tr>\n",
       "    <tr>\n",
       "      <th>5</th>\n",
       "      <td>5</td>\n",
       "      <td>0.10352</td>\n",
       "      <td>thing know think way man want let doe right go...</td>\n",
       "    </tr>\n",
       "    <tr>\n",
       "      <th>6</th>\n",
       "      <td>6</td>\n",
       "      <td>0.01276</td>\n",
       "      <td>king daniel babylon jerusalem lord kingdom neb...</td>\n",
       "    </tr>\n",
       "    <tr>\n",
       "      <th>7</th>\n",
       "      <td>7</td>\n",
       "      <td>0.04291</td>\n",
       "      <td>ing lie review end herald ill tie ile tho good...</td>\n",
       "    </tr>\n",
       "    <tr>\n",
       "      <th>8</th>\n",
       "      <td>8</td>\n",
       "      <td>0.01902</td>\n",
       "      <td>prayer lord heart spirit blessing let church m...</td>\n",
       "    </tr>\n",
       "    <tr>\n",
       "      <th>9</th>\n",
       "      <td>9</td>\n",
       "      <td>0.01000</td>\n",
       "      <td>meeting church brother lord sabbath truth held...</td>\n",
       "    </tr>\n",
       "  </tbody>\n",
       "</table>\n",
       "</div>"
      ],
      "text/plain": [
       "   0        1                                                  2\n",
       "0  0  0.02981  book canvasser order canvassing brother week s...\n",
       "1  1  0.00927  cup water bread egg add cream salt flour milk ...\n",
       "2  2  0.03660  ing tion ment sign ness com ter tions great en...\n",
       "3  3  0.03036  death man blood men like life hand victim poor...\n",
       "4  4  0.02033  shall lord unto faith thing hope trial christ ...\n",
       "5  5  0.10352  thing know think way man want let doe right go...\n",
       "6  6  0.01276  king daniel babylon jerusalem lord kingdom neb...\n",
       "7  7  0.04291  ing lie review end herald ill tie ile tho good...\n",
       "8  8  0.01902  prayer lord heart spirit blessing let church m...\n",
       "9  9  0.01000  meeting church brother lord sabbath truth held..."
      ]
     },
     "execution_count": 81,
     "metadata": {},
     "output_type": "execute_result"
    }
   ],
   "source": [
    "target[:10]"
   ]
  },
  {
   "cell_type": "markdown",
   "metadata": {},
   "source": [
    "## Random"
   ]
  },
  {
   "cell_type": "code",
   "execution_count": 80,
   "metadata": {
    "ExecuteTime": {
     "end_time": "2018-03-04T01:27:05.472368Z",
     "start_time": "2018-03-04T01:27:05.463588Z"
    },
    "collapsed": true
   },
   "outputs": [],
   "source": [
    "random = pd.read_table(os.path.join(dataDir, 'random.16195.topicKeys.txt'), header=None)"
   ]
  },
  {
   "cell_type": "code",
   "execution_count": 83,
   "metadata": {
    "ExecuteTime": {
     "end_time": "2018-03-04T01:29:30.850343Z",
     "start_time": "2018-03-04T01:29:16.248658Z"
    },
    "collapsed": true
   },
   "outputs": [],
   "source": [
    "target_random = process_topicKey_pairs(target, random)"
   ]
  },
  {
   "cell_type": "code",
   "execution_count": 93,
   "metadata": {
    "ExecuteTime": {
     "end_time": "2018-03-04T01:33:27.278987Z",
     "start_time": "2018-03-04T01:33:27.268752Z"
    }
   },
   "outputs": [
    {
     "name": "stdout",
     "output_type": "stream",
     "text": [
      "Target: church luther reformation persecution reformer faith protestant history century great pope death doctrine inquisition men john martyr rome truth heretic  \n",
      "Best Match: england slave slavery persecution colony puritan church new death john history english quaker free prison baptist person massachusetts master old \n"
     ]
    }
   ],
   "source": [
    "print_topic_pairs(target, random, 211, 214)"
   ]
  },
  {
   "cell_type": "code",
   "execution_count": 94,
   "metadata": {
    "ExecuteTime": {
     "end_time": "2018-03-04T01:33:43.742335Z",
     "start_time": "2018-03-04T01:33:43.735927Z"
    }
   },
   "outputs": [
    {
     "name": "stdout",
     "output_type": "stream",
     "text": [
      "Target: war peace nation world men great shall earth europe battle let sword armageddon army prophecy preparation spirit strife conflict international  \n",
      "Best Match: war peace nation world europe great germany power france england russia men army state military navy international united government european \n"
     ]
    }
   ],
   "source": [
    "print_topic_pairs(target, random, 163, 56)"
   ]
  },
  {
   "cell_type": "code",
   "execution_count": 95,
   "metadata": {
    "ExecuteTime": {
     "end_time": "2018-03-04T01:33:53.942591Z",
     "start_time": "2018-03-04T01:33:53.932686Z"
    }
   },
   "outputs": [
    {
     "name": "stdout",
     "output_type": "stream",
     "text": [
      "Target: england london english king great british queen country new colony scotland america ireland britain house john old parliament william sir  \n",
      "Best Match: england slave slavery persecution colony puritan church new death john history english quaker free prison baptist person massachusetts master old \n"
     ]
    }
   ],
   "source": [
    "print_topic_pairs(target, random, 57, 214)"
   ]
  },
  {
   "cell_type": "code",
   "execution_count": 96,
   "metadata": {
    "ExecuteTime": {
     "end_time": "2018-03-04T01:34:06.679091Z",
     "start_time": "2018-03-04T01:34:06.670731Z"
    }
   },
   "outputs": [
    {
     "data": {
      "text/plain": [
       "0.96"
      ]
     },
     "execution_count": 96,
     "metadata": {},
     "output_type": "execute_result"
    }
   ],
   "source": [
    "compute_percentage(target_random, 2.3)"
   ]
  },
  {
   "cell_type": "markdown",
   "metadata": {},
   "source": [
    "## Test 300 25"
   ]
  },
  {
   "cell_type": "code",
   "execution_count": 97,
   "metadata": {
    "ExecuteTime": {
     "end_time": "2018-03-04T01:35:17.560596Z",
     "start_time": "2018-03-04T01:35:17.548150Z"
    }
   },
   "outputs": [],
   "source": [
    "test30025 = pd.read_table(os.path.join(dataDir, 'test_300_25.9075.topicKeys.txt'), header=None)"
   ]
  },
  {
   "cell_type": "code",
   "execution_count": 98,
   "metadata": {
    "ExecuteTime": {
     "end_time": "2018-03-04T01:35:38.814249Z",
     "start_time": "2018-03-04T01:35:23.035540Z"
    },
    "collapsed": true
   },
   "outputs": [],
   "source": [
    "target_test30025 = process_topicKey_pairs(target, test30025)"
   ]
  },
  {
   "cell_type": "code",
   "execution_count": 105,
   "metadata": {
    "ExecuteTime": {
     "end_time": "2018-03-04T01:38:35.310359Z",
     "start_time": "2018-03-04T01:38:35.287095Z"
    }
   },
   "outputs": [
    {
     "data": {
      "text/html": [
       "<div>\n",
       "<table border=\"1\" class=\"dataframe\">\n",
       "  <thead>\n",
       "    <tr style=\"text-align: right;\">\n",
       "      <th></th>\n",
       "      <th></th>\n",
       "      <th>level_0</th>\n",
       "      <th>level_1</th>\n",
       "      <th>0</th>\n",
       "    </tr>\n",
       "    <tr>\n",
       "      <th>level_0</th>\n",
       "      <th></th>\n",
       "      <th></th>\n",
       "      <th></th>\n",
       "      <th></th>\n",
       "    </tr>\n",
       "  </thead>\n",
       "  <tbody>\n",
       "    <tr>\n",
       "      <th>A_85</th>\n",
       "      <th>58692</th>\n",
       "      <td>A_85</td>\n",
       "      <td>B_47</td>\n",
       "      <td>2.70</td>\n",
       "    </tr>\n",
       "    <tr>\n",
       "      <th>A_48</th>\n",
       "      <th>48415</th>\n",
       "      <td>A_48</td>\n",
       "      <td>B_247</td>\n",
       "      <td>2.65</td>\n",
       "    </tr>\n",
       "    <tr>\n",
       "      <th>A_124</th>\n",
       "      <th>7386</th>\n",
       "      <td>A_124</td>\n",
       "      <td>B_220</td>\n",
       "      <td>2.65</td>\n",
       "    </tr>\n",
       "    <tr>\n",
       "      <th>A_227</th>\n",
       "      <th>35968</th>\n",
       "      <td>A_227</td>\n",
       "      <td>B_70</td>\n",
       "      <td>2.50</td>\n",
       "    </tr>\n",
       "    <tr>\n",
       "      <th>A_221</th>\n",
       "      <th>34467</th>\n",
       "      <td>A_221</td>\n",
       "      <td>B_7</td>\n",
       "      <td>2.50</td>\n",
       "    </tr>\n",
       "    <tr>\n",
       "      <th>A_106</th>\n",
       "      <th>2417</th>\n",
       "      <td>A_106</td>\n",
       "      <td>B_249</td>\n",
       "      <td>2.40</td>\n",
       "    </tr>\n",
       "    <tr>\n",
       "      <th>A_29</th>\n",
       "      <th>43033</th>\n",
       "      <td>A_29</td>\n",
       "      <td>B_128</td>\n",
       "      <td>2.40</td>\n",
       "    </tr>\n",
       "    <tr>\n",
       "      <th>A_159</th>\n",
       "      <th>16772</th>\n",
       "      <td>A_159</td>\n",
       "      <td>B_118</td>\n",
       "      <td>2.35</td>\n",
       "    </tr>\n",
       "    <tr>\n",
       "      <th>A_212</th>\n",
       "      <th>31753</th>\n",
       "      <td>A_212</td>\n",
       "      <td>B_100</td>\n",
       "      <td>2.30</td>\n",
       "    </tr>\n",
       "    <tr>\n",
       "      <th>A_89</th>\n",
       "      <th>59594</th>\n",
       "      <td>A_89</td>\n",
       "      <td>B_183</td>\n",
       "      <td>2.30</td>\n",
       "    </tr>\n",
       "    <tr>\n",
       "      <th>A_63</th>\n",
       "      <th>52685</th>\n",
       "      <td>A_63</td>\n",
       "      <td>B_40</td>\n",
       "      <td>2.25</td>\n",
       "    </tr>\n",
       "    <tr>\n",
       "      <th>A_155</th>\n",
       "      <th>15840</th>\n",
       "      <td>A_155</td>\n",
       "      <td>B_18</td>\n",
       "      <td>2.25</td>\n",
       "    </tr>\n",
       "    <tr>\n",
       "      <th>A_146</th>\n",
       "      <th>13324</th>\n",
       "      <td>A_146</td>\n",
       "      <td>B_165</td>\n",
       "      <td>2.25</td>\n",
       "    </tr>\n",
       "    <tr>\n",
       "      <th>A_123</th>\n",
       "      <th>7234</th>\n",
       "      <td>A_123</td>\n",
       "      <td>B_85</td>\n",
       "      <td>2.20</td>\n",
       "    </tr>\n",
       "    <tr>\n",
       "      <th>A_136</th>\n",
       "      <th>10560</th>\n",
       "      <td>A_136</td>\n",
       "      <td>B_152</td>\n",
       "      <td>2.20</td>\n",
       "    </tr>\n",
       "  </tbody>\n",
       "</table>\n",
       "</div>"
      ],
      "text/plain": [
       "              level_0 level_1     0\n",
       "level_0                            \n",
       "A_85    58692    A_85    B_47  2.70\n",
       "A_48    48415    A_48   B_247  2.65\n",
       "A_124   7386    A_124   B_220  2.65\n",
       "A_227   35968   A_227    B_70  2.50\n",
       "A_221   34467   A_221     B_7  2.50\n",
       "A_106   2417    A_106   B_249  2.40\n",
       "A_29    43033    A_29   B_128  2.40\n",
       "A_159   16772   A_159   B_118  2.35\n",
       "A_212   31753   A_212   B_100  2.30\n",
       "A_89    59594    A_89   B_183  2.30\n",
       "A_63    52685    A_63    B_40  2.25\n",
       "A_155   15840   A_155    B_18  2.25\n",
       "A_146   13324   A_146   B_165  2.25\n",
       "A_123   7234    A_123    B_85  2.20\n",
       "A_136   10560   A_136   B_152  2.20"
      ]
     },
     "execution_count": 105,
     "metadata": {},
     "output_type": "execute_result"
    }
   ],
   "source": [
    "target_test30025[:15]"
   ]
  },
  {
   "cell_type": "code",
   "execution_count": 99,
   "metadata": {
    "ExecuteTime": {
     "end_time": "2018-03-04T01:35:38.821981Z",
     "start_time": "2018-03-04T01:35:38.816120Z"
    }
   },
   "outputs": [
    {
     "name": "stdout",
     "output_type": "stream",
     "text": [
      "Target: hour sleep night rest morning clock bed minute evening half long tired life breakfast meal week early mind good worry  \n",
      "Best Match: exercise sleep health life hour physical rest body mental brain nervous mind strength habit night nerve good man nature condition \n"
     ]
    }
   ],
   "source": [
    "print_topic_pairs(target, test30025, 136, 152)"
   ]
  },
  {
   "cell_type": "code",
   "execution_count": 100,
   "metadata": {
    "ExecuteTime": {
     "end_time": "2018-03-04T01:35:43.427825Z",
     "start_time": "2018-03-04T01:35:43.421565Z"
    }
   },
   "outputs": [
    {
     "name": "stdout",
     "output_type": "stream",
     "text": [
      "Target: game amusement play theater pleasure ball dance social playing sport entertainment recreation picture dancing card party place evening young club  \n",
      "Best Match: city woman men evil crime moral public theater game society new vice york picture social amusement play street thing country \n"
     ]
    }
   ],
   "source": [
    "print_topic_pairs(target, test30025, 85, 47)"
   ]
  },
  {
   "cell_type": "code",
   "execution_count": 101,
   "metadata": {
    "ExecuteTime": {
     "end_time": "2018-03-04T01:35:53.054431Z",
     "start_time": "2018-03-04T01:35:53.042245Z"
    }
   },
   "outputs": [
    {
     "data": {
      "text/plain": [
       "0.968"
      ]
     },
     "execution_count": 101,
     "metadata": {},
     "output_type": "execute_result"
    }
   ],
   "source": [
    "compute_percentage(target_test30025, 2.3)"
   ]
  },
  {
   "cell_type": "markdown",
   "metadata": {},
   "source": [
    "## Test 300 no_max"
   ]
  },
  {
   "cell_type": "code",
   "execution_count": 103,
   "metadata": {
    "ExecuteTime": {
     "end_time": "2018-03-04T01:37:36.423960Z",
     "start_time": "2018-03-04T01:37:36.414700Z"
    },
    "collapsed": true
   },
   "outputs": [],
   "source": [
    "test_300noMax = pd.read_table(os.path.join(dataDir, 'test_300_noMax.18040.topicKeys.txt'), header=None)"
   ]
  },
  {
   "cell_type": "code",
   "execution_count": 104,
   "metadata": {
    "ExecuteTime": {
     "end_time": "2018-03-04T01:38:21.188974Z",
     "start_time": "2018-03-04T01:38:07.259223Z"
    },
    "collapsed": true
   },
   "outputs": [],
   "source": [
    "target_test300noMax = process_topicKey_pairs(target, test_300noMax)"
   ]
  },
  {
   "cell_type": "code",
   "execution_count": 107,
   "metadata": {
    "ExecuteTime": {
     "end_time": "2018-03-04T01:38:59.424745Z",
     "start_time": "2018-03-04T01:38:59.405552Z"
    }
   },
   "outputs": [
    {
     "data": {
      "text/html": [
       "<div>\n",
       "<table border=\"1\" class=\"dataframe\">\n",
       "  <thead>\n",
       "    <tr style=\"text-align: right;\">\n",
       "      <th></th>\n",
       "      <th></th>\n",
       "      <th>level_0</th>\n",
       "      <th>level_1</th>\n",
       "      <th>0</th>\n",
       "    </tr>\n",
       "    <tr>\n",
       "      <th>level_0</th>\n",
       "      <th></th>\n",
       "      <th></th>\n",
       "      <th></th>\n",
       "      <th></th>\n",
       "    </tr>\n",
       "  </thead>\n",
       "  <tbody>\n",
       "    <tr>\n",
       "      <th>A_54</th>\n",
       "      <th>50030</th>\n",
       "      <td>A_54</td>\n",
       "      <td>B_125</td>\n",
       "      <td>2.85</td>\n",
       "    </tr>\n",
       "    <tr>\n",
       "      <th>A_32</th>\n",
       "      <th>44098</th>\n",
       "      <td>A_32</td>\n",
       "      <td>B_187</td>\n",
       "      <td>2.85</td>\n",
       "    </tr>\n",
       "    <tr>\n",
       "      <th>A_48</th>\n",
       "      <th>48491</th>\n",
       "      <td>A_48</td>\n",
       "      <td>B_91</td>\n",
       "      <td>2.65</td>\n",
       "    </tr>\n",
       "    <tr>\n",
       "      <th>A_29</th>\n",
       "      <th>43102</th>\n",
       "      <td>A_29</td>\n",
       "      <td>B_190</td>\n",
       "      <td>2.60</td>\n",
       "    </tr>\n",
       "    <tr>\n",
       "      <th>A_56</th>\n",
       "      <th>50643</th>\n",
       "      <td>A_56</td>\n",
       "      <td>B_227</td>\n",
       "      <td>2.55</td>\n",
       "    </tr>\n",
       "    <tr>\n",
       "      <th>A_124</th>\n",
       "      <th>7318</th>\n",
       "      <td>A_124</td>\n",
       "      <td>B_16</td>\n",
       "      <td>2.50</td>\n",
       "    </tr>\n",
       "    <tr>\n",
       "      <th>A_167</th>\n",
       "      <th>19187</th>\n",
       "      <td>A_167</td>\n",
       "      <td>B_42</td>\n",
       "      <td>2.50</td>\n",
       "    </tr>\n",
       "    <tr>\n",
       "      <th>A_218</th>\n",
       "      <th>33310</th>\n",
       "      <td>A_218</td>\n",
       "      <td>B_152</td>\n",
       "      <td>2.45</td>\n",
       "    </tr>\n",
       "    <tr>\n",
       "      <th>A_227</th>\n",
       "      <th>35981</th>\n",
       "      <td>A_227</td>\n",
       "      <td>B_82</td>\n",
       "      <td>2.40</td>\n",
       "    </tr>\n",
       "    <tr>\n",
       "      <th>A_39</th>\n",
       "      <th>45854</th>\n",
       "      <td>A_39</td>\n",
       "      <td>B_192</td>\n",
       "      <td>2.35</td>\n",
       "    </tr>\n",
       "    <tr>\n",
       "      <th>A_134</th>\n",
       "      <th>10123</th>\n",
       "      <td>A_134</td>\n",
       "      <td>B_209</td>\n",
       "      <td>2.35</td>\n",
       "    </tr>\n",
       "    <tr>\n",
       "      <th>A_169</th>\n",
       "      <th>19575</th>\n",
       "      <td>A_169</td>\n",
       "      <td>B_166</td>\n",
       "      <td>2.35</td>\n",
       "    </tr>\n",
       "    <tr>\n",
       "      <th>A_171</th>\n",
       "      <th>20489</th>\n",
       "      <td>A_171</td>\n",
       "      <td>B_9</td>\n",
       "      <td>2.35</td>\n",
       "    </tr>\n",
       "    <tr>\n",
       "      <th>A_93</th>\n",
       "      <th>60894</th>\n",
       "      <td>A_93</td>\n",
       "      <td>B_228</td>\n",
       "      <td>2.35</td>\n",
       "    </tr>\n",
       "    <tr>\n",
       "      <th>A_183</th>\n",
       "      <th>23644</th>\n",
       "      <td>A_183</td>\n",
       "      <td>B_228</td>\n",
       "      <td>2.35</td>\n",
       "    </tr>\n",
       "  </tbody>\n",
       "</table>\n",
       "</div>"
      ],
      "text/plain": [
       "              level_0 level_1     0\n",
       "level_0                            \n",
       "A_54    50030    A_54   B_125  2.85\n",
       "A_32    44098    A_32   B_187  2.85\n",
       "A_48    48491    A_48    B_91  2.65\n",
       "A_29    43102    A_29   B_190  2.60\n",
       "A_56    50643    A_56   B_227  2.55\n",
       "A_124   7318    A_124    B_16  2.50\n",
       "A_167   19187   A_167    B_42  2.50\n",
       "A_218   33310   A_218   B_152  2.45\n",
       "A_227   35981   A_227    B_82  2.40\n",
       "A_39    45854    A_39   B_192  2.35\n",
       "A_134   10123   A_134   B_209  2.35\n",
       "A_169   19575   A_169   B_166  2.35\n",
       "A_171   20489   A_171     B_9  2.35\n",
       "A_93    60894    A_93   B_228  2.35\n",
       "A_183   23644   A_183   B_228  2.35"
      ]
     },
     "execution_count": 107,
     "metadata": {},
     "output_type": "execute_result"
    }
   ],
   "source": [
    "target_test300noMax[:15]"
   ]
  },
  {
   "cell_type": "code",
   "execution_count": 75,
   "metadata": {
    "ExecuteTime": {
     "end_time": "2018-03-04T00:57:37.758991Z",
     "start_time": "2018-03-04T00:57:37.753120Z"
    }
   },
   "outputs": [
    {
     "name": "stdout",
     "output_type": "stream",
     "text": [
      "Target: spring berrien mich office michigan address lake_union_conference secretary lake_union herald missionary emmanuel college blosser president conference russell word sent allen_moon  \n",
      "Best Match: address michigan mich president office chicago illinois lake wisconsin conference spring conference_office miss berrien secretary lake_union_herald sec north church ill \n"
     ]
    }
   ],
   "source": [
    "print_topic_pairs(target_topics, test_300noMax_topics, 54, 125)"
   ]
  },
  {
   "cell_type": "code",
   "execution_count": 76,
   "metadata": {
    "ExecuteTime": {
     "end_time": "2018-03-04T00:58:09.597207Z",
     "start_time": "2018-03-04T00:58:09.591300Z"
    }
   },
   "outputs": [
    {
     "name": "stdout",
     "output_type": "stream",
     "text": [
      "Target: disease alcohol life cause case fact result age effect person condition cancer experiment physical mental physician death increase men medical  \n",
      "Best Match: disease germ health tuberculosis case infection epidemic patient child cause medical death fever physician life hygiene plague typhoid diphtheria water \n"
     ]
    }
   ],
   "source": [
    "print_topic_pairs(target_topics, test_300noMax_topics, 183, 228)"
   ]
  },
  {
   "cell_type": "code",
   "execution_count": 108,
   "metadata": {
    "ExecuteTime": {
     "end_time": "2018-03-04T01:39:37.089636Z",
     "start_time": "2018-03-04T01:39:37.083485Z"
    }
   },
   "outputs": [
    {
     "data": {
      "text/plain": [
       "0.94"
      ]
     },
     "execution_count": 108,
     "metadata": {},
     "output_type": "execute_result"
    }
   ],
   "source": [
    "compute_percentage(target_test300noMax, 2.3)"
   ]
  },
  {
   "cell_type": "code",
   "execution_count": null,
   "metadata": {
    "collapsed": true
   },
   "outputs": [],
   "source": []
  }
 ],
 "metadata": {
  "anaconda-cloud": {},
  "kernelspec": {
   "display_name": "Python [conda env:dissertation2]",
   "language": "python",
   "name": "conda-env-dissertation2-py"
  },
  "language_info": {
   "codemirror_mode": {
    "name": "ipython",
    "version": 3
   },
   "file_extension": ".py",
   "mimetype": "text/x-python",
   "name": "python",
   "nbconvert_exporter": "python",
   "pygments_lexer": "ipython3",
   "version": "3.5.2"
  }
 },
 "nbformat": 4,
 "nbformat_minor": 2
}
